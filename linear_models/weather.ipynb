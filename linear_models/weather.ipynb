{
 "cells": [
  {
   "cell_type": "markdown",
   "metadata": {},
   "source": [
    "### <a id='sec'> Содержание: </a>\n",
    "1. [Описание задания](#sec1)\n",
    "2. [Описание данных](#sec2)\n",
    "3. [Загрузка выборки и первичный анализ данных](#sec3)\n",
    "4. [Предобработка данных](#sec4)\n",
    "5. [Начало работы с моделями](#sec5)\n",
    "6. [Оценка качества различных моделей](#sec6)\n",
    "7. [Выводы](#sec6)"
   ]
  },
  {
   "cell_type": "markdown",
   "metadata": {},
   "source": [
    "### <a id='sec1'> Описание задания </a>\n",
    "\n",
    "**Problem 1.**\n",
    "\n",
    "В качестве домашнего задания вам предлагается поработать над предсказанием погоды в Австралии. Файл с данными вы найдете в соответствующей директории. Вам будет доступен датасет weatherAUS.csv, ПЕРВЫЕ 75% (shuffle = False) которого нужно взять для обучения, последние 25% - для тестирования.\n",
    "\n",
    "Требуется построить 3 модели которые будут предсказывать целевую переменную RainTomorrow:\n",
    "\n",
    "    С помощью Байесовских классификаторов\n",
    "    С помощью логистической регрессии\n",
    "    С помощью метода ближайших соседей\n",
    "\n",
    "Затем следует сравнить результаты моделей (по качеству и времени выполнения) и сделать вывод о том, какая модель и с какими параметрами даёт лучшие результаты.\n",
    "В конце ноутбука должны быть четко описаны полученные результаты и метрики.\n",
    "\n",
    "Не забывайте о том, что работа с признаками играет очень большую роль в построении хорошей модели.\n",
    "\n",
    "[вернуться в содержание](#sec)"
   ]
  },
  {
   "cell_type": "markdown",
   "metadata": {},
   "source": [
    "### <a id='sec2'> Описание данных </a>\n",
    "\n",
    "    Date - Дата наблюдений\n",
    "    Location - Название локации, в которой расположена метеорологическая станция\n",
    "    MinTemp - Минимальная температура в градусах цельсия\n",
    "    MaxTemp - Максимальная температура в градусах цельсия\n",
    "    Rainfall - Количество осадков, зафиксированных за день в мм\n",
    "    Evaporation - Так называемое \"pan evaporation\" класса А (мм) за 24 часа до 9 утра\n",
    "    Sunshine - Число солнечных часов за день\n",
    "    WindGustDir - направление самого сильного порыва ветра за последние 24 часа\n",
    "    WindGustSpeed - скорость (км / ч) самого сильного порыва ветра за последние 24 часа\n",
    "    WindDir9am - направление ветра в 9 утра\n",
    "    \n",
    "[вернуться в содержание](#sec)"
   ]
  },
  {
   "cell_type": "code",
   "execution_count": 1,
   "metadata": {},
   "outputs": [],
   "source": [
    "import pandas as pd\n",
    "import numpy as np\n",
    "import matplotlib.pyplot as plt\n",
    "import seaborn as sns\n",
    "from IPython.display import display\n",
    "%matplotlib inline\n",
    "\n",
    "from sklearn.model_selection import train_test_split\n",
    "\n",
    "from sklearn.naive_bayes import BernoulliNB\n",
    "from sklearn.naive_bayes import MultinomialNB\n",
    "from sklearn.naive_bayes import GaussianNB\n",
    "\n",
    "from sklearn.linear_model import LogisticRegression\n",
    "\n",
    "from sklearn.neighbors import KNeighborsClassifier\n",
    "\n",
    "from sklearn.metrics import accuracy_score\n",
    "from sklearn.metrics import precision_score\n",
    "from sklearn.metrics import recall_score\n",
    "from sklearn.metrics import f1_score\n",
    "\n",
    "from time import time"
   ]
  },
  {
   "cell_type": "markdown",
   "metadata": {},
   "source": [
    "### <a id='sec3'> Загрузка выборки и первичный анализ данных </a>"
   ]
  },
  {
   "cell_type": "code",
   "execution_count": 2,
   "metadata": {},
   "outputs": [],
   "source": [
    "df = pd.read_csv('weatherAUS.csv')"
   ]
  },
  {
   "cell_type": "code",
   "execution_count": 3,
   "metadata": {},
   "outputs": [
    {
     "data": {
      "text/html": [
       "<div>\n",
       "<style scoped>\n",
       "    .dataframe tbody tr th:only-of-type {\n",
       "        vertical-align: middle;\n",
       "    }\n",
       "\n",
       "    .dataframe tbody tr th {\n",
       "        vertical-align: top;\n",
       "    }\n",
       "\n",
       "    .dataframe thead th {\n",
       "        text-align: right;\n",
       "    }\n",
       "</style>\n",
       "<table border=\"1\" class=\"dataframe\">\n",
       "  <thead>\n",
       "    <tr style=\"text-align: right;\">\n",
       "      <th></th>\n",
       "      <th>Date</th>\n",
       "      <th>Location</th>\n",
       "      <th>MinTemp</th>\n",
       "      <th>MaxTemp</th>\n",
       "      <th>Rainfall</th>\n",
       "      <th>Evaporation</th>\n",
       "      <th>Sunshine</th>\n",
       "      <th>WindGustDir</th>\n",
       "      <th>WindGustSpeed</th>\n",
       "      <th>WindDir9am</th>\n",
       "      <th>...</th>\n",
       "      <th>Humidity9am</th>\n",
       "      <th>Humidity3pm</th>\n",
       "      <th>Pressure9am</th>\n",
       "      <th>Pressure3pm</th>\n",
       "      <th>Cloud9am</th>\n",
       "      <th>Cloud3pm</th>\n",
       "      <th>Temp9am</th>\n",
       "      <th>Temp3pm</th>\n",
       "      <th>RainToday</th>\n",
       "      <th>RainTomorrow</th>\n",
       "    </tr>\n",
       "  </thead>\n",
       "  <tbody>\n",
       "    <tr>\n",
       "      <th>0</th>\n",
       "      <td>2008-12-01</td>\n",
       "      <td>Albury</td>\n",
       "      <td>13.4</td>\n",
       "      <td>22.9</td>\n",
       "      <td>0.6</td>\n",
       "      <td>NaN</td>\n",
       "      <td>NaN</td>\n",
       "      <td>W</td>\n",
       "      <td>44.0</td>\n",
       "      <td>W</td>\n",
       "      <td>...</td>\n",
       "      <td>71.0</td>\n",
       "      <td>22.0</td>\n",
       "      <td>1007.7</td>\n",
       "      <td>1007.1</td>\n",
       "      <td>8.0</td>\n",
       "      <td>NaN</td>\n",
       "      <td>16.9</td>\n",
       "      <td>21.8</td>\n",
       "      <td>No</td>\n",
       "      <td>No</td>\n",
       "    </tr>\n",
       "    <tr>\n",
       "      <th>1</th>\n",
       "      <td>2008-12-02</td>\n",
       "      <td>Albury</td>\n",
       "      <td>7.4</td>\n",
       "      <td>25.1</td>\n",
       "      <td>0.0</td>\n",
       "      <td>NaN</td>\n",
       "      <td>NaN</td>\n",
       "      <td>WNW</td>\n",
       "      <td>44.0</td>\n",
       "      <td>NNW</td>\n",
       "      <td>...</td>\n",
       "      <td>44.0</td>\n",
       "      <td>25.0</td>\n",
       "      <td>1010.6</td>\n",
       "      <td>1007.8</td>\n",
       "      <td>NaN</td>\n",
       "      <td>NaN</td>\n",
       "      <td>17.2</td>\n",
       "      <td>24.3</td>\n",
       "      <td>No</td>\n",
       "      <td>No</td>\n",
       "    </tr>\n",
       "    <tr>\n",
       "      <th>2</th>\n",
       "      <td>2008-12-03</td>\n",
       "      <td>Albury</td>\n",
       "      <td>12.9</td>\n",
       "      <td>25.7</td>\n",
       "      <td>0.0</td>\n",
       "      <td>NaN</td>\n",
       "      <td>NaN</td>\n",
       "      <td>WSW</td>\n",
       "      <td>46.0</td>\n",
       "      <td>W</td>\n",
       "      <td>...</td>\n",
       "      <td>38.0</td>\n",
       "      <td>30.0</td>\n",
       "      <td>1007.6</td>\n",
       "      <td>1008.7</td>\n",
       "      <td>NaN</td>\n",
       "      <td>2.0</td>\n",
       "      <td>21.0</td>\n",
       "      <td>23.2</td>\n",
       "      <td>No</td>\n",
       "      <td>No</td>\n",
       "    </tr>\n",
       "    <tr>\n",
       "      <th>3</th>\n",
       "      <td>2008-12-04</td>\n",
       "      <td>Albury</td>\n",
       "      <td>9.2</td>\n",
       "      <td>28.0</td>\n",
       "      <td>0.0</td>\n",
       "      <td>NaN</td>\n",
       "      <td>NaN</td>\n",
       "      <td>NE</td>\n",
       "      <td>24.0</td>\n",
       "      <td>SE</td>\n",
       "      <td>...</td>\n",
       "      <td>45.0</td>\n",
       "      <td>16.0</td>\n",
       "      <td>1017.6</td>\n",
       "      <td>1012.8</td>\n",
       "      <td>NaN</td>\n",
       "      <td>NaN</td>\n",
       "      <td>18.1</td>\n",
       "      <td>26.5</td>\n",
       "      <td>No</td>\n",
       "      <td>No</td>\n",
       "    </tr>\n",
       "    <tr>\n",
       "      <th>4</th>\n",
       "      <td>2008-12-05</td>\n",
       "      <td>Albury</td>\n",
       "      <td>17.5</td>\n",
       "      <td>32.3</td>\n",
       "      <td>1.0</td>\n",
       "      <td>NaN</td>\n",
       "      <td>NaN</td>\n",
       "      <td>W</td>\n",
       "      <td>41.0</td>\n",
       "      <td>ENE</td>\n",
       "      <td>...</td>\n",
       "      <td>82.0</td>\n",
       "      <td>33.0</td>\n",
       "      <td>1010.8</td>\n",
       "      <td>1006.0</td>\n",
       "      <td>7.0</td>\n",
       "      <td>8.0</td>\n",
       "      <td>17.8</td>\n",
       "      <td>29.7</td>\n",
       "      <td>No</td>\n",
       "      <td>No</td>\n",
       "    </tr>\n",
       "  </tbody>\n",
       "</table>\n",
       "<p>5 rows × 23 columns</p>\n",
       "</div>"
      ],
      "text/plain": [
       "         Date Location  MinTemp  MaxTemp  Rainfall  Evaporation  Sunshine  \\\n",
       "0  2008-12-01   Albury     13.4     22.9       0.6          NaN       NaN   \n",
       "1  2008-12-02   Albury      7.4     25.1       0.0          NaN       NaN   \n",
       "2  2008-12-03   Albury     12.9     25.7       0.0          NaN       NaN   \n",
       "3  2008-12-04   Albury      9.2     28.0       0.0          NaN       NaN   \n",
       "4  2008-12-05   Albury     17.5     32.3       1.0          NaN       NaN   \n",
       "\n",
       "  WindGustDir  WindGustSpeed WindDir9am  ... Humidity9am  Humidity3pm  \\\n",
       "0           W           44.0          W  ...        71.0         22.0   \n",
       "1         WNW           44.0        NNW  ...        44.0         25.0   \n",
       "2         WSW           46.0          W  ...        38.0         30.0   \n",
       "3          NE           24.0         SE  ...        45.0         16.0   \n",
       "4           W           41.0        ENE  ...        82.0         33.0   \n",
       "\n",
       "   Pressure9am  Pressure3pm  Cloud9am  Cloud3pm  Temp9am  Temp3pm  RainToday  \\\n",
       "0       1007.7       1007.1       8.0       NaN     16.9     21.8         No   \n",
       "1       1010.6       1007.8       NaN       NaN     17.2     24.3         No   \n",
       "2       1007.6       1008.7       NaN       2.0     21.0     23.2         No   \n",
       "3       1017.6       1012.8       NaN       NaN     18.1     26.5         No   \n",
       "4       1010.8       1006.0       7.0       8.0     17.8     29.7         No   \n",
       "\n",
       "   RainTomorrow  \n",
       "0            No  \n",
       "1            No  \n",
       "2            No  \n",
       "3            No  \n",
       "4            No  \n",
       "\n",
       "[5 rows x 23 columns]"
      ]
     },
     "execution_count": 3,
     "metadata": {},
     "output_type": "execute_result"
    }
   ],
   "source": [
    "df.head()"
   ]
  },
  {
   "cell_type": "code",
   "execution_count": 4,
   "metadata": {},
   "outputs": [
    {
     "data": {
      "text/plain": [
       "(145460, 23)"
      ]
     },
     "execution_count": 4,
     "metadata": {},
     "output_type": "execute_result"
    }
   ],
   "source": [
    "df.shape"
   ]
  },
  {
   "cell_type": "code",
   "execution_count": 5,
   "metadata": {},
   "outputs": [
    {
     "name": "stdout",
     "output_type": "stream",
     "text": [
      "<class 'pandas.core.frame.DataFrame'>\n",
      "RangeIndex: 145460 entries, 0 to 145459\n",
      "Data columns (total 23 columns):\n",
      " #   Column         Non-Null Count   Dtype  \n",
      "---  ------         --------------   -----  \n",
      " 0   Date           145460 non-null  object \n",
      " 1   Location       145460 non-null  object \n",
      " 2   MinTemp        143975 non-null  float64\n",
      " 3   MaxTemp        144199 non-null  float64\n",
      " 4   Rainfall       142199 non-null  float64\n",
      " 5   Evaporation    82670 non-null   float64\n",
      " 6   Sunshine       75625 non-null   float64\n",
      " 7   WindGustDir    135134 non-null  object \n",
      " 8   WindGustSpeed  135197 non-null  float64\n",
      " 9   WindDir9am     134894 non-null  object \n",
      " 10  WindDir3pm     141232 non-null  object \n",
      " 11  WindSpeed9am   143693 non-null  float64\n",
      " 12  WindSpeed3pm   142398 non-null  float64\n",
      " 13  Humidity9am    142806 non-null  float64\n",
      " 14  Humidity3pm    140953 non-null  float64\n",
      " 15  Pressure9am    130395 non-null  float64\n",
      " 16  Pressure3pm    130432 non-null  float64\n",
      " 17  Cloud9am       89572 non-null   float64\n",
      " 18  Cloud3pm       86102 non-null   float64\n",
      " 19  Temp9am        143693 non-null  float64\n",
      " 20  Temp3pm        141851 non-null  float64\n",
      " 21  RainToday      142199 non-null  object \n",
      " 22  RainTomorrow   142193 non-null  object \n",
      "dtypes: float64(16), object(7)\n",
      "memory usage: 25.5+ MB\n"
     ]
    }
   ],
   "source": [
    "df.info()"
   ]
  },
  {
   "cell_type": "code",
   "execution_count": 6,
   "metadata": {},
   "outputs": [
    {
     "data": {
      "image/png": "[encoded data removed]",
      "text/plain": [
       "<Figure size 720x720 with 16 Axes>"
      ]
     },
     "metadata": {
      "needs_background": "light"
     },
     "output_type": "display_data"
    }
   ],
   "source": [
    "df.hist(figsize=(10, 10));"
   ]
  },
  {
   "cell_type": "markdown",
   "metadata": {},
   "source": [
    "**Вывод:** данные требуют предобработки: необходимо разобраться с пропусками в данных (где-то, возможно, просто удалить, где-то обработать), привести к необходимым типам данных, найти коррелированные признаки.\n",
    "\n",
    "[вернуться в содержание](#sec)"
   ]
  },
  {
   "cell_type": "markdown",
   "metadata": {},
   "source": [
    "### <a id='sec4'> Предобработка данных </a>"
   ]
  },
  {
   "cell_type": "code",
   "execution_count": 7,
   "metadata": {},
   "outputs": [
    {
     "data": {
      "text/plain": [
       "0"
      ]
     },
     "execution_count": 7,
     "metadata": {},
     "output_type": "execute_result"
    }
   ],
   "source": [
    "df.duplicated().sum()"
   ]
  },
  {
   "cell_type": "code",
   "execution_count": 8,
   "metadata": {},
   "outputs": [
    {
     "data": {
      "text/plain": [
       "Date                 0\n",
       "Location             0\n",
       "MinTemp           1485\n",
       "MaxTemp           1261\n",
       "Rainfall          3261\n",
       "Evaporation      62790\n",
       "Sunshine         69835\n",
       "WindGustDir      10326\n",
       "WindGustSpeed    10263\n",
       "WindDir9am       10566\n",
       "WindDir3pm        4228\n",
       "WindSpeed9am      1767\n",
       "WindSpeed3pm      3062\n",
       "Humidity9am       2654\n",
       "Humidity3pm       4507\n",
       "Pressure9am      15065\n",
       "Pressure3pm      15028\n",
       "Cloud9am         55888\n",
       "Cloud3pm         59358\n",
       "Temp9am           1767\n",
       "Temp3pm           3609\n",
       "RainToday         3261\n",
       "RainTomorrow      3267\n",
       "dtype: int64"
      ]
     },
     "execution_count": 8,
     "metadata": {},
     "output_type": "execute_result"
    }
   ],
   "source": [
    "df.isna().sum()"
   ]
  },
  {
   "cell_type": "markdown",
   "metadata": {},
   "source": [
    "Удалим пропущенные значения в признаках, которые требуют предсказания."
   ]
  },
  {
   "cell_type": "code",
   "execution_count": 9,
   "metadata": {
    "scrolled": true
   },
   "outputs": [
    {
     "data": {
      "text/plain": [
       "array(['No', 'Yes', nan], dtype=object)"
      ]
     },
     "execution_count": 9,
     "metadata": {},
     "output_type": "execute_result"
    }
   ],
   "source": [
    "df.RainToday.unique()"
   ]
  },
  {
   "cell_type": "code",
   "execution_count": 10,
   "metadata": {},
   "outputs": [
    {
     "data": {
      "text/plain": [
       "array(['No', 'Yes', nan], dtype=object)"
      ]
     },
     "execution_count": 10,
     "metadata": {},
     "output_type": "execute_result"
    }
   ],
   "source": [
    "df.RainTomorrow.unique()"
   ]
  },
  {
   "cell_type": "code",
   "execution_count": 11,
   "metadata": {},
   "outputs": [
    {
     "data": {
      "text/plain": [
       "3261"
      ]
     },
     "execution_count": 11,
     "metadata": {},
     "output_type": "execute_result"
    }
   ],
   "source": [
    "df.RainToday.isna().sum()"
   ]
  },
  {
   "cell_type": "code",
   "execution_count": 12,
   "metadata": {},
   "outputs": [
    {
     "data": {
      "text/plain": [
       "3267"
      ]
     },
     "execution_count": 12,
     "metadata": {},
     "output_type": "execute_result"
    }
   ],
   "source": [
    "df.RainTomorrow.isna().sum()"
   ]
  },
  {
   "cell_type": "code",
   "execution_count": 13,
   "metadata": {},
   "outputs": [],
   "source": [
    "df = df.dropna(subset=['RainToday', 'RainTomorrow'])"
   ]
  },
  {
   "cell_type": "code",
   "execution_count": 14,
   "metadata": {},
   "outputs": [
    {
     "data": {
      "text/plain": [
       "0"
      ]
     },
     "execution_count": 14,
     "metadata": {},
     "output_type": "execute_result"
    }
   ],
   "source": [
    "df.RainToday.isna().sum()"
   ]
  },
  {
   "cell_type": "code",
   "execution_count": 15,
   "metadata": {},
   "outputs": [
    {
     "data": {
      "text/plain": [
       "0"
      ]
     },
     "execution_count": 15,
     "metadata": {},
     "output_type": "execute_result"
    }
   ],
   "source": [
    "df.RainTomorrow.isna().sum()"
   ]
  },
  {
   "cell_type": "code",
   "execution_count": 16,
   "metadata": {},
   "outputs": [
    {
     "data": {
      "text/plain": [
       "No     109332\n",
       "Yes     31455\n",
       "Name: RainToday, dtype: int64"
      ]
     },
     "execution_count": 16,
     "metadata": {},
     "output_type": "execute_result"
    }
   ],
   "source": [
    "df.RainToday.value_counts()"
   ]
  },
  {
   "cell_type": "code",
   "execution_count": 17,
   "metadata": {},
   "outputs": [
    {
     "data": {
      "text/plain": [
       "No     109586\n",
       "Yes     31201\n",
       "Name: RainTomorrow, dtype: int64"
      ]
     },
     "execution_count": 17,
     "metadata": {},
     "output_type": "execute_result"
    }
   ],
   "source": [
    "df.RainTomorrow.value_counts()"
   ]
  },
  {
   "cell_type": "markdown",
   "metadata": {},
   "source": [
    "Заменим \"Yes\", \"No\" на 1 и 0 в RainToday, RainTomorrow, чтобы сделать признаки не категориальными, а количественными. Приведем дату к нужному формату."
   ]
  },
  {
   "cell_type": "code",
   "execution_count": 18,
   "metadata": {},
   "outputs": [],
   "source": [
    "df['Date'] = pd.to_datetime(df.Date, format='%Y-%m-%d')\n",
    "df['RainToday'] = df.RainToday.apply(lambda f: 1 if f == 'Yes' else 0)\n",
    "df['RainTomorrow'] = df.RainTomorrow.apply(lambda f: 1 if f == 'Yes' else 0)"
   ]
  },
  {
   "cell_type": "markdown",
   "metadata": {},
   "source": [
    "Вычленим из даты все ее составляющие."
   ]
  },
  {
   "cell_type": "code",
   "execution_count": 19,
   "metadata": {},
   "outputs": [],
   "source": [
    "df['Year'] = df.Date.dt.year\n",
    "df['Month'] = df.Date.dt.month\n",
    "df['Day'] = df.Date.dt.day"
   ]
  },
  {
   "cell_type": "code",
   "execution_count": 20,
   "metadata": {},
   "outputs": [],
   "source": [
    "df.sort_values('Date', inplace=True)"
   ]
  },
  {
   "cell_type": "code",
   "execution_count": 21,
   "metadata": {},
   "outputs": [
    {
     "data": {
      "text/html": [
       "<div>\n",
       "<style scoped>\n",
       "    .dataframe tbody tr th:only-of-type {\n",
       "        vertical-align: middle;\n",
       "    }\n",
       "\n",
       "    .dataframe tbody tr th {\n",
       "        vertical-align: top;\n",
       "    }\n",
       "\n",
       "    .dataframe thead th {\n",
       "        text-align: right;\n",
       "    }\n",
       "</style>\n",
       "<table border=\"1\" class=\"dataframe\">\n",
       "  <thead>\n",
       "    <tr style=\"text-align: right;\">\n",
       "      <th></th>\n",
       "      <th>Date</th>\n",
       "      <th>Location</th>\n",
       "      <th>MinTemp</th>\n",
       "      <th>MaxTemp</th>\n",
       "      <th>Rainfall</th>\n",
       "      <th>Evaporation</th>\n",
       "      <th>Sunshine</th>\n",
       "      <th>WindGustDir</th>\n",
       "      <th>WindGustSpeed</th>\n",
       "      <th>WindDir9am</th>\n",
       "      <th>...</th>\n",
       "      <th>Pressure3pm</th>\n",
       "      <th>Cloud9am</th>\n",
       "      <th>Cloud3pm</th>\n",
       "      <th>Temp9am</th>\n",
       "      <th>Temp3pm</th>\n",
       "      <th>RainToday</th>\n",
       "      <th>RainTomorrow</th>\n",
       "      <th>Year</th>\n",
       "      <th>Month</th>\n",
       "      <th>Day</th>\n",
       "    </tr>\n",
       "  </thead>\n",
       "  <tbody>\n",
       "    <tr>\n",
       "      <th>45587</th>\n",
       "      <td>2007-11-01</td>\n",
       "      <td>Canberra</td>\n",
       "      <td>8.0</td>\n",
       "      <td>24.3</td>\n",
       "      <td>0.0</td>\n",
       "      <td>3.4</td>\n",
       "      <td>6.3</td>\n",
       "      <td>NW</td>\n",
       "      <td>30.0</td>\n",
       "      <td>SW</td>\n",
       "      <td>...</td>\n",
       "      <td>1015.0</td>\n",
       "      <td>7.0</td>\n",
       "      <td>7.0</td>\n",
       "      <td>14.4</td>\n",
       "      <td>23.6</td>\n",
       "      <td>0</td>\n",
       "      <td>1</td>\n",
       "      <td>2007</td>\n",
       "      <td>11</td>\n",
       "      <td>1</td>\n",
       "    </tr>\n",
       "    <tr>\n",
       "      <th>45588</th>\n",
       "      <td>2007-11-02</td>\n",
       "      <td>Canberra</td>\n",
       "      <td>14.0</td>\n",
       "      <td>26.9</td>\n",
       "      <td>3.6</td>\n",
       "      <td>4.4</td>\n",
       "      <td>9.7</td>\n",
       "      <td>ENE</td>\n",
       "      <td>39.0</td>\n",
       "      <td>E</td>\n",
       "      <td>...</td>\n",
       "      <td>1008.4</td>\n",
       "      <td>5.0</td>\n",
       "      <td>3.0</td>\n",
       "      <td>17.5</td>\n",
       "      <td>25.7</td>\n",
       "      <td>1</td>\n",
       "      <td>1</td>\n",
       "      <td>2007</td>\n",
       "      <td>11</td>\n",
       "      <td>2</td>\n",
       "    </tr>\n",
       "    <tr>\n",
       "      <th>45589</th>\n",
       "      <td>2007-11-03</td>\n",
       "      <td>Canberra</td>\n",
       "      <td>13.7</td>\n",
       "      <td>23.4</td>\n",
       "      <td>3.6</td>\n",
       "      <td>5.8</td>\n",
       "      <td>3.3</td>\n",
       "      <td>NW</td>\n",
       "      <td>85.0</td>\n",
       "      <td>N</td>\n",
       "      <td>...</td>\n",
       "      <td>1007.2</td>\n",
       "      <td>8.0</td>\n",
       "      <td>7.0</td>\n",
       "      <td>15.4</td>\n",
       "      <td>20.2</td>\n",
       "      <td>1</td>\n",
       "      <td>1</td>\n",
       "      <td>2007</td>\n",
       "      <td>11</td>\n",
       "      <td>3</td>\n",
       "    </tr>\n",
       "    <tr>\n",
       "      <th>45590</th>\n",
       "      <td>2007-11-04</td>\n",
       "      <td>Canberra</td>\n",
       "      <td>13.3</td>\n",
       "      <td>15.5</td>\n",
       "      <td>39.8</td>\n",
       "      <td>7.2</td>\n",
       "      <td>9.1</td>\n",
       "      <td>NW</td>\n",
       "      <td>54.0</td>\n",
       "      <td>WNW</td>\n",
       "      <td>...</td>\n",
       "      <td>1007.0</td>\n",
       "      <td>2.0</td>\n",
       "      <td>7.0</td>\n",
       "      <td>13.5</td>\n",
       "      <td>14.1</td>\n",
       "      <td>1</td>\n",
       "      <td>1</td>\n",
       "      <td>2007</td>\n",
       "      <td>11</td>\n",
       "      <td>4</td>\n",
       "    </tr>\n",
       "    <tr>\n",
       "      <th>45591</th>\n",
       "      <td>2007-11-05</td>\n",
       "      <td>Canberra</td>\n",
       "      <td>7.6</td>\n",
       "      <td>16.1</td>\n",
       "      <td>2.8</td>\n",
       "      <td>5.6</td>\n",
       "      <td>10.6</td>\n",
       "      <td>SSE</td>\n",
       "      <td>50.0</td>\n",
       "      <td>SSE</td>\n",
       "      <td>...</td>\n",
       "      <td>1018.5</td>\n",
       "      <td>7.0</td>\n",
       "      <td>7.0</td>\n",
       "      <td>11.1</td>\n",
       "      <td>15.4</td>\n",
       "      <td>1</td>\n",
       "      <td>0</td>\n",
       "      <td>2007</td>\n",
       "      <td>11</td>\n",
       "      <td>5</td>\n",
       "    </tr>\n",
       "  </tbody>\n",
       "</table>\n",
       "<p>5 rows × 26 columns</p>\n",
       "</div>"
      ],
      "text/plain": [
       "            Date  Location  MinTemp  MaxTemp  Rainfall  Evaporation  Sunshine  \\\n",
       "45587 2007-11-01  Canberra      8.0     24.3       0.0          3.4       6.3   \n",
       "45588 2007-11-02  Canberra     14.0     26.9       3.6          4.4       9.7   \n",
       "45589 2007-11-03  Canberra     13.7     23.4       3.6          5.8       3.3   \n",
       "45590 2007-11-04  Canberra     13.3     15.5      39.8          7.2       9.1   \n",
       "45591 2007-11-05  Canberra      7.6     16.1       2.8          5.6      10.6   \n",
       "\n",
       "      WindGustDir  WindGustSpeed WindDir9am  ... Pressure3pm  Cloud9am  \\\n",
       "45587          NW           30.0         SW  ...      1015.0       7.0   \n",
       "45588         ENE           39.0          E  ...      1008.4       5.0   \n",
       "45589          NW           85.0          N  ...      1007.2       8.0   \n",
       "45590          NW           54.0        WNW  ...      1007.0       2.0   \n",
       "45591         SSE           50.0        SSE  ...      1018.5       7.0   \n",
       "\n",
       "       Cloud3pm  Temp9am  Temp3pm  RainToday  RainTomorrow  Year  Month  Day  \n",
       "45587       7.0     14.4     23.6          0             1  2007     11    1  \n",
       "45588       3.0     17.5     25.7          1             1  2007     11    2  \n",
       "45589       7.0     15.4     20.2          1             1  2007     11    3  \n",
       "45590       7.0     13.5     14.1          1             1  2007     11    4  \n",
       "45591       7.0     11.1     15.4          1             0  2007     11    5  \n",
       "\n",
       "[5 rows x 26 columns]"
      ]
     },
     "execution_count": 21,
     "metadata": {},
     "output_type": "execute_result"
    }
   ],
   "source": [
    "df.head()"
   ]
  },
  {
   "cell_type": "markdown",
   "metadata": {},
   "source": [
    "После выстраивания данных в нужном порядке (по возрастанию даты), удалим категориальные признаки: дату и локацию."
   ]
  },
  {
   "cell_type": "code",
   "execution_count": 22,
   "metadata": {},
   "outputs": [],
   "source": [
    "df.drop(['Date', 'Location'], axis=1, inplace=True)"
   ]
  },
  {
   "cell_type": "markdown",
   "metadata": {},
   "source": [
    "Найдем коррелированные признаки."
   ]
  },
  {
   "cell_type": "code",
   "execution_count": 23,
   "metadata": {
    "scrolled": false
   },
   "outputs": [
    {
     "data": {
      "image/png": "[encoded data removed]",
      "text/plain": [
       "<Figure size 1080x864 with 2 Axes>"
      ]
     },
     "metadata": {
      "needs_background": "light"
     },
     "output_type": "display_data"
    }
   ],
   "source": [
    "plt.figure(figsize=(15, 12))\n",
    "sns.heatmap(df.corr(), \n",
    "            annot=True, \n",
    "            linewidths=0.5, \n",
    "            fmt= \".2f\",\n",
    "            annot_kws={'fontsize': 12})\n",
    "plt.xticks(rotation=45)\n",
    "plt.yticks(rotation=45)\n",
    "plt.title('Матрица корреляции\\n');"
   ]
  },
  {
   "cell_type": "code",
   "execution_count": 24,
   "metadata": {},
   "outputs": [
    {
     "data": {
      "text/html": [
       "<div>\n",
       "<style scoped>\n",
       "    .dataframe tbody tr th:only-of-type {\n",
       "        vertical-align: middle;\n",
       "    }\n",
       "\n",
       "    .dataframe tbody tr th {\n",
       "        vertical-align: top;\n",
       "    }\n",
       "\n",
       "    .dataframe thead th {\n",
       "        text-align: right;\n",
       "    }\n",
       "</style>\n",
       "<table border=\"1\" class=\"dataframe\">\n",
       "  <thead>\n",
       "    <tr style=\"text-align: right;\">\n",
       "      <th></th>\n",
       "      <th>MinTemp</th>\n",
       "      <th>MaxTemp</th>\n",
       "      <th>Rainfall</th>\n",
       "      <th>Evaporation</th>\n",
       "      <th>Sunshine</th>\n",
       "      <th>WindGustSpeed</th>\n",
       "      <th>WindSpeed9am</th>\n",
       "      <th>WindSpeed3pm</th>\n",
       "      <th>Humidity9am</th>\n",
       "      <th>Humidity3pm</th>\n",
       "      <th>...</th>\n",
       "      <th>Pressure3pm</th>\n",
       "      <th>Cloud9am</th>\n",
       "      <th>Cloud3pm</th>\n",
       "      <th>Temp9am</th>\n",
       "      <th>Temp3pm</th>\n",
       "      <th>RainToday</th>\n",
       "      <th>RainTomorrow</th>\n",
       "      <th>Year</th>\n",
       "      <th>Month</th>\n",
       "      <th>Day</th>\n",
       "    </tr>\n",
       "  </thead>\n",
       "  <tbody>\n",
       "    <tr>\n",
       "      <th>MinTemp</th>\n",
       "      <td>1.000000</td>\n",
       "      <td>0.736015</td>\n",
       "      <td>0.104255</td>\n",
       "      <td>0.467147</td>\n",
       "      <td>0.073078</td>\n",
       "      <td>0.177927</td>\n",
       "      <td>0.175775</td>\n",
       "      <td>0.175835</td>\n",
       "      <td>-0.234441</td>\n",
       "      <td>0.005686</td>\n",
       "      <td>...</td>\n",
       "      <td>-0.462099</td>\n",
       "      <td>0.077367</td>\n",
       "      <td>0.020268</td>\n",
       "      <td>0.901828</td>\n",
       "      <td>0.708716</td>\n",
       "      <td>0.056185</td>\n",
       "      <td>0.084322</td>\n",
       "      <td>0.037466</td>\n",
       "      <td>-0.204058</td>\n",
       "      <td>0.001055</td>\n",
       "    </tr>\n",
       "    <tr>\n",
       "      <th>MaxTemp</th>\n",
       "      <td>0.736015</td>\n",
       "      <td>1.000000</td>\n",
       "      <td>-0.074839</td>\n",
       "      <td>0.588934</td>\n",
       "      <td>0.470221</td>\n",
       "      <td>0.068510</td>\n",
       "      <td>0.014468</td>\n",
       "      <td>0.051178</td>\n",
       "      <td>-0.506109</td>\n",
       "      <td>-0.509916</td>\n",
       "      <td>...</td>\n",
       "      <td>-0.427069</td>\n",
       "      <td>-0.290217</td>\n",
       "      <td>-0.279261</td>\n",
       "      <td>0.887038</td>\n",
       "      <td>0.984565</td>\n",
       "      <td>-0.228884</td>\n",
       "      <td>-0.159405</td>\n",
       "      <td>0.056025</td>\n",
       "      <td>-0.164718</td>\n",
       "      <td>-0.000634</td>\n",
       "    </tr>\n",
       "    <tr>\n",
       "      <th>Rainfall</th>\n",
       "      <td>0.104255</td>\n",
       "      <td>-0.074839</td>\n",
       "      <td>1.000000</td>\n",
       "      <td>-0.064549</td>\n",
       "      <td>-0.227525</td>\n",
       "      <td>0.133497</td>\n",
       "      <td>0.086816</td>\n",
       "      <td>0.057759</td>\n",
       "      <td>0.223725</td>\n",
       "      <td>0.255312</td>\n",
       "      <td>...</td>\n",
       "      <td>-0.126728</td>\n",
       "      <td>0.198195</td>\n",
       "      <td>0.171993</td>\n",
       "      <td>0.011477</td>\n",
       "      <td>-0.079178</td>\n",
       "      <td>0.500997</td>\n",
       "      <td>0.239032</td>\n",
       "      <td>-0.009284</td>\n",
       "      <td>-0.030863</td>\n",
       "      <td>0.001134</td>\n",
       "    </tr>\n",
       "    <tr>\n",
       "      <th>Evaporation</th>\n",
       "      <td>0.467147</td>\n",
       "      <td>0.588934</td>\n",
       "      <td>-0.064549</td>\n",
       "      <td>1.000000</td>\n",
       "      <td>0.366659</td>\n",
       "      <td>0.203396</td>\n",
       "      <td>0.194398</td>\n",
       "      <td>0.129166</td>\n",
       "      <td>-0.506055</td>\n",
       "      <td>-0.393149</td>\n",
       "      <td>...</td>\n",
       "      <td>-0.293098</td>\n",
       "      <td>-0.185211</td>\n",
       "      <td>-0.184395</td>\n",
       "      <td>0.545382</td>\n",
       "      <td>0.574311</td>\n",
       "      <td>-0.187975</td>\n",
       "      <td>-0.119133</td>\n",
       "      <td>0.084224</td>\n",
       "      <td>-0.027765</td>\n",
       "      <td>-0.008158</td>\n",
       "    </tr>\n",
       "    <tr>\n",
       "      <th>Sunshine</th>\n",
       "      <td>0.073078</td>\n",
       "      <td>0.470221</td>\n",
       "      <td>-0.227525</td>\n",
       "      <td>0.366659</td>\n",
       "      <td>1.000000</td>\n",
       "      <td>-0.032196</td>\n",
       "      <td>0.009188</td>\n",
       "      <td>0.056480</td>\n",
       "      <td>-0.492784</td>\n",
       "      <td>-0.629638</td>\n",
       "      <td>...</td>\n",
       "      <td>-0.020276</td>\n",
       "      <td>-0.675846</td>\n",
       "      <td>-0.704621</td>\n",
       "      <td>0.291364</td>\n",
       "      <td>0.490386</td>\n",
       "      <td>-0.330635</td>\n",
       "      <td>-0.451820</td>\n",
       "      <td>0.011846</td>\n",
       "      <td>0.024081</td>\n",
       "      <td>-0.001388</td>\n",
       "    </tr>\n",
       "    <tr>\n",
       "      <th>WindGustSpeed</th>\n",
       "      <td>0.177927</td>\n",
       "      <td>0.068510</td>\n",
       "      <td>0.133497</td>\n",
       "      <td>0.203396</td>\n",
       "      <td>-0.032196</td>\n",
       "      <td>1.000000</td>\n",
       "      <td>0.604513</td>\n",
       "      <td>0.686881</td>\n",
       "      <td>-0.215117</td>\n",
       "      <td>-0.026631</td>\n",
       "      <td>...</td>\n",
       "      <td>-0.412879</td>\n",
       "      <td>0.071186</td>\n",
       "      <td>0.109340</td>\n",
       "      <td>0.150574</td>\n",
       "      <td>0.033511</td>\n",
       "      <td>0.155490</td>\n",
       "      <td>0.234285</td>\n",
       "      <td>-0.032911</td>\n",
       "      <td>0.060502</td>\n",
       "      <td>-0.009456</td>\n",
       "    </tr>\n",
       "    <tr>\n",
       "      <th>WindSpeed9am</th>\n",
       "      <td>0.175775</td>\n",
       "      <td>0.014468</td>\n",
       "      <td>0.086816</td>\n",
       "      <td>0.194398</td>\n",
       "      <td>0.009188</td>\n",
       "      <td>0.604513</td>\n",
       "      <td>1.000000</td>\n",
       "      <td>0.519980</td>\n",
       "      <td>-0.270564</td>\n",
       "      <td>-0.031638</td>\n",
       "      <td>...</td>\n",
       "      <td>-0.174497</td>\n",
       "      <td>0.024111</td>\n",
       "      <td>0.053369</td>\n",
       "      <td>0.129108</td>\n",
       "      <td>0.004878</td>\n",
       "      <td>0.102267</td>\n",
       "      <td>0.089803</td>\n",
       "      <td>-0.022538</td>\n",
       "      <td>0.051222</td>\n",
       "      <td>-0.009174</td>\n",
       "    </tr>\n",
       "    <tr>\n",
       "      <th>WindSpeed3pm</th>\n",
       "      <td>0.175835</td>\n",
       "      <td>0.051178</td>\n",
       "      <td>0.057759</td>\n",
       "      <td>0.129166</td>\n",
       "      <td>0.056480</td>\n",
       "      <td>0.686881</td>\n",
       "      <td>0.519980</td>\n",
       "      <td>1.000000</td>\n",
       "      <td>-0.145967</td>\n",
       "      <td>0.016011</td>\n",
       "      <td>...</td>\n",
       "      <td>-0.254951</td>\n",
       "      <td>0.052370</td>\n",
       "      <td>0.024769</td>\n",
       "      <td>0.163972</td>\n",
       "      <td>0.028845</td>\n",
       "      <td>0.080074</td>\n",
       "      <td>0.086762</td>\n",
       "      <td>-0.033254</td>\n",
       "      <td>0.060721</td>\n",
       "      <td>-0.010162</td>\n",
       "    </tr>\n",
       "    <tr>\n",
       "      <th>Humidity9am</th>\n",
       "      <td>-0.234441</td>\n",
       "      <td>-0.506109</td>\n",
       "      <td>0.223725</td>\n",
       "      <td>-0.506055</td>\n",
       "      <td>-0.492784</td>\n",
       "      <td>-0.215117</td>\n",
       "      <td>-0.270564</td>\n",
       "      <td>-0.145967</td>\n",
       "      <td>1.000000</td>\n",
       "      <td>0.668002</td>\n",
       "      <td>...</td>\n",
       "      <td>0.186515</td>\n",
       "      <td>0.452298</td>\n",
       "      <td>0.358273</td>\n",
       "      <td>-0.473305</td>\n",
       "      <td>-0.500528</td>\n",
       "      <td>0.353358</td>\n",
       "      <td>0.257727</td>\n",
       "      <td>0.011333</td>\n",
       "      <td>-0.090686</td>\n",
       "      <td>0.015408</td>\n",
       "    </tr>\n",
       "    <tr>\n",
       "      <th>Humidity3pm</th>\n",
       "      <td>0.005686</td>\n",
       "      <td>-0.509916</td>\n",
       "      <td>0.255312</td>\n",
       "      <td>-0.393149</td>\n",
       "      <td>-0.629638</td>\n",
       "      <td>-0.026631</td>\n",
       "      <td>-0.031638</td>\n",
       "      <td>0.016011</td>\n",
       "      <td>0.668002</td>\n",
       "      <td>1.000000</td>\n",
       "      <td>...</td>\n",
       "      <td>0.051244</td>\n",
       "      <td>0.517394</td>\n",
       "      <td>0.523186</td>\n",
       "      <td>-0.222227</td>\n",
       "      <td>-0.558562</td>\n",
       "      <td>0.378766</td>\n",
       "      <td>0.447834</td>\n",
       "      <td>-0.009024</td>\n",
       "      <td>-0.018231</td>\n",
       "      <td>0.013206</td>\n",
       "    </tr>\n",
       "    <tr>\n",
       "      <th>Pressure9am</th>\n",
       "      <td>-0.451414</td>\n",
       "      <td>-0.331831</td>\n",
       "      <td>-0.168085</td>\n",
       "      <td>-0.269850</td>\n",
       "      <td>0.041071</td>\n",
       "      <td>-0.457710</td>\n",
       "      <td>-0.227540</td>\n",
       "      <td>-0.295207</td>\n",
       "      <td>0.138916</td>\n",
       "      <td>-0.028127</td>\n",
       "      <td>...</td>\n",
       "      <td>0.961343</td>\n",
       "      <td>-0.130385</td>\n",
       "      <td>-0.148855</td>\n",
       "      <td>-0.422635</td>\n",
       "      <td>-0.286890</td>\n",
       "      <td>-0.189804</td>\n",
       "      <td>-0.248253</td>\n",
       "      <td>0.032718</td>\n",
       "      <td>0.037167</td>\n",
       "      <td>-0.021461</td>\n",
       "    </tr>\n",
       "    <tr>\n",
       "      <th>Pressure3pm</th>\n",
       "      <td>-0.462099</td>\n",
       "      <td>-0.427069</td>\n",
       "      <td>-0.126728</td>\n",
       "      <td>-0.293098</td>\n",
       "      <td>-0.020276</td>\n",
       "      <td>-0.412879</td>\n",
       "      <td>-0.174497</td>\n",
       "      <td>-0.254951</td>\n",
       "      <td>0.186515</td>\n",
       "      <td>0.051244</td>\n",
       "      <td>...</td>\n",
       "      <td>1.000000</td>\n",
       "      <td>-0.061504</td>\n",
       "      <td>-0.085753</td>\n",
       "      <td>-0.470316</td>\n",
       "      <td>-0.389684</td>\n",
       "      <td>-0.106298</td>\n",
       "      <td>-0.228192</td>\n",
       "      <td>0.027666</td>\n",
       "      <td>0.027687</td>\n",
       "      <td>-0.021711</td>\n",
       "    </tr>\n",
       "    <tr>\n",
       "      <th>Cloud9am</th>\n",
       "      <td>0.077367</td>\n",
       "      <td>-0.290217</td>\n",
       "      <td>0.198195</td>\n",
       "      <td>-0.185211</td>\n",
       "      <td>-0.675846</td>\n",
       "      <td>0.071186</td>\n",
       "      <td>0.024111</td>\n",
       "      <td>0.052370</td>\n",
       "      <td>0.452298</td>\n",
       "      <td>0.517394</td>\n",
       "      <td>...</td>\n",
       "      <td>-0.061504</td>\n",
       "      <td>1.000000</td>\n",
       "      <td>0.604642</td>\n",
       "      <td>-0.138127</td>\n",
       "      <td>-0.302840</td>\n",
       "      <td>0.305950</td>\n",
       "      <td>0.316592</td>\n",
       "      <td>0.062869</td>\n",
       "      <td>-0.010176</td>\n",
       "      <td>0.006853</td>\n",
       "    </tr>\n",
       "    <tr>\n",
       "      <th>Cloud3pm</th>\n",
       "      <td>0.020268</td>\n",
       "      <td>-0.279261</td>\n",
       "      <td>0.171993</td>\n",
       "      <td>-0.184395</td>\n",
       "      <td>-0.704621</td>\n",
       "      <td>0.109340</td>\n",
       "      <td>0.053369</td>\n",
       "      <td>0.024769</td>\n",
       "      <td>0.358273</td>\n",
       "      <td>0.523186</td>\n",
       "      <td>...</td>\n",
       "      <td>-0.085753</td>\n",
       "      <td>0.604642</td>\n",
       "      <td>1.000000</td>\n",
       "      <td>-0.128150</td>\n",
       "      <td>-0.318336</td>\n",
       "      <td>0.272149</td>\n",
       "      <td>0.382418</td>\n",
       "      <td>0.041116</td>\n",
       "      <td>-0.003392</td>\n",
       "      <td>-0.001019</td>\n",
       "    </tr>\n",
       "    <tr>\n",
       "      <th>Temp9am</th>\n",
       "      <td>0.901828</td>\n",
       "      <td>0.887038</td>\n",
       "      <td>0.011477</td>\n",
       "      <td>0.545382</td>\n",
       "      <td>0.291364</td>\n",
       "      <td>0.150574</td>\n",
       "      <td>0.129108</td>\n",
       "      <td>0.163972</td>\n",
       "      <td>-0.473305</td>\n",
       "      <td>-0.222227</td>\n",
       "      <td>...</td>\n",
       "      <td>-0.470316</td>\n",
       "      <td>-0.138127</td>\n",
       "      <td>-0.128150</td>\n",
       "      <td>1.000000</td>\n",
       "      <td>0.860633</td>\n",
       "      <td>-0.096593</td>\n",
       "      <td>-0.025447</td>\n",
       "      <td>0.040091</td>\n",
       "      <td>-0.136475</td>\n",
       "      <td>-0.001117</td>\n",
       "    </tr>\n",
       "    <tr>\n",
       "      <th>Temp3pm</th>\n",
       "      <td>0.708716</td>\n",
       "      <td>0.984565</td>\n",
       "      <td>-0.079178</td>\n",
       "      <td>0.574311</td>\n",
       "      <td>0.490386</td>\n",
       "      <td>0.033511</td>\n",
       "      <td>0.004878</td>\n",
       "      <td>0.028845</td>\n",
       "      <td>-0.500528</td>\n",
       "      <td>-0.558562</td>\n",
       "      <td>...</td>\n",
       "      <td>-0.389684</td>\n",
       "      <td>-0.302840</td>\n",
       "      <td>-0.318336</td>\n",
       "      <td>0.860633</td>\n",
       "      <td>1.000000</td>\n",
       "      <td>-0.234925</td>\n",
       "      <td>-0.192747</td>\n",
       "      <td>0.045816</td>\n",
       "      <td>-0.175655</td>\n",
       "      <td>-0.001717</td>\n",
       "    </tr>\n",
       "    <tr>\n",
       "      <th>RainToday</th>\n",
       "      <td>0.056185</td>\n",
       "      <td>-0.228884</td>\n",
       "      <td>0.500997</td>\n",
       "      <td>-0.187975</td>\n",
       "      <td>-0.330635</td>\n",
       "      <td>0.155490</td>\n",
       "      <td>0.102267</td>\n",
       "      <td>0.080074</td>\n",
       "      <td>0.353358</td>\n",
       "      <td>0.378766</td>\n",
       "      <td>...</td>\n",
       "      <td>-0.106298</td>\n",
       "      <td>0.305950</td>\n",
       "      <td>0.272149</td>\n",
       "      <td>-0.096593</td>\n",
       "      <td>-0.234925</td>\n",
       "      <td>1.000000</td>\n",
       "      <td>0.313097</td>\n",
       "      <td>-0.012381</td>\n",
       "      <td>0.009891</td>\n",
       "      <td>0.003219</td>\n",
       "    </tr>\n",
       "    <tr>\n",
       "      <th>RainTomorrow</th>\n",
       "      <td>0.084322</td>\n",
       "      <td>-0.159405</td>\n",
       "      <td>0.239032</td>\n",
       "      <td>-0.119133</td>\n",
       "      <td>-0.451820</td>\n",
       "      <td>0.234285</td>\n",
       "      <td>0.089803</td>\n",
       "      <td>0.086762</td>\n",
       "      <td>0.257727</td>\n",
       "      <td>0.447834</td>\n",
       "      <td>...</td>\n",
       "      <td>-0.228192</td>\n",
       "      <td>0.316592</td>\n",
       "      <td>0.382418</td>\n",
       "      <td>-0.025447</td>\n",
       "      <td>-0.192747</td>\n",
       "      <td>0.313097</td>\n",
       "      <td>1.000000</td>\n",
       "      <td>-0.013074</td>\n",
       "      <td>0.007192</td>\n",
       "      <td>0.005183</td>\n",
       "    </tr>\n",
       "    <tr>\n",
       "      <th>Year</th>\n",
       "      <td>0.037466</td>\n",
       "      <td>0.056025</td>\n",
       "      <td>-0.009284</td>\n",
       "      <td>0.084224</td>\n",
       "      <td>0.011846</td>\n",
       "      <td>-0.032911</td>\n",
       "      <td>-0.022538</td>\n",
       "      <td>-0.033254</td>\n",
       "      <td>0.011333</td>\n",
       "      <td>-0.009024</td>\n",
       "      <td>...</td>\n",
       "      <td>0.027666</td>\n",
       "      <td>0.062869</td>\n",
       "      <td>0.041116</td>\n",
       "      <td>0.040091</td>\n",
       "      <td>0.045816</td>\n",
       "      <td>-0.012381</td>\n",
       "      <td>-0.013074</td>\n",
       "      <td>1.000000</td>\n",
       "      <td>-0.113182</td>\n",
       "      <td>-0.005876</td>\n",
       "    </tr>\n",
       "    <tr>\n",
       "      <th>Month</th>\n",
       "      <td>-0.204058</td>\n",
       "      <td>-0.164718</td>\n",
       "      <td>-0.030863</td>\n",
       "      <td>-0.027765</td>\n",
       "      <td>0.024081</td>\n",
       "      <td>0.060502</td>\n",
       "      <td>0.051222</td>\n",
       "      <td>0.060721</td>\n",
       "      <td>-0.090686</td>\n",
       "      <td>-0.018231</td>\n",
       "      <td>...</td>\n",
       "      <td>0.027687</td>\n",
       "      <td>-0.010176</td>\n",
       "      <td>-0.003392</td>\n",
       "      <td>-0.136475</td>\n",
       "      <td>-0.175655</td>\n",
       "      <td>0.009891</td>\n",
       "      <td>0.007192</td>\n",
       "      <td>-0.113182</td>\n",
       "      <td>1.000000</td>\n",
       "      <td>0.009881</td>\n",
       "    </tr>\n",
       "    <tr>\n",
       "      <th>Day</th>\n",
       "      <td>0.001055</td>\n",
       "      <td>-0.000634</td>\n",
       "      <td>0.001134</td>\n",
       "      <td>-0.008158</td>\n",
       "      <td>-0.001388</td>\n",
       "      <td>-0.009456</td>\n",
       "      <td>-0.009174</td>\n",
       "      <td>-0.010162</td>\n",
       "      <td>0.015408</td>\n",
       "      <td>0.013206</td>\n",
       "      <td>...</td>\n",
       "      <td>-0.021711</td>\n",
       "      <td>0.006853</td>\n",
       "      <td>-0.001019</td>\n",
       "      <td>-0.001117</td>\n",
       "      <td>-0.001717</td>\n",
       "      <td>0.003219</td>\n",
       "      <td>0.005183</td>\n",
       "      <td>-0.005876</td>\n",
       "      <td>0.009881</td>\n",
       "      <td>1.000000</td>\n",
       "    </tr>\n",
       "  </tbody>\n",
       "</table>\n",
       "<p>21 rows × 21 columns</p>\n",
       "</div>"
      ],
      "text/plain": [
       "                MinTemp   MaxTemp  Rainfall  Evaporation  Sunshine  \\\n",
       "MinTemp        1.000000  0.736015  0.104255     0.467147  0.073078   \n",
       "MaxTemp        0.736015  1.000000 -0.074839     0.588934  0.470221   \n",
       "Rainfall       0.104255 -0.074839  1.000000    -0.064549 -0.227525   \n",
       "Evaporation    0.467147  0.588934 -0.064549     1.000000  0.366659   \n",
       "Sunshine       0.073078  0.470221 -0.227525     0.366659  1.000000   \n",
       "WindGustSpeed  0.177927  0.068510  0.133497     0.203396 -0.032196   \n",
       "WindSpeed9am   0.175775  0.014468  0.086816     0.194398  0.009188   \n",
       "WindSpeed3pm   0.175835  0.051178  0.057759     0.129166  0.056480   \n",
       "Humidity9am   -0.234441 -0.506109  0.223725    -0.506055 -0.492784   \n",
       "Humidity3pm    0.005686 -0.509916  0.255312    -0.393149 -0.629638   \n",
       "Pressure9am   -0.451414 -0.331831 -0.168085    -0.269850  0.041071   \n",
       "Pressure3pm   -0.462099 -0.427069 -0.126728    -0.293098 -0.020276   \n",
       "Cloud9am       0.077367 -0.290217  0.198195    -0.185211 -0.675846   \n",
       "Cloud3pm       0.020268 -0.279261  0.171993    -0.184395 -0.704621   \n",
       "Temp9am        0.901828  0.887038  0.011477     0.545382  0.291364   \n",
       "Temp3pm        0.708716  0.984565 -0.079178     0.574311  0.490386   \n",
       "RainToday      0.056185 -0.228884  0.500997    -0.187975 -0.330635   \n",
       "RainTomorrow   0.084322 -0.159405  0.239032    -0.119133 -0.451820   \n",
       "Year           0.037466  0.056025 -0.009284     0.084224  0.011846   \n",
       "Month         -0.204058 -0.164718 -0.030863    -0.027765  0.024081   \n",
       "Day            0.001055 -0.000634  0.001134    -0.008158 -0.001388   \n",
       "\n",
       "               WindGustSpeed  WindSpeed9am  WindSpeed3pm  Humidity9am  \\\n",
       "MinTemp             0.177927      0.175775      0.175835    -0.234441   \n",
       "MaxTemp             0.068510      0.014468      0.051178    -0.506109   \n",
       "Rainfall            0.133497      0.086816      0.057759     0.223725   \n",
       "Evaporation         0.203396      0.194398      0.129166    -0.506055   \n",
       "Sunshine           -0.032196      0.009188      0.056480    -0.492784   \n",
       "WindGustSpeed       1.000000      0.604513      0.686881    -0.215117   \n",
       "WindSpeed9am        0.604513      1.000000      0.519980    -0.270564   \n",
       "WindSpeed3pm        0.686881      0.519980      1.000000    -0.145967   \n",
       "Humidity9am        -0.215117     -0.270564     -0.145967     1.000000   \n",
       "Humidity3pm        -0.026631     -0.031638      0.016011     0.668002   \n",
       "Pressure9am        -0.457710     -0.227540     -0.295207     0.138916   \n",
       "Pressure3pm        -0.412879     -0.174497     -0.254951     0.186515   \n",
       "Cloud9am            0.071186      0.024111      0.052370     0.452298   \n",
       "Cloud3pm            0.109340      0.053369      0.024769     0.358273   \n",
       "Temp9am             0.150574      0.129108      0.163972    -0.473305   \n",
       "Temp3pm             0.033511      0.004878      0.028845    -0.500528   \n",
       "RainToday           0.155490      0.102267      0.080074     0.353358   \n",
       "RainTomorrow        0.234285      0.089803      0.086762     0.257727   \n",
       "Year               -0.032911     -0.022538     -0.033254     0.011333   \n",
       "Month               0.060502      0.051222      0.060721    -0.090686   \n",
       "Day                -0.009456     -0.009174     -0.010162     0.015408   \n",
       "\n",
       "               Humidity3pm  ...  Pressure3pm  Cloud9am  Cloud3pm   Temp9am  \\\n",
       "MinTemp           0.005686  ...    -0.462099  0.077367  0.020268  0.901828   \n",
       "MaxTemp          -0.509916  ...    -0.427069 -0.290217 -0.279261  0.887038   \n",
       "Rainfall          0.255312  ...    -0.126728  0.198195  0.171993  0.011477   \n",
       "Evaporation      -0.393149  ...    -0.293098 -0.185211 -0.184395  0.545382   \n",
       "Sunshine         -0.629638  ...    -0.020276 -0.675846 -0.704621  0.291364   \n",
       "WindGustSpeed    -0.026631  ...    -0.412879  0.071186  0.109340  0.150574   \n",
       "WindSpeed9am     -0.031638  ...    -0.174497  0.024111  0.053369  0.129108   \n",
       "WindSpeed3pm      0.016011  ...    -0.254951  0.052370  0.024769  0.163972   \n",
       "Humidity9am       0.668002  ...     0.186515  0.452298  0.358273 -0.473305   \n",
       "Humidity3pm       1.000000  ...     0.051244  0.517394  0.523186 -0.222227   \n",
       "Pressure9am      -0.028127  ...     0.961343 -0.130385 -0.148855 -0.422635   \n",
       "Pressure3pm       0.051244  ...     1.000000 -0.061504 -0.085753 -0.470316   \n",
       "Cloud9am          0.517394  ...    -0.061504  1.000000  0.604642 -0.138127   \n",
       "Cloud3pm          0.523186  ...    -0.085753  0.604642  1.000000 -0.128150   \n",
       "Temp9am          -0.222227  ...    -0.470316 -0.138127 -0.128150  1.000000   \n",
       "Temp3pm          -0.558562  ...    -0.389684 -0.302840 -0.318336  0.860633   \n",
       "RainToday         0.378766  ...    -0.106298  0.305950  0.272149 -0.096593   \n",
       "RainTomorrow      0.447834  ...    -0.228192  0.316592  0.382418 -0.025447   \n",
       "Year             -0.009024  ...     0.027666  0.062869  0.041116  0.040091   \n",
       "Month            -0.018231  ...     0.027687 -0.010176 -0.003392 -0.136475   \n",
       "Day               0.013206  ...    -0.021711  0.006853 -0.001019 -0.001117   \n",
       "\n",
       "                Temp3pm  RainToday  RainTomorrow      Year     Month       Day  \n",
       "MinTemp        0.708716   0.056185      0.084322  0.037466 -0.204058  0.001055  \n",
       "MaxTemp        0.984565  -0.228884     -0.159405  0.056025 -0.164718 -0.000634  \n",
       "Rainfall      -0.079178   0.500997      0.239032 -0.009284 -0.030863  0.001134  \n",
       "Evaporation    0.574311  -0.187975     -0.119133  0.084224 -0.027765 -0.008158  \n",
       "Sunshine       0.490386  -0.330635     -0.451820  0.011846  0.024081 -0.001388  \n",
       "WindGustSpeed  0.033511   0.155490      0.234285 -0.032911  0.060502 -0.009456  \n",
       "WindSpeed9am   0.004878   0.102267      0.089803 -0.022538  0.051222 -0.009174  \n",
       "WindSpeed3pm   0.028845   0.080074      0.086762 -0.033254  0.060721 -0.010162  \n",
       "Humidity9am   -0.500528   0.353358      0.257727  0.011333 -0.090686  0.015408  \n",
       "Humidity3pm   -0.558562   0.378766      0.447834 -0.009024 -0.018231  0.013206  \n",
       "Pressure9am   -0.286890  -0.189804     -0.248253  0.032718  0.037167 -0.021461  \n",
       "Pressure3pm   -0.389684  -0.106298     -0.228192  0.027666  0.027687 -0.021711  \n",
       "Cloud9am      -0.302840   0.305950      0.316592  0.062869 -0.010176  0.006853  \n",
       "Cloud3pm      -0.318336   0.272149      0.382418  0.041116 -0.003392 -0.001019  \n",
       "Temp9am        0.860633  -0.096593     -0.025447  0.040091 -0.136475 -0.001117  \n",
       "Temp3pm        1.000000  -0.234925     -0.192747  0.045816 -0.175655 -0.001717  \n",
       "RainToday     -0.234925   1.000000      0.313097 -0.012381  0.009891  0.003219  \n",
       "RainTomorrow  -0.192747   0.313097      1.000000 -0.013074  0.007192  0.005183  \n",
       "Year           0.045816  -0.012381     -0.013074  1.000000 -0.113182 -0.005876  \n",
       "Month         -0.175655   0.009891      0.007192 -0.113182  1.000000  0.009881  \n",
       "Day           -0.001717   0.003219      0.005183 -0.005876  0.009881  1.000000  \n",
       "\n",
       "[21 rows x 21 columns]"
      ]
     },
     "metadata": {},
     "output_type": "display_data"
    }
   ],
   "source": [
    "# более точные значения коэффициентов корреляции Пирсона\n",
    "display(df.corr())"
   ]
  },
  {
   "cell_type": "markdown",
   "metadata": {},
   "source": [
    "**Шкала Чеддока** (для характеристики степени тесноты связи):\n",
    "\n",
    "* 0.1 - 0.3 - слабая \n",
    "* 0.3 - 0.5 - умеренная \n",
    "* 0.5 - 0.7 - заметная \n",
    "* 0.7 - 0.9 - высокая \n",
    "* 0.9 - 0.99 - сильная \n",
    "* 0.99 - 1 - функциональная "
   ]
  },
  {
   "cell_type": "markdown",
   "metadata": {},
   "source": [
    "По матрице корреляции определим коррелированные признаки (возьмем те, где коэффициент корреляции Пирсона $\\geqslant$ 0.9):\n",
    "* Temp3pm\n",
    "* Temp9am\n",
    "* MaxTemp\n",
    "* MinTemp\n",
    "* Pressure9am\n",
    "* Pressure3pm"
   ]
  },
  {
   "cell_type": "code",
   "execution_count": 25,
   "metadata": {},
   "outputs": [],
   "source": [
    "corr_features = ['Temp3pm', \n",
    "                 'Temp9am', \n",
    "                 'MaxTemp', \n",
    "                 'MinTemp', \n",
    "                 'Pressure9am', \n",
    "                 'Pressure3pm']"
   ]
  },
  {
   "cell_type": "code",
   "execution_count": 26,
   "metadata": {},
   "outputs": [],
   "source": [
    "df.drop(corr_features, axis=1, inplace=True)"
   ]
  },
  {
   "cell_type": "code",
   "execution_count": 27,
   "metadata": {},
   "outputs": [
    {
     "name": "stdout",
     "output_type": "stream",
     "text": [
      "<class 'pandas.core.frame.DataFrame'>\n",
      "Int64Index: 140787 entries, 45587 to 9057\n",
      "Data columns (total 18 columns):\n",
      " #   Column         Non-Null Count   Dtype  \n",
      "---  ------         --------------   -----  \n",
      " 0   Rainfall       140787 non-null  float64\n",
      " 1   Evaporation    81093 non-null   float64\n",
      " 2   Sunshine       73982 non-null   float64\n",
      " 3   WindGustDir    131624 non-null  object \n",
      " 4   WindGustSpeed  131682 non-null  float64\n",
      " 5   WindDir9am     131127 non-null  object \n",
      " 6   WindDir3pm     137117 non-null  object \n",
      " 7   WindSpeed9am   139732 non-null  float64\n",
      " 8   WindSpeed3pm   138256 non-null  float64\n",
      " 9   Humidity9am    139270 non-null  float64\n",
      " 10  Humidity3pm    137286 non-null  float64\n",
      " 11  Cloud9am       88162 non-null   float64\n",
      " 12  Cloud3pm       84693 non-null   float64\n",
      " 13  RainToday      140787 non-null  int64  \n",
      " 14  RainTomorrow   140787 non-null  int64  \n",
      " 15  Year           140787 non-null  int64  \n",
      " 16  Month          140787 non-null  int64  \n",
      " 17  Day            140787 non-null  int64  \n",
      "dtypes: float64(10), int64(5), object(3)\n",
      "memory usage: 20.4+ MB\n"
     ]
    }
   ],
   "source": [
    "df.info()"
   ]
  },
  {
   "cell_type": "markdown",
   "metadata": {},
   "source": [
    "Большое число пропусков находится в следующих признаках: \n",
    "* Evaporation\n",
    "* Sunshine\n",
    "* Cloud9am\n",
    "* Cloud3pm\n",
    "\n",
    "Вряд ли мы сможем предугадать, чем эти пропуски заменить, поэтому удалим эти признаки из рассмотрения."
   ]
  },
  {
   "cell_type": "code",
   "execution_count": 28,
   "metadata": {},
   "outputs": [],
   "source": [
    "lots_nulls = ['Evaporation', \n",
    "              'Sunshine', \n",
    "              'Cloud9am', \n",
    "              'Cloud3pm']"
   ]
  },
  {
   "cell_type": "code",
   "execution_count": 29,
   "metadata": {},
   "outputs": [],
   "source": [
    "df.drop(lots_nulls, axis=1, inplace=True)"
   ]
  },
  {
   "cell_type": "code",
   "execution_count": 30,
   "metadata": {},
   "outputs": [
    {
     "name": "stdout",
     "output_type": "stream",
     "text": [
      "<class 'pandas.core.frame.DataFrame'>\n",
      "Int64Index: 140787 entries, 45587 to 9057\n",
      "Data columns (total 14 columns):\n",
      " #   Column         Non-Null Count   Dtype  \n",
      "---  ------         --------------   -----  \n",
      " 0   Rainfall       140787 non-null  float64\n",
      " 1   WindGustDir    131624 non-null  object \n",
      " 2   WindGustSpeed  131682 non-null  float64\n",
      " 3   WindDir9am     131127 non-null  object \n",
      " 4   WindDir3pm     137117 non-null  object \n",
      " 5   WindSpeed9am   139732 non-null  float64\n",
      " 6   WindSpeed3pm   138256 non-null  float64\n",
      " 7   Humidity9am    139270 non-null  float64\n",
      " 8   Humidity3pm    137286 non-null  float64\n",
      " 9   RainToday      140787 non-null  int64  \n",
      " 10  RainTomorrow   140787 non-null  int64  \n",
      " 11  Year           140787 non-null  int64  \n",
      " 12  Month          140787 non-null  int64  \n",
      " 13  Day            140787 non-null  int64  \n",
      "dtypes: float64(6), int64(5), object(3)\n",
      "memory usage: 16.1+ MB\n"
     ]
    }
   ],
   "source": [
    "df.info()"
   ]
  },
  {
   "cell_type": "code",
   "execution_count": 31,
   "metadata": {},
   "outputs": [
    {
     "data": {
      "text/plain": [
       "Rainfall            0\n",
       "WindGustDir      9163\n",
       "WindGustSpeed    9105\n",
       "WindDir9am       9660\n",
       "WindDir3pm       3670\n",
       "WindSpeed9am     1055\n",
       "WindSpeed3pm     2531\n",
       "Humidity9am      1517\n",
       "Humidity3pm      3501\n",
       "RainToday           0\n",
       "RainTomorrow        0\n",
       "Year                0\n",
       "Month               0\n",
       "Day                 0\n",
       "dtype: int64"
      ]
     },
     "execution_count": 31,
     "metadata": {},
     "output_type": "execute_result"
    }
   ],
   "source": [
    "df.isna().sum()"
   ]
  },
  {
   "cell_type": "markdown",
   "metadata": {},
   "source": [
    "В количественных признаках заменим пропуски на медиану как на статистику, не сильно чувствительную к выбросам."
   ]
  },
  {
   "cell_type": "code",
   "execution_count": 32,
   "metadata": {},
   "outputs": [],
   "source": [
    "numerical_features = ['WindGustSpeed', \n",
    "                      'WindSpeed9am', \n",
    "                      'WindSpeed3pm', \n",
    "                      'Humidity9am', \n",
    "                      'Humidity3pm']"
   ]
  },
  {
   "cell_type": "code",
   "execution_count": 33,
   "metadata": {},
   "outputs": [],
   "source": [
    "for feature in numerical_features:\n",
    "    df[feature].fillna(df[feature].median(), inplace=True)"
   ]
  },
  {
   "cell_type": "code",
   "execution_count": 34,
   "metadata": {},
   "outputs": [
    {
     "data": {
      "image/png": "[encoded data removed]",
      "text/plain": [
       "<Figure size 720x720 with 12 Axes>"
      ]
     },
     "metadata": {
      "needs_background": "light"
     },
     "output_type": "display_data"
    }
   ],
   "source": [
    "df.hist(figsize=(10, 10));"
   ]
  },
  {
   "cell_type": "code",
   "execution_count": 35,
   "metadata": {},
   "outputs": [
    {
     "data": {
      "text/plain": [
       "Rainfall            0\n",
       "WindGustDir      9163\n",
       "WindGustSpeed       0\n",
       "WindDir9am       9660\n",
       "WindDir3pm       3670\n",
       "WindSpeed9am        0\n",
       "WindSpeed3pm        0\n",
       "Humidity9am         0\n",
       "Humidity3pm         0\n",
       "RainToday           0\n",
       "RainTomorrow        0\n",
       "Year                0\n",
       "Month               0\n",
       "Day                 0\n",
       "dtype: int64"
      ]
     },
     "execution_count": 35,
     "metadata": {},
     "output_type": "execute_result"
    }
   ],
   "source": [
    "df.isna().sum()"
   ]
  },
  {
   "cell_type": "markdown",
   "metadata": {},
   "source": [
    "One-hot encoding-ом обработаем категориальные величины."
   ]
  },
  {
   "cell_type": "code",
   "execution_count": 36,
   "metadata": {},
   "outputs": [],
   "source": [
    "categorical_features = ['WindGustDir', \n",
    "                        'WindDir9am', \n",
    "                        'WindDir3pm']"
   ]
  },
  {
   "cell_type": "code",
   "execution_count": 37,
   "metadata": {},
   "outputs": [],
   "source": [
    "# one-hot encoding\n",
    "one_hot = pd.get_dummies(df[categorical_features], drop_first=True)\n",
    "df.drop(['WindGustDir', 'WindDir9am', 'WindDir3pm'], axis=1, inplace=True)\n",
    "df = pd.concat([df, one_hot], axis=1)"
   ]
  },
  {
   "cell_type": "code",
   "execution_count": 38,
   "metadata": {},
   "outputs": [
    {
     "name": "stdout",
     "output_type": "stream",
     "text": [
      "<class 'pandas.core.frame.DataFrame'>\n",
      "Int64Index: 140787 entries, 45587 to 9057\n",
      "Data columns (total 56 columns):\n",
      " #   Column           Non-Null Count   Dtype  \n",
      "---  ------           --------------   -----  \n",
      " 0   Rainfall         140787 non-null  float64\n",
      " 1   WindGustSpeed    140787 non-null  float64\n",
      " 2   WindSpeed9am     140787 non-null  float64\n",
      " 3   WindSpeed3pm     140787 non-null  float64\n",
      " 4   Humidity9am      140787 non-null  float64\n",
      " 5   Humidity3pm      140787 non-null  float64\n",
      " 6   RainToday        140787 non-null  int64  \n",
      " 7   RainTomorrow     140787 non-null  int64  \n",
      " 8   Year             140787 non-null  int64  \n",
      " 9   Month            140787 non-null  int64  \n",
      " 10  Day              140787 non-null  int64  \n",
      " 11  WindGustDir_ENE  140787 non-null  uint8  \n",
      " 12  WindGustDir_ESE  140787 non-null  uint8  \n",
      " 13  WindGustDir_N    140787 non-null  uint8  \n",
      " 14  WindGustDir_NE   140787 non-null  uint8  \n",
      " 15  WindGustDir_NNE  140787 non-null  uint8  \n",
      " 16  WindGustDir_NNW  140787 non-null  uint8  \n",
      " 17  WindGustDir_NW   140787 non-null  uint8  \n",
      " 18  WindGustDir_S    140787 non-null  uint8  \n",
      " 19  WindGustDir_SE   140787 non-null  uint8  \n",
      " 20  WindGustDir_SSE  140787 non-null  uint8  \n",
      " 21  WindGustDir_SSW  140787 non-null  uint8  \n",
      " 22  WindGustDir_SW   140787 non-null  uint8  \n",
      " 23  WindGustDir_W    140787 non-null  uint8  \n",
      " 24  WindGustDir_WNW  140787 non-null  uint8  \n",
      " 25  WindGustDir_WSW  140787 non-null  uint8  \n",
      " 26  WindDir9am_ENE   140787 non-null  uint8  \n",
      " 27  WindDir9am_ESE   140787 non-null  uint8  \n",
      " 28  WindDir9am_N     140787 non-null  uint8  \n",
      " 29  WindDir9am_NE    140787 non-null  uint8  \n",
      " 30  WindDir9am_NNE   140787 non-null  uint8  \n",
      " 31  WindDir9am_NNW   140787 non-null  uint8  \n",
      " 32  WindDir9am_NW    140787 non-null  uint8  \n",
      " 33  WindDir9am_S     140787 non-null  uint8  \n",
      " 34  WindDir9am_SE    140787 non-null  uint8  \n",
      " 35  WindDir9am_SSE   140787 non-null  uint8  \n",
      " 36  WindDir9am_SSW   140787 non-null  uint8  \n",
      " 37  WindDir9am_SW    140787 non-null  uint8  \n",
      " 38  WindDir9am_W     140787 non-null  uint8  \n",
      " 39  WindDir9am_WNW   140787 non-null  uint8  \n",
      " 40  WindDir9am_WSW   140787 non-null  uint8  \n",
      " 41  WindDir3pm_ENE   140787 non-null  uint8  \n",
      " 42  WindDir3pm_ESE   140787 non-null  uint8  \n",
      " 43  WindDir3pm_N     140787 non-null  uint8  \n",
      " 44  WindDir3pm_NE    140787 non-null  uint8  \n",
      " 45  WindDir3pm_NNE   140787 non-null  uint8  \n",
      " 46  WindDir3pm_NNW   140787 non-null  uint8  \n",
      " 47  WindDir3pm_NW    140787 non-null  uint8  \n",
      " 48  WindDir3pm_S     140787 non-null  uint8  \n",
      " 49  WindDir3pm_SE    140787 non-null  uint8  \n",
      " 50  WindDir3pm_SSE   140787 non-null  uint8  \n",
      " 51  WindDir3pm_SSW   140787 non-null  uint8  \n",
      " 52  WindDir3pm_SW    140787 non-null  uint8  \n",
      " 53  WindDir3pm_W     140787 non-null  uint8  \n",
      " 54  WindDir3pm_WNW   140787 non-null  uint8  \n",
      " 55  WindDir3pm_WSW   140787 non-null  uint8  \n",
      "dtypes: float64(6), int64(5), uint8(45)\n",
      "memory usage: 18.9 MB\n"
     ]
    }
   ],
   "source": [
    "df.info()"
   ]
  },
  {
   "cell_type": "markdown",
   "metadata": {},
   "source": [
    "**Вывод:** данные готовы к дальнейшему построению модели по ним.\n",
    "\n",
    "[вернуться в содержание](#sec)"
   ]
  },
  {
   "cell_type": "markdown",
   "metadata": {},
   "source": [
    "### <a id='sec5'> Начало работы с моделями </a>"
   ]
  },
  {
   "cell_type": "markdown",
   "metadata": {},
   "source": [
    "Выделяем оцениваемый признак RainTomorrow. Делим выборку на test и train, где объем тестовой выборки составит 25% от объема общей выборки."
   ]
  },
  {
   "cell_type": "code",
   "execution_count": 39,
   "metadata": {},
   "outputs": [],
   "source": [
    "y = df.RainTomorrow"
   ]
  },
  {
   "cell_type": "code",
   "execution_count": 40,
   "metadata": {},
   "outputs": [],
   "source": [
    "X = df.drop(['RainTomorrow'], axis=1)"
   ]
  },
  {
   "cell_type": "code",
   "execution_count": 41,
   "metadata": {},
   "outputs": [
    {
     "data": {
      "text/html": [
       "<div>\n",
       "<style scoped>\n",
       "    .dataframe tbody tr th:only-of-type {\n",
       "        vertical-align: middle;\n",
       "    }\n",
       "\n",
       "    .dataframe tbody tr th {\n",
       "        vertical-align: top;\n",
       "    }\n",
       "\n",
       "    .dataframe thead th {\n",
       "        text-align: right;\n",
       "    }\n",
       "</style>\n",
       "<table border=\"1\" class=\"dataframe\">\n",
       "  <thead>\n",
       "    <tr style=\"text-align: right;\">\n",
       "      <th></th>\n",
       "      <th>Rainfall</th>\n",
       "      <th>WindGustSpeed</th>\n",
       "      <th>WindSpeed9am</th>\n",
       "      <th>WindSpeed3pm</th>\n",
       "      <th>Humidity9am</th>\n",
       "      <th>Humidity3pm</th>\n",
       "      <th>RainToday</th>\n",
       "      <th>Year</th>\n",
       "      <th>Month</th>\n",
       "      <th>Day</th>\n",
       "      <th>...</th>\n",
       "      <th>WindDir3pm_NNW</th>\n",
       "      <th>WindDir3pm_NW</th>\n",
       "      <th>WindDir3pm_S</th>\n",
       "      <th>WindDir3pm_SE</th>\n",
       "      <th>WindDir3pm_SSE</th>\n",
       "      <th>WindDir3pm_SSW</th>\n",
       "      <th>WindDir3pm_SW</th>\n",
       "      <th>WindDir3pm_W</th>\n",
       "      <th>WindDir3pm_WNW</th>\n",
       "      <th>WindDir3pm_WSW</th>\n",
       "    </tr>\n",
       "  </thead>\n",
       "  <tbody>\n",
       "    <tr>\n",
       "      <th>45587</th>\n",
       "      <td>0.0</td>\n",
       "      <td>30.0</td>\n",
       "      <td>6.0</td>\n",
       "      <td>20.0</td>\n",
       "      <td>68.0</td>\n",
       "      <td>29.0</td>\n",
       "      <td>0</td>\n",
       "      <td>2007</td>\n",
       "      <td>11</td>\n",
       "      <td>1</td>\n",
       "      <td>...</td>\n",
       "      <td>0</td>\n",
       "      <td>1</td>\n",
       "      <td>0</td>\n",
       "      <td>0</td>\n",
       "      <td>0</td>\n",
       "      <td>0</td>\n",
       "      <td>0</td>\n",
       "      <td>0</td>\n",
       "      <td>0</td>\n",
       "      <td>0</td>\n",
       "    </tr>\n",
       "    <tr>\n",
       "      <th>45588</th>\n",
       "      <td>3.6</td>\n",
       "      <td>39.0</td>\n",
       "      <td>4.0</td>\n",
       "      <td>17.0</td>\n",
       "      <td>80.0</td>\n",
       "      <td>36.0</td>\n",
       "      <td>1</td>\n",
       "      <td>2007</td>\n",
       "      <td>11</td>\n",
       "      <td>2</td>\n",
       "      <td>...</td>\n",
       "      <td>0</td>\n",
       "      <td>0</td>\n",
       "      <td>0</td>\n",
       "      <td>0</td>\n",
       "      <td>0</td>\n",
       "      <td>0</td>\n",
       "      <td>0</td>\n",
       "      <td>1</td>\n",
       "      <td>0</td>\n",
       "      <td>0</td>\n",
       "    </tr>\n",
       "    <tr>\n",
       "      <th>45589</th>\n",
       "      <td>3.6</td>\n",
       "      <td>85.0</td>\n",
       "      <td>6.0</td>\n",
       "      <td>6.0</td>\n",
       "      <td>82.0</td>\n",
       "      <td>69.0</td>\n",
       "      <td>1</td>\n",
       "      <td>2007</td>\n",
       "      <td>11</td>\n",
       "      <td>3</td>\n",
       "      <td>...</td>\n",
       "      <td>0</td>\n",
       "      <td>0</td>\n",
       "      <td>0</td>\n",
       "      <td>0</td>\n",
       "      <td>0</td>\n",
       "      <td>0</td>\n",
       "      <td>0</td>\n",
       "      <td>0</td>\n",
       "      <td>0</td>\n",
       "      <td>0</td>\n",
       "    </tr>\n",
       "    <tr>\n",
       "      <th>45590</th>\n",
       "      <td>39.8</td>\n",
       "      <td>54.0</td>\n",
       "      <td>30.0</td>\n",
       "      <td>24.0</td>\n",
       "      <td>62.0</td>\n",
       "      <td>56.0</td>\n",
       "      <td>1</td>\n",
       "      <td>2007</td>\n",
       "      <td>11</td>\n",
       "      <td>4</td>\n",
       "      <td>...</td>\n",
       "      <td>0</td>\n",
       "      <td>0</td>\n",
       "      <td>0</td>\n",
       "      <td>0</td>\n",
       "      <td>0</td>\n",
       "      <td>0</td>\n",
       "      <td>0</td>\n",
       "      <td>1</td>\n",
       "      <td>0</td>\n",
       "      <td>0</td>\n",
       "    </tr>\n",
       "    <tr>\n",
       "      <th>45591</th>\n",
       "      <td>2.8</td>\n",
       "      <td>50.0</td>\n",
       "      <td>20.0</td>\n",
       "      <td>28.0</td>\n",
       "      <td>68.0</td>\n",
       "      <td>49.0</td>\n",
       "      <td>1</td>\n",
       "      <td>2007</td>\n",
       "      <td>11</td>\n",
       "      <td>5</td>\n",
       "      <td>...</td>\n",
       "      <td>0</td>\n",
       "      <td>0</td>\n",
       "      <td>0</td>\n",
       "      <td>0</td>\n",
       "      <td>0</td>\n",
       "      <td>0</td>\n",
       "      <td>0</td>\n",
       "      <td>0</td>\n",
       "      <td>0</td>\n",
       "      <td>0</td>\n",
       "    </tr>\n",
       "  </tbody>\n",
       "</table>\n",
       "<p>5 rows × 55 columns</p>\n",
       "</div>"
      ],
      "text/plain": [
       "       Rainfall  WindGustSpeed  WindSpeed9am  WindSpeed3pm  Humidity9am  \\\n",
       "45587       0.0           30.0           6.0          20.0         68.0   \n",
       "45588       3.6           39.0           4.0          17.0         80.0   \n",
       "45589       3.6           85.0           6.0           6.0         82.0   \n",
       "45590      39.8           54.0          30.0          24.0         62.0   \n",
       "45591       2.8           50.0          20.0          28.0         68.0   \n",
       "\n",
       "       Humidity3pm  RainToday  Year  Month  Day  ...  WindDir3pm_NNW  \\\n",
       "45587         29.0          0  2007     11    1  ...               0   \n",
       "45588         36.0          1  2007     11    2  ...               0   \n",
       "45589         69.0          1  2007     11    3  ...               0   \n",
       "45590         56.0          1  2007     11    4  ...               0   \n",
       "45591         49.0          1  2007     11    5  ...               0   \n",
       "\n",
       "       WindDir3pm_NW  WindDir3pm_S  WindDir3pm_SE  WindDir3pm_SSE  \\\n",
       "45587              1             0              0               0   \n",
       "45588              0             0              0               0   \n",
       "45589              0             0              0               0   \n",
       "45590              0             0              0               0   \n",
       "45591              0             0              0               0   \n",
       "\n",
       "       WindDir3pm_SSW  WindDir3pm_SW  WindDir3pm_W  WindDir3pm_WNW  \\\n",
       "45587               0              0             0               0   \n",
       "45588               0              0             1               0   \n",
       "45589               0              0             0               0   \n",
       "45590               0              0             1               0   \n",
       "45591               0              0             0               0   \n",
       "\n",
       "       WindDir3pm_WSW  \n",
       "45587               0  \n",
       "45588               0  \n",
       "45589               0  \n",
       "45590               0  \n",
       "45591               0  \n",
       "\n",
       "[5 rows x 55 columns]"
      ]
     },
     "execution_count": 41,
     "metadata": {},
     "output_type": "execute_result"
    }
   ],
   "source": [
    "X.head()"
   ]
  },
  {
   "cell_type": "code",
   "execution_count": 42,
   "metadata": {},
   "outputs": [],
   "source": [
    "X_train, X_test, y_train, y_test =\\\n",
    "    train_test_split(X, y, test_size=0.25, shuffle=False)"
   ]
  },
  {
   "cell_type": "code",
   "execution_count": 43,
   "metadata": {},
   "outputs": [
    {
     "data": {
      "text/plain": [
       "(105590, 55)"
      ]
     },
     "execution_count": 43,
     "metadata": {},
     "output_type": "execute_result"
    }
   ],
   "source": [
    "X_train.shape"
   ]
  },
  {
   "cell_type": "code",
   "execution_count": 44,
   "metadata": {},
   "outputs": [
    {
     "data": {
      "text/plain": [
       "(35197, 55)"
      ]
     },
     "execution_count": 44,
     "metadata": {},
     "output_type": "execute_result"
    }
   ],
   "source": [
    "X_test.shape"
   ]
  },
  {
   "cell_type": "markdown",
   "metadata": {},
   "source": [
    "[вернуться в содержание](#sec)"
   ]
  },
  {
   "cell_type": "markdown",
   "metadata": {},
   "source": [
    "### <a id='sec6'> Оценка качества различных моделей </a>"
   ]
  },
  {
   "cell_type": "markdown",
   "metadata": {},
   "source": [
    "Выберем следующие модели: \n",
    "* Байесовские классификаторы:\n",
    "    * Наивный байесовский классификатор\n",
    "    * Гауссовский наивный байесовский классификатор\n",
    "    * Мультиномиальный наивный байесовский классификатор\n",
    "* Логистическая регрессия (максимальное число итераций = 5000)\n",
    "* Метод ближайших соседей (с параметром 19)\n",
    "\n",
    "Оценим время обучения каждой модели, а также время, за которое каждая модель делает предсказание. \n",
    "\n",
    "Также оценим качество моделей по следующим метрикам:\n",
    "* Accuracy\n",
    "* Precision\n",
    "* Recall\n",
    "* F1-measure"
   ]
  },
  {
   "cell_type": "code",
   "execution_count": 45,
   "metadata": {},
   "outputs": [],
   "source": [
    "models = {'BernoulliNB' : BernoulliNB(),\n",
    "          'MultinomialNB' : MultinomialNB(),\n",
    "          'GaussianNB' : GaussianNB(),\n",
    "          'LogisticRegression' : LogisticRegression(penalty='l2', max_iter=5000), \n",
    "          'KNeighborsClassifier' : KNeighborsClassifier(19)}\n",
    "\n",
    "\n",
    "def fit_predict(models, X_train, y_train, X_test, y_test):\n",
    "    np.random.seed(4)\n",
    "    predictions = []\n",
    "    fit_time = []\n",
    "    predict_time = []\n",
    "    accuracy_scores = []\n",
    "    precision_scores = []\n",
    "    recall_scores = []\n",
    "    f1_scores = []\n",
    "\n",
    "    for i, model in models.items():\n",
    "\n",
    "        start_fit = []\n",
    "        end_fit = []\n",
    "        end_predict = []\n",
    "        \n",
    "        start_fit = time()\n",
    "        model.fit(X_train, y_train)\n",
    "        end_fit = time()\n",
    "        predictions = model.predict(X_test)\n",
    "        end_predict = time()\n",
    "        \n",
    "        fit_time.append(round(end_fit - start_fit, 3))\n",
    "        predict_time.append(round(end_predict - end_fit, 3))\n",
    "        \n",
    "        accuracy_scores.append(round(accuracy_score(y_test, predictions), 3))\n",
    "        precision_scores.append(round(precision_score(y_test, predictions), 3))\n",
    "        recall_scores.append(round(recall_score(y_test, predictions), 3))\n",
    "        f1_scores.append(round(f1_score(y_test, predictions), 3))\n",
    "    \n",
    "    results = pd.DataFrame(data=[accuracy_scores, \n",
    "                                 precision_scores, \n",
    "                                 recall_scores, \n",
    "                                 f1_scores, \n",
    "                                 fit_time, \n",
    "                                 predict_time], \n",
    "                           columns=models.keys(), \n",
    "                           index=['Accuracy', \n",
    "                                  'Precision', \n",
    "                                  'Recall', \n",
    "                                  'F1-measure', \n",
    "                                  'Fitting time', \n",
    "                                  'Predicting time'])\n",
    "    \n",
    "    return results"
   ]
  },
  {
   "cell_type": "code",
   "execution_count": 46,
   "metadata": {},
   "outputs": [],
   "source": [
    "results = fit_predict(models, X_train, y_train, X_test, y_test)"
   ]
  },
  {
   "cell_type": "code",
   "execution_count": 47,
   "metadata": {},
   "outputs": [
    {
     "data": {
      "text/html": [
       "<div>\n",
       "<style scoped>\n",
       "    .dataframe tbody tr th:only-of-type {\n",
       "        vertical-align: middle;\n",
       "    }\n",
       "\n",
       "    .dataframe tbody tr th {\n",
       "        vertical-align: top;\n",
       "    }\n",
       "\n",
       "    .dataframe thead th {\n",
       "        text-align: right;\n",
       "    }\n",
       "</style>\n",
       "<table border=\"1\" class=\"dataframe\">\n",
       "  <thead>\n",
       "    <tr style=\"text-align: right;\">\n",
       "      <th></th>\n",
       "      <th>BernoulliNB</th>\n",
       "      <th>MultinomialNB</th>\n",
       "      <th>GaussianNB</th>\n",
       "      <th>LogisticRegression</th>\n",
       "      <th>KNeighborsClassifier</th>\n",
       "    </tr>\n",
       "  </thead>\n",
       "  <tbody>\n",
       "    <tr>\n",
       "      <th>Accuracy</th>\n",
       "      <td>0.759</td>\n",
       "      <td>0.796</td>\n",
       "      <td>0.724</td>\n",
       "      <td>0.836</td>\n",
       "      <td>0.834</td>\n",
       "    </tr>\n",
       "    <tr>\n",
       "      <th>Precision</th>\n",
       "      <td>0.449</td>\n",
       "      <td>0.533</td>\n",
       "      <td>0.408</td>\n",
       "      <td>0.708</td>\n",
       "      <td>0.703</td>\n",
       "    </tr>\n",
       "    <tr>\n",
       "      <th>Recall</th>\n",
       "      <td>0.418</td>\n",
       "      <td>0.598</td>\n",
       "      <td>0.565</td>\n",
       "      <td>0.437</td>\n",
       "      <td>0.423</td>\n",
       "    </tr>\n",
       "    <tr>\n",
       "      <th>F1-measure</th>\n",
       "      <td>0.433</td>\n",
       "      <td>0.563</td>\n",
       "      <td>0.474</td>\n",
       "      <td>0.541</td>\n",
       "      <td>0.528</td>\n",
       "    </tr>\n",
       "    <tr>\n",
       "      <th>Fitting time</th>\n",
       "      <td>0.181</td>\n",
       "      <td>0.060</td>\n",
       "      <td>0.184</td>\n",
       "      <td>5.777</td>\n",
       "      <td>0.037</td>\n",
       "    </tr>\n",
       "    <tr>\n",
       "      <th>Predicting time</th>\n",
       "      <td>0.066</td>\n",
       "      <td>0.023</td>\n",
       "      <td>0.060</td>\n",
       "      <td>0.018</td>\n",
       "      <td>210.228</td>\n",
       "    </tr>\n",
       "  </tbody>\n",
       "</table>\n",
       "</div>"
      ],
      "text/plain": [
       "                 BernoulliNB  MultinomialNB  GaussianNB  LogisticRegression  \\\n",
       "Accuracy               0.759          0.796       0.724               0.836   \n",
       "Precision              0.449          0.533       0.408               0.708   \n",
       "Recall                 0.418          0.598       0.565               0.437   \n",
       "F1-measure             0.433          0.563       0.474               0.541   \n",
       "Fitting time           0.181          0.060       0.184               5.777   \n",
       "Predicting time        0.066          0.023       0.060               0.018   \n",
       "\n",
       "                 KNeighborsClassifier  \n",
       "Accuracy                        0.834  \n",
       "Precision                       0.703  \n",
       "Recall                          0.423  \n",
       "F1-measure                      0.528  \n",
       "Fitting time                    0.037  \n",
       "Predicting time               210.228  "
      ]
     },
     "execution_count": 47,
     "metadata": {},
     "output_type": "execute_result"
    }
   ],
   "source": [
    "results"
   ]
  },
  {
   "cell_type": "markdown",
   "metadata": {},
   "source": [
    "[вернуться в содержание](#sec)"
   ]
  },
  {
   "cell_type": "markdown",
   "metadata": {},
   "source": [
    "### <a id='sec7'> Выводы </a>"
   ]
  },
  {
   "cell_type": "markdown",
   "metadata": {},
   "source": [
    "Наилучшего качества по: \n",
    "* *Accuracy (0.836), Precision (0.708)* достигла модель **LogisticRegression**,\n",
    "* *Recall (0.598), F1-measure (0.563)* достигла модель **MultinomialNB**.\n",
    "\n",
    "При этом лучшее время обучения модели у **KNeighborsClassifier (параметр = 19)** *(составило 0.037 секунд)*, а время предсказания лучше всего у **MultinomialNB, LogisticRegression** *(примерно 0.018 секунд)*. \n",
    "\n",
    "Худшее качество по:\n",
    "* *Accuracy (0.724), Precision (0.408)* у **GaussianNB**,\n",
    "* *Recall (0.418), F1-measure (0.433)* у **BernoulliNB**.\n",
    "\n",
    "Худшее время, за которое обучается модель, показала **LogisticRegression** *(примерно 5.78 секунд)*, предсказывает дольше других **KNeighborsClassifier (параметр = 19)** *(приблизительно 3.50 минуты).*\n",
    "\n",
    "**Вывод:** оптимальным будет выбор моделей **MultinomialNB, LogisticRegression** как по качеству (пусть будем судить по *Precision* и *Recall*, так как *Accuracy* чувствительна к дисбалансу классов), так и по времени."
   ]
  },
  {
   "cell_type": "markdown",
   "metadata": {},
   "source": [
    "[вернуться в содержание](#sec)"
   ]
  }
 ],
 "metadata": {
  "kernelspec": {
   "display_name": "Python 3",
   "language": "python",
   "name": "python3"
  },
  "language_info": {
   "codemirror_mode": {
    "name": "ipython",
    "version": 3
   },
   "file_extension": ".py",
   "mimetype": "text/x-python",
   "name": "python",
   "nbconvert_exporter": "python",
   "pygments_lexer": "ipython3",
   "version": "3.7.4"
  }
 },
 "nbformat": 4,
 "nbformat_minor": 2
}
