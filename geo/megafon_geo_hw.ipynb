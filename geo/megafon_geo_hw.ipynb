{
  "nbformat": 4,
  "nbformat_minor": 0,
  "metadata": {
    "kernelspec": {
      "display_name": "Python 3",
      "language": "python",
      "name": "python3"
    },
    "language_info": {
      "codemirror_mode": {
        "name": "ipython",
        "version": 3
      },
      "file_extension": ".py",
      "mimetype": "text/x-python",
      "name": "python",
      "nbconvert_exporter": "python",
      "pygments_lexer": "ipython3",
      "version": "3.7.4"
    },
    "colab": {
      "name": "megafon_geo_hw.ipynb",
      "provenance": [],
      "collapsed_sections": [
        "gVD93aBXIZyi",
        "E44ZfTf9IZyk",
        "yQOXcvbTIZyl",
        "VVh7N-IFIZyn",
        "PKnwC2_2IZyo",
        "7Lbpi7unIZyq"
      ]
    }
  },
  "cells": [
    {
      "cell_type": "code",
      "metadata": {
        "id": "Ne_xs_TUIZyZ"
      },
      "source": [
        "import warnings\n",
        "warnings.filterwarnings('ignore')\n",
        "\n",
        "import pandas as pd\n",
        "import numpy as np\n",
        "import geopandas as gpd\n",
        "\n",
        "from sklearn.model_selection import train_test_split\n",
        "from sklearn.metrics import mean_absolute_error\n",
        "from sklearn.linear_model import LinearRegression\n",
        "from tqdm import tqdm\n",
        "\n",
        "from IPython.display import FileLink\n",
        "\n",
        "from geopy.geocoders import Nominatim\n",
        "import overpass\n",
        "import requests\n",
        "\n",
        "from shapely.geometry import Point, LineString, Polygon, MultiPoint, MultiLineString, MultiPolygon\n",
        "from geopy import distance\n",
        "\n",
        "import folium\n",
        "from folium.plugins import HeatMap"
      ],
      "execution_count": null,
      "outputs": []
    },
    {
      "cell_type": "markdown",
      "metadata": {
        "id": "guJ0ZrutIZya"
      },
      "source": [
        "### Задача:\n",
        "\n",
        "Прогноз продаж одной из популярных моделей [фичерфонов](https://ru.wikipedia.org/wiki/%D0%A4%D0%B8%D1%87%D0%B5%D1%80%D1%84%D0%BE%D0%BD) (на картинке ниже пример похожего устройства) в салонах МегаФона\n",
        "![](https://39.img.avito.st/640x480/8468720439.jpg)"
      ]
    },
    {
      "cell_type": "markdown",
      "metadata": {
        "id": "JLr_mSxiIZyb"
      },
      "source": [
        "### Исходные данные:\n",
        "\n",
        "Датасет содержит следующие поля:\n",
        "\n",
        "1. `point_id` - Индентификатор салона\n",
        "2. `lon` - Долгота точки\n",
        "3. `lat` - Широта точки\n",
        "4. `target` - Значение таргета, усредненное за несколько месяцев и отнормированное"
      ]
    },
    {
      "cell_type": "markdown",
      "metadata": {
        "id": "I5PXqLZCIZyb"
      },
      "source": [
        "### Требования к решению и советы:\n",
        "\n",
        "Ниже приведен список из нескольких важных пунктов, необходимых для решения задания. Выполнение каждого из пунктов влияет на итоговую оценку. Вы можете выполнить каждый из пунктов разными способами, самым лучшим будет считаться вариант, когда всё получение и обработка данных будут реализованы на Питоне (пример: вы можете скачать данные из OSM через интерфейс на сайте overpass-turbo или с помощью библиотек `overpass`/`requests`. Оба варианта будут зачтены, но больше баллов можно заработать во втором случае)\n",
        "\n",
        "\n",
        "\n",
        "1. Салоны расположены в нескольких разных городах, вам необходимо **определить город для каждого салона** (это понадобится во многих частях задания). К этому есть разные подходы. Вы можете провести [обратное геокодирование](https://en.wikipedia.org/wiki/Reverse_geocoding) с помощью геокодера [Nominatim](https://nominatim.org/), доступного через библиотеку `geopy` примерно вот так:\n",
        "```python\n",
        "from geopy.geocoders import Nominatim\n",
        "geolocator = Nominatim(user_agent=\"specify_your_app_name_here\")\n",
        "location = geolocator.reverse(\"52.509669, 13.376294\")\n",
        "print(location.address)\n",
        "```\n",
        "В таком случае, вам придется обрабатывать полученную строку адреса, чтобы извлечь название города. Также вы можете скачать из OSM или найти в любом другом источнике границы административно территориальных границ России и пересечь с ними датасет с помощью `geopandas.sjoin` (этот вариант более надежный, но нужно будет разобраться с тем, как устроены границы АТД в OSM, обратите внимание на [этот тег](https://wiki.openstreetmap.org/wiki/Key:admin_level))"
      ]
    },
    {
      "cell_type": "markdown",
      "metadata": {
        "id": "YTGhIMScIZyc"
      },
      "source": [
        "\n",
        "2. **Используйте данные OSM**: подумайте, какие объекты могут влиять на продажи фичерфонов. Гипотеза: такие телефоны покупают люди, приезжающие в город или страну ненадолго, чтобы вставить туда отдельную симкарту для роуминга. Можно попробовать использовать местоположения железнодорожных вокзалов (изучите [этот тег](https://wiki.openstreetmap.org/wiki/Tag:railway%3Dstation)). Необходимо использовать хотя бы 5 разных типов объектов из OSM. Скорее всего, вам придется качать данные OSM отдельно для разных городов (см. пример для Нью-Йорка из лекции)\n",
        "\n",
        "\n",
        "3. **Используйте разные способы генерации признаков**: описать положение салона МегаФона относительно станций метро можно разными способами - найти ***расстояние до ближайшей станции***, или же посчитать, сколько станций попадает в ***500 метровую буферную зону*** вокруг салона. Такие признаки будут нести разную информацию. Так же попробуйте поэкспериментировать с размерами буферных зон (представьте, что значат в реальности радиусы 100, 500, 1000 метров). Попробуйте посчитать расстояние до центра города, до других объектов."
      ]
    },
    {
      "cell_type": "markdown",
      "metadata": {
        "id": "hN4TTycfIZyd"
      },
      "source": [
        "4. **Сделайте визуализации**: постройте 2-3 карты для какого нибудь из городов - как распределен в пространстве таргет, где находятся объекты, полученные вами из OSM. Можете использовать любой инструмент - обычный `plot()`, `folium`, `keplergl`. Если выберете Кеплер, обязательно сохраните в файл конфиг карты, чтобы ее можно было воспроизвести. Сделать это можно вот так:\n",
        "\n",
        "```python\n",
        "import json\n",
        "json_data = kepler_map.config\n",
        "with open('kepler_config.json', 'w') as outfile:\n",
        "    json.dump(json_data, outfile)\n",
        "```\n",
        "5. Задание не ограничено приведенными выше пунктами, попробуйте нагенерировать интересных признаков, найти в интернете дополнительные данные (в таком случае в комментарии к коду укажите ссылку на ресурс, откуда взяли данные)\n",
        "\n",
        "\n",
        "\n",
        "6. Это довольно сложная задача - датасет очень маленький, данные по своей природе довольно случайны. Поэтому место и скор на Kaggle не будут играть решающую роль в оценке, но позволят заработать дополнительные баллы"
      ]
    },
    {
      "cell_type": "markdown",
      "metadata": {
        "id": "7Ls4dOleIZyd"
      },
      "source": [
        "### Read data"
      ]
    },
    {
      "cell_type": "code",
      "metadata": {
        "id": "ZG2i7rZtIZye"
      },
      "source": [
        "train = pd.read_csv('data/mf_geo_train.csv')\n",
        "test = pd.read_csv('data/mf_geo_test.csv')"
      ],
      "execution_count": null,
      "outputs": []
    },
    {
      "cell_type": "code",
      "metadata": {
        "id": "lovENf--IZye",
        "outputId": "90635c66-93e9-43d4-9005-eeb58cbb0bf5"
      },
      "source": [
        "train.head(2)"
      ],
      "execution_count": null,
      "outputs": [
        {
          "output_type": "execute_result",
          "data": {
            "text/html": [
              "<div>\n",
              "<style scoped>\n",
              "    .dataframe tbody tr th:only-of-type {\n",
              "        vertical-align: middle;\n",
              "    }\n",
              "\n",
              "    .dataframe tbody tr th {\n",
              "        vertical-align: top;\n",
              "    }\n",
              "\n",
              "    .dataframe thead th {\n",
              "        text-align: right;\n",
              "    }\n",
              "</style>\n",
              "<table border=\"1\" class=\"dataframe\">\n",
              "  <thead>\n",
              "    <tr style=\"text-align: right;\">\n",
              "      <th></th>\n",
              "      <th>point_id</th>\n",
              "      <th>lon</th>\n",
              "      <th>lat</th>\n",
              "      <th>target</th>\n",
              "    </tr>\n",
              "  </thead>\n",
              "  <tbody>\n",
              "    <tr>\n",
              "      <th>0</th>\n",
              "      <td>ommNZCUV</td>\n",
              "      <td>37.590776</td>\n",
              "      <td>55.848630</td>\n",
              "      <td>-0.348157</td>\n",
              "    </tr>\n",
              "    <tr>\n",
              "      <th>1</th>\n",
              "      <td>nMe2LHPb</td>\n",
              "      <td>37.784210</td>\n",
              "      <td>55.750271</td>\n",
              "      <td>1.294206</td>\n",
              "    </tr>\n",
              "  </tbody>\n",
              "</table>\n",
              "</div>"
            ],
            "text/plain": [
              "   point_id        lon        lat    target\n",
              "0  ommNZCUV  37.590776  55.848630 -0.348157\n",
              "1  nMe2LHPb  37.784210  55.750271  1.294206"
            ]
          },
          "metadata": {
            "tags": []
          },
          "execution_count": 3
        }
      ]
    },
    {
      "cell_type": "code",
      "metadata": {
        "id": "p3NF9uJ0IZyf",
        "outputId": "f2ea94a0-e497-4f90-f14c-301956c2bf3a"
      },
      "source": [
        "test.head(2)"
      ],
      "execution_count": null,
      "outputs": [
        {
          "output_type": "execute_result",
          "data": {
            "text/html": [
              "<div>\n",
              "<style scoped>\n",
              "    .dataframe tbody tr th:only-of-type {\n",
              "        vertical-align: middle;\n",
              "    }\n",
              "\n",
              "    .dataframe tbody tr th {\n",
              "        vertical-align: top;\n",
              "    }\n",
              "\n",
              "    .dataframe thead th {\n",
              "        text-align: right;\n",
              "    }\n",
              "</style>\n",
              "<table border=\"1\" class=\"dataframe\">\n",
              "  <thead>\n",
              "    <tr style=\"text-align: right;\">\n",
              "      <th></th>\n",
              "      <th>point_id</th>\n",
              "      <th>lon</th>\n",
              "      <th>lat</th>\n",
              "      <th>target</th>\n",
              "    </tr>\n",
              "  </thead>\n",
              "  <tbody>\n",
              "    <tr>\n",
              "      <th>0</th>\n",
              "      <td>F4lXR1cG</td>\n",
              "      <td>37.681242</td>\n",
              "      <td>55.74804</td>\n",
              "      <td>0.0091</td>\n",
              "    </tr>\n",
              "    <tr>\n",
              "      <th>1</th>\n",
              "      <td>4LJu4GTf</td>\n",
              "      <td>60.580910</td>\n",
              "      <td>56.79586</td>\n",
              "      <td>0.0091</td>\n",
              "    </tr>\n",
              "  </tbody>\n",
              "</table>\n",
              "</div>"
            ],
            "text/plain": [
              "   point_id        lon       lat  target\n",
              "0  F4lXR1cG  37.681242  55.74804  0.0091\n",
              "1  4LJu4GTf  60.580910  56.79586  0.0091"
            ]
          },
          "metadata": {
            "tags": []
          },
          "execution_count": 4
        }
      ]
    },
    {
      "cell_type": "markdown",
      "metadata": {
        "id": "vzqvEu-cIZyf"
      },
      "source": [
        "### Tasks\n",
        "\n",
        "1. Салоны расположены в нескольких разных городах, вам необходимо **определить город для каждого салона** (это понадобится во многих частях задания). К этому есть разные подходы. Вы можете провести [обратное геокодирование](https://en.wikipedia.org/wiki/Reverse_geocoding) с помощью геокодера [Nominatim](https://nominatim.org/), доступного через библиотеку `geopy` примерно вот так:\n",
        "```python\n",
        "from geopy.geocoders import Nominatim\n",
        "geolocator = Nominatim(user_agent=\"specify_your_app_name_here\")\n",
        "location = geolocator.reverse(\"52.509669, 13.376294\")\n",
        "print(location.address)\n",
        "```\n",
        "В таком случае, вам придется обрабатывать полученную строку адреса, чтобы извлечь название города. Также вы можете скачать из OSM или найти в любом другом источнике границы административно территориальных границ России и пересечь с ними датасет с помощью `geopandas.sjoin` (этот вариант более надежный, но нужно будет разобраться с тем, как устроены границы АТД в OSM, обратите внимание на [этот тег](https://wiki.openstreetmap.org/wiki/Key:admin_level))"
      ]
    },
    {
      "cell_type": "code",
      "metadata": {
        "id": "p9oSA36gIZyg",
        "outputId": "f1b282a9-be8e-48eb-81f9-5b73d8a648c0"
      },
      "source": [
        "train"
      ],
      "execution_count": null,
      "outputs": [
        {
          "output_type": "execute_result",
          "data": {
            "text/html": [
              "<div>\n",
              "<style scoped>\n",
              "    .dataframe tbody tr th:only-of-type {\n",
              "        vertical-align: middle;\n",
              "    }\n",
              "\n",
              "    .dataframe tbody tr th {\n",
              "        vertical-align: top;\n",
              "    }\n",
              "\n",
              "    .dataframe thead th {\n",
              "        text-align: right;\n",
              "    }\n",
              "</style>\n",
              "<table border=\"1\" class=\"dataframe\">\n",
              "  <thead>\n",
              "    <tr style=\"text-align: right;\">\n",
              "      <th></th>\n",
              "      <th>point_id</th>\n",
              "      <th>lon</th>\n",
              "      <th>lat</th>\n",
              "      <th>target</th>\n",
              "    </tr>\n",
              "  </thead>\n",
              "  <tbody>\n",
              "    <tr>\n",
              "      <th>0</th>\n",
              "      <td>ommNZCUV</td>\n",
              "      <td>37.590776</td>\n",
              "      <td>55.848630</td>\n",
              "      <td>-0.348157</td>\n",
              "    </tr>\n",
              "    <tr>\n",
              "      <th>1</th>\n",
              "      <td>nMe2LHPb</td>\n",
              "      <td>37.784210</td>\n",
              "      <td>55.750271</td>\n",
              "      <td>1.294206</td>\n",
              "    </tr>\n",
              "    <tr>\n",
              "      <th>2</th>\n",
              "      <td>ZgodVRqB</td>\n",
              "      <td>39.635721</td>\n",
              "      <td>47.213330</td>\n",
              "      <td>-1.039679</td>\n",
              "    </tr>\n",
              "    <tr>\n",
              "      <th>3</th>\n",
              "      <td>0t2jNYdz</td>\n",
              "      <td>37.704570</td>\n",
              "      <td>55.782020</td>\n",
              "      <td>-1.169339</td>\n",
              "    </tr>\n",
              "    <tr>\n",
              "      <th>4</th>\n",
              "      <td>U27W4QJ7</td>\n",
              "      <td>37.643983</td>\n",
              "      <td>55.730188</td>\n",
              "      <td>-0.088837</td>\n",
              "    </tr>\n",
              "    <tr>\n",
              "      <th>...</th>\n",
              "      <td>...</td>\n",
              "      <td>...</td>\n",
              "      <td>...</td>\n",
              "      <td>...</td>\n",
              "    </tr>\n",
              "    <tr>\n",
              "      <th>420</th>\n",
              "      <td>AA8hN7bJ</td>\n",
              "      <td>37.628765</td>\n",
              "      <td>55.740664</td>\n",
              "      <td>0.213704</td>\n",
              "    </tr>\n",
              "    <tr>\n",
              "      <th>421</th>\n",
              "      <td>uNw6t6xk</td>\n",
              "      <td>37.586825</td>\n",
              "      <td>55.794233</td>\n",
              "      <td>-0.002397</td>\n",
              "    </tr>\n",
              "    <tr>\n",
              "      <th>422</th>\n",
              "      <td>Ap42ei8k</td>\n",
              "      <td>37.678790</td>\n",
              "      <td>55.772910</td>\n",
              "      <td>-0.910019</td>\n",
              "    </tr>\n",
              "    <tr>\n",
              "      <th>423</th>\n",
              "      <td>rn9A8r62</td>\n",
              "      <td>37.752130</td>\n",
              "      <td>55.619640</td>\n",
              "      <td>-0.326547</td>\n",
              "    </tr>\n",
              "    <tr>\n",
              "      <th>424</th>\n",
              "      <td>960M6jye</td>\n",
              "      <td>37.705770</td>\n",
              "      <td>55.782950</td>\n",
              "      <td>-1.234169</td>\n",
              "    </tr>\n",
              "  </tbody>\n",
              "</table>\n",
              "<p>425 rows × 4 columns</p>\n",
              "</div>"
            ],
            "text/plain": [
              "     point_id        lon        lat    target\n",
              "0    ommNZCUV  37.590776  55.848630 -0.348157\n",
              "1    nMe2LHPb  37.784210  55.750271  1.294206\n",
              "2    ZgodVRqB  39.635721  47.213330 -1.039679\n",
              "3    0t2jNYdz  37.704570  55.782020 -1.169339\n",
              "4    U27W4QJ7  37.643983  55.730188 -0.088837\n",
              "..        ...        ...        ...       ...\n",
              "420  AA8hN7bJ  37.628765  55.740664  0.213704\n",
              "421  uNw6t6xk  37.586825  55.794233 -0.002397\n",
              "422  Ap42ei8k  37.678790  55.772910 -0.910019\n",
              "423  rn9A8r62  37.752130  55.619640 -0.326547\n",
              "424  960M6jye  37.705770  55.782950 -1.234169\n",
              "\n",
              "[425 rows x 4 columns]"
            ]
          },
          "metadata": {
            "tags": []
          },
          "execution_count": 5
        }
      ]
    },
    {
      "cell_type": "code",
      "metadata": {
        "id": "XnJS6-fGIZyg",
        "outputId": "8da55c2d-427b-493a-a4cc-1c29b4b2eee5"
      },
      "source": [
        "train.dtypes"
      ],
      "execution_count": null,
      "outputs": [
        {
          "output_type": "execute_result",
          "data": {
            "text/plain": [
              "point_id     object\n",
              "lon         float64\n",
              "lat         float64\n",
              "target      float64\n",
              "dtype: object"
            ]
          },
          "metadata": {
            "tags": []
          },
          "execution_count": 7
        }
      ]
    },
    {
      "cell_type": "code",
      "metadata": {
        "id": "u2zKodosIZyg"
      },
      "source": [
        "geolocator = Nominatim(user_agent=\"42\")\n",
        "    \n",
        "def get_city(df):\n",
        "    location = geolocator.reverse(f'{df.lat}, {df.lon}')\n",
        "    address = location.raw.get('address')\n",
        "    city = address.get('city')\n",
        "    return city"
      ],
      "execution_count": null,
      "outputs": []
    },
    {
      "cell_type": "code",
      "metadata": {
        "id": "xCOXgCLtIZyh"
      },
      "source": [
        "train['city'] = train.apply(get_city, axis=1)\n",
        "test['city'] = test.apply(get_city, axis=1)"
      ],
      "execution_count": null,
      "outputs": []
    },
    {
      "cell_type": "code",
      "metadata": {
        "id": "6z0Gp-JCIZyh",
        "outputId": "30e83ddf-8ff8-449c-d664-7d2a01983efb"
      },
      "source": [
        "train.city.value_counts()"
      ],
      "execution_count": null,
      "outputs": [
        {
          "output_type": "execute_result",
          "data": {
            "text/plain": [
              "Москва                         154\n",
              "Санкт-Петербург                 73\n",
              "Самара                          27\n",
              "Казань                          25\n",
              "Екатеринбург                    22\n",
              "Ростов-на-Дону                  21\n",
              "Нижний Новгород                 21\n",
              "Красноярск                      20\n",
              "Уфа                             19\n",
              "городской округ Новосибирск     14\n",
              "Новосибирск                     12\n",
              "Колпино                          4\n",
              "Зеленоград                       3\n",
              "Пушкин                           1\n",
              "Name: city, dtype: int64"
            ]
          },
          "metadata": {
            "tags": []
          },
          "execution_count": 10
        }
      ]
    },
    {
      "cell_type": "code",
      "metadata": {
        "scrolled": true,
        "id": "ObLD9le1IZyh",
        "outputId": "ada398cc-9db9-4b9a-c046-1514a9908e04"
      },
      "source": [
        "test.city.value_counts()"
      ],
      "execution_count": null,
      "outputs": [
        {
          "output_type": "execute_result",
          "data": {
            "text/plain": [
              "Москва                         39\n",
              "Санкт-Петербург                20\n",
              "Самара                          7\n",
              "Казань                          7\n",
              "Уфа                             5\n",
              "Ростов-на-Дону                  5\n",
              "Екатеринбург                    5\n",
              "Нижний Новгород                 5\n",
              "Красноярск                      5\n",
              "Новосибирск                     4\n",
              "городской округ Новосибирск     3\n",
              "Зеленоград                      1\n",
              "Name: city, dtype: int64"
            ]
          },
          "metadata": {
            "tags": []
          },
          "execution_count": 11
        }
      ]
    },
    {
      "cell_type": "markdown",
      "metadata": {
        "id": "evO1aqoWIZyh"
      },
      "source": [
        "2. **Используйте данные OSM**: подумайте, какие объекты могут влиять на продажи фичерфонов. Гипотеза: такие телефоны покупают люди, приезжающие в город или страну ненадолго, чтобы вставить туда отдельную симкарту для роуминга. Можно попробовать использовать местоположения железнодорожных вокзалов (изучите [этот тег](https://wiki.openstreetmap.org/wiki/Tag:railway%3Dstation)). Необходимо использовать хотя бы 5 разных типов объектов из OSM. Скорее всего, вам придется качать данные OSM отдельно для разных городов (см. пример для Нью-Йорка из лекции)"
      ]
    },
    {
      "cell_type": "markdown",
      "metadata": {
        "id": "0_xpbXUAIZyi"
      },
      "source": [
        "Чтобы долго не ждать загрузки, заранее сохраняю полученные данные."
      ]
    },
    {
      "cell_type": "markdown",
      "metadata": {
        "id": "gVD93aBXIZyi"
      },
      "source": [
        "#### ж/д станции"
      ]
    },
    {
      "cell_type": "code",
      "metadata": {
        "id": "tjUigwARIZyi"
      },
      "source": [
        "\"\"\"\n",
        "overpass_url = \"http://overpass-api.de/api/interpreter\"\n",
        "\n",
        "overpass_query = '''\n",
        "[out:json];\n",
        "area[\"ISO3166-1\"=\"RU\"];\n",
        "node[\"railway\"=\"station\"](area);\n",
        "out center;\n",
        "'''\n",
        "\n",
        "response = requests.get(overpass_url, \n",
        "                        params={'data': overpass_query})\n",
        "railway = response.json()\n",
        "\n",
        "railway_osm = pd.DataFrame(railway['elements'])\n",
        "railway_osm = railway_osm.join(\n",
        "    pd.DataFrame([x['tags'] for x in railway['elements']])).drop('tags', axis=1)\n",
        "\"\"\""
      ],
      "execution_count": null,
      "outputs": []
    },
    {
      "cell_type": "code",
      "metadata": {
        "id": "tT8RGWYuIZyi"
      },
      "source": [
        "# railway_osm = railway_osm[['id', 'name', 'lat', 'lon']]"
      ],
      "execution_count": null,
      "outputs": []
    },
    {
      "cell_type": "code",
      "metadata": {
        "id": "elm4DygyIZyi"
      },
      "source": [
        "# railway_osm['geometry'] = [Point(x,y) for x,y in zip(railway_osm.lon, railway_osm.lat)]"
      ],
      "execution_count": null,
      "outputs": []
    },
    {
      "cell_type": "code",
      "metadata": {
        "id": "XhQPCXcSIZyj"
      },
      "source": [
        "# railway_osm.to_csv('railway_osm.csv', index=False)"
      ],
      "execution_count": null,
      "outputs": []
    },
    {
      "cell_type": "code",
      "metadata": {
        "id": "fhWJG4pZIZyj",
        "outputId": "fdc89731-6519-4796-ed35-c2dc22e67fe2"
      },
      "source": [
        "# FileLink(r'railway_osm.csv')"
      ],
      "execution_count": null,
      "outputs": [
        {
          "output_type": "execute_result",
          "data": {
            "text/html": [
              "<a href='railway_osm.csv' target='_blank'>railway_osm.csv</a><br>"
            ],
            "text/plain": [
              "/Users/gaychenkova/Desktop/техноатом/ML/8/railway_osm.csv"
            ]
          },
          "metadata": {
            "tags": []
          },
          "execution_count": 54
        }
      ]
    },
    {
      "cell_type": "code",
      "metadata": {
        "id": "flWPUH0gIZyj"
      },
      "source": [
        "railway_osm = pd.read_csv('data/railway_osm.csv')"
      ],
      "execution_count": null,
      "outputs": []
    },
    {
      "cell_type": "code",
      "metadata": {
        "scrolled": false,
        "id": "QxXQEjiYIZyj",
        "outputId": "957be3b2-742f-4653-c992-ff31a05d64d0"
      },
      "source": [
        "railway_osm"
      ],
      "execution_count": null,
      "outputs": [
        {
          "output_type": "execute_result",
          "data": {
            "text/html": [
              "<div>\n",
              "<style scoped>\n",
              "    .dataframe tbody tr th:only-of-type {\n",
              "        vertical-align: middle;\n",
              "    }\n",
              "\n",
              "    .dataframe tbody tr th {\n",
              "        vertical-align: top;\n",
              "    }\n",
              "\n",
              "    .dataframe thead th {\n",
              "        text-align: right;\n",
              "    }\n",
              "</style>\n",
              "<table border=\"1\" class=\"dataframe\">\n",
              "  <thead>\n",
              "    <tr style=\"text-align: right;\">\n",
              "      <th></th>\n",
              "      <th>id</th>\n",
              "      <th>name</th>\n",
              "      <th>lat</th>\n",
              "      <th>lon</th>\n",
              "      <th>geometry</th>\n",
              "    </tr>\n",
              "  </thead>\n",
              "  <tbody>\n",
              "    <tr>\n",
              "      <th>0</th>\n",
              "      <td>285075</td>\n",
              "      <td>Янега</td>\n",
              "      <td>60.749755</td>\n",
              "      <td>33.713648</td>\n",
              "      <td>POINT (33.7136484 60.7497548)</td>\n",
              "    </tr>\n",
              "    <tr>\n",
              "      <th>1</th>\n",
              "      <td>285173</td>\n",
              "      <td>Заостровье</td>\n",
              "      <td>60.622866</td>\n",
              "      <td>33.315145</td>\n",
              "      <td>POINT (33.3151451 60.6228664)</td>\n",
              "    </tr>\n",
              "    <tr>\n",
              "      <th>2</th>\n",
              "      <td>308112</td>\n",
              "      <td>Кушелевка</td>\n",
              "      <td>59.990464</td>\n",
              "      <td>30.354767</td>\n",
              "      <td>POINT (30.3547672 59.9904636)</td>\n",
              "    </tr>\n",
              "    <tr>\n",
              "      <th>3</th>\n",
              "      <td>308149</td>\n",
              "      <td>Пискарёвка</td>\n",
              "      <td>59.988203</td>\n",
              "      <td>30.425010</td>\n",
              "      <td>POINT (30.4250102 59.9882032)</td>\n",
              "    </tr>\n",
              "    <tr>\n",
              "      <th>4</th>\n",
              "      <td>370656</td>\n",
              "      <td>Шуйская</td>\n",
              "      <td>61.941113</td>\n",
              "      <td>34.250394</td>\n",
              "      <td>POINT (34.250394 61.9411125)</td>\n",
              "    </tr>\n",
              "    <tr>\n",
              "      <th>...</th>\n",
              "      <td>...</td>\n",
              "      <td>...</td>\n",
              "      <td>...</td>\n",
              "      <td>...</td>\n",
              "      <td>...</td>\n",
              "    </tr>\n",
              "    <tr>\n",
              "      <th>6532</th>\n",
              "      <td>8713142292</td>\n",
              "      <td>Ложки</td>\n",
              "      <td>48.440232</td>\n",
              "      <td>43.379790</td>\n",
              "      <td>POINT (43.3797902 48.4402321)</td>\n",
              "    </tr>\n",
              "    <tr>\n",
              "      <th>6533</th>\n",
              "      <td>8713150920</td>\n",
              "      <td>Чир</td>\n",
              "      <td>48.482709</td>\n",
              "      <td>43.161273</td>\n",
              "      <td>POINT (43.1612733 48.4827095)</td>\n",
              "    </tr>\n",
              "    <tr>\n",
              "      <th>6534</th>\n",
              "      <td>8714809834</td>\n",
              "      <td>Ржевский мемориал</td>\n",
              "      <td>56.236024</td>\n",
              "      <td>34.270902</td>\n",
              "      <td>POINT (34.2709024 56.2360244)</td>\n",
              "    </tr>\n",
              "    <tr>\n",
              "      <th>6535</th>\n",
              "      <td>8764207985</td>\n",
              "      <td>Нартовая</td>\n",
              "      <td>65.990384</td>\n",
              "      <td>77.440349</td>\n",
              "      <td>POINT (77.4403487 65.9903843)</td>\n",
              "    </tr>\n",
              "    <tr>\n",
              "      <th>6536</th>\n",
              "      <td>8764320931</td>\n",
              "      <td>Фарафонтьевская</td>\n",
              "      <td>66.019371</td>\n",
              "      <td>77.105012</td>\n",
              "      <td>POINT (77.105012 66.01937119999999)</td>\n",
              "    </tr>\n",
              "  </tbody>\n",
              "</table>\n",
              "<p>6537 rows × 5 columns</p>\n",
              "</div>"
            ],
            "text/plain": [
              "              id               name        lat        lon  \\\n",
              "0         285075              Янега  60.749755  33.713648   \n",
              "1         285173         Заостровье  60.622866  33.315145   \n",
              "2         308112          Кушелевка  59.990464  30.354767   \n",
              "3         308149         Пискарёвка  59.988203  30.425010   \n",
              "4         370656            Шуйская  61.941113  34.250394   \n",
              "...          ...                ...        ...        ...   \n",
              "6532  8713142292              Ложки  48.440232  43.379790   \n",
              "6533  8713150920                Чир  48.482709  43.161273   \n",
              "6534  8714809834  Ржевский мемориал  56.236024  34.270902   \n",
              "6535  8764207985           Нартовая  65.990384  77.440349   \n",
              "6536  8764320931    Фарафонтьевская  66.019371  77.105012   \n",
              "\n",
              "                                 geometry  \n",
              "0           POINT (33.7136484 60.7497548)  \n",
              "1           POINT (33.3151451 60.6228664)  \n",
              "2           POINT (30.3547672 59.9904636)  \n",
              "3           POINT (30.4250102 59.9882032)  \n",
              "4            POINT (34.250394 61.9411125)  \n",
              "...                                   ...  \n",
              "6532        POINT (43.3797902 48.4402321)  \n",
              "6533        POINT (43.1612733 48.4827095)  \n",
              "6534        POINT (34.2709024 56.2360244)  \n",
              "6535        POINT (77.4403487 65.9903843)  \n",
              "6536  POINT (77.105012 66.01937119999999)  \n",
              "\n",
              "[6537 rows x 5 columns]"
            ]
          },
          "metadata": {
            "tags": []
          },
          "execution_count": 64
        }
      ]
    },
    {
      "cell_type": "markdown",
      "metadata": {
        "id": "E44ZfTf9IZyk"
      },
      "source": [
        "#### автостанции, автовокзалы"
      ]
    },
    {
      "cell_type": "code",
      "metadata": {
        "id": "pfI8gkHgIZyk"
      },
      "source": [
        "\"\"\"\n",
        "overpass_query = '''\n",
        "[out:json];\n",
        "area[\"ISO3166-1\"=\"RU\"];\n",
        "node[\"amenity\"=\"bus_station\"](area);\n",
        "out center;\n",
        "'''\n",
        "\n",
        "response = requests.get(overpass_url, \n",
        "                        params={'data': overpass_query})\n",
        "bus_station = response.json()\n",
        "\n",
        "bus_station_osm = pd.DataFrame(bus_station['elements'])\n",
        "bus_station_osm = bus_station_osm.join(\n",
        "    pd.DataFrame([x['tags'] for x in bus_station['elements']])).drop('tags', axis=1)\n",
        "\"\"\""
      ],
      "execution_count": null,
      "outputs": []
    },
    {
      "cell_type": "code",
      "metadata": {
        "id": "U3n-aqIjIZyk"
      },
      "source": [
        "# bus_station_osm = bus_station_osm[['id', 'name', 'lat', 'lon']]"
      ],
      "execution_count": null,
      "outputs": []
    },
    {
      "cell_type": "code",
      "metadata": {
        "id": "erFD0fKoIZyk"
      },
      "source": [
        "# bus_station_osm['geometry'] = [Point(x,y) for x,y in zip(bus_station_osm.lon, bus_station_osm.lat)]"
      ],
      "execution_count": null,
      "outputs": []
    },
    {
      "cell_type": "code",
      "metadata": {
        "id": "HveeJ7PNIZyk"
      },
      "source": [
        "# bus_station_osm.to_csv('bus_station_osm.csv', index=False)"
      ],
      "execution_count": null,
      "outputs": []
    },
    {
      "cell_type": "code",
      "metadata": {
        "id": "b5bOccXyIZyl",
        "outputId": "b4f0fadd-cf88-4b60-df7e-5b749d567e27"
      },
      "source": [
        "# FileLink(r'bus_station_osm.csv')"
      ],
      "execution_count": null,
      "outputs": [
        {
          "output_type": "execute_result",
          "data": {
            "text/html": [
              "<a href='bus_station_osm.csv' target='_blank'>bus_station_osm.csv</a><br>"
            ],
            "text/plain": [
              "/Users/gaychenkova/Desktop/техноатом/ML/8/bus_station_osm.csv"
            ]
          },
          "metadata": {
            "tags": []
          },
          "execution_count": 56
        }
      ]
    },
    {
      "cell_type": "code",
      "metadata": {
        "id": "YonQ2Vz-IZyl"
      },
      "source": [
        "bus_station_osm = pd.read_csv('data/bus_station_osm.csv')"
      ],
      "execution_count": null,
      "outputs": []
    },
    {
      "cell_type": "code",
      "metadata": {
        "id": "p4Zbk0VuIZyl",
        "outputId": "6d100e77-c9e1-468e-f4fa-409715925dbe"
      },
      "source": [
        "bus_station_osm"
      ],
      "execution_count": null,
      "outputs": [
        {
          "output_type": "execute_result",
          "data": {
            "text/html": [
              "<div>\n",
              "<style scoped>\n",
              "    .dataframe tbody tr th:only-of-type {\n",
              "        vertical-align: middle;\n",
              "    }\n",
              "\n",
              "    .dataframe tbody tr th {\n",
              "        vertical-align: top;\n",
              "    }\n",
              "\n",
              "    .dataframe thead th {\n",
              "        text-align: right;\n",
              "    }\n",
              "</style>\n",
              "<table border=\"1\" class=\"dataframe\">\n",
              "  <thead>\n",
              "    <tr style=\"text-align: right;\">\n",
              "      <th></th>\n",
              "      <th>id</th>\n",
              "      <th>name</th>\n",
              "      <th>lat</th>\n",
              "      <th>lon</th>\n",
              "      <th>geometry</th>\n",
              "    </tr>\n",
              "  </thead>\n",
              "  <tbody>\n",
              "    <tr>\n",
              "      <th>0</th>\n",
              "      <td>261696812</td>\n",
              "      <td>Уссурийск</td>\n",
              "      <td>43.792639</td>\n",
              "      <td>131.963179</td>\n",
              "      <td>POINT (131.963179 43.7926388)</td>\n",
              "    </tr>\n",
              "    <tr>\n",
              "      <th>1</th>\n",
              "      <td>261715276</td>\n",
              "      <td>Автовокзал</td>\n",
              "      <td>43.164242</td>\n",
              "      <td>131.905624</td>\n",
              "      <td>POINT (131.9056239 43.164242)</td>\n",
              "    </tr>\n",
              "    <tr>\n",
              "      <th>2</th>\n",
              "      <td>264840366</td>\n",
              "      <td>Приозерск</td>\n",
              "      <td>61.036129</td>\n",
              "      <td>30.103065</td>\n",
              "      <td>POINT (30.1030652 61.0361292)</td>\n",
              "    </tr>\n",
              "    <tr>\n",
              "      <th>3</th>\n",
              "      <td>271834516</td>\n",
              "      <td>Луховицы</td>\n",
              "      <td>54.980646</td>\n",
              "      <td>39.040446</td>\n",
              "      <td>POINT (39.0404463 54.9806459)</td>\n",
              "    </tr>\n",
              "    <tr>\n",
              "      <th>4</th>\n",
              "      <td>271841035</td>\n",
              "      <td>Зарайск</td>\n",
              "      <td>54.757663</td>\n",
              "      <td>38.874994</td>\n",
              "      <td>POINT (38.8749935 54.7576635)</td>\n",
              "    </tr>\n",
              "    <tr>\n",
              "      <th>...</th>\n",
              "      <td>...</td>\n",
              "      <td>...</td>\n",
              "      <td>...</td>\n",
              "      <td>...</td>\n",
              "      <td>...</td>\n",
              "    </tr>\n",
              "    <tr>\n",
              "      <th>1882</th>\n",
              "      <td>8741750124</td>\n",
              "      <td>Автовокзал «Южные ворота» (пригородный)</td>\n",
              "      <td>55.139185</td>\n",
              "      <td>61.412580</td>\n",
              "      <td>POINT (61.4125797 55.1391853)</td>\n",
              "    </tr>\n",
              "    <tr>\n",
              "      <th>1883</th>\n",
              "      <td>8742231417</td>\n",
              "      <td>Летняя 22</td>\n",
              "      <td>52.356747</td>\n",
              "      <td>104.042167</td>\n",
              "      <td>POINT (104.0421667 52.3567475)</td>\n",
              "    </tr>\n",
              "    <tr>\n",
              "      <th>1884</th>\n",
              "      <td>8752155017</td>\n",
              "      <td>ПП 31 ПЫТЬ ЯХ</td>\n",
              "      <td>60.814215</td>\n",
              "      <td>70.719666</td>\n",
              "      <td>POINT (70.7196663 60.8142154)</td>\n",
              "    </tr>\n",
              "    <tr>\n",
              "      <th>1885</th>\n",
              "      <td>8758176618</td>\n",
              "      <td>Баня</td>\n",
              "      <td>54.796901</td>\n",
              "      <td>83.337655</td>\n",
              "      <td>POINT (83.3376555 54.7969007)</td>\n",
              "    </tr>\n",
              "    <tr>\n",
              "      <th>1886</th>\n",
              "      <td>8758176619</td>\n",
              "      <td>Скала 2</td>\n",
              "      <td>54.785663</td>\n",
              "      <td>83.311331</td>\n",
              "      <td>POINT (83.31133130000001 54.785663)</td>\n",
              "    </tr>\n",
              "  </tbody>\n",
              "</table>\n",
              "<p>1887 rows × 5 columns</p>\n",
              "</div>"
            ],
            "text/plain": [
              "              id                                     name        lat  \\\n",
              "0      261696812                                Уссурийск  43.792639   \n",
              "1      261715276                               Автовокзал  43.164242   \n",
              "2      264840366                                Приозерск  61.036129   \n",
              "3      271834516                                 Луховицы  54.980646   \n",
              "4      271841035                                  Зарайск  54.757663   \n",
              "...          ...                                      ...        ...   \n",
              "1882  8741750124  Автовокзал «Южные ворота» (пригородный)  55.139185   \n",
              "1883  8742231417                                Летняя 22  52.356747   \n",
              "1884  8752155017                            ПП 31 ПЫТЬ ЯХ  60.814215   \n",
              "1885  8758176618                                     Баня  54.796901   \n",
              "1886  8758176619                                  Скала 2  54.785663   \n",
              "\n",
              "             lon                             geometry  \n",
              "0     131.963179        POINT (131.963179 43.7926388)  \n",
              "1     131.905624        POINT (131.9056239 43.164242)  \n",
              "2      30.103065        POINT (30.1030652 61.0361292)  \n",
              "3      39.040446        POINT (39.0404463 54.9806459)  \n",
              "4      38.874994        POINT (38.8749935 54.7576635)  \n",
              "...          ...                                  ...  \n",
              "1882   61.412580        POINT (61.4125797 55.1391853)  \n",
              "1883  104.042167       POINT (104.0421667 52.3567475)  \n",
              "1884   70.719666        POINT (70.7196663 60.8142154)  \n",
              "1885   83.337655        POINT (83.3376555 54.7969007)  \n",
              "1886   83.311331  POINT (83.31133130000001 54.785663)  \n",
              "\n",
              "[1887 rows x 5 columns]"
            ]
          },
          "metadata": {
            "tags": []
          },
          "execution_count": 66
        }
      ]
    },
    {
      "cell_type": "markdown",
      "metadata": {
        "id": "yQOXcvbTIZyl"
      },
      "source": [
        "#### отели"
      ]
    },
    {
      "cell_type": "code",
      "metadata": {
        "id": "NWW1FXqAIZyl"
      },
      "source": [
        "\"\"\"\n",
        "overpass_query = '''\n",
        "[out:json];\n",
        "area[\"ISO3166-1\"=\"RU\"];\n",
        "node[\"tourism\"=\"hotel\"](area);\n",
        "out center;\n",
        "'''\n",
        "\n",
        "response = requests.get(overpass_url, \n",
        "                        params={'data': overpass_query})\n",
        "hotel = response.json()\n",
        "\n",
        "hotel_osm = pd.DataFrame(hotel['elements'])\n",
        "hotel_osm = hotel_osm.join(\n",
        "    pd.DataFrame([x['tags'] for x in hotel['elements']])).drop('tags', axis=1)\n",
        "\"\"\""
      ],
      "execution_count": null,
      "outputs": []
    },
    {
      "cell_type": "code",
      "metadata": {
        "id": "AQ-dWwibIZym"
      },
      "source": [
        "# hotel_osm = hotel_osm[['id', 'name', 'lat', 'lon']]"
      ],
      "execution_count": null,
      "outputs": []
    },
    {
      "cell_type": "code",
      "metadata": {
        "id": "D91KRk1OIZym"
      },
      "source": [
        "# hotel_osm['geometry'] = [Point(x,y) for x,y in zip(hotel_osm.lon, hotel_osm.lat)]"
      ],
      "execution_count": null,
      "outputs": []
    },
    {
      "cell_type": "code",
      "metadata": {
        "id": "Oe4xaP7SIZym"
      },
      "source": [
        "# hotel_osm.to_csv('hotel_osm.csv', index=False)"
      ],
      "execution_count": null,
      "outputs": []
    },
    {
      "cell_type": "code",
      "metadata": {
        "id": "s1ihx9ScIZym",
        "outputId": "3d88f825-9a82-4f3e-da34-f48745eca427"
      },
      "source": [
        "# FileLink(r'hotel_osm.csv')"
      ],
      "execution_count": null,
      "outputs": [
        {
          "output_type": "execute_result",
          "data": {
            "text/html": [
              "<a href='hotel_osm.csv' target='_blank'>hotel_osm.csv</a><br>"
            ],
            "text/plain": [
              "/Users/gaychenkova/Desktop/техноатом/ML/8/hotel_osm.csv"
            ]
          },
          "metadata": {
            "tags": []
          },
          "execution_count": 58
        }
      ]
    },
    {
      "cell_type": "code",
      "metadata": {
        "id": "QxWZ3VlCIZym"
      },
      "source": [
        "hotel_osm = pd.read_csv('data/hotel_osm.csv')"
      ],
      "execution_count": null,
      "outputs": []
    },
    {
      "cell_type": "code",
      "metadata": {
        "id": "fiNpMyCEIZym",
        "outputId": "48867e6e-5475-4d81-a267-89a58eb6ca55"
      },
      "source": [
        "hotel_osm"
      ],
      "execution_count": null,
      "outputs": [
        {
          "output_type": "execute_result",
          "data": {
            "text/html": [
              "<div>\n",
              "<style scoped>\n",
              "    .dataframe tbody tr th:only-of-type {\n",
              "        vertical-align: middle;\n",
              "    }\n",
              "\n",
              "    .dataframe tbody tr th {\n",
              "        vertical-align: top;\n",
              "    }\n",
              "\n",
              "    .dataframe thead th {\n",
              "        text-align: right;\n",
              "    }\n",
              "</style>\n",
              "<table border=\"1\" class=\"dataframe\">\n",
              "  <thead>\n",
              "    <tr style=\"text-align: right;\">\n",
              "      <th></th>\n",
              "      <th>id</th>\n",
              "      <th>name</th>\n",
              "      <th>lat</th>\n",
              "      <th>lon</th>\n",
              "      <th>geometry</th>\n",
              "    </tr>\n",
              "  </thead>\n",
              "  <tbody>\n",
              "    <tr>\n",
              "      <th>0</th>\n",
              "      <td>94641430</td>\n",
              "      <td>Углич</td>\n",
              "      <td>57.531709</td>\n",
              "      <td>38.331515</td>\n",
              "      <td>POINT (38.331515 57.5317093)</td>\n",
              "    </tr>\n",
              "    <tr>\n",
              "      <th>1</th>\n",
              "      <td>135981231</td>\n",
              "      <td>Skandinavia</td>\n",
              "      <td>60.103308</td>\n",
              "      <td>29.948970</td>\n",
              "      <td>POINT (29.9489699 60.103308)</td>\n",
              "    </tr>\n",
              "    <tr>\n",
              "      <th>2</th>\n",
              "      <td>221774327</td>\n",
              "      <td>Светлица</td>\n",
              "      <td>57.875791</td>\n",
              "      <td>35.009656</td>\n",
              "      <td>POINT (35.0096564 57.875791)</td>\n",
              "    </tr>\n",
              "    <tr>\n",
              "      <th>3</th>\n",
              "      <td>252622395</td>\n",
              "      <td>Полюстрово</td>\n",
              "      <td>59.974695</td>\n",
              "      <td>30.387101</td>\n",
              "      <td>POINT (30.3871008 59.9746948)</td>\n",
              "    </tr>\n",
              "    <tr>\n",
              "      <th>4</th>\n",
              "      <td>254979436</td>\n",
              "      <td>Селигер</td>\n",
              "      <td>56.858962</td>\n",
              "      <td>35.914272</td>\n",
              "      <td>POINT (35.914272 56.858962)</td>\n",
              "    </tr>\n",
              "    <tr>\n",
              "      <th>...</th>\n",
              "      <td>...</td>\n",
              "      <td>...</td>\n",
              "      <td>...</td>\n",
              "      <td>...</td>\n",
              "      <td>...</td>\n",
              "    </tr>\n",
              "    <tr>\n",
              "      <th>8203</th>\n",
              "      <td>8761911617</td>\n",
              "      <td>Атлантида</td>\n",
              "      <td>44.043740</td>\n",
              "      <td>42.857050</td>\n",
              "      <td>POINT (42.8570497 44.0437398)</td>\n",
              "    </tr>\n",
              "    <tr>\n",
              "      <th>8204</th>\n",
              "      <td>8763793117</td>\n",
              "      <td>Отель «Кечкемет»</td>\n",
              "      <td>44.974679</td>\n",
              "      <td>34.123767</td>\n",
              "      <td>POINT (34.1237666 44.9746792)</td>\n",
              "    </tr>\n",
              "    <tr>\n",
              "      <th>8205</th>\n",
              "      <td>8765032217</td>\n",
              "      <td>Полина</td>\n",
              "      <td>51.526595</td>\n",
              "      <td>46.005051</td>\n",
              "      <td>POINT (46.0050508 51.5265954)</td>\n",
              "    </tr>\n",
              "    <tr>\n",
              "      <th>8206</th>\n",
              "      <td>8765093229</td>\n",
              "      <td>Империал</td>\n",
              "      <td>51.538641</td>\n",
              "      <td>46.046818</td>\n",
              "      <td>POINT (46.0468176 51.5386411)</td>\n",
              "    </tr>\n",
              "    <tr>\n",
              "      <th>8207</th>\n",
              "      <td>8765302017</td>\n",
              "      <td>Фламинго</td>\n",
              "      <td>51.528389</td>\n",
              "      <td>46.058777</td>\n",
              "      <td>POINT (46.0587768 51.5283887)</td>\n",
              "    </tr>\n",
              "  </tbody>\n",
              "</table>\n",
              "<p>8208 rows × 5 columns</p>\n",
              "</div>"
            ],
            "text/plain": [
              "              id              name        lat        lon  \\\n",
              "0       94641430             Углич  57.531709  38.331515   \n",
              "1      135981231       Skandinavia  60.103308  29.948970   \n",
              "2      221774327          Светлица  57.875791  35.009656   \n",
              "3      252622395        Полюстрово  59.974695  30.387101   \n",
              "4      254979436           Селигер  56.858962  35.914272   \n",
              "...          ...               ...        ...        ...   \n",
              "8203  8761911617         Атлантида  44.043740  42.857050   \n",
              "8204  8763793117  Отель «Кечкемет»  44.974679  34.123767   \n",
              "8205  8765032217            Полина  51.526595  46.005051   \n",
              "8206  8765093229          Империал  51.538641  46.046818   \n",
              "8207  8765302017          Фламинго  51.528389  46.058777   \n",
              "\n",
              "                           geometry  \n",
              "0      POINT (38.331515 57.5317093)  \n",
              "1      POINT (29.9489699 60.103308)  \n",
              "2      POINT (35.0096564 57.875791)  \n",
              "3     POINT (30.3871008 59.9746948)  \n",
              "4       POINT (35.914272 56.858962)  \n",
              "...                             ...  \n",
              "8203  POINT (42.8570497 44.0437398)  \n",
              "8204  POINT (34.1237666 44.9746792)  \n",
              "8205  POINT (46.0050508 51.5265954)  \n",
              "8206  POINT (46.0468176 51.5386411)  \n",
              "8207  POINT (46.0587768 51.5283887)  \n",
              "\n",
              "[8208 rows x 5 columns]"
            ]
          },
          "metadata": {
            "tags": []
          },
          "execution_count": 68
        }
      ]
    },
    {
      "cell_type": "markdown",
      "metadata": {
        "id": "VVh7N-IFIZyn"
      },
      "source": [
        "#### хостелы "
      ]
    },
    {
      "cell_type": "code",
      "metadata": {
        "id": "a0paveLeIZyn"
      },
      "source": [
        "\"\"\"\n",
        "overpass_query = '''\n",
        "[out:json];\n",
        "area[\"ISO3166-1\"=\"RU\"];\n",
        "node[\"tourism\"=\"hostel\"](area);\n",
        "out center;\n",
        "'''\n",
        "\n",
        "response = requests.get(overpass_url, \n",
        "                        params={'data': overpass_query})\n",
        "hostel = response.json()\n",
        "\n",
        "hostel_osm = pd.DataFrame(hostel['elements'])\n",
        "hostel_osm = hostel_osm.join(\n",
        "    pd.DataFrame([x['tags'] for x in hostel['elements']])).drop('tags', axis=1)\n",
        "\"\"\""
      ],
      "execution_count": null,
      "outputs": []
    },
    {
      "cell_type": "code",
      "metadata": {
        "id": "P9sBRR2JIZyn"
      },
      "source": [
        "# hostel_osm = hostel_osm[['id', 'name', 'lat', 'lon']]"
      ],
      "execution_count": null,
      "outputs": []
    },
    {
      "cell_type": "code",
      "metadata": {
        "id": "jeU8JlURIZyn"
      },
      "source": [
        "# hostel_osm['geometry'] = [Point(x,y) for x,y in zip(hostel_osm.lon, hostel_osm.lat)]"
      ],
      "execution_count": null,
      "outputs": []
    },
    {
      "cell_type": "code",
      "metadata": {
        "id": "HUM94lsTIZyo"
      },
      "source": [
        "# hostel_osm.to_csv('hostel_osm.csv', index=False)"
      ],
      "execution_count": null,
      "outputs": []
    },
    {
      "cell_type": "code",
      "metadata": {
        "id": "81hyxtkFIZyo",
        "outputId": "0d33663d-cef4-4fe0-86ad-a40f31feec00"
      },
      "source": [
        "# FileLink(r'hostel_osm.csv')"
      ],
      "execution_count": null,
      "outputs": [
        {
          "output_type": "execute_result",
          "data": {
            "text/html": [
              "<a href='hostel_osm.csv' target='_blank'>hostel_osm.csv</a><br>"
            ],
            "text/plain": [
              "/Users/gaychenkova/Desktop/техноатом/ML/8/hostel_osm.csv"
            ]
          },
          "metadata": {
            "tags": []
          },
          "execution_count": 60
        }
      ]
    },
    {
      "cell_type": "code",
      "metadata": {
        "id": "eNdwWPnbIZyo"
      },
      "source": [
        "hostel_osm = pd.read_csv('data/hostel_osm.csv')"
      ],
      "execution_count": null,
      "outputs": []
    },
    {
      "cell_type": "code",
      "metadata": {
        "id": "sDuTvjuiIZyo",
        "outputId": "72d565e5-acea-4537-e9a9-8b367288549b"
      },
      "source": [
        "hostel_osm"
      ],
      "execution_count": null,
      "outputs": [
        {
          "output_type": "execute_result",
          "data": {
            "text/html": [
              "<div>\n",
              "<style scoped>\n",
              "    .dataframe tbody tr th:only-of-type {\n",
              "        vertical-align: middle;\n",
              "    }\n",
              "\n",
              "    .dataframe tbody tr th {\n",
              "        vertical-align: top;\n",
              "    }\n",
              "\n",
              "    .dataframe thead th {\n",
              "        text-align: right;\n",
              "    }\n",
              "</style>\n",
              "<table border=\"1\" class=\"dataframe\">\n",
              "  <thead>\n",
              "    <tr style=\"text-align: right;\">\n",
              "      <th></th>\n",
              "      <th>id</th>\n",
              "      <th>name</th>\n",
              "      <th>lat</th>\n",
              "      <th>lon</th>\n",
              "      <th>geometry</th>\n",
              "    </tr>\n",
              "  </thead>\n",
              "  <tbody>\n",
              "    <tr>\n",
              "      <th>0</th>\n",
              "      <td>343553989</td>\n",
              "      <td>ПИОНЕРЛАГЕРЬ ЧАЙКА</td>\n",
              "      <td>58.806508</td>\n",
              "      <td>57.543081</td>\n",
              "      <td>POINT (57.5430805 58.8065082)</td>\n",
              "    </tr>\n",
              "    <tr>\n",
              "      <th>1</th>\n",
              "      <td>360174966</td>\n",
              "      <td>Пионерский лагерь</td>\n",
              "      <td>58.857258</td>\n",
              "      <td>57.658492</td>\n",
              "      <td>POINT (57.6584917 58.8572578)</td>\n",
              "    </tr>\n",
              "    <tr>\n",
              "      <th>2</th>\n",
              "      <td>411040056</td>\n",
              "      <td>Тамиск</td>\n",
              "      <td>42.960204</td>\n",
              "      <td>44.210082</td>\n",
              "      <td>POINT (44.2100822 42.9602036)</td>\n",
              "    </tr>\n",
              "    <tr>\n",
              "      <th>3</th>\n",
              "      <td>418349707</td>\n",
              "      <td>ферма ур. Четкыр</td>\n",
              "      <td>51.423507</td>\n",
              "      <td>86.247667</td>\n",
              "      <td>POINT (86.2476674 51.4235071)</td>\n",
              "    </tr>\n",
              "    <tr>\n",
              "      <th>4</th>\n",
              "      <td>426079943</td>\n",
              "      <td>Санаторий \"Сосновый бор\"</td>\n",
              "      <td>51.687804</td>\n",
              "      <td>35.753215</td>\n",
              "      <td>POINT (35.7532153 51.6878044)</td>\n",
              "    </tr>\n",
              "    <tr>\n",
              "      <th>...</th>\n",
              "      <td>...</td>\n",
              "      <td>...</td>\n",
              "      <td>...</td>\n",
              "      <td>...</td>\n",
              "      <td>...</td>\n",
              "    </tr>\n",
              "    <tr>\n",
              "      <th>1460</th>\n",
              "      <td>8750547834</td>\n",
              "      <td>Портал</td>\n",
              "      <td>55.728365</td>\n",
              "      <td>37.634516</td>\n",
              "      <td>POINT (37.6345159 55.7283652)</td>\n",
              "    </tr>\n",
              "    <tr>\n",
              "      <th>1461</th>\n",
              "      <td>8752537807</td>\n",
              "      <td>Хостел Уфа by Richotels</td>\n",
              "      <td>54.732719</td>\n",
              "      <td>55.946113</td>\n",
              "      <td>POINT (55.946113 54.732719)</td>\n",
              "    </tr>\n",
              "    <tr>\n",
              "      <th>1462</th>\n",
              "      <td>8752581958</td>\n",
              "      <td>365 hostel</td>\n",
              "      <td>55.657952</td>\n",
              "      <td>37.587882</td>\n",
              "      <td>POINT (37.5878817 55.6579521)</td>\n",
              "    </tr>\n",
              "    <tr>\n",
              "      <th>1463</th>\n",
              "      <td>8753329717</td>\n",
              "      <td>Гастроль</td>\n",
              "      <td>59.123192</td>\n",
              "      <td>37.869648</td>\n",
              "      <td>POINT (37.8696485 59.123192)</td>\n",
              "    </tr>\n",
              "    <tr>\n",
              "      <th>1464</th>\n",
              "      <td>8761056003</td>\n",
              "      <td>Комнаты 24</td>\n",
              "      <td>45.467856</td>\n",
              "      <td>40.564895</td>\n",
              "      <td>POINT (40.564895 45.4678557)</td>\n",
              "    </tr>\n",
              "  </tbody>\n",
              "</table>\n",
              "<p>1465 rows × 5 columns</p>\n",
              "</div>"
            ],
            "text/plain": [
              "              id                      name        lat        lon  \\\n",
              "0      343553989        ПИОНЕРЛАГЕРЬ ЧАЙКА  58.806508  57.543081   \n",
              "1      360174966         Пионерский лагерь  58.857258  57.658492   \n",
              "2      411040056                    Тамиск  42.960204  44.210082   \n",
              "3      418349707          ферма ур. Четкыр  51.423507  86.247667   \n",
              "4      426079943  Санаторий \"Сосновый бор\"  51.687804  35.753215   \n",
              "...          ...                       ...        ...        ...   \n",
              "1460  8750547834                    Портал  55.728365  37.634516   \n",
              "1461  8752537807   Хостел Уфа by Richotels  54.732719  55.946113   \n",
              "1462  8752581958                365 hostel  55.657952  37.587882   \n",
              "1463  8753329717                  Гастроль  59.123192  37.869648   \n",
              "1464  8761056003                Комнаты 24  45.467856  40.564895   \n",
              "\n",
              "                           geometry  \n",
              "0     POINT (57.5430805 58.8065082)  \n",
              "1     POINT (57.6584917 58.8572578)  \n",
              "2     POINT (44.2100822 42.9602036)  \n",
              "3     POINT (86.2476674 51.4235071)  \n",
              "4     POINT (35.7532153 51.6878044)  \n",
              "...                             ...  \n",
              "1460  POINT (37.6345159 55.7283652)  \n",
              "1461    POINT (55.946113 54.732719)  \n",
              "1462  POINT (37.5878817 55.6579521)  \n",
              "1463   POINT (37.8696485 59.123192)  \n",
              "1464   POINT (40.564895 45.4678557)  \n",
              "\n",
              "[1465 rows x 5 columns]"
            ]
          },
          "metadata": {
            "tags": []
          },
          "execution_count": 70
        }
      ]
    },
    {
      "cell_type": "markdown",
      "metadata": {
        "id": "PKnwC2_2IZyo"
      },
      "source": [
        "#### фаст-фуд"
      ]
    },
    {
      "cell_type": "code",
      "metadata": {
        "id": "Mv1RsoPQIZyp"
      },
      "source": [
        "\"\"\"\n",
        "overpass_query = '''\n",
        "[out:json];\n",
        "area[\"ISO3166-1\"=\"RU\"];\n",
        "node[\"amenity\"=\"fast_food\"](area);\n",
        "out center;\n",
        "'''\n",
        "\n",
        "response = requests.get(overpass_url, \n",
        "                        params={'data': overpass_query})\n",
        "fast_food = response.json()\n",
        "\n",
        "fast_food_osm = pd.DataFrame(fast_food['elements'])\n",
        "fast_food_osm = fast_food_osm.join(\n",
        "    pd.DataFrame([x['tags'] for x in fast_food['elements']])).drop('tags', axis=1)\n",
        "\"\"\""
      ],
      "execution_count": null,
      "outputs": []
    },
    {
      "cell_type": "code",
      "metadata": {
        "id": "-CjwVfbHIZyp"
      },
      "source": [
        "# fast_food_osm = fast_food_osm[['id', 'name', 'lat', 'lon']]"
      ],
      "execution_count": null,
      "outputs": []
    },
    {
      "cell_type": "code",
      "metadata": {
        "id": "lP7aYDNVIZyp"
      },
      "source": [
        "# fast_food_osm['geometry'] = [Point(x,y) for x,y in zip(fast_food_osm.lon, fast_food_osm.lat)]"
      ],
      "execution_count": null,
      "outputs": []
    },
    {
      "cell_type": "code",
      "metadata": {
        "id": "tj62qi-4IZyp"
      },
      "source": [
        "# fast_food_osm.to_csv('fast_food_osm.csv', index=False)"
      ],
      "execution_count": null,
      "outputs": []
    },
    {
      "cell_type": "code",
      "metadata": {
        "id": "dsKiGy1PIZyq",
        "outputId": "30dc1881-3405-4944-a6ca-8803da8157ce"
      },
      "source": [
        "# FileLink(r'fast_food_osm.csv')"
      ],
      "execution_count": null,
      "outputs": [
        {
          "output_type": "execute_result",
          "data": {
            "text/html": [
              "<a href='fast_food_osm.csv' target='_blank'>fast_food_osm.csv</a><br>"
            ],
            "text/plain": [
              "/Users/gaychenkova/Desktop/техноатом/ML/8/fast_food_osm.csv"
            ]
          },
          "metadata": {
            "tags": []
          },
          "execution_count": 62
        }
      ]
    },
    {
      "cell_type": "code",
      "metadata": {
        "id": "sKXDb7GvIZyq"
      },
      "source": [
        "fast_food_osm = pd.read_csv('data/fast_food_osm.csv')"
      ],
      "execution_count": null,
      "outputs": []
    },
    {
      "cell_type": "code",
      "metadata": {
        "scrolled": false,
        "id": "-T3Kul8jIZyq",
        "outputId": "903a9b94-6d29-47c1-98ba-8f0410b607a7"
      },
      "source": [
        "fast_food_osm"
      ],
      "execution_count": null,
      "outputs": [
        {
          "output_type": "execute_result",
          "data": {
            "text/html": [
              "<div>\n",
              "<style scoped>\n",
              "    .dataframe tbody tr th:only-of-type {\n",
              "        vertical-align: middle;\n",
              "    }\n",
              "\n",
              "    .dataframe tbody tr th {\n",
              "        vertical-align: top;\n",
              "    }\n",
              "\n",
              "    .dataframe thead th {\n",
              "        text-align: right;\n",
              "    }\n",
              "</style>\n",
              "<table border=\"1\" class=\"dataframe\">\n",
              "  <thead>\n",
              "    <tr style=\"text-align: right;\">\n",
              "      <th></th>\n",
              "      <th>id</th>\n",
              "      <th>name</th>\n",
              "      <th>lat</th>\n",
              "      <th>lon</th>\n",
              "      <th>geometry</th>\n",
              "    </tr>\n",
              "  </thead>\n",
              "  <tbody>\n",
              "    <tr>\n",
              "      <th>0</th>\n",
              "      <td>244255756</td>\n",
              "      <td>NaN</td>\n",
              "      <td>57.156944</td>\n",
              "      <td>65.532332</td>\n",
              "      <td>POINT (65.53233160000001 57.1569441)</td>\n",
              "    </tr>\n",
              "    <tr>\n",
              "      <th>1</th>\n",
              "      <td>253508236</td>\n",
              "      <td>KFC</td>\n",
              "      <td>55.731876</td>\n",
              "      <td>37.664447</td>\n",
              "      <td>POINT (37.664447 55.7318759)</td>\n",
              "    </tr>\n",
              "    <tr>\n",
              "      <th>2</th>\n",
              "      <td>267336195</td>\n",
              "      <td>Му-Му</td>\n",
              "      <td>55.760800</td>\n",
              "      <td>37.632065</td>\n",
              "      <td>POINT (37.6320651 55.7608001)</td>\n",
              "    </tr>\n",
              "    <tr>\n",
              "      <th>3</th>\n",
              "      <td>270193932</td>\n",
              "      <td>Макдоналдс</td>\n",
              "      <td>56.314378</td>\n",
              "      <td>38.136606</td>\n",
              "      <td>POINT (38.1366056 56.3143782)</td>\n",
              "    </tr>\n",
              "    <tr>\n",
              "      <th>4</th>\n",
              "      <td>270241326</td>\n",
              "      <td>Жар-Пицца</td>\n",
              "      <td>51.665035</td>\n",
              "      <td>39.204224</td>\n",
              "      <td>POINT (39.2042243 51.6650354)</td>\n",
              "    </tr>\n",
              "    <tr>\n",
              "      <th>...</th>\n",
              "      <td>...</td>\n",
              "      <td>...</td>\n",
              "      <td>...</td>\n",
              "      <td>...</td>\n",
              "      <td>...</td>\n",
              "    </tr>\n",
              "    <tr>\n",
              "      <th>14184</th>\n",
              "      <td>8761160427</td>\n",
              "      <td>ЕвроКебаб</td>\n",
              "      <td>59.893266</td>\n",
              "      <td>30.454801</td>\n",
              "      <td>POINT (30.4548008 59.8932661)</td>\n",
              "    </tr>\n",
              "    <tr>\n",
              "      <th>14185</th>\n",
              "      <td>8761483207</td>\n",
              "      <td>Суши Wok</td>\n",
              "      <td>55.599193</td>\n",
              "      <td>37.166961</td>\n",
              "      <td>POINT (37.1669612 55.5991934)</td>\n",
              "    </tr>\n",
              "    <tr>\n",
              "      <th>14186</th>\n",
              "      <td>8762719852</td>\n",
              "      <td>Шаверма</td>\n",
              "      <td>59.843840</td>\n",
              "      <td>30.330809</td>\n",
              "      <td>POINT (30.3308089 59.84384)</td>\n",
              "    </tr>\n",
              "    <tr>\n",
              "      <th>14187</th>\n",
              "      <td>8766228150</td>\n",
              "      <td>Шаверма</td>\n",
              "      <td>59.851487</td>\n",
              "      <td>30.293070</td>\n",
              "      <td>POINT (30.2930703 59.8514873)</td>\n",
              "    </tr>\n",
              "    <tr>\n",
              "      <th>14188</th>\n",
              "      <td>8767034868</td>\n",
              "      <td>NaN</td>\n",
              "      <td>55.734047</td>\n",
              "      <td>52.498393</td>\n",
              "      <td>POINT (52.4983925 55.7340468)</td>\n",
              "    </tr>\n",
              "  </tbody>\n",
              "</table>\n",
              "<p>14189 rows × 5 columns</p>\n",
              "</div>"
            ],
            "text/plain": [
              "               id        name        lat        lon  \\\n",
              "0       244255756         NaN  57.156944  65.532332   \n",
              "1       253508236         KFC  55.731876  37.664447   \n",
              "2       267336195       Му-Му  55.760800  37.632065   \n",
              "3       270193932  Макдоналдс  56.314378  38.136606   \n",
              "4       270241326   Жар-Пицца  51.665035  39.204224   \n",
              "...           ...         ...        ...        ...   \n",
              "14184  8761160427   ЕвроКебаб  59.893266  30.454801   \n",
              "14185  8761483207    Суши Wok  55.599193  37.166961   \n",
              "14186  8762719852     Шаверма  59.843840  30.330809   \n",
              "14187  8766228150     Шаверма  59.851487  30.293070   \n",
              "14188  8767034868         NaN  55.734047  52.498393   \n",
              "\n",
              "                                   geometry  \n",
              "0      POINT (65.53233160000001 57.1569441)  \n",
              "1              POINT (37.664447 55.7318759)  \n",
              "2             POINT (37.6320651 55.7608001)  \n",
              "3             POINT (38.1366056 56.3143782)  \n",
              "4             POINT (39.2042243 51.6650354)  \n",
              "...                                     ...  \n",
              "14184         POINT (30.4548008 59.8932661)  \n",
              "14185         POINT (37.1669612 55.5991934)  \n",
              "14186           POINT (30.3308089 59.84384)  \n",
              "14187         POINT (30.2930703 59.8514873)  \n",
              "14188         POINT (52.4983925 55.7340468)  \n",
              "\n",
              "[14189 rows x 5 columns]"
            ]
          },
          "metadata": {
            "tags": []
          },
          "execution_count": 72
        }
      ]
    },
    {
      "cell_type": "markdown",
      "metadata": {
        "id": "7Lbpi7unIZyq"
      },
      "source": [
        "#### тц"
      ]
    },
    {
      "cell_type": "code",
      "metadata": {
        "id": "ZcySk1VuIZyq"
      },
      "source": [
        "\"\"\"\n",
        "overpass_query = '''\n",
        "[out:json];\n",
        "area[\"ISO3166-1\"=\"RU\"];\n",
        "node[\"shop\"=\"mall\"](area);\n",
        "out center;\n",
        "'''\n",
        "\n",
        "response = requests.get(overpass_url, \n",
        "                        params={'data': overpass_query})\n",
        "mall = response.json()\n",
        "\n",
        "mall_osm = pd.DataFrame(mall['elements'])\n",
        "mall_osm = mall_osm.join(\n",
        "    pd.DataFrame([x['tags'] for x in mall['elements']])).drop('tags', axis=1)\n",
        "\"\"\""
      ],
      "execution_count": null,
      "outputs": []
    },
    {
      "cell_type": "code",
      "metadata": {
        "id": "pnNSZ4-NIZyr"
      },
      "source": [
        "# mall_osm = mall_osm[['id', 'name', 'lat', 'lon']]"
      ],
      "execution_count": null,
      "outputs": []
    },
    {
      "cell_type": "code",
      "metadata": {
        "id": "jeOamnaeIZyr"
      },
      "source": [
        "# mall_osm['geometry'] = [Point(x,y) for x,y in zip(mall_osm.lon, mall_osm.lat)]"
      ],
      "execution_count": null,
      "outputs": []
    },
    {
      "cell_type": "code",
      "metadata": {
        "id": "aLRqRt_1IZyr"
      },
      "source": [
        "# mall_osm.to_csv('mall_osm.csv', index=False)"
      ],
      "execution_count": null,
      "outputs": []
    },
    {
      "cell_type": "code",
      "metadata": {
        "id": "RRuypIM_IZyr",
        "outputId": "117fe7c4-373a-4f56-905d-03f1d53eda4e"
      },
      "source": [
        "# FileLink(r'mall_osm.csv')"
      ],
      "execution_count": null,
      "outputs": [
        {
          "output_type": "execute_result",
          "data": {
            "text/html": [
              "<a href='mall_osm.csv' target='_blank'>mall_osm.csv</a><br>"
            ],
            "text/plain": [
              "/Users/gaychenkova/Desktop/техноатом/ML/8/mall_osm.csv"
            ]
          },
          "metadata": {
            "tags": []
          },
          "execution_count": 51
        }
      ]
    },
    {
      "cell_type": "code",
      "metadata": {
        "id": "oXxmtRVSIZyr"
      },
      "source": [
        "mall_osm = pd.read_csv('data/mall_osm.csv')"
      ],
      "execution_count": null,
      "outputs": []
    },
    {
      "cell_type": "code",
      "metadata": {
        "id": "7Hy4ixJjIZys",
        "outputId": "3d03ae46-203f-4147-e9aa-b84a9028b3de"
      },
      "source": [
        "mall_osm"
      ],
      "execution_count": null,
      "outputs": [
        {
          "output_type": "execute_result",
          "data": {
            "text/html": [
              "<div>\n",
              "<style scoped>\n",
              "    .dataframe tbody tr th:only-of-type {\n",
              "        vertical-align: middle;\n",
              "    }\n",
              "\n",
              "    .dataframe tbody tr th {\n",
              "        vertical-align: top;\n",
              "    }\n",
              "\n",
              "    .dataframe thead th {\n",
              "        text-align: right;\n",
              "    }\n",
              "</style>\n",
              "<table border=\"1\" class=\"dataframe\">\n",
              "  <thead>\n",
              "    <tr style=\"text-align: right;\">\n",
              "      <th></th>\n",
              "      <th>id</th>\n",
              "      <th>name</th>\n",
              "      <th>lat</th>\n",
              "      <th>lon</th>\n",
              "      <th>geometry</th>\n",
              "    </tr>\n",
              "  </thead>\n",
              "  <tbody>\n",
              "    <tr>\n",
              "      <th>0</th>\n",
              "      <td>310752865</td>\n",
              "      <td>Белград</td>\n",
              "      <td>55.604622</td>\n",
              "      <td>37.712301</td>\n",
              "      <td>POINT (37.7123014 55.6046219)</td>\n",
              "    </tr>\n",
              "    <tr>\n",
              "      <th>1</th>\n",
              "      <td>356058145</td>\n",
              "      <td>NaN</td>\n",
              "      <td>60.352145</td>\n",
              "      <td>29.440665</td>\n",
              "      <td>POINT (29.4406646 60.3521446)</td>\n",
              "    </tr>\n",
              "    <tr>\n",
              "      <th>2</th>\n",
              "      <td>370228123</td>\n",
              "      <td>Максимус</td>\n",
              "      <td>53.386573</td>\n",
              "      <td>58.978808</td>\n",
              "      <td>POINT (58.9788084 53.3865733)</td>\n",
              "    </tr>\n",
              "    <tr>\n",
              "      <th>3</th>\n",
              "      <td>370228223</td>\n",
              "      <td>Jazz mall</td>\n",
              "      <td>53.430292</td>\n",
              "      <td>58.973220</td>\n",
              "      <td>POINT (58.9732198 53.4302916)</td>\n",
              "    </tr>\n",
              "    <tr>\n",
              "      <th>4</th>\n",
              "      <td>370228446</td>\n",
              "      <td>Стройдвор</td>\n",
              "      <td>53.369434</td>\n",
              "      <td>58.959217</td>\n",
              "      <td>POINT (58.959217 53.369434)</td>\n",
              "    </tr>\n",
              "    <tr>\n",
              "      <th>...</th>\n",
              "      <td>...</td>\n",
              "      <td>...</td>\n",
              "      <td>...</td>\n",
              "      <td>...</td>\n",
              "      <td>...</td>\n",
              "    </tr>\n",
              "    <tr>\n",
              "      <th>1005</th>\n",
              "      <td>8605976180</td>\n",
              "      <td>Полесье</td>\n",
              "      <td>55.610638</td>\n",
              "      <td>37.171040</td>\n",
              "      <td>POINT (37.1710397 55.6106378)</td>\n",
              "    </tr>\n",
              "    <tr>\n",
              "      <th>1006</th>\n",
              "      <td>8649604671</td>\n",
              "      <td>Плехановский</td>\n",
              "      <td>57.133799</td>\n",
              "      <td>65.481624</td>\n",
              "      <td>POINT (65.4816244 57.1337989)</td>\n",
              "    </tr>\n",
              "    <tr>\n",
              "      <th>1007</th>\n",
              "      <td>8738233032</td>\n",
              "      <td>Троицкий</td>\n",
              "      <td>57.977892</td>\n",
              "      <td>33.250688</td>\n",
              "      <td>POINT (33.2506876 57.9778918)</td>\n",
              "    </tr>\n",
              "    <tr>\n",
              "      <th>1008</th>\n",
              "      <td>8752409419</td>\n",
              "      <td>ТЦ \"Георгиевский\"</td>\n",
              "      <td>45.432955</td>\n",
              "      <td>40.575172</td>\n",
              "      <td>POINT (40.5751719 45.4329551)</td>\n",
              "    </tr>\n",
              "    <tr>\n",
              "      <th>1009</th>\n",
              "      <td>8764675889</td>\n",
              "      <td>ТДЦ \"Якорь\"</td>\n",
              "      <td>64.572067</td>\n",
              "      <td>40.511797</td>\n",
              "      <td>POINT (40.5117965 64.5720673)</td>\n",
              "    </tr>\n",
              "  </tbody>\n",
              "</table>\n",
              "<p>1010 rows × 5 columns</p>\n",
              "</div>"
            ],
            "text/plain": [
              "              id               name        lat        lon  \\\n",
              "0      310752865            Белград  55.604622  37.712301   \n",
              "1      356058145                NaN  60.352145  29.440665   \n",
              "2      370228123           Максимус  53.386573  58.978808   \n",
              "3      370228223          Jazz mall  53.430292  58.973220   \n",
              "4      370228446          Стройдвор  53.369434  58.959217   \n",
              "...          ...                ...        ...        ...   \n",
              "1005  8605976180            Полесье  55.610638  37.171040   \n",
              "1006  8649604671       Плехановский  57.133799  65.481624   \n",
              "1007  8738233032           Троицкий  57.977892  33.250688   \n",
              "1008  8752409419  ТЦ \"Георгиевский\"  45.432955  40.575172   \n",
              "1009  8764675889        ТДЦ \"Якорь\"  64.572067  40.511797   \n",
              "\n",
              "                           geometry  \n",
              "0     POINT (37.7123014 55.6046219)  \n",
              "1     POINT (29.4406646 60.3521446)  \n",
              "2     POINT (58.9788084 53.3865733)  \n",
              "3     POINT (58.9732198 53.4302916)  \n",
              "4       POINT (58.959217 53.369434)  \n",
              "...                             ...  \n",
              "1005  POINT (37.1710397 55.6106378)  \n",
              "1006  POINT (65.4816244 57.1337989)  \n",
              "1007  POINT (33.2506876 57.9778918)  \n",
              "1008  POINT (40.5751719 45.4329551)  \n",
              "1009  POINT (40.5117965 64.5720673)  \n",
              "\n",
              "[1010 rows x 5 columns]"
            ]
          },
          "metadata": {
            "tags": []
          },
          "execution_count": 47
        }
      ]
    },
    {
      "cell_type": "markdown",
      "metadata": {
        "id": "NTPXKkFVIZys"
      },
      "source": [
        "3. **Используйте разные способы генерации признаков**: описать положение салона МегаФона относительно станций метро можно разными способами - найти ***расстояние до ближайшей станции***, или же посчитать, сколько станций попадает в ***500 метровую буферную зону*** вокруг салона. Такие признаки будут нести разную информацию. Так же попробуйте поэкспериментировать с размерами буферных зон (представьте, что значат в реальности радиусы 100, 500, 1000 метров). Попробуйте посчитать расстояние до центра города, до других объектов."
      ]
    },
    {
      "cell_type": "markdown",
      "metadata": {
        "id": "mnWS7jS4IZys"
      },
      "source": [
        "Выбрала следующие признаки:\n",
        "* количество ж/д станций и тц в радиусе 2 км\n",
        "* количество автобусных остановок в радиусе 500 м\n",
        "* количество отелей, хостелов и фаст-фуд корнеров в радиусе 1 км\n",
        "\n",
        "Чтобы долго не ждать загрузки, заранее сохраняю полученные данные."
      ]
    },
    {
      "cell_type": "code",
      "metadata": {
        "id": "D2fUndDNIZys",
        "outputId": "20964cd8-2990-4e4f-a3ad-9b6d81936bb0"
      },
      "source": [
        "\"\"\"\n",
        "train['railway_nearby'] = 0\n",
        "for index, row in tqdm(train.iterrows(), total=train.shape[0]):\n",
        "    for idx, row2 in railway_osm.iterrows():\n",
        "        if distance.great_circle((row['lat'],row['lon']), (row2['lat'],row2['lon'])).km <= 2:\n",
        "            train.loc[[index], ['railway_nearby']] += 1\n",
        "            break\n",
        "\"\"\""
      ],
      "execution_count": null,
      "outputs": [
        {
          "output_type": "stream",
          "text": [
            "100%|██████████| 425/425 [02:23<00:00,  2.97it/s]\n"
          ],
          "name": "stderr"
        }
      ]
    },
    {
      "cell_type": "code",
      "metadata": {
        "id": "bR1CuSOCIZyt",
        "outputId": "f7a9eb75-67ec-4a82-a28d-09388b7579c4"
      },
      "source": [
        "\"\"\"\n",
        "train['bus_station_nearby'] = 0\n",
        "for index, row in tqdm(train.iterrows(), total=train.shape[0]):\n",
        "    for idx, row2 in bus_station_osm.iterrows():\n",
        "        if distance.great_circle((row['lat'],row['lon']), (row2['lat'],row2['lon'])).km <= 0.5:\n",
        "            train.loc[[index], ['bus_station_nearby']] += 1\n",
        "\"\"\""
      ],
      "execution_count": null,
      "outputs": [
        {
          "output_type": "stream",
          "text": [
            "100%|██████████| 425/425 [01:42<00:00,  4.14it/s]\n"
          ],
          "name": "stderr"
        }
      ]
    },
    {
      "cell_type": "code",
      "metadata": {
        "id": "rcoEaCSZIZyt",
        "outputId": "f6b5148d-ab6b-496d-c413-352023832879"
      },
      "source": [
        "\"\"\"\n",
        "train['hotel_nearby'] = 0\n",
        "for index, row in tqdm(train.iterrows(), total=train.shape[0]):\n",
        "    for idx, row2 in hotel_osm.iterrows():\n",
        "        if distance.great_circle((row['lat'],row['lon']), (row2['lat'],row2['lon'])).km <= 1:\n",
        "            train.loc[[index], ['hotel_nearby']] += 1\n",
        "\"\"\""
      ],
      "execution_count": null,
      "outputs": [
        {
          "output_type": "stream",
          "text": [
            "100%|██████████| 425/425 [13:43<00:00,  1.94s/it]\n"
          ],
          "name": "stderr"
        }
      ]
    },
    {
      "cell_type": "code",
      "metadata": {
        "id": "W-oMS9IRIZyt",
        "outputId": "6b626a02-5ad1-4589-a103-51dc47cc0df3"
      },
      "source": [
        "\"\"\"\n",
        "train['hostel_nearby'] = 0\n",
        "for index, row in tqdm(train.iterrows(), total=train.shape[0]):\n",
        "    for idx, row2 in hostel_osm.iterrows():\n",
        "        if distance.great_circle((row['lat'],row['lon']), (row2['lat'],row2['lon'])).km <= 1:\n",
        "            train.loc[[index], ['hostel_nearby']] += 1\n",
        "\"\"\""
      ],
      "execution_count": null,
      "outputs": [
        {
          "output_type": "stream",
          "text": [
            "100%|██████████| 425/425 [01:53<00:00,  3.74it/s]\n"
          ],
          "name": "stderr"
        }
      ]
    },
    {
      "cell_type": "code",
      "metadata": {
        "id": "n7nI9SfuIZyu",
        "outputId": "d543e2b3-359e-4f53-d478-77d83cc5b337"
      },
      "source": [
        "\"\"\"\n",
        "train['fast_food_nearby'] = 0\n",
        "for index, row in tqdm(train.iterrows(), total=train.shape[0]):\n",
        "    for idx, row2 in fast_food_osm.iterrows():\n",
        "        if distance.great_circle((row['lat'],row['lon']), (row2['lat'],row2['lon'])).km <= 1:\n",
        "            train.loc[[index], ['fast_food_nearby']] += 1\n",
        "\"\"\""
      ],
      "execution_count": null,
      "outputs": [
        {
          "output_type": "stream",
          "text": [
            "100%|██████████| 425/425 [20:29<00:00,  2.89s/it]  \n"
          ],
          "name": "stderr"
        }
      ]
    },
    {
      "cell_type": "code",
      "metadata": {
        "id": "WFuuCP2KIZyu",
        "outputId": "cb819120-6930-40eb-b013-7700c0dbe242"
      },
      "source": [
        "\"\"\"\n",
        "train['mall_nearby'] = 0\n",
        "for index, row in tqdm(train.iterrows(), total=train.shape[0]):\n",
        "    for idx, row2 in mall_osm.iterrows():\n",
        "        if distance.great_circle((row['lat'],row['lon']), (row2['lat'],row2['lon'])).km <= 2:\n",
        "            train.loc[[index], ['mall_nearby']] += 1\n",
        "\"\"\""
      ],
      "execution_count": null,
      "outputs": [
        {
          "output_type": "stream",
          "text": [
            "100%|██████████| 425/425 [01:33<00:00,  4.56it/s]\n"
          ],
          "name": "stderr"
        }
      ]
    },
    {
      "cell_type": "code",
      "metadata": {
        "id": "uIKqWoahIZyu"
      },
      "source": [
        "# train.to_csv('train.csv', index=False)"
      ],
      "execution_count": null,
      "outputs": []
    },
    {
      "cell_type": "code",
      "metadata": {
        "id": "Z2rAtu4RIZyu",
        "outputId": "1e6ecc65-8624-4339-e103-9416d4e80f74"
      },
      "source": [
        "# FileLink(r'train.csv')"
      ],
      "execution_count": null,
      "outputs": [
        {
          "output_type": "execute_result",
          "data": {
            "text/html": [
              "<a href='train.csv' target='_blank'>train.csv</a><br>"
            ],
            "text/plain": [
              "/Users/gaychenkova/Desktop/техноатом/ML/8/train.csv"
            ]
          },
          "metadata": {
            "tags": []
          },
          "execution_count": 89
        }
      ]
    },
    {
      "cell_type": "code",
      "metadata": {
        "id": "7vOcK7v_IZyv"
      },
      "source": [
        "train = pd.read_csv('data/train.csv')"
      ],
      "execution_count": null,
      "outputs": []
    },
    {
      "cell_type": "code",
      "metadata": {
        "id": "h23os4NCIZyv",
        "outputId": "ee14d556-83b1-4df1-bfee-b8457214d312"
      },
      "source": [
        "train"
      ],
      "execution_count": null,
      "outputs": [
        {
          "output_type": "execute_result",
          "data": {
            "text/html": [
              "<div>\n",
              "<style scoped>\n",
              "    .dataframe tbody tr th:only-of-type {\n",
              "        vertical-align: middle;\n",
              "    }\n",
              "\n",
              "    .dataframe tbody tr th {\n",
              "        vertical-align: top;\n",
              "    }\n",
              "\n",
              "    .dataframe thead th {\n",
              "        text-align: right;\n",
              "    }\n",
              "</style>\n",
              "<table border=\"1\" class=\"dataframe\">\n",
              "  <thead>\n",
              "    <tr style=\"text-align: right;\">\n",
              "      <th></th>\n",
              "      <th>point_id</th>\n",
              "      <th>lon</th>\n",
              "      <th>lat</th>\n",
              "      <th>target</th>\n",
              "      <th>city</th>\n",
              "      <th>railway_nearby</th>\n",
              "      <th>bus_station_nearby</th>\n",
              "      <th>hotel_nearby</th>\n",
              "      <th>hostel_nearby</th>\n",
              "      <th>fast_food_nearby</th>\n",
              "      <th>mall_nearby</th>\n",
              "    </tr>\n",
              "  </thead>\n",
              "  <tbody>\n",
              "    <tr>\n",
              "      <th>0</th>\n",
              "      <td>ommNZCUV</td>\n",
              "      <td>37.590776</td>\n",
              "      <td>55.848630</td>\n",
              "      <td>-0.348157</td>\n",
              "      <td>Москва</td>\n",
              "      <td>1</td>\n",
              "      <td>0</td>\n",
              "      <td>4</td>\n",
              "      <td>1</td>\n",
              "      <td>10</td>\n",
              "      <td>0</td>\n",
              "    </tr>\n",
              "    <tr>\n",
              "      <th>1</th>\n",
              "      <td>nMe2LHPb</td>\n",
              "      <td>37.784210</td>\n",
              "      <td>55.750271</td>\n",
              "      <td>1.294206</td>\n",
              "      <td>Москва</td>\n",
              "      <td>1</td>\n",
              "      <td>0</td>\n",
              "      <td>1</td>\n",
              "      <td>0</td>\n",
              "      <td>15</td>\n",
              "      <td>0</td>\n",
              "    </tr>\n",
              "    <tr>\n",
              "      <th>2</th>\n",
              "      <td>ZgodVRqB</td>\n",
              "      <td>39.635721</td>\n",
              "      <td>47.213330</td>\n",
              "      <td>-1.039679</td>\n",
              "      <td>Ростов-на-Дону</td>\n",
              "      <td>0</td>\n",
              "      <td>0</td>\n",
              "      <td>3</td>\n",
              "      <td>0</td>\n",
              "      <td>0</td>\n",
              "      <td>0</td>\n",
              "    </tr>\n",
              "    <tr>\n",
              "      <th>3</th>\n",
              "      <td>0t2jNYdz</td>\n",
              "      <td>37.704570</td>\n",
              "      <td>55.782020</td>\n",
              "      <td>-1.169339</td>\n",
              "      <td>Москва</td>\n",
              "      <td>1</td>\n",
              "      <td>0</td>\n",
              "      <td>3</td>\n",
              "      <td>3</td>\n",
              "      <td>22</td>\n",
              "      <td>0</td>\n",
              "    </tr>\n",
              "    <tr>\n",
              "      <th>4</th>\n",
              "      <td>U27W4QJ7</td>\n",
              "      <td>37.643983</td>\n",
              "      <td>55.730188</td>\n",
              "      <td>-0.088837</td>\n",
              "      <td>Москва</td>\n",
              "      <td>1</td>\n",
              "      <td>0</td>\n",
              "      <td>15</td>\n",
              "      <td>12</td>\n",
              "      <td>47</td>\n",
              "      <td>0</td>\n",
              "    </tr>\n",
              "    <tr>\n",
              "      <th>...</th>\n",
              "      <td>...</td>\n",
              "      <td>...</td>\n",
              "      <td>...</td>\n",
              "      <td>...</td>\n",
              "      <td>...</td>\n",
              "      <td>...</td>\n",
              "      <td>...</td>\n",
              "      <td>...</td>\n",
              "      <td>...</td>\n",
              "      <td>...</td>\n",
              "      <td>...</td>\n",
              "    </tr>\n",
              "    <tr>\n",
              "      <th>420</th>\n",
              "      <td>AA8hN7bJ</td>\n",
              "      <td>37.628765</td>\n",
              "      <td>55.740664</td>\n",
              "      <td>0.213704</td>\n",
              "      <td>Москва</td>\n",
              "      <td>1</td>\n",
              "      <td>0</td>\n",
              "      <td>25</td>\n",
              "      <td>16</td>\n",
              "      <td>28</td>\n",
              "      <td>1</td>\n",
              "    </tr>\n",
              "    <tr>\n",
              "      <th>421</th>\n",
              "      <td>uNw6t6xk</td>\n",
              "      <td>37.586825</td>\n",
              "      <td>55.794233</td>\n",
              "      <td>-0.002397</td>\n",
              "      <td>Москва</td>\n",
              "      <td>1</td>\n",
              "      <td>0</td>\n",
              "      <td>2</td>\n",
              "      <td>4</td>\n",
              "      <td>38</td>\n",
              "      <td>4</td>\n",
              "    </tr>\n",
              "    <tr>\n",
              "      <th>422</th>\n",
              "      <td>Ap42ei8k</td>\n",
              "      <td>37.678790</td>\n",
              "      <td>55.772910</td>\n",
              "      <td>-0.910019</td>\n",
              "      <td>Москва</td>\n",
              "      <td>1</td>\n",
              "      <td>0</td>\n",
              "      <td>9</td>\n",
              "      <td>8</td>\n",
              "      <td>34</td>\n",
              "      <td>0</td>\n",
              "    </tr>\n",
              "    <tr>\n",
              "      <th>423</th>\n",
              "      <td>rn9A8r62</td>\n",
              "      <td>37.752130</td>\n",
              "      <td>55.619640</td>\n",
              "      <td>-0.326547</td>\n",
              "      <td>Москва</td>\n",
              "      <td>1</td>\n",
              "      <td>0</td>\n",
              "      <td>0</td>\n",
              "      <td>0</td>\n",
              "      <td>13</td>\n",
              "      <td>0</td>\n",
              "    </tr>\n",
              "    <tr>\n",
              "      <th>424</th>\n",
              "      <td>960M6jye</td>\n",
              "      <td>37.705770</td>\n",
              "      <td>55.782950</td>\n",
              "      <td>-1.234169</td>\n",
              "      <td>Москва</td>\n",
              "      <td>1</td>\n",
              "      <td>0</td>\n",
              "      <td>3</td>\n",
              "      <td>2</td>\n",
              "      <td>22</td>\n",
              "      <td>0</td>\n",
              "    </tr>\n",
              "  </tbody>\n",
              "</table>\n",
              "<p>425 rows × 11 columns</p>\n",
              "</div>"
            ],
            "text/plain": [
              "     point_id        lon        lat    target            city  railway_nearby  \\\n",
              "0    ommNZCUV  37.590776  55.848630 -0.348157          Москва               1   \n",
              "1    nMe2LHPb  37.784210  55.750271  1.294206          Москва               1   \n",
              "2    ZgodVRqB  39.635721  47.213330 -1.039679  Ростов-на-Дону               0   \n",
              "3    0t2jNYdz  37.704570  55.782020 -1.169339          Москва               1   \n",
              "4    U27W4QJ7  37.643983  55.730188 -0.088837          Москва               1   \n",
              "..        ...        ...        ...       ...             ...             ...   \n",
              "420  AA8hN7bJ  37.628765  55.740664  0.213704          Москва               1   \n",
              "421  uNw6t6xk  37.586825  55.794233 -0.002397          Москва               1   \n",
              "422  Ap42ei8k  37.678790  55.772910 -0.910019          Москва               1   \n",
              "423  rn9A8r62  37.752130  55.619640 -0.326547          Москва               1   \n",
              "424  960M6jye  37.705770  55.782950 -1.234169          Москва               1   \n",
              "\n",
              "     bus_station_nearby  hotel_nearby  hostel_nearby  fast_food_nearby  \\\n",
              "0                     0             4              1                10   \n",
              "1                     0             1              0                15   \n",
              "2                     0             3              0                 0   \n",
              "3                     0             3              3                22   \n",
              "4                     0            15             12                47   \n",
              "..                  ...           ...            ...               ...   \n",
              "420                   0            25             16                28   \n",
              "421                   0             2              4                38   \n",
              "422                   0             9              8                34   \n",
              "423                   0             0              0                13   \n",
              "424                   0             3              2                22   \n",
              "\n",
              "     mall_nearby  \n",
              "0              0  \n",
              "1              0  \n",
              "2              0  \n",
              "3              0  \n",
              "4              0  \n",
              "..           ...  \n",
              "420            1  \n",
              "421            4  \n",
              "422            0  \n",
              "423            0  \n",
              "424            0  \n",
              "\n",
              "[425 rows x 11 columns]"
            ]
          },
          "metadata": {
            "tags": []
          },
          "execution_count": 148
        }
      ]
    },
    {
      "cell_type": "code",
      "metadata": {
        "id": "AZ4MGqnyIZyv"
      },
      "source": [
        "train.dropna(inplace=True)"
      ],
      "execution_count": null,
      "outputs": []
    },
    {
      "cell_type": "code",
      "metadata": {
        "id": "R7xvpImWIZyv"
      },
      "source": [
        "train.drop('city', axis=1, inplace=True)"
      ],
      "execution_count": null,
      "outputs": []
    },
    {
      "cell_type": "code",
      "metadata": {
        "id": "N9NhJ9IKIZyv",
        "outputId": "d8ab04e0-a43b-4e54-c358-5fcf385958f8"
      },
      "source": [
        "\"\"\"\n",
        "test['railway_nearby'] = 0\n",
        "for index, row in tqdm(test.iterrows(), total=test.shape[0]):\n",
        "    for idx, row2 in railway_osm.iterrows():\n",
        "        if distance.great_circle((row['lat'],row['lon']), (row2['lat'],row2['lon'])).km <= 2:\n",
        "            test.loc[[index], ['railway_nearby']] += 1\n",
        "            break\n",
        "\"\"\""
      ],
      "execution_count": null,
      "outputs": [
        {
          "output_type": "stream",
          "text": [
            "100%|██████████| 107/107 [01:06<00:00,  1.62it/s]\n"
          ],
          "name": "stderr"
        }
      ]
    },
    {
      "cell_type": "code",
      "metadata": {
        "id": "VLfXPLXQIZyw",
        "outputId": "c64bf2a7-c08a-4b03-f962-ee0450c8e17a"
      },
      "source": [
        "\"\"\"\n",
        "test['bus_station_nearby'] = 0\n",
        "for index, row in tqdm(test.iterrows(), total=test.shape[0]):\n",
        "    for idx, row2 in bus_station_osm.iterrows():\n",
        "        if distance.great_circle((row['lat'],row['lon']), (row2['lat'],row2['lon'])).km <= 0.5:\n",
        "            test.loc[[index], ['bus_station_nearby']] += 1\n",
        "\"\"\""
      ],
      "execution_count": null,
      "outputs": [
        {
          "output_type": "stream",
          "text": [
            "100%|██████████| 107/107 [00:41<00:00,  2.58it/s]\n"
          ],
          "name": "stderr"
        }
      ]
    },
    {
      "cell_type": "code",
      "metadata": {
        "id": "ZLcGsaQWIZyw",
        "outputId": "a9fafdbd-ffc1-41c0-98c0-2291335892c8"
      },
      "source": [
        "\"\"\"\n",
        "test['hotel_nearby'] = 0\n",
        "for index, row in tqdm(test.iterrows(), total=test.shape[0]):\n",
        "    for idx, row2 in hotel_osm.iterrows():\n",
        "        if distance.great_circle((row['lat'],row['lon']), (row2['lat'],row2['lon'])).km <= 1:\n",
        "            test.loc[[index], ['hotel_nearby']] += 1\n",
        "\"\"\""
      ],
      "execution_count": null,
      "outputs": [
        {
          "output_type": "stream",
          "text": [
            "100%|██████████| 107/107 [02:56<00:00,  1.65s/it]\n"
          ],
          "name": "stderr"
        }
      ]
    },
    {
      "cell_type": "code",
      "metadata": {
        "id": "Y8mP8HZSIZyw",
        "outputId": "6667338d-ec52-411c-aa58-90e08cacadfb"
      },
      "source": [
        "\"\"\"\n",
        "test['hostel_nearby'] = 0\n",
        "for index, row in tqdm(test.iterrows(), total=test.shape[0]):\n",
        "    for idx, row2 in hostel_osm.iterrows():\n",
        "        if distance.great_circle((row['lat'],row['lon']), (row2['lat'],row2['lon'])).km <= 1:\n",
        "            test.loc[[index], ['hostel_nearby']] += 1\n",
        "\"\"\""
      ],
      "execution_count": null,
      "outputs": [
        {
          "output_type": "stream",
          "text": [
            "100%|██████████| 107/107 [00:31<00:00,  3.39it/s]\n"
          ],
          "name": "stderr"
        }
      ]
    },
    {
      "cell_type": "code",
      "metadata": {
        "id": "b4HyGIwhIZyw",
        "outputId": "e191648f-46ba-4e82-bde2-da0ad3ae5fc1"
      },
      "source": [
        "\"\"\"\n",
        "test['fast_food_nearby'] = 0\n",
        "for index, row in tqdm(test.iterrows(), total=test.shape[0]):\n",
        "    for idx, row2 in fast_food_osm.iterrows():\n",
        "        if distance.great_circle((row['lat'],row['lon']), (row2['lat'],row2['lon'])).km <= 1:\n",
        "            test.loc[[index], ['fast_food_nearby']] += 1\n",
        "\"\"\""
      ],
      "execution_count": null,
      "outputs": [
        {
          "output_type": "stream",
          "text": [
            "100%|██████████| 107/107 [06:54<00:00,  3.87s/it]\n"
          ],
          "name": "stderr"
        }
      ]
    },
    {
      "cell_type": "code",
      "metadata": {
        "id": "dGrZ9x7BIZyx",
        "outputId": "0ad4d20c-6130-4638-cc26-fc62661111e4"
      },
      "source": [
        "\"\"\"\n",
        "test['mall_nearby'] = 0\n",
        "for index, row in tqdm(test.iterrows(), total=test.shape[0]):\n",
        "    for idx, row2 in mall_osm.iterrows():\n",
        "        if distance.great_circle((row['lat'],row['lon']), (row2['lat'],row2['lon'])).km <= 2:\n",
        "            test.loc[[index], ['mall_nearby']] += 1\n",
        "\"\"\""
      ],
      "execution_count": null,
      "outputs": [
        {
          "output_type": "stream",
          "text": [
            "100%|██████████| 107/107 [02:21<00:00,  1.32s/it]\n"
          ],
          "name": "stderr"
        }
      ]
    },
    {
      "cell_type": "code",
      "metadata": {
        "id": "WTKFPI77IZyx"
      },
      "source": [
        "# test.to_csv('test.csv', index=False)"
      ],
      "execution_count": null,
      "outputs": []
    },
    {
      "cell_type": "code",
      "metadata": {
        "id": "uHEiXUc2IZyx",
        "outputId": "9a3cfceb-1546-48c1-bc7b-562d5ff8b0a8"
      },
      "source": [
        "# FileLink(r'test.csv')"
      ],
      "execution_count": null,
      "outputs": [
        {
          "output_type": "execute_result",
          "data": {
            "text/html": [
              "<a href='test.csv' target='_blank'>test.csv</a><br>"
            ],
            "text/plain": [
              "/Users/gaychenkova/Desktop/техноатом/ML/8/test.csv"
            ]
          },
          "metadata": {
            "tags": []
          },
          "execution_count": 162
        }
      ]
    },
    {
      "cell_type": "code",
      "metadata": {
        "id": "Xnber1zOIZyx"
      },
      "source": [
        "test = pd.read_csv('data/test.csv')"
      ],
      "execution_count": null,
      "outputs": []
    },
    {
      "cell_type": "code",
      "metadata": {
        "id": "Na_MCemMIZyx",
        "outputId": "02773a65-cfbf-4a25-ffe5-36ada4d9183f"
      },
      "source": [
        "test"
      ],
      "execution_count": null,
      "outputs": [
        {
          "output_type": "execute_result",
          "data": {
            "text/html": [
              "<div>\n",
              "<style scoped>\n",
              "    .dataframe tbody tr th:only-of-type {\n",
              "        vertical-align: middle;\n",
              "    }\n",
              "\n",
              "    .dataframe tbody tr th {\n",
              "        vertical-align: top;\n",
              "    }\n",
              "\n",
              "    .dataframe thead th {\n",
              "        text-align: right;\n",
              "    }\n",
              "</style>\n",
              "<table border=\"1\" class=\"dataframe\">\n",
              "  <thead>\n",
              "    <tr style=\"text-align: right;\">\n",
              "      <th></th>\n",
              "      <th>point_id</th>\n",
              "      <th>lon</th>\n",
              "      <th>lat</th>\n",
              "      <th>target</th>\n",
              "      <th>city</th>\n",
              "      <th>railway_nearby</th>\n",
              "      <th>bus_station_nearby</th>\n",
              "      <th>hotel_nearby</th>\n",
              "      <th>hostel_nearby</th>\n",
              "      <th>fast_food_nearby</th>\n",
              "      <th>mall_nearby</th>\n",
              "    </tr>\n",
              "  </thead>\n",
              "  <tbody>\n",
              "    <tr>\n",
              "      <th>0</th>\n",
              "      <td>F4lXR1cG</td>\n",
              "      <td>37.681242</td>\n",
              "      <td>55.748040</td>\n",
              "      <td>0.0091</td>\n",
              "      <td>Москва</td>\n",
              "      <td>1</td>\n",
              "      <td>0</td>\n",
              "      <td>4</td>\n",
              "      <td>3</td>\n",
              "      <td>18</td>\n",
              "      <td>0</td>\n",
              "    </tr>\n",
              "    <tr>\n",
              "      <th>1</th>\n",
              "      <td>4LJu4GTf</td>\n",
              "      <td>60.580910</td>\n",
              "      <td>56.795860</td>\n",
              "      <td>0.0091</td>\n",
              "      <td>Екатеринбург</td>\n",
              "      <td>0</td>\n",
              "      <td>0</td>\n",
              "      <td>1</td>\n",
              "      <td>0</td>\n",
              "      <td>7</td>\n",
              "      <td>0</td>\n",
              "    </tr>\n",
              "    <tr>\n",
              "      <th>2</th>\n",
              "      <td>kLuAAN3s</td>\n",
              "      <td>37.598614</td>\n",
              "      <td>55.781357</td>\n",
              "      <td>0.0091</td>\n",
              "      <td>Москва</td>\n",
              "      <td>1</td>\n",
              "      <td>0</td>\n",
              "      <td>4</td>\n",
              "      <td>7</td>\n",
              "      <td>35</td>\n",
              "      <td>3</td>\n",
              "    </tr>\n",
              "    <tr>\n",
              "      <th>3</th>\n",
              "      <td>OxQHvaNu</td>\n",
              "      <td>37.794051</td>\n",
              "      <td>55.717468</td>\n",
              "      <td>0.0091</td>\n",
              "      <td>Москва</td>\n",
              "      <td>1</td>\n",
              "      <td>0</td>\n",
              "      <td>3</td>\n",
              "      <td>0</td>\n",
              "      <td>17</td>\n",
              "      <td>0</td>\n",
              "    </tr>\n",
              "    <tr>\n",
              "      <th>4</th>\n",
              "      <td>paQsTa1K</td>\n",
              "      <td>49.213026</td>\n",
              "      <td>55.748290</td>\n",
              "      <td>0.0091</td>\n",
              "      <td>Казань</td>\n",
              "      <td>0</td>\n",
              "      <td>0</td>\n",
              "      <td>1</td>\n",
              "      <td>0</td>\n",
              "      <td>6</td>\n",
              "      <td>0</td>\n",
              "    </tr>\n",
              "    <tr>\n",
              "      <th>...</th>\n",
              "      <td>...</td>\n",
              "      <td>...</td>\n",
              "      <td>...</td>\n",
              "      <td>...</td>\n",
              "      <td>...</td>\n",
              "      <td>...</td>\n",
              "      <td>...</td>\n",
              "      <td>...</td>\n",
              "      <td>...</td>\n",
              "      <td>...</td>\n",
              "      <td>...</td>\n",
              "    </tr>\n",
              "    <tr>\n",
              "      <th>102</th>\n",
              "      <td>y8oQuX5v</td>\n",
              "      <td>30.353777</td>\n",
              "      <td>60.049792</td>\n",
              "      <td>0.0091</td>\n",
              "      <td>Санкт-Петербург</td>\n",
              "      <td>1</td>\n",
              "      <td>0</td>\n",
              "      <td>1</td>\n",
              "      <td>0</td>\n",
              "      <td>8</td>\n",
              "      <td>0</td>\n",
              "    </tr>\n",
              "    <tr>\n",
              "      <th>103</th>\n",
              "      <td>4nmfqUw0</td>\n",
              "      <td>92.928927</td>\n",
              "      <td>56.116262</td>\n",
              "      <td>0.0091</td>\n",
              "      <td>Красноярск</td>\n",
              "      <td>0</td>\n",
              "      <td>0</td>\n",
              "      <td>0</td>\n",
              "      <td>0</td>\n",
              "      <td>0</td>\n",
              "      <td>0</td>\n",
              "    </tr>\n",
              "    <tr>\n",
              "      <th>104</th>\n",
              "      <td>N9O45mAh</td>\n",
              "      <td>93.015993</td>\n",
              "      <td>56.023697</td>\n",
              "      <td>0.0091</td>\n",
              "      <td>Красноярск</td>\n",
              "      <td>0</td>\n",
              "      <td>0</td>\n",
              "      <td>0</td>\n",
              "      <td>1</td>\n",
              "      <td>2</td>\n",
              "      <td>1</td>\n",
              "    </tr>\n",
              "    <tr>\n",
              "      <th>105</th>\n",
              "      <td>h2InCLKa</td>\n",
              "      <td>30.381172</td>\n",
              "      <td>59.871149</td>\n",
              "      <td>0.0091</td>\n",
              "      <td>Санкт-Петербург</td>\n",
              "      <td>1</td>\n",
              "      <td>0</td>\n",
              "      <td>1</td>\n",
              "      <td>0</td>\n",
              "      <td>16</td>\n",
              "      <td>0</td>\n",
              "    </tr>\n",
              "    <tr>\n",
              "      <th>106</th>\n",
              "      <td>TQKiIgFt</td>\n",
              "      <td>30.279244</td>\n",
              "      <td>59.942110</td>\n",
              "      <td>0.0091</td>\n",
              "      <td>Санкт-Петербург</td>\n",
              "      <td>1</td>\n",
              "      <td>0</td>\n",
              "      <td>20</td>\n",
              "      <td>2</td>\n",
              "      <td>33</td>\n",
              "      <td>0</td>\n",
              "    </tr>\n",
              "  </tbody>\n",
              "</table>\n",
              "<p>107 rows × 11 columns</p>\n",
              "</div>"
            ],
            "text/plain": [
              "     point_id        lon        lat  target             city  railway_nearby  \\\n",
              "0    F4lXR1cG  37.681242  55.748040  0.0091           Москва               1   \n",
              "1    4LJu4GTf  60.580910  56.795860  0.0091     Екатеринбург               0   \n",
              "2    kLuAAN3s  37.598614  55.781357  0.0091           Москва               1   \n",
              "3    OxQHvaNu  37.794051  55.717468  0.0091           Москва               1   \n",
              "4    paQsTa1K  49.213026  55.748290  0.0091           Казань               0   \n",
              "..        ...        ...        ...     ...              ...             ...   \n",
              "102  y8oQuX5v  30.353777  60.049792  0.0091  Санкт-Петербург               1   \n",
              "103  4nmfqUw0  92.928927  56.116262  0.0091       Красноярск               0   \n",
              "104  N9O45mAh  93.015993  56.023697  0.0091       Красноярск               0   \n",
              "105  h2InCLKa  30.381172  59.871149  0.0091  Санкт-Петербург               1   \n",
              "106  TQKiIgFt  30.279244  59.942110  0.0091  Санкт-Петербург               1   \n",
              "\n",
              "     bus_station_nearby  hotel_nearby  hostel_nearby  fast_food_nearby  \\\n",
              "0                     0             4              3                18   \n",
              "1                     0             1              0                 7   \n",
              "2                     0             4              7                35   \n",
              "3                     0             3              0                17   \n",
              "4                     0             1              0                 6   \n",
              "..                  ...           ...            ...               ...   \n",
              "102                   0             1              0                 8   \n",
              "103                   0             0              0                 0   \n",
              "104                   0             0              1                 2   \n",
              "105                   0             1              0                16   \n",
              "106                   0            20              2                33   \n",
              "\n",
              "     mall_nearby  \n",
              "0              0  \n",
              "1              0  \n",
              "2              3  \n",
              "3              0  \n",
              "4              0  \n",
              "..           ...  \n",
              "102            0  \n",
              "103            0  \n",
              "104            1  \n",
              "105            0  \n",
              "106            0  \n",
              "\n",
              "[107 rows x 11 columns]"
            ]
          },
          "metadata": {
            "tags": []
          },
          "execution_count": 164
        }
      ]
    },
    {
      "cell_type": "code",
      "metadata": {
        "id": "r4E1xuj6IZy0"
      },
      "source": [
        "test.drop('city', axis=1, inplace=True)"
      ],
      "execution_count": null,
      "outputs": []
    },
    {
      "cell_type": "code",
      "metadata": {
        "id": "_GGESe8SIZy1"
      },
      "source": [
        "test.drop('target', axis=1, inplace=True)"
      ],
      "execution_count": null,
      "outputs": []
    },
    {
      "cell_type": "markdown",
      "metadata": {
        "id": "FQMZqBEnIZy1"
      },
      "source": [
        "4. **Сделайте визуализации**: постройте 2-3 карты для какого нибудь из городов - как распределен в пространстве таргет, где находятся объекты, полученные вами из OSM. Можете использовать любой инструмент - обычный `plot()`, `folium`, `keplergl`. Если выберете Кеплер, обязательно сохраните в файл конфиг карты, чтобы ее можно было воспроизвести. Сделать это можно вот так:\n",
        "\n",
        "```python\n",
        "import json\n",
        "json_data = kepler_map.config\n",
        "with open('kepler_config.json', 'w') as outfile:\n",
        "    json.dump(json_data, outfile)\n",
        "```   "
      ]
    },
    {
      "cell_type": "code",
      "metadata": {
        "id": "iPoLc5tnIZy1"
      },
      "source": [
        "train = pd.read_csv('data/train.csv')\n",
        "train = gpd.GeoDataFrame(train)"
      ],
      "execution_count": null,
      "outputs": []
    },
    {
      "cell_type": "code",
      "metadata": {
        "id": "-xaUaYjHIZy1"
      },
      "source": [
        "train['geometry'] = [Point(x,y) for x,y in zip(train.lon, train.lat)]"
      ],
      "execution_count": null,
      "outputs": []
    },
    {
      "cell_type": "markdown",
      "metadata": {
        "id": "nucii1fpIZy2"
      },
      "source": [
        "Визуализируем различные объекты для Москвы"
      ]
    },
    {
      "cell_type": "code",
      "metadata": {
        "id": "aHa3KRDdIZy2",
        "outputId": "04376e80-b16f-41b4-8d27-5a6e9ea6986d"
      },
      "source": [
        "moscow = train[train['city'] == 'Москва'].reset_index(drop=True)\n",
        "moscow.plot();"
      ],
      "execution_count": null,
      "outputs": [
        {
          "output_type": "display_data",
          "data": {
            "image/png": "[encoded data removed]",
            "text/plain": [
              "<Figure size 432x288 with 1 Axes>"
            ]
          },
          "metadata": {
            "tags": [],
            "needs_background": "light"
          }
        }
      ]
    },
    {
      "cell_type": "code",
      "metadata": {
        "id": "AGrKwvR5IZy2"
      },
      "source": [
        "lon_min = 36.8031\n",
        "lat_min = 55.1422\n",
        "lon_max = 37.9674\n",
        "lat_max = 56.0212\n",
        "\n",
        "moscow_bbox = lat_min, lon_min, lat_max, lon_max"
      ],
      "execution_count": null,
      "outputs": []
    },
    {
      "cell_type": "code",
      "metadata": {
        "id": "oK6zoVzDIZy2"
      },
      "source": [
        "def visualisation(df):\n",
        "    df = df[(df.lon > lon_min) &\n",
        "            (df.lon < lon_max) &\n",
        "            (df.lat > lat_min) &\n",
        "            (df.lat < lat_max)].reset_index(drop=True)\n",
        "    \n",
        "    m = folium.Map(location=[55.60, 37.40], \n",
        "                   zoom_start=11, \n",
        "                   tiles='cartodbpositron')\n",
        "\n",
        "    heat_data = [[row['lat'],row['lon']] for index, row in df.iterrows()]\n",
        "\n",
        "\n",
        "    HeatMap(heat_data,\n",
        "            radius=10).add_to(m)\n",
        "    return m"
      ],
      "execution_count": null,
      "outputs": []
    },
    {
      "cell_type": "code",
      "metadata": {
        "id": "03Ip2COXIZy2",
        "outputId": "868daefb-30cf-477e-ce22-9926e9c624f1"
      },
      "source": [
        "# распределение target\n",
        "visualisation(train)"
      ],
      "execution_count": null,
      "outputs": [
        {
          "output_type": "execute_result",
          "data": {
            "text/html": [
              "<div style=\"width:100%;\"><div style=\"position:relative;width:100%;height:0;padding-bottom:60%;\"><span style=\"color:#565656\">Make this Notebook Trusted to load map: File -> Trust Notebook</span><iframe src=\"about:blank\" style=\"position:absolute;width:100%;height:100%;left:0;top:0;border:none !important;\" data-html=%3C%21DOCTYPE%20html%3E%0A%3Chead%3E%20%20%20%20%0A%20%20%20%20%3Cmeta%20http-equiv%3D%22content-type%22%20content%3D%22text/html%3B%20charset%3DUTF-8%22%20/%3E%0A%20%20%20%20%0A%20%20%20%20%20%20%20%20%3Cscript%3E%0A%20%20%20%20%20%20%20%20%20%20%20%20L_NO_TOUCH%20%3D%20false%3B%0A%20%20%20%20%20%20%20%20%20%20%20%20L_DISABLE_3D%20%3D%20false%3B%0A%20%20%20%20%20%20%20%20%3C/script%3E%0A%20%20%20%20%0A%20%20%20%20%3Cstyle%3Ehtml%2C%20body%20%7Bwidth%3A%20100%25%3Bheight%3A%20100%25%3Bmargin%3A%200%3Bpadding%3A%200%3B%7D%3C/style%3E%0A%20%20%20%20%3Cstyle%3E%23map%20%7Bposition%3Aabsolute%3Btop%3A0%3Bbottom%3A0%3Bright%3A0%3Bleft%3A0%3B%7D%3C/style%3E%0A%20%20%20%20%3Cscript%20src%3D%22https%3A//cdn.jsdelivr.net/npm/leaflet%401.6.0/dist/leaflet.js%22%3E%3C/script%3E%0A%20%20%20%20%3Cscript%20src%3D%22https%3A//code.jquery.com/jquery-1.12.4.min.js%22%3E%3C/script%3E%0A%20%20%20%20%3Cscript%20src%3D%22https%3A//maxcdn.bootstrapcdn.com/bootstrap/3.2.0/js/bootstrap.min.js%22%3E%3C/script%3E%0A%20%20%20%20%3Cscript%20src%3D%22https%3A//cdnjs.cloudflare.com/ajax/libs/Leaflet.awesome-markers/2.0.2/leaflet.awesome-markers.js%22%3E%3C/script%3E%0A%20%20%20%20%3Clink%20rel%3D%22stylesheet%22%20href%3D%22https%3A//cdn.jsdelivr.net/npm/leaflet%401.6.0/dist/leaflet.css%22/%3E%0A%20%20%20%20%3Clink%20rel%3D%22stylesheet%22%20href%3D%22https%3A//maxcdn.bootstrapcdn.com/bootstrap/3.2.0/css/bootstrap.min.css%22/%3E%0A%20%20%20%20%3Clink%20rel%3D%22stylesheet%22%20href%3D%22https%3A//maxcdn.bootstrapcdn.com/bootstrap/3.2.0/css/bootstrap-theme.min.css%22/%3E%0A%20%20%20%20%3Clink%20rel%3D%22stylesheet%22%20href%3D%22https%3A//maxcdn.bootstrapcdn.com/font-awesome/4.6.3/css/font-awesome.min.css%22/%3E%0A%20%20%20%20%3Clink%20rel%3D%22stylesheet%22%20href%3D%22https%3A//cdnjs.cloudflare.com/ajax/libs/Leaflet.awesome-markers/2.0.2/leaflet.awesome-markers.css%22/%3E%0A%20%20%20%20%3Clink%20rel%3D%22stylesheet%22%20href%3D%22https%3A//cdn.jsdelivr.net/gh/python-visualization/folium/folium/templates/leaflet.awesome.rotate.min.css%22/%3E%0A%20%20%20%20%0A%20%20%20%20%20%20%20%20%20%20%20%20%3Cmeta%20name%3D%22viewport%22%20content%3D%22width%3Ddevice-width%2C%0A%20%20%20%20%20%20%20%20%20%20%20%20%20%20%20%20initial-scale%3D1.0%2C%20maximum-scale%3D1.0%2C%20user-scalable%3Dno%22%20/%3E%0A%20%20%20%20%20%20%20%20%20%20%20%20%3Cstyle%3E%0A%20%20%20%20%20%20%20%20%20%20%20%20%20%20%20%20%23map_265d46ecc602436aa87e1c0b92a62657%20%7B%0A%20%20%20%20%20%20%20%20%20%20%20%20%20%20%20%20%20%20%20%20position%3A%20relative%3B%0A%20%20%20%20%20%20%20%20%20%20%20%20%20%20%20%20%20%20%20%20width%3A%20100.0%25%3B%0A%20%20%20%20%20%20%20%20%20%20%20%20%20%20%20%20%20%20%20%20height%3A%20100.0%25%3B%0A%20%20%20%20%20%20%20%20%20%20%20%20%20%20%20%20%20%20%20%20left%3A%200.0%25%3B%0A%20%20%20%20%20%20%20%20%20%20%20%20%20%20%20%20%20%20%20%20top%3A%200.0%25%3B%0A%20%20%20%20%20%20%20%20%20%20%20%20%20%20%20%20%7D%0A%20%20%20%20%20%20%20%20%20%20%20%20%3C/style%3E%0A%20%20%20%20%20%20%20%20%0A%20%20%20%20%3Cscript%20src%3D%22https%3A//cdn.jsdelivr.net/gh/python-visualization/folium%40master/folium/templates/leaflet_heat.min.js%22%3E%3C/script%3E%0A%3C/head%3E%0A%3Cbody%3E%20%20%20%20%0A%20%20%20%20%0A%20%20%20%20%20%20%20%20%20%20%20%20%3Cdiv%20class%3D%22folium-map%22%20id%3D%22map_265d46ecc602436aa87e1c0b92a62657%22%20%3E%3C/div%3E%0A%20%20%20%20%20%20%20%20%0A%3C/body%3E%0A%3Cscript%3E%20%20%20%20%0A%20%20%20%20%0A%20%20%20%20%20%20%20%20%20%20%20%20var%20map_265d46ecc602436aa87e1c0b92a62657%20%3D%20L.map%28%0A%20%20%20%20%20%20%20%20%20%20%20%20%20%20%20%20%22map_265d46ecc602436aa87e1c0b92a62657%22%2C%0A%20%20%20%20%20%20%20%20%20%20%20%20%20%20%20%20%7B%0A%20%20%20%20%20%20%20%20%20%20%20%20%20%20%20%20%20%20%20%20center%3A%20%5B55.6%2C%2037.4%5D%2C%0A%20%20%20%20%20%20%20%20%20%20%20%20%20%20%20%20%20%20%20%20crs%3A%20L.CRS.EPSG3857%2C%0A%20%20%20%20%20%20%20%20%20%20%20%20%20%20%20%20%20%20%20%20zoom%3A%2011%2C%0A%20%20%20%20%20%20%20%20%20%20%20%20%20%20%20%20%20%20%20%20zoomControl%3A%20true%2C%0A%20%20%20%20%20%20%20%20%20%20%20%20%20%20%20%20%20%20%20%20preferCanvas%3A%20false%2C%0A%20%20%20%20%20%20%20%20%20%20%20%20%20%20%20%20%7D%0A%20%20%20%20%20%20%20%20%20%20%20%20%29%3B%0A%0A%20%20%20%20%20%20%20%20%20%20%20%20%0A%0A%20%20%20%20%20%20%20%20%0A%20%20%20%20%0A%20%20%20%20%20%20%20%20%20%20%20%20var%20tile_layer_907452061ee74abfb97525a71c020120%20%3D%20L.tileLayer%28%0A%20%20%20%20%20%20%20%20%20%20%20%20%20%20%20%20%22https%3A//cartodb-basemaps-%7Bs%7D.global.ssl.fastly.net/light_all/%7Bz%7D/%7Bx%7D/%7By%7D.png%22%2C%0A%20%20%20%20%20%20%20%20%20%20%20%20%20%20%20%20%7B%22attribution%22%3A%20%22%5Cu0026copy%3B%20%5Cu003ca%20href%3D%5C%22http%3A//www.openstreetmap.org/copyright%5C%22%5Cu003eOpenStreetMap%5Cu003c/a%5Cu003e%20contributors%20%5Cu0026copy%3B%20%5Cu003ca%20href%3D%5C%22http%3A//cartodb.com/attributions%5C%22%5Cu003eCartoDB%5Cu003c/a%5Cu003e%2C%20CartoDB%20%5Cu003ca%20href%20%3D%5C%22http%3A//cartodb.com/attributions%5C%22%5Cu003eattributions%5Cu003c/a%5Cu003e%22%2C%20%22detectRetina%22%3A%20false%2C%20%22maxNativeZoom%22%3A%2018%2C%20%22maxZoom%22%3A%2018%2C%20%22minZoom%22%3A%200%2C%20%22noWrap%22%3A%20false%2C%20%22opacity%22%3A%201%2C%20%22subdomains%22%3A%20%22abc%22%2C%20%22tms%22%3A%20false%7D%0A%20%20%20%20%20%20%20%20%20%20%20%20%29.addTo%28map_265d46ecc602436aa87e1c0b92a62657%29%3B%0A%20%20%20%20%20%20%20%20%0A%20%20%20%20%0A%20%20%20%20%20%20%20%20%20%20%20%20var%20heat_map_1dd2deb2484b49c5a840e66edf09de43%20%3D%20L.heatLayer%28%0A%20%20%20%20%20%20%20%20%20%20%20%20%20%20%20%20%5B%5B55.84863000000001%2C%2037.590776%5D%2C%20%5B55.750271%2C%2037.78421%5D%2C%20%5B55.78202%2C%2037.70457%5D%2C%20%5B55.730188%2C%2037.643983%5D%2C%20%5B55.850511%2C%2037.444304%5D%2C%20%5B55.664705000000005%2C%2037.437191%5D%2C%20%5B55.793427%2C%2037.799786%5D%2C%20%5B55.81024%2C%2037.40478%5D%2C%20%5B55.706608%2C%2037.730449%5D%2C%20%5B55.850995%2C%2037.597414%5D%2C%20%5B55.724124%2C%2037.825155%5D%2C%20%5B55.759601%2C%2037.628508%5D%2C%20%5B55.683744%2C%2037.491046%5D%2C%20%5B55.58303299999999%2C%2037.595278%5D%2C%20%5B55.908623%2C%2037.538765000000005%5D%2C%20%5B55.691698%2C%2037.535637%5D%2C%20%5B55.845203000000005%2C%2037.659739%5D%2C%20%5B55.75784%2C%2037.40677%5D%2C%20%5B55.843941%2C%2037.660087%5D%2C%20%5B55.826377%2C%2037.436247%5D%2C%20%5B55.80745600000001%2C%2037.637687%5D%2C%20%5B55.815425%2C%2037.7381%5D%2C%20%5B55.609839%2C%2037.603394%5D%2C%20%5B55.849423%2C%2037.438987%5D%2C%20%5B55.82400500000001%2C%2037.634434000000006%5D%2C%20%5B55.704134%2C%2037.765758%5D%2C%20%5B55.681346%2C%2037.62166%5D%2C%20%5B55.77293%2C%2037.679968%5D%2C%20%5B55.691734%2C%2037.728164%5D%2C%20%5B55.653255%2C%2037.646375%5D%2C%20%5B55.839988%2C%2037.486227%5D%2C%20%5B55.839565%2C%2037.493066%5D%2C%20%5B55.583953%2C%2037.599148%5D%2C%20%5B55.789394%2C%2037.678141%5D%2C%20%5B55.856351%2C%2037.653334%5D%2C%20%5B55.752097%2C%2037.593725%5D%2C%20%5B55.776859%2C%2037.659371%5D%2C%20%5B55.644661%2C%2037.366207%5D%2C%20%5B55.807542000000005%2C%2037.579529%5D%2C%20%5B55.805803%2C%2037.515103%5D%2C%20%5B55.782563%2C%2037.723067%5D%2C%20%5B55.80951%2C%2037.46445%5D%2C%20%5B55.838028%2C%2037.576824%5D%2C%20%5B55.524437%2C%2037.517761%5D%2C%20%5B55.643668000000005%2C%2037.525127000000005%5D%2C%20%5B55.766712%2C%2037.38073%5D%2C%20%5B55.726877%2C%2037.625792%5D%2C%20%5B55.759304%2C%2037.795349%5D%2C%20%5B55.749205%2C%2037.589706%5D%2C%20%5B55.611703000000006%2C%2037.601719%5D%2C%20%5B55.647053%2C%2037.41172%5D%2C%20%5B55.78856999999999%2C%2037.67892%5D%2C%20%5B55.72790500000001%2C%2037.474799%5D%2C%20%5B55.689662%2C%2037.602418%5D%2C%20%5B55.485758%2C%2037.305857%5D%2C%20%5B55.72961%2C%2037.61114%5D%2C%20%5B55.793785%2C%2037.492272%5D%2C%20%5B55.677014%2C%2037.765282%5D%2C%20%5B55.640498%2C%2037.608376%5D%2C%20%5B55.594651%2C%2037.599224%5D%2C%20%5B55.819331000000005%2C%2037.577366%5D%2C%20%5B55.864849%2C%2037.605122%5D%2C%20%5B55.788125%2C%2037.749337%5D%2C%20%5B55.80346899999999%2C%2037.618848%5D%2C%20%5B55.854933%2C%2037.478132%5D%2C%20%5B55.663201%2C%2037.481371%5D%2C%20%5B55.636821%2C%2037.656393%5D%2C%20%5B55.765829%2C%2037.602891%5D%2C%20%5B55.705907%2C%2037.767349%5D%2C%20%5B55.981852%2C%2037.174766%5D%2C%20%5B55.704974%2C%2037.642141%5D%2C%20%5B55.747424%2C%2037.70708%5D%2C%20%5B55.751043%2C%2037.783778000000005%5D%2C%20%5B55.82249300000001%2C%2037.823358%5D%2C%20%5B55.547845%2C%2037.543246%5D%2C%20%5B55.883288%2C%2037.605029%5D%2C%20%5B55.743527%2C%2037.866307%5D%2C%20%5B55.67453%2C%2037.760289%5D%2C%20%5B55.809132%2C%2037.799084%5D%2C%20%5B55.743649%2C%2037.508122%5D%2C%20%5B55.65875%2C%2037.4297%5D%2C%20%5B55.761544%2C%2037.623825%5D%2C%20%5B55.780203%2C%2037.633949%5D%2C%20%5B55.503838%2C%2037.571561%5D%2C%20%5B55.847572%2C%2037.360169%5D%2C%20%5B55.863752000000005%2C%2037.544665%5D%2C%20%5B55.72933100000001%2C%2037.622612%5D%2C%20%5B55.710535%2C%2037.675098%5D%2C%20%5B55.612726%2C%2037.719899%5D%2C%20%5B55.684432%2C%2037.622022%5D%2C%20%5B55.63894499999999%2C%2037.759126%5D%2C%20%5B55.74434%2C%2037.56367%5D%2C%20%5B55.707394%2C%2037.591484%5D%2C%20%5B55.56719399999999%2C%2037.572989%5D%2C%20%5B55.65596600000001%2C%2037.541447%5D%2C%20%5B55.744566000000006%2C%2037.514509%5D%2C%20%5B55.622604%2C%2037.60593%5D%2C%20%5B55.678416000000006%2C%2037.564184%5D%2C%20%5B55.802292%2C%2037.74381%5D%2C%20%5B55.647504000000005%2C%2037.595555%5D%2C%20%5B55.693307%2C%2037.534028%5D%2C%20%5B55.763435%2C%2037.606606%5D%2C%20%5B55.697459%2C%2037.500057%5D%2C%20%5B55.982678%2C%2037.174811%5D%2C%20%5B55.48530600000001%2C%2037.564275%5D%2C%20%5B55.677589000000005%2C%2037.664964000000005%5D%2C%20%5B55.724074%2C%2037.609398%5D%2C%20%5B55.862827%2C%2037.434961%5D%2C%20%5B55.890487%2C%2037.539124%5D%2C%20%5B55.621404000000005%2C%2037.738382%5D%2C%20%5B55.650691%2C%2037.743187%5D%2C%20%5B55.664763%2C%2037.626744%5D%2C%20%5B55.705202%2C%2037.478967%5D%2C%20%5B55.809774%2C%2037.799496000000005%5D%2C%20%5B55.569846%2C%2037.579044%5D%2C%20%5B55.820181000000005%2C%2037.49945%5D%2C%20%5B55.899252%2C%2037.588885%5D%2C%20%5B55.744381%2C%2037.566136%5D%2C%20%5B55.603912%2C%2037.492471%5D%2C%20%5B55.839484%2C%2037.486238%5D%2C%20%5B55.89761%2C%2037.552933%5D%2C%20%5B55.754287%2C%2037.636654%5D%2C%20%5B56.008615%2C%2037.199926%5D%2C%20%5B55.790882%2C%2037.529347%5D%2C%20%5B55.66425699999999%2C%2037.469313%5D%2C%20%5B55.887902%2C%2037.660853%5D%2C%20%5B55.792989%2C%2037.49365%5D%2C%20%5B55.778380000000006%2C%2037.51644%5D%2C%20%5B55.754674%2C%2037.621543%5D%2C%20%5B55.611795%2C%2037.606331%5D%2C%20%5B55.709798%2C%2037.734468%5D%2C%20%5B55.596335%2C%2037.602885%5D%2C%20%5B55.684503%2C%2037.621947%5D%2C%20%5B55.731865%2C%2037.664147%5D%2C%20%5B55.616981%2C%2037.508715%5D%2C%20%5B55.69219399999999%2C%2037.527942%5D%2C%20%5B55.814578%2C%2037.732826%5D%2C%20%5B55.547036%2C%2037.543237%5D%2C%20%5B55.731212%2C%2037.63531%5D%2C%20%5B55.865025%2C%2037.603822%5D%2C%20%5B55.819034%2C%2037.576367%5D%2C%20%5B55.758819%2C%2037.75197%5D%2C%20%5B55.752683%2C%2037.818283%5D%2C%20%5B55.659647%2C%2037.749661%5D%2C%20%5B55.73622%2C%2037.590986%5D%2C%20%5B55.898768%2C%2037.629579%5D%2C%20%5B55.73404%2C%2037.618947%5D%2C%20%5B55.729833%2C%2037.731021000000005%5D%2C%20%5B55.675511%2C%2037.505948%5D%2C%20%5B55.79368100000001%2C%2037.590618%5D%2C%20%5B55.801912%2C%2037.531968%5D%2C%20%5B55.75524%2C%2037.660183%5D%2C%20%5B55.717847%2C%2037.681473%5D%2C%20%5B55.85578%2C%2037.477381%5D%2C%20%5B55.613216%2C%2037.743868%5D%2C%20%5B55.870102%2C%2037.664267%5D%2C%20%5B55.740664%2C%2037.628765%5D%2C%20%5B55.794233%2C%2037.586825%5D%2C%20%5B55.77291%2C%2037.67879%5D%2C%20%5B55.61964%2C%2037.75213%5D%2C%20%5B55.78295%2C%2037.70577%5D%5D%2C%0A%20%20%20%20%20%20%20%20%20%20%20%20%20%20%20%20%7B%22blur%22%3A%2015%2C%20%22maxZoom%22%3A%2018%2C%20%22minOpacity%22%3A%200.5%2C%20%22radius%22%3A%2010%7D%0A%20%20%20%20%20%20%20%20%20%20%20%20%29.addTo%28map_265d46ecc602436aa87e1c0b92a62657%29%3B%0A%20%20%20%20%20%20%20%20%0A%3C/script%3E onload=\"this.contentDocument.open();this.contentDocument.write(    decodeURIComponent(this.getAttribute('data-html')));this.contentDocument.close();\" allowfullscreen webkitallowfullscreen mozallowfullscreen></iframe></div></div>"
            ],
            "text/plain": [
              "<folium.folium.Map at 0x7faa94700950>"
            ]
          },
          "metadata": {
            "tags": []
          },
          "execution_count": 203
        }
      ]
    },
    {
      "cell_type": "code",
      "metadata": {
        "id": "1DaYK11aIZy3",
        "outputId": "5346323b-0c98-48d5-b8e2-7cc174a528ab"
      },
      "source": [
        "# распределение ж/д станций\n",
        "visualisation(railway_osm)"
      ],
      "execution_count": null,
      "outputs": [
        {
          "output_type": "execute_result",
          "data": {
            "text/html": [
              "<div style=\"width:100%;\"><div style=\"position:relative;width:100%;height:0;padding-bottom:60%;\"><span style=\"color:#565656\">Make this Notebook Trusted to load map: File -> Trust Notebook</span><iframe src=\"about:blank\" style=\"position:absolute;width:100%;height:100%;left:0;top:0;border:none !important;\" data-html=%3C%21DOCTYPE%20html%3E%0A%3Chead%3E%20%20%20%20%0A%20%20%20%20%3Cmeta%20http-equiv%3D%22content-type%22%20content%3D%22text/html%3B%20charset%3DUTF-8%22%20/%3E%0A%20%20%20%20%0A%20%20%20%20%20%20%20%20%3Cscript%3E%0A%20%20%20%20%20%20%20%20%20%20%20%20L_NO_TOUCH%20%3D%20false%3B%0A%20%20%20%20%20%20%20%20%20%20%20%20L_DISABLE_3D%20%3D%20false%3B%0A%20%20%20%20%20%20%20%20%3C/script%3E%0A%20%20%20%20%0A%20%20%20%20%3Cstyle%3Ehtml%2C%20body%20%7Bwidth%3A%20100%25%3Bheight%3A%20100%25%3Bmargin%3A%200%3Bpadding%3A%200%3B%7D%3C/style%3E%0A%20%20%20%20%3Cstyle%3E%23map%20%7Bposition%3Aabsolute%3Btop%3A0%3Bbottom%3A0%3Bright%3A0%3Bleft%3A0%3B%7D%3C/style%3E%0A%20%20%20%20%3Cscript%20src%3D%22https%3A//cdn.jsdelivr.net/npm/leaflet%401.6.0/dist/leaflet.js%22%3E%3C/script%3E%0A%20%20%20%20%3Cscript%20src%3D%22https%3A//code.jquery.com/jquery-1.12.4.min.js%22%3E%3C/script%3E%0A%20%20%20%20%3Cscript%20src%3D%22https%3A//maxcdn.bootstrapcdn.com/bootstrap/3.2.0/js/bootstrap.min.js%22%3E%3C/script%3E%0A%20%20%20%20%3Cscript%20src%3D%22https%3A//cdnjs.cloudflare.com/ajax/libs/Leaflet.awesome-markers/2.0.2/leaflet.awesome-markers.js%22%3E%3C/script%3E%0A%20%20%20%20%3Clink%20rel%3D%22stylesheet%22%20href%3D%22https%3A//cdn.jsdelivr.net/npm/leaflet%401.6.0/dist/leaflet.css%22/%3E%0A%20%20%20%20%3Clink%20rel%3D%22stylesheet%22%20href%3D%22https%3A//maxcdn.bootstrapcdn.com/bootstrap/3.2.0/css/bootstrap.min.css%22/%3E%0A%20%20%20%20%3Clink%20rel%3D%22stylesheet%22%20href%3D%22https%3A//maxcdn.bootstrapcdn.com/bootstrap/3.2.0/css/bootstrap-theme.min.css%22/%3E%0A%20%20%20%20%3Clink%20rel%3D%22stylesheet%22%20href%3D%22https%3A//maxcdn.bootstrapcdn.com/font-awesome/4.6.3/css/font-awesome.min.css%22/%3E%0A%20%20%20%20%3Clink%20rel%3D%22stylesheet%22%20href%3D%22https%3A//cdnjs.cloudflare.com/ajax/libs/Leaflet.awesome-markers/2.0.2/leaflet.awesome-markers.css%22/%3E%0A%20%20%20%20%3Clink%20rel%3D%22stylesheet%22%20href%3D%22https%3A//cdn.jsdelivr.net/gh/python-visualization/folium/folium/templates/leaflet.awesome.rotate.min.css%22/%3E%0A%20%20%20%20%0A%20%20%20%20%20%20%20%20%20%20%20%20%3Cmeta%20name%3D%22viewport%22%20content%3D%22width%3Ddevice-width%2C%0A%20%20%20%20%20%20%20%20%20%20%20%20%20%20%20%20initial-scale%3D1.0%2C%20maximum-scale%3D1.0%2C%20user-scalable%3Dno%22%20/%3E%0A%20%20%20%20%20%20%20%20%20%20%20%20%3Cstyle%3E%0A%20%20%20%20%20%20%20%20%20%20%20%20%20%20%20%20%23map_95197056706f46e9b2f2c81fc06f9694%20%7B%0A%20%20%20%20%20%20%20%20%20%20%20%20%20%20%20%20%20%20%20%20position%3A%20relative%3B%0A%20%20%20%20%20%20%20%20%20%20%20%20%20%20%20%20%20%20%20%20width%3A%20100.0%25%3B%0A%20%20%20%20%20%20%20%20%20%20%20%20%20%20%20%20%20%20%20%20height%3A%20100.0%25%3B%0A%20%20%20%20%20%20%20%20%20%20%20%20%20%20%20%20%20%20%20%20left%3A%200.0%25%3B%0A%20%20%20%20%20%20%20%20%20%20%20%20%20%20%20%20%20%20%20%20top%3A%200.0%25%3B%0A%20%20%20%20%20%20%20%20%20%20%20%20%20%20%20%20%7D%0A%20%20%20%20%20%20%20%20%20%20%20%20%3C/style%3E%0A%20%20%20%20%20%20%20%20%0A%20%20%20%20%3Cscript%20src%3D%22https%3A//cdn.jsdelivr.net/gh/python-visualization/folium%40master/folium/templates/leaflet_heat.min.js%22%3E%3C/script%3E%0A%3C/head%3E%0A%3Cbody%3E%20%20%20%20%0A%20%20%20%20%0A%20%20%20%20%20%20%20%20%20%20%20%20%3Cdiv%20class%3D%22folium-map%22%20id%3D%22map_95197056706f46e9b2f2c81fc06f9694%22%20%3E%3C/div%3E%0A%20%20%20%20%20%20%20%20%0A%3C/body%3E%0A%3Cscript%3E%20%20%20%20%0A%20%20%20%20%0A%20%20%20%20%20%20%20%20%20%20%20%20var%20map_95197056706f46e9b2f2c81fc06f9694%20%3D%20L.map%28%0A%20%20%20%20%20%20%20%20%20%20%20%20%20%20%20%20%22map_95197056706f46e9b2f2c81fc06f9694%22%2C%0A%20%20%20%20%20%20%20%20%20%20%20%20%20%20%20%20%7B%0A%20%20%20%20%20%20%20%20%20%20%20%20%20%20%20%20%20%20%20%20center%3A%20%5B55.6%2C%2037.4%5D%2C%0A%20%20%20%20%20%20%20%20%20%20%20%20%20%20%20%20%20%20%20%20crs%3A%20L.CRS.EPSG3857%2C%0A%20%20%20%20%20%20%20%20%20%20%20%20%20%20%20%20%20%20%20%20zoom%3A%2011%2C%0A%20%20%20%20%20%20%20%20%20%20%20%20%20%20%20%20%20%20%20%20zoomControl%3A%20true%2C%0A%20%20%20%20%20%20%20%20%20%20%20%20%20%20%20%20%20%20%20%20preferCanvas%3A%20false%2C%0A%20%20%20%20%20%20%20%20%20%20%20%20%20%20%20%20%7D%0A%20%20%20%20%20%20%20%20%20%20%20%20%29%3B%0A%0A%20%20%20%20%20%20%20%20%20%20%20%20%0A%0A%20%20%20%20%20%20%20%20%0A%20%20%20%20%0A%20%20%20%20%20%20%20%20%20%20%20%20var%20tile_layer_d547eab7e2e547248d9fbdc8f78d1a33%20%3D%20L.tileLayer%28%0A%20%20%20%20%20%20%20%20%20%20%20%20%20%20%20%20%22https%3A//cartodb-basemaps-%7Bs%7D.global.ssl.fastly.net/light_all/%7Bz%7D/%7Bx%7D/%7By%7D.png%22%2C%0A%20%20%20%20%20%20%20%20%20%20%20%20%20%20%20%20%7B%22attribution%22%3A%20%22%5Cu0026copy%3B%20%5Cu003ca%20href%3D%5C%22http%3A//www.openstreetmap.org/copyright%5C%22%5Cu003eOpenStreetMap%5Cu003c/a%5Cu003e%20contributors%20%5Cu0026copy%3B%20%5Cu003ca%20href%3D%5C%22http%3A//cartodb.com/attributions%5C%22%5Cu003eCartoDB%5Cu003c/a%5Cu003e%2C%20CartoDB%20%5Cu003ca%20href%20%3D%5C%22http%3A//cartodb.com/attributions%5C%22%5Cu003eattributions%5Cu003c/a%5Cu003e%22%2C%20%22detectRetina%22%3A%20false%2C%20%22maxNativeZoom%22%3A%2018%2C%20%22maxZoom%22%3A%2018%2C%20%22minZoom%22%3A%200%2C%20%22noWrap%22%3A%20false%2C%20%22opacity%22%3A%201%2C%20%22subdomains%22%3A%20%22abc%22%2C%20%22tms%22%3A%20false%7D%0A%20%20%20%20%20%20%20%20%20%20%20%20%29.addTo%28map_95197056706f46e9b2f2c81fc06f9694%29%3B%0A%20%20%20%20%20%20%20%20%0A%20%20%20%20%0A%20%20%20%20%20%20%20%20%20%20%20%20var%20heat_map_926022fe917a46aa839c1525bd094b16%20%3D%20L.heatLayer%28%0A%20%20%20%20%20%20%20%20%20%20%20%20%20%20%20%20%5B%5B55.7788343%2C%2037.6537207%5D%2C%20%5B55.9496529%2C%2037.2990008%5D%2C%20%5B55.7267974%2C%2037.4503839%5D%2C%20%5B55.8067457%2C%2037.7459418%5D%2C%20%5B55.8871767%2C%2037.66155%5D%2C%20%5B55.8696254%2C%2037.6641842%5D%2C%20%5B55.7577737%2C%2037.6621837%5D%2C%20%5B55.7885334%2C%2037.7510006%5D%2C%20%5B55.7833072%2C%2037.7213614%5D%2C%20%5B55.7742475%2C%2037.659914%5D%2C%20%5B56.0135105%2C%2037.4848612%5D%2C%20%5B55.7932703%2C%2037.6321318%5D%2C%20%5B55.415149%2C%2037.896829%5D%2C%20%5B55.699905%2C%2037.6512864%5D%2C%20%5B55.7154769%2C%2037.6874448%5D%2C%20%5B55.7394565%2C%2037.4834225%5D%2C%20%5B55.7437316%2C%2037.497737%5D%2C%20%5B55.7461002%2C%2037.5148876%5D%2C%20%5B55.7400295%2C%2037.534383%5D%2C%20%5B55.7388362%2C%2037.5483675%5D%2C%20%5B55.7817059%2C%2037.7038046%5D%2C%20%5B55.7730735%2C%2037.6805829%5D%2C%20%5B55.7566597%2C%2037.6218635%5D%2C%20%5B55.7521035%2C%2037.6069401%5D%2C%20%5B55.7407773%2C%2037.4168044%5D%2C%20%5B55.7359311%2C%2037.4671952%5D%2C%20%5B55.7607707%2C%2037.6261868%5D%2C%20%5B55.740465%2C%2037.6518996%5D%2C%20%5B55.7318655%2C%2037.6658787%5D%2C%20%5B55.7252622%2C%2037.6868197%5D%2C%20%5B55.7088457%2C%2037.7315088%5D%2C%20%5B55.7056021%2C%2037.7657844%5D%2C%20%5B55.7156444%2C%2037.8179229%5D%2C%20%5B55.7171259%2C%2037.793436%5D%2C%20%5B55.7518652%2C%2037.6007518%5D%2C%20%5B55.7500874%2C%2037.5413666%5D%2C%20%5B55.7524027%2C%2037.6086825%5D%2C%20%5B55.7294635%2C%2037.2129236%5D%2C%20%5B55.7002071%2C%2036.8794167%5D%2C%20%5B55.615175%2C%2036.9865326%5D%2C%20%5B55.7436835%2C%2037.5656452%5D%2C%20%5B55.7295963%2C%2037.4707878%5D%2C%20%5B55.4296414%2C%2036.8401711%5D%2C%20%5B55.257276%2C%2037.4504586%5D%2C%20%5B55.7517772%2C%2037.8167485%5D%2C%20%5B55.7511973%2C%2037.7864823%5D%2C%20%5B55.7575692%2C%2037.7492941%5D%2C%20%5B55.7483053%2C%2037.5342309%5D%2C%20%5B55.7801269%2C%2037.8627759%5D%2C%20%5B55.6188149%2C%2037.5082645%5D%2C%20%5B55.6572267%2C%2037.5406588%5D%2C%20%5B55.670128%2C%2037.5545439%5D%2C%20%5B55.6062621%2C%2037.5337476%5D%2C%20%5B55.8146459%2C%2037.7344982%5D%2C%20%5B55.8038675%2C%2037.7450504%5D%2C%20%5B55.7963698%2C%2037.7153466%5D%2C%20%5B55.842712%2C%2037.5304764%5D%2C%20%5B55.8550132%2C%2037.4762129%5D%2C%20%5B55.8400784%2C%2037.4866958%5D%2C%20%5B55.819052%2C%2037.4980181%5D%2C%20%5B55.8004021%2C%2037.5331563%5D%2C%20%5B55.7897397%2C%2037.558208%5D%2C%20%5B55.7888112%2C%2037.6802722%5D%2C%20%5B55.7751889%2C%2037.656145%5D%2C%20%5B55.7798177%2C%2037.6668085%5D%2C%20%5B55.7577671%2C%2037.6164974%5D%2C%20%5B55.7598341%2C%2037.6278184%5D%2C%20%5B55.7658017%2C%2037.639033%5D%2C%20%5B55.6534701%2C%2037.8596249%5D%2C%20%5B55.8551194%2C%2037.6527359%5D%2C%20%5B55.8451269%2C%2037.6384451%5D%2C%20%5B56.0120839%2C%2037.8394137%5D%2C%20%5B55.7525349%2C%2037.7200631%5D%2C%20%5B55.7471909%2C%2037.6833543%5D%2C%20%5B55.741326%2C%2037.6535281%5D%2C%20%5B55.7809058%2C%2037.632017%5D%2C%20%5B55.7732468%2C%2037.6312618%5D%2C%20%5B55.7664348%2C%2037.6374494%5D%2C%20%5B55.7409762%2C%2037.6271445%5D%2C%20%5B55.7305186%2C%2037.6112721%5D%2C%20%5B55.719937%2C%2037.6079338%5D%2C%20%5B55.3566852%2C%2037.5268085%5D%2C%20%5B55.6488591%2C%2037.2695467%5D%2C%20%5B55.7454302%2C%2037.603807%5D%2C%20%5B55.7512323%2C%2037.6101708%5D%2C%20%5B55.7233833%2C%2037.5642133%5D%2C%20%5B55.7269062%2C%2037.5785665%5D%2C%20%5B55.7076167%2C%2037.5862116%5D%2C%20%5B55.6876717%2C%2037.5733013%5D%2C%20%5B55.6778103%2C%2037.5627637%5D%2C%20%5B55.6426733%2C%2037.525617%5D%2C%20%5B55.9640672%2C%2037.4175292%5D%2C%20%5B55.7358259%2C%2037.5912739%5D%2C%20%5B55.7297372%2C%2037.6095104%5D%2C%20%5B55.7488081%2C%2037.5827207%5D%2C%20%5B55.7701709%2C%2037.5950872%5D%2C%20%5B55.7708721%2C%2037.6179101%5D%2C%20%5B55.6009822%2C%2037.5541288%5D%2C%20%5B55.7304982%2C%2037.6378407%5D%2C%20%5B55.7322548%2C%2037.6380067%5D%2C%20%5B55.7575071%2C%2037.6191912%5D%2C%20%5B55.7414166%2C%2037.629181%5D%2C%20%5B55.7648953%2C%2037.606313%5D%2C%20%5B55.7073446%2C%2037.6577684%5D%2C%20%5B55.6784809%2C%2037.6638965%5D%2C%20%5B55.6936232%2C%2037.6644353%5D%2C%20%5B55.654956%2C%2037.6221979%5D%2C%20%5B55.7796188%2C%2037.6317007%5D%2C%20%5B55.7290614%2C%2037.6237111%5D%2C%20%5B55.7416988%2C%2037.6513538%5D%2C%20%5B55.5481082%2C%2037.5546254%5D%2C%20%5B55.5454337%2C%2037.5432114%5D%2C%20%5B55.5416984%2C%2037.5307058%5D%2C%20%5B55.5381467%2C%2037.5165467%5D%2C%20%5B55.7691227%2C%2037.6195674%5D%2C%20%5B55.7464187%2C%2037.683244%5D%2C%20%5B55.7192118%2C%2037.6755698%5D%2C%20%5B55.7074228%2C%2037.6847689%5D%2C%20%5B55.6934907%2C%2037.726952%5D%2C%20%5B55.6908447%2C%2037.7532983%5D%2C%20%5B55.6756224%2C%2037.7619254%5D%2C%20%5B55.6500377%2C%2037.7433056%5D%2C%20%5B55.7648133%2C%2037.6090981%5D%2C%20%5B55.7509718%2C%2037.607057%5D%2C%20%5B55.7281573%2C%2037.6247223%5D%2C%20%5B55.7087323%2C%2037.6228899%5D%2C%20%5B55.6828664%2C%2037.6224927%5D%2C%20%5B55.672117%2C%2037.6102797%5D%2C%20%5B55.6626511%2C%2037.6056223%5D%2C%20%5B55.6523964%2C%2037.5984345%5D%2C%20%5B55.640455%2C%2037.60669%5D%2C%20%5B55.622256%2C%2037.6092188%5D%2C%20%5B55.6123701%2C%2037.6045065%5D%2C%20%5B55.595085%2C%2037.6004397%5D%2C%20%5B55.5825315%2C%2037.5965311%5D%2C%20%5B55.8172548%2C%2037.5763083%5D%2C%20%5B55.8065606%2C%2037.5819074%5D%2C%20%5B55.7924879%2C%2037.5888159%5D%2C%20%5B55.7810309%2C%2037.6012035%5D%2C%20%5B55.897843%2C%2037.5873717%5D%2C%20%5B55.8838943%2C%2037.6035774%5D%2C%20%5B55.8631775%2C%2037.6046508%5D%2C%20%5B55.8607342%2C%2037.4364942%5D%2C%20%5B55.8264719%2C%2037.4369725%5D%2C%20%5B55.808636%2C%2037.4643996%5D%2C%20%5B55.7775109%2C%2037.519289%5D%2C%20%5B55.7735503%2C%2037.5464429%5D%2C%20%5B55.7646947%2C%2037.5615158%5D%2C%20%5B55.761007%2C%2037.5800096%5D%2C%20%5B55.7745795%2C%2037.6545599%5D%2C%20%5B55.8471936%2C%2037.5899714%5D%2C%20%5B55.7103247%2C%2037.5593135%5D%2C%20%5B55.7798736%2C%2037.6035877%5D%2C%20%5B55.7332578%2C%2037.6676378%5D%2C%20%5B55.6137591%2C%2037.7444879%5D%2C%20%5B55.7747632%2C%2037.3414659%5D%2C%20%5B55.6108588%2C%2037.7186583%5D%2C%20%5B55.6026574%2C%2036.8240988%5D%2C%20%5B55.6133951%2C%2037.6945563%5D%2C%20%5B55.6214833%2C%2037.6692504%5D%2C%20%5B55.6357353%2C%2037.6565408%5D%2C%20%5B55.5692452%2C%2037.5768693%5D%2C%20%5B55.5689553%2C%2037.5766521%5D%2C%20%5B55.76077%2C%2037.5772436%5D%2C%20%5B55.7447266%2C%2037.565506%5D%2C%20%5B55.7933663%2C%2037.4938123%5D%2C%20%5B55.8504805%2C%2037.4397738%5D%2C%20%5B55.6636469%2C%2037.4832189%5D%2C%20%5B55.6926456%2C%2037.5332597%5D%2C%20%5B55.5927752%2C%2037.6539345%5D%2C%20%5B55.7259229%2C%2037.6934157%5D%2C%20%5B55.7381678%2C%2037.6171996%5D%2C%20%5B55.9148226%2C%2037.7617421%5D%2C%20%5B55.9254758%2C%2037.8164469%5D%2C%20%5B55.9262227%2C%2037.8610889%5D%2C%20%5B55.9271351%2C%2037.9461822%5D%2C%20%5B55.4287828%2C%2037.8814003%5D%2C%20%5B55.9647907%2C%2037.9392583%5D%2C%20%5B55.659739%2C%2037.7506688%5D%2C%20%5B55.6771999%2C%2037.5060872%5D%2C%20%5B55.7654313%2C%2037.6074249%5D%2C%20%5B55.7297909%2C%2037.3924879%5D%2C%20%5B55.6078207%2C%2037.1868524%5D%2C%20%5B55.745199%2C%2037.6893076%5D%2C%20%5B55.7784041%2C%2037.6567616%5D%2C%20%5B55.7412588%2C%2037.6277917%5D%2C%20%5B55.8457543%2C%2037.3622259%5D%2C%20%5B55.7669421%2C%2037.6400984%5D%2C%20%5B55.8145299%2C%2037.5269566%5D%2C%20%5B55.7955156%2C%2037.616309%5D%2C%20%5B55.7812551%2C%2037.6150107%5D%2C%20%5B55.4186124%2C%2036.8717086%5D%2C%20%5B55.1547765%2C%2037.8965463%5D%2C%20%5B55.2758332%2C%2037.1039421%5D%2C%20%5B55.7627946%2C%2037.7460652%5D%2C%20%5B55.847279%2C%2037.5962705%5D%2C%20%5B55.7242373%2C%2037.730944%5D%2C%20%5B55.8031708%2C%2037.4954545%5D%2C%20%5B55.2487421%2C%2037.4937222%5D%2C%20%5B55.563735%2C%2037.7640438%5D%2C%20%5B55.776702%2C%2037.583575%5D%2C%20%5B55.7761124%2C%2037.5840507%5D%2C%20%5B55.7393366%2C%2037.5609391%5D%2C%20%5B55.7721738%2C%2037.556479%5D%2C%20%5B55.6331187%2C%2037.5189112%5D%2C%20%5B55.7017698%2C%2037.591367%5D%2C%20%5B55.7665972%2C%2037.5171072%5D%2C%20%5B55.7969829%2C%2037.6357653%5D%2C%20%5B55.6332902%2C%2037.7435774%5D%2C%20%5B55.6123108%2C%2037.745177%5D%2C%20%5B55.621144%2C%2037.743772%5D%2C%20%5B55.7290949%2C%2037.6410311%5D%2C%20%5B55.7450888%2C%2037.8637539%5D%2C%20%5B55.6719892%2C%2037.2818162%5D%2C%20%5B55.8626483%2C%2037.6832963%5D%2C%20%5B55.6181611%2C%2037.6682255%5D%2C%20%5B55.3123577%2C%2037.5154586%5D%2C%20%5B55.6715844%2C%2037.7300731%5D%2C%20%5B55.1500133%2C%2037.4902044%5D%2C%20%5B55.5101252%2C%2037.5621844%5D%2C%20%5B55.5500875%2C%2037.0668777%5D%2C%20%5B55.5778094%2C%2037.1097367%5D%2C%20%5B55.5166849%2C%2036.9675213%5D%2C%20%5B55.882782%2C%2037.5677763%5D%2C%20%5B55.9801606%2C%2037.1736179%5D%2C%20%5B55.9045015%2C%2037.5382527%5D%2C%20%5B55.5903775%2C%2037.615322%5D%2C%20%5B55.9116927%2C%2036.8225017%5D%2C%20%5B55.8801086%2C%2037.0382393%5D%2C%20%5B55.68249%2C%2037.896703%5D%2C%20%5B55.6726546%2C%2037.9333995%5D%2C%20%5B55.8906721%2C%2036.9295199%5D%2C%20%5B55.7358077%2C%2037.7644261%5D%2C%20%5B55.8936964%2C%2037.4534727%5D%2C%20%5B55.7440571%2C%2037.5146757%5D%2C%20%5B55.8695173%2C%2037.5100117%5D%2C%20%5B55.7397339%2C%2037.7953827%5D%2C%20%5B55.4317986%2C%2037.5654172%5D%2C%20%5B55.2702328%2C%2037.8959269%5D%2C%20%5B55.3338527%2C%2037.8505669%5D%2C%20%5B55.8667275%2C%2037.1257097%5D%2C%20%5B55.8415749%2C%2037.1849447%5D%2C%20%5B55.8148976%2C%2037.3395149%5D%2C%20%5B55.8270524%2C%2037.4410998%5D%2C%20%5B55.4407447%2C%2037.7727528%5D%2C%20%5B55.7175334%2C%2037.6433584%5D%2C%20%5B55.632749%2C%2037.7660616%5D%2C%20%5B55.856143%2C%2037.3542024%5D%2C%20%5B55.5890429%2C%2037.6738654%5D%2C%20%5B55.7515712%2C%2037.8560158%5D%2C%20%5B55.4224224%2C%2037.8358311%5D%2C%20%5B56.0056281%2C%2037.193292%5D%2C%20%5B55.6853376%2C%2037.8561486%5D%2C%20%5B55.7016254%2C%2037.8519732%5D%2C%20%5B55.5820975%2C%2037.5768918%5D%2C%20%5B55.6001546%2C%2037.5565381%5D%2C%20%5B55.8563197%2C%2036.8799866%5D%2C%20%5B55.9129408%2C%2036.9629491%5D%2C%20%5B55.8097602%2C%2037.9494381%5D%2C%20%5B55.775648%2C%2037.5778621%5D%2C%20%5B55.7953011%2C%2037.5887086%5D%2C%20%5B55.7420034%2C%2037.5628449%5D%2C%20%5B55.7877328%2C%2037.7816023%5D%2C%20%5B55.7947265%2C%2037.7993959%5D%2C%20%5B55.8093389%2C%2037.7986397%5D%2C%20%5B55.8024495%2C%2037.6262201%5D%2C%20%5B55.7464068%2C%2037.7103403%5D%2C%20%5B55.9681495%2C%2037.9619455%5D%2C%20%5B55.7364446%2C%2037.5175667%5D%2C%20%5B55.7051063%2C%2037.7143067%5D%2C%20%5B55.6239532%2C%2037.6320777%5D%2C%20%5B55.6458937%2C%2037.4726181%5D%2C%20%5B55.7491138%2C%2037.5391788%5D%2C%20%5B55.5607383%2C%2036.8247338%5D%2C%20%5B55.587398%2C%2037.9176148%5D%2C%20%5B55.6575606%2C%2037.8908294%5D%2C%20%5B55.7411038%2C%2037.7330367%5D%2C%20%5B55.6738379%2C%2037.9028611%5D%2C%20%5B55.6744906%2C%2037.8580051%5D%2C%20%5B55.63298%2C%2037.4418942%5D%2C%20%5B55.621922%2C%2037.4241868%5D%2C%20%5B55.8800253%2C%2037.6121431%5D%2C%20%5B55.8228944%2C%2037.5876678%5D%2C%20%5B55.8427156%2C%2037.6569202%5D%2C%20%5B55.7247884%2C%2037.4968443%5D%2C%20%5B55.7071424%2C%2037.5162362%5D%2C%20%5B55.6975607%2C%2037.4985423%5D%2C%20%5B55.8133726%2C%2037.6025285%5D%2C%20%5B55.7443009%2C%2037.5653751%5D%2C%20%5B55.6550419%2C%2037.6487114%5D%2C%20%5B55.730741%2C%2037.4459445%5D%2C%20%5B55.7305945%2C%2037.4460143%5D%2C%20%5B55.7555324%2C%2037.6335865%5D%2C%20%5B55.7554765%2C%2037.633211%5D%2C%20%5B55.7354961%2C%2037.5942664%5D%2C%20%5B55.8346874%2C%2037.5748248%5D%2C%20%5B55.8349897%2C%2037.5744209%5D%2C%20%5B55.8183044%2C%2037.4357519%5D%2C%20%5B55.8087525%2C%2037.6389375%5D%2C%20%5B55.8036918%2C%2037.4031404%5D%2C%20%5B55.8252026%2C%2037.3852949%5D%2C%20%5B55.8355134%2C%2037.3822424%5D%2C%20%5B55.7579973%2C%2037.6580796%5D%2C%20%5B55.7568632%2C%2037.6567226%5D%2C%20%5B55.7572385%2C%2037.6593527%5D%2C%20%5B55.8211135%2C%2037.6414259%5D%2C%20%5B55.805248%2C%2037.5151206%5D%2C%20%5B55.8781328%2C%2037.4807583%5D%2C%20%5B55.7766946%2C%2037.5191367%5D%2C%20%5B55.791929%2C%2037.5570925%5D%2C%20%5B55.786561%2C%2037.5332007%5D%2C%20%5B55.7571292%2C%2037.5240139%5D%2C%20%5B55.7488741%2C%2037.5394343%5D%2C%20%5B55.8666119%2C%2037.5471803%5D%2C%20%5B55.8561131%2C%2037.5613445%5D%2C%20%5B55.846023%2C%2037.5738299%5D%2C%20%5B55.9811631%2C%2037.4133128%5D%2C%20%5B55.963247%2C%2037.4106212%5D%2C%20%5B55.6893407%2C%2037.4828246%5D%2C%20%5B55.6705052%2C%2037.4487297%5D%2C%20%5B55.6396636%2C%2037.3551575%5D%2C%20%5B55.6340295%2C%2037.3350858%5D%2C%20%5B55.6477716%2C%2037.3705045%5D%2C%20%5B55.6496916%2C%2037.3912177%5D%2C%20%5B55.6595871%2C%2037.4173114%5D%2C%20%5B55.7332794%2C%2037.7298142%5D%2C%20%5B55.2190615%2C%2037.5185756%5D%2C%20%5B55.865014%2C%2037.4748195%5D%2C%20%5B55.7923612%2C%2037.5864226%5D%2C%20%5B55.6066179%2C%2037.286848%5D%2C%20%5B55.6498183%2C%2037.7014302%5D%2C%20%5B55.6572454%2C%2037.384817%5D%2C%20%5B55.6836848%2C%2037.4513867%5D%2C%20%5B55.4855891%2C%2037.5549248%5D%2C%20%5B55.7034236%2C%2037.8511497%5D%2C%20%5B55.7103159%2C%2037.8792438%5D%2C%20%5B55.7084818%2C%2037.9005253%5D%2C%20%5B55.7030787%2C%2037.9278318%5D%2C%20%5B55.5605517%2C%2037.468027%5D%2C%20%5B55.5687344%2C%2037.4592563%5D%2C%20%5B55.5862179%2C%2037.4338591%5D%2C%20%5B55.6013885%2C%2037.4076824%5D%2C%20%5B55.5840222%2C%2037.1380804%5D%2C%20%5B55.7303906%2C%2037.4722832%5D%2C%20%5B55.7690244%2C%2037.6489874%5D%2C%20%5B55.7565949%2C%2037.4081393%5D%2C%20%5B55.7179559%2C%2037.7824475%5D%2C%20%5B55.7270241%2C%2037.7532637%5D%2C%20%5B55.7050252%2C%2037.8190003%5D%2C%20%5B55.7648334%2C%2037.7067169%5D%2C%20%5B55.7536426%2C%2037.7192026%5D%2C%20%5B55.731825%2C%2037.729894%5D%2C%20%5B55.9631532%2C%2037.8747376%5D%2C%20%5B55.6099621%2C%2037.2660622%5D%2C%20%5B55.6303362%2C%2037.2177489%5D%2C%20%5B55.7805568%2C%2037.7028412%5D%2C%20%5B55.7864527%2C%2037.6687154%5D%2C%20%5B55.8302048%2C%2037.7000597%5D%2C%20%5B55.7757351%2C%2037.4857311%5D%2C%20%5B55.7609777%2C%2037.4713075%5D%5D%2C%0A%20%20%20%20%20%20%20%20%20%20%20%20%20%20%20%20%7B%22blur%22%3A%2015%2C%20%22maxZoom%22%3A%2018%2C%20%22minOpacity%22%3A%200.5%2C%20%22radius%22%3A%2010%7D%0A%20%20%20%20%20%20%20%20%20%20%20%20%29.addTo%28map_95197056706f46e9b2f2c81fc06f9694%29%3B%0A%20%20%20%20%20%20%20%20%0A%3C/script%3E onload=\"this.contentDocument.open();this.contentDocument.write(    decodeURIComponent(this.getAttribute('data-html')));this.contentDocument.close();\" allowfullscreen webkitallowfullscreen mozallowfullscreen></iframe></div></div>"
            ],
            "text/plain": [
              "<folium.folium.Map at 0x7faa94709b10>"
            ]
          },
          "metadata": {
            "tags": []
          },
          "execution_count": 205
        }
      ]
    },
    {
      "cell_type": "code",
      "metadata": {
        "id": "knpoffXfIZy3",
        "outputId": "329c826d-06e6-4571-a75b-3bb12d3c525f"
      },
      "source": [
        "# распределение автостанций, автовокзалов\n",
        "visualisation(bus_station_osm)"
      ],
      "execution_count": null,
      "outputs": [
        {
          "output_type": "execute_result",
          "data": {
            "text/html": [
              "<div style=\"width:100%;\"><div style=\"position:relative;width:100%;height:0;padding-bottom:60%;\"><span style=\"color:#565656\">Make this Notebook Trusted to load map: File -> Trust Notebook</span><iframe src=\"about:blank\" style=\"position:absolute;width:100%;height:100%;left:0;top:0;border:none !important;\" data-html=%3C%21DOCTYPE%20html%3E%0A%3Chead%3E%20%20%20%20%0A%20%20%20%20%3Cmeta%20http-equiv%3D%22content-type%22%20content%3D%22text/html%3B%20charset%3DUTF-8%22%20/%3E%0A%20%20%20%20%0A%20%20%20%20%20%20%20%20%3Cscript%3E%0A%20%20%20%20%20%20%20%20%20%20%20%20L_NO_TOUCH%20%3D%20false%3B%0A%20%20%20%20%20%20%20%20%20%20%20%20L_DISABLE_3D%20%3D%20false%3B%0A%20%20%20%20%20%20%20%20%3C/script%3E%0A%20%20%20%20%0A%20%20%20%20%3Cstyle%3Ehtml%2C%20body%20%7Bwidth%3A%20100%25%3Bheight%3A%20100%25%3Bmargin%3A%200%3Bpadding%3A%200%3B%7D%3C/style%3E%0A%20%20%20%20%3Cstyle%3E%23map%20%7Bposition%3Aabsolute%3Btop%3A0%3Bbottom%3A0%3Bright%3A0%3Bleft%3A0%3B%7D%3C/style%3E%0A%20%20%20%20%3Cscript%20src%3D%22https%3A//cdn.jsdelivr.net/npm/leaflet%401.6.0/dist/leaflet.js%22%3E%3C/script%3E%0A%20%20%20%20%3Cscript%20src%3D%22https%3A//code.jquery.com/jquery-1.12.4.min.js%22%3E%3C/script%3E%0A%20%20%20%20%3Cscript%20src%3D%22https%3A//maxcdn.bootstrapcdn.com/bootstrap/3.2.0/js/bootstrap.min.js%22%3E%3C/script%3E%0A%20%20%20%20%3Cscript%20src%3D%22https%3A//cdnjs.cloudflare.com/ajax/libs/Leaflet.awesome-markers/2.0.2/leaflet.awesome-markers.js%22%3E%3C/script%3E%0A%20%20%20%20%3Clink%20rel%3D%22stylesheet%22%20href%3D%22https%3A//cdn.jsdelivr.net/npm/leaflet%401.6.0/dist/leaflet.css%22/%3E%0A%20%20%20%20%3Clink%20rel%3D%22stylesheet%22%20href%3D%22https%3A//maxcdn.bootstrapcdn.com/bootstrap/3.2.0/css/bootstrap.min.css%22/%3E%0A%20%20%20%20%3Clink%20rel%3D%22stylesheet%22%20href%3D%22https%3A//maxcdn.bootstrapcdn.com/bootstrap/3.2.0/css/bootstrap-theme.min.css%22/%3E%0A%20%20%20%20%3Clink%20rel%3D%22stylesheet%22%20href%3D%22https%3A//maxcdn.bootstrapcdn.com/font-awesome/4.6.3/css/font-awesome.min.css%22/%3E%0A%20%20%20%20%3Clink%20rel%3D%22stylesheet%22%20href%3D%22https%3A//cdnjs.cloudflare.com/ajax/libs/Leaflet.awesome-markers/2.0.2/leaflet.awesome-markers.css%22/%3E%0A%20%20%20%20%3Clink%20rel%3D%22stylesheet%22%20href%3D%22https%3A//cdn.jsdelivr.net/gh/python-visualization/folium/folium/templates/leaflet.awesome.rotate.min.css%22/%3E%0A%20%20%20%20%0A%20%20%20%20%20%20%20%20%20%20%20%20%3Cmeta%20name%3D%22viewport%22%20content%3D%22width%3Ddevice-width%2C%0A%20%20%20%20%20%20%20%20%20%20%20%20%20%20%20%20initial-scale%3D1.0%2C%20maximum-scale%3D1.0%2C%20user-scalable%3Dno%22%20/%3E%0A%20%20%20%20%20%20%20%20%20%20%20%20%3Cstyle%3E%0A%20%20%20%20%20%20%20%20%20%20%20%20%20%20%20%20%23map_1bb6d6c795f2431bb5e1449eec09879a%20%7B%0A%20%20%20%20%20%20%20%20%20%20%20%20%20%20%20%20%20%20%20%20position%3A%20relative%3B%0A%20%20%20%20%20%20%20%20%20%20%20%20%20%20%20%20%20%20%20%20width%3A%20100.0%25%3B%0A%20%20%20%20%20%20%20%20%20%20%20%20%20%20%20%20%20%20%20%20height%3A%20100.0%25%3B%0A%20%20%20%20%20%20%20%20%20%20%20%20%20%20%20%20%20%20%20%20left%3A%200.0%25%3B%0A%20%20%20%20%20%20%20%20%20%20%20%20%20%20%20%20%20%20%20%20top%3A%200.0%25%3B%0A%20%20%20%20%20%20%20%20%20%20%20%20%20%20%20%20%7D%0A%20%20%20%20%20%20%20%20%20%20%20%20%3C/style%3E%0A%20%20%20%20%20%20%20%20%0A%20%20%20%20%3Cscript%20src%3D%22https%3A//cdn.jsdelivr.net/gh/python-visualization/folium%40master/folium/templates/leaflet_heat.min.js%22%3E%3C/script%3E%0A%3C/head%3E%0A%3Cbody%3E%20%20%20%20%0A%20%20%20%20%0A%20%20%20%20%20%20%20%20%20%20%20%20%3Cdiv%20class%3D%22folium-map%22%20id%3D%22map_1bb6d6c795f2431bb5e1449eec09879a%22%20%3E%3C/div%3E%0A%20%20%20%20%20%20%20%20%0A%3C/body%3E%0A%3Cscript%3E%20%20%20%20%0A%20%20%20%20%0A%20%20%20%20%20%20%20%20%20%20%20%20var%20map_1bb6d6c795f2431bb5e1449eec09879a%20%3D%20L.map%28%0A%20%20%20%20%20%20%20%20%20%20%20%20%20%20%20%20%22map_1bb6d6c795f2431bb5e1449eec09879a%22%2C%0A%20%20%20%20%20%20%20%20%20%20%20%20%20%20%20%20%7B%0A%20%20%20%20%20%20%20%20%20%20%20%20%20%20%20%20%20%20%20%20center%3A%20%5B55.6%2C%2037.4%5D%2C%0A%20%20%20%20%20%20%20%20%20%20%20%20%20%20%20%20%20%20%20%20crs%3A%20L.CRS.EPSG3857%2C%0A%20%20%20%20%20%20%20%20%20%20%20%20%20%20%20%20%20%20%20%20zoom%3A%2011%2C%0A%20%20%20%20%20%20%20%20%20%20%20%20%20%20%20%20%20%20%20%20zoomControl%3A%20true%2C%0A%20%20%20%20%20%20%20%20%20%20%20%20%20%20%20%20%20%20%20%20preferCanvas%3A%20false%2C%0A%20%20%20%20%20%20%20%20%20%20%20%20%20%20%20%20%7D%0A%20%20%20%20%20%20%20%20%20%20%20%20%29%3B%0A%0A%20%20%20%20%20%20%20%20%20%20%20%20%0A%0A%20%20%20%20%20%20%20%20%0A%20%20%20%20%0A%20%20%20%20%20%20%20%20%20%20%20%20var%20tile_layer_627522851a58429b92c58e7d811df238%20%3D%20L.tileLayer%28%0A%20%20%20%20%20%20%20%20%20%20%20%20%20%20%20%20%22https%3A//cartodb-basemaps-%7Bs%7D.global.ssl.fastly.net/light_all/%7Bz%7D/%7Bx%7D/%7By%7D.png%22%2C%0A%20%20%20%20%20%20%20%20%20%20%20%20%20%20%20%20%7B%22attribution%22%3A%20%22%5Cu0026copy%3B%20%5Cu003ca%20href%3D%5C%22http%3A//www.openstreetmap.org/copyright%5C%22%5Cu003eOpenStreetMap%5Cu003c/a%5Cu003e%20contributors%20%5Cu0026copy%3B%20%5Cu003ca%20href%3D%5C%22http%3A//cartodb.com/attributions%5C%22%5Cu003eCartoDB%5Cu003c/a%5Cu003e%2C%20CartoDB%20%5Cu003ca%20href%20%3D%5C%22http%3A//cartodb.com/attributions%5C%22%5Cu003eattributions%5Cu003c/a%5Cu003e%22%2C%20%22detectRetina%22%3A%20false%2C%20%22maxNativeZoom%22%3A%2018%2C%20%22maxZoom%22%3A%2018%2C%20%22minZoom%22%3A%200%2C%20%22noWrap%22%3A%20false%2C%20%22opacity%22%3A%201%2C%20%22subdomains%22%3A%20%22abc%22%2C%20%22tms%22%3A%20false%7D%0A%20%20%20%20%20%20%20%20%20%20%20%20%29.addTo%28map_1bb6d6c795f2431bb5e1449eec09879a%29%3B%0A%20%20%20%20%20%20%20%20%0A%20%20%20%20%0A%20%20%20%20%20%20%20%20%20%20%20%20var%20heat_map_2484ab2cdeac42e8b17fb0fb697b70f8%20%3D%20L.heatLayer%28%0A%20%20%20%20%20%20%20%20%20%20%20%20%20%20%20%20%5B%5B55.8546209%2C%2037.4763061%5D%2C%20%5B55.6126955%2C%2037.7469429%5D%2C%20%5B55.706857%2C%2037.765616%5D%2C%20%5B56.0117571%2C%2037.8400882%5D%2C%20%5B55.4397635%2C%2037.7724668%5D%2C%20%5B55.6151055%2C%2037.4901454%5D%2C%20%5B55.9120698%2C%2036.8231666%5D%2C%20%5B55.6723202%2C%2037.2807787%5D%2C%20%5B55.6519427%2C%2037.6340558%5D%2C%20%5B55.4152755%2C%2037.8981932%5D%2C%20%5B55.9120982%2C%2036.8236957%5D%2C%20%5B55.6727612%2C%2037.8616629%5D%2C%20%5B55.6435578%2C%2037.5231542%5D%2C%20%5B55.5983901%2C%2037.5542772%5D%2C%20%5B55.9711421%2C%2037.962105%5D%2C%20%5B55.4276111%2C%2036.8646999%5D%2C%20%5B55.8515921%2C%2037.5601692%5D%2C%20%5B55.6164476%2C%2036.9894652%5D%2C%20%5B55.7882084%2C%2037.7464693%5D%2C%20%5B55.4391237%2C%2037.7725072%5D%2C%20%5B55.8044239%2C%2037.7448134%5D%2C%20%5B55.4140242%2C%2037.8987518%5D%2C%20%5B55.7366719%2C%2037.5144259%5D%2C%20%5B55.5485048%2C%2037.6839044%5D%2C%20%5B55.5139352%2C%2037.3594108%5D%2C%20%5B55.6164852%2C%2037.2721369%5D%2C%20%5B55.2885528%2C%2037.8524143%5D%2C%20%5B55.8111095%2C%2037.8022874%5D%5D%2C%0A%20%20%20%20%20%20%20%20%20%20%20%20%20%20%20%20%7B%22blur%22%3A%2015%2C%20%22maxZoom%22%3A%2018%2C%20%22minOpacity%22%3A%200.5%2C%20%22radius%22%3A%2010%7D%0A%20%20%20%20%20%20%20%20%20%20%20%20%29.addTo%28map_1bb6d6c795f2431bb5e1449eec09879a%29%3B%0A%20%20%20%20%20%20%20%20%0A%3C/script%3E onload=\"this.contentDocument.open();this.contentDocument.write(    decodeURIComponent(this.getAttribute('data-html')));this.contentDocument.close();\" allowfullscreen webkitallowfullscreen mozallowfullscreen></iframe></div></div>"
            ],
            "text/plain": [
              "<folium.folium.Map at 0x7faa9471b210>"
            ]
          },
          "metadata": {
            "tags": []
          },
          "execution_count": 206
        }
      ]
    },
    {
      "cell_type": "code",
      "metadata": {
        "id": "q9OL93l8IZy3",
        "outputId": "d551a24b-1568-4c8b-9b2e-1ea279711be9"
      },
      "source": [
        "# распределение отелей\n",
        "visualisation(hotel_osm)"
      ],
      "execution_count": null,
      "outputs": [
        {
          "output_type": "execute_result",
          "data": {
            "text/html": [
              "<div style=\"width:100%;\"><div style=\"position:relative;width:100%;height:0;padding-bottom:60%;\"><span style=\"color:#565656\">Make this Notebook Trusted to load map: File -> Trust Notebook</span><iframe src=\"about:blank\" style=\"position:absolute;width:100%;height:100%;left:0;top:0;border:none !important;\" data-html=%3C%21DOCTYPE%20html%3E%0A%3Chead%3E%20%20%20%20%0A%20%20%20%20%3Cmeta%20http-equiv%3D%22content-type%22%20content%3D%22text/html%3B%20charset%3DUTF-8%22%20/%3E%0A%20%20%20%20%0A%20%20%20%20%20%20%20%20%3Cscript%3E%0A%20%20%20%20%20%20%20%20%20%20%20%20L_NO_TOUCH%20%3D%20false%3B%0A%20%20%20%20%20%20%20%20%20%20%20%20L_DISABLE_3D%20%3D%20false%3B%0A%20%20%20%20%20%20%20%20%3C/script%3E%0A%20%20%20%20%0A%20%20%20%20%3Cstyle%3Ehtml%2C%20body%20%7Bwidth%3A%20100%25%3Bheight%3A%20100%25%3Bmargin%3A%200%3Bpadding%3A%200%3B%7D%3C/style%3E%0A%20%20%20%20%3Cstyle%3E%23map%20%7Bposition%3Aabsolute%3Btop%3A0%3Bbottom%3A0%3Bright%3A0%3Bleft%3A0%3B%7D%3C/style%3E%0A%20%20%20%20%3Cscript%20src%3D%22https%3A//cdn.jsdelivr.net/npm/leaflet%401.6.0/dist/leaflet.js%22%3E%3C/script%3E%0A%20%20%20%20%3Cscript%20src%3D%22https%3A//code.jquery.com/jquery-1.12.4.min.js%22%3E%3C/script%3E%0A%20%20%20%20%3Cscript%20src%3D%22https%3A//maxcdn.bootstrapcdn.com/bootstrap/3.2.0/js/bootstrap.min.js%22%3E%3C/script%3E%0A%20%20%20%20%3Cscript%20src%3D%22https%3A//cdnjs.cloudflare.com/ajax/libs/Leaflet.awesome-markers/2.0.2/leaflet.awesome-markers.js%22%3E%3C/script%3E%0A%20%20%20%20%3Clink%20rel%3D%22stylesheet%22%20href%3D%22https%3A//cdn.jsdelivr.net/npm/leaflet%401.6.0/dist/leaflet.css%22/%3E%0A%20%20%20%20%3Clink%20rel%3D%22stylesheet%22%20href%3D%22https%3A//maxcdn.bootstrapcdn.com/bootstrap/3.2.0/css/bootstrap.min.css%22/%3E%0A%20%20%20%20%3Clink%20rel%3D%22stylesheet%22%20href%3D%22https%3A//maxcdn.bootstrapcdn.com/bootstrap/3.2.0/css/bootstrap-theme.min.css%22/%3E%0A%20%20%20%20%3Clink%20rel%3D%22stylesheet%22%20href%3D%22https%3A//maxcdn.bootstrapcdn.com/font-awesome/4.6.3/css/font-awesome.min.css%22/%3E%0A%20%20%20%20%3Clink%20rel%3D%22stylesheet%22%20href%3D%22https%3A//cdnjs.cloudflare.com/ajax/libs/Leaflet.awesome-markers/2.0.2/leaflet.awesome-markers.css%22/%3E%0A%20%20%20%20%3Clink%20rel%3D%22stylesheet%22%20href%3D%22https%3A//cdn.jsdelivr.net/gh/python-visualization/folium/folium/templates/leaflet.awesome.rotate.min.css%22/%3E%0A%20%20%20%20%0A%20%20%20%20%20%20%20%20%20%20%20%20%3Cmeta%20name%3D%22viewport%22%20content%3D%22width%3Ddevice-width%2C%0A%20%20%20%20%20%20%20%20%20%20%20%20%20%20%20%20initial-scale%3D1.0%2C%20maximum-scale%3D1.0%2C%20user-scalable%3Dno%22%20/%3E%0A%20%20%20%20%20%20%20%20%20%20%20%20%3Cstyle%3E%0A%20%20%20%20%20%20%20%20%20%20%20%20%20%20%20%20%23map_bc3e16f74e844530a82064cfd8e68a83%20%7B%0A%20%20%20%20%20%20%20%20%20%20%20%20%20%20%20%20%20%20%20%20position%3A%20relative%3B%0A%20%20%20%20%20%20%20%20%20%20%20%20%20%20%20%20%20%20%20%20width%3A%20100.0%25%3B%0A%20%20%20%20%20%20%20%20%20%20%20%20%20%20%20%20%20%20%20%20height%3A%20100.0%25%3B%0A%20%20%20%20%20%20%20%20%20%20%20%20%20%20%20%20%20%20%20%20left%3A%200.0%25%3B%0A%20%20%20%20%20%20%20%20%20%20%20%20%20%20%20%20%20%20%20%20top%3A%200.0%25%3B%0A%20%20%20%20%20%20%20%20%20%20%20%20%20%20%20%20%7D%0A%20%20%20%20%20%20%20%20%20%20%20%20%3C/style%3E%0A%20%20%20%20%20%20%20%20%0A%20%20%20%20%3Cscript%20src%3D%22https%3A//cdn.jsdelivr.net/gh/python-visualization/folium%40master/folium/templates/leaflet_heat.min.js%22%3E%3C/script%3E%0A%3C/head%3E%0A%3Cbody%3E%20%20%20%20%0A%20%20%20%20%0A%20%20%20%20%20%20%20%20%20%20%20%20%3Cdiv%20class%3D%22folium-map%22%20id%3D%22map_bc3e16f74e844530a82064cfd8e68a83%22%20%3E%3C/div%3E%0A%20%20%20%20%20%20%20%20%0A%3C/body%3E%0A%3Cscript%3E%20%20%20%20%0A%20%20%20%20%0A%20%20%20%20%20%20%20%20%20%20%20%20var%20map_bc3e16f74e844530a82064cfd8e68a83%20%3D%20L.map%28%0A%20%20%20%20%20%20%20%20%20%20%20%20%20%20%20%20%22map_bc3e16f74e844530a82064cfd8e68a83%22%2C%0A%20%20%20%20%20%20%20%20%20%20%20%20%20%20%20%20%7B%0A%20%20%20%20%20%20%20%20%20%20%20%20%20%20%20%20%20%20%20%20center%3A%20%5B55.6%2C%2037.4%5D%2C%0A%20%20%20%20%20%20%20%20%20%20%20%20%20%20%20%20%20%20%20%20crs%3A%20L.CRS.EPSG3857%2C%0A%20%20%20%20%20%20%20%20%20%20%20%20%20%20%20%20%20%20%20%20zoom%3A%2011%2C%0A%20%20%20%20%20%20%20%20%20%20%20%20%20%20%20%20%20%20%20%20zoomControl%3A%20true%2C%0A%20%20%20%20%20%20%20%20%20%20%20%20%20%20%20%20%20%20%20%20preferCanvas%3A%20false%2C%0A%20%20%20%20%20%20%20%20%20%20%20%20%20%20%20%20%7D%0A%20%20%20%20%20%20%20%20%20%20%20%20%29%3B%0A%0A%20%20%20%20%20%20%20%20%20%20%20%20%0A%0A%20%20%20%20%20%20%20%20%0A%20%20%20%20%0A%20%20%20%20%20%20%20%20%20%20%20%20var%20tile_layer_687ec24990bd4036bdfeacb73b6dadd3%20%3D%20L.tileLayer%28%0A%20%20%20%20%20%20%20%20%20%20%20%20%20%20%20%20%22https%3A//cartodb-basemaps-%7Bs%7D.global.ssl.fastly.net/light_all/%7Bz%7D/%7Bx%7D/%7By%7D.png%22%2C%0A%20%20%20%20%20%20%20%20%20%20%20%20%20%20%20%20%7B%22attribution%22%3A%20%22%5Cu0026copy%3B%20%5Cu003ca%20href%3D%5C%22http%3A//www.openstreetmap.org/copyright%5C%22%5Cu003eOpenStreetMap%5Cu003c/a%5Cu003e%20contributors%20%5Cu0026copy%3B%20%5Cu003ca%20href%3D%5C%22http%3A//cartodb.com/attributions%5C%22%5Cu003eCartoDB%5Cu003c/a%5Cu003e%2C%20CartoDB%20%5Cu003ca%20href%20%3D%5C%22http%3A//cartodb.com/attributions%5C%22%5Cu003eattributions%5Cu003c/a%5Cu003e%22%2C%20%22detectRetina%22%3A%20false%2C%20%22maxNativeZoom%22%3A%2018%2C%20%22maxZoom%22%3A%2018%2C%20%22minZoom%22%3A%200%2C%20%22noWrap%22%3A%20false%2C%20%22opacity%22%3A%201%2C%20%22subdomains%22%3A%20%22abc%22%2C%20%22tms%22%3A%20false%7D%0A%20%20%20%20%20%20%20%20%20%20%20%20%29.addTo%28map_bc3e16f74e844530a82064cfd8e68a83%29%3B%0A%20%20%20%20%20%20%20%20%0A%20%20%20%20%0A%20%20%20%20%20%20%20%20%20%20%20%20var%20heat_map_1ddce2b8671741dcb3b0ee1e6127c2f6%20%3D%20L.heatLayer%28%0A%20%20%20%20%20%20%20%20%20%20%20%20%20%20%20%20%5B%5B55.7806261%2C%2037.6194895%5D%2C%20%5B55.7332014%2C%2037.6446898%5D%2C%20%5B55.7293501%2C%2037.6607326%5D%2C%20%5B55.7300164%2C%2036.8534419%5D%2C%20%5B55.4012187%2C%2037.6012903%5D%2C%20%5B55.4195356%2C%2037.5333347%5D%2C%20%5B55.4247379%2C%2037.5152931%5D%2C%20%5B55.7050218%2C%2037.7359575%5D%2C%20%5B55.7016258%2C%2037.7318248%5D%2C%20%5B55.7839521%2C%2037.6733161%5D%2C%20%5B55.705623%2C%2037.5111884%5D%2C%20%5B55.788079%2C%2037.6806612%5D%2C%20%5B55.6379017%2C%2037.8016095%5D%2C%20%5B55.7083877%2C%2036.8805565%5D%2C%20%5B55.6450938%2C%2037.535322%5D%2C%20%5B55.8283325%2C%2037.3908619%5D%2C%20%5B55.7161505%2C%2036.9020794%5D%2C%20%5B55.7485649%2C%2036.8607563%5D%2C%20%5B55.7110647%2C%2037.6412413%5D%2C%20%5B55.7013428%2C%2037.7515255%5D%2C%20%5B55.7462671%2C%2037.6986823%5D%2C%20%5B55.7743854%2C%2037.640704%5D%2C%20%5B55.6176816%2C%2037.5088305%5D%2C%20%5B55.7312531%2C%2037.6470442%5D%2C%20%5B55.8434128%2C%2037.3830438%5D%2C%20%5B55.6366116%2C%2037.5098965%5D%2C%20%5B55.6099425%2C%2037.3277835%5D%2C%20%5B55.5527429%2C%2037.5594875%5D%2C%20%5B55.7267459%2C%2036.9671012%5D%2C%20%5B55.9181328%2C%2037.8708565%5D%2C%20%5B55.8642763%2C%2037.5853859%5D%2C%20%5B55.907126%2C%2037.7184053%5D%2C%20%5B55.8204144%2C%2037.7528124%5D%2C%20%5B55.4203123%2C%2037.8958907%5D%2C%20%5B55.602207%2C%2037.352352%5D%2C%20%5B55.8841184%2C%2037.7039168%5D%2C%20%5B55.9897981%2C%2037.2252221%5D%2C%20%5B55.9761199%2C%2037.1568995%5D%2C%20%5B55.6479502%2C%2037.2630429%5D%2C%20%5B55.8369012%2C%2037.6379496%5D%2C%20%5B55.5917549%2C%2037.7359246%5D%2C%20%5B55.8041908%2C%2037.5618807%5D%2C%20%5B55.6554098%2C%2037.584232%5D%2C%20%5B55.654929%2C%2037.5840601%5D%2C%20%5B55.638776%2C%2037.8239767%5D%2C%20%5B56.0067388%2C%2037.202385%5D%2C%20%5B55.7875172%2C%2037.2516001%5D%2C%20%5B55.8131237%2C%2037.6204052%5D%2C%20%5B55.8952779%2C%2037.4152367%5D%2C%20%5B55.6682667%2C%2037.5612427%5D%2C%20%5B55.998457%2C%2037.2250662%5D%2C%20%5B55.79955%2C%2037.4857395%5D%2C%20%5B55.8808598%2C%2037.6999496%5D%2C%20%5B55.6814575%2C%2037.2660909%5D%2C%20%5B55.8083888%2C%2037.5444374%5D%2C%20%5B55.8756233%2C%2037.7070689%5D%2C%20%5B55.8435016%2C%2037.5809458%5D%2C%20%5B55.5785064%2C%2037.6025301%5D%2C%20%5B55.7981607%2C%2037.5181057%5D%2C%20%5B55.4729322%2C%2037.5468491%5D%2C%20%5B56.0118354%2C%2037.8224561%5D%2C%20%5B55.7106612%2C%2037.6697387%5D%2C%20%5B55.6766244%2C%2037.6038806%5D%2C%20%5B55.7893358%2C%2037.45142%5D%2C%20%5B55.7246124%2C%2037.6374097%5D%2C%20%5B55.7873559%2C%2037.6120552%5D%2C%20%5B55.7921049%2C%2037.7488415%5D%2C%20%5B55.7451263%2C%2037.4888164%5D%2C%20%5B55.7348029%2C%2036.8820797%5D%2C%20%5B55.9246573%2C%2037.5246333%5D%2C%20%5B55.8051905%2C%2037.5812681%5D%2C%20%5B55.7392027%2C%2037.6367474%5D%2C%20%5B55.8225723%2C%2037.7193129%5D%2C%20%5B55.5464938%2C%2037.7085087%5D%2C%20%5B55.7831816%2C%2037.5611788%5D%2C%20%5B55.8389575%2C%2037.4068188%5D%2C%20%5B55.7918687%2C%2037.6929531%5D%2C%20%5B55.5139418%2C%2037.3357959%5D%2C%20%5B55.7753127%2C%2037.6184643%5D%2C%20%5B55.7205741%2C%2037.7868712%5D%2C%20%5B55.7684725%2C%2037.6385295%5D%2C%20%5B55.9410857%2C%2037.7787275%5D%2C%20%5B55.9132239%2C%2037.7642863%5D%2C%20%5B55.7702537%2C%2037.6334737%5D%2C%20%5B55.7236515%2C%2037.5678735%5D%2C%20%5B55.9115376%2C%2037.5428131%5D%2C%20%5B55.8521592%2C%2037.5860492%5D%2C%20%5B55.7526733%2C%2037.5356051%5D%2C%20%5B55.7141582%2C%2037.7945375%5D%2C%20%5B55.7975956%2C%2037.9391316%5D%2C%20%5B55.6067497%2C%2037.6007012%5D%2C%20%5B55.715533%2C%2037.7912958%5D%2C%20%5B55.7715603%2C%2037.6311583%5D%2C%20%5B55.7750135%2C%2037.6330526%5D%2C%20%5B55.7927303%2C%2037.9311019%5D%2C%20%5B55.5783929%2C%2037.8979969%5D%2C%20%5B55.6531122%2C%2037.5945685%5D%2C%20%5B55.666898%2C%2037.8666681%5D%2C%20%5B55.7354936%2C%2036.8355392%5D%2C%20%5B55.7336399%2C%2036.8253037%5D%2C%20%5B55.9286739%2C%2037.1948326%5D%2C%20%5B55.8170253%2C%2037.6482243%5D%2C%20%5B56.0135994%2C%2037.841933%5D%2C%20%5B55.8110229%2C%2037.7969359%5D%2C%20%5B55.7880164%2C%2037.7097302%5D%2C%20%5B55.7051325%2C%2037.5859977%5D%2C%20%5B55.7645165%2C%2037.6850986%5D%2C%20%5B55.8226817%2C%2037.3363201%5D%2C%20%5B55.7531432%2C%2037.4837474%5D%2C%20%5B55.7827925%2C%2037.8775092%5D%2C%20%5B55.6962587%2C%2037.8742495%5D%2C%20%5B55.7915823%2C%2037.8200088%5D%2C%20%5B55.9166925%2C%2037.8303054%5D%2C%20%5B55.7612296%2C%2037.6177102%5D%2C%20%5B55.7935892%2C%2037.7736578%5D%2C%20%5B55.7989718%2C%2037.7865724%5D%2C%20%5B55.9712353%2C%2037.5368532%5D%2C%20%5B55.7396412%2C%2037.5960009%5D%2C%20%5B55.794086%2C%2037.7894933%5D%2C%20%5B55.920559%2C%2037.8186748%5D%2C%20%5B55.8330824%2C%2037.5936374%5D%2C%20%5B55.7631149%2C%2037.6464757%5D%2C%20%5B55.8280465%2C%2037.3530554%5D%2C%20%5B55.6499053%2C%2037.5952079%5D%2C%20%5B55.7536083%2C%2037.539961%5D%2C%20%5B55.6176928%2C%2037.5114704%5D%2C%20%5B55.8460001%2C%2037.5760209%5D%2C%20%5B55.6171201%2C%2037.4727918%5D%2C%20%5B55.7375986%2C%2037.6347028%5D%2C%20%5B55.8133932%2C%2037.4787721%5D%2C%20%5B55.7501358%2C%2037.5837586%5D%2C%20%5B55.7602749%2C%2037.6397296%5D%2C%20%5B55.7587403%2C%2037.6340675%5D%2C%20%5B55.7982241%2C%2037.7787987%5D%2C%20%5B55.7585083%2C%2037.6365858%5D%2C%20%5B55.7625571%2C%2037.614728%5D%2C%20%5B55.7456116%2C%2037.5988254%5D%2C%20%5B55.5987999%2C%2036.9595927%5D%2C%20%5B55.677924%2C%2037.5838044%5D%2C%20%5B55.764579%2C%2037.6157291%5D%2C%20%5B55.7704163%2C%2037.5731007%5D%2C%20%5B55.7490994%2C%2037.5982144%5D%2C%20%5B55.7419261%2C%2037.577778%5D%2C%20%5B55.7272892%2C%2037.6110833%5D%2C%20%5B55.7206397%2C%2037.6729062%5D%2C%20%5B55.7426703%2C%2037.658979%5D%2C%20%5B55.7492337%2C%2037.6644443%5D%2C%20%5B55.7639948%2C%2037.6190693%5D%2C%20%5B55.7673959%2C%2037.6012205%5D%2C%20%5B55.6127945%2C%2037.3008622%5D%2C%20%5B55.7004621%2C%2037.6215437%5D%2C%20%5B55.636996%2C%2037.4354915%5D%2C%20%5B55.634465%2C%2037.4371221%5D%2C%20%5B55.7573957%2C%2037.6023259%5D%2C%20%5B55.7451215%2C%2037.4952021%5D%2C%20%5B55.746298%2C%2037.1470849%5D%2C%20%5B55.708665%2C%2037.6567215%5D%2C%20%5B55.752029%2C%2037.6419056%5D%2C%20%5B55.818458%2C%2037.3358631%5D%2C%20%5B55.690081%2C%2037.6145709%5D%2C%20%5B55.8718454%2C%2037.4079199%5D%2C%20%5B55.7448646%2C%2037.6217321%5D%2C%20%5B55.6746182%2C%2037.6596516%5D%2C%20%5B55.7031708%2C%2037.6788425%5D%2C%20%5B55.6777773%2C%2037.6585918%5D%2C%20%5B55.7038751%2C%2037.6548291%5D%2C%20%5B55.9098307%2C%2037.2134348%5D%2C%20%5B55.7393555%2C%2037.6541947%5D%2C%20%5B55.7358757%2C%2037.6353164%5D%2C%20%5B55.7599691%2C%2037.6225989%5D%2C%20%5B55.7635036%2C%2037.6197594%5D%2C%20%5B55.7246314%2C%2037.6502192%5D%2C%20%5B55.7610394%2C%2037.6162267%5D%2C%20%5B55.863908%2C%2037.7017783%5D%2C%20%5B55.759827%2C%2037.6137809%5D%2C%20%5B55.7486369%2C%2037.5839271%5D%2C%20%5B55.7475802%2C%2037.5871335%5D%2C%20%5B55.5118458%2C%2037.5751336%5D%2C%20%5B55.7692907%2C%2037.6791493%5D%2C%20%5B55.7726759%2C%2037.6772516%5D%2C%20%5B55.7360822%2C%2037.6359084%5D%2C%20%5B55.5440198%2C%2037.6743726%5D%2C%20%5B55.747954%2C%2037.536663%5D%2C%20%5B55.6590535%2C%2037.735276%5D%2C%20%5B55.754762%2C%2037.6346411%5D%2C%20%5B55.7651196%2C%2037.6219897%5D%2C%20%5B55.8395398%2C%2037.4889502%5D%2C%20%5B55.7095152%2C%2037.6209109%5D%2C%20%5B55.679832%2C%2037.1525587%5D%2C%20%5B55.787061%2C%2037.9543339%5D%2C%20%5B55.7650796%2C%2037.6082238%5D%2C%20%5B55.6989469%2C%2037.7377269%5D%2C%20%5B55.7146084%2C%2037.6912316%5D%2C%20%5B55.759436%2C%2037.7718994%5D%2C%20%5B55.8134403%2C%2037.6499997%5D%2C%20%5B55.7796595%2C%2037.7050303%5D%2C%20%5B55.7555501%2C%2037.5567048%5D%2C%20%5B55.9567873%2C%2037.4488315%5D%2C%20%5B55.7732103%2C%2037.5888545%5D%2C%20%5B55.7750101%2C%2037.5856688%5D%2C%20%5B55.7635832%2C%2037.6007964%5D%2C%20%5B55.7559026%2C%2037.5946661%5D%2C%20%5B55.6742922%2C%2037.7732264%5D%2C%20%5B55.7138651%2C%2037.8366032%5D%2C%20%5B55.7436637%2C%2037.6491237%5D%2C%20%5B55.7372127%2C%2037.6580291%5D%2C%20%5B55.7040885%2C%2037.7721738%5D%2C%20%5B55.7414475%2C%2037.6279907%5D%2C%20%5B55.7783139%2C%2037.5841733%5D%2C%20%5B55.7536487%2C%2037.6542519%5D%2C%20%5B55.7643362%2C%2037.607842%5D%2C%20%5B55.7668457%2C%2037.6331036%5D%2C%20%5B55.7705317%2C%2037.5763551%5D%2C%20%5B55.7816224%2C%2037.5984085%5D%2C%20%5B55.7729444%2C%2037.6201536%5D%2C%20%5B55.3775724%2C%2037.5467394%5D%2C%20%5B55.8587061%2C%2037.5513714%5D%2C%20%5B55.7529432%2C%2037.5805336%5D%2C%20%5B55.763937%2C%2037.433777%5D%2C%20%5B55.7711372%2C%2037.6224534%5D%2C%20%5B55.981253%2C%2037.1363893%5D%2C%20%5B55.8026387%2C%2037.3904456%5D%2C%20%5B55.6957787%2C%2037.7396776%5D%2C%20%5B55.7789738%2C%2037.5917444%5D%2C%20%5B55.7580424%2C%2037.6122194%5D%2C%20%5B55.6128275%2C%2037.6977272%5D%2C%20%5B55.7973697%2C%2037.8006805%5D%2C%20%5B55.7997868%2C%2037.5319019%5D%2C%20%5B55.8005722%2C%2037.7978085%5D%2C%20%5B55.7987006%2C%2037.7985791%5D%2C%20%5B55.800412%2C%2037.8063366%5D%2C%20%5B55.7554801%2C%2037.5600787%5D%2C%20%5B55.7534468%2C%2037.6054009%5D%2C%20%5B55.748291%2C%2037.5844596%5D%2C%20%5B55.7750834%2C%2037.6314052%5D%2C%20%5B55.7571987%2C%2037.6018721%5D%2C%20%5B55.7737106%2C%2037.4992513%5D%2C%20%5B55.770856%2C%2037.5923449%5D%2C%20%5B55.8469054%2C%2037.0360233%5D%2C%20%5B55.6616462%2C%2037.6469493%5D%2C%20%5B55.730453%2C%2037.6428661%5D%2C%20%5B55.8533078%2C%2037.0396324%5D%2C%20%5B55.7092536%2C%2037.6008751%5D%2C%20%5B55.7543445%2C%2037.5870988%5D%2C%20%5B55.7882809%2C%2037.575962%5D%2C%20%5B55.8084653%2C%2037.6201212%5D%2C%20%5B55.5077138%2C%2037.7679276%5D%2C%20%5B55.7947086%2C%2037.5429185%5D%2C%20%5B55.7695286%2C%2037.6303204%5D%2C%20%5B55.7457637%2C%2037.6773424%5D%2C%20%5B55.7418312%2C%2037.5958144%5D%2C%20%5B55.7700612%2C%2037.6031013%5D%2C%20%5B55.839056%2C%2037.4930991%5D%2C%20%5B55.734685%2C%2037.6395596%5D%2C%20%5B55.6776135%2C%2037.8582482%5D%2C%20%5B56.0031929%2C%2037.9147606%5D%2C%20%5B55.4318474%2C%2037.4917505%5D%2C%20%5B55.773631%2C%2037.5881356%5D%2C%20%5B55.7517805%2C%2037.5449773%5D%2C%20%5B55.7196773%2C%2037.6738145%5D%2C%20%5B55.912542%2C%2037.6261702%5D%2C%20%5B55.7643229%2C%2037.6453708%5D%2C%20%5B55.7726371%2C%2037.6377493%5D%2C%20%5B55.7779185%2C%2037.6377166%5D%2C%20%5B55.7712328%2C%2037.6036041%5D%2C%20%5B55.7482496%2C%2037.7175668%5D%2C%20%5B55.7054218%2C%2037.7254243%5D%2C%20%5B55.6187581%2C%2037.6666729%5D%2C%20%5B55.7460282%2C%2037.658732%5D%2C%20%5B55.7529049%2C%2037.5927487%5D%2C%20%5B55.7328887%2C%2037.5625568%5D%2C%20%5B55.7359966%2C%2037.6352127%5D%2C%20%5B55.646884%2C%2037.2692589%5D%2C%20%5B55.6816989%2C%2037.6114927%5D%2C%20%5B55.7542751%2C%2037.5577685%5D%2C%20%5B55.7177384%2C%2037.6220411%5D%2C%20%5B55.8611512%2C%2037.3225522%5D%2C%20%5B55.6763881%2C%2037.9015794%5D%2C%20%5B55.7512677%2C%2037.6074196%5D%2C%20%5B55.7700028%2C%2037.6473503%5D%2C%20%5B55.7710922%2C%2037.6485756%5D%2C%20%5B55.7635292%2C%2037.608739%5D%2C%20%5B55.7586192%2C%2037.7509948%5D%2C%20%5B55.7989815%2C%2037.2039603%5D%2C%20%5B55.7347303%2C%2037.5855073%5D%2C%20%5B55.6673408%2C%2037.3115251%5D%2C%20%5B55.7393162%2C%2037.7201047%5D%2C%20%5B55.754647%2C%2037.8670819%5D%2C%20%5B55.3145774%2C%2037.8106528%5D%2C%20%5B55.8068191%2C%2037.4556515%5D%2C%20%5B55.7440471%2C%2037.5859508%5D%2C%20%5B55.7534812%2C%2037.582084%5D%2C%20%5B55.7893012%2C%2037.6570095%5D%2C%20%5B55.8098348%2C%2037.4827324%5D%2C%20%5B55.7541615%2C%2037.8811392%5D%2C%20%5B55.774109%2C%2037.5832904%5D%2C%20%5B55.7418773%2C%2037.5681505%5D%2C%20%5B55.7694253%2C%2037.6248196%5D%2C%20%5B55.7610909%2C%2037.635798%5D%2C%20%5B55.758923%2C%2037.5877354%5D%2C%20%5B55.7587883%2C%2037.6377942%5D%2C%20%5B55.7564584%2C%2037.584828%5D%2C%20%5B55.7559241%2C%2037.6440439%5D%2C%20%5B55.6639327%2C%2037.7533199%5D%2C%20%5B55.6645394%2C%2037.7528344%5D%2C%20%5B55.8261111%2C%2037.1221272%5D%2C%20%5B55.9945897%2C%2037.4262383%5D%2C%20%5B55.6184028%2C%2036.9813571%5D%2C%20%5B55.750208%2C%2037.7703826%5D%2C%20%5B55.7387839%2C%2037.6725779%5D%2C%20%5B55.6786185%2C%2037.7636804%5D%2C%20%5B55.8918312%2C%2037.4482635%5D%2C%20%5B55.7571647%2C%2037.6324027%5D%2C%20%5B55.6989329%2C%2037.4990865%5D%2C%20%5B55.714336%2C%2037.7578726%5D%2C%20%5B55.8843572%2C%2037.545028%5D%2C%20%5B55.7698898%2C%2037.646692%5D%2C%20%5B55.788003%2C%2037.9603497%5D%2C%20%5B55.4101027%2C%2037.8504067%5D%2C%20%5B55.7764138%2C%2037.6826669%5D%2C%20%5B55.7611112%2C%2037.6523429%5D%2C%20%5B55.7685546%2C%2037.6561948%5D%2C%20%5B55.639422%2C%2037.9371724%5D%2C%20%5B55.741535%2C%2037.6277183%5D%2C%20%5B55.7544028%2C%2037.6383319%5D%2C%20%5B55.7667445%2C%2037.5966097%5D%2C%20%5B55.7635195%2C%2037.609536%5D%2C%20%5B55.7638792%2C%2037.6097666%5D%2C%20%5B55.7347023%2C%2037.4697243%5D%2C%20%5B55.614954%2C%2037.4905557%5D%2C%20%5B55.7224112%2C%2037.690544%5D%2C%20%5B55.7637637%2C%2037.6095848%5D%2C%20%5B55.7643039%2C%2037.6081951%5D%2C%20%5B55.7650207%2C%2037.6086279%5D%2C%20%5B55.7653336%2C%2037.7028827%5D%2C%20%5B55.9073511%2C%2037.5560302%5D%2C%20%5B55.7618449%2C%2037.6153784%5D%2C%20%5B55.7616209%2C%2037.6169095%5D%2C%20%5B55.8343473%2C%2037.5933114%5D%2C%20%5B55.6107668%2C%2037.3302086%5D%2C%20%5B55.6108173%2C%2037.3286006%5D%2C%20%5B55.6174915%2C%2037.5114728%5D%2C%20%5B55.7695172%2C%2037.6207192%5D%2C%20%5B55.7398861%2C%2037.6431966%5D%2C%20%5B55.7416594%2C%2037.6277534%5D%2C%20%5B55.6166561%2C%2037.3921942%5D%2C%20%5B55.7838525%2C%2037.7099235%5D%2C%20%5B55.8116414%2C%2037.5360412%5D%2C%20%5B55.5475501%2C%2037.8560804%5D%2C%20%5B55.7705226%2C%2037.6634435%5D%2C%20%5B55.6082489%2C%2036.9880219%5D%2C%20%5B55.7715979%2C%2037.666566%5D%2C%20%5B55.9215672%2C%2037.476856%5D%2C%20%5B55.4214799%2C%2036.8072823%5D%2C%20%5B55.6535244%2C%2037.8224623%5D%2C%20%5B55.7417451%2C%2037.6097658%5D%2C%20%5B55.7080592%2C%2037.6056114%5D%2C%20%5B55.7450637%2C%2037.6263083%5D%2C%20%5B55.7386814%2C%2037.6284501%5D%2C%20%5B55.697674%2C%2037.6251184%5D%2C%20%5B55.7437388%2C%2037.6218492%5D%2C%20%5B55.4350202%2C%2037.552726%5D%2C%20%5B55.7128519%2C%2037.8973094%5D%2C%20%5B55.774071%2C%2037.6808859%5D%2C%20%5B55.7546199%2C%2037.6497723%5D%2C%20%5B55.7432413%2C%2037.5658661%5D%2C%20%5B55.7769437%2C%2037.5815161%5D%2C%20%5B55.7735619%2C%2037.6547116%5D%2C%20%5B55.7674763%2C%2037.6080036%5D%2C%20%5B55.7671224%2C%2037.6077287%5D%2C%20%5B55.7160846%2C%2037.486059%5D%2C%20%5B55.5367531%2C%2037.5284305%5D%2C%20%5B55.7682428%2C%2037.6158088%5D%2C%20%5B55.7724424%2C%2037.6195626%5D%2C%20%5B55.7727804%2C%2037.6183891%5D%2C%20%5B55.7583034%2C%2037.6429059%5D%2C%20%5B55.7510161%2C%2037.6104176%5D%2C%20%5B55.8228718%2C%2037.6205377%5D%2C%20%5B55.7089231%2C%2037.6584218%5D%2C%20%5B55.7199464%2C%2037.5998257%5D%2C%20%5B55.8074052%2C%2037.5295235%5D%2C%20%5B55.8077931%2C%2037.5297859%5D%2C%20%5B55.7334044%2C%2037.6199757%5D%2C%20%5B55.7605521%2C%2037.6356907%5D%2C%20%5B55.7580091%2C%2037.6348418%5D%2C%20%5B55.7582823%2C%2037.6343764%5D%2C%20%5B55.7647534%2C%2037.5992408%5D%2C%20%5B55.8302874%2C%2037.9170747%5D%2C%20%5B55.8759948%2C%2037.5881628%5D%2C%20%5B55.8037793%2C%2037.5245225%5D%2C%20%5B55.8124284%2C%2037.5837923%5D%2C%20%5B55.7382279%2C%2037.6588119%5D%2C%20%5B55.7479003%2C%2037.610262%5D%2C%20%5B55.8248659%2C%2037.4437156%5D%2C%20%5B55.7553663%2C%2037.6043518%5D%2C%20%5B55.7513286%2C%2037.64407%5D%2C%20%5B55.7560356%2C%2037.6387384%5D%2C%20%5B55.7699605%2C%2037.6024237%5D%2C%20%5B55.7744814%2C%2037.6181397%5D%2C%20%5B55.8228424%2C%2037.3752522%5D%2C%20%5B55.8081063%2C%2037.5828669%5D%2C%20%5B55.6416925%2C%2037.6186238%5D%2C%20%5B55.6739485%2C%2037.6688627%5D%2C%20%5B55.7302743%2C%2037.6645446%5D%2C%20%5B55.7981436%2C%2037.5576398%5D%2C%20%5B55.7782897%2C%2037.6110747%5D%2C%20%5B55.6896383%2C%2037.6870655%5D%2C%20%5B55.7652559%2C%2037.6027451%5D%2C%20%5B55.4960939%2C%2037.822708%5D%2C%20%5B55.4122469%2C%2037.8409318%5D%2C%20%5B55.7453701%2C%2037.6592781%5D%2C%20%5B55.7296645%2C%2037.6405222%5D%2C%20%5B55.8091527%2C%2037.3444605%5D%2C%20%5B55.7558511%2C%2037.6343928%5D%2C%20%5B55.8174922%2C%2037.8545545%5D%2C%20%5B55.8656743%2C%2037.5456626%5D%2C%20%5B55.9209462%2C%2036.8496538%5D%2C%20%5B55.8500622%2C%2037.6323637%5D%2C%20%5B55.7624567%2C%2037.6444065%5D%2C%20%5B55.7671239%2C%2037.6320188%5D%2C%20%5B55.415009%2C%2037.9020542%5D%2C%20%5B55.7348089%2C%2037.6207723%5D%2C%20%5B55.7815011%2C%2037.5684679%5D%2C%20%5B55.6116777%2C%2037.7837956%5D%2C%20%5B55.7723783%2C%2037.6830706%5D%2C%20%5B55.7375919%2C%2037.6501116%5D%2C%20%5B55.6625718%2C%2037.8481001%5D%2C%20%5B55.8136266%2C%2037.9547336%5D%2C%20%5B55.8108602%2C%2037.7969385%5D%2C%20%5B55.9653462%2C%2037.4524443%5D%2C%20%5B55.9616886%2C%2037.4107674%5D%2C%20%5B55.8872658%2C%2037.4282153%5D%2C%20%5B55.7708771%2C%2037.6041305%5D%2C%20%5B55.355771%2C%2037.5221935%5D%2C%20%5B55.7902311%2C%2037.7812006%5D%2C%20%5B55.8176258%2C%2037.7300705%5D%2C%20%5B56.0110413%2C%2036.8208826%5D%2C%20%5B55.7314185%2C%2037.8521729%5D%2C%20%5B55.5924877%2C%2037.2307574%5D%2C%20%5B55.7588037%2C%2037.6051538%5D%2C%20%5B55.7581662%2C%2037.6392688%5D%2C%20%5B55.8534622%2C%2037.4210022%5D%2C%20%5B55.7037516%2C%2037.6411557%5D%2C%20%5B55.7587426%2C%2037.6420301%5D%2C%20%5B55.5601877%2C%2037.4386822%5D%2C%20%5B55.7557385%2C%2037.4429582%5D%2C%20%5B55.5161546%2C%2037.5766188%5D%2C%20%5B55.6337589%2C%2037.2117314%5D%2C%20%5B55.7615799%2C%2037.6474066%5D%2C%20%5B55.7594346%2C%2037.6525766%5D%2C%20%5B55.7220367%2C%2037.626158%5D%2C%20%5B55.8986915%2C%2037.2766435%5D%2C%20%5B55.7571911%2C%2037.6569995%5D%2C%20%5B55.6765809%2C%2037.535411%5D%2C%20%5B55.7378464%2C%2037.6279271%5D%2C%20%5B55.6955695%2C%2037.8515783%5D%2C%20%5B55.7055978%2C%2037.0274406%5D%2C%20%5B55.4995595%2C%2037.5665892%5D%2C%20%5B55.7934033%2C%2037.9594251%5D%2C%20%5B55.7483314%2C%2037.6763168%5D%2C%20%5B55.7633681%2C%2037.636431%5D%2C%20%5B55.7632821%2C%2037.5951746%5D%2C%20%5B55.7471395%2C%2037.6080023%5D%2C%20%5B55.8788178%2C%2037.7299086%5D%2C%20%5B55.7665125%2C%2037.6307809%5D%2C%20%5B55.8127568%2C%2037.7912521%5D%2C%20%5B55.664961%2C%2037.7491857%5D%2C%20%5B55.9210994%2C%2037.5717934%5D%2C%20%5B55.6683597%2C%2037.7574214%5D%2C%20%5B55.6564741%2C%2037.331869%5D%2C%20%5B55.749407%2C%2037.5838329%5D%2C%20%5B55.4718818%2C%2037.7505602%5D%2C%20%5B55.9501174%2C%2037.1864006%5D%2C%20%5B55.6012889%2C%2037.7976631%5D%2C%20%5B55.9480569%2C%2037.352491%5D%2C%20%5B55.8195048%2C%2037.3765097%5D%2C%20%5B55.6574729%2C%2037.4723987%5D%2C%20%5B55.4296922%2C%2037.5166798%5D%2C%20%5B55.6636256%2C%2037.6164951%5D%2C%20%5B55.870342%2C%2037.55963%5D%2C%20%5B55.8437322%2C%2037.1810979%5D%2C%20%5B55.7470399%2C%2037.6582159%5D%2C%20%5B55.7500146%2C%2037.6487622%5D%2C%20%5B55.6220686%2C%2037.6992604%5D%2C%20%5B55.7555158%2C%2037.5629023%5D%2C%20%5B55.745537%2C%2037.6281336%5D%2C%20%5B55.731102%2C%2037.6231018%5D%2C%20%5B55.7395013%2C%2037.6323742%5D%2C%20%5B55.6407524%2C%2037.4845925%5D%2C%20%5B55.7626838%2C%2037.6388879%5D%2C%20%5B55.7605801%2C%2037.6319611%5D%2C%20%5B55.7844958%2C%2037.6589286%5D%2C%20%5B55.9221285%2C%2037.3636717%5D%2C%20%5B55.9223863%2C%2037.3613904%5D%2C%20%5B55.757496%2C%2037.6254353%5D%2C%20%5B55.8752914%2C%2037.7008693%5D%2C%20%5B55.7405221%2C%2037.6543656%5D%2C%20%5B55.7406119%2C%2037.6544233%5D%2C%20%5B55.7664555%2C%2037.6166645%5D%2C%20%5B55.7076797%2C%2037.7006085%5D%2C%20%5B55.7048221%2C%2037.8425673%5D%2C%20%5B55.8489861%2C%2037.5866586%5D%2C%20%5B55.7706837%2C%2037.6277204%5D%2C%20%5B55.7888588%2C%2037.7947265%5D%2C%20%5B55.6996556%2C%2037.6212913%5D%2C%20%5B55.7379347%2C%2037.5955756%5D%2C%20%5B55.9652136%2C%2037.4138085%5D%2C%20%5B55.6763691%2C%2037.5984975%5D%2C%20%5B55.8159474%2C%2037.7712708%5D%2C%20%5B55.7637786%2C%2037.6017608%5D%2C%20%5B55.7305879%2C%2037.6193115%5D%2C%20%5B55.8773409%2C%2037.5492129%5D%2C%20%5B55.7475452%2C%2037.6275309%5D%2C%20%5B55.7701776%2C%2037.602687%5D%2C%20%5B55.5962446%2C%2037.7728334%5D%2C%20%5B55.777451%2C%2037.6707271%5D%2C%20%5B55.4949297%2C%2037.3297535%5D%2C%20%5B55.7247189%2C%2037.6517199%5D%2C%20%5B55.7640322%2C%2037.6090886%5D%2C%20%5B55.7384534%2C%2037.6396832%5D%2C%20%5B55.7754152%2C%2037.5841601%5D%2C%20%5B55.7683205%2C%2037.6148178%5D%2C%20%5B55.6694647%2C%2037.6606305%5D%2C%20%5B55.8078695%2C%2037.8414961%5D%2C%20%5B55.6680267%2C%2037.7718551%5D%2C%20%5B55.7432415%2C%2037.562768%5D%2C%20%5B55.7637891%2C%2037.6462465%5D%2C%20%5B55.7638593%2C%2037.6073036%5D%2C%20%5B55.7638691%2C%2037.607325%5D%2C%20%5B55.6660714%2C%2037.7696241%5D%2C%20%5B55.7690521%2C%2037.6041784%5D%2C%20%5B55.7634851%2C%2037.651281%5D%2C%20%5B55.7007253%2C%2037.686805%5D%2C%20%5B55.6783652%2C%2037.7607164%5D%2C%20%5B55.757222%2C%2037.6019445%5D%2C%20%5B55.6566695%2C%2037.7294111%5D%2C%20%5B55.7623797%2C%2037.6067792%5D%2C%20%5B55.7535143%2C%2037.5822115%5D%2C%20%5B55.9623317%2C%2037.4021394%5D%2C%20%5B55.9632313%2C%2037.4086183%5D%2C%20%5B55.7480385%2C%2037.6270916%5D%2C%20%5B55.7465341%2C%2037.6281872%5D%2C%20%5B55.7439423%2C%2037.7054519%5D%2C%20%5B55.963527%2C%2037.415346%5D%2C%20%5B55.8153903%2C%2037.5117399%5D%2C%20%5B55.6585731%2C%2037.1992572%5D%2C%20%5B55.7358764%2C%2037.6715568%5D%2C%20%5B55.673824%2C%2037.7380472%5D%2C%20%5B55.4957405%2C%2037.8455079%5D%2C%20%5B55.4516076%2C%2037.859798%5D%2C%20%5B55.9478472%2C%2037.4162061%5D%2C%20%5B55.6181546%2C%2037.5338107%5D%2C%20%5B55.7376973%2C%2037.5423404%5D%2C%20%5B55.7392045%2C%2037.5460397%5D%2C%20%5B55.6871092%2C%2037.6614339%5D%2C%20%5B55.7563719%2C%2037.6069743%5D%2C%20%5B55.6740616%2C%2037.7399918%5D%2C%20%5B55.7614882%2C%2037.6318326%5D%2C%20%5B55.7614867%2C%2037.6320391%5D%2C%20%5B55.7653751%2C%2037.6021564%5D%2C%20%5B55.7861953%2C%2037.6594273%5D%2C%20%5B55.6731439%2C%2037.2796945%5D%2C%20%5B55.7730222%2C%2037.6120578%5D%2C%20%5B55.6842133%2C%2037.7383526%5D%2C%20%5B55.593123%2C%2037.6572337%5D%2C%20%5B55.6540536%2C%2037.1537967%5D%2C%20%5B55.7726446%2C%2037.5760183%5D%2C%20%5B55.7644312%2C%2037.6311162%5D%2C%20%5B55.7075251%2C%2037.6207523%5D%2C%20%5B55.747212%2C%2037.5872608%5D%2C%20%5B55.6088195%2C%2037.3318677%5D%2C%20%5B55.7687641%2C%2037.6013571%5D%2C%20%5B55.7612644%2C%2037.5711608%5D%2C%20%5B55.7348188%2C%2037.3458243%5D%2C%20%5B55.6475041%2C%2037.2640768%5D%2C%20%5B55.4220611%2C%2037.5338192%5D%2C%20%5B55.7491654%2C%2037.5995359%5D%2C%20%5B55.7762532%2C%2037.5741917%5D%2C%20%5B55.7624989%2C%2037.644424%5D%2C%20%5B55.7624846%2C%2037.6443341%5D%2C%20%5B55.7656897%2C%2037.6473469%5D%2C%20%5B55.7321654%2C%2037.7229901%5D%2C%20%5B55.6843239%2C%2037.7504648%5D%2C%20%5B55.7460885%2C%2037.6313171%5D%2C%20%5B55.7969919%2C%2037.7778649%5D%2C%20%5B55.8118594%2C%2037.774361%5D%2C%20%5B55.749259%2C%2037.645293%5D%2C%20%5B55.9640434%2C%2037.41381%5D%2C%20%5B55.964151%2C%2037.4129117%5D%2C%20%5B55.7979303%2C%2037.5578999%5D%2C%20%5B55.9635303%2C%2037.4099609%5D%2C%20%5B55.920994%2C%2036.8491517%5D%2C%20%5B55.7462354%2C%2037.5091369%5D%2C%20%5B55.7629169%2C%2037.6604556%5D%2C%20%5B55.6622411%2C%2037.8579916%5D%2C%20%5B55.7332324%2C%2037.6253659%5D%2C%20%5B55.7037546%2C%2037.6525571%5D%2C%20%5B55.4990222%2C%2037.8397733%5D%2C%20%5B55.7451882%2C%2037.5890766%5D%2C%20%5B55.7490099%2C%2037.5878911%5D%2C%20%5B55.7264275%2C%2037.5319487%5D%2C%20%5B55.7932659%2C%2037.6327202%5D%2C%20%5B55.7961387%2C%2037.6453842%5D%2C%20%5B55.7032308%2C%2037.916784%5D%2C%20%5B56.0080504%2C%2037.1258568%5D%2C%20%5B55.7532124%2C%2037.523734%5D%2C%20%5B55.6080691%2C%2037.7426191%5D%2C%20%5B55.7536033%2C%2037.5892858%5D%2C%20%5B55.6590358%2C%2037.1979508%5D%2C%20%5B56.0062479%2C%2036.9166013%5D%2C%20%5B55.6988079%2C%2037.8168106%5D%2C%20%5B55.7938205%2C%2037.6922385%5D%2C%20%5B55.7848886%2C%2037.6870913%5D%2C%20%5B55.8419973%2C%2037.4395866%5D%2C%20%5B55.7635696%2C%2037.6095848%5D%2C%20%5B55.7634941%2C%2037.6096988%5D%2C%20%5B55.8042794%2C%2037.5840059%5D%2C%20%5B55.6752748%2C%2037.7481457%5D%2C%20%5B55.7731968%2C%2037.6195197%5D%2C%20%5B55.7895367%2C%2037.5906578%5D%2C%20%5B55.7576846%2C%2037.6506454%5D%2C%20%5B55.7579925%2C%2037.6506588%5D%2C%20%5B55.7509725%2C%2037.9388717%5D%2C%20%5B55.7958281%2C%2037.6983319%5D%2C%20%5B55.7953992%2C%2037.6982291%5D%2C%20%5B55.8049604%2C%2037.581903%5D%2C%20%5B55.7611422%2C%2037.6232292%5D%2C%20%5B55.7719657%2C%2037.6597689%5D%2C%20%5B55.646426%2C%2037.64199%5D%2C%20%5B55.7625879%2C%2037.5857466%5D%2C%20%5B55.6613186%2C%2037.7783936%5D%2C%20%5B55.9054557%2C%2037.8714824%5D%2C%20%5B55.7690523%2C%2037.6168174%5D%2C%20%5B55.7907232%2C%2037.8189901%5D%2C%20%5B55.8177116%2C%2037.8512163%5D%2C%20%5B55.7643716%2C%2037.6162863%5D%2C%20%5B55.7622265%2C%2037.6134646%5D%2C%20%5B55.7771689%2C%2037.6810911%5D%2C%20%5B55.7044102%2C%2037.722438%5D%2C%20%5B55.6803862%2C%2037.7444616%5D%2C%20%5B55.7702352%2C%2037.6168589%5D%2C%20%5B55.7740529%2C%2037.6395021%5D%2C%20%5B55.793405%2C%2037.5518976%5D%2C%20%5B55.7983599%2C%2037.5574195%5D%2C%20%5B55.6829524%2C%2037.741148%5D%2C%20%5B55.7124385%2C%2037.6569963%5D%2C%20%5B55.3374935%2C%2037.1617278%5D%2C%20%5B55.6775713%2C%2037.7465473%5D%2C%20%5B55.7401297%2C%2037.2691414%5D%2C%20%5B55.7432512%2C%2037.6747102%5D%2C%20%5B55.7830907%2C%2037.580107%5D%2C%20%5B55.8218402%2C%2037.6478274%5D%2C%20%5B55.7689331%2C%2037.5780997%5D%2C%20%5B55.7164774%2C%2037.6175013%5D%2C%20%5B55.7479426%2C%2037.5403261%5D%2C%20%5B55.7782437%2C%2037.631422%5D%2C%20%5B55.8958275%2C%2037.6104876%5D%2C%20%5B55.762732%2C%2037.5682493%5D%2C%20%5B56.0178872%2C%2037.4704868%5D%2C%20%5B55.7250891%2C%2037.6389617%5D%2C%20%5B55.7250281%2C%2037.7790165%5D%2C%20%5B55.8535557%2C%2037.3430014%5D%2C%20%5B55.954534%2C%2037.1220276%5D%2C%20%5B55.8775177%2C%2037.4872988%5D%2C%20%5B55.749298%2C%2037.536583%5D%2C%20%5B55.7081776%2C%2037.6822607%5D%2C%20%5B55.7523867%2C%2037.64119%5D%2C%20%5B55.7961428%2C%2037.5661638%5D%2C%20%5B55.608999%2C%2037.330738%5D%2C%20%5B55.703544%2C%2037.6523787%5D%2C%20%5B55.6530923%2C%2037.7554008%5D%2C%20%5B55.6418532%2C%2037.7900086%5D%2C%20%5B55.7457876%2C%2037.6677914%5D%2C%20%5B55.710746%2C%2037.584949%5D%2C%20%5B55.7370565%2C%2037.6488978%5D%2C%20%5B55.6814333%2C%2037.6299906%5D%2C%20%5B55.7984172%2C%2037.5208694%5D%2C%20%5B55.7499571%2C%2037.8766925%5D%2C%20%5B55.7774751%2C%2037.6330098%5D%2C%20%5B55.7987271%2C%2037.4956432%5D%2C%20%5B55.7850167%2C%2037.7224427%5D%5D%2C%0A%20%20%20%20%20%20%20%20%20%20%20%20%20%20%20%20%7B%22blur%22%3A%2015%2C%20%22maxZoom%22%3A%2018%2C%20%22minOpacity%22%3A%200.5%2C%20%22radius%22%3A%2010%7D%0A%20%20%20%20%20%20%20%20%20%20%20%20%29.addTo%28map_bc3e16f74e844530a82064cfd8e68a83%29%3B%0A%20%20%20%20%20%20%20%20%0A%3C/script%3E onload=\"this.contentDocument.open();this.contentDocument.write(    decodeURIComponent(this.getAttribute('data-html')));this.contentDocument.close();\" allowfullscreen webkitallowfullscreen mozallowfullscreen></iframe></div></div>"
            ],
            "text/plain": [
              "<folium.folium.Map at 0x7faa946cced0>"
            ]
          },
          "metadata": {
            "tags": []
          },
          "execution_count": 208
        }
      ]
    },
    {
      "cell_type": "code",
      "metadata": {
        "id": "aQ_p_uk3IZy3",
        "outputId": "3b1933f1-1d84-4ded-ab70-58cdc8873ccb"
      },
      "source": [
        "# распределение хостелов\n",
        "visualisation(hostel_osm)"
      ],
      "execution_count": null,
      "outputs": [
        {
          "output_type": "execute_result",
          "data": {
            "text/html": [
              "<div style=\"width:100%;\"><div style=\"position:relative;width:100%;height:0;padding-bottom:60%;\"><span style=\"color:#565656\">Make this Notebook Trusted to load map: File -> Trust Notebook</span><iframe src=\"about:blank\" style=\"position:absolute;width:100%;height:100%;left:0;top:0;border:none !important;\" data-html=%3C%21DOCTYPE%20html%3E%0A%3Chead%3E%20%20%20%20%0A%20%20%20%20%3Cmeta%20http-equiv%3D%22content-type%22%20content%3D%22text/html%3B%20charset%3DUTF-8%22%20/%3E%0A%20%20%20%20%0A%20%20%20%20%20%20%20%20%3Cscript%3E%0A%20%20%20%20%20%20%20%20%20%20%20%20L_NO_TOUCH%20%3D%20false%3B%0A%20%20%20%20%20%20%20%20%20%20%20%20L_DISABLE_3D%20%3D%20false%3B%0A%20%20%20%20%20%20%20%20%3C/script%3E%0A%20%20%20%20%0A%20%20%20%20%3Cstyle%3Ehtml%2C%20body%20%7Bwidth%3A%20100%25%3Bheight%3A%20100%25%3Bmargin%3A%200%3Bpadding%3A%200%3B%7D%3C/style%3E%0A%20%20%20%20%3Cstyle%3E%23map%20%7Bposition%3Aabsolute%3Btop%3A0%3Bbottom%3A0%3Bright%3A0%3Bleft%3A0%3B%7D%3C/style%3E%0A%20%20%20%20%3Cscript%20src%3D%22https%3A//cdn.jsdelivr.net/npm/leaflet%401.6.0/dist/leaflet.js%22%3E%3C/script%3E%0A%20%20%20%20%3Cscript%20src%3D%22https%3A//code.jquery.com/jquery-1.12.4.min.js%22%3E%3C/script%3E%0A%20%20%20%20%3Cscript%20src%3D%22https%3A//maxcdn.bootstrapcdn.com/bootstrap/3.2.0/js/bootstrap.min.js%22%3E%3C/script%3E%0A%20%20%20%20%3Cscript%20src%3D%22https%3A//cdnjs.cloudflare.com/ajax/libs/Leaflet.awesome-markers/2.0.2/leaflet.awesome-markers.js%22%3E%3C/script%3E%0A%20%20%20%20%3Clink%20rel%3D%22stylesheet%22%20href%3D%22https%3A//cdn.jsdelivr.net/npm/leaflet%401.6.0/dist/leaflet.css%22/%3E%0A%20%20%20%20%3Clink%20rel%3D%22stylesheet%22%20href%3D%22https%3A//maxcdn.bootstrapcdn.com/bootstrap/3.2.0/css/bootstrap.min.css%22/%3E%0A%20%20%20%20%3Clink%20rel%3D%22stylesheet%22%20href%3D%22https%3A//maxcdn.bootstrapcdn.com/bootstrap/3.2.0/css/bootstrap-theme.min.css%22/%3E%0A%20%20%20%20%3Clink%20rel%3D%22stylesheet%22%20href%3D%22https%3A//maxcdn.bootstrapcdn.com/font-awesome/4.6.3/css/font-awesome.min.css%22/%3E%0A%20%20%20%20%3Clink%20rel%3D%22stylesheet%22%20href%3D%22https%3A//cdnjs.cloudflare.com/ajax/libs/Leaflet.awesome-markers/2.0.2/leaflet.awesome-markers.css%22/%3E%0A%20%20%20%20%3Clink%20rel%3D%22stylesheet%22%20href%3D%22https%3A//cdn.jsdelivr.net/gh/python-visualization/folium/folium/templates/leaflet.awesome.rotate.min.css%22/%3E%0A%20%20%20%20%0A%20%20%20%20%20%20%20%20%20%20%20%20%3Cmeta%20name%3D%22viewport%22%20content%3D%22width%3Ddevice-width%2C%0A%20%20%20%20%20%20%20%20%20%20%20%20%20%20%20%20initial-scale%3D1.0%2C%20maximum-scale%3D1.0%2C%20user-scalable%3Dno%22%20/%3E%0A%20%20%20%20%20%20%20%20%20%20%20%20%3Cstyle%3E%0A%20%20%20%20%20%20%20%20%20%20%20%20%20%20%20%20%23map_c3f57269b6e24e18ae540bff701110b0%20%7B%0A%20%20%20%20%20%20%20%20%20%20%20%20%20%20%20%20%20%20%20%20position%3A%20relative%3B%0A%20%20%20%20%20%20%20%20%20%20%20%20%20%20%20%20%20%20%20%20width%3A%20100.0%25%3B%0A%20%20%20%20%20%20%20%20%20%20%20%20%20%20%20%20%20%20%20%20height%3A%20100.0%25%3B%0A%20%20%20%20%20%20%20%20%20%20%20%20%20%20%20%20%20%20%20%20left%3A%200.0%25%3B%0A%20%20%20%20%20%20%20%20%20%20%20%20%20%20%20%20%20%20%20%20top%3A%200.0%25%3B%0A%20%20%20%20%20%20%20%20%20%20%20%20%20%20%20%20%7D%0A%20%20%20%20%20%20%20%20%20%20%20%20%3C/style%3E%0A%20%20%20%20%20%20%20%20%0A%20%20%20%20%3Cscript%20src%3D%22https%3A//cdn.jsdelivr.net/gh/python-visualization/folium%40master/folium/templates/leaflet_heat.min.js%22%3E%3C/script%3E%0A%3C/head%3E%0A%3Cbody%3E%20%20%20%20%0A%20%20%20%20%0A%20%20%20%20%20%20%20%20%20%20%20%20%3Cdiv%20class%3D%22folium-map%22%20id%3D%22map_c3f57269b6e24e18ae540bff701110b0%22%20%3E%3C/div%3E%0A%20%20%20%20%20%20%20%20%0A%3C/body%3E%0A%3Cscript%3E%20%20%20%20%0A%20%20%20%20%0A%20%20%20%20%20%20%20%20%20%20%20%20var%20map_c3f57269b6e24e18ae540bff701110b0%20%3D%20L.map%28%0A%20%20%20%20%20%20%20%20%20%20%20%20%20%20%20%20%22map_c3f57269b6e24e18ae540bff701110b0%22%2C%0A%20%20%20%20%20%20%20%20%20%20%20%20%20%20%20%20%7B%0A%20%20%20%20%20%20%20%20%20%20%20%20%20%20%20%20%20%20%20%20center%3A%20%5B55.6%2C%2037.4%5D%2C%0A%20%20%20%20%20%20%20%20%20%20%20%20%20%20%20%20%20%20%20%20crs%3A%20L.CRS.EPSG3857%2C%0A%20%20%20%20%20%20%20%20%20%20%20%20%20%20%20%20%20%20%20%20zoom%3A%2011%2C%0A%20%20%20%20%20%20%20%20%20%20%20%20%20%20%20%20%20%20%20%20zoomControl%3A%20true%2C%0A%20%20%20%20%20%20%20%20%20%20%20%20%20%20%20%20%20%20%20%20preferCanvas%3A%20false%2C%0A%20%20%20%20%20%20%20%20%20%20%20%20%20%20%20%20%7D%0A%20%20%20%20%20%20%20%20%20%20%20%20%29%3B%0A%0A%20%20%20%20%20%20%20%20%20%20%20%20%0A%0A%20%20%20%20%20%20%20%20%0A%20%20%20%20%0A%20%20%20%20%20%20%20%20%20%20%20%20var%20tile_layer_497f86d34504476a95368939cc6b2990%20%3D%20L.tileLayer%28%0A%20%20%20%20%20%20%20%20%20%20%20%20%20%20%20%20%22https%3A//cartodb-basemaps-%7Bs%7D.global.ssl.fastly.net/light_all/%7Bz%7D/%7Bx%7D/%7By%7D.png%22%2C%0A%20%20%20%20%20%20%20%20%20%20%20%20%20%20%20%20%7B%22attribution%22%3A%20%22%5Cu0026copy%3B%20%5Cu003ca%20href%3D%5C%22http%3A//www.openstreetmap.org/copyright%5C%22%5Cu003eOpenStreetMap%5Cu003c/a%5Cu003e%20contributors%20%5Cu0026copy%3B%20%5Cu003ca%20href%3D%5C%22http%3A//cartodb.com/attributions%5C%22%5Cu003eCartoDB%5Cu003c/a%5Cu003e%2C%20CartoDB%20%5Cu003ca%20href%20%3D%5C%22http%3A//cartodb.com/attributions%5C%22%5Cu003eattributions%5Cu003c/a%5Cu003e%22%2C%20%22detectRetina%22%3A%20false%2C%20%22maxNativeZoom%22%3A%2018%2C%20%22maxZoom%22%3A%2018%2C%20%22minZoom%22%3A%200%2C%20%22noWrap%22%3A%20false%2C%20%22opacity%22%3A%201%2C%20%22subdomains%22%3A%20%22abc%22%2C%20%22tms%22%3A%20false%7D%0A%20%20%20%20%20%20%20%20%20%20%20%20%29.addTo%28map_c3f57269b6e24e18ae540bff701110b0%29%3B%0A%20%20%20%20%20%20%20%20%0A%20%20%20%20%0A%20%20%20%20%20%20%20%20%20%20%20%20var%20heat_map_15247d48936e4714b28a747e9a8c5ddb%20%3D%20L.heatLayer%28%0A%20%20%20%20%20%20%20%20%20%20%20%20%20%20%20%20%5B%5B55.9192957%2C%2037.8572798%5D%2C%20%5B55.8173478%2C%2037.016383%5D%2C%20%5B55.7704495%2C%2037.6163618%5D%2C%20%5B55.3106472%2C%2037.5213339%5D%2C%20%5B55.875932%2C%2037.6185554%5D%2C%20%5B55.7586813%2C%2037.6363003%5D%2C%20%5B55.7652907%2C%2037.5906293%5D%2C%20%5B55.7531738%2C%2037.5902989%5D%2C%20%5B55.7419081%2C%2037.5833445%5D%2C%20%5B55.7650679%2C%2037.6114276%5D%2C%20%5B55.8096711%2C%2037.7771044%5D%2C%20%5B55.7647308%2C%2037.6220112%5D%2C%20%5B55.756928%2C%2037.6410053%5D%2C%20%5B55.7582026%2C%2037.6341187%5D%2C%20%5B55.7745958%2C%2037.6857608%5D%2C%20%5B55.7988151%2C%2037.7977942%5D%2C%20%5B55.7612662%2C%2037.6466994%5D%2C%20%5B55.758019%2C%2037.6336021%5D%2C%20%5B55.723034%2C%2037.6329711%5D%2C%20%5B55.7578287%2C%2037.635327%5D%2C%20%5B55.7478484%2C%2037.5874235%5D%2C%20%5B55.7592888%2C%2037.6307577%5D%2C%20%5B55.7592039%2C%2037.6310436%5D%2C%20%5B55.7567903%2C%2037.646387%5D%2C%20%5B55.7596939%2C%2037.6331948%5D%2C%20%5B55.7600109%2C%2037.6331145%5D%2C%20%5B55.7564779%2C%2037.6346515%5D%2C%20%5B55.750251%2C%2037.645608%5D%2C%20%5B55.756269%2C%2037.6547524%5D%2C%20%5B55.7594547%2C%2037.6507501%5D%2C%20%5B55.7675766%2C%2037.6468179%5D%2C%20%5B55.7683763%2C%2037.5914483%5D%2C%20%5B55.7716744%2C%2037.6790874%5D%2C%20%5B55.7438837%2C%2037.627564%5D%2C%20%5B55.7436833%2C%2037.6252559%5D%2C%20%5B55.7416326%2C%2037.6277573%5D%2C%20%5B55.7343948%2C%2037.628134%5D%2C%20%5B55.7371986%2C%2037.6173088%5D%2C%20%5B55.7401092%2C%2037.6263331%5D%2C%20%5B55.7412346%2C%2037.6106638%5D%2C%20%5B55.7438693%2C%2037.6125717%5D%2C%20%5B55.7434425%2C%2037.6136404%5D%2C%20%5B55.744279%2C%2037.6112347%5D%2C%20%5B55.7555658%2C%2037.5985634%5D%2C%20%5B55.769717%2C%2037.6471119%5D%2C%20%5B55.7641998%2C%2037.6085502%5D%2C%20%5B55.7633666%2C%2037.6129401%5D%2C%20%5B55.7649052%2C%2037.6088475%5D%2C%20%5B55.7642504%2C%2037.6349992%5D%2C%20%5B55.765521%2C%2037.6178029%5D%2C%20%5B55.7681059%2C%2037.6446184%5D%2C%20%5B55.7711335%2C%2037.6026442%5D%2C%20%5B55.7689637%2C%2037.6043289%5D%2C%20%5B55.7620814%2C%2037.6081863%5D%2C%20%5B55.7585%2C%2037.6060159%5D%2C%20%5B55.7621831%2C%2037.5985217%5D%2C%20%5B55.7643319%2C%2037.6026811%5D%2C%20%5B55.7619654%2C%2037.5918665%5D%2C%20%5B55.75713%2C%2037.597881%5D%2C%20%5B55.7688369%2C%2037.6392624%5D%2C%20%5B55.7713124%2C%2037.6032134%5D%2C%20%5B55.7569228%2C%2037.5922552%5D%2C%20%5B55.7573424%2C%2037.5850869%5D%2C%20%5B55.7350888%2C%2037.5222492%5D%2C%20%5B55.7533267%2C%2037.5852348%5D%2C%20%5B55.7638024%2C%2037.6088519%5D%2C%20%5B55.7728713%2C%2037.5888118%5D%2C%20%5B55.7505649%2C%2037.6071291%5D%2C%20%5B55.7512831%2C%2037.5978982%5D%2C%20%5B55.7500857%2C%2037.5944907%5D%2C%20%5B55.7499687%2C%2037.6049314%5D%2C%20%5B55.7469728%2C%2037.5931077%5D%2C%20%5B55.7479542%2C%2037.5875743%5D%2C%20%5B55.672088%2C%2037.4925585%5D%2C%20%5B55.7684954%2C%2037.6607438%5D%2C%20%5B55.7699164%2C%2037.6469068%5D%2C%20%5B55.7084913%2C%2037.6444878%5D%2C%20%5B55.752098%2C%2037.580748%5D%2C%20%5B55.7103333%2C%2037.6208211%5D%2C%20%5B55.71727%2C%2037.6330225%5D%2C%20%5B55.7343209%2C%2037.6558847%5D%2C%20%5B55.7343637%2C%2037.6560961%5D%2C%20%5B55.7800024%2C%2037.584023%5D%2C%20%5B55.7617806%2C%2037.6381038%5D%2C%20%5B55.926849%2C%2037.8160348%5D%2C%20%5B55.7681596%2C%2037.644361%5D%2C%20%5B55.7282126%2C%2037.7335101%5D%2C%20%5B55.7707466%2C%2037.616609%5D%2C%20%5B55.7652918%2C%2037.6036382%5D%2C%20%5B55.7512096%2C%2037.606329%5D%2C%20%5B55.7483321%2C%2037.5403698%5D%2C%20%5B55.7842951%2C%2037.7198901%5D%2C%20%5B55.7586462%2C%2037.6328116%5D%2C%20%5B55.7518651%2C%2037.597889%5D%2C%20%5B55.7571205%2C%2037.6029523%5D%2C%20%5B55.7343698%2C%2037.6165164%5D%2C%20%5B55.7461173%2C%2037.5935555%5D%2C%20%5B55.7516365%2C%2037.5825657%5D%2C%20%5B55.732103%2C%2037.6209534%5D%2C%20%5B55.7429895%2C%2037.6491564%5D%2C%20%5B55.7401596%2C%2037.6261818%5D%2C%20%5B55.7843705%2C%2037.6330693%5D%2C%20%5B55.7438031%2C%2037.6254305%5D%2C%20%5B55.7794924%2C%2037.6455664%5D%2C%20%5B55.7677033%2C%2037.6467999%5D%2C%20%5B55.7571517%2C%2037.603002%5D%2C%20%5B55.7555519%2C%2037.600628%5D%2C%20%5B55.7672812%2C%2037.6261837%5D%2C%20%5B55.7639748%2C%2037.6526818%5D%2C%20%5B55.7684399%2C%2037.6309062%5D%2C%20%5B55.749367%2C%2037.5939695%5D%2C%20%5B55.7632306%2C%2037.6340974%5D%2C%20%5B55.7382466%2C%2037.6419026%5D%2C%20%5B55.7734067%2C%2037.5827231%5D%2C%20%5B55.7600189%2C%2037.6411638%5D%2C%20%5B55.7376257%2C%2037.5869582%5D%2C%20%5B55.7460251%2C%2037.5781631%5D%2C%20%5B55.7675759%2C%2037.5842966%5D%2C%20%5B55.7686322%2C%2037.5975548%5D%2C%20%5B55.7603038%2C%2037.6545331%5D%2C%20%5B55.7596961%2C%2037.6462861%5D%2C%20%5B55.7654142%2C%2037.6085565%5D%2C%20%5B55.7617504%2C%2037.5874567%5D%2C%20%5B55.7570922%2C%2037.6032292%5D%2C%20%5B55.7532753%2C%2037.5864232%5D%2C%20%5B55.7603446%2C%2037.6520129%5D%2C%20%5B55.7370417%2C%2037.6161893%5D%2C%20%5B55.7619705%2C%2037.6005059%5D%2C%20%5B55.7596434%2C%2037.6330996%5D%2C%20%5B55.7298194%2C%2037.6286888%5D%2C%20%5B55.7604761%2C%2037.593884%5D%2C%20%5B55.3713815%2C%2037.5383575%5D%2C%20%5B55.7543557%2C%2037.5952573%5D%2C%20%5B55.761223%2C%2037.6492049%5D%2C%20%5B55.764202%2C%2037.607938%5D%2C%20%5B55.7633502%2C%2037.578926%5D%2C%20%5B55.800288%2C%2037.407849%5D%2C%20%5B55.795434%2C%2037.5851323%5D%2C%20%5B55.7660953%2C%2037.6329479%5D%2C%20%5B55.7459454%2C%2037.6825583%5D%2C%20%5B55.7143947%2C%2037.6459778%5D%2C%20%5B55.7646226%2C%2037.61528%5D%2C%20%5B55.7661972%2C%2037.6259768%5D%2C%20%5B55.7483524%2C%2037.5891374%5D%2C%20%5B55.7374717%2C%2037.6447199%5D%2C%20%5B55.7201581%2C%2037.6298147%5D%2C%20%5B55.7675526%2C%2037.5729285%5D%2C%20%5B55.7964813%2C%2037.734012%5D%2C%20%5B55.8304911%2C%2037.4041472%5D%2C%20%5B55.7627889%2C%2037.6054078%5D%2C%20%5B55.6608358%2C%2037.8570919%5D%2C%20%5B55.588649%2C%2037.5883701%5D%2C%20%5B55.6901355%2C%2037.5914248%5D%2C%20%5B55.7686804%2C%2037.5974661%5D%2C%20%5B55.7225861%2C%2037.6915405%5D%2C%20%5B55.7224339%2C%2037.5615467%5D%2C%20%5B55.7769744%2C%2037.6742548%5D%2C%20%5B55.7407218%2C%2037.538598%5D%2C%20%5B55.738005%2C%2037.7355832%5D%2C%20%5B55.8218952%2C%2037.659208%5D%2C%20%5B55.9967711%2C%2037.540784%5D%2C%20%5B55.7643032%2C%2037.6591849%5D%2C%20%5B55.4535008%2C%2037.5641039%5D%2C%20%5B55.7778737%2C%2037.6744674%5D%2C%20%5B55.3633444%2C%2037.516994%5D%2C%20%5B55.9115128%2C%2037.7166829%5D%2C%20%5B55.9465242%2C%2037.2853825%5D%2C%20%5B55.687379%2C%2037.8839873%5D%2C%20%5B55.7240071%2C%2037.6898492%5D%2C%20%5B55.8708732%2C%2037.5447169%5D%2C%20%5B55.5512894%2C%2037.6836682%5D%2C%20%5B55.5834865%2C%2037.6466113%5D%2C%20%5B55.7327112%2C%2037.7075902%5D%2C%20%5B55.7461646%2C%2037.6309667%5D%2C%20%5B55.780835%2C%2037.6718533%5D%2C%20%5B55.7597219%2C%2037.808911%5D%2C%20%5B55.6069585%2C%2037.2965857%5D%2C%20%5B55.7638098%2C%2037.6145476%5D%2C%20%5B56.0164772%2C%2037.2231671%5D%2C%20%5B55.8178308%2C%2037.374394%5D%2C%20%5B55.8112992%2C%2037.3782851%5D%2C%20%5B55.8254525%2C%2037.376746%5D%2C%20%5B55.7604178%2C%2037.6143206%5D%2C%20%5B55.636779%2C%2037.9345045%5D%2C%20%5B55.7470282%2C%2037.5819964%5D%2C%20%5B55.7477212%2C%2037.6807927%5D%2C%20%5B55.7641875%2C%2037.6190262%5D%2C%20%5B55.8752226%2C%2037.5306425%5D%2C%20%5B55.7786907%2C%2037.6662741%5D%2C%20%5B55.775164%2C%2037.6763409%5D%2C%20%5B55.7658255%2C%2037.6633041%5D%2C%20%5B55.8119216%2C%2037.5270591%5D%2C%20%5B55.7729238%2C%2037.6140936%5D%2C%20%5B55.758225%2C%2037.9244149%5D%2C%20%5B55.8112312%2C%2037.5180362%5D%2C%20%5B55.7031142%2C%2037.8398057%5D%2C%20%5B55.7346706%2C%2037.6287948%5D%2C%20%5B55.8746996%2C%2037.578327%5D%2C%20%5B55.7586963%2C%2037.6364029%5D%2C%20%5B55.7904031%2C%2037.6827962%5D%2C%20%5B55.778121%2C%2037.5883952%5D%2C%20%5B55.7607876%2C%2037.6335731%5D%2C%20%5B55.898911%2C%2037.5425765%5D%2C%20%5B55.5758524%2C%2037.749262%5D%2C%20%5B55.750241%2C%2037.5849353%5D%2C%20%5B55.872722%2C%2037.7117964%5D%2C%20%5B55.7513407%2C%2037.5916341%5D%2C%20%5B55.8197327%2C%2037.7879952%5D%2C%20%5B55.7523324%2C%2037.5981331%5D%2C%20%5B55.7523823%2C%2037.5989444%5D%2C%20%5B55.7617157%2C%2037.6381396%5D%2C%20%5B55.7888601%2C%2037.5731962%5D%2C%20%5B55.8029724%2C%2037.5730813%5D%2C%20%5B55.7184276%2C%2037.6462467%5D%2C%20%5B55.86932%2C%2037.5500143%5D%2C%20%5B55.76987%2C%2037.6575145%5D%2C%20%5B55.7567934%2C%2037.5496387%5D%2C%20%5B55.8803971%2C%2037.4898286%5D%2C%20%5B55.7535629%2C%2037.748291%5D%2C%20%5B55.8042745%2C%2037.5936049%5D%2C%20%5B55.8284486%2C%2037.4062331%5D%2C%20%5B55.3564213%2C%2037.525053%5D%2C%20%5B55.7629739%2C%2037.6796033%5D%2C%20%5B55.7411517%2C%2037.5436521%5D%2C%20%5B55.7475883%2C%2037.6099051%5D%2C%20%5B55.7660604%2C%2037.6331932%5D%2C%20%5B55.7866233%2C%2037.6227191%5D%2C%20%5B55.7595088%2C%2037.6510663%5D%2C%20%5B55.8269872%2C%2037.4260734%5D%2C%20%5B55.7310044%2C%2037.6449453%5D%2C%20%5B55.7600269%2C%2037.6510075%5D%2C%20%5B55.7552554%2C%2037.6557255%5D%2C%20%5B55.7562176%2C%2037.6538385%5D%2C%20%5B55.7486537%2C%2037.5866827%5D%2C%20%5B55.7476377%2C%2037.6096237%5D%2C%20%5B55.747803%2C%2037.6091637%5D%2C%20%5B55.7609634%2C%2037.6588315%5D%2C%20%5B55.7832036%2C%2037.6005826%5D%2C%20%5B55.6778264%2C%2037.7563475%5D%2C%20%5B55.5479602%2C%2037.6852556%5D%2C%20%5B55.8418355%2C%2037.3700286%5D%2C%20%5B55.6037636%2C%2037.7354774%5D%2C%20%5B55.7791787%2C%2037.6677798%5D%2C%20%5B55.8802311%2C%2037.5178683%5D%2C%20%5B55.6920786%2C%2037.8734948%5D%2C%20%5B55.7712166%2C%2037.6013102%5D%2C%20%5B55.8381328%2C%2037.3805764%5D%2C%20%5B55.7629652%2C%2037.6372303%5D%2C%20%5B55.8051025%2C%2037.5857842%5D%2C%20%5B55.7045792%2C%2037.6540652%5D%2C%20%5B55.8203389%2C%2037.7837242%5D%2C%20%5B55.7606283%2C%2037.6410028%5D%2C%20%5B55.7623834%2C%2037.6258001%5D%2C%20%5B55.8112744%2C%2037.5179074%5D%2C%20%5B55.799231%2C%2037.5189614%5D%2C%20%5B55.7500319%2C%2037.5948849%5D%2C%20%5B55.7501814%2C%2037.5944987%5D%2C%20%5B55.6539919%2C%2037.4899313%5D%2C%20%5B55.6363849%2C%2037.7476233%5D%2C%20%5B55.8170727%2C%2037.7927647%5D%2C%20%5B55.8458555%2C%2037.5859129%5D%2C%20%5B55.7795319%2C%2037.667837%5D%2C%20%5B55.7794572%2C%2037.6677176%5D%2C%20%5B55.7379385%2C%2037.6401284%5D%2C%20%5B55.7377754%2C%2037.6424512%5D%2C%20%5B55.6526099%2C%2037.7000168%5D%2C%20%5B55.7705656%2C%2037.6001441%5D%2C%20%5B55.7607604%2C%2037.6462144%5D%2C%20%5B55.7665268%2C%2037.5815614%5D%2C%20%5B55.763344%2C%2037.646952%5D%2C%20%5B55.7647602%2C%2037.6527563%5D%2C%20%5B55.7375459%2C%2037.5948286%5D%2C%20%5B55.7571504%2C%2037.6025721%5D%2C%20%5B55.7642183%2C%2037.6183853%5D%2C%20%5B55.7474852%2C%2037.6295672%5D%2C%20%5B55.750912%2C%2037.6405522%5D%2C%20%5B55.7486808%2C%2037.637178%5D%2C%20%5B55.7083836%2C%2037.681464%5D%2C%20%5B55.7795817%2C%2037.6035525%5D%2C%20%5B55.7699428%2C%2037.6672551%5D%2C%20%5B55.7697651%2C%2037.6577007%5D%2C%20%5B55.8138354%2C%2037.7249659%5D%2C%20%5B55.8055879%2C%2037.5058973%5D%2C%20%5B55.8222427%2C%2037.49291%5D%2C%20%5B55.487947%2C%2037.5670974%5D%2C%20%5B55.8751696%2C%2037.5242717%5D%2C%20%5B55.8375914%2C%2037.3248885%5D%2C%20%5B55.7699711%2C%2037.5979882%5D%2C%20%5B55.7846103%2C%2037.6602168%5D%2C%20%5B55.7061054%2C%2037.6939006%5D%2C%20%5B55.789873%2C%2037.6644883%5D%2C%20%5B55.8593204%2C%2037.466724%5D%2C%20%5B55.7945996%2C%2037.5780889%5D%2C%20%5B55.8044844%2C%2037.6510504%5D%2C%20%5B55.7452863%2C%2037.5893851%5D%2C%20%5B55.7984065%2C%2037.5543761%5D%2C%20%5B55.7618118%2C%2037.6375908%5D%2C%20%5B55.771501%2C%2037.5943726%5D%2C%20%5B55.6625086%2C%2037.6452997%5D%2C%20%5B55.6052358%2C%2037.1886303%5D%2C%20%5B55.773887%2C%2037.846388%5D%2C%20%5B55.5970484%2C%2037.1125927%5D%2C%20%5B55.7826447%2C%2037.6939509%5D%2C%20%5B55.784037%2C%2037.731089%5D%2C%20%5B55.7284253%2C%2037.6383316%5D%2C%20%5B55.7890684%2C%2037.5909783%5D%2C%20%5B55.7866457%2C%2037.5932448%5D%2C%20%5B55.7459529%2C%2037.6671463%5D%2C%20%5B55.7667656%2C%2037.6530513%5D%2C%20%5B55.7719061%2C%2037.6598655%5D%2C%20%5B55.7722026%2C%2037.6602611%5D%2C%20%5B55.7932041%2C%2037.6833039%5D%2C%20%5B55.6828247%2C%2037.6455307%5D%2C%20%5B55.7264198%2C%2037.6526007%5D%2C%20%5B55.791808%2C%2037.8209917%5D%2C%20%5B55.7797704%2C%2037.5122852%5D%2C%20%5B55.7719023%2C%2037.5934191%5D%2C%20%5B55.5435141%2C%2037.5702688%5D%2C%20%5B55.8159879%2C%2037.6459248%5D%2C%20%5B55.7787416%2C%2037.6915052%5D%2C%20%5B55.899919%2C%2037.542406%5D%2C%20%5B55.7833169%2C%2037.5803672%5D%2C%20%5B55.8100683%2C%2037.8078572%5D%2C%20%5B55.8096564%2C%2037.5703036%5D%2C%20%5B55.8042809%2C%2037.7062315%5D%2C%20%5B55.694178%2C%2037.746966%5D%2C%20%5B55.7254471%2C%2037.637642%5D%2C%20%5B55.8116464%2C%2037.6021416%5D%2C%20%5B55.7823397%2C%2037.5885898%5D%2C%20%5B55.724747%2C%2037.778733%5D%2C%20%5B55.7636537%2C%2037.6139063%5D%2C%20%5B55.781026%2C%2037.6618758%5D%2C%20%5B55.7587155%2C%2037.7317661%5D%2C%20%5B55.8111278%2C%2037.3625343%5D%2C%20%5B55.8028925%2C%2037.54318%5D%2C%20%5B55.740153%2C%2037.673433%5D%2C%20%5B55.8448932%2C%2037.4526575%5D%2C%20%5B55.7283652%2C%2037.6345159%5D%2C%20%5B55.6579521%2C%2037.5878817%5D%5D%2C%0A%20%20%20%20%20%20%20%20%20%20%20%20%20%20%20%20%7B%22blur%22%3A%2015%2C%20%22maxZoom%22%3A%2018%2C%20%22minOpacity%22%3A%200.5%2C%20%22radius%22%3A%2010%7D%0A%20%20%20%20%20%20%20%20%20%20%20%20%29.addTo%28map_c3f57269b6e24e18ae540bff701110b0%29%3B%0A%20%20%20%20%20%20%20%20%0A%3C/script%3E onload=\"this.contentDocument.open();this.contentDocument.write(    decodeURIComponent(this.getAttribute('data-html')));this.contentDocument.close();\" allowfullscreen webkitallowfullscreen mozallowfullscreen></iframe></div></div>"
            ],
            "text/plain": [
              "<folium.folium.Map at 0x7faa946bc110>"
            ]
          },
          "metadata": {
            "tags": []
          },
          "execution_count": 209
        }
      ]
    },
    {
      "cell_type": "code",
      "metadata": {
        "id": "WbhbjN2KIZy4",
        "outputId": "f09e6856-aad3-4de0-c30d-745c509038ca"
      },
      "source": [
        "# распределение фаст-фуд корнеров\n",
        "visualisation(fast_food_osm)"
      ],
      "execution_count": null,
      "outputs": [
        {
          "output_type": "execute_result",
          "data": {
            "text/html": [
              "<div style=\"width:100%;\"><div style=\"position:relative;width:100%;height:0;padding-bottom:60%;\"><span style=\"color:#565656\">Make this Notebook Trusted to load map: File -> Trust Notebook</span><iframe src=\"about:blank\" style=\"position:absolute;width:100%;height:100%;left:0;top:0;border:none !important;\" data-html=%3C%21DOCTYPE%20html%3E%0A%3Chead%3E%20%20%20%20%0A%20%20%20%20%3Cmeta%20http-equiv%3D%22content-type%22%20content%3D%22text/html%3B%20charset%3DUTF-8%22%20/%3E%0A%20%20%20%20%0A%20%20%20%20%20%20%20%20%3Cscript%3E%0A%20%20%20%20%20%20%20%20%20%20%20%20L_NO_TOUCH%20%3D%20false%3B%0A%20%20%20%20%20%20%20%20%20%20%20%20L_DISABLE_3D%20%3D%20false%3B%0A%20%20%20%20%20%20%20%20%3C/script%3E%0A%20%20%20%20%0A%20%20%20%20%3Cstyle%3Ehtml%2C%20body%20%7Bwidth%3A%20100%25%3Bheight%3A%20100%25%3Bmargin%3A%200%3Bpadding%3A%200%3B%7D%3C/style%3E%0A%20%20%20%20%3Cstyle%3E%23map%20%7Bposition%3Aabsolute%3Btop%3A0%3Bbottom%3A0%3Bright%3A0%3Bleft%3A0%3B%7D%3C/style%3E%0A%20%20%20%20%3Cscript%20src%3D%22https%3A//cdn.jsdelivr.net/npm/leaflet%401.6.0/dist/leaflet.js%22%3E%3C/script%3E%0A%20%20%20%20%3Cscript%20src%3D%22https%3A//code.jquery.com/jquery-1.12.4.min.js%22%3E%3C/script%3E%0A%20%20%20%20%3Cscript%20src%3D%22https%3A//maxcdn.bootstrapcdn.com/bootstrap/3.2.0/js/bootstrap.min.js%22%3E%3C/script%3E%0A%20%20%20%20%3Cscript%20src%3D%22https%3A//cdnjs.cloudflare.com/ajax/libs/Leaflet.awesome-markers/2.0.2/leaflet.awesome-markers.js%22%3E%3C/script%3E%0A%20%20%20%20%3Clink%20rel%3D%22stylesheet%22%20href%3D%22https%3A//cdn.jsdelivr.net/npm/leaflet%401.6.0/dist/leaflet.css%22/%3E%0A%20%20%20%20%3Clink%20rel%3D%22stylesheet%22%20href%3D%22https%3A//maxcdn.bootstrapcdn.com/bootstrap/3.2.0/css/bootstrap.min.css%22/%3E%0A%20%20%20%20%3Clink%20rel%3D%22stylesheet%22%20href%3D%22https%3A//maxcdn.bootstrapcdn.com/bootstrap/3.2.0/css/bootstrap-theme.min.css%22/%3E%0A%20%20%20%20%3Clink%20rel%3D%22stylesheet%22%20href%3D%22https%3A//maxcdn.bootstrapcdn.com/font-awesome/4.6.3/css/font-awesome.min.css%22/%3E%0A%20%20%20%20%3Clink%20rel%3D%22stylesheet%22%20href%3D%22https%3A//cdnjs.cloudflare.com/ajax/libs/Leaflet.awesome-markers/2.0.2/leaflet.awesome-markers.css%22/%3E%0A%20%20%20%20%3Clink%20rel%3D%22stylesheet%22%20href%3D%22https%3A//cdn.jsdelivr.net/gh/python-visualization/folium/folium/templates/leaflet.awesome.rotate.min.css%22/%3E%0A%20%20%20%20%0A%20%20%20%20%20%20%20%20%20%20%20%20%3Cmeta%20name%3D%22viewport%22%20content%3D%22width%3Ddevice-width%2C%0A%20%20%20%20%20%20%20%20%20%20%20%20%20%20%20%20initial-scale%3D1.0%2C%20maximum-scale%3D1.0%2C%20user-scalable%3Dno%22%20/%3E%0A%20%20%20%20%20%20%20%20%20%20%20%20%3Cstyle%3E%0A%20%20%20%20%20%20%20%20%20%20%20%20%20%20%20%20%23map_182f07b5791141dba1569712cf1063e3%20%7B%0A%20%20%20%20%20%20%20%20%20%20%20%20%20%20%20%20%20%20%20%20position%3A%20relative%3B%0A%20%20%20%20%20%20%20%20%20%20%20%20%20%20%20%20%20%20%20%20width%3A%20100.0%25%3B%0A%20%20%20%20%20%20%20%20%20%20%20%20%20%20%20%20%20%20%20%20height%3A%20100.0%25%3B%0A%20%20%20%20%20%20%20%20%20%20%20%20%20%20%20%20%20%20%20%20left%3A%200.0%25%3B%0A%20%20%20%20%20%20%20%20%20%20%20%20%20%20%20%20%20%20%20%20top%3A%200.0%25%3B%0A%20%20%20%20%20%20%20%20%20%20%20%20%20%20%20%20%7D%0A%20%20%20%20%20%20%20%20%20%20%20%20%3C/style%3E%0A%20%20%20%20%20%20%20%20%0A%20%20%20%20%3Cscript%20src%3D%22https%3A//cdn.jsdelivr.net/gh/python-visualization/folium%40master/folium/templates/leaflet_heat.min.js%22%3E%3C/script%3E%0A%3C/head%3E%0A%3Cbody%3E%20%20%20%20%0A%20%20%20%20%0A%20%20%20%20%20%20%20%20%20%20%20%20%3Cdiv%20class%3D%22folium-map%22%20id%3D%22map_182f07b5791141dba1569712cf1063e3%22%20%3E%3C/div%3E%0A%20%20%20%20%20%20%20%20%0A%3C/body%3E%0A%3Cscript%3E%20%20%20%20%0A%20%20%20%20%0A%20%20%20%20%20%20%20%20%20%20%20%20var%20map_182f07b5791141dba1569712cf1063e3%20%3D%20L.map%28%0A%20%20%20%20%20%20%20%20%20%20%20%20%20%20%20%20%22map_182f07b5791141dba1569712cf1063e3%22%2C%0A%20%20%20%20%20%20%20%20%20%20%20%20%20%20%20%20%7B%0A%20%20%20%20%20%20%20%20%20%20%20%20%20%20%20%20%20%20%20%20center%3A%20%5B55.6%2C%2037.4%5D%2C%0A%20%20%20%20%20%20%20%20%20%20%20%20%20%20%20%20%20%20%20%20crs%3A%20L.CRS.EPSG3857%2C%0A%20%20%20%20%20%20%20%20%20%20%20%20%20%20%20%20%20%20%20%20zoom%3A%2011%2C%0A%20%20%20%20%20%20%20%20%20%20%20%20%20%20%20%20%20%20%20%20zoomControl%3A%20true%2C%0A%20%20%20%20%20%20%20%20%20%20%20%20%20%20%20%20%20%20%20%20preferCanvas%3A%20false%2C%0A%20%20%20%20%20%20%20%20%20%20%20%20%20%20%20%20%7D%0A%20%20%20%20%20%20%20%20%20%20%20%20%29%3B%0A%0A%20%20%20%20%20%20%20%20%20%20%20%20%0A%0A%20%20%20%20%20%20%20%20%0A%20%20%20%20%0A%20%20%20%20%20%20%20%20%20%20%20%20var%20tile_layer_56513568d5684323b549bc83a63711f5%20%3D%20L.tileLayer%28%0A%20%20%20%20%20%20%20%20%20%20%20%20%20%20%20%20%22https%3A//cartodb-basemaps-%7Bs%7D.global.ssl.fastly.net/light_all/%7Bz%7D/%7Bx%7D/%7By%7D.png%22%2C%0A%20%20%20%20%20%20%20%20%20%20%20%20%20%20%20%20%7B%22attribution%22%3A%20%22%5Cu0026copy%3B%20%5Cu003ca%20href%3D%5C%22http%3A//www.openstreetmap.org/copyright%5C%22%5Cu003eOpenStreetMap%5Cu003c/a%5Cu003e%20contributors%20%5Cu0026copy%3B%20%5Cu003ca%20href%3D%5C%22http%3A//cartodb.com/attributions%5C%22%5Cu003eCartoDB%5Cu003c/a%5Cu003e%2C%20CartoDB%20%5Cu003ca%20href%20%3D%5C%22http%3A//cartodb.com/attributions%5C%22%5Cu003eattributions%5Cu003c/a%5Cu003e%22%2C%20%22detectRetina%22%3A%20false%2C%20%22maxNativeZoom%22%3A%2018%2C%20%22maxZoom%22%3A%2018%2C%20%22minZoom%22%3A%200%2C%20%22noWrap%22%3A%20false%2C%20%22opacity%22%3A%201%2C%20%22subdomains%22%3A%20%22abc%22%2C%20%22tms%22%3A%20false%7D%0A%20%20%20%20%20%20%20%20%20%20%20%20%29.addTo%28map_182f07b5791141dba1569712cf1063e3%29%3B%0A%20%20%20%20%20%20%20%20%0A%20%20%20%20%0A%20%20%20%20%20%20%20%20%20%20%20%20var%20heat_map_bf4ec93de79d4c3e9b83ddfc60259597%20%3D%20L.heatLayer%28%0A%20%20%20%20%20%20%20%20%20%20%20%20%20%20%20%20%5B%5B55.7318759%2C%2037.664447%5D%2C%20%5B55.7608001%2C%2037.6320651%5D%2C%20%5B55.6537689%2C%2037.620673%5D%2C%20%5B55.6128728%2C%2037.7199359%5D%2C%20%5B55.622858%2C%2037.6055688%5D%2C%20%5B55.7578539%2C%2037.4069829%5D%2C%20%5B55.6683634%2C%2037.8713616%5D%2C%20%5B55.5663536%2C%2037.5730058%5D%2C%20%5B55.8228877%2C%2037.5884774%5D%2C%20%5B55.6675564%2C%2037.6585425%5D%2C%20%5B55.7060276%2C%2037.766913%5D%2C%20%5B55.6424972%2C%2037.3614704%5D%2C%20%5B55.8851057%2C%2037.6023619%5D%2C%20%5B55.7100826%2C%2037.6209313%5D%2C%20%5B55.6121254%2C%2037.7319932%5D%2C%20%5B55.8656313%2C%2037.7047054%5D%2C%20%5B55.7061931%2C%2037.7655091%5D%2C%20%5B55.7418463%2C%2037.6554653%5D%2C%20%5B55.7350804%2C%2037.475917%5D%2C%20%5B55.758985%2C%2037.7098885%5D%2C%20%5B55.7409715%2C%2037.6254376%5D%2C%20%5B55.6406638%2C%2037.5317901%5D%2C%20%5B55.6437462%2C%2037.5262148%5D%2C%20%5B55.6336394%2C%2037.6236458%5D%2C%20%5B55.633543%2C%2037.6237773%5D%2C%20%5B55.6537687%2C%2037.6205746%5D%2C%20%5B55.7459087%2C%2037.566261%5D%2C%20%5B55.6713304%2C%2037.5546714%5D%2C%20%5B55.9016792%2C%2037.5474888%5D%2C%20%5B55.9017712%2C%2037.5473039%5D%2C%20%5B55.7166409%2C%2037.4092718%5D%2C%20%5B55.7715816%2C%2037.6814166%5D%2C%20%5B55.8919379%2C%2037.7275674%5D%2C%20%5B55.8920464%2C%2037.7276114%5D%2C%20%5B55.6921836%2C%2037.5282825%5D%2C%20%5B55.6920292%2C%2037.5279942%5D%2C%20%5B55.6904958%2C%2037.601586%5D%2C%20%5B55.7565416%2C%2037.6592025%5D%2C%20%5B55.758067%2C%2037.6589801%5D%2C%20%5B55.7572886%2C%2037.6586466%5D%2C%20%5B55.8695047%2C%2037.662638%5D%2C%20%5B55.8515092%2C%2037.6762033%5D%2C%20%5B55.7589521%2C%2037.6107581%5D%2C%20%5B55.5847579%2C%2037.7205782%5D%2C%20%5B55.5849035%2C%2037.7204237%5D%2C%20%5B55.5484151%2C%2037.5428667%5D%2C%20%5B55.62266%2C%2037.6054831%5D%2C%20%5B55.8697991%2C%2037.6765917%5D%2C%20%5B55.4476618%2C%2037.6197427%5D%2C%20%5B55.6788301%2C%2037.8925082%5D%2C%20%5B55.6529343%2C%2037.6201603%5D%2C%20%5B55.5836486%2C%2037.5991369%5D%2C%20%5B55.7289138%2C%2037.6227107%5D%2C%20%5B55.8879388%2C%2037.6627264%5D%2C%20%5B55.6071955%2C%2037.5128256%5D%2C%20%5B55.852145%2C%2037.6451775%5D%2C%20%5B55.4367781%2C%2037.7730406%5D%2C%20%5B55.7183763%2C%2036.898817%5D%2C%20%5B55.6324839%2C%2037.2115778%5D%2C%20%5B56.0127812%2C%2037.4843663%5D%2C%20%5B55.7442858%2C%2037.5656531%5D%2C%20%5B55.8061817%2C%2037.5814224%5D%2C%20%5B55.8241427%2C%2037.4968431%5D%2C%20%5B55.6828016%2C%2037.5495723%5D%2C%20%5B55.785738%2C%2037.6597656%5D%2C%20%5B55.6255191%2C%2037.7595699%5D%2C%20%5B55.6191327%2C%2037.5070793%5D%2C%20%5B55.8103258%2C%2037.3837525%5D%2C%20%5B55.6657667%2C%2037.6287322%5D%2C%20%5B55.8227104%2C%2037.8236975%5D%2C%20%5B55.6699276%2C%2037.5529454%5D%2C%20%5B55.8705149%2C%2037.6763009%5D%2C%20%5B55.8225308%2C%2037.4969429%5D%2C%20%5B55.8226634%2C%2037.4969428%5D%2C%20%5B55.8227659%2C%2037.4969321%5D%2C%20%5B55.8228734%2C%2037.4969333%5D%2C%20%5B55.8230092%2C%2037.4969281%5D%2C%20%5B55.8231542%2C%2037.4969198%5D%2C%20%5B55.8232974%2C%2037.4969015%5D%2C%20%5B55.8234424%2C%2037.4969062%5D%2C%20%5B55.8235113%2C%2037.4968987%5D%2C%20%5B55.8235859%2C%2037.4968868%5D%2C%20%5B55.823661%2C%2037.4968861%5D%2C%20%5B55.8237526%2C%2037.4968876%5D%2C%20%5B55.823797%2C%2037.4975998%5D%2C%20%5B55.823934%2C%2037.4968705%5D%2C%20%5B55.7749884%2C%2037.5828808%5D%2C%20%5B55.8408246%2C%2037.4874389%5D%2C%20%5B55.8464648%2C%2037.3584128%5D%2C%20%5B55.7714124%2C%2037.6790174%5D%2C%20%5B55.804926%2C%2037.4200975%5D%2C%20%5B55.8624922%2C%2037.5853258%5D%2C%20%5B55.6122238%2C%2037.7181004%5D%2C%20%5B55.7608388%2C%2037.623385%5D%2C%20%5B55.6774102%2C%2037.4662203%5D%2C%20%5B55.7239512%2C%2037.8280285%5D%2C%20%5B55.7234875%2C%2037.655106%5D%2C%20%5B55.6453068%2C%2037.5299709%5D%2C%20%5B55.6921003%2C%2037.5281268%5D%2C%20%5B55.7954396%2C%2037.592592%5D%2C%20%5B55.6888286%2C%2037.5428511%5D%2C%20%5B55.8910682%2C%2037.7440414%5D%2C%20%5B55.7576856%2C%2037.6343073%5D%2C%20%5B55.8042383%2C%2037.4958738%5D%2C%20%5B55.897742%2C%2037.5881703%5D%2C%20%5B55.9165637%2C%2037.759294%5D%2C%20%5B55.729108%2C%2037.623774%5D%2C%20%5B55.3998942%2C%2037.6042208%5D%2C%20%5B55.7602026%2C%2037.584853%5D%2C%20%5B55.7449919%2C%2037.6006171%5D%2C%20%5B55.565692%2C%2037.5557866%5D%2C%20%5B55.809319%2C%2037.4643709%5D%2C%20%5B55.8351773%2C%2037.569102%5D%2C%20%5B55.6935908%2C%2037.5341159%5D%2C%20%5B55.727632%2C%2037.5803116%5D%2C%20%5B55.7221456%2C%2037.6515947%5D%2C%20%5B55.7110211%2C%2037.6306352%5D%2C%20%5B55.7177192%2C%2037.414884%5D%2C%20%5B55.7772874%2C%2037.5208653%5D%2C%20%5B55.7950735%2C%2037.8206596%5D%2C%20%5B55.6866291%2C%2037.3062238%5D%2C%20%5B55.8589081%2C%2037.3948893%5D%2C%20%5B55.6195632%2C%2037.5089847%5D%2C%20%5B55.7474016%2C%2037.5843473%5D%2C%20%5B55.9108775%2C%2037.3977503%5D%2C%20%5B55.9105588%2C%2037.3970338%5D%2C%20%5B55.9107272%2C%2037.3973984%5D%2C%20%5B55.3117523%2C%2037.5165381%5D%2C%20%5B55.8099676%2C%2037.6365805%5D%2C%20%5B55.4203388%2C%2037.5480053%5D%2C%20%5B55.4201744%2C%2037.5480268%5D%2C%20%5B55.6112306%2C%2037.6062103%5D%2C%20%5B55.6071831%2C%2037.5898334%5D%2C%20%5B55.5113312%2C%2037.5740054%5D%2C%20%5B55.6610423%2C%2037.7209513%5D%2C%20%5B55.7932899%2C%2037.6204971%5D%2C%20%5B55.640285%2C%2037.6063779%5D%2C%20%5B55.7575201%2C%2037.6345789%5D%2C%20%5B55.9493586%2C%2037.3338612%5D%2C%20%5B55.9828153%2C%2037.1752017%5D%2C%20%5B55.6816607%2C%2037.8965694%5D%2C%20%5B55.6998112%2C%2037.5406103%5D%2C%20%5B55.7797722%2C%2037.6009695%5D%2C%20%5B55.9317618%2C%2037.5202352%5D%2C%20%5B55.932207%2C%2037.5200221%5D%2C%20%5B55.9129816%2C%2037.5723995%5D%2C%20%5B55.9129179%2C%2037.5721626%5D%2C%20%5B55.9127015%2C%2037.5711594%5D%2C%20%5B55.5508318%2C%2037.5543355%5D%2C%20%5B55.7976125%2C%2037.9383595%5D%2C%20%5B55.7885899%2C%2037.6790967%5D%2C%20%5B55.901989%2C%2037.5859202%5D%2C%20%5B55.7542535%2C%2037.6232069%5D%2C%20%5B55.7409433%2C%2037.6277777%5D%2C%20%5B55.74717%2C%2037.6800785%5D%2C%20%5B55.9127171%2C%2037.5713911%5D%2C%20%5B55.149172%2C%2036.8118956%5D%2C%20%5B55.8102259%2C%2037.8310773%5D%2C%20%5B55.7928835%2C%2037.4939148%5D%2C%20%5B55.5654778%2C%2037.5556102%5D%2C%20%5B55.765327%2C%2037.6384033%5D%2C%20%5B55.7093458%2C%2037.6223326%5D%2C%20%5B55.7092661%2C%2037.6223256%5D%2C%20%5B55.7091875%2C%2037.6219701%5D%2C%20%5B55.7092926%2C%2037.6219805%5D%2C%20%5B55.7667764%2C%2037.8494108%5D%2C%20%5B55.9015525%2C%2037.7429334%5D%2C%20%5B55.7202886%2C%2037.8218013%5D%2C%20%5B55.896575%2C%2037.5192603%5D%2C%20%5B55.6592422%2C%2037.9171773%5D%2C%20%5B55.6911493%2C%2037.3283245%5D%2C%20%5B55.6837988%2C%2037.6216136%5D%2C%20%5B56.0124139%2C%2037.8405826%5D%2C%20%5B56.002213%2C%2037.2102999%5D%2C%20%5B55.8930238%2C%2037.5911924%5D%2C%20%5B55.6783433%2C%2037.2679448%5D%2C%20%5B55.7548903%2C%2037.8430833%5D%2C%20%5B55.7472356%2C%2037.7071618%5D%2C%20%5B55.7942907%2C%2037.9260172%5D%2C%20%5B55.6486394%2C%2037.6564224%5D%2C%20%5B55.8115154%2C%2037.7732749%5D%2C%20%5B55.7397492%2C%2037.6567534%5D%2C%20%5B55.7376047%2C%2037.6602132%5D%2C%20%5B55.6593661%2C%2037.7572564%5D%2C%20%5B55.7740037%2C%2037.6503889%5D%2C%20%5B55.6536163%2C%2037.6205755%5D%2C%20%5B55.6538449%2C%2037.6205741%5D%2C%20%5B55.653728%2C%2037.6206553%5D%2C%20%5B55.7774612%2C%2037.5040382%5D%2C%20%5B55.8122283%2C%2037.7226655%5D%2C%20%5B55.6473043%2C%2037.7205009%5D%2C%20%5B55.6853929%2C%2037.5792096%5D%2C%20%5B55.7897062%2C%2037.7530228%5D%2C%20%5B55.8549165%2C%2037.498746%5D%2C%20%5B55.7622389%2C%2037.7850648%5D%2C%20%5B55.6867088%2C%2037.603794%5D%2C%20%5B55.7531973%2C%2037.665235%5D%2C%20%5B55.8992683%2C%2037.5859097%5D%2C%20%5B55.9108435%2C%2037.5428831%5D%2C%20%5B55.803087%2C%2037.7857268%5D%2C%20%5B55.7703645%2C%2037.6466894%5D%2C%20%5B55.612177%2C%2037.5379837%5D%2C%20%5B55.748888%2C%2037.5395108%5D%2C%20%5B55.7842747%2C%2037.7115207%5D%2C%20%5B55.672106%2C%2037.2795219%5D%2C%20%5B55.8666532%2C%2037.7066599%5D%2C%20%5B55.721619%2C%2037.5425865%5D%2C%20%5B55.711369%2C%2037.5470378%5D%2C%20%5B55.8654958%2C%2037.7043885%5D%2C%20%5B55.7499192%2C%2037.8869095%5D%2C%20%5B55.8387752%2C%2037.6544669%5D%2C%20%5B55.8630298%2C%2037.6010518%5D%2C%20%5B55.8630359%2C%2037.6006548%5D%2C%20%5B55.8630027%2C%2037.6007567%5D%2C%20%5B55.8629606%2C%2037.600864%5D%2C%20%5B55.7514959%2C%2037.9526203%5D%2C%20%5B55.8882347%2C%2037.588384%5D%2C%20%5B55.8881083%2C%2037.5883835%5D%2C%20%5B55.8880451%2C%2037.5883833%5D%2C%20%5B55.7768825%2C%2037.6589156%5D%2C%20%5B55.9733935%2C%2037.9037446%5D%2C%20%5B55.7721472%2C%2037.6317237%5D%2C%20%5B55.8154556%2C%2037.7377582%5D%2C%20%5B55.8154391%2C%2037.7350143%5D%2C%20%5B55.814999%2C%2037.7344993%5D%2C%20%5B55.7263797%2C%2037.4679458%5D%2C%20%5B55.502857%2C%2037.5725252%5D%2C%20%5B55.8265255%2C%2037.4378228%5D%2C%20%5B55.8265767%2C%2037.4447858%5D%2C%20%5B55.8265722%2C%2037.4447081%5D%2C%20%5B55.7440082%2C%2037.5084563%5D%2C%20%5B55.7489895%2C%2037.5894351%5D%2C%20%5B55.884113%2C%2037.6897538%5D%2C%20%5B55.8922991%2C%2037.6178845%5D%2C%20%5B55.6791751%2C%2037.5756805%5D%2C%20%5B55.9310447%2C%2037.4941809%5D%2C%20%5B55.8883611%2C%2037.5883844%5D%2C%20%5B55.7303447%2C%2037.5994875%5D%2C%20%5B55.5525434%2C%2037.7038144%5D%2C%20%5B55.7096038%2C%2037.5639715%5D%2C%20%5B55.7114625%2C%2037.5721308%5D%2C%20%5B55.4487762%2C%2037.2902137%5D%2C%20%5B55.7000479%2C%2037.8558057%5D%2C%20%5B55.6112353%2C%2037.6061736%5D%2C%20%5B55.7717332%2C%2037.6334682%5D%2C%20%5B55.7009182%2C%2037.6218261%5D%2C%20%5B55.9100943%2C%2037.5423762%5D%2C%20%5B55.7820843%2C%2037.7035425%5D%2C%20%5B55.707144%2C%2037.3850804%5D%2C%20%5B55.6995448%2C%2037.5327223%5D%2C%20%5B55.9745152%2C%2037.5197492%5D%2C%20%5B55.7400516%2C%2037.6620155%5D%2C%20%5B55.6039843%2C%2037.4909989%5D%2C%20%5B55.7391573%2C%2037.5478093%5D%2C%20%5B55.8081233%2C%2037.6378869%5D%2C%20%5B55.7588228%2C%2037.7524909%5D%2C%20%5B55.7958899%2C%2037.5849186%5D%2C%20%5B55.7099609%2C%2037.6571627%5D%2C%20%5B55.7296959%2C%2037.6111274%5D%2C%20%5B55.9109172%2C%2036.8654306%5D%2C%20%5B55.7633693%2C%2037.6224411%5D%2C%20%5B55.9223694%2C%2037.714975%5D%2C%20%5B55.6229455%2C%2037.6056074%5D%2C%20%5B55.8764573%2C%2037.5894989%5D%2C%20%5B55.754448%2C%2037.6491021%5D%2C%20%5B55.8030886%2C%2037.618313%5D%2C%20%5B55.8029173%2C%2037.6183218%5D%2C%20%5B55.803183%2C%2037.6182423%5D%2C%20%5B55.7418864%2C%2037.6556856%5D%2C%20%5B55.7418%2C%2037.6554609%5D%2C%20%5B55.7418022%2C%2037.6556865%5D%2C%20%5B55.7411915%2C%2037.6586706%5D%2C%20%5B55.658888%2C%2037.7418872%5D%2C%20%5B55.7937342%2C%2037.57661%5D%2C%20%5B55.7448724%2C%2037.5652192%5D%2C%20%5B55.9096375%2C%2037.5412331%5D%2C%20%5B55.8949208%2C%2037.4800419%5D%2C%20%5B55.6815025%2C%2037.6248773%5D%2C%20%5B55.7224925%2C%2037.5916926%5D%2C%20%5B55.8005311%2C%2037.5653578%5D%2C%20%5B55.7047618%2C%2037.4232283%5D%2C%20%5B55.4353725%2C%2037.5496491%5D%2C%20%5B55.6581702%2C%2037.7422741%5D%2C%20%5B55.6596408%2C%2037.7495769%5D%2C%20%5B55.659582%2C%2037.7494306%5D%2C%20%5B55.659747%2C%2037.7498671%5D%2C%20%5B55.7675226%2C%2037.8582681%5D%2C%20%5B55.7517221%2C%2037.8585833%5D%2C%20%5B55.7633234%2C%2037.8445583%5D%2C%20%5B55.7461065%2C%2037.8523743%5D%2C%20%5B55.8671136%2C%2037.7041598%5D%2C%20%5B55.8026544%2C%2037.6414699%5D%2C%20%5B55.8387268%2C%2037.5295216%5D%2C%20%5B55.898533%2C%2037.6297528%5D%2C%20%5B55.7810426%2C%2037.7130005%5D%2C%20%5B55.6682586%2C%2037.4378523%5D%2C%20%5B55.7289951%2C%2037.4115629%5D%2C%20%5B55.726583%2C%2037.6119275%5D%2C%20%5B55.7706506%2C%2037.5120144%5D%2C%20%5B55.7402319%2C%2037.483966%5D%2C%20%5B55.7649263%2C%2037.4081291%5D%2C%20%5B55.7416852%2C%2037.4145074%5D%2C%20%5B55.6084356%2C%2037.6223647%5D%2C%20%5B55.6921057%2C%2037.8967431%5D%2C%20%5B55.5692723%2C%2037.6312232%5D%2C%20%5B55.7569112%2C%2037.6590315%5D%2C%20%5B55.7438287%2C%2037.5689521%5D%2C%20%5B55.889571%2C%2037.6338663%5D%2C%20%5B55.79319%2C%2037.8099781%5D%2C%20%5B55.7822749%2C%2037.5797868%5D%2C%20%5B55.5054979%2C%2037.5726386%5D%2C%20%5B55.6496306%2C%2037.2550482%5D%2C%20%5B55.4996415%2C%2037.5700842%5D%2C%20%5B55.6688011%2C%2037.4537876%5D%2C%20%5B55.9155708%2C%2037.8466727%5D%2C%20%5B55.7565743%2C%2037.8047572%5D%2C%20%5B55.7730049%2C%2037.6331221%5D%2C%20%5B55.6585628%2C%2037.4008929%5D%2C%20%5B55.6741342%2C%2037.2763705%5D%2C%20%5B55.7070812%2C%2037.3857065%5D%2C%20%5B55.7410276%2C%2037.4153233%5D%2C%20%5B55.7666929%2C%2037.3811393%5D%2C%20%5B55.8188518%2C%2037.3467099%5D%2C%20%5B55.8503168%2C%2037.4427404%5D%2C%20%5B55.8632228%2C%2037.4351246%5D%2C%20%5B55.8093082%2C%2037.4637824%5D%2C%20%5B55.8093763%2C%2037.4637123%5D%2C%20%5B55.785841%2C%2037.5954642%5D%2C%20%5B55.7895789%2C%2037.7484523%5D%2C%20%5B55.7885183%2C%2037.7482939%5D%2C%20%5B55.6179821%2C%2037.667636%5D%2C%20%5B55.6184375%2C%2037.6684921%5D%2C%20%5B55.6184502%2C%2037.6685146%5D%2C%20%5B55.8311701%2C%2037.5105751%5D%2C%20%5B55.938098%2C%2037.3150513%5D%2C%20%5B55.9182491%2C%2037.7242379%5D%2C%20%5B55.8274637%2C%2037.6422177%5D%2C%20%5B55.739258%2C%2037.5476873%5D%2C%20%5B55.7426515%2C%2037.4996725%5D%2C%20%5B55.850123%2C%2037.4428044%5D%2C%20%5B55.7064564%2C%2037.5939598%5D%2C%20%5B55.9503572%2C%2037.2980365%5D%2C%20%5B55.7187349%2C%2037.6765856%5D%2C%20%5B55.9914865%2C%2037.215572%5D%2C%20%5B55.6219198%2C%2037.6695763%5D%2C%20%5B55.9500107%2C%2037.3046175%5D%2C%20%5B55.7754675%2C%2037.6839124%5D%2C%20%5B55.8292967%2C%2037.5118347%5D%2C%20%5B55.7665395%2C%2037.6846019%5D%2C%20%5B55.9828411%2C%2037.1752786%5D%2C%20%5B55.9828954%2C%2037.1754403%5D%2C%20%5B55.9828689%2C%2037.1753616%5D%2C%20%5B55.9827876%2C%2037.1751194%5D%2C%20%5B55.7993246%2C%2037.5857876%5D%2C%20%5B55.7981106%2C%2037.643007%5D%2C%20%5B55.6502783%2C%2037.6189512%5D%2C%20%5B55.6531052%2C%2037.5535173%5D%2C%20%5B55.6576503%2C%2037.5443539%5D%2C%20%5B55.9139285%2C%2037.7108672%5D%2C%20%5B55.6563904%2C%2037.5542324%5D%2C%20%5B55.6573021%2C%2037.5523749%5D%2C%20%5B55.6401386%2C%2037.6212215%5D%2C%20%5B55.7716241%2C%2037.6495469%5D%2C%20%5B55.7703888%2C%2037.6206919%5D%2C%20%5B55.8013646%2C%2037.5849739%5D%2C%20%5B55.8651582%2C%2037.6588768%5D%2C%20%5B55.6406197%2C%2037.5317357%5D%2C%20%5B55.6407906%2C%2037.5316879%5D%2C%20%5B55.6408176%2C%2037.5315859%5D%2C%20%5B55.6407115%2C%2037.5318218%5D%2C%20%5B55.640769%2C%2037.5317995%5D%2C%20%5B55.3860891%2C%2037.361152%5D%2C%20%5B55.7069634%2C%2037.3854188%5D%2C%20%5B55.7635704%2C%2037.6553415%5D%2C%20%5B55.870482%2C%2037.6794306%5D%2C%20%5B55.6401356%2C%2037.6210459%5D%2C%20%5B55.6401173%2C%2037.6209572%5D%2C%20%5B55.778781%2C%2037.5110578%5D%2C%20%5B55.7906267%2C%2037.7777767%5D%2C%20%5B55.7408403%2C%2037.6293045%5D%2C%20%5B55.7174292%2C%2037.7939809%5D%2C%20%5B55.8573188%2C%2037.4319997%5D%2C%20%5B55.7599927%2C%2037.5846467%5D%2C%20%5B55.8147218%2C%2037.7308441%5D%2C%20%5B55.8141022%2C%2037.740917%5D%2C%20%5B55.6346912%2C%2037.4372373%5D%2C%20%5B55.7285925%2C%2037.597341%5D%2C%20%5B55.7036557%2C%2037.6523821%5D%2C%20%5B55.8895112%2C%2037.5969036%5D%2C%20%5B55.8190035%2C%2037.3379269%5D%2C%20%5B55.7448768%2C%2037.6367726%5D%2C%20%5B55.6919214%2C%2037.5277928%5D%2C%20%5B55.6918615%2C%2037.527892%5D%2C%20%5B55.6922789%2C%2037.5284604%5D%2C%20%5B55.8039487%2C%2037.7067433%5D%2C%20%5B55.9753176%2C%2037.9073015%5D%2C%20%5B55.7632577%2C%2037.8448077%5D%2C%20%5B55.8216899%2C%2037.6604746%5D%2C%20%5B55.647669%2C%2037.5950375%5D%2C%20%5B56.0084654%2C%2037.44088%5D%2C%20%5B55.8373712%2C%2037.5382308%5D%2C%20%5B55.7299285%2C%2037.6399975%5D%2C%20%5B55.7785685%2C%2037.5850433%5D%2C%20%5B55.7275297%2C%2037.5800178%5D%2C%20%5B55.5829487%2C%2037.9126342%5D%2C%20%5B55.5828365%2C%2037.9126932%5D%2C%20%5B55.5827304%2C%2037.9128219%5D%2C%20%5B55.7470363%2C%2037.6542248%5D%2C%20%5B55.7757121%2C%2037.6862321%5D%2C%20%5B55.7865664%2C%2037.8821051%5D%2C%20%5B55.8454347%2C%2037.5760102%5D%2C%20%5B55.9827056%2C%2037.1752427%5D%2C%20%5B55.6648872%2C%2037.4814829%5D%2C%20%5B55.7763117%2C%2037.5815283%5D%2C%20%5B55.7767789%2C%2037.5811976%5D%2C%20%5B55.8348373%2C%2037.2991177%5D%2C%20%5B55.7612382%2C%2037.5757927%5D%2C%20%5B55.7284336%2C%2036.8618584%5D%2C%20%5B55.8881715%2C%2037.5883837%5D%2C%20%5B55.5154476%2C%2037.7104678%5D%2C%20%5B55.7612965%2C%2037.6233636%5D%2C%20%5B55.6807495%2C%2037.566592%5D%2C%20%5B55.6552046%2C%2037.553019%5D%2C%20%5B55.7828897%2C%2037.6008785%5D%2C%20%5B55.7995945%2C%2037.5323637%5D%2C%20%5B55.7641341%2C%2037.6177915%5D%2C%20%5B55.7757777%2C%2037.8347493%5D%2C%20%5B55.7537092%2C%2037.6358662%5D%2C%20%5B55.6315292%2C%2037.5189589%5D%2C%20%5B55.6329365%2C%2037.5198725%5D%2C%20%5B55.870614%2C%2037.6380989%5D%2C%20%5B55.6906557%2C%2037.8590891%5D%2C%20%5B55.6486971%2C%2037.7433564%5D%2C%20%5B55.903756%2C%2036.8583355%5D%2C%20%5B55.7590293%2C%2037.6054846%5D%2C%20%5B55.6365241%2C%2037.5214169%5D%2C%20%5B55.7509766%2C%2037.8194935%5D%2C%20%5B55.7218373%2C%2037.6359462%5D%2C%20%5B55.8141942%2C%2037.6912513%5D%2C%20%5B55.7881232%2C%2037.749077%5D%2C%20%5B55.7405966%2C%2037.6578383%5D%2C%20%5B55.8402171%2C%2037.2526324%5D%2C%20%5B55.4315109%2C%2037.5643936%5D%2C%20%5B55.6838243%2C%2037.6230535%5D%2C%20%5B55.7476479%2C%2037.544637%5D%2C%20%5B55.7608262%2C%2037.6021516%5D%2C%20%5B55.7988675%2C%2037.5946326%5D%2C%20%5B55.7521672%2C%2037.6711287%5D%2C%20%5B55.7089125%2C%2037.6572915%5D%2C%20%5B55.6626597%2C%2037.554667%5D%2C%20%5B55.8080552%2C%2037.6361574%5D%2C%20%5B55.8589698%2C%2037.3949268%5D%2C%20%5B55.869937%2C%2037.6320661%5D%2C%20%5B55.705158%2C%2037.5165521%5D%2C%20%5B55.725117%2C%2037.582821%5D%2C%20%5B55.6757251%2C%2037.505805%5D%2C%20%5B55.7624776%2C%2037.5788644%5D%2C%20%5B55.7680715%2C%2037.8801271%5D%2C%20%5B55.8501031%2C%2037.4439286%5D%2C%20%5B55.8500179%2C%2037.4431445%5D%2C%20%5B55.8500023%2C%2037.443001%5D%2C%20%5B55.8500142%2C%2037.4428403%5D%2C%20%5B55.8500687%2C%2037.4436123%5D%2C%20%5B55.8503877%2C%2037.4427306%5D%2C%20%5B55.8500342%2C%2037.4432945%5D%2C%20%5B55.8500519%2C%2037.4434574%5D%2C%20%5B55.8500838%2C%2037.4437509%5D%2C%20%5B55.8502352%2C%2037.4427673%5D%2C%20%5B55.9159742%2C%2036.8578732%5D%2C%20%5B55.7524442%2C%2037.8878279%5D%2C%20%5B55.75218%2C%2037.8873317%5D%2C%20%5B55.7524684%2C%2037.8879593%5D%2C%20%5B55.75234%2C%2037.8878386%5D%2C%20%5B55.7521264%2C%2037.8869562%5D%2C%20%5B55.7061814%2C%2037.7651628%5D%2C%20%5B55.6568189%2C%2037.4937339%5D%2C%20%5B55.5588263%2C%2037.7758495%5D%2C%20%5B55.7927556%2C%2037.7863162%5D%2C%20%5B55.9945091%2C%2037.5323575%5D%2C%20%5B55.5321878%2C%2037.5193755%5D%2C%20%5B55.5828634%2C%2037.5955684%5D%2C%20%5B55.6403628%2C%2037.6089143%5D%2C%20%5B55.7491039%2C%2037.5898148%5D%2C%20%5B55.7627522%2C%2037.6346843%5D%2C%20%5B55.7282571%2C%2037.5970345%5D%2C%20%5B55.7410268%2C%2037.6278625%5D%2C%20%5B55.7798721%2C%2037.6000971%5D%2C%20%5B55.8189915%2C%2037.3467496%5D%2C%20%5B55.7549602%2C%2037.6676161%5D%2C%20%5B55.6954685%2C%2037.9070592%5D%2C%20%5B55.7608018%2C%2037.6636398%5D%2C%20%5B55.7616575%2C%2037.6580294%5D%2C%20%5B55.5907823%2C%2037.5331878%5D%2C%20%5B55.7613653%2C%2037.6589189%5D%2C%20%5B55.7533602%2C%2037.7166796%5D%2C%20%5B55.648405%2C%2037.7128566%5D%2C%20%5B55.7728065%2C%2037.6794623%5D%2C%20%5B55.8225265%2C%2037.874262%5D%2C%20%5B55.6929413%2C%2037.5343185%5D%2C%20%5B55.6043202%2C%2037.5927828%5D%2C%20%5B55.629421%2C%2037.0039588%5D%2C%20%5B55.6383353%2C%2037.8412658%5D%2C%20%5B55.6388594%2C%2037.8411172%5D%2C%20%5B55.7225428%2C%2037.5915912%5D%2C%20%5B55.7579087%2C%2037.6233072%5D%2C%20%5B55.7590991%2C%2037.40879%5D%2C%20%5B55.6631179%2C%2037.5188678%5D%2C%20%5B55.5046349%2C%2037.752482%5D%2C%20%5B55.8381428%2C%2037.5767586%5D%2C%20%5B55.7286509%2C%2037.6456826%5D%2C%20%5B55.730049%2C%2037.599606%5D%2C%20%5B55.732185%2C%2037.599604%5D%2C%20%5B55.7799875%2C%2037.6872939%5D%2C%20%5B55.7205733%2C%2037.6153376%5D%2C%20%5B55.6774521%2C%2037.576722%5D%2C%20%5B55.7255245%2C%2037.59944%5D%2C%20%5B55.7547312%2C%2037.548749%5D%2C%20%5B55.6247555%2C%2037.7095457%5D%2C%20%5B55.9143715%2C%2036.8638967%5D%2C%20%5B55.7228663%2C%2037.6504753%5D%2C%20%5B55.7583384%2C%2037.6388111%5D%2C%20%5B55.9149007%2C%2037.8670325%5D%2C%20%5B55.921044%2C%2037.836422%5D%2C%20%5B55.655448%2C%2037.5843201%5D%2C%20%5B55.9646895%2C%2037.4138589%5D%2C%20%5B55.7847302%2C%2037.2426684%5D%2C%20%5B55.6064027%2C%2037.5360206%5D%2C%20%5B55.7066924%2C%2037.7305878%5D%2C%20%5B55.7993187%2C%2037.6047032%5D%2C%20%5B55.79317%2C%2037.6037872%5D%2C%20%5B55.792403%2C%2037.6045656%5D%2C%20%5B55.7509323%2C%2037.783554%5D%2C%20%5B55.7960212%2C%2037.5924978%5D%2C%20%5B55.7959128%2C%2037.5923893%5D%2C%20%5B55.795824%2C%2037.592286%5D%2C%20%5B55.7946202%2C%2037.6173644%5D%2C%20%5B55.7946991%2C%2037.6173792%5D%2C%20%5B55.7947822%2C%2037.6173497%5D%2C%20%5B55.8237478%2C%2037.634112%5D%2C%20%5B55.752153%2C%2037.590232%5D%2C%20%5B55.9132068%2C%2037.5846787%5D%2C%20%5B55.9132035%2C%2037.5851756%5D%2C%20%5B55.9137357%2C%2037.5831639%5D%2C%20%5B55.9136727%2C%2037.5835115%5D%2C%20%5B55.9134607%2C%2037.5831534%5D%2C%20%5B55.7830187%2C%2037.6427394%5D%2C%20%5B55.814621%2C%2037.7315862%5D%2C%20%5B55.6553938%2C%2037.5560904%5D%2C%20%5B55.7236946%2C%2037.6728804%5D%2C%20%5B55.9612665%2C%2037.5334945%5D%2C%20%5B55.7650276%2C%2037.6390537%5D%2C%20%5B55.6730999%2C%2037.6139749%5D%2C%20%5B55.7001098%2C%2037.5051464%5D%2C%20%5B55.6849331%2C%2037.5712503%5D%2C%20%5B55.8366761%2C%2037.536992%5D%2C%20%5B55.758039%2C%2037.6605136%5D%2C%20%5B55.4838299%2C%2037.5664787%5D%2C%20%5B55.4250349%2C%2037.525466%5D%2C%20%5B55.7610052%2C%2037.6242451%5D%2C%20%5B55.7696134%2C%2037.5693629%5D%2C%20%5B55.6701049%2C%2037.8705276%5D%2C%20%5B55.7473713%2C%2037.6560804%5D%2C%20%5B55.8634686%2C%2037.4347508%5D%2C%20%5B55.9634116%2C%2037.4142461%5D%2C%20%5B55.9636427%2C%2037.4149628%5D%2C%20%5B55.963882%2C%2037.415721%5D%2C%20%5B55.9637929%2C%2037.4151027%5D%2C%20%5B55.5537054%2C%2037.5588509%5D%2C%20%5B55.7854185%2C%2037.5214988%5D%2C%20%5B55.9653009%2C%2037.4048865%5D%2C%20%5B55.9625412%2C%2037.4035249%5D%2C%20%5B55.7607347%2C%2037.6248082%5D%2C%20%5B55.6054491%2C%2037.2867891%5D%2C%20%5B55.7355779%2C%2037.7015504%5D%2C%20%5B55.7550158%2C%2037.6672041%5D%2C%20%5B56.0086056%2C%2037.852433%5D%2C%20%5B56.0086356%2C%2037.8523955%5D%2C%20%5B56.0086625%2C%2037.8523553%5D%2C%20%5B55.7851139%2C%2037.5951869%5D%2C%20%5B55.8500374%2C%2037.4471677%5D%2C%20%5B55.6674894%2C%2037.2848925%5D%2C%20%5B55.6674732%2C%2037.2851925%5D%2C%20%5B55.5305555%2C%2037.6684834%5D%2C%20%5B55.726781%2C%2037.627383%5D%2C%20%5B55.7810297%2C%2037.6321958%5D%2C%20%5B55.8067289%2C%2037.588598%5D%2C%20%5B55.6969466%2C%2037.8608676%5D%2C%20%5B55.6537104%2C%2037.647102%5D%2C%20%5B55.6538133%2C%2037.6472113%5D%2C%20%5B55.6539305%2C%2037.6468667%5D%2C%20%5B55.7681294%2C%2037.6471232%5D%2C%20%5B55.7863667%2C%2037.8805659%5D%2C%20%5B55.7311249%2C%2037.6335434%5D%2C%20%5B55.764654%2C%2037.6575908%5D%2C%20%5B55.6082122%2C%2037.6653083%5D%2C%20%5B55.7524745%2C%2037.8190445%5D%2C%20%5B55.8854986%2C%2037.6021106%5D%2C%20%5B55.794319%2C%2037.926369%5D%2C%20%5B55.9117592%2C%2037.3963598%5D%2C%20%5B55.8302797%2C%2037.6381133%5D%2C%20%5B55.7080277%2C%2037.3593461%5D%2C%20%5B55.8195574%2C%2037.8564086%5D%2C%20%5B55.6698773%2C%2037.5528852%5D%2C%20%5B55.6699732%2C%2037.5530218%5D%2C%20%5B55.8169631%2C%2037.4983958%5D%2C%20%5B55.8169954%2C%2037.4032953%5D%2C%20%5B55.751075%2C%2037.8608131%5D%2C%20%5B55.7756707%2C%2037.4814813%5D%2C%20%5B55.6980512%2C%2037.5790415%5D%2C%20%5B55.7245698%2C%2037.5645126%5D%2C%20%5B55.6513959%2C%2037.7428049%5D%2C%20%5B55.6404515%2C%2037.5328089%5D%2C%20%5B55.6223345%2C%2037.6677825%5D%2C%20%5B55.7521299%2C%2037.7618158%5D%2C%20%5B55.7734168%2C%2037.6551385%5D%2C%20%5B55.7045652%2C%2037.7682398%5D%2C%20%5B55.7647487%2C%2037.5643024%5D%2C%20%5B55.8198707%2C%2037.3205502%5D%2C%20%5B55.7614107%2C%2037.5621594%5D%2C%20%5B55.8091959%2C%2037.4640892%5D%2C%20%5B55.8093053%2C%2037.4642333%5D%2C%20%5B55.8091632%2C%2037.4639675%5D%2C%20%5B55.7394919%2C%2037.6332106%5D%2C%20%5B55.7529587%2C%2037.8811543%5D%2C%20%5B55.8072887%2C%2037.5114536%5D%2C%20%5B55.7531572%2C%2037.6667647%5D%2C%20%5B55.7742992%2C%2037.58458%5D%2C%20%5B55.148835%2C%2037.4891259%5D%2C%20%5B55.1485137%2C%2037.4890072%5D%2C%20%5B55.6183929%2C%2037.6683989%5D%2C%20%5B55.8160449%2C%2037.3418239%5D%2C%20%5B55.8084197%2C%2037.5797137%5D%2C%20%5B55.7670131%2C%2037.3716751%5D%2C%20%5B55.602428%2C%2037.2821949%5D%2C%20%5B55.7895453%2C%2037.752619%5D%2C%20%5B55.6634653%2C%2037.9106229%5D%2C%20%5B55.6741332%2C%2037.4226651%5D%2C%20%5B55.8397831%2C%2037.4866297%5D%2C%20%5B55.4334558%2C%2037.5709023%5D%2C%20%5B55.995764%2C%2037.2557705%5D%2C%20%5B55.8275777%2C%2037.6425334%5D%2C%20%5B55.708729%2C%2037.622091%5D%2C%20%5B55.816386%2C%2037.574504%5D%2C%20%5B55.7643403%2C%2037.605681%5D%2C%20%5B55.7643411%2C%2037.6055681%5D%2C%20%5B55.7673557%2C%2037.5977496%5D%2C%20%5B55.3826243%2C%2037.5380281%5D%2C%20%5B55.7526407%2C%2037.6035641%5D%2C%20%5B55.8391545%2C%2037.4884867%5D%2C%20%5B55.7723726%2C%2037.6207799%5D%2C%20%5B55.6793869%2C%2037.571505%5D%2C%20%5B55.7104764%2C%2037.620823%5D%2C%20%5B55.7650889%2C%2037.5965868%5D%2C%20%5B55.8290621%2C%2037.4109992%5D%2C%20%5B56.0188853%2C%2037.5442324%5D%2C%20%5B55.7295217%2C%2036.8545395%5D%2C%20%5B55.6658268%2C%2037.2870427%5D%2C%20%5B55.910646%2C%2037.3972501%5D%2C%20%5B55.8248827%2C%2037.5097545%5D%2C%20%5B55.7973577%2C%2037.9373349%5D%2C%20%5B55.8196856%2C%2037.3201703%5D%2C%20%5B55.9459443%2C%2037.4115598%5D%2C%20%5B55.8761813%2C%2037.4245904%5D%2C%20%5B55.736802%2C%2037.6611047%5D%2C%20%5B55.7935971%2C%2037.6153958%5D%2C%20%5B55.5846789%2C%2037.7206619%5D%2C%20%5B55.689646%2C%2037.5469087%5D%2C%20%5B55.7739014%2C%2037.8272964%5D%2C%20%5B55.8941364%2C%2037.6285336%5D%2C%20%5B55.7788581%2C%2037.5857436%5D%2C%20%5B55.761916%2C%2037.6210623%5D%2C%20%5B55.853228%2C%2037.3516547%5D%2C%20%5B55.812051%2C%2037.8321746%5D%2C%20%5B55.8101164%2C%2037.8310957%5D%2C%20%5B55.8103355%2C%2037.8310651%5D%2C%20%5B55.6950024%2C%2037.8903515%5D%2C%20%5B55.6942685%2C%2037.8897026%5D%2C%20%5B55.7717817%2C%2037.6206631%5D%2C%20%5B55.7610211%2C%2037.5796184%5D%2C%20%5B55.7560874%2C%2037.6615807%5D%2C%20%5B55.756344%2C%2037.6609986%5D%2C%20%5B55.7560361%2C%2037.66135%5D%2C%20%5B55.7562172%2C%2037.6610898%5D%2C%20%5B55.8511999%2C%2037.645759%5D%2C%20%5B55.748652%2C%2037.682556%5D%2C%20%5B55.7754306%2C%2037.5462598%5D%2C%20%5B55.7649027%2C%2037.7272495%5D%2C%20%5B55.759983%2C%2037.6255399%5D%2C%20%5B55.7600749%2C%2037.6256077%5D%2C%20%5B55.76029%2C%2037.6246117%5D%2C%20%5B55.760395%2C%2037.6253845%5D%2C%20%5B55.7601595%2C%2037.6256638%5D%2C%20%5B55.7598147%2C%2037.6246591%5D%2C%20%5B55.9079556%2C%2037.7312075%5D%2C%20%5B55.8179037%2C%2037.3114803%5D%2C%20%5B55.6550539%2C%2037.5219051%5D%2C%20%5B55.7533932%2C%2037.7165254%5D%2C%20%5B55.7659539%2C%2037.6051447%5D%2C%20%5B55.8421476%2C%2037.4384348%5D%2C%20%5B55.7063124%2C%2037.5938063%5D%2C%20%5B55.7065723%2C%2037.5935541%5D%2C%20%5B55.7063259%2C%2037.5926818%5D%2C%20%5B55.7124275%2C%2037.5910182%5D%2C%20%5B55.7956698%2C%2037.6759218%5D%2C%20%5B55.2767641%2C%2037.1134503%5D%2C%20%5B55.2765772%2C%2037.1135169%5D%2C%20%5B55.4682182%2C%2037.3030881%5D%2C%20%5B55.7421019%2C%2037.6532993%5D%2C%20%5B55.7422075%2C%2037.6530421%5D%2C%20%5B55.8818718%2C%2037.4181754%5D%2C%20%5B55.7086017%2C%2037.8717619%5D%2C%20%5B55.7939533%2C%2037.6772986%5D%2C%20%5B55.5022273%2C%2037.5722968%5D%2C%20%5B56.0123245%2C%2037.8638479%5D%2C%20%5B55.9957917%2C%2037.8638961%5D%2C%20%5B55.7430346%2C%2037.6298573%5D%2C%20%5B55.7441574%2C%2037.5081373%5D%2C%20%5B55.6018369%2C%2036.9866449%5D%2C%20%5B55.3166281%2C%2037.5291091%5D%2C%20%5B55.3683786%2C%2037.7843565%5D%2C%20%5B55.3987774%2C%2037.2398911%5D%2C%20%5B55.7549723%2C%2037.7080239%5D%2C%20%5B55.7540057%2C%2037.7078801%5D%2C%20%5B55.7549194%2C%2037.7082814%5D%2C%20%5B55.7543776%2C%2037.7068008%5D%2C%20%5B55.7661439%2C%2037.7053379%5D%2C%20%5B55.7531841%2C%2037.7158441%5D%2C%20%5B55.7532809%2C%2037.7157885%5D%2C%20%5B55.4924223%2C%2037.6123769%5D%2C%20%5B55.6083962%2C%2037.622339%5D%2C%20%5B55.6327066%2C%2037.6207869%5D%2C%20%5B55.9206519%2C%2037.3949908%5D%2C%20%5B55.9249455%2C%2037.7909934%5D%2C%20%5B55.988267%2C%2037.7277593%5D%2C%20%5B55.5672726%2C%2037.5999962%5D%2C%20%5B55.6669045%2C%2037.4585436%5D%2C%20%5B55.6677905%2C%2037.8367883%5D%2C%20%5B55.6183488%2C%2037.2769351%5D%2C%20%5B55.6262871%2C%2037.2985847%5D%2C%20%5B55.7310671%2C%2037.7258342%5D%2C%20%5B55.7350019%2C%2037.7073376%5D%2C%20%5B55.6637571%2C%2037.7130879%5D%2C%20%5B55.7293277%2C%2037.6510876%5D%2C%20%5B55.8302901%2C%2037.6519816%5D%2C%20%5B55.9752841%2C%2037.3103669%5D%2C%20%5B55.625642%2C%2037.1944032%5D%2C%20%5B55.4347521%2C%2037.594386%5D%2C%20%5B55.4346471%2C%2037.5944423%5D%2C%20%5B55.9617154%2C%2037.5319457%5D%2C%20%5B55.6626141%2C%2037.8751159%5D%2C%20%5B55.6764086%2C%2037.8539616%5D%2C%20%5B55.9254194%2C%2037.7729599%5D%2C%20%5B55.889667%2C%2037.5942539%5D%2C%20%5B55.5462896%2C%2037.7102694%5D%2C%20%5B55.7533298%2C%2037.7165728%5D%2C%20%5B55.827198%2C%2037.5975204%5D%2C%20%5B55.6339412%2C%2037.441928%5D%2C%20%5B55.6339801%2C%2037.4427198%5D%2C%20%5B55.9131655%2C%2037.5832292%5D%2C%20%5B55.9130184%2C%2037.5837543%5D%2C%20%5B55.9128644%2C%2037.5844259%5D%2C%20%5B55.6011211%2C%2037.0442093%5D%2C%20%5B55.8892223%2C%2037.0234157%5D%2C%20%5B55.7943961%2C%2037.6744132%5D%2C%20%5B55.7595678%2C%2037.6452833%5D%2C%20%5B55.7215895%2C%2037.5898432%5D%2C%20%5B55.794083%2C%2037.9142636%5D%2C%20%5B55.759868%2C%2037.6157023%5D%2C%20%5B55.8180442%2C%2037.6302236%5D%2C%20%5B55.899946%2C%2037.571893%5D%2C%20%5B55.9000902%2C%2037.5693028%5D%2C%20%5B55.8095714%2C%2037.3245165%5D%2C%20%5B55.8125581%2C%2037.8336367%5D%2C%20%5B55.7748356%2C%2037.5824222%5D%2C%20%5B55.6623065%2C%2037.5408414%5D%2C%20%5B55.8000068%2C%2037.9350383%5D%2C%20%5B55.9123192%2C%2036.8231485%5D%2C%20%5B55.9119644%2C%2036.8237252%5D%2C%20%5B55.6535149%2C%2037.5014305%5D%2C%20%5B55.7666603%2C%2037.6643182%5D%2C%20%5B55.765934%2C%2037.607572%5D%2C%20%5B55.6543151%2C%2037.4064555%5D%2C%20%5B55.3342375%2C%2037.8477126%5D%2C%20%5B55.9628223%2C%2037.405697%5D%2C%20%5B55.7778978%2C%2037.5872925%5D%2C%20%5B55.7845431%2C%2037.7521527%5D%2C%20%5B55.74689%2C%2037.6792827%5D%2C%20%5B55.7794409%2C%2037.6005327%5D%2C%20%5B55.8215616%2C%2037.6602014%5D%2C%20%5B55.7745643%2C%2037.6563537%5D%2C%20%5B55.6528645%2C%2037.6070576%5D%2C%20%5B55.8492612%2C%2037.4392171%5D%2C%20%5B55.7303124%2C%2037.6030887%5D%2C%20%5B55.7948736%2C%2037.7996884%5D%2C%20%5B55.704611%2C%2037.621143%5D%2C%20%5B55.6889053%2C%2037.8719594%5D%2C%20%5B55.6776095%2C%2037.5064377%5D%2C%20%5B55.4526555%2C%2037.8562722%5D%2C%20%5B55.6353978%2C%2037.4367311%5D%2C%20%5B55.6353147%2C%2037.4367917%5D%2C%20%5B55.6354564%2C%2037.4369854%5D%2C%20%5B55.6353424%2C%2037.4369071%5D%2C%20%5B55.6354339%2C%2037.4368696%5D%2C%20%5B55.7783258%2C%2037.1858361%5D%2C%20%5B55.688496%2C%2037.8720168%5D%2C%20%5B55.5960756%2C%2037.5913477%5D%2C%20%5B55.9043043%2C%2036.8571954%5D%2C%20%5B55.2487582%2C%2037.4943158%5D%2C%20%5B55.7526851%2C%2037.6093401%5D%2C%20%5B55.7736404%2C%2037.2079066%5D%2C%20%5B55.8597091%2C%2037.5533307%5D%2C%20%5B55.8693937%2C%2037.663178%5D%2C%20%5B55.744144%2C%2037.5662386%5D%2C%20%5B55.7169369%2C%2037.7925605%5D%2C%20%5B55.8541582%2C%2037.4757286%5D%2C%20%5B55.854079%2C%2037.477217%5D%2C%20%5B55.8542145%2C%2037.477158%5D%2C%20%5B55.8543903%2C%2037.4767486%5D%2C%20%5B55.8544253%2C%2037.4768871%5D%2C%20%5B55.8105739%2C%2037.8380025%5D%2C%20%5B55.6886253%2C%2037.5697591%5D%2C%20%5B55.8129511%2C%2037.3445562%5D%2C%20%5B55.7942744%2C%2037.5867827%5D%2C%20%5B55.8531578%2C%2037.3541376%5D%2C%20%5B55.4188306%2C%2037.5052451%5D%2C%20%5B55.4188573%2C%2037.5053327%5D%2C%20%5B55.8271093%2C%2037.6347993%5D%2C%20%5B55.8271657%2C%2037.6347468%5D%2C%20%5B55.827181%2C%2037.6376664%5D%2C%20%5B55.7477042%2C%2037.680868%5D%2C%20%5B55.7526099%2C%2037.5410149%5D%2C%20%5B55.69482%2C%2037.8885861%5D%2C%20%5B55.5527169%2C%2037.0804356%5D%2C%20%5B55.7093701%2C%2037.6537156%5D%2C%20%5B55.8888957%2C%2037.6456511%5D%2C%20%5B55.812359%2C%2037.5716319%5D%2C%20%5B55.7102702%2C%2037.7695742%5D%2C%20%5B55.6335632%2C%2037.4423863%5D%2C%20%5B55.7525423%2C%2037.5410026%5D%2C%20%5B55.8371125%2C%2037.3829521%5D%2C%20%5B55.7685255%2C%2037.5977476%5D%2C%20%5B55.6902027%2C%2037.6016841%5D%2C%20%5B55.7521096%2C%2037.8872797%5D%2C%20%5B55.7385065%2C%2037.4099269%5D%2C%20%5B55.7382589%2C%2037.410008%5D%2C%20%5B55.6831086%2C%2037.8976457%5D%2C%20%5B55.7768535%2C%2037.6593499%5D%2C%20%5B55.7770627%2C%2037.6587343%5D%2C%20%5B55.7766448%2C%2037.6581232%5D%2C%20%5B55.4256344%2C%2037.5294399%5D%2C%20%5B55.7065547%2C%2037.6183056%5D%2C%20%5B55.7040685%2C%2037.6476483%5D%2C%20%5B55.7576459%2C%2037.6366037%5D%2C%20%5B55.8319242%2C%2037.6303965%5D%2C%20%5B55.831996%2C%2037.6305311%5D%2C%20%5B55.8318963%2C%2037.6311428%5D%2C%20%5B55.8317065%2C%2037.6307678%5D%2C%20%5B55.8320858%2C%2037.6308427%5D%2C%20%5B55.8317737%2C%2037.6308992%5D%2C%20%5B55.8319909%2C%2037.6310001%5D%2C%20%5B55.8320676%2C%2037.6306655%5D%2C%20%5B55.7546496%2C%2037.5503797%5D%2C%20%5B55.759341%2C%2037.4093406%5D%2C%20%5B55.8571843%2C%2037.6374498%5D%2C%20%5B55.6538577%2C%2037.6467446%5D%2C%20%5B55.653658%2C%2037.6471078%5D%2C%20%5B55.7119316%2C%2037.6152999%5D%2C%20%5B55.7725221%2C%2037.6772754%5D%2C%20%5B55.7505605%2C%2037.7138535%5D%2C%20%5B55.86674%2C%2037.144349%5D%2C%20%5B55.8740507%2C%2037.1225878%5D%2C%20%5B55.6182719%2C%2037.6680945%5D%2C%20%5B55.6318672%2C%2037.5176957%5D%2C%20%5B55.8075598%2C%2037.5053309%5D%2C%20%5B55.8065765%2C%2037.5169159%5D%2C%20%5B55.7768344%2C%2037.6567476%5D%2C%20%5B55.7807861%2C%2037.5914117%5D%2C%20%5B55.7774334%2C%2037.5854043%5D%2C%20%5B55.6765132%2C%2037.8582863%5D%2C%20%5B55.7832137%2C%2037.6514304%5D%2C%20%5B55.846357%2C%2037.6645762%5D%2C%20%5B55.8464102%2C%2037.6643849%5D%2C%20%5B55.8464511%2C%2037.6641635%5D%2C%20%5B55.8464792%2C%2037.6640372%5D%2C%20%5B55.846564%2C%2037.6639755%5D%2C%20%5B55.6830517%2C%2037.8992895%5D%2C%20%5B55.7540895%2C%2037.8578032%5D%2C%20%5B55.7884454%2C%2037.7482752%5D%2C%20%5B55.7503004%2C%2037.7800523%5D%2C%20%5B55.7610789%2C%2037.5776865%5D%2C%20%5B55.7611105%2C%2037.5774078%5D%2C%20%5B55.7628239%2C%2037.5780342%5D%2C%20%5B55.7629718%2C%2037.5779973%5D%2C%20%5B55.7633659%2C%2037.5771506%5D%2C%20%5B55.8192672%2C%2037.5789681%5D%2C%20%5B55.7122988%2C%2037.6561443%5D%2C%20%5B55.712353%2C%2037.6559134%5D%2C%20%5B55.8204935%2C%2037.6418443%5D%2C%20%5B55.8476658%2C%2037.4389504%5D%2C%20%5B55.3648351%2C%2037.5307325%5D%2C%20%5B55.8364064%2C%2037.3553684%5D%2C%20%5B55.8378615%2C%2037.3891016%5D%2C%20%5B55.7023799%2C%2037.4222168%5D%2C%20%5B55.7452449%2C%2037.7977705%5D%2C%20%5B55.9994206%2C%2037.2565915%5D%2C%20%5B55.7930006%2C%2037.9337246%5D%2C%20%5B55.7450953%2C%2037.8527062%5D%2C%20%5B55.7802272%2C%2037.5915421%5D%2C%20%5B55.5518439%2C%2037.5287722%5D%2C%20%5B55.7523002%2C%2037.5998937%5D%2C%20%5B55.8231049%2C%2037.8709936%5D%2C%20%5B55.7934586%2C%2037.7985757%5D%2C%20%5B55.7930461%2C%2037.7989369%5D%2C%20%5B55.9455497%2C%2037.5077174%5D%2C%20%5B55.7946802%2C%2037.5890322%5D%2C%20%5B55.7946401%2C%2037.5890358%5D%2C%20%5B55.7947043%2C%2037.5882531%5D%2C%20%5B55.8648133%2C%2037.5722454%5D%2C%20%5B55.6916862%2C%2037.5274189%5D%2C%20%5B55.7772602%2C%2037.5817733%5D%2C%20%5B55.801734%2C%2037.2995622%5D%2C%20%5B55.6850647%2C%2037.8777162%5D%2C%20%5B55.685413%2C%2037.8771351%5D%2C%20%5B55.6851554%2C%2037.8777323%5D%2C%20%5B55.6855303%2C%2037.8772208%5D%2C%20%5B55.7362369%2C%2037.5910152%5D%2C%20%5B55.7511969%2C%2037.8591183%5D%2C%20%5B55.746659%2C%2037.8543762%5D%2C%20%5B55.8231726%2C%2037.5010701%5D%2C%20%5B55.7625698%2C%2037.6836608%5D%2C%20%5B55.7504523%2C%2037.7800168%5D%2C%20%5B55.8089149%2C%2037.4628637%5D%2C%20%5B56.0056877%2C%2037.5407089%5D%2C%20%5B55.7523413%2C%2037.8182089%5D%2C%20%5B55.7520531%2C%2037.7834602%5D%2C%20%5B55.8091875%2C%2037.5130312%5D%2C%20%5B55.3859027%2C%2037.5439241%5D%2C%20%5B55.3874221%2C%2037.5481737%5D%2C%20%5B55.6527156%2C%2037.5940339%5D%2C%20%5B55.748936%2C%2037.8168209%5D%2C%20%5B55.744413%2C%2037.7994053%5D%2C%20%5B55.7586204%2C%2037.7510827%5D%2C%20%5B55.6350331%2C%2037.4306231%5D%2C%20%5B55.8541621%2C%2037.4762151%5D%2C%20%5B55.7888962%2C%2037.7846285%5D%2C%20%5B55.9408788%2C%2037.4076758%5D%2C%20%5B55.7963739%2C%2037.7134113%5D%2C%20%5B55.7943615%2C%2037.5877237%5D%2C%20%5B55.8522925%2C%2037.6459997%5D%2C%20%5B55.7933989%2C%2037.5923518%5D%2C%20%5B56.0088233%2C%2037.2002299%5D%2C%20%5B55.7439386%2C%2037.8121709%5D%2C%20%5B55.6788672%2C%2037.8941003%5D%2C%20%5B56.0085616%2C%2037.1991963%5D%2C%20%5B56.0086315%2C%2037.1992161%5D%2C%20%5B56.0085183%2C%2037.1992951%5D%2C%20%5B56.0084768%2C%2037.1994337%5D%2C%20%5B56.0085951%2C%2037.1991504%5D%2C%20%5B55.7582277%2C%2037.6572566%5D%2C%20%5B55.9189319%2C%2037.7084153%5D%2C%20%5B55.7362632%2C%2037.5909366%5D%2C%20%5B55.7994223%2C%2036.8480577%5D%2C%20%5B55.8694997%2C%2037.6782337%5D%2C%20%5B55.8465378%2C%2037.3583998%5D%2C%20%5B55.7571927%2C%2037.6227562%5D%2C%20%5B55.7979806%2C%2037.5684928%5D%2C%20%5B55.808346%2C%2037.5301937%5D%2C%20%5B55.7525266%2C%2037.7127473%5D%2C%20%5B55.5700457%2C%2037.5794274%5D%2C%20%5B55.5699911%2C%2037.5795266%5D%2C%20%5B55.5699259%2C%2037.5796098%5D%2C%20%5B55.5697727%2C%2037.5797117%5D%2C%20%5B55.5700972%2C%2037.5792262%5D%2C%20%5B55.8514976%2C%2037.4384223%5D%2C%20%5B55.7454012%2C%2037.6817462%5D%2C%20%5B55.7688433%2C%2037.5832602%5D%2C%20%5B55.7298078%2C%2037.6396798%5D%2C%20%5B55.8243829%2C%2037.6352867%5D%2C%20%5B55.6774903%2C%2037.4671274%5D%2C%20%5B55.6777655%2C%2037.4677017%5D%2C%20%5B55.6774172%2C%2037.4669913%5D%2C%20%5B55.6773349%2C%2037.4668724%5D%2C%20%5B55.6775614%2C%2037.4673378%5D%2C%20%5B55.6776343%2C%2037.4674743%5D%2C%20%5B55.7692984%2C%2037.8327861%5D%2C%20%5B55.7706818%2C%2037.832699%5D%2C%20%5B55.6587251%2C%2037.5145767%5D%2C%20%5B55.6601846%2C%2037.5153177%5D%2C%20%5B55.754134%2C%2037.8809061%5D%2C%20%5B55.7438086%2C%2037.8634377%5D%2C%20%5B55.8601354%2C%2037.4835535%5D%2C%20%5B55.7711229%2C%2037.5907668%5D%2C%20%5B55.804424%2C%2037.9091014%5D%2C%20%5B55.7915401%2C%2037.8849025%5D%2C%20%5B55.7922627%2C%2037.8883131%5D%2C%20%5B55.7614142%2C%2037.6630084%5D%2C%20%5B55.5047274%2C%2037.954183%5D%2C%20%5B55.9997052%2C%2037.259231%5D%2C%20%5B55.9998304%2C%2037.2593912%5D%2C%20%5B55.6077987%2C%2037.5328189%5D%2C%20%5B55.6079849%2C%2037.5328939%5D%2C%20%5B55.6372705%2C%2037.3529308%5D%2C%20%5B55.6791446%2C%2037.5707453%5D%2C%20%5B55.8296697%2C%2037.6017068%5D%2C%20%5B55.3977462%2C%2037.7729286%5D%2C%20%5B55.6634244%2C%2037.4807504%5D%2C%20%5B55.6632784%2C%2037.480681%5D%2C%20%5B55.663229%2C%2037.4806717%5D%2C%20%5B55.6631511%2C%2037.4806583%5D%2C%20%5B55.6630807%2C%2037.4806484%5D%2C%20%5B55.6630166%2C%2037.4806386%5D%2C%20%5B55.6629285%2C%2037.4806127%5D%2C%20%5B55.6632962%2C%2037.4809484%5D%2C%20%5B55.6633548%2C%2037.4807176%5D%2C%20%5B55.6830184%2C%2037.8656683%5D%2C%20%5B55.688025%2C%2037.5714476%5D%2C%20%5B55.6296851%2C%2037.4255494%5D%2C%20%5B55.7932841%2C%2037.7902209%5D%2C%20%5B55.704723%2C%2037.6385975%5D%2C%20%5B55.704821%2C%2037.6380425%5D%2C%20%5B55.7047182%2C%2037.6388815%5D%2C%20%5B55.8161614%2C%2037.565557%5D%2C%20%5B55.6853322%2C%2037.303548%5D%2C%20%5B55.705394%2C%2037.4793345%5D%2C%20%5B55.4261879%2C%2037.7577605%5D%2C%20%5B55.9230789%2C%2037.8260603%5D%2C%20%5B55.9196269%2C%2037.745579%5D%2C%20%5B55.6435549%2C%2037.5245412%5D%2C%20%5B55.7693191%2C%2037.582393%5D%2C%20%5B55.7665143%2C%2037.6306307%5D%2C%20%5B55.8611855%2C%2037.5031304%5D%2C%20%5B55.898105%2C%2037.5717%5D%2C%20%5B55.7165823%2C%2037.792796%5D%2C%20%5B55.7208668%2C%2037.6004518%5D%2C%20%5B55.6784423%2C%2037.6323268%5D%2C%20%5B55.7985099%2C%2037.6137243%5D%2C%20%5B55.677252%2C%2037.7561457%5D%2C%20%5B55.6774198%2C%2037.7562235%5D%2C%20%5B55.6775197%2C%2037.7554163%5D%2C%20%5B55.3752525%2C%2037.5342787%5D%2C%20%5B55.7568563%2C%2037.6607949%5D%2C%20%5B55.6792125%2C%2037.5705471%5D%2C%20%5B55.8181029%2C%2037.6302201%5D%2C%20%5B55.6733508%2C%2037.8611308%5D%2C%20%5B55.5751204%2C%2037.5802341%5D%2C%20%5B55.5749335%2C%2037.5802441%5D%2C%20%5B55.6715719%2C%2037.555042%5D%2C%20%5B55.7386906%2C%2037.1131112%5D%2C%20%5B55.759687%2C%2037.7156956%5D%2C%20%5B55.6223657%2C%2037.6678941%5D%2C%20%5B55.7765372%2C%2037.5806558%5D%2C%20%5B55.7935569%2C%2037.6151276%5D%2C%20%5B55.5424511%2C%2037.7729549%5D%2C%20%5B55.6549469%2C%2037.5909166%5D%2C%20%5B55.7120563%2C%2037.8201295%5D%2C%20%5B55.7946312%2C%2037.7117506%5D%2C%20%5B55.6195509%2C%2037.7525261%5D%2C%20%5B55.9144059%2C%2037.7609242%5D%2C%20%5B55.7295698%2C%2037.6408045%5D%2C%20%5B55.7411907%2C%2037.4152858%5D%2C%20%5B55.7383435%2C%2037.4099875%5D%2C%20%5B55.8550499%2C%2037.4756675%5D%2C%20%5B55.9105979%2C%2036.865182%5D%2C%20%5B55.9649029%2C%2037.1866502%5D%2C%20%5B55.690526%2C%2037.786443%5D%2C%20%5B55.7272867%2C%2037.6002517%5D%2C%20%5B55.6489455%2C%2037.744956%5D%2C%20%5B55.6488926%2C%2037.7449766%5D%2C%20%5B55.6488311%2C%2037.7448783%5D%2C%20%5B55.4778161%2C%2037.8328079%5D%2C%20%5B55.4856939%2C%2037.7531141%5D%2C%20%5B55.8196261%2C%2037.3756729%5D%2C%20%5B55.7528686%2C%2037.8587445%5D%2C%20%5B55.6527477%2C%2037.5943606%5D%2C%20%5B55.6525544%2C%2037.5940623%5D%2C%20%5B55.8020754%2C%2037.5316212%5D%2C%20%5B55.8022766%2C%2037.5318512%5D%2C%20%5B55.8021611%2C%2037.5317125%5D%2C%20%5B55.7294135%2C%2037.6264733%5D%2C%20%5B55.6938592%2C%2037.7815742%5D%2C%20%5B55.7956944%2C%2037.6760622%5D%2C%20%5B55.7440987%2C%2037.866384%5D%2C%20%5B55.7907166%2C%2037.679566%5D%2C%20%5B55.7770217%2C%2037.5816954%5D%2C%20%5B55.6411407%2C%2037.3489502%5D%2C%20%5B55.7466885%2C%2037.775243%5D%2C%20%5B55.7509223%2C%2037.7830859%5D%2C%20%5B55.7381816%2C%2037.4100531%5D%2C%20%5B55.6737864%2C%2037.5795766%5D%2C%20%5B55.7812901%2C%2037.6289891%5D%2C%20%5B55.7901011%2C%2037.6799401%5D%2C%20%5B55.60793%2C%2037.532414%5D%2C%20%5B55.6097906%2C%2037.7202715%5D%2C%20%5B55.6094573%2C%2037.7201428%5D%2C%20%5B55.6098663%2C%2037.7200838%5D%2C%20%5B55.7714086%2C%2037.6822567%5D%2C%20%5B55.6359943%2C%2037.520823%5D%2C%20%5B55.6360819%2C%2037.5117227%5D%2C%20%5B55.6304355%2C%2037.5167833%5D%2C%20%5B55.6303832%2C%2037.5169823%5D%2C%20%5B55.6304691%2C%2037.5171938%5D%2C%20%5B55.6561447%2C%2037.5414201%5D%2C%20%5B55.6560034%2C%2037.5417091%5D%2C%20%5B55.6561018%2C%2037.5415779%5D%2C%20%5B55.6746044%2C%2037.4349709%5D%2C%20%5B55.8094108%2C%2037.7840659%5D%2C%20%5B55.6700383%2C%2037.5528279%5D%2C%20%5B55.7225696%2C%2037.6907158%5D%2C%20%5B55.6709209%2C%2037.3140529%5D%2C%20%5B55.6712196%2C%2037.3120177%5D%2C%20%5B55.1727318%2C%2037.9120727%5D%2C%20%5B55.7451339%2C%2037.7984278%5D%2C%20%5B55.6587418%2C%2037.8457122%5D%2C%20%5B55.6532065%2C%2037.9058758%5D%2C%20%5B55.6239919%2C%2037.7075953%5D%2C%20%5B55.7575764%2C%2037.6611055%5D%2C%20%5B55.7576669%2C%2037.6606603%5D%2C%20%5B55.7580805%2C%2037.6603813%5D%2C%20%5B55.7426339%2C%2037.6634741%5D%2C%20%5B55.7416584%2C%2037.6639737%5D%2C%20%5B55.7743336%2C%2037.546196%5D%2C%20%5B55.7907723%2C%2037.5301042%5D%2C%20%5B55.7904496%2C%2037.5299219%5D%2C%20%5B55.7904591%2C%2037.5330868%5D%2C%20%5B55.7906106%2C%2037.5300097%5D%2C%20%5B55.648754%2C%2037.743795%5D%2C%20%5B55.9088632%2C%2037.5585651%5D%2C%20%5B55.7177033%2C%2037.6133617%5D%2C%20%5B55.3577383%2C%2037.5308742%5D%2C%20%5B55.3632395%2C%2037.5217769%5D%2C%20%5B55.4309713%2C%2037.5447498%5D%2C%20%5B55.8607564%2C%2037.4826906%5D%2C%20%5B55.7281799%2C%2037.6463548%5D%2C%20%5B55.8027296%2C%2037.5335721%5D%2C%20%5B55.8027807%2C%2037.5336357%5D%2C%20%5B55.8767726%2C%2037.4501368%5D%2C%20%5B55.877128%2C%2037.5588308%5D%2C%20%5B55.8057503%2C%2037.5717602%5D%2C%20%5B55.6779583%2C%2037.5071852%5D%2C%20%5B55.6087968%2C%2037.5346811%5D%2C%20%5B55.3699255%2C%2037.5376717%5D%2C%20%5B55.8912303%2C%2037.744208%5D%2C%20%5B55.7566499%2C%2037.659438%5D%2C%20%5B55.73372%2C%2037.8618187%5D%2C%20%5B55.8092969%2C%2037.4643084%5D%2C%20%5B55.7098051%2C%2037.7353566%5D%2C%20%5B55.7512094%2C%2037.8162221%5D%2C%20%5B55.7905089%2C%2037.5327239%5D%2C%20%5B55.7776891%2C%2037.5169542%5D%2C%20%5B55.8055809%2C%2037.4131872%5D%2C%20%5B55.877169%2C%2037.3312549%5D%2C%20%5B55.8551717%2C%2037.355665%5D%2C%20%5B55.6706756%2C%2037.5559892%5D%2C%20%5B55.6768923%2C%2037.7658481%5D%2C%20%5B55.7526109%2C%2037.6648167%5D%2C%20%5B55.792891%2C%2037.6364655%5D%2C%20%5B55.4319698%2C%2037.546055%5D%2C%20%5B55.7700859%2C%2037.6205715%5D%2C%20%5B55.424511%2C%2037.4938444%5D%2C%20%5B55.7945221%2C%2037.673022%5D%2C%20%5B55.879268%2C%2037.4218677%5D%2C%20%5B55.7576897%2C%2037.712344%5D%2C%20%5B55.7531409%2C%2037.8172136%5D%2C%20%5B55.7900369%2C%2037.6801378%5D%2C%20%5B55.6440553%2C%2037.5082651%5D%2C%20%5B55.8222777%2C%2037.3849106%5D%2C%20%5B55.6909822%2C%2037.5390388%5D%2C%20%5B55.3754411%2C%2037.5394293%5D%2C%20%5B55.425945%2C%2037.5410624%5D%2C%20%5B55.857287%2C%2037.4323498%5D%2C%20%5B55.7476297%2C%2037.6807898%5D%2C%20%5B55.8634715%2C%2037.4349395%5D%2C%20%5B55.7991447%2C%2037.6049777%5D%2C%20%5B55.8402644%2C%2037.4862305%5D%2C%20%5B55.5962678%2C%2037.6029203%5D%2C%20%5B55.1488028%2C%2037.4889605%5D%2C%20%5B55.9114843%2C%2036.8694335%5D%2C%20%5B55.7260049%2C%2037.5270644%5D%2C%20%5B55.7820875%2C%2037.7037096%5D%2C%20%5B55.7663209%2C%2037.525519%5D%2C%20%5B55.7145386%2C%2037.8826945%5D%2C%20%5B55.8095639%2C%2037.4637075%5D%2C%20%5B55.80948%2C%2037.463664%5D%2C%20%5B55.7796725%2C%2037.557149%5D%2C%20%5B55.8105835%2C%2037.3384785%5D%2C%20%5B55.8362539%2C%2037.2644705%5D%2C%20%5B55.7217444%2C%2037.6097947%5D%2C%20%5B55.6588664%2C%2037.5137058%5D%2C%20%5B55.7232532%2C%2037.5677447%5D%2C%20%5B55.6640641%2C%2037.4819671%5D%2C%20%5B55.8978313%2C%2037.5880688%5D%2C%20%5B55.8478072%2C%2037.3599166%5D%2C%20%5B55.706447%2C%2037.7658516%5D%2C%20%5B55.7928498%2C%2037.7886865%5D%2C%20%5B55.6020654%2C%2037.2811377%5D%2C%20%5B55.8052926%2C%2037.5161434%5D%2C%20%5B55.784865%2C%2037.7512973%5D%2C%20%5B55.7824822%2C%2037.7514883%5D%2C%20%5B55.8462945%2C%2037.3586909%5D%2C%20%5B55.8466183%2C%2037.3583797%5D%2C%20%5B55.8162003%2C%2037.6428211%5D%2C%20%5B55.7140451%2C%2037.7910818%5D%2C%20%5B55.671808%2C%2037.7393111%5D%2C%20%5B55.7555097%2C%2037.6546748%5D%2C%20%5B55.6375484%2C%2037.656776%5D%2C%20%5B55.8129448%2C%2037.8352018%5D%2C%20%5B55.7047366%2C%2037.6384534%5D%2C%20%5B55.7047873%2C%2037.6381681%5D%2C%20%5B55.7047265%2C%2037.6390216%5D%2C%20%5B55.704717%2C%2037.638742%5D%2C%20%5B55.7047407%2C%2037.6391524%5D%2C%20%5B55.7047589%2C%2037.6383043%5D%2C%20%5B55.7298203%2C%2037.6398995%5D%2C%20%5B55.7296753%2C%2037.6402053%5D%2C%20%5B55.7362542%2C%2037.4673113%5D%2C%20%5B55.7103053%2C%2037.5930049%5D%2C%20%5B55.7070453%2C%2037.7680273%5D%2C%20%5B55.7520288%2C%2037.8158796%5D%2C%20%5B55.7522699%2C%2037.8169459%5D%2C%20%5B55.739602%2C%2037.7205367%5D%2C%20%5B55.7114465%2C%2037.7734173%5D%2C%20%5B55.7342925%2C%2037.4684586%5D%2C%20%5B55.6105583%2C%2037.6630773%5D%2C%20%5B55.7719212%2C%2037.2535308%5D%2C%20%5B55.5822419%2C%2037.7067833%5D%2C%20%5B55.9310373%2C%2037.5207574%5D%2C%20%5B55.856184%2C%2037.6535496%5D%2C%20%5B55.8640457%2C%2037.436668%5D%2C%20%5B55.7839787%2C%2037.8687856%5D%2C%20%5B55.7871499%2C%2037.5603714%5D%2C%20%5B55.7502492%2C%2037.9570679%5D%2C%20%5B55.7047433%2C%2037.6392266%5D%2C%20%5B55.8838867%2C%2037.5200957%5D%2C%20%5B55.8870273%2C%2037.5235606%5D%2C%20%5B55.8892151%2C%2037.5258722%5D%2C%20%5B55.8157461%2C%2037.3423514%5D%2C%20%5B55.7546955%2C%2037.8776623%5D%2C%20%5B55.7948992%2C%2037.7114302%5D%2C%20%5B55.6797903%2C%2037.8950811%5D%2C%20%5B55.9208687%2C%2037.8342417%5D%2C%20%5B55.9246928%2C%2037.8201466%5D%2C%20%5B55.6248861%2C%2037.3058956%5D%2C%20%5B56.0058002%2C%2037.2056027%5D%2C%20%5B55.7460821%2C%2037.6820172%5D%2C%20%5B55.8739972%2C%2037.5495288%5D%2C%20%5B55.6605575%2C%2037.8808259%5D%2C%20%5B55.732626%2C%2037.5506911%5D%2C%20%5B55.7968569%2C%2037.7138065%5D%2C%20%5B55.6619708%2C%2037.8785707%5D%2C%20%5B55.6822136%2C%2037.8984874%5D%2C%20%5B55.7565269%2C%2037.6610096%5D%2C%20%5B55.7048492%2C%2037.6379836%5D%2C%20%5B55.7114505%2C%2037.8983218%5D%2C%20%5B55.7553643%2C%2037.5527885%5D%2C%20%5B55.8499389%2C%2037.446239%5D%2C%20%5B55.8435839%2C%2037.4443634%5D%2C%20%5B55.8434928%2C%2037.4436258%5D%2C%20%5B55.6901658%2C%2037.9012367%5D%2C%20%5B55.6902263%2C%2037.9013466%5D%2C%20%5B55.6594003%2C%2037.8798581%5D%2C%20%5B55.7836022%2C%2037.7190475%5D%2C%20%5B55.783429%2C%2037.719625%5D%2C%20%5B55.3582187%2C%2037.5246135%5D%2C%20%5B55.8516873%2C%2037.4386421%5D%2C%20%5B55.6511572%2C%2037.7428593%5D%2C%20%5B55.7671499%2C%2037.6573936%5D%2C%20%5B55.7299956%2C%2037.6406978%5D%2C%20%5B55.6066639%2C%2037.2847587%5D%2C%20%5B55.6054179%2C%2037.2874646%5D%2C%20%5B55.6040851%2C%2037.2846553%5D%2C%20%5B55.9800291%2C%2037.3035967%5D%2C%20%5B55.7314159%2C%2037.641018%5D%2C%20%5B55.7295894%2C%2037.6406649%5D%2C%20%5B55.7296217%2C%2037.6410764%5D%2C%20%5B55.7301878%2C%2037.6439016%5D%2C%20%5B55.7288421%2C%2037.6375572%5D%2C%20%5B55.7296929%2C%2037.6412761%5D%2C%20%5B55.7297918%2C%2037.641273%5D%2C%20%5B55.7434813%2C%2037.5674569%5D%2C%20%5B55.7299892%2C%2037.6413128%5D%2C%20%5B55.7295604%2C%2037.6403211%5D%2C%20%5B55.7429687%2C%2037.5679162%5D%2C%20%5B55.743575%2C%2037.5668698%5D%2C%20%5B55.4452846%2C%2037.6185154%5D%2C%20%5B55.743015%2C%2037.5677099%5D%2C%20%5B55.7296371%2C%2037.6397549%5D%2C%20%5B55.7296062%2C%2037.6403003%5D%2C%20%5B55.7297433%2C%2037.6377464%5D%2C%20%5B55.7299431%2C%2037.6393318%5D%2C%20%5B55.7296833%2C%2037.6397191%5D%2C%20%5B55.7297271%2C%2037.640664%5D%2C%20%5B55.9968451%2C%2037.2160987%5D%2C%20%5B55.7447764%2C%2037.5642723%5D%2C%20%5B55.7445638%2C%2037.5654254%5D%2C%20%5B55.8024696%2C%2037.744163%5D%2C%20%5B55.7219346%2C%2037.6355024%5D%2C%20%5B55.7416959%2C%2037.4980548%5D%2C%20%5B55.6195952%2C%2037.5095014%5D%2C%20%5B55.6182765%2C%2037.506988%5D%2C%20%5B55.7725492%2C%2037.6767918%5D%2C%20%5B55.7445829%2C%2037.5653704%5D%2C%20%5B55.7446088%2C%2037.5653184%5D%2C%20%5B55.744637%2C%2037.5652664%5D%2C%20%5B55.744682%2C%2037.5651794%5D%2C%20%5B55.7447344%2C%2037.5651454%5D%2C%20%5B55.7447839%2C%2037.5651454%5D%2C%20%5B55.7446589%2C%2037.5652354%5D%2C%20%5B55.7448535%2C%2037.5653057%5D%2C%20%5B55.7448192%2C%2037.5653727%5D%2C%20%5B55.7447415%2C%2037.5655637%5D%2C%20%5B55.7447876%2C%2037.5654427%5D%2C%20%5B55.7447651%2C%2037.5655087%5D%2C%20%5B55.7446891%2C%2037.5656677%5D%2C%20%5B55.9998539%2C%2037.2592923%5D%2C%20%5B55.9996807%2C%2037.2592923%5D%2C%20%5B55.999729%2C%2037.2591677%5D%2C%20%5B55.7282333%2C%2037.4774524%5D%2C%20%5B55.9985511%2C%2037.2573157%5D%2C%20%5B55.8406022%2C%2037.4919246%5D%2C%20%5B55.7357092%2C%2037.5841114%5D%2C%20%5B55.8352961%2C%2037.571435%5D%2C%20%5B55.7440585%2C%2037.5085674%5D%2C%20%5B55.7440515%2C%2037.5083857%5D%2C%20%5B55.7282153%2C%2037.5802066%5D%2C%20%5B55.6598154%2C%2037.7532993%5D%2C%20%5B55.5830692%2C%2037.5952032%5D%2C%20%5B55.7834817%2C%2037.719085%5D%2C%20%5B55.748454%2C%2037.540139%5D%2C%20%5B55.6783565%2C%2037.6648873%5D%2C%20%5B55.6783507%2C%2037.6650087%5D%2C%20%5B55.6776012%2C%2037.6648305%5D%2C%20%5B55.7176252%2C%2037.6775297%5D%2C%20%5B55.7103396%2C%2037.6748658%5D%2C%20%5B55.7102802%2C%2037.6751997%5D%2C%20%5B55.7053862%2C%2037.4792186%5D%2C%20%5B55.705365%2C%2037.479232%5D%2C%20%5B55.7509197%2C%2037.8200542%5D%2C%20%5B55.707791%2C%2037.7299684%5D%2C%20%5B55.9001844%2C%2037.4544991%5D%2C%20%5B55.7328982%2C%2037.5921305%5D%2C%20%5B55.7988076%2C%2037.9377216%5D%2C%20%5B55.7161141%2C%2037.8217142%5D%2C%20%5B55.7119066%2C%2037.8984295%5D%2C%20%5B55.8065466%2C%2037.588251%5D%2C%20%5B55.7722626%2C%2037.5875935%5D%2C%20%5B55.8051357%2C%2037.5897777%5D%2C%20%5B55.8537107%2C%2037.4802446%5D%2C%20%5B55.8545922%2C%2037.4872298%5D%2C%20%5B55.6100418%2C%2037.4879772%5D%2C%20%5B55.823652%2C%2037.634745%5D%2C%20%5B55.7996592%2C%2037.483716%5D%2C%20%5B55.7470561%2C%2037.5390903%5D%2C%20%5B55.7240677%2C%2037.5610813%5D%2C%20%5B55.8191884%2C%2037.5778147%5D%2C%20%5B55.76577%2C%2037.608594%5D%2C%20%5B55.7661769%2C%2037.609448%5D%2C%20%5B55.7327474%2C%2037.7643416%5D%2C%20%5B55.7550879%2C%2037.6609186%5D%2C%20%5B55.7373666%2C%2037.6315999%5D%2C%20%5B55.6811686%2C%2037.5474259%5D%2C%20%5B55.7486413%2C%2037.5388277%5D%2C%20%5B55.7829773%2C%2037.7214795%5D%2C%20%5B55.8508834%2C%2037.5971835%5D%2C%20%5B55.8698243%2C%2037.6658757%5D%2C%20%5B55.8756202%2C%2037.6655317%5D%2C%20%5B55.8755877%2C%2037.6654274%5D%2C%20%5B55.897243%2C%2037.6667211%5D%2C%20%5B55.6644036%2C%2037.6274321%5D%2C%20%5B55.6496137%2C%2037.7692548%5D%2C%20%5B55.6539821%2C%2037.84374%5D%2C%20%5B55.7301226%2C%2037.7323844%5D%2C%20%5B55.7634256%2C%2037.844603%5D%2C%20%5B55.7280887%2C%2037.4765265%5D%2C%20%5B55.7998051%2C%2037.4833717%5D%2C%20%5B55.8404697%2C%2037.4919593%5D%2C%20%5B55.880726%2C%2037.4497744%5D%2C%20%5B55.8639313%2C%2037.5452305%5D%2C%20%5B55.8770556%2C%2037.3310592%5D%2C%20%5B55.6587219%2C%2037.4018094%5D%2C%20%5B55.6185615%2C%2037.5068859%5D%2C%20%5B55.6039842%2C%2037.4907233%5D%2C%20%5B55.5944553%2C%2037.599448%5D%2C%20%5B55.6123275%2C%2037.6066153%5D%2C%20%5B55.6129995%2C%2037.6057639%5D%2C%20%5B55.6371856%2C%2037.5987617%5D%2C%20%5B55.6960495%2C%2037.6648533%5D%2C%20%5B55.7700238%2C%2037.6205978%5D%2C%20%5B55.8055378%2C%2037.3998418%5D%2C%20%5B55.66227%2C%2037.4804544%5D%2C%20%5B55.7610083%2C%2037.6626469%5D%2C%20%5B55.7612029%2C%2037.6628387%5D%2C%20%5B55.8153715%2C%2037.7378933%5D%2C%20%5B55.6593279%2C%2037.428229%5D%2C%20%5B55.6593106%2C%2037.4279919%5D%2C%20%5B55.659251%2C%2037.4281347%5D%2C%20%5B55.6592944%2C%2037.4280152%5D%2C%20%5B55.801553%2C%2037.7267349%5D%2C%20%5B55.8420579%2C%2037.484799%5D%2C%20%5B55.8422108%2C%2037.4851611%5D%2C%20%5B55.8942642%2C%2037.4497812%5D%2C%20%5B55.8461069%2C%2037.5877825%5D%2C%20%5B55.4366306%2C%2037.7733709%5D%2C%20%5B55.814999%2C%2037.342357%5D%2C%20%5B55.8167967%2C%2037.4985339%5D%2C%20%5B55.8169927%2C%2037.4983743%5D%2C%20%5B55.7788893%2C%2037.5872111%5D%2C%20%5B55.4523082%2C%2037.7626794%5D%2C%20%5B55.4525844%2C%2037.7628256%5D%2C%20%5B55.4523306%2C%2037.7627824%5D%2C%20%5B55.8081287%2C%2037.5301538%5D%2C%20%5B55.762485%2C%2037.863264%5D%2C%20%5B55.7519612%2C%2037.8732818%5D%2C%20%5B55.7525272%2C%2037.8763637%5D%2C%20%5B55.7529921%2C%2037.8783351%5D%2C%20%5B55.7961973%2C%2037.7126589%5D%2C%20%5B55.7962815%2C%2037.7129517%5D%2C%20%5B55.6774289%2C%2037.5655303%5D%2C%20%5B55.7124138%2C%2037.6561357%5D%2C%20%5B55.724116%2C%2037.8250748%5D%2C%20%5B55.8899985%2C%2037.5374192%5D%2C%20%5B55.6115391%2C%2037.6072237%5D%2C%20%5B55.8197098%2C%2037.3198988%5D%2C%20%5B55.7351481%2C%2037.5696602%5D%2C%20%5B55.7625563%2C%2037.8454005%5D%2C%20%5B55.7801109%2C%2037.6336565%5D%2C%20%5B55.8896676%2C%2037.5375527%5D%2C%20%5B55.682059%2C%2037.5168217%5D%2C%20%5B55.8181267%2C%2037.573415%5D%2C%20%5B55.7862613%2C%2037.5836805%5D%2C%20%5B55.6959493%2C%2037.6646107%5D%2C%20%5B55.6958033%2C%2037.6646946%5D%2C%20%5B55.7824514%2C%2037.2365686%5D%2C%20%5B55.8189721%2C%2037.3385439%5D%2C%20%5B55.7450844%2C%2037.5666425%5D%2C%20%5B55.8962644%2C%2037.4820579%5D%2C%20%5B55.7468524%2C%2037.679839%5D%2C%20%5B55.7818398%2C%2037.6008179%5D%2C%20%5B55.6818851%2C%2037.5986401%5D%2C%20%5B55.8703781%2C%2037.6380605%5D%2C%20%5B55.8089861%2C%2037.4625521%5D%2C%20%5B55.665023%2C%2037.4814144%5D%2C%20%5B55.6899113%2C%2037.4731079%5D%2C%20%5B55.9269638%2C%2037.8592156%5D%2C%20%5B55.8192502%2C%2037.3634348%5D%2C%20%5B55.4666161%2C%2037.8520805%5D%2C%20%5B55.7522911%2C%2037.5998507%5D%2C%20%5B55.8458301%2C%2037.569108%5D%2C%20%5B55.7708111%2C%2037.5962751%5D%2C%20%5B55.7502693%2C%2037.7788857%5D%2C%20%5B55.5090991%2C%2037.5500455%5D%2C%20%5B55.8635491%2C%2037.434812%5D%2C%20%5B55.7767681%2C%2037.5815703%5D%2C%20%5B55.7417621%2C%2037.6885146%5D%2C%20%5B55.802931%2C%2037.6181005%5D%2C%20%5B55.8031588%2C%2037.6183112%5D%2C%20%5B55.8030132%2C%2037.6183477%5D%2C%20%5B55.7130853%2C%2037.7211496%5D%2C%20%5B55.7988198%2C%2037.2729199%5D%2C%20%5B55.9506464%2C%2037.5114468%5D%2C%20%5B55.7144824%2C%2037.8839952%5D%2C%20%5B55.8616389%2C%2037.6915744%5D%2C%20%5B55.6532248%2C%2037.8467464%5D%2C%20%5B55.6557139%2C%2037.6485812%5D%2C%20%5B55.7309007%2C%2037.4419975%5D%2C%20%5B55.7798932%2C%2037.6045215%5D%2C%20%5B55.8916685%2C%2037.4377338%5D%2C%20%5B55.6541767%2C%2037.646432%5D%2C%20%5B55.6370712%2C%2037.6562338%5D%2C%20%5B55.8671229%2C%2037.4934561%5D%2C%20%5B55.8927542%2C%2037.4363759%5D%2C%20%5B55.7503905%2C%2037.7806517%5D%2C%20%5B55.6589105%2C%2037.739863%5D%2C%20%5B55.7754854%2C%2037.4917821%5D%2C%20%5B55.7767972%2C%2037.5855999%5D%2C%20%5B55.9490292%2C%2037.4907074%5D%2C%20%5B55.3795118%2C%2037.5476397%5D%2C%20%5B55.9586118%2C%2037.5080826%5D%2C%20%5B55.6440166%2C%2037.3488925%5D%2C%20%5B55.5250587%2C%2037.5102043%5D%2C%20%5B55.8380751%2C%2037.576935%5D%2C%20%5B55.8522095%2C%2037.4953283%5D%2C%20%5B55.6408757%2C%2037.5339347%5D%2C%20%5B55.6412023%2C%2037.532814%5D%2C%20%5B55.9316742%2C%2037.4988518%5D%2C%20%5B55.7824042%2C%2037.7019778%5D%2C%20%5B55.6418008%2C%2037.5417154%5D%2C%20%5B55.5475589%2C%2037.5546744%5D%2C%20%5B55.9220702%2C%2037.8231803%5D%2C%20%5B55.8274979%2C%2037.3679976%5D%2C%20%5B55.7765282%2C%2037.674752%5D%2C%20%5B55.7765571%2C%2037.6747143%5D%2C%20%5B55.7767853%2C%2037.6745387%5D%2C%20%5B55.7765828%2C%2037.6746808%5D%2C%20%5B55.7764361%2C%2037.6748821%5D%2C%20%5B55.5415717%2C%2037.7237424%5D%2C%20%5B55.808439%2C%2037.7992153%5D%2C%20%5B55.8084812%2C%2037.799214%5D%2C%20%5B55.8085053%2C%2037.7981344%5D%2C%20%5B55.7632683%2C%2037.8332259%5D%2C%20%5B55.7289234%2C%2037.6113451%5D%2C%20%5B55.8394414%2C%2037.4866404%5D%2C%20%5B55.7892445%2C%2037.8191008%5D%2C%20%5B55.7967228%2C%2037.7138698%5D%2C%20%5B56.0196198%2C%2037.8855642%5D%2C%20%5B55.7090503%2C%2037.5959992%5D%2C%20%5B55.6979729%2C%2037.8485293%5D%2C%20%5B55.7089885%2C%2037.5945748%5D%2C%20%5B55.6768333%2C%2037.8592855%5D%2C%20%5B55.7636556%2C%2037.6573452%5D%2C%20%5B55.7092019%2C%2037.5944173%5D%2C%20%5B55.8658004%2C%2037.5981541%5D%2C%20%5B55.7057919%2C%2037.3266794%5D%2C%20%5B55.6724474%2C%2037.5080913%5D%2C%20%5B55.7605023%2C%2037.6147252%5D%2C%20%5B55.7056655%2C%2037.3272479%5D%2C%20%5B56.0122527%2C%2037.47667%5D%2C%20%5B55.7064579%2C%2037.324901%5D%2C%20%5B55.7885727%2C%2037.7839408%5D%2C%20%5B55.638124%2C%2037.8380605%5D%2C%20%5B55.9654211%2C%2037.9398325%5D%2C%20%5B55.7121863%2C%2037.6211109%5D%2C%20%5B55.7119853%2C%2037.6202405%5D%2C%20%5B55.7121962%2C%2037.6201445%5D%2C%20%5B55.7122935%2C%2037.6201923%5D%2C%20%5B55.7043576%2C%2037.3269758%5D%2C%20%5B55.7035377%2C%2037.3271448%5D%2C%20%5B55.7224898%2C%2037.6906205%5D%2C%20%5B55.7328316%2C%2037.5921417%5D%2C%20%5B55.7119146%2C%2037.6205101%5D%2C%20%5B55.7766477%2C%2037.6745962%5D%2C%20%5B55.8980766%2C%2037.5732014%5D%2C%20%5B55.7159704%2C%2037.6767059%5D%2C%20%5B55.7161548%2C%2037.6765619%5D%2C%20%5B55.7951409%2C%2037.5837645%5D%2C%20%5B55.7076741%2C%2037.657147%5D%2C%20%5B55.8900374%2C%2037.5375102%5D%2C%20%5B55.890018%2C%2037.5374647%5D%2C%20%5B55.7424408%2C%2037.503142%5D%2C%20%5B55.6196023%2C%2037.5091197%5D%2C%20%5B55.8708091%2C%2037.6417165%5D%2C%20%5B55.694893%2C%2037.8899883%5D%2C%20%5B55.8281992%2C%2037.438952%5D%2C%20%5B55.8281834%2C%2037.4390714%5D%2C%20%5B55.8985118%2C%2037.5525224%5D%2C%20%5B55.7123059%2C%2037.6203475%5D%2C%20%5B55.7661634%2C%2037.6094167%5D%2C%20%5B55.6312174%2C%2037.6591359%5D%2C%20%5B55.677499%2C%2037.2805717%5D%2C%20%5B55.6774731%2C%2037.2806814%5D%2C%20%5B55.7753399%2C%2037.5460663%5D%2C%20%5B55.8267994%2C%2037.6173868%5D%2C%20%5B55.7935096%2C%2037.5899302%5D%2C%20%5B55.748119%2C%2037.6818186%5D%2C%20%5B55.7481695%2C%2037.6814552%5D%2C%20%5B55.7473845%2C%2037.6802925%5D%2C%20%5B55.7472954%2C%2037.6801852%5D%2C%20%5B55.7439774%2C%2037.8118885%5D%2C%20%5B55.8068436%2C%2037.5886272%5D%2C%20%5B55.7724197%2C%2037.65552%5D%2C%20%5B55.7768265%2C%2037.6746102%5D%2C%20%5B55.7764674%2C%2037.6748261%5D%2C%20%5B55.7890737%2C%2037.3778184%5D%2C%20%5B55.7439616%2C%2037.508303%5D%2C%20%5B55.7778417%2C%2037.4775007%5D%2C%20%5B55.7218887%2C%2037.6355933%5D%2C%20%5B55.8808143%2C%2037.4496971%5D%2C%20%5B55.6601929%2C%2037.4076596%5D%2C%20%5B55.6586595%2C%2037.4014716%5D%2C%20%5B55.7079494%2C%2037.3596113%5D%2C%20%5B55.7069818%2C%2037.3851644%5D%2C%20%5B55.7070735%2C%2037.3851348%5D%2C%20%5B55.7351874%2C%2037.6190936%5D%2C%20%5B55.685543%2C%2037.898294%5D%2C%20%5B55.6924649%2C%2037.7275039%5D%2C%20%5B55.721923%2C%2037.6359899%5D%2C%20%5B55.9030548%2C%2037.6248508%5D%2C%20%5B55.8608295%2C%2037.4514638%5D%2C%20%5B55.7765025%2C%2037.6747772%5D%2C%20%5B55.7764852%2C%2037.674802%5D%2C%20%5B55.9165858%2C%2037.7593262%5D%2C%20%5B55.707324%2C%2037.590108%5D%2C%20%5B55.5741678%2C%2037.6192946%5D%2C%20%5B55.762073%2C%2037.4082526%5D%2C%20%5B55.8844807%2C%2037.604368%5D%2C%20%5B55.794684%2C%2037.7829742%5D%2C%20%5B55.7744972%2C%2037.5987568%5D%2C%20%5B55.8465249%2C%2037.568831%5D%2C%20%5B55.8461599%2C%2037.5840033%5D%2C%20%5B55.6401572%2C%2037.6208199%5D%2C%20%5B55.772169%2C%2037.6006986%5D%2C%20%5B55.7770534%2C%2037.6071201%5D%2C%20%5B55.8045809%2C%2037.6164258%5D%2C%20%5B55.8415223%2C%2037.1825316%5D%2C%20%5B55.7684421%2C%2037.6841814%5D%2C%20%5B55.6775084%2C%2037.5592475%5D%2C%20%5B55.6708242%2C%2037.8697864%5D%2C%20%5B55.9763981%2C%2037.4964003%5D%2C%20%5B55.7171522%2C%2037.6961341%5D%2C%20%5B55.633223%2C%2037.6582572%5D%2C%20%5B55.8028879%2C%2037.6182153%5D%2C%20%5B55.8065003%2C%2037.615013%5D%2C%20%5B55.7119198%2C%2037.6207852%5D%2C%20%5B55.5900862%2C%2037.63235%5D%2C%20%5B55.5161784%2C%2037.3475785%5D%2C%20%5B55.7585903%2C%2037.750726%5D%2C%20%5B55.7521404%2C%2037.753838%5D%2C%20%5B55.7767925%2C%2037.5970186%5D%2C%20%5B55.7750426%2C%2037.5454937%5D%2C%20%5B55.537468%2C%2037.5130174%5D%2C%20%5B55.5371813%2C%2037.5119834%5D%2C%20%5B55.7964418%2C%2037.5428634%5D%2C%20%5B55.6560909%2C%2037.5977713%5D%2C%20%5B55.8253899%2C%2037.6167926%5D%2C%20%5B55.4710531%2C%2036.929607%5D%2C%20%5B55.4713982%2C%2036.930932%5D%2C%20%5B55.8282279%2C%2037.4893629%5D%2C%20%5B55.5089491%2C%2036.9846376%5D%2C%20%5B55.5213581%2C%2037.0097911%5D%2C%20%5B55.5206477%2C%2036.9862826%5D%2C%20%5B55.4578187%2C%2037.2951157%5D%2C%20%5B55.808112%2C%2037.7979911%5D%2C%20%5B55.8126065%2C%2037.7365914%5D%2C%20%5B55.8096702%2C%2037.7404037%5D%2C%20%5B55.7938432%2C%2037.6767083%5D%2C%20%5B55.740727%2C%2036.8595217%5D%2C%20%5B55.9511742%2C%2037.2976785%5D%2C%20%5B55.8897692%2C%2037.5374574%5D%2C%20%5B55.7842816%2C%2037.708966%5D%2C%20%5B55.7219775%2C%2037.6386198%5D%2C%20%5B55.7931353%2C%2037.936328%5D%2C%20%5B55.7929074%2C%2037.4932862%5D%2C%20%5B55.8374359%2C%2037.6364761%5D%2C%20%5B55.8276479%2C%2037.6426893%5D%2C%20%5B55.7571219%2C%2037.6610242%5D%2C%20%5B55.7666464%2C%2037.6631619%5D%2C%20%5B55.784711%2C%2037.5965285%5D%2C%20%5B55.9244742%2C%2037.8582181%5D%2C%20%5B55.7672124%2C%2037.3805618%5D%2C%20%5B55.7279728%2C%2037.4767092%5D%2C%20%5B55.8059816%2C%2037.3952255%5D%2C%20%5B55.8401947%2C%2037.4911375%5D%2C%20%5B55.8401317%2C%2037.4911458%5D%2C%20%5B55.799835%2C%2037.4830017%5D%2C%20%5B55.5825162%2C%2037.671422%5D%2C%20%5B55.6256314%2C%2037.7596982%5D%2C%20%5B55.6387121%2C%2037.7582805%5D%2C%20%5B55.7298499%2C%2037.7322717%5D%2C%20%5B55.7299519%2C%2037.7316065%5D%2C%20%5B55.8525596%2C%2037.5860209%5D%2C%20%5B55.8506941%2C%2037.5969454%5D%2C%20%5B55.472566%2C%2037.5490495%5D%2C%20%5B55.8426607%2C%2037.5703735%5D%2C%20%5B55.8501761%2C%2037.4427932%5D%2C%20%5B55.6560368%2C%2037.5415762%5D%2C%20%5B55.9108027%2C%2037.3975843%5D%2C%20%5B55.862898%2C%2037.6010674%5D%2C%20%5B55.8461146%2C%2037.6626027%5D%2C%20%5B55.7856036%2C%2037.302331%5D%2C%20%5B55.9192124%2C%2037.8067402%5D%2C%20%5B55.7286778%2C%2037.4997358%5D%2C%20%5B55.6816403%2C%2037.5031943%5D%2C%20%5B55.7564719%2C%2037.6613632%5D%2C%20%5B55.756167%2C%2037.6618674%5D%2C%20%5B55.7119701%2C%2037.6209478%5D%2C%20%5B55.5046083%2C%2036.9760606%5D%2C%20%5B55.9020883%2C%2037.7145916%5D%2C%20%5B55.7062128%2C%2037.5935508%5D%2C%20%5B55.711993%2C%2037.6210611%5D%2C%20%5B55.7120371%2C%2037.6210799%5D%2C%20%5B55.7120781%2C%2037.6211091%5D%2C%20%5B55.763726%2C%2037.5836071%5D%2C%20%5B55.763961%2C%2037.5832959%5D%2C%20%5B55.7616556%2C%2037.5824815%5D%2C%20%5B55.5683241%2C%2037.474942%5D%2C%20%5B55.4254617%2C%2037.5294355%5D%2C%20%5B55.8410147%2C%2037.4883154%5D%2C%20%5B55.751047%2C%2037.9537141%5D%2C%20%5B55.7653826%2C%2037.6076362%5D%2C%20%5B55.8105424%2C%2037.8311168%5D%2C%20%5B55.8104433%2C%2037.8311068%5D%2C%20%5B55.8061106%2C%2037.8422431%5D%2C%20%5B55.8057127%2C%2037.8435762%5D%2C%20%5B55.728028%2C%2037.6112931%5D%2C%20%5B55.7361989%2C%2037.5911311%5D%2C%20%5B55.6215424%2C%2037.4810888%5D%2C%20%5B55.8241803%2C%2037.3165964%5D%2C%20%5B55.5850665%2C%2037.7203049%5D%2C%20%5B55.9166653%2C%2037.7592748%5D%2C%20%5B55.7130331%2C%2037.5718034%5D%2C%20%5B55.6623585%2C%2037.6507241%5D%2C%20%5B55.7382337%2C%2037.631316%5D%2C%20%5B55.9372065%2C%2037.5183038%5D%2C%20%5B55.9755651%2C%2037.1614017%5D%2C%20%5B55.9212716%2C%2037.847711%5D%2C%20%5B55.7943994%2C%2037.6741647%5D%2C%20%5B55.7463698%2C%2037.6676868%5D%2C%20%5B55.71315%2C%2037.892119%5D%2C%20%5B55.7491853%2C%2037.7852752%5D%2C%20%5B55.8981329%2C%2037.4032099%5D%2C%20%5B55.8990141%2C%2037.4094853%5D%2C%20%5B55.6068333%2C%2037.7339552%5D%2C%20%5B55.7116921%2C%2037.8984106%5D%2C%20%5B55.7093091%2C%2037.8935504%5D%2C%20%5B55.7120351%2C%2037.8920859%5D%2C%20%5B55.7118728%2C%2037.8863813%5D%2C%20%5B55.7023407%2C%2037.5808396%5D%2C%20%5B55.8101689%2C%2037.8093785%5D%2C%20%5B55.8288889%2C%2037.6172204%5D%2C%20%5B55.7934016%2C%2037.7989992%5D%2C%20%5B55.893929%2C%2037.6144838%5D%2C%20%5B55.8946611%2C%2037.6130628%5D%2C%20%5B55.6796332%2C%2037.6630028%5D%2C%20%5B55.7500037%2C%2037.5424102%5D%2C%20%5B55.6918695%2C%2037.6222236%5D%2C%20%5B55.8604249%2C%2037.5673722%5D%2C%20%5B55.8619678%2C%2037.5678389%5D%2C%20%5B55.7789901%2C%2037.6672579%5D%2C%20%5B55.7730284%2C%2037.6562366%5D%2C%20%5B55.7499957%2C%2037.7667689%5D%2C%20%5B55.7487835%2C%2037.7635664%5D%2C%20%5B55.748428%2C%2037.7641015%5D%2C%20%5B55.7443903%2C%2037.6794051%5D%2C%20%5B55.7951131%2C%2037.7829376%5D%2C%20%5B55.7237751%2C%2037.5649292%5D%2C%20%5B55.7485845%2C%2037.543281%5D%2C%20%5B55.8053625%2C%2037.4006866%5D%2C%20%5B55.9398553%2C%2037.3648766%5D%2C%20%5B55.6210739%2C%2037.6093743%5D%2C%20%5B55.6208043%2C%2037.6091648%5D%2C%20%5B55.6207634%2C%2037.6091434%5D%2C%20%5B55.592716%2C%2037.752886%5D%2C%20%5B55.5925256%2C%2037.7539811%5D%2C%20%5B55.6444816%2C%2037.5203096%5D%2C%20%5B55.8338093%2C%2037.5940559%5D%2C%20%5B55.728497%2C%2037.76359%5D%2C%20%5B55.72811%2C%2037.6225331%5D%2C%20%5B55.8093903%2C%2037.4638835%5D%2C%20%5B55.7920354%2C%2037.6727036%5D%2C%20%5B55.6913975%2C%2037.6229286%5D%2C%20%5B55.9624588%2C%2037.404381%5D%2C%20%5B55.7892934%2C%2037.7483393%5D%2C%20%5B55.8311481%2C%2037.6181693%5D%2C%20%5B55.4272103%2C%2037.5348611%5D%2C%20%5B55.7287383%2C%2037.623602%5D%2C%20%5B55.8490584%2C%2036.8065569%5D%2C%20%5B55.7937588%2C%2037.6752058%5D%2C%20%5B55.7903755%2C%2037.6798879%5D%2C%20%5B55.7957753%2C%2037.6752342%5D%2C%20%5B55.7645995%2C%2037.5644183%5D%2C%20%5B55.8855328%2C%2037.6868545%5D%2C%20%5B55.5774471%2C%2037.5970843%5D%2C%20%5B55.6626499%2C%2037.9576898%5D%2C%20%5B55.9397217%2C%2037.3649605%5D%2C%20%5B55.7781369%2C%2037.6549258%5D%2C%20%5B55.7778917%2C%2037.6546936%5D%2C%20%5B55.7779243%2C%2037.6548627%5D%2C%20%5B55.777712%2C%2037.6550562%5D%2C%20%5B55.7781078%2C%2037.6547706%5D%2C%20%5B55.778066%2C%2037.6543078%5D%2C%20%5B55.7779129%2C%2037.6546411%5D%2C%20%5B55.7778295%2C%2037.6547197%5D%2C%20%5B55.8396208%2C%2037.4883087%5D%2C%20%5B55.1447589%2C%2037.4538944%5D%2C%20%5B55.824227%2C%2037.3165199%5D%2C%20%5B55.8450047%2C%2037.438948%5D%2C%20%5B55.7461097%2C%2037.7866407%5D%2C%20%5B55.7471897%2C%2037.758376%5D%2C%20%5B55.5900495%2C%2037.7632271%5D%2C%20%5B55.5936986%2C%2037.747576%5D%2C%20%5B55.77979%2C%2037.6288424%5D%2C%20%5B55.9803491%2C%2037.1705492%5D%2C%20%5B55.6574962%2C%2037.7424481%5D%2C%20%5B55.6623086%2C%2037.9196677%5D%2C%20%5B55.7530502%2C%2037.8731463%5D%2C%20%5B55.770555%2C%2037.8427156%5D%2C%20%5B55.7577752%2C%2037.8419109%5D%2C%20%5B55.6372788%2C%2037.7623501%5D%2C%20%5B55.6373368%2C%2037.7627517%5D%2C%20%5B55.8616945%2C%2037.4367392%5D%2C%20%5B55.6919299%2C%2037.5280504%5D%2C%20%5B55.7690243%2C%2037.597079%5D%2C%20%5B55.750541%2C%2037.7907514%5D%2C%20%5B55.3580067%2C%2037.5275937%5D%2C%20%5B55.8379308%2C%2037.634176%5D%2C%20%5B55.7281288%2C%2037.5799334%5D%2C%20%5B55.781077%2C%2037.6317994%5D%2C%20%5B55.9488323%2C%2037.3308082%5D%2C%20%5B55.9707054%2C%2037.5062762%5D%2C%20%5B55.7301044%2C%2037.7315904%5D%2C%20%5B55.729973%2C%2037.7324045%5D%2C%20%5B55.7300704%2C%2037.7324139%5D%2C%20%5B55.7301792%2C%2037.7323253%5D%2C%20%5B55.771605%2C%2037.8653836%5D%2C%20%5B55.5879642%2C%2037.6438335%5D%2C%20%5B55.9055409%2C%2037.2546788%5D%2C%20%5B55.9085748%2C%2037.2319481%5D%2C%20%5B55.9367392%2C%2037.5523258%5D%2C%20%5B55.909271%2C%2037.540771%5D%2C%20%5B55.810435%2C%2037.383103%5D%2C%20%5B55.420185%2C%2037.5479224%5D%2C%20%5B55.6192542%2C%2037.5092178%5D%2C%20%5B55.6595423%2C%2037.7493444%5D%2C%20%5B55.9198971%2C%2037.7077822%5D%2C%20%5B55.8882998%2C%2037.4335103%5D%2C%20%5B55.7438832%2C%2037.5081795%5D%2C%20%5B55.6959082%2C%2037.6650043%5D%2C%20%5B55.7717224%2C%2037.6330615%5D%2C%20%5B55.7240898%2C%2037.8251311%5D%2C%20%5B55.795628%2C%2037.5920841%5D%2C%20%5B55.617761%2C%2037.508719%5D%2C%20%5B55.5861675%2C%2037.7366162%5D%2C%20%5B55.7513957%2C%2037.9560376%5D%2C%20%5B55.962232%2C%2037.40517%5D%2C%20%5B55.6225453%2C%2037.6054428%5D%2C%20%5B55.612167%2C%2037.606559%5D%2C%20%5B55.5850432%2C%2037.7243213%5D%2C%20%5B55.8131733%2C%2037.6034963%5D%2C%20%5B55.4741407%2C%2037.751257%5D%2C%20%5B55.6797519%2C%2037.8897482%5D%2C%20%5B55.498974%2C%2037.567905%5D%2C%20%5B55.8058767%2C%2037.5151299%5D%2C%20%5B55.637111%2C%2037.598523%5D%2C%20%5B55.582014%2C%2037.91222%5D%2C%20%5B55.700735%2C%2037.854548%5D%2C%20%5B55.689331%2C%2037.602258%5D%2C%20%5B55.6537403%2C%2037.620572%5D%2C%20%5B55.6828913%2C%2037.6607794%5D%2C%20%5B55.6065084%2C%2037.5362063%5D%2C%20%5B55.897824%2C%2037.666219%5D%2C%20%5B55.4849656%2C%2037.5648114%5D%2C%20%5B55.8628727%2C%2037.6012309%5D%2C%20%5B55.612049%2C%2037.603348%5D%2C%20%5B55.777648%2C%2037.523712%5D%2C%20%5B55.603947%2C%2037.49093%5D%2C%20%5B55.5937496%2C%2037.3512652%5D%2C%20%5B55.888104%2C%2037.662452%5D%2C%20%5B55.565426%2C%2037.556411%5D%2C%20%5B55.8318171%2C%2037.9335324%5D%2C%20%5B55.662318%2C%2037.480255%5D%2C%20%5B55.8092851%2C%2037.4644154%5D%2C%20%5B55.764403%2C%2037.844851%5D%2C%20%5B55.6438585%2C%2037.5262444%5D%2C%20%5B55.654106%2C%2037.843845%5D%2C%20%5B55.9158506%2C%2037.8684266%5D%2C%20%5B55.6495934%2C%2037.7696014%5D%2C%20%5B55.863739%2C%2037.54583%5D%2C%20%5B55.153034%2C%2037.4595431%5D%2C%20%5B55.6920806%2C%2037.8968744%5D%2C%20%5B55.865922%2C%2037.126075%5D%2C%20%5B55.7995049%2C%2037.2794272%5D%2C%20%5B55.611836%2C%2037.601807%5D%2C%20%5B55.1611632%2C%2037.4675307%5D%2C%20%5B55.8913487%2C%2037.7444923%5D%2C%20%5B55.8769055%2C%2037.3308001%5D%2C%20%5B55.819402%2C%2037.38736%5D%2C%20%5B55.9624695%2C%2037.3339438%5D%2C%20%5B55.6629904%2C%2037.9103934%5D%2C%20%5B55.8918486%2C%2037.7273874%5D%2C%20%5B55.6640053%2C%2037.627106%5D%2C%20%5B55.414242%2C%2037.900093%5D%2C%20%5B55.6482733%2C%2037.662955%5D%2C%20%5B55.7153412%2C%2037.6965465%5D%2C%20%5B55.7104662%2C%2037.6750575%5D%2C%20%5B55.8337783%2C%2037.5941094%5D%2C%20%5B55.9184637%2C%2037.7933067%5D%2C%20%5B55.8350782%2C%2037.2665101%5D%2C%20%5B55.5101972%2C%2037.5633631%5D%2C%20%5B55.5107409%2C%2037.5635536%5D%2C%20%5B55.510406%2C%2037.5634557%5D%2C%20%5B55.5118181%2C%2037.5738796%5D%2C%20%5B55.9751752%2C%2037.3110652%5D%2C%20%5B55.5749046%2C%2037.6209904%5D%2C%20%5B55.7819252%2C%2037.7077255%5D%2C%20%5B55.8546619%2C%2037.4773615%5D%2C%20%5B55.6102164%2C%2037.7478172%5D%2C%20%5B55.937208%2C%2037.5206561%5D%2C%20%5B55.6787018%2C%2037.6438741%5D%2C%20%5B55.7432323%2C%2037.567234%5D%2C%20%5B55.8635142%2C%2037.4346416%5D%2C%20%5B55.9295963%2C%2037.5220648%5D%2C%20%5B55.7419821%2C%2037.5009888%5D%2C%20%5B55.784588%2C%2037.8774727%5D%2C%20%5B55.783818%2C%2037.7219068%5D%2C%20%5B55.7507584%2C%2037.9555975%5D%2C%20%5B55.6048819%2C%2037.737397%5D%2C%20%5B55.6113444%2C%2037.5377029%5D%2C%20%5B55.748788%2C%2037.5384379%5D%2C%20%5B55.6296631%2C%2037.0028932%5D%2C%20%5B55.628847%2C%2037.0216405%5D%2C%20%5B55.7569122%2C%2037.8515728%5D%2C%20%5B55.7568085%2C%2037.6327631%5D%2C%20%5B55.7140009%2C%2037.4092938%5D%2C%20%5B55.7186382%2C%2037.4209733%5D%2C%20%5B55.7261907%2C%2037.3997785%5D%2C%20%5B55.837092%2C%2037.2599213%5D%2C%20%5B55.6300376%2C%2037.5166879%5D%2C%20%5B55.7737382%2C%2037.6555245%5D%2C%20%5B55.7731308%2C%2037.6566862%5D%2C%20%5B55.7736767%2C%2037.6557112%5D%2C%20%5B55.7737228%2C%2037.6557576%5D%2C%20%5B55.7732734%2C%2037.6569457%5D%2C%20%5B55.7311325%2C%2037.7100183%5D%2C%20%5B55.8068852%2C%2037.5168977%5D%2C%20%5B55.9900331%2C%2037.2732258%5D%2C%20%5B55.6149506%2C%2036.9873109%5D%2C%20%5B55.6139682%2C%2036.9877374%5D%2C%20%5B55.6140273%2C%2036.9871634%5D%2C%20%5B55.6140652%2C%2036.9871634%5D%2C%20%5B55.6835358%2C%2037.898972%5D%2C%20%5B55.68075%2C%2037.8968589%5D%2C%20%5B55.9285004%2C%2037.5238346%5D%2C%20%5B55.7785054%2C%2037.5238384%5D%2C%20%5B55.7574099%2C%2037.6331769%5D%2C%20%5B55.7589826%2C%2037.6352482%5D%2C%20%5B55.9492236%2C%2037.2984275%5D%2C%20%5B55.8314262%2C%2037.9246653%5D%2C%20%5B55.8358653%2C%2037.9346373%5D%2C%20%5B55.8355444%2C%2037.9354313%5D%2C%20%5B55.834231%2C%2037.9248437%5D%2C%20%5B55.8333826%2C%2037.9328861%5D%2C%20%5B55.7524879%2C%2037.5973292%5D%2C%20%5B55.8271563%2C%2037.4366158%5D%2C%20%5B55.7294491%2C%2037.6372784%5D%2C%20%5B55.732914%2C%2037.7641788%5D%2C%20%5B55.6590337%2C%2037.7411339%5D%2C%20%5B55.8984802%2C%2037.5425651%5D%2C%20%5B55.6700168%2C%2037.5530556%5D%2C%20%5B55.6110243%2C%2037.6065615%5D%2C%20%5B55.7053206%2C%2037.5887477%5D%2C%20%5B55.9485443%2C%2037.4997886%5D%2C%20%5B55.9487433%2C%2037.4998851%5D%2C%20%5B55.8059293%2C%2037.5829806%5D%2C%20%5B55.7197557%2C%2037.4017156%5D%2C%20%5B55.88035%2C%2037.4898896%5D%2C%20%5B55.6184047%2C%2037.5921211%5D%2C%20%5B55.6834185%2C%2037.5720344%5D%2C%20%5B55.8391027%2C%2037.4885032%5D%2C%20%5B55.5247626%2C%2037.5180838%5D%2C%20%5B55.6870798%2C%2037.5460621%5D%2C%20%5B55.7928108%2C%2037.8194701%5D%2C%20%5B55.793289%2C%2037.8125838%5D%2C%20%5B55.6510621%2C%2037.7424588%5D%2C%20%5B55.6211819%2C%2037.7380812%5D%2C%20%5B55.7713366%2C%2037.59334%5D%2C%20%5B55.7752402%2C%2037.5838275%5D%2C%20%5B55.7764297%2C%2037.5755137%5D%2C%20%5B55.6788213%2C%2037.6628169%5D%2C%20%5B55.7903776%2C%2037.5331355%5D%2C%20%5B55.6607527%2C%2037.6027597%5D%2C%20%5B55.7269701%2C%2037.6097223%5D%2C%20%5B55.7272636%2C%2037.6099664%5D%2C%20%5B55.8639547%2C%2037.5458971%5D%2C%20%5B55.7771776%2C%2037.6558995%5D%2C%20%5B55.7468715%2C%2037.706692%5D%2C%20%5B55.7468918%2C%2037.7069071%5D%2C%20%5B55.8823022%2C%2037.4158886%5D%2C%20%5B55.791756%2C%2037.5837639%5D%2C%20%5B56.0048427%2C%2037.5411581%5D%2C%20%5B55.548528%2C%2037.7720958%5D%2C%20%5B55.72912%2C%2037.6114829%5D%2C%20%5B55.7113378%2C%2037.6530325%5D%2C%20%5B55.708905%2C%2037.6538318%5D%2C%20%5B55.7718103%2C%2037.6204786%5D%2C%20%5B55.8030479%2C%2037.5548195%5D%2C%20%5B55.8181224%2C%2037.3604025%5D%2C%20%5B55.7542304%2C%2037.7152454%5D%2C%20%5B55.7363808%2C%2037.5904901%5D%2C%20%5B55.7836514%2C%2037.7191897%5D%2C%20%5B55.7745189%2C%2037.6085264%5D%2C%20%5B55.8396313%2C%2037.4904397%5D%2C%20%5B55.8702923%2C%2037.6630279%5D%2C%20%5B55.761208%2C%2037.5761103%5D%2C%20%5B55.7573917%2C%2037.6353167%5D%2C%20%5B55.7813892%2C%2037.5829166%5D%2C%20%5B55.7853744%2C%2037.5792316%5D%2C%20%5B55.7879747%2C%2037.5839236%5D%2C%20%5B55.7913192%2C%2037.5842741%5D%2C%20%5B55.8059321%2C%2037.5854216%5D%2C%20%5B55.7804347%2C%2037.6319933%5D%2C%20%5B55.7698085%2C%2037.6607396%5D%2C%20%5B55.7473233%2C%2037.6561692%5D%2C%20%5B55.7412624%2C%2037.5259376%5D%2C%20%5B55.7661628%2C%2037.5324887%5D%2C%20%5B55.7357126%2C%2037.6230374%5D%2C%20%5B55.7096311%2C%2037.6248854%5D%2C%20%5B55.717077%2C%2037.6961999%5D%2C%20%5B55.7962182%2C%2037.7124596%5D%2C%20%5B55.7965951%2C%2037.7111131%5D%2C%20%5B55.7047324%2C%2037.7671741%5D%2C%20%5B55.6004285%2C%2037.5990775%5D%2C%20%5B55.8238044%2C%2037.2477199%5D%2C%20%5B55.8024721%2C%2037.6490106%5D%2C%20%5B55.7379987%2C%2037.7645518%5D%2C%20%5B55.743256%2C%2037.7663582%5D%2C%20%5B55.7484251%2C%2037.7760912%5D%2C%20%5B55.6553782%2C%2037.7309185%5D%2C%20%5B55.7587389%2C%2037.7517732%5D%2C%20%5B55.758685%2C%2037.7514652%5D%2C%20%5B55.7728789%2C%2037.5897657%5D%2C%20%5B55.4291925%2C%2037.5523682%5D%2C%20%5B55.8194242%2C%2037.5764488%5D%2C%20%5B55.8195048%2C%2037.5764903%5D%2C%20%5B55.7139219%2C%2037.7297964%5D%2C%20%5B55.7121664%2C%2037.7306081%5D%2C%20%5B55.7185199%2C%2037.6076085%5D%2C%20%5B55.656985%2C%2037.6050837%5D%2C%20%5B55.9272877%2C%2037.4935189%5D%2C%20%5B55.7991438%2C%2037.5364957%5D%2C%20%5B55.7997075%2C%2037.5352521%5D%2C%20%5B55.670029%2C%2037.6721952%5D%2C%20%5B55.8096111%2C%2037.493578%5D%2C%20%5B55.8079786%2C%2037.5735265%5D%2C%20%5B55.7765224%2C%2037.5817397%5D%2C%20%5B55.658981%2C%2037.5142349%5D%2C%20%5B55.7144789%2C%2037.7912779%5D%2C%20%5B55.7820546%2C%2037.6015227%5D%2C%20%5B55.8538961%2C%2037.5014938%5D%2C%20%5B55.8587813%2C%2037.4911718%5D%2C%20%5B55.8672626%2C%2037.4928711%5D%2C%20%5B55.8147285%2C%2037.3055966%5D%2C%20%5B55.7765308%2C%2037.5808208%5D%2C%20%5B55.7524766%2C%2037.6648275%5D%2C%20%5B55.7475871%2C%2037.6599567%5D%2C%20%5B55.6648682%2C%2037.6542572%5D%2C%20%5B55.6064695%2C%2037.7422993%5D%2C%20%5B55.6555783%2C%2037.7617336%5D%2C%20%5B55.8328857%2C%2037.5322695%5D%2C%20%5B55.5704046%2C%2037.564021%5D%2C%20%5B55.7349996%2C%2037.4754765%5D%2C%20%5B55.7280806%2C%2037.4774459%5D%2C%20%5B55.9624513%2C%2037.4040699%5D%2C%20%5B55.745713%2C%2037.8619415%5D%2C%20%5B55.7683083%2C%2037.6791637%5D%2C%20%5B55.8048613%2C%2037.7160749%5D%2C%20%5B55.8281676%2C%2037.4396266%5D%2C%20%5B55.8031301%2C%2037.5127113%5D%2C%20%5B55.8032504%2C%2037.5138378%5D%2C%20%5B55.9260412%2C%2037.8163554%5D%2C%20%5B55.9258924%2C%2037.8157197%5D%2C%20%5B55.6608929%2C%2037.5439033%5D%2C%20%5B55.6680536%2C%2037.5302796%5D%2C%20%5B55.6435977%2C%2037.526337%5D%2C%20%5B55.6617859%2C%2037.481512%5D%2C%20%5B55.6399485%2C%2037.5326996%5D%2C%20%5B55.4252249%2C%2037.4992096%5D%2C%20%5B55.4247878%2C%2037.4954395%5D%2C%20%5B55.7947134%2C%2037.5883189%5D%2C%20%5B55.5955152%2C%2037.1147808%5D%2C%20%5B55.9504488%2C%2037.2975836%5D%2C%20%5B55.9501101%2C%2037.2981782%5D%2C%20%5B55.8390641%2C%2037.4891344%5D%2C%20%5B55.7941775%2C%2037.5886461%5D%2C%20%5B55.8240508%2C%2037.3283981%5D%2C%20%5B55.8365163%2C%2037.2941852%5D%2C%20%5B55.6435786%2C%2037.5112097%5D%2C%20%5B55.8832433%2C%2037.6049521%5D%2C%20%5B55.7932975%2C%2037.4923897%5D%2C%20%5B55.7672431%2C%2037.6066357%5D%2C%20%5B55.807553%2C%2037.6377124%5D%2C%20%5B55.7226687%2C%2037.5618926%5D%2C%20%5B55.8398126%2C%2037.5687951%5D%2C%20%5B55.839752%2C%2037.5689304%5D%2C%20%5B55.8232168%2C%2037.5012603%5D%2C%20%5B55.8205528%2C%2037.4981886%5D%2C%20%5B55.8210629%2C%2037.5204349%5D%2C%20%5B55.8224785%2C%2037.518104%5D%2C%20%5B55.7295654%2C%2037.6383592%5D%2C%20%5B55.8268591%2C%2037.3905086%5D%2C%20%5B55.8281638%2C%2037.3906803%5D%2C%20%5B55.8276878%2C%2037.3906025%5D%2C%20%5B55.8278339%2C%2037.3906267%5D%2C%20%5B55.7422772%2C%2037.525196%5D%2C%20%5B55.8150376%2C%2037.779026%5D%2C%20%5B55.6779218%2C%2037.4962192%5D%2C%20%5B55.768208%2C%2037.8467798%5D%2C%20%5B55.9762513%2C%2037.9055719%5D%2C%20%5B55.8022302%2C%2037.5317906%5D%2C%20%5B55.6120804%2C%2037.7214115%5D%2C%20%5B55.7454032%2C%2037.8568665%5D%2C%20%5B55.7454062%2C%2037.8587923%5D%2C%20%5B55.7676232%2C%2037.7295926%5D%2C%20%5B55.7845585%2C%2037.6002001%5D%2C%20%5B55.7659334%2C%2037.6371431%5D%2C%20%5B55.3811772%2C%2037.5365948%5D%2C%20%5B55.3811398%2C%2037.5366971%5D%2C%20%5B55.6144082%2C%2037.7433987%5D%2C%20%5B55.6131668%2C%2037.7439353%5D%2C%20%5B55.627885%2C%2037.7413372%5D%2C%20%5B55.7102038%2C%2037.6748939%5D%2C%20%5B55.7101856%2C%2037.6750548%5D%2C%20%5B55.8069649%2C%2037.5833407%5D%2C%20%5B55.806934%2C%2037.5835083%5D%2C%20%5B55.7345619%2C%2037.8319842%5D%2C%20%5B55.7168816%2C%2037.6963709%5D%2C%20%5B55.7127824%2C%2037.8159633%5D%2C%20%5B55.7206584%2C%2037.774082%5D%2C%20%5B55.8916006%2C%2037.6224489%5D%2C%20%5B55.5960316%2C%2037.1145972%5D%2C%20%5B55.6232895%2C%2037.7423515%5D%2C%20%5B55.7509324%2C%2037.7155329%5D%2C%20%5B55.7533951%2C%2037.8577585%5D%2C%20%5B55.6080092%2C%2037.7559716%5D%2C%20%5B55.6494905%2C%2037.6061325%5D%2C%20%5B55.4155427%2C%2037.9023318%5D%2C%20%5B55.4148573%2C%2037.9007274%5D%2C%20%5B55.4135429%2C%2037.8991384%5D%2C%20%5B55.7520023%2C%2037.8164182%5D%2C%20%5B55.7771464%2C%2037.6571305%5D%2C%20%5B55.7770675%2C%2037.6566083%5D%2C%20%5B55.7770775%2C%2037.65625%5D%2C%20%5B55.7770082%2C%2037.656345%5D%2C%20%5B55.6145409%2C%2037.7469824%5D%2C%20%5B55.7206743%2C%2037.7744768%5D%2C%20%5B55.7197409%2C%2037.8196802%5D%2C%20%5B55.8039496%2C%2037.8409501%5D%2C%20%5B55.607235%2C%2037.7338287%5D%2C%20%5B55.5291224%2C%2037.8146115%5D%2C%20%5B55.8943044%2C%2037.4511405%5D%2C%20%5B55.8069912%2C%2037.3300906%5D%2C%20%5B55.6567815%2C%2037.607039%5D%2C%20%5B55.7965928%2C%2037.8194077%5D%2C%20%5B55.6490297%2C%2037.9077271%5D%2C%20%5B55.9209608%2C%2037.3997172%5D%2C%20%5B55.8999126%2C%2037.4456989%5D%2C%20%5B55.6562602%2C%2037.6479083%5D%2C%20%5B55.895262%2C%2037.4520859%5D%2C%20%5B55.7752145%2C%2037.6571762%5D%2C%20%5B55.6919703%2C%2037.7751076%5D%2C%20%5B55.6904825%2C%2037.7875655%5D%2C%20%5B55.6904117%2C%2037.7868923%5D%2C%20%5B55.7335399%2C%2037.7092948%5D%2C%20%5B55.5747201%2C%2037.5802109%5D%2C%20%5B55.8919779%2C%2037.7140214%5D%2C%20%5B55.7556158%2C%2037.6213342%5D%2C%20%5B55.7556116%2C%2037.6212631%5D%2C%20%5B55.8091341%2C%2037.7048286%5D%2C%20%5B55.8111218%2C%2037.7976671%5D%2C%20%5B55.9121482%2C%2037.4039841%5D%2C%20%5B55.7588634%2C%2037.709021%5D%2C%20%5B55.5333694%2C%2037.4496198%5D%2C%20%5B55.6172091%2C%2037.752473%5D%2C%20%5B55.815543%2C%2037.3415717%5D%2C%20%5B55.6892071%2C%2037.5755302%5D%2C%20%5B55.9173807%2C%2037.421165%5D%2C%20%5B55.7273261%2C%2037.5796124%5D%2C%20%5B55.7272913%2C%2037.5795561%5D%2C%20%5B55.726015%2C%2037.5777832%5D%2C%20%5B55.8945165%2C%2037.4523147%5D%2C%20%5B55.8946535%2C%2037.4519903%5D%2C%20%5B55.7778706%2C%2037.6545069%5D%2C%20%5B55.8921959%2C%2037.4402353%5D%2C%20%5B55.640334%2C%2037.6063531%5D%2C%20%5B55.7679327%2C%2037.8641572%5D%2C%20%5B55.7897727%2C%2037.687688%5D%2C%20%5B55.8950778%2C%2037.4531148%5D%2C%20%5B55.7019865%2C%2037.931398%5D%2C%20%5B55.7017779%2C%2037.9315536%5D%2C%20%5B55.8885847%2C%2037.4296128%5D%2C%20%5B55.888678%2C%2037.4297791%5D%2C%20%5B55.8992008%2C%2037.452269%5D%2C%20%5B55.9046315%2C%2037.4315663%5D%2C%20%5B55.7425959%2C%2037.658624%5D%2C%20%5B55.7715531%2C%2037.6821144%5D%2C%20%5B55.7714007%2C%2037.6820648%5D%2C%20%5B55.7713554%2C%2037.6811763%5D%2C%20%5B55.7344163%2C%2037.6191717%5D%2C%20%5B55.8269209%2C%2037.4504533%5D%2C%20%5B55.9056978%2C%2037.4289637%5D%2C%20%5B55.5048635%2C%2037.5789732%5D%2C%20%5B55.7670985%2C%2037.8487855%5D%2C%20%5B55.7570084%2C%2037.7509004%5D%2C%20%5B55.8952403%2C%2037.4574206%5D%2C%20%5B55.7446931%2C%2037.5672025%5D%2C%20%5B55.6311912%2C%2037.6589355%5D%2C%20%5B55.850642%2C%2037.5970894%5D%2C%20%5B55.850526%2C%2037.5974833%5D%2C%20%5B55.8506884%2C%2037.597307%5D%2C%20%5B55.5888659%2C%2037.6135997%5D%2C%20%5B55.7411412%2C%2037.5312603%5D%2C%20%5B55.8119431%2C%2037.9537197%5D%2C%20%5B55.6842621%2C%2037.6858597%5D%2C%20%5B55.734027%2C%2037.7028511%5D%2C%20%5B55.7319168%2C%2037.7153751%5D%2C%20%5B55.7309089%2C%2037.7205212%5D%2C%20%5B55.6192134%2C%2037.5064635%5D%2C%20%5B55.7504361%2C%2037.7806373%5D%2C%20%5B55.788657%2C%2037.7493206%5D%2C%20%5B55.6307402%2C%2037.514632%5D%2C%20%5B55.6407252%2C%2037.5318922%5D%2C%20%5B55.6306885%2C%2037.5155827%5D%2C%20%5B55.8052622%2C%2037.5845558%5D%2C%20%5B55.7883648%2C%2037.750393%5D%2C%20%5B55.880755%2C%2037.6936%5D%2C%20%5B55.82558%2C%2037.5169355%5D%2C%20%5B55.7554961%2C%2037.5531578%5D%2C%20%5B55.7552614%2C%2037.5524752%5D%2C%20%5B55.7551822%2C%2037.5522324%5D%2C%20%5B55.7545935%2C%2037.5501819%5D%2C%20%5B55.7412377%2C%2037.5319496%5D%2C%20%5B55.7706385%2C%2037.8328567%5D%2C%20%5B55.7706845%2C%2037.8325528%5D%2C%20%5B55.7820965%2C%2037.8347061%5D%2C%20%5B55.728865%2C%2037.6236355%5D%2C%20%5B55.780095%2C%2037.5456683%5D%2C%20%5B55.7289555%2C%2037.9615251%5D%2C%20%5B55.8195013%2C%2037.3203902%5D%2C%20%5B55.8276617%2C%2037.901804%5D%2C%20%5B55.7702057%2C%2037.6039374%5D%2C%20%5B55.7439357%2C%2037.6281129%5D%2C%20%5B55.8274904%2C%2037.443371%5D%2C%20%5B55.7608624%2C%2037.7308257%5D%2C%20%5B55.7555791%2C%2037.6213036%5D%2C%20%5B55.4449101%2C%2037.6185527%5D%2C%20%5B55.704625%2C%2037.6540042%5D%2C%20%5B55.7540961%2C%2037.8621748%5D%2C%20%5B55.622108%2C%2037.7135646%5D%2C%20%5B55.7668078%2C%2037.6344851%5D%2C%20%5B55.6115859%2C%2037.6017724%5D%2C%20%5B55.7401518%2C%2037.6358168%5D%2C%20%5B55.905264%2C%2036.8974811%5D%2C%20%5B55.8024804%2C%2037.7998188%5D%2C%20%5B55.7986984%2C%2037.6950177%5D%2C%20%5B55.7406593%2C%2037.6293189%5D%2C%20%5B55.8951301%2C%2037.4491861%5D%2C%20%5B55.9397736%2C%2037.5037659%5D%2C%20%5B55.6998048%2C%2037.574941%5D%2C%20%5B55.8034254%2C%2037.534386%5D%2C%20%5B55.6985839%2C%2037.5753587%5D%2C%20%5B55.7080317%2C%2037.6832329%5D%2C%20%5B55.440466%2C%2037.7630407%5D%2C%20%5B55.8074555%2C%2037.6258108%5D%2C%20%5B55.5673834%2C%2037.6910759%5D%2C%20%5B55.6219263%2C%2037.7135056%5D%2C%20%5B55.5952266%2C%2037.7387295%5D%2C%20%5B55.7029746%2C%2037.5830143%5D%2C%20%5B55.7949%2C%2037.7108246%5D%2C%20%5B55.7271554%2C%2037.6224299%5D%2C%20%5B55.6918736%2C%2037.5277036%5D%2C%20%5B55.6919494%2C%2037.5278452%5D%2C%20%5B55.6919847%2C%2037.527911%5D%2C%20%5B55.6920657%2C%2037.5280623%5D%2C%20%5B55.6922418%2C%2037.5283911%5D%2C%20%5B55.8046819%2C%2037.3251888%5D%2C%20%5B55.8156869%2C%2037.3423793%5D%2C%20%5B55.7660073%2C%2037.6077501%5D%2C%20%5B55.7755767%2C%2037.7225351%5D%2C%20%5B55.7279226%2C%2037.5966928%5D%2C%20%5B55.7317201%2C%2037.5103032%5D%2C%20%5B55.8176778%2C%2037.4971863%5D%2C%20%5B55.8170244%2C%2037.4983469%5D%2C%20%5B55.7251509%2C%2037.6491602%5D%2C%20%5B55.9633954%2C%2037.4066914%5D%2C%20%5B55.8935897%2C%2037.4561235%5D%2C%20%5B55.8937311%2C%2037.4519419%5D%2C%20%5B55.8045417%2C%2037.5846557%5D%2C%20%5B55.7395229%2C%2037.6649006%5D%2C%20%5B55.908925%2C%2037.4076426%5D%2C%20%5B55.6048389%2C%2037.7138879%5D%2C%20%5B55.386237%2C%2037.5460178%5D%2C%20%5B55.820154%2C%2037.3150175%5D%2C%20%5B56.0118238%2C%2037.4746853%5D%2C%20%5B56.0097023%2C%2037.4759249%5D%2C%20%5B55.7964907%2C%2037.7135797%5D%2C%20%5B55.6297602%2C%2037.7637631%5D%2C%20%5B55.6223839%2C%2037.746225%5D%2C%20%5B55.6134647%2C%2037.7298405%5D%2C%20%5B55.7590366%2C%2037.6423419%5D%2C%20%5B55.8389228%2C%2037.4882304%5D%2C%20%5B55.8527167%2C%2037.4776945%5D%2C%20%5B55.7646221%2C%2037.6031327%5D%2C%20%5B55.8641526%2C%2037.1856134%5D%2C%20%5B55.829781%2C%2037.9154882%5D%2C%20%5B55.8171962%2C%2037.3155852%5D%2C%20%5B55.8429808%2C%2037.3632346%5D%2C%20%5B55.6812854%2C%2037.2655292%5D%2C%20%5B55.6815329%2C%2037.2636487%5D%2C%20%5B55.8098196%2C%2037.8000306%5D%2C%20%5B55.8177624%2C%2037.851127%5D%2C%20%5B55.707633%2C%2037.8098938%5D%2C%20%5B55.7413887%2C%2037.5242168%5D%2C%20%5B55.795821%2C%2037.7985801%5D%2C%20%5B55.7386183%2C%2037.5260266%5D%2C%20%5B55.8493801%2C%2037.6594023%5D%2C%20%5B55.6056404%2C%2037.0193314%5D%2C%20%5B55.897886%2C%2037.5882215%5D%2C%20%5B55.7658248%2C%2037.6602959%5D%2C%20%5B55.7658625%2C%2037.6604288%5D%2C%20%5B55.7519706%2C%2037.8599379%5D%2C%20%5B55.7372273%2C%2037.588279%5D%2C%20%5B55.823069%2C%2037.5006236%5D%2C%20%5B55.816165%2C%2037.6430011%5D%2C%20%5B55.8240831%2C%2037.3265729%5D%2C%20%5B55.7642138%2C%2037.5773172%5D%2C%20%5B55.7555944%2C%2037.6213426%5D%2C%20%5B55.8370832%2C%2037.3830157%5D%2C%20%5B55.8420169%2C%2037.3726076%5D%2C%20%5B55.696956%2C%2037.8034723%5D%2C%20%5B55.4202978%2C%2037.4943691%5D%2C%20%5B55.4184519%2C%2037.4884401%5D%2C%20%5B55.7512547%2C%2037.6553607%5D%2C%20%5B55.8028447%2C%2037.8261728%5D%2C%20%5B55.6423762%2C%2037.0998699%5D%2C%20%5B55.7590562%2C%2037.6445085%5D%2C%20%5B55.7885273%2C%2037.7438917%5D%2C%20%5B55.7961637%2C%2037.7990478%5D%2C%20%5B55.9804556%2C%2037.4167246%5D%2C%20%5B55.7434394%2C%2037.4807953%5D%2C%20%5B55.632949%2C%2037.5214606%5D%2C%20%5B55.9459587%2C%2037.5064115%5D%2C%20%5B55.8180994%2C%2037.9670871%5D%2C%20%5B55.6148564%2C%2037.7126999%5D%2C%20%5B55.8063804%2C%2037.5055658%5D%2C%20%5B55.6970466%2C%2037.887411%5D%2C%20%5B55.7995701%2C%2037.9403635%5D%2C%20%5B55.9296837%2C%2037.52213%5D%2C%20%5B55.725659%2C%2037.6674857%5D%2C%20%5B55.7411977%2C%2037.4159655%5D%2C%20%5B55.5430656%2C%2037.7104088%5D%2C%20%5B55.8240101%2C%2037.3287937%5D%2C%20%5B55.4226664%2C%2037.7664068%5D%2C%20%5B55.7555299%2C%2037.6148248%5D%2C%20%5B55.819602%2C%2037.3208866%5D%2C%20%5B55.417577%2C%2037.4884965%5D%2C%20%5B55.7576695%2C%2037.6527301%5D%2C%20%5B55.7429954%2C%2037.4811884%5D%2C%20%5B55.8045049%2C%2037.7143211%5D%2C%20%5B55.7597122%2C%2037.6451754%5D%2C%20%5B55.899599%2C%2037.2692581%5D%2C%20%5B55.8990546%2C%2037.2721803%5D%2C%20%5B55.8985351%2C%2037.2757772%5D%2C%20%5B55.8984366%2C%2037.2767884%5D%2C%20%5B55.7493864%2C%2037.7181856%5D%2C%20%5B55.8012159%2C%2037.9405571%5D%2C%20%5B55.8205531%2C%2037.7975208%5D%2C%20%5B55.6775798%2C%2037.8554857%5D%2C%20%5B55.6591138%2C%2037.7555489%5D%2C%20%5B55.7401083%2C%2037.5261439%5D%2C%20%5B55.536174%2C%2037.5154613%5D%2C%20%5B55.8255507%2C%2037.4355174%5D%2C%20%5B55.8702591%2C%2037.6631995%5D%2C%20%5B55.730257%2C%2037.6266839%5D%2C%20%5B55.7302479%2C%2037.626594%5D%2C%20%5B55.7784282%2C%2037.8537714%5D%2C%20%5B55.7525679%2C%2037.6646116%5D%2C%20%5B55.4199089%2C%2037.4802598%5D%2C%20%5B55.4346816%2C%2037.5599891%5D%2C%20%5B55.3741828%2C%2037.5392277%5D%2C%20%5B55.8198306%2C%2037.8273527%5D%2C%20%5B55.7606076%2C%2037.6518457%5D%2C%20%5B55.7611656%2C%2037.5866586%5D%2C%20%5B55.7302634%2C%2036.8556921%5D%2C%20%5B55.914479%2C%2037.807225%5D%2C%20%5B55.9218687%2C%2037.843743%5D%2C%20%5B55.8999441%2C%2037.4203777%5D%2C%20%5B55.7913877%2C%2037.5842534%5D%2C%20%5B55.921148%2C%2037.71936%5D%2C%20%5B55.923887%2C%2037.822092%5D%2C%20%5B55.7467893%2C%2037.6291394%5D%2C%20%5B55.784207%2C%2037.55955%5D%2C%20%5B55.797235%2C%2037.717169%5D%2C%20%5B55.670021%2C%2037.55248%5D%2C%20%5B55.6496494%2C%2037.7700323%5D%2C%20%5B55.789952%2C%2037.678541%5D%2C%20%5B55.777097%2C%2037.5238564%5D%2C%20%5B55.648819%2C%2037.744962%5D%2C%20%5B55.685107%2C%2037.736375%5D%2C%20%5B55.707431%2C%2037.730302%5D%2C%20%5B55.7939%2C%2037.590273%5D%2C%20%5B55.778715%2C%2037.665309%5D%2C%20%5B55.743649%2C%2037.5080538%5D%2C%20%5B55.711356%2C%2037.683527%5D%2C%20%5B55.707618%2C%2037.688467%5D%2C%20%5B55.7131628%2C%2037.6889998%5D%2C%20%5B55.6830447%2C%2037.6809381%5D%2C%20%5B55.7217317%2C%2037.6271881%5D%2C%20%5B55.8571327%2C%2037.559115%5D%2C%20%5B55.8770215%2C%2037.3274185%5D%2C%20%5B55.8479058%2C%2037.572746%5D%2C%20%5B55.7121327%2C%2037.6211156%5D%2C%20%5B55.7790494%2C%2037.8975425%5D%2C%20%5B55.8465858%2C%2037.5688127%5D%2C%20%5B55.7516918%2C%2037.9550734%5D%2C%20%5B55.7512985%2C%2037.954695%5D%2C%20%5B55.8077314%2C%2037.5801569%5D%2C%20%5B55.7629931%2C%2037.6355653%5D%2C%20%5B55.7630195%2C%2037.6356243%5D%2C%20%5B55.6257976%2C%2037.1823127%5D%2C%20%5B55.7069973%2C%2037.5601124%5D%2C%20%5B55.4204856%2C%2037.509044%5D%2C%20%5B55.7583168%2C%2037.6604149%5D%2C%20%5B55.6369454%2C%2037.652754%5D%2C%20%5B55.7586196%2C%2037.6588087%5D%2C%20%5B55.7769725%2C%2037.6548122%5D%2C%20%5B55.7566358%2C%2037.6613219%5D%2C%20%5B55.7299481%2C%2037.6394606%5D%2C%20%5B55.6909468%2C%2037.9105531%5D%2C%20%5B55.7373247%2C%2037.6688924%5D%2C%20%5B55.7380517%2C%2037.6685545%5D%2C%20%5B55.7378147%2C%2037.6673689%5D%2C%20%5B55.7798376%2C%2037.6934161%5D%2C%20%5B55.673732%2C%2037.7603761%5D%2C%20%5B55.7543604%2C%2037.7525846%5D%2C%20%5B55.7544765%2C%2037.7525123%5D%2C%20%5B55.7546985%2C%2037.7523674%5D%2C%20%5B55.7538697%2C%2037.7529093%5D%2C%20%5B55.723727%2C%2037.6350764%5D%2C%20%5B55.8507545%2C%2037.4312071%5D%2C%20%5B55.8586684%2C%2037.4484538%5D%2C%20%5B55.6559172%2C%2037.648902%5D%2C%20%5B55.7395557%2C%2037.6685947%5D%2C%20%5B55.8093278%2C%2037.4638068%5D%2C%20%5B55.7399849%2C%2037.6328627%5D%2C%20%5B55.9279582%2C%2037.5424088%5D%2C%20%5B55.7351328%2C%2037.4762481%5D%2C%20%5B55.1489606%2C%2037.4896166%5D%2C%20%5B55.4403229%2C%2037.7721984%5D%2C%20%5B55.4407504%2C%2037.7644071%5D%2C%20%5B55.7376309%2C%2037.5949933%5D%2C%20%5B55.7734354%2C%2037.5442241%5D%2C%20%5B55.7734905%2C%2037.5444264%5D%2C%20%5B55.6174037%2C%2037.6807374%5D%2C%20%5B55.6166088%2C%2037.6862346%5D%2C%20%5B55.8220839%2C%2037.8229221%5D%2C%20%5B55.7808232%2C%2037.4367932%5D%2C%20%5B55.9458378%2C%2037.5064188%5D%2C%20%5B55.876982%2C%2037.3309322%5D%2C%20%5B55.765218%2C%2037.6387022%5D%2C%20%5B55.4715753%2C%2037.7507919%5D%2C%20%5B55.9171089%2C%2037.8253904%5D%2C%20%5B55.751148%2C%2037.655239%5D%2C%20%5B55.524426%2C%2037.51777%5D%2C%20%5B55.741784%2C%2037.655894%5D%2C%20%5B55.693546%2C%2037.625109%5D%2C%20%5B55.843578%2C%2037.3549242%5D%2C%20%5B55.8653348%2C%2037.5436912%5D%2C%20%5B55.9432235%2C%2037.3621362%5D%2C%20%5B55.8165472%2C%2037.6208107%5D%2C%20%5B55.6010337%2C%2037.7964817%5D%2C%20%5B55.9530699%2C%2037.3473157%5D%2C%20%5B55.7186901%2C%2037.6768033%5D%2C%20%5B55.7592238%2C%2037.6457577%5D%2C%20%5B55.7349183%2C%2037.6062012%5D%2C%20%5B55.7368784%2C%2037.6188451%5D%2C%20%5B55.6838864%2C%2037.5502089%5D%2C%20%5B55.6839558%2C%2037.5501564%5D%2C%20%5B55.6838612%2C%2037.5502577%5D%2C%20%5B55.6837846%2C%2037.5503537%5D%2C%20%5B55.6841555%2C%2037.550348%5D%2C%20%5B55.6842774%2C%2037.5505431%5D%2C%20%5B55.6840434%2C%2037.5501607%5D%2C%20%5B55.6841818%2C%2037.5504007%5D%2C%20%5B55.6841238%2C%2037.5502963%5D%2C%20%5B55.6842302%2C%2037.5504801%5D%2C%20%5B55.7399722%2C%2037.5261872%5D%2C%20%5B55.7820335%2C%2037.706489%5D%2C%20%5B55.7373043%2C%2037.5145809%5D%2C%20%5B55.6168134%2C%2037.7278865%5D%2C%20%5B55.6257972%2C%2037.7218158%5D%2C%20%5B55.9598509%2C%2037.3371193%5D%2C%20%5B55.7674198%2C%2037.6650081%5D%2C%20%5B55.804722%2C%2037.5132415%5D%2C%20%5B55.7712065%2C%2037.5975628%5D%2C%20%5B55.6098255%2C%2037.7163836%5D%2C%20%5B55.6195666%2C%2037.7526109%5D%2C%20%5B55.5247392%2C%2037.5173071%5D%2C%20%5B55.943949%2C%2037.3055032%5D%2C%20%5B55.944297%2C%2037.3057799%5D%2C%20%5B55.7829197%2C%2037.7059351%5D%2C%20%5B55.7829272%2C%2037.7059941%5D%2C%20%5B55.7828133%2C%2037.7058721%5D%2C%20%5B55.7757448%2C%2037.5845839%5D%2C%20%5B55.6104578%2C%2037.7397254%5D%2C%20%5B55.8465435%2C%2037.3641695%5D%2C%20%5B55.7855641%2C%2037.6066923%5D%2C%20%5B55.8294931%2C%2037.1453539%5D%2C%20%5B55.6283851%2C%2037.0023581%5D%2C%20%5B55.5870042%2C%2037.7348614%5D%2C%20%5B55.7907082%2C%2037.5596729%5D%2C%20%5B55.7565605%2C%2037.6612022%5D%2C%20%5B55.7566969%2C%2037.661301%5D%2C%20%5B55.7567747%2C%2037.66126%5D%2C%20%5B55.7566666%2C%2037.6613129%5D%2C%20%5B55.7567351%2C%2037.6612809%5D%2C%20%5B55.7566295%2C%2037.6608146%5D%2C%20%5B55.7360021%2C%2037.5952301%5D%2C%20%5B55.419028%2C%2037.8962667%5D%2C%20%5B55.8036219%2C%2037.7444138%5D%2C%20%5B55.8026812%2C%2037.7441643%5D%2C%20%5B55.7882808%2C%2037.7438877%5D%2C%20%5B55.770274%2C%2037.6415334%5D%2C%20%5B55.7514052%2C%2037.9559451%5D%2C%20%5B55.7514185%2C%2037.9558432%5D%2C%20%5B55.4121127%2C%2037.9001201%5D%2C%20%5B55.4120404%2C%2037.8999919%5D%2C%20%5B55.4119251%2C%2037.9004441%5D%2C%20%5B55.4119634%2C%2037.9004067%5D%2C%20%5B55.4121911%2C%2037.8999361%5D%2C%20%5B55.4123102%2C%2037.900315%5D%2C%20%5B55.4128406%2C%2037.8994099%5D%2C%20%5B55.4132315%2C%2037.899523%5D%2C%20%5B55.8461567%2C%2037.3587071%5D%2C%20%5B55.8462915%2C%2037.3585966%5D%2C%20%5B55.8463831%2C%2037.3584351%5D%2C%20%5B55.7568847%2C%2037.566023%5D%2C%20%5B55.7567492%2C%2037.5663226%5D%2C%20%5B55.7421166%2C%2037.6534335%5D%2C%20%5B55.8238078%2C%2037.6029584%5D%2C%20%5B55.6860826%2C%2037.853539%5D%2C%20%5B55.6857651%2C%2037.8542096%5D%2C%20%5B55.6858286%2C%2037.8537804%5D%2C%20%5B55.8403257%2C%2037.16755%5D%2C%20%5B55.8449038%2C%2037.2008644%5D%2C%20%5B55.7401068%2C%2037.6538533%5D%2C%20%5B55.7148812%2C%2037.7379059%5D%2C%20%5B55.9036086%2C%2036.8591845%5D%2C%20%5B55.7184708%2C%2037.6079351%5D%2C%20%5B55.6907157%2C%2037.7274045%5D%2C%20%5B55.7309636%2C%2037.6065279%5D%2C%20%5B55.8792156%2C%2037.4802862%5D%2C%20%5B55.8080031%2C%2037.6362809%5D%2C%20%5B55.6975225%2C%2037.5005788%5D%2C%20%5B55.8765057%2C%2037.4242801%5D%2C%20%5B55.7673655%2C%2037.6596403%5D%2C%20%5B55.7660994%2C%2037.6605213%5D%2C%20%5B55.7567029%2C%2037.6055018%5D%2C%20%5B55.6596093%2C%2037.199594%5D%2C%20%5B55.7600368%2C%2037.6315594%5D%2C%20%5B55.7606344%2C%2037.6319396%5D%2C%20%5B55.7716594%2C%2037.5937494%5D%2C%20%5B55.812874%2C%2037.1096948%5D%2C%20%5B55.8142198%2C%2037.0871039%5D%2C%20%5B55.8148807%2C%2037.0873292%5D%2C%20%5B55.7726995%2C%2037.6184137%5D%2C%20%5B55.7718352%2C%2037.6205034%5D%2C%20%5B55.658327%2C%2037.921234%5D%2C%20%5B55.6392822%2C%2037.6936296%5D%2C%20%5B55.7204855%2C%2037.6004921%5D%2C%20%5B55.8297231%2C%2037.411847%5D%2C%20%5B55.7753813%2C%2037.5840556%5D%2C%20%5B55.7361143%2C%2037.5913893%5D%2C%20%5B55.8278279%2C%2037.4352734%5D%2C%20%5B55.8260004%2C%2037.436011%5D%2C%20%5B55.7576447%2C%2037.6229515%5D%2C%20%5B55.6731192%2C%2037.7496291%5D%2C%20%5B55.6730112%2C%2037.7481436%5D%2C%20%5B55.759457%2C%2037.6507848%5D%2C%20%5B55.7671878%2C%2037.6066289%5D%2C%20%5B55.757013%2C%2037.6571202%5D%2C%20%5B55.4190129%2C%2037.5463986%5D%2C%20%5B55.7277113%2C%2037.6452112%5D%2C%20%5B55.6122291%2C%2037.6068932%5D%2C%20%5B55.57863%2C%2037.665336%5D%2C%20%5B55.3933394%2C%2037.6021832%5D%2C%20%5B55.7605318%2C%2037.614807%5D%2C%20%5B55.7599845%2C%2037.6139445%5D%2C%20%5B55.8326613%2C%2037.2787638%5D%2C%20%5B55.414954%2C%2037.9001965%5D%2C%20%5B55.414582%2C%2037.8992476%5D%2C%20%5B55.7658404%2C%2037.6086676%5D%2C%20%5B55.6965389%2C%2037.4951698%5D%2C%20%5B55.6965336%2C%2037.4951752%5D%2C%20%5B55.4229628%2C%2037.4986486%5D%2C%20%5B55.8390854%2C%2037.3784669%5D%2C%20%5B55.9570462%2C%2037.5350985%5D%2C%20%5B55.946151%2C%2037.5408854%5D%2C%20%5B55.8951323%2C%2037.4272187%5D%2C%20%5B55.737607%2C%2037.5210102%5D%2C%20%5B55.7410837%2C%2037.5255344%5D%2C%20%5B55.8106743%2C%2037.0062192%5D%2C%20%5B55.8919638%2C%2037.5733414%5D%2C%20%5B55.9166233%2C%2037.7594917%5D%2C%20%5B55.7762573%2C%2037.6557358%5D%2C%20%5B55.5406139%2C%2037.0848923%5D%2C%20%5B55.7796181%2C%2037.6655663%5D%2C%20%5B55.8484817%2C%2037.5907758%5D%2C%20%5B55.6931613%2C%2037.496769%5D%2C%20%5B55.6957378%2C%2037.4983469%5D%2C%20%5B55.8628589%2C%2037.1210995%5D%2C%20%5B55.8531191%2C%2037.6811126%5D%2C%20%5B55.4180995%2C%2037.8896463%5D%2C%20%5B55.8746618%2C%2037.3342124%5D%2C%20%5B55.7758112%2C%2037.5552258%5D%2C%20%5B55.7915709%2C%2037.7749308%5D%2C%20%5B55.43207%2C%2037.5533335%5D%2C%20%5B55.6745956%2C%2037.6127826%5D%2C%20%5B55.4513647%2C%2037.8596002%5D%2C%20%5B55.7585706%2C%2037.7500534%5D%2C%20%5B55.8020174%2C%2037.5325088%5D%2C%20%5B55.6725632%2C%2037.8616127%5D%2C%20%5B55.672253%2C%2037.8622136%5D%2C%20%5B55.6727684%2C%2037.8610383%5D%2C%20%5B55.6730927%2C%2037.8603198%5D%2C%20%5B55.7629364%2C%2037.6357277%5D%2C%20%5B55.8325276%2C%2037.4496675%5D%2C%20%5B55.7253368%2C%2037.7611309%5D%2C%20%5B55.8365522%2C%2037.6654418%5D%2C%20%5B55.8215774%2C%2037.7309709%5D%2C%20%5B55.81408%2C%2037.7992994%5D%2C%20%5B55.8162096%2C%2037.7993479%5D%2C%20%5B55.8299197%2C%2037.6343642%5D%2C%20%5B55.8280802%2C%2037.6360703%5D%2C%20%5B55.7889033%2C%2037.7938592%5D%2C%20%5B55.8084933%2C%2037.5282468%5D%2C%20%5B55.7801549%2C%2037.6336697%5D%2C%20%5B55.8032692%2C%2037.5181151%5D%2C%20%5B55.7842394%2C%2037.6611674%5D%2C%20%5B55.7439086%2C%2037.563758%5D%2C%20%5B55.7917767%2C%2037.5412747%5D%2C%20%5B55.750484%2C%2037.7138328%5D%2C%20%5B55.7323691%2C%2037.6211478%5D%2C%20%5B55.7319825%2C%2037.6206556%5D%2C%20%5B55.8588371%2C%2037.5464889%5D%2C%20%5B55.742757%2C%2037.653202%5D%2C%20%5B55.872755%2C%2037.316611%5D%2C%20%5B55.5960253%2C%2037.7409356%5D%2C%20%5B55.7926819%2C%2037.5900162%5D%2C%20%5B55.7332473%2C%2037.6192823%5D%2C%20%5B55.7975916%2C%2037.6150383%5D%2C%20%5B55.7713324%2C%2037.8465666%5D%2C%20%5B55.7882383%2C%2037.6134182%5D%2C%20%5B55.7176528%2C%2037.7941623%5D%2C%20%5B55.6382887%2C%2037.696152%5D%2C%20%5B55.793904%2C%2037.6773195%5D%2C%20%5B55.7938995%2C%2037.6766676%5D%2C%20%5B55.7944252%2C%2037.6729418%5D%2C%20%5B55.7695145%2C%2037.6226554%5D%2C%20%5B55.8083192%2C%2037.8290293%5D%2C%20%5B55.7628332%2C%2037.5513352%5D%2C%20%5B55.6903675%2C%2037.6013384%5D%2C%20%5B55.9653331%2C%2037.1634245%5D%2C%20%5B55.8589332%2C%2037.4685019%5D%2C%20%5B55.7544177%2C%2037.71541%5D%2C%20%5B55.7400329%2C%2037.7451069%5D%2C%20%5B55.7681417%2C%2037.5888386%5D%2C%20%5B55.7678335%2C%2037.5882445%5D%2C%20%5B55.7766894%2C%2037.6493523%5D%2C%20%5B55.8089294%2C%2037.7992611%5D%2C%20%5B55.7038389%2C%2037.7737905%5D%2C%20%5B55.7881885%2C%2037.7793718%5D%2C%20%5B55.7881725%2C%2037.7793911%5D%2C%20%5B55.4657485%2C%2037.2896388%5D%2C%20%5B55.827346%2C%2037.6175219%5D%2C%20%5B55.7471682%2C%2037.6314045%5D%2C%20%5B55.7477056%2C%2037.6336724%5D%2C%20%5B55.7522795%2C%2037.8573192%5D%2C%20%5B55.7124088%2C%2037.7520039%5D%2C%20%5B55.7148293%2C%2037.7502767%5D%2C%20%5B55.4879893%2C%2037.2979944%5D%2C%20%5B55.8744622%2C%2037.6381241%5D%2C%20%5B55.8089591%2C%2037.8177711%5D%2C%20%5B55.6126632%2C%2037.6956507%5D%2C%20%5B55.7762162%2C%2037.6553513%5D%2C%20%5B55.6923314%2C%2037.5617218%5D%2C%20%5B55.8779551%2C%2037.5566484%5D%2C%20%5B55.4925598%2C%2037.3208687%5D%2C%20%5B55.7262338%2C%2037.6517454%5D%2C%20%5B55.98367%2C%2037.173697%5D%2C%20%5B55.7365726%2C%2037.5244394%5D%2C%20%5B55.6030918%2C%2037.283054%5D%2C%20%5B55.7175553%2C%2037.7937976%5D%2C%20%5B55.7197783%2C%2037.6701298%5D%2C%20%5B55.6175077%2C%2037.5068253%5D%2C%20%5B55.5368638%2C%2037.5818899%5D%2C%20%5B55.7175731%2C%2037.793166%5D%2C%20%5B55.7532096%2C%2037.8802537%5D%2C%20%5B55.7531802%2C%2037.8801236%5D%2C%20%5B55.6224389%2C%2037.2705957%5D%2C%20%5B55.4150908%2C%2037.9017518%5D%2C%20%5B55.4151391%2C%2037.9018667%5D%2C%20%5B55.9183449%2C%2037.4127639%5D%2C%20%5B55.9144686%2C%2037.4140516%5D%2C%20%5B55.6260735%2C%2037.4399284%5D%2C%20%5B55.6225351%2C%2037.4225189%5D%2C%20%5B55.756685%2C%2037.8501808%5D%2C%20%5B55.7347324%2C%2037.7526522%5D%2C%20%5B55.736234%2C%2037.7528763%5D%2C%20%5B55.8232473%2C%2037.4969131%5D%2C%20%5B55.7774796%2C%2037.5873291%5D%2C%20%5B55.7179663%2C%2037.7933081%5D%2C%20%5B55.8354961%2C%2037.3609547%5D%2C%20%5B55.7503371%2C%2037.5939362%5D%2C%20%5B55.6455139%2C%2037.7614479%5D%2C%20%5B55.6884265%2C%2037.8812418%5D%2C%20%5B55.8853866%2C%2037.4399471%5D%2C%20%5B55.752705%2C%2037.5983009%5D%2C%20%5B55.8217502%2C%2037.9539975%5D%2C%20%5B55.5971228%2C%2037.347596%5D%2C%20%5B55.5970955%2C%2037.3475987%5D%2C%20%5B55.769801%2C%2037.5975189%5D%2C%20%5B55.6559019%2C%2037.5312491%5D%2C%20%5B55.7485664%2C%2037.5436174%5D%2C%20%5B55.5275461%2C%2037.0297853%5D%2C%20%5B55.7267483%2C%2037.5978769%5D%2C%20%5B55.7307833%2C%2037.6017085%5D%2C%20%5B55.7417698%2C%2037.776372%5D%2C%20%5B55.9140519%2C%2037.7631788%5D%2C%20%5B55.9161233%2C%2037.7591232%5D%2C%20%5B55.8381243%2C%2037.5768256%5D%2C%20%5B55.794557%2C%2037.5890225%5D%2C%20%5B55.9296777%2C%2037.5220918%5D%2C%20%5B55.9219453%2C%2037.7960405%5D%2C%20%5B55.3534842%2C%2037.5392264%5D%2C%20%5B55.9237669%2C%2037.8459688%5D%2C%20%5B55.7246079%2C%2037.5645498%5D%2C%20%5B55.7243949%2C%2037.5653947%5D%2C%20%5B55.7100935%2C%2037.5989411%5D%2C%20%5B55.5837915%2C%2037.1101074%5D%2C%20%5B55.7522351%2C%2037.6134056%5D%2C%20%5B55.7412068%2C%2037.6099764%5D%2C%20%5B55.4866755%2C%2037.3072664%5D%2C%20%5B55.5946465%2C%2037.6625544%5D%2C%20%5B55.9255987%2C%2037.8168528%5D%2C%20%5B55.9256423%2C%2037.8169589%5D%2C%20%5B55.8958345%2C%2037.5881067%5D%2C%20%5B55.739749%2C%2037.6519959%5D%2C%20%5B55.8487534%2C%2037.5619911%5D%2C%20%5B55.8462139%2C%2037.5657982%5D%2C%20%5B55.9255093%2C%2037.3969781%5D%2C%20%5B55.9259308%2C%2037.3974931%5D%2C%20%5B55.9250562%2C%2037.3963263%5D%2C%20%5B55.7175296%2C%2037.7937996%5D%2C%20%5B55.7174764%2C%2037.7937614%5D%2C%20%5B55.8493395%2C%2037.6530976%5D%2C%20%5B55.8523824%2C%2037.6458658%5D%2C%20%5B55.7287551%2C%2037.6240352%5D%2C%20%5B55.7285869%2C%2037.6241061%5D%2C%20%5B55.7210754%2C%2037.7769278%5D%2C%20%5B55.7804122%2C%2037.5911619%5D%2C%20%5B55.5971519%2C%2037.6632905%5D%2C%20%5B55.7804475%2C%2037.5936457%5D%2C%20%5B55.5476765%2C%2037.7134898%5D%2C%20%5B55.8932569%2C%2037.5586272%5D%2C%20%5B55.7611947%2C%2037.6326176%5D%2C%20%5B55.8132312%2C%2037.6033916%5D%2C%20%5B55.7943572%2C%2037.4941036%5D%2C%20%5B55.9564801%2C%2037.3405504%5D%2C%20%5B55.659279%2C%2037.1990588%5D%2C%20%5B55.6592817%2C%2037.1988341%5D%2C%20%5B55.7776803%2C%2037.5808843%5D%2C%20%5B55.7579171%2C%2037.6591265%5D%2C%20%5B55.7771681%2C%2037.5803574%5D%2C%20%5B55.6785371%2C%2037.7035466%5D%2C%20%5B55.6784608%2C%2037.7034513%5D%2C%20%5B55.7376625%2C%2037.5950094%5D%2C%20%5B55.7375787%2C%2037.594967%5D%2C%20%5B55.7650635%2C%2037.6203599%5D%2C%20%5B55.7661122%2C%2037.6041386%5D%2C%20%5B55.7097006%2C%2037.6572847%5D%2C%20%5B55.7138686%2C%2037.8158529%5D%2C%20%5B55.7144202%2C%2037.816402%5D%2C%20%5B55.7886068%2C%2037.5363334%5D%2C%20%5B55.818337%2C%2037.4986955%5D%2C%20%5B55.6589435%2C%2037.2063545%5D%2C%20%5B55.862034%2C%2037.4353243%5D%2C%20%5B55.910987%2C%2037.856659%5D%2C%20%5B55.8394303%2C%2037.3057173%5D%2C%20%5B55.7971108%2C%2037.2994289%5D%2C%20%5B55.748719%2C%2037.5831825%5D%2C%20%5B55.7486658%2C%2037.5831757%5D%2C%20%5B55.7488137%2C%2037.5831945%5D%2C%20%5B55.7071528%2C%2037.3856716%5D%2C%20%5B55.4151894%2C%2037.5316103%5D%2C%20%5B55.7730872%2C%2037.7482794%5D%2C%20%5B55.8169431%2C%2037.6332049%5D%2C%20%5B55.7481695%2C%2037.584138%5D%2C%20%5B55.6613936%2C%2037.1827358%5D%2C%20%5B55.7413182%2C%2037.6096103%5D%2C%20%5B55.742229%2C%2037.6090993%5D%2C%20%5B55.7526624%2C%2037.6051448%5D%2C%20%5B55.7070451%2C%2037.3857244%5D%2C%20%5B55.7069784%2C%2037.3855368%5D%2C%20%5B55.7304871%2C%2037.6427529%5D%2C%20%5B55.7616825%2C%2037.6627904%5D%2C%20%5B55.6868499%2C%2037.7537481%5D%2C%20%5B55.699861%2C%2037.752335%5D%2C%20%5B55.7001617%2C%2037.7521692%5D%2C%20%5B55.7282535%2C%2037.6235242%5D%2C%20%5B55.6101125%2C%2037.7082638%5D%2C%20%5B55.7245233%2C%2037.6370474%5D%2C%20%5B55.8209135%2C%2037.6441163%5D%2C%20%5B55.7328035%2C%2037.664048%5D%2C%20%5B55.7809653%2C%2037.6683804%5D%2C%20%5B55.7288474%2C%2037.6111119%5D%2C%20%5B55.6569732%2C%2037.7254837%5D%2C%20%5B55.831607%2C%2037.4911793%5D%2C%20%5B55.7458743%2C%2037.6826896%5D%2C%20%5B55.7801243%2C%2037.633728%5D%2C%20%5B55.7527853%2C%2037.6094574%5D%2C%20%5B55.7711661%2C%2037.6202412%5D%2C%20%5B55.777632%2C%2037.63327%5D%2C%20%5B55.7653016%2C%2037.6396331%5D%2C%20%5B55.701146%2C%2037.6219229%5D%2C%20%5B55.839586%2C%2037.486657%5D%2C%20%5B55.8406645%2C%2037.485432%5D%2C%20%5B55.8406856%2C%2037.485593%5D%2C%20%5B55.8407519%2C%2037.4854293%5D%2C%20%5B55.8154165%2C%2037.5152367%5D%2C%20%5B55.7946252%2C%2037.9335054%5D%2C%20%5B55.7526361%2C%2037.9559549%5D%2C%20%5B55.3942961%2C%2037.6064131%5D%2C%20%5B55.6832584%2C%2037.45828%5D%2C%20%5B55.8340193%2C%2037.94229%5D%2C%20%5B55.6529694%2C%2037.6471661%5D%2C%20%5B55.781473%2C%2037.7053639%5D%2C%20%5B55.9147066%2C%2036.8627948%5D%2C%20%5B55.7277982%2C%2037.6244627%5D%2C%20%5B55.4900364%2C%2037.5031498%5D%2C%20%5B55.4762151%2C%2037.5442105%5D%2C%20%5B55.7902687%2C%2037.6310835%5D%2C%20%5B55.766749%2C%2037.624193%5D%2C%20%5B55.7273684%2C%2037.5678161%5D%2C%20%5B55.8224766%2C%2037.4972445%5D%2C%20%5B55.7534525%2C%2037.6121611%5D%2C%20%5B55.7275263%2C%2037.4765056%5D%2C%20%5B55.7906665%2C%2037.5307024%5D%2C%20%5B55.7242101%2C%2037.7157322%5D%2C%20%5B55.7242686%2C%2037.7159388%5D%2C%20%5B55.5416889%2C%2037.5725297%5D%2C%20%5B55.6796619%2C%2037.724698%5D%2C%20%5B55.6660789%2C%2037.4268579%5D%2C%20%5B55.8665991%2C%2037.4828812%5D%2C%20%5B55.9206747%2C%2037.839286%5D%2C%20%5B55.9951215%2C%2037.5354123%5D%2C%20%5B55.8476276%2C%2037.6351271%5D%2C%20%5B55.738514%2C%2037.6300895%5D%2C%20%5B55.7901931%2C%2037.5538107%5D%2C%20%5B55.7655245%2C%2037.6080385%5D%2C%20%5B55.7642669%2C%2037.6028191%5D%2C%20%5B55.6229557%2C%2037.5060805%5D%2C%20%5B55.7279386%2C%2037.6113121%5D%2C%20%5B55.7280586%2C%2037.611347%5D%2C%20%5B55.8167951%2C%2037.7812811%5D%2C%20%5B55.818043%2C%2037.7780755%5D%2C%20%5B55.8210521%2C%2037.7862065%5D%2C%20%5B55.811791%2C%2037.636338%5D%2C%20%5B55.736061%2C%2037.6716196%5D%2C%20%5B55.7379853%2C%2037.6730199%5D%2C%20%5B55.6987409%2C%2037.8652686%5D%2C%20%5B55.7667784%2C%2037.6241291%5D%2C%20%5B55.7273684%2C%2037.5678402%5D%2C%20%5B55.8230968%2C%2037.4974805%5D%2C%20%5B55.7539268%2C%2037.6127296%5D%2C%20%5B55.7277926%2C%2037.4774174%5D%2C%20%5B55.7906756%2C%2037.5305361%5D%2C%20%5B55.9381747%2C%2037.520172%5D%2C%20%5B55.6111871%2C%2037.287072%5D%2C%20%5B55.611162%2C%2037.2869501%5D%2C%20%5B55.7761601%2C%2037.5812023%5D%2C%20%5B55.80019%2C%2037.4815865%5D%2C%20%5B55.2445109%2C%2037.5060656%5D%2C%20%5B55.7524494%2C%2037.8201695%5D%2C%20%5B55.6190667%2C%2037.7819542%5D%2C%20%5B55.6404642%2C%2037.056244%5D%2C%20%5B55.5850012%2C%2037.1875152%5D%2C%20%5B55.7127166%2C%2037.5943261%5D%2C%20%5B55.714327%2C%2037.5913155%5D%2C%20%5B55.6581583%2C%2037.2012793%5D%2C%20%5B55.9290583%2C%2037.1934028%5D%2C%20%5B55.9383277%2C%2037.1877405%5D%2C%20%5B55.9413053%2C%2037.492159%5D%2C%20%5B55.7698267%2C%2037.6088686%5D%2C%20%5B55.708169%2C%2037.65719%5D%2C%20%5B55.7956036%2C%2037.8000183%5D%2C%20%5B55.8416706%2C%2037.1461452%5D%2C%20%5B55.6033645%2C%2037.72209%5D%2C%20%5B55.7628848%2C%2037.8448441%5D%2C%20%5B55.9296026%2C%2037.5221136%5D%2C%20%5B55.7576213%2C%2037.6084945%5D%2C%20%5B55.8612054%2C%2037.6894328%5D%2C%20%5B55.7726208%2C%2037.6783519%5D%2C%20%5B55.7725496%2C%2037.6783714%5D%2C%20%5B55.7741038%2C%2037.6744829%5D%2C%20%5B55.5969503%2C%2037.1146782%5D%2C%20%5B55.8763182%2C%2037.6587416%5D%2C%20%5B55.8721787%2C%2037.6469399%5D%2C%20%5B55.510309%2C%2037.5599788%5D%2C%20%5B55.9738316%2C%2037.3125356%5D%2C%20%5B55.9435209%2C%2037.3051634%5D%2C%20%5B55.9389972%2C%2037.3122954%5D%2C%20%5B55.93783%2C%2037.321649%5D%2C%20%5B55.7873834%2C%2037.6094817%5D%2C%20%5B55.6821453%2C%2037.7247289%5D%2C%20%5B55.6923012%2C%2037.7275455%5D%2C%20%5B55.383291%2C%2037.5360627%5D%2C%20%5B55.3586623%2C%2037.5319737%5D%2C%20%5B55.6188545%2C%2037.2755818%5D%2C%20%5B55.7349087%2C%2037.603149%5D%2C%20%5B55.7574432%2C%2037.6335409%5D%2C%20%5B55.8282037%2C%2037.3232509%5D%2C%20%5B55.7149999%2C%2037.8171226%5D%2C%20%5B55.690367%2C%2037.601995%5D%2C%20%5B55.8522855%2C%2037.4214643%5D%2C%20%5B55.7809769%2C%2037.5739825%5D%2C%20%5B55.7096892%2C%2037.5947441%5D%2C%20%5B55.981602%2C%2037.4142489%5D%2C%20%5B55.5939836%2C%2037.6560674%5D%2C%20%5B55.6003466%2C%2037.6632204%5D%2C%20%5B55.6195601%2C%2037.2742576%5D%2C%20%5B55.6919601%2C%2037.5362406%5D%2C%20%5B55.7816164%2C%2037.7061422%5D%2C%20%5B55.7915966%2C%2037.6548149%5D%2C%20%5B55.7536559%2C%2037.8816748%5D%2C%20%5B55.9447151%2C%2037.3582283%5D%2C%20%5B55.8154669%2C%2037.5122895%5D%2C%20%5B55.8579215%2C%2037.5602938%5D%2C%20%5B55.8200593%2C%2037.4560297%5D%2C%20%5B55.7507822%2C%2037.5925541%5D%2C%20%5B55.7086972%2C%2037.5925742%5D%2C%20%5B55.7084452%2C%2037.5915804%5D%2C%20%5B55.8388753%2C%2037.3789322%5D%2C%20%5B55.8164066%2C%2037.341443%5D%2C%20%5B55.7481396%2C%2037.5835419%5D%2C%20%5B55.5835577%2C%2037.5999981%5D%2C%20%5B55.7941555%2C%2037.477439%5D%2C%20%5B55.6599313%2C%2037.721741%5D%2C%20%5B55.7523484%2C%2037.8572739%5D%2C%20%5B55.6114948%2C%2037.6074738%5D%2C%20%5B55.7561602%2C%2037.8568879%5D%2C%20%5B55.3744277%2C%2037.5395329%5D%2C%20%5B55.3823577%2C%2037.5398433%5D%2C%20%5B55.9101091%2C%2037.3962266%5D%2C%20%5B55.2767488%2C%2037.6195639%5D%2C%20%5B55.7091588%2C%2037.3632842%5D%2C%20%5B55.8109512%2C%2037.503614%5D%2C%20%5B55.8096898%2C%2037.4987351%5D%2C%20%5B55.812614%2C%2037.5016749%5D%2C%20%5B55.6101762%2C%2037.2946864%5D%2C%20%5B55.792423%2C%2037.6028028%5D%2C%20%5B55.7540713%2C%2037.6358396%5D%2C%20%5B55.7532612%2C%2037.7143635%5D%2C%20%5B55.7532426%2C%2037.7142674%5D%2C%20%5B55.7554304%2C%2037.8811304%5D%2C%20%5B55.7494002%2C%2037.583275%5D%2C%20%5B55.7697877%2C%2037.657556%5D%2C%20%5B55.5438115%2C%2037.0841856%5D%2C%20%5B55.7613403%2C%2037.5747107%5D%2C%20%5B55.7395111%2C%2037.665073%5D%2C%20%5B55.7394979%2C%2037.6647122%5D%2C%20%5B55.8416095%2C%2037.3702472%5D%2C%20%5B55.7911927%2C%2037.6805752%5D%2C%20%5B55.7535868%2C%2037.6381664%5D%2C%20%5B55.7014589%2C%2037.6244474%5D%2C%20%5B55.8250512%2C%2037.1234264%5D%2C%20%5B55.8249532%2C%2037.1228846%5D%2C%20%5B55.7617413%2C%2037.6414213%5D%2C%20%5B55.7795749%2C%2037.665687%5D%2C%20%5B55.716105%2C%2037.8155505%5D%2C%20%5B55.7628249%2C%2037.6707508%5D%2C%20%5B55.7389596%2C%2037.8719959%5D%2C%20%5B55.8993687%2C%2037.5708209%5D%2C%20%5B55.8036207%2C%2037.5913095%5D%2C%20%5B55.9714866%2C%2037.5100549%5D%2C%20%5B55.7460148%2C%2037.5133418%5D%2C%20%5B55.6604051%2C%2037.5394466%5D%2C%20%5B55.8256237%2C%2037.3662025%5D%2C%20%5B55.836006%2C%2037.3169752%5D%2C%20%5B55.7454867%2C%2037.8603804%5D%2C%20%5B55.863313%2C%2037.6058825%5D%2C%20%5B55.8632027%2C%2037.6055425%5D%2C%20%5B55.9732733%2C%2037.1486454%5D%2C%20%5B55.7786668%2C%2037.5821737%5D%2C%20%5B55.8203655%2C%2037.4960083%5D%2C%20%5B55.7043451%2C%2037.0267616%5D%2C%20%5B55.7236949%2C%2037.1663041%5D%2C%20%5B55.8540473%2C%2037.476417%5D%2C%20%5B55.4642674%2C%2037.6679677%5D%2C%20%5B55.837857%2C%2037.3244418%5D%2C%20%5B55.7075921%2C%2037.6568365%5D%2C%20%5B55.773761%2C%2037.655877%5D%2C%20%5B55.7738364%2C%2037.6557657%5D%2C%20%5B55.7734578%2C%2037.6562002%5D%2C%20%5B55.7884688%2C%2037.7440765%5D%2C%20%5B55.7884977%2C%2037.7440767%5D%2C%20%5B55.7635586%2C%2037.569249%5D%2C%20%5B55.8030189%2C%2037.8461915%5D%2C%20%5B55.661787%2C%2037.183355%5D%2C%20%5B55.717782%2C%2037.7919495%5D%2C%20%5B55.9292703%2C%2037.846007%5D%2C%20%5B55.4845189%2C%2037.5672199%5D%2C%20%5B55.6155716%2C%2036.9866337%5D%2C%20%5B55.8169433%2C%2037.4036068%5D%2C%20%5B55.7178664%2C%2037.7933591%5D%2C%20%5B55.7176353%2C%2037.793029%5D%2C%20%5B55.4938017%2C%2037.0316854%5D%2C%20%5B55.4949398%2C%2037.0298293%5D%2C%20%5B55.7711004%2C%2037.632633%5D%2C%20%5B55.6234728%2C%2037.3113496%5D%2C%20%5B55.6231349%2C%2037.3007501%5D%2C%20%5B55.6223572%2C%2037.3065244%5D%2C%20%5B55.6262834%2C%2037.3101091%5D%2C%20%5B55.6248731%2C%2037.3068919%5D%2C%20%5B55.6258372%2C%2037.3064316%5D%2C%20%5B55.7025262%2C%2037.7911999%5D%2C%20%5B55.7217563%2C%2037.7337608%5D%2C%20%5B55.7043976%2C%2037.726865%5D%2C%20%5B55.7242222%2C%2037.6886523%5D%2C%20%5B55.6917748%2C%2037.7282599%5D%2C%20%5B55.7057148%2C%2037.7673132%5D%2C%20%5B55.5592287%2C%2037.8122168%5D%2C%20%5B55.8084486%2C%2037.7636777%5D%2C%20%5B55.6222049%2C%2037.7132079%5D%2C%20%5B55.6213008%2C%2037.7135566%5D%2C%20%5B55.7693064%2C%2037.6207969%5D%2C%20%5B55.8142378%2C%2037.7727%5D%2C%20%5B55.7088508%2C%2037.7337573%5D%2C%20%5B55.6319874%2C%2037.3230782%5D%2C%20%5B55.7486663%2C%2037.1599467%5D%2C%20%5B55.6937582%2C%2037.8112484%5D%2C%20%5B55.7436125%2C%2037.8662158%5D%2C%20%5B55.7518371%2C%2037.8826716%5D%2C%20%5B55.7770573%2C%2037.5805916%5D%2C%20%5B55.6023046%2C%2037.7143753%5D%2C%20%5B55.5974721%2C%2037.7230704%5D%2C%20%5B55.7910746%2C%2037.5611819%5D%2C%20%5B55.6560902%2C%2037.2564338%5D%2C%20%5B55.6603288%2C%2037.2462025%5D%2C%20%5B55.6104559%2C%2037.7222845%5D%2C%20%5B55.6072099%2C%2037.7339877%5D%2C%20%5B55.8480503%2C%2037.1883479%5D%2C%20%5B55.4323831%2C%2037.5465788%5D%2C%20%5B55.8000617%2C%2037.5607836%5D%2C%20%5B55.8878551%2C%2037.0328227%5D%2C%20%5B55.8801346%2C%2037.0828807%5D%2C%20%5B55.6188474%2C%2037.2742636%5D%2C%20%5B55.683752%2C%2037.491063%5D%2C%20%5B55.8074168%2C%2037.5599869%5D%2C%20%5B55.9831886%2C%2037.1423696%5D%2C%20%5B55.6931823%2C%2037.6740089%5D%2C%20%5B55.5923842%2C%2037.748295%5D%2C%20%5B55.6655778%2C%2037.8535362%5D%2C%20%5B55.7408339%2C%2037.8513904%5D%2C%20%5B55.6228341%2C%2037.6672107%5D%2C%20%5B55.6625179%2C%2037.8581528%5D%2C%20%5B55.6608979%2C%2037.8571376%5D%2C%20%5B55.6607843%2C%2037.8570759%5D%2C%20%5B55.6595044%2C%2037.8561477%5D%2C%20%5B55.7914429%2C%2037.3575974%5D%2C%20%5B55.8369866%2C%2037.4844557%5D%2C%20%5B55.8482091%2C%2037.4758217%5D%2C%20%5B55.6308193%2C%2037.6579595%5D%2C%20%5B55.6326891%2C%2037.6587519%5D%2C%20%5B55.6311999%2C%2037.6600547%5D%2C%20%5B55.6312148%2C%2037.6601343%5D%2C%20%5B55.7297375%2C%2037.6441321%5D%2C%20%5B55.78252%2C%2037.5942412%5D%2C%20%5B55.7067403%2C%2037.9051957%5D%2C%20%5B55.7035121%2C%2037.9074515%5D%2C%20%5B55.7017812%2C%2037.9113512%5D%2C%20%5B55.7027322%2C%2037.9086531%5D%2C%20%5B55.7974614%2C%2037.5481299%5D%2C%20%5B55.6224696%2C%2037.6679174%5D%2C%20%5B55.8504258%2C%2037.4518065%5D%2C%20%5B55.6396323%2C%2037.0989869%5D%2C%20%5B55.6566436%2C%2036.8157012%5D%2C%20%5B55.6740005%2C%2037.0388902%5D%2C%20%5B55.606079%2C%2037.7142955%5D%2C%20%5B55.7175365%2C%2037.793649%5D%2C%20%5B55.7478346%2C%2037.5324598%5D%2C%20%5B55.7478418%2C%2037.5325484%5D%2C%20%5B55.7478631%2C%2037.5328131%5D%2C%20%5B55.4622837%2C%2037.7019008%5D%2C%20%5B55.6915772%2C%2037.7270079%5D%2C%20%5B55.7172932%2C%2037.7920488%5D%2C%20%5B55.6102149%2C%2037.7098606%5D%2C%20%5B55.7817576%2C%2037.7054062%5D%2C%20%5B55.74824%2C%2037.1656403%5D%2C%20%5B55.7478173%2C%2037.1647739%5D%2C%20%5B55.747874%2C%2037.1648142%5D%2C%20%5B55.7988401%2C%2037.3038585%5D%2C%20%5B55.8249563%2C%2037.1259879%5D%2C%20%5B55.626122%2C%2037.4735391%5D%2C%20%5B55.9016538%2C%2037.4232063%5D%2C%20%5B55.8056463%2C%2037.5394431%5D%2C%20%5B55.8044415%2C%2037.6509981%5D%2C%20%5B55.5975168%2C%2037.7234016%5D%2C%20%5B55.7064923%2C%2037.021117%5D%2C%20%5B55.3986041%2C%2037.769889%5D%2C%20%5B55.3971171%2C%2037.7761756%5D%2C%20%5B55.3972481%2C%2037.7746923%5D%2C%20%5B55.3980158%2C%2037.7724602%5D%2C%20%5B55.7174417%2C%2037.6220371%5D%2C%20%5B55.7053855%2C%2037.5890978%5D%2C%20%5B55.7076643%2C%2037.8288856%5D%2C%20%5B55.7229059%2C%2037.5669518%5D%2C%20%5B55.6563443%2C%2037.5903278%5D%2C%20%5B55.726062%2C%2037.5326139%5D%2C%20%5B55.7208057%2C%2037.4017611%5D%2C%20%5B55.9601925%2C%2037.5335951%5D%2C%20%5B55.8808441%2C%2037.4598031%5D%2C%20%5B55.7004452%2C%2037.9255602%5D%2C%20%5B55.8257586%2C%2037.431584%5D%2C%20%5B55.842212%2C%2037.4928591%5D%2C%20%5B55.7609%2C%2037.6237723%5D%2C%20%5B55.7616832%2C%2037.6237817%5D%2C%20%5B55.8220016%2C%2037.4325496%5D%2C%20%5B55.7881674%2C%2037.257269%5D%2C%20%5B55.7899729%2C%2037.6780867%5D%2C%20%5B55.758311%2C%2037.6133627%5D%2C%20%5B55.5945719%2C%2037.5990696%5D%2C%20%5B55.711935%2C%2037.6203739%5D%2C%20%5B55.6665021%2C%2037.668859%5D%2C%20%5B55.5715216%2C%2037.5742367%5D%2C%20%5B55.604638%2C%2037.7072456%5D%2C%20%5B55.6860543%2C%2037.8539756%5D%2C%20%5B55.7168921%2C%2037.6906532%5D%2C%20%5B55.6241225%2C%2037.4215955%5D%2C%20%5B55.5745826%2C%2037.6090232%5D%2C%20%5B55.7519188%2C%2037.8591549%5D%2C%20%5B55.7477134%2C%2037.7074277%5D%2C%20%5B55.5139446%2C%2036.9826519%5D%2C%20%5B55.82666%2C%2037.44479%5D%2C%20%5B55.687051%2C%2037.603918%5D%2C%20%5B56.017085%2C%2037.885333%5D%2C%20%5B55.7906965%2C%2037.8868514%5D%2C%20%5B55.5697969%2C%2037.5791404%5D%2C%20%5B55.8091889%2C%2037.8415221%5D%2C%20%5B55.709236%2C%2037.5959283%5D%2C%20%5B55.7895322%2C%2037.7530763%5D%2C%20%5B55.8935068%2C%2037.2869325%5D%2C%20%5B55.7244771%2C%2037.5639346%5D%2C%20%5B55.771719%2C%2037.8469834%5D%2C%20%5B55.776618%2C%2037.866495%5D%2C%20%5B55.780006%2C%2037.8650064%5D%2C%20%5B55.8765755%2C%2037.534609%5D%2C%20%5B55.8735224%2C%2037.5213186%5D%2C%20%5B55.8964522%2C%2037.5548932%5D%2C%20%5B55.8700591%2C%2037.4000573%5D%2C%20%5B55.9245121%2C%2037.8891107%5D%2C%20%5B55.5504971%2C%2037.1312085%5D%2C%20%5B55.6592101%2C%2037.1997808%5D%2C%20%5B55.6320033%2C%2037.2108747%5D%2C%20%5B55.5701498%2C%2037.5760017%5D%2C%20%5B55.8323702%2C%2037.3026489%5D%2C%20%5B55.7270324%2C%2037.6115037%5D%2C%20%5B55.6543887%2C%2037.7022276%5D%2C%20%5B55.662085%2C%2037.1821348%5D%2C%20%5B55.6840393%2C%2037.7517021%5D%2C%20%5B55.8351038%2C%2037.2741866%5D%2C%20%5B55.6820865%2C%2037.5354874%5D%2C%20%5B55.9349853%2C%2037.5004363%5D%2C%20%5B55.9349642%2C%2037.5005503%5D%2C%20%5B55.817541%2C%2037.8084616%5D%2C%20%5B55.6434553%2C%2037.7090315%5D%2C%20%5B55.7589337%2C%2037.7165635%5D%2C%20%5B55.7511904%2C%2037.7895434%5D%2C%20%5B55.6382039%2C%2037.0120785%5D%2C%20%5B55.810693%2C%2037.838002%5D%2C%20%5B55.8609673%2C%2037.4516208%5D%2C%20%5B55.8608138%2C%2037.4514058%5D%2C%20%5B55.8606984%2C%2037.4514419%5D%2C%20%5B55.8608505%2C%2037.4515446%5D%2C%20%5B55.8608833%2C%2037.4516609%5D%2C%20%5B55.8609033%2C%2037.4516698%5D%2C%20%5B55.8609345%2C%2037.4516499%5D%2C%20%5B55.4679525%2C%2037.2966053%5D%2C%20%5B55.752057%2C%2037.7165302%5D%2C%20%5B55.7161092%2C%2037.9349005%5D%2C%20%5B55.6834092%2C%2037.541268%5D%2C%20%5B55.7319884%2C%2037.8166278%5D%2C%20%5B55.7380547%2C%2037.864173%5D%2C%20%5B55.7147921%2C%2037.9334575%5D%2C%20%5B55.7151926%2C%2037.9334433%5D%2C%20%5B55.7077453%2C%2037.9617528%5D%2C%20%5B55.7646334%2C%2037.6399668%5D%2C%20%5B55.8000184%2C%2037.5852142%5D%2C%20%5B55.7998608%2C%2037.585237%5D%2C%20%5B55.7999407%2C%2037.5852255%5D%2C%20%5B55.9150674%2C%2036.86611%5D%2C%20%5B55.7133023%2C%2037.8783234%5D%2C%20%5B55.6770691%2C%2037.7488241%5D%2C%20%5B55.8169536%2C%2037.373769%5D%2C%20%5B55.8241849%2C%2037.3265192%5D%2C%20%5B55.8267936%2C%2037.3291773%5D%2C%20%5B55.6582487%2C%2037.2024153%5D%2C%20%5B55.80298%2C%2037.5846121%5D%2C%20%5B55.7907435%2C%2037.5891162%5D%2C%20%5B55.7844083%2C%2037.5968041%5D%2C%20%5B55.7018935%2C%2037.9102609%5D%2C%20%5B55.847664%2C%2037.3708481%5D%2C%20%5B55.8471978%2C%2037.3713121%5D%2C%20%5B55.7377195%2C%2037.4708033%5D%2C%20%5B55.72156%2C%2037.5898208%5D%2C%20%5B55.5026317%2C%2037.5384224%5D%2C%20%5B55.5036308%2C%2037.5369341%5D%2C%20%5B55.864751%2C%2037.3966708%5D%2C%20%5B55.8884656%2C%2037.7586192%5D%2C%20%5B55.7608555%2C%2037.7036539%5D%2C%20%5B55.8477151%2C%2037.349482%5D%2C%20%5B55.6906107%2C%2037.9238409%5D%2C%20%5B55.8185901%2C%2037.0186887%5D%2C%20%5B55.7326596%2C%2037.5108197%5D%2C%20%5B55.7327906%2C%2037.5106522%5D%2C%20%5B55.9133162%2C%2037.576662%5D%2C%20%5B55.7763916%2C%2037.6570961%5D%2C%20%5B55.6144696%2C%2037.7430072%5D%2C%20%5B55.8139968%2C%2037.7337509%5D%2C%20%5B55.8184349%2C%2037.5736016%5D%2C%20%5B55.7201%2C%2037.3799%5D%2C%20%5B55.7044921%2C%2037.5128227%5D%2C%20%5B55.6124%2C%2037.7327%5D%2C%20%5B55.6216%2C%2037.6125%5D%2C%20%5B55.9033442%2C%2037.4095631%5D%2C%20%5B55.6781319%2C%2037.4823046%5D%2C%20%5B55.7089%2C%2037.6208%5D%2C%20%5B55.7297971%2C%2037.638275%5D%2C%20%5B55.7762637%2C%2037.5819594%5D%2C%20%5B55.6580311%2C%2037.8472996%5D%2C%20%5B55.8351591%2C%2037.491011%5D%2C%20%5B55.7590943%2C%2037.6412047%5D%2C%20%5B55.7694257%2C%2037.659032%5D%2C%20%5B55.7673929%2C%2037.6596167%5D%2C%20%5B55.7660443%2C%2037.6605682%5D%2C%20%5B55.7651518%2C%2037.659848%5D%2C%20%5B55.7804769%2C%2037.5935814%5D%2C%20%5B55.7805003%2C%2037.5935304%5D%2C%20%5B55.9772755%2C%2037.8213684%5D%2C%20%5B55.8027304%2C%2037.5587261%5D%2C%20%5B55.8174098%2C%2037.4980306%5D%2C%20%5B55.5883345%2C%2037.6643407%5D%2C%20%5B55.6228147%2C%2037.1378114%5D%2C%20%5B55.8396366%2C%2037.3675999%5D%2C%20%5B55.8447036%2C%2037.3565774%5D%2C%20%5B55.7463101%2C%2037.8662362%5D%2C%20%5B55.799015%2C%2037.5675479%5D%2C%20%5B55.7614787%2C%2037.6630694%5D%2C%20%5B55.7610811%2C%2037.6625906%5D%2C%20%5B55.7604669%2C%2037.6622647%5D%2C%20%5B55.8341918%2C%2037.4086487%5D%2C%20%5B55.7612323%2C%2037.5856365%5D%2C%20%5B55.7901006%2C%2037.6784699%5D%2C%20%5B55.707158%2C%2037.4567217%5D%2C%20%5B55.7613099%2C%2037.5857011%5D%2C%20%5B55.5979182%2C%2037.1661328%5D%2C%20%5B55.7501866%2C%2037.5933612%5D%2C%20%5B55.8502193%2C%2037.4042416%5D%2C%20%5B55.7723753%2C%2037.5852464%5D%2C%20%5B55.8086192%2C%2037.4944631%5D%2C%20%5B55.8558702%2C%2037.6534092%5D%2C%20%5B55.7690524%2C%2037.6792212%5D%2C%20%5B55.7750254%2C%2037.8934988%5D%2C%20%5B55.7442537%2C%2037.8537926%5D%2C%20%5B56.0033904%2C%2037.8772572%5D%2C%20%5B55.7154649%2C%2037.608255%5D%2C%20%5B55.6618255%2C%2037.4800569%5D%2C%20%5B55.8505983%2C%2037.3506457%5D%2C%20%5B55.8267159%2C%2037.3675838%5D%2C%20%5B55.6673416%2C%2037.7661494%5D%2C%20%5B55.6582424%2C%2037.3990542%5D%2C%20%5B55.776027%2C%2037.655645%5D%2C%20%5B55.7386153%2C%2037.4117839%5D%2C%20%5B55.852469%2C%2037.352126%5D%2C%20%5B55.6003339%2C%2037.5991792%5D%2C%20%5B55.7062051%2C%2037.5941309%5D%2C%20%5B55.782975%2C%2037.705915%5D%2C%20%5B55.8958376%2C%2037.4812522%5D%2C%20%5B55.653331%2C%2037.847428%5D%2C%20%5B55.6380796%2C%2037.6071292%5D%2C%20%5B55.8870548%2C%2037.4210054%5D%2C%20%5B55.7293749%2C%2037.6451611%5D%2C%20%5B55.6422765%2C%2037.5205446%5D%2C%20%5B55.7368342%2C%2037.6240609%5D%2C%20%5B55.7670169%2C%2037.6575923%5D%2C%20%5B55.7569304%2C%2037.6209519%5D%2C%20%5B55.852469%2C%2037.352126%5D%2C%20%5B55.600388%2C%2037.599278%5D%2C%20%5B55.7067742%2C%2037.5938147%5D%2C%20%5B55.7829582%2C%2037.7058935%5D%2C%20%5B55.8958376%2C%2037.4812522%5D%2C%20%5B55.638149%2C%2037.607156%5D%2C%20%5B55.88707%2C%2037.421279%5D%2C%20%5B55.8267657%2C%2037.3676831%5D%2C%20%5B55.6676291%2C%2037.7661172%5D%2C%20%5B55.6583273%2C%2037.3994672%5D%2C%20%5B55.776027%2C%2037.655645%5D%2C%20%5B55.7385275%2C%2037.411682%5D%2C%20%5B55.7907329%2C%2037.5297904%5D%2C%20%5B55.8239001%2C%2037.497341%5D%2C%20%5B55.695677%2C%2037.498624%5D%2C%20%5B55.8071283%2C%2037.8185438%5D%2C%20%5B55.7704911%2C%2037.5967608%5D%2C%20%5B55.7252716%2C%2037.6487711%5D%2C%20%5B55.7719861%2C%2037.6048681%5D%2C%20%5B55.6586386%2C%2037.8105248%5D%2C%20%5B55.7585929%2C%2037.6592029%5D%2C%20%5B55.8077856%2C%2037.5803935%5D%2C%20%5B55.7859619%2C%2037.6647008%5D%2C%20%5B55.7860308%2C%2037.6647453%5D%2C%20%5B55.7861392%2C%2037.6648205%5D%2C%20%5B55.7862491%2C%2037.6647704%5D%2C%20%5B55.7862873%2C%2037.6645702%5D%2C%20%5B55.78603%2C%2037.6641644%5D%2C%20%5B55.7859647%2C%2037.6641966%5D%2C%20%5B55.7859129%2C%2037.6642359%5D%2C%20%5B55.7857405%2C%2037.6643682%5D%2C%20%5B55.7857737%2C%2037.6644755%5D%2C%20%5B55.7856682%2C%2037.6647332%5D%2C%20%5B55.7855686%2C%2037.6652502%5D%2C%20%5B55.8393723%2C%2037.2520584%5D%2C%20%5B55.7308324%2C%2037.5984247%5D%2C%20%5B55.7281635%2C%2037.5799046%5D%2C%20%5B55.6964452%2C%2037.8741901%5D%2C%20%5B55.7507061%2C%2037.4794957%5D%2C%20%5B55.7502187%2C%2037.4791129%5D%2C%20%5B55.7504838%2C%2037.4830459%5D%2C%20%5B55.6063945%2C%2037.5361998%5D%2C%20%5B55.8417361%2C%2037.3828724%5D%2C%20%5B55.7672824%2C%2037.6231701%5D%2C%20%5B55.7928557%2C%2037.6355392%5D%2C%20%5B55.8082303%2C%2037.5121361%5D%2C%20%5B55.6722358%2C%2037.5505058%5D%2C%20%5B55.7437332%2C%2037.567293%5D%2C%20%5B55.9161764%2C%2037.8674691%5D%2C%20%5B55.1546301%2C%2037.9589587%5D%2C%20%5B55.8053414%2C%2037.5108768%5D%2C%20%5B55.2189087%2C%2037.9302511%5D%2C%20%5B55.758803%2C%2037.6117185%5D%2C%20%5B55.7511165%2C%2037.6070662%5D%2C%20%5B55.8054671%2C%2037.800082%5D%2C%20%5B55.7598851%2C%2037.7444771%5D%2C%20%5B55.8624344%2C%2037.5622693%5D%2C%20%5B55.7914036%2C%2037.6023629%5D%2C%20%5B55.750794%2C%2037.7824814%5D%2C%20%5B55.844367%2C%2037.3779251%5D%2C%20%5B55.8190169%2C%2037.8273582%5D%2C%20%5B55.7760997%2C%2037.5852404%5D%2C%20%5B55.8358938%2C%2037.6258886%5D%2C%20%5B55.9732929%2C%2037.7220156%5D%2C%20%5B55.7365764%2C%2037.6187807%5D%2C%20%5B55.7373828%2C%2037.6353702%5D%2C%20%5B55.7907713%2C%2037.5316909%5D%2C%20%5B55.758226%2C%2037.624517%5D%2C%20%5B55.6536481%2C%2037.8450548%5D%2C%20%5B55.786759%2C%2037.560974%5D%2C%20%5B55.7586457%2C%2037.6586873%5D%2C%20%5B55.8395531%2C%2037.2527316%5D%2C%20%5B55.4328175%2C%2037.5430828%5D%2C%20%5B55.5990535%2C%2037.5384176%5D%2C%20%5B55.6794216%2C%2037.5638474%5D%2C%20%5B55.8101528%2C%2037.8103861%5D%2C%20%5B55.7638646%2C%2037.6170145%5D%2C%20%5B55.7165858%2C%2037.4591618%5D%2C%20%5B55.9004659%2C%2037.4727532%5D%2C%20%5B55.7883853%2C%2037.5770482%5D%2C%20%5B55.3240257%2C%2037.3428001%5D%2C%20%5B55.7870945%2C%2037.9421231%5D%2C%20%5B55.8237985%2C%2037.9441956%5D%2C%20%5B55.7220112%2C%2037.904902%5D%2C%20%5B55.6816766%2C%2037.5970066%5D%2C%20%5B55.8150367%2C%2037.3427358%5D%2C%20%5B55.811148%2C%2037.8000571%5D%2C%20%5B55.8112121%2C%2037.7999496%5D%2C%20%5B55.8108109%2C%2037.8017822%5D%2C%20%5B55.8108263%2C%2037.7999285%5D%2C%20%5B55.786804%2C%2037.584148%5D%2C%20%5B55.7867852%2C%2037.5807215%5D%2C%20%5B55.7549849%2C%2037.6565359%5D%2C%20%5B55.7408801%2C%2037.4157212%5D%2C%20%5B55.7499414%2C%2037.5935465%5D%2C%20%5B56.0005228%2C%2037.8803712%5D%2C%20%5B55.5459%2C%2037.6992%5D%2C%20%5B55.796%2C%2037.9632%5D%2C%20%5B55.6478113%2C%2037.480655%5D%2C%20%5B55.5673168%2C%2037.6911352%5D%2C%20%5B55.6845119%2C%2037.6220879%5D%2C%20%5B55.7071565%2C%2037.7474624%5D%2C%20%5B55.7273919%2C%2037.4726649%5D%2C%20%5B55.5563757%2C%2037.8786023%5D%2C%20%5B55.8596437%2C%2037.4370222%5D%2C%20%5B55.811594%2C%2037.624701%5D%2C%20%5B55.5083337%2C%2037.5606773%5D%2C%20%5B55.9259275%2C%2037.6608674%5D%2C%20%5B55.8098458%2C%2037.8021132%5D%2C%20%5B55.707472%2C%2037.5755529%5D%2C%20%5B55.7075998%2C%2037.5765894%5D%2C%20%5B55.6301401%2C%2036.983297%5D%2C%20%5B55.8477434%2C%2037.3495278%5D%2C%20%5B55.5874773%2C%2037.6527052%5D%2C%20%5B55.7463447%2C%2037.5619139%5D%2C%20%5B55.756121%2C%2037.6607506%5D%2C%20%5B55.896814%2C%2037.5551574%5D%2C%20%5B55.7495768%2C%2037.8649611%5D%2C%20%5B55.7496402%2C%2037.8652883%5D%2C%20%5B55.6930088%2C%2037.4947434%5D%2C%20%5B55.7715478%2C%2037.6326786%5D%2C%20%5B55.8517625%2C%2037.3467565%5D%2C%20%5B55.7840144%2C%2037.8484254%5D%2C%20%5B55.7844186%2C%2037.8482752%5D%2C%20%5B55.7841877%2C%2037.8469727%5D%2C%20%5B55.7838424%2C%2037.8471272%5D%2C%20%5B55.738168%2C%2037.655577%5D%2C%20%5B55.7789692%2C%2037.6672094%5D%2C%20%5B55.7318718%2C%2037.6357598%5D%2C%20%5B55.842779%2C%2037.1830693%5D%2C%20%5B55.8260079%2C%2037.1372545%5D%2C%20%5B55.8190271%2C%2037.7516869%5D%2C%20%5B55.7714829%2C%2037.5940488%5D%2C%20%5B55.7833335%2C%2037.5807267%5D%2C%20%5B55.7619389%2C%2037.6239927%5D%2C%20%5B55.8799225%2C%2037.4183916%5D%2C%20%5B55.8029102%2C%2037.8296372%5D%2C%20%5B55.7240937%2C%2036.9687298%5D%2C%20%5B55.8937654%2C%2037.4507477%5D%2C%20%5B55.8436441%2C%2037.3548071%5D%2C%20%5B55.7744067%2C%2037.5811601%5D%2C%20%5B55.5804889%2C%2037.652133%5D%2C%20%5B55.8121003%2C%2037.8177776%5D%2C%20%5B55.8165258%2C%2037.7678085%5D%2C%20%5B55.8110716%2C%2037.5584373%5D%2C%20%5B55.8277789%2C%2037.3304996%5D%2C%20%5B55.829015%2C%2037.322351%5D%2C%20%5B55.8290286%2C%2037.3221552%5D%2C%20%5B55.8324275%2C%2037.2790937%5D%2C%20%5B55.8107817%2C%2037.7995614%5D%2C%20%5B55.78918%2C%2037.6343456%5D%2C%20%5B55.9289629%2C%2037.5413688%5D%2C%20%5B55.5143024%2C%2037.3516558%5D%2C%20%5B55.7645837%2C%2037.853983%5D%2C%20%5B55.6721789%2C%2037.2403908%5D%2C%20%5B55.755561%2C%2037.6148835%5D%2C%20%5B55.8544462%2C%2037.351221%5D%2C%20%5B55.7512126%2C%2037.8590026%5D%2C%20%5B55.7031911%2C%2037.5822423%5D%2C%20%5B55.7649858%2C%2037.6203176%5D%2C%20%5B55.866256%2C%2037.3965892%5D%2C%20%5B55.8980877%2C%2037.5518294%5D%2C%20%5B55.8158956%2C%2037.7566609%5D%2C%20%5B55.9425581%2C%2037.2786739%5D%2C%20%5B55.4380399%2C%2037.7676432%5D%2C%20%5B55.8648221%2C%2037.4325677%5D%2C%20%5B55.7623344%2C%2037.5677209%5D%2C%20%5B55.9907186%2C%2037.1413932%5D%2C%20%5B55.8230816%2C%2037.5006784%5D%2C%20%5B55.7937703%2C%2037.670251%5D%2C%20%5B55.6295075%2C%2037.7410919%5D%2C%20%5B55.431217%2C%2037.5641824%5D%2C%20%5B55.8191326%2C%2036.9624522%5D%2C%20%5B55.8181983%2C%2037.0184501%5D%2C%20%5B55.8959537%2C%2037.5733133%5D%2C%20%5B55.7301088%2C%2037.6451726%5D%2C%20%5B55.7790002%2C%2037.6895294%5D%2C%20%5B55.8019184%2C%2037.5316942%5D%2C%20%5B55.8024312%2C%2037.7437663%5D%2C%20%5B55.745337%2C%2037.664518%5D%2C%20%5B55.65764%2C%2037.846098%5D%2C%20%5B55.7840252%2C%2037.5971675%5D%2C%20%5B55.725487%2C%2037.6430153%5D%2C%20%5B55.7350356%2C%2037.517815%5D%2C%20%5B55.8074992%2C%2037.58885%5D%2C%20%5B55.643409%2C%2036.9696526%5D%2C%20%5B55.7833503%2C%2037.6779422%5D%2C%20%5B55.7706282%2C%2037.6489905%5D%2C%20%5B55.7709364%2C%2037.6322608%5D%2C%20%5B55.7508048%2C%2037.6672804%5D%2C%20%5B55.8188592%2C%2037.7972409%5D%2C%20%5B55.8234733%2C%2037.8112064%5D%2C%20%5B55.7632252%2C%2037.6352164%5D%2C%20%5B55.7765251%2C%2037.6571174%5D%2C%20%5B55.5689823%2C%2037.4890693%5D%2C%20%5B55.8886375%2C%2037.4339161%5D%2C%20%5B55.7120897%2C%2037.5604331%5D%2C%20%5B55.7111834%2C%2037.5618767%5D%2C%20%5B55.8110187%2C%2037.4977334%5D%2C%20%5B55.8080505%2C%2037.5822544%5D%2C%20%5B55.8081738%2C%2037.5835915%5D%2C%20%5B55.778795%2C%2037.6637252%5D%2C%20%5B55.6880357%2C%2037.3171328%5D%2C%20%5B55.8469755%2C%2037.5719976%5D%2C%20%5B55.8189292%2C%2037.3466465%5D%2C%20%5B55.7083514%2C%2037.5877265%5D%2C%20%5B55.647498%2C%2037.663343%5D%2C%20%5B55.725746%2C%2037.5995472%5D%2C%20%5B55.7910404%2C%2037.8152334%5D%2C%20%5B55.9736384%2C%2037.313198%5D%2C%20%5B55.9620309%2C%2037.3343834%5D%2C%20%5B55.96104%2C%2037.3365158%5D%2C%20%5B55.8721689%2C%2037.3323879%5D%2C%20%5B55.8060949%2C%2037.583789%5D%2C%20%5B56.0042723%2C%2037.2355252%5D%2C%20%5B55.9862551%2C%2037.2779953%5D%2C%20%5B55.9161622%2C%2037.7591618%5D%2C%20%5B55.6104954%2C%2037.7399796%5D%2C%20%5B55.8534624%2C%2037.3473023%5D%2C%20%5B55.9286123%2C%2037.1944807%5D%2C%20%5B55.9283907%2C%2037.1946537%5D%2C%20%5B55.8086046%2C%2037.4945299%5D%2C%20%5B55.7269779%2C%2037.6262587%5D%2C%20%5B55.837211%2C%2037.5500438%5D%2C%20%5B55.7119216%2C%2037.5599661%5D%2C%20%5B55.8369919%2C%2037.3520404%5D%2C%20%5B55.6786591%2C%2037.5606407%5D%2C%20%5B55.7907354%2C%2037.5584639%5D%2C%20%5B55.7933805%2C%2037.4925372%5D%2C%20%5B55.9358613%2C%2037.4929102%5D%2C%20%5B55.7747805%2C%2037.581329%5D%2C%20%5B55.7747989%2C%2037.5813914%5D%2C%20%5B55.778086%2C%2037.6477459%5D%2C%20%5B55.7767842%2C%2037.6491769%5D%2C%20%5B55.6730737%2C%2037.6207676%5D%2C%20%5B55.6996282%2C%2037.3439262%5D%2C%20%5B55.9110442%2C%2036.8652596%5D%2C%20%5B55.77352%2C%2037.665551%5D%2C%20%5B55.6103567%2C%2037.7462916%5D%2C%20%5B55.7610847%2C%2037.632429%5D%2C%20%5B55.7427491%2C%2037.5277613%5D%2C%20%5B55.7096917%2C%2037.6240823%5D%2C%20%5B55.6353759%2C%2037.7644455%5D%2C%20%5B55.8798578%2C%2037.5396341%5D%2C%20%5B55.7137872%2C%2037.7506784%5D%2C%20%5B55.7298628%2C%2036.8561563%5D%2C%20%5B55.6158638%2C%2037.2636046%5D%2C%20%5B55.7315626%2C%2037.6359911%5D%2C%20%5B55.7858543%2C%2037.667324%5D%2C%20%5B55.8386878%2C%2037.2922097%5D%2C%20%5B55.7657849%2C%2037.6605096%5D%2C%20%5B55.7657154%2C%2037.6083966%5D%2C%20%5B55.7686667%2C%2037.679056%5D%2C%20%5B55.720903%2C%2037.6214525%5D%2C%20%5B55.8056844%2C%2037.6273772%5D%2C%20%5B55.7965831%2C%2037.5944906%5D%2C%20%5B55.8063205%2C%2037.561292%5D%2C%20%5B55.6776576%2C%2037.6650394%5D%2C%20%5B55.72477%2C%2037.6431821%5D%2C%20%5B55.6458014%2C%2037.5197062%5D%2C%20%5B55.8528022%2C%2037.6091985%5D%2C%20%5B55.7061273%2C%2037.5934921%5D%2C%20%5B55.7188131%2C%2037.7856812%5D%2C%20%5B55.7936585%2C%2037.7143621%5D%2C%20%5B55.8617559%2C%2037.4367506%5D%2C%20%5B55.5749669%2C%2037.6466022%5D%2C%20%5B55.7000516%2C%2037.5018579%5D%2C%20%5B55.724907%2C%2037.745022%5D%2C%20%5B55.625718%2C%2037.307221%5D%2C%20%5B55.8359646%2C%2037.3857598%5D%2C%20%5B55.8892643%2C%2037.4516409%5D%2C%20%5B55.6907297%2C%2037.5396358%5D%2C%20%5B55.5479405%2C%2037.55684%5D%2C%20%5B55.7767793%2C%2037.5855012%5D%2C%20%5B55.7715953%2C%2037.6325659%5D%2C%20%5B55.6116488%2C%2037.6074834%5D%2C%20%5B55.6259192%2C%2037.7241364%5D%2C%20%5B55.6628247%2C%2037.4859762%5D%2C%20%5B55.6737287%2C%2037.2831709%5D%2C%20%5B55.8953072%2C%2037.410405%5D%2C%20%5B55.9486806%2C%2037.4980672%5D%2C%20%5B55.7492572%2C%2037.8603512%5D%2C%20%5B55.7165312%2C%2037.4078742%5D%2C%20%5B55.8435094%2C%2037.3568751%5D%2C%20%5B55.8462872%2C%2037.3584551%5D%2C%20%5B55.8462896%2C%2037.3585377%5D%2C%20%5B55.7057745%2C%2037.6562077%5D%2C%20%5B55.7142111%2C%2037.6698161%5D%2C%20%5B55.6511047%2C%2037.7485322%5D%2C%20%5B55.8455725%2C%2037.66093%5D%2C%20%5B55.845464%2C%2037.6610078%5D%2C%20%5B55.8944427%2C%2037.4509983%5D%2C%20%5B55.7429526%2C%2037.6298502%5D%2C%20%5B55.9298181%2C%2037.5442366%5D%2C%20%5B55.9289546%2C%2037.5405403%5D%2C%20%5B55.7553113%2C%2037.6616217%5D%2C%20%5B55.6035141%2C%2037.730851%5D%2C%20%5B55.7817077%2C%2037.5821069%5D%2C%20%5B55.728289%2C%2036.8627371%5D%2C%20%5B55.9842992%2C%2037.4308213%5D%2C%20%5B55.7326696%2C%2037.6240271%5D%2C%20%5B55.8473644%2C%2037.6395303%5D%2C%20%5B55.7475426%2C%2037.5389555%5D%2C%20%5B56.0053873%2C%2037.4870762%5D%2C%20%5B55.5973514%2C%2037.7201935%5D%2C%20%5B55.6144122%2C%2037.7437229%5D%2C%20%5B55.8232725%2C%2037.3366089%5D%2C%20%5B55.8921287%2C%2037.4397988%5D%2C%20%5B55.8314148%2C%2037.3210448%5D%2C%20%5B55.8986535%2C%2037.5899275%5D%2C%20%5B55.6941522%2C%2037.5584856%5D%2C%20%5B55.453722%2C%2037.7820382%5D%2C%20%5B55.8189158%2C%2037.5773992%5D%2C%20%5B55.8941481%2C%2037.4514409%5D%2C%20%5B55.7490737%2C%2037.8772562%5D%2C%20%5B55.7422915%2C%2037.6032748%5D%2C%20%5B55.7295003%2C%2037.6022091%5D%2C%20%5B55.72719%2C%2037.5984773%5D%2C%20%5B55.689161%2C%2037.5681446%5D%2C%20%5B55.6891602%2C%2037.5681755%5D%2C%20%5B55.6891757%2C%2037.5681514%5D%2C%20%5B55.7496538%2C%2037.8800902%5D%2C%20%5B55.7493784%2C%2037.8794984%5D%2C%20%5B55.9298465%2C%2037.5443379%5D%2C%20%5B55.8659281%2C%2037.4681114%5D%2C%20%5B55.6433552%2C%2037.7417802%5D%2C%20%5B55.7779661%2C%2037.4803211%5D%2C%20%5B55.8251762%2C%2037.6531774%5D%2C%20%5B55.7950289%2C%2037.7080734%5D%2C%20%5B55.7323313%2C%2037.6452997%5D%2C%20%5B55.6665257%2C%2037.6690274%5D%2C%20%5B55.802308%2C%2037.5829209%5D%2C%20%5B55.7095653%2C%2037.5419918%5D%2C%20%5B55.737043%2C%2037.6188849%5D%2C%20%5B55.7427959%2C%2037.628206%5D%2C%20%5B55.7399339%2C%2037.6093179%5D%2C%20%5B55.8910153%2C%2037.4460599%5D%2C%20%5B55.7588849%2C%2037.6592606%5D%2C%20%5B55.7543981%2C%2037.885347%5D%2C%20%5B55.6474271%2C%2037.7241029%5D%2C%20%5B55.6473939%2C%2037.722631%5D%2C%20%5B55.7407939%2C%2037.6573003%5D%2C%20%5B55.9045359%2C%2036.8577763%5D%2C%20%5B55.859912%2C%2037.4544243%5D%2C%20%5B55.861266%2C%2037.453106%5D%2C%20%5B55.8608009%2C%2037.4509247%5D%2C%20%5B55.8611542%2C%2037.4524854%5D%2C%20%5B55.8527973%2C%2037.4528566%5D%2C%20%5B55.5991934%2C%2037.1669612%5D%5D%2C%0A%20%20%20%20%20%20%20%20%20%20%20%20%20%20%20%20%7B%22blur%22%3A%2015%2C%20%22maxZoom%22%3A%2018%2C%20%22minOpacity%22%3A%200.5%2C%20%22radius%22%3A%2010%7D%0A%20%20%20%20%20%20%20%20%20%20%20%20%29.addTo%28map_182f07b5791141dba1569712cf1063e3%29%3B%0A%20%20%20%20%20%20%20%20%0A%3C/script%3E onload=\"this.contentDocument.open();this.contentDocument.write(    decodeURIComponent(this.getAttribute('data-html')));this.contentDocument.close();\" allowfullscreen webkitallowfullscreen mozallowfullscreen></iframe></div></div>"
            ],
            "text/plain": [
              "<folium.folium.Map at 0x7faa94727a10>"
            ]
          },
          "metadata": {
            "tags": []
          },
          "execution_count": 207
        }
      ]
    },
    {
      "cell_type": "code",
      "metadata": {
        "id": "xBG7BzUWIZy4",
        "outputId": "569d5e91-ad36-4c71-a8f7-5f9d10e050aa"
      },
      "source": [
        "# распределение тц\n",
        "visualisation(mall_osm)"
      ],
      "execution_count": null,
      "outputs": [
        {
          "output_type": "execute_result",
          "data": {
            "text/html": [
              "<div style=\"width:100%;\"><div style=\"position:relative;width:100%;height:0;padding-bottom:60%;\"><span style=\"color:#565656\">Make this Notebook Trusted to load map: File -> Trust Notebook</span><iframe src=\"about:blank\" style=\"position:absolute;width:100%;height:100%;left:0;top:0;border:none !important;\" data-html=%3C%21DOCTYPE%20html%3E%0A%3Chead%3E%20%20%20%20%0A%20%20%20%20%3Cmeta%20http-equiv%3D%22content-type%22%20content%3D%22text/html%3B%20charset%3DUTF-8%22%20/%3E%0A%20%20%20%20%0A%20%20%20%20%20%20%20%20%3Cscript%3E%0A%20%20%20%20%20%20%20%20%20%20%20%20L_NO_TOUCH%20%3D%20false%3B%0A%20%20%20%20%20%20%20%20%20%20%20%20L_DISABLE_3D%20%3D%20false%3B%0A%20%20%20%20%20%20%20%20%3C/script%3E%0A%20%20%20%20%0A%20%20%20%20%3Cstyle%3Ehtml%2C%20body%20%7Bwidth%3A%20100%25%3Bheight%3A%20100%25%3Bmargin%3A%200%3Bpadding%3A%200%3B%7D%3C/style%3E%0A%20%20%20%20%3Cstyle%3E%23map%20%7Bposition%3Aabsolute%3Btop%3A0%3Bbottom%3A0%3Bright%3A0%3Bleft%3A0%3B%7D%3C/style%3E%0A%20%20%20%20%3Cscript%20src%3D%22https%3A//cdn.jsdelivr.net/npm/leaflet%401.6.0/dist/leaflet.js%22%3E%3C/script%3E%0A%20%20%20%20%3Cscript%20src%3D%22https%3A//code.jquery.com/jquery-1.12.4.min.js%22%3E%3C/script%3E%0A%20%20%20%20%3Cscript%20src%3D%22https%3A//maxcdn.bootstrapcdn.com/bootstrap/3.2.0/js/bootstrap.min.js%22%3E%3C/script%3E%0A%20%20%20%20%3Cscript%20src%3D%22https%3A//cdnjs.cloudflare.com/ajax/libs/Leaflet.awesome-markers/2.0.2/leaflet.awesome-markers.js%22%3E%3C/script%3E%0A%20%20%20%20%3Clink%20rel%3D%22stylesheet%22%20href%3D%22https%3A//cdn.jsdelivr.net/npm/leaflet%401.6.0/dist/leaflet.css%22/%3E%0A%20%20%20%20%3Clink%20rel%3D%22stylesheet%22%20href%3D%22https%3A//maxcdn.bootstrapcdn.com/bootstrap/3.2.0/css/bootstrap.min.css%22/%3E%0A%20%20%20%20%3Clink%20rel%3D%22stylesheet%22%20href%3D%22https%3A//maxcdn.bootstrapcdn.com/bootstrap/3.2.0/css/bootstrap-theme.min.css%22/%3E%0A%20%20%20%20%3Clink%20rel%3D%22stylesheet%22%20href%3D%22https%3A//maxcdn.bootstrapcdn.com/font-awesome/4.6.3/css/font-awesome.min.css%22/%3E%0A%20%20%20%20%3Clink%20rel%3D%22stylesheet%22%20href%3D%22https%3A//cdnjs.cloudflare.com/ajax/libs/Leaflet.awesome-markers/2.0.2/leaflet.awesome-markers.css%22/%3E%0A%20%20%20%20%3Clink%20rel%3D%22stylesheet%22%20href%3D%22https%3A//cdn.jsdelivr.net/gh/python-visualization/folium/folium/templates/leaflet.awesome.rotate.min.css%22/%3E%0A%20%20%20%20%0A%20%20%20%20%20%20%20%20%20%20%20%20%3Cmeta%20name%3D%22viewport%22%20content%3D%22width%3Ddevice-width%2C%0A%20%20%20%20%20%20%20%20%20%20%20%20%20%20%20%20initial-scale%3D1.0%2C%20maximum-scale%3D1.0%2C%20user-scalable%3Dno%22%20/%3E%0A%20%20%20%20%20%20%20%20%20%20%20%20%3Cstyle%3E%0A%20%20%20%20%20%20%20%20%20%20%20%20%20%20%20%20%23map_583b63f52a614625b8cabf01bb5dbc23%20%7B%0A%20%20%20%20%20%20%20%20%20%20%20%20%20%20%20%20%20%20%20%20position%3A%20relative%3B%0A%20%20%20%20%20%20%20%20%20%20%20%20%20%20%20%20%20%20%20%20width%3A%20100.0%25%3B%0A%20%20%20%20%20%20%20%20%20%20%20%20%20%20%20%20%20%20%20%20height%3A%20100.0%25%3B%0A%20%20%20%20%20%20%20%20%20%20%20%20%20%20%20%20%20%20%20%20left%3A%200.0%25%3B%0A%20%20%20%20%20%20%20%20%20%20%20%20%20%20%20%20%20%20%20%20top%3A%200.0%25%3B%0A%20%20%20%20%20%20%20%20%20%20%20%20%20%20%20%20%7D%0A%20%20%20%20%20%20%20%20%20%20%20%20%3C/style%3E%0A%20%20%20%20%20%20%20%20%0A%20%20%20%20%3Cscript%20src%3D%22https%3A//cdn.jsdelivr.net/gh/python-visualization/folium%40master/folium/templates/leaflet_heat.min.js%22%3E%3C/script%3E%0A%3C/head%3E%0A%3Cbody%3E%20%20%20%20%0A%20%20%20%20%0A%20%20%20%20%20%20%20%20%20%20%20%20%3Cdiv%20class%3D%22folium-map%22%20id%3D%22map_583b63f52a614625b8cabf01bb5dbc23%22%20%3E%3C/div%3E%0A%20%20%20%20%20%20%20%20%0A%3C/body%3E%0A%3Cscript%3E%20%20%20%20%0A%20%20%20%20%0A%20%20%20%20%20%20%20%20%20%20%20%20var%20map_583b63f52a614625b8cabf01bb5dbc23%20%3D%20L.map%28%0A%20%20%20%20%20%20%20%20%20%20%20%20%20%20%20%20%22map_583b63f52a614625b8cabf01bb5dbc23%22%2C%0A%20%20%20%20%20%20%20%20%20%20%20%20%20%20%20%20%7B%0A%20%20%20%20%20%20%20%20%20%20%20%20%20%20%20%20%20%20%20%20center%3A%20%5B55.6%2C%2037.4%5D%2C%0A%20%20%20%20%20%20%20%20%20%20%20%20%20%20%20%20%20%20%20%20crs%3A%20L.CRS.EPSG3857%2C%0A%20%20%20%20%20%20%20%20%20%20%20%20%20%20%20%20%20%20%20%20zoom%3A%2011%2C%0A%20%20%20%20%20%20%20%20%20%20%20%20%20%20%20%20%20%20%20%20zoomControl%3A%20true%2C%0A%20%20%20%20%20%20%20%20%20%20%20%20%20%20%20%20%20%20%20%20preferCanvas%3A%20false%2C%0A%20%20%20%20%20%20%20%20%20%20%20%20%20%20%20%20%7D%0A%20%20%20%20%20%20%20%20%20%20%20%20%29%3B%0A%0A%20%20%20%20%20%20%20%20%20%20%20%20%0A%0A%20%20%20%20%20%20%20%20%0A%20%20%20%20%0A%20%20%20%20%20%20%20%20%20%20%20%20var%20tile_layer_285463a9d25b4bf4bbd53fff69d3bca9%20%3D%20L.tileLayer%28%0A%20%20%20%20%20%20%20%20%20%20%20%20%20%20%20%20%22https%3A//cartodb-basemaps-%7Bs%7D.global.ssl.fastly.net/light_all/%7Bz%7D/%7Bx%7D/%7By%7D.png%22%2C%0A%20%20%20%20%20%20%20%20%20%20%20%20%20%20%20%20%7B%22attribution%22%3A%20%22%5Cu0026copy%3B%20%5Cu003ca%20href%3D%5C%22http%3A//www.openstreetmap.org/copyright%5C%22%5Cu003eOpenStreetMap%5Cu003c/a%5Cu003e%20contributors%20%5Cu0026copy%3B%20%5Cu003ca%20href%3D%5C%22http%3A//cartodb.com/attributions%5C%22%5Cu003eCartoDB%5Cu003c/a%5Cu003e%2C%20CartoDB%20%5Cu003ca%20href%20%3D%5C%22http%3A//cartodb.com/attributions%5C%22%5Cu003eattributions%5Cu003c/a%5Cu003e%22%2C%20%22detectRetina%22%3A%20false%2C%20%22maxNativeZoom%22%3A%2018%2C%20%22maxZoom%22%3A%2018%2C%20%22minZoom%22%3A%200%2C%20%22noWrap%22%3A%20false%2C%20%22opacity%22%3A%201%2C%20%22subdomains%22%3A%20%22abc%22%2C%20%22tms%22%3A%20false%7D%0A%20%20%20%20%20%20%20%20%20%20%20%20%29.addTo%28map_583b63f52a614625b8cabf01bb5dbc23%29%3B%0A%20%20%20%20%20%20%20%20%0A%20%20%20%20%0A%20%20%20%20%20%20%20%20%20%20%20%20var%20heat_map_8adfb0d44f084bd3b87d250d688a39fb%20%3D%20L.heatLayer%28%0A%20%20%20%20%20%20%20%20%20%20%20%20%20%20%20%20%5B%5B55.6046219%2C%2037.7123014%5D%2C%20%5B55.4724014%2C%2037.3038313%5D%2C%20%5B55.7006142%2C%2037.8548311%5D%2C%20%5B55.7957485%2C%2037.5936274%5D%2C%20%5B55.7967721%2C%2037.5939098%5D%2C%20%5B56.0034781%2C%2037.8529423%5D%2C%20%5B55.6679542%2C%2037.590238%5D%2C%20%5B55.7043614%2C%2037.8343582%5D%2C%20%5B55.9932729%2C%2037.2132454%5D%2C%20%5B55.995724%2C%2037.2117502%5D%2C%20%5B55.6369458%2C%2037.5984585%5D%2C%20%5B55.9225356%2C%2037.8153986%5D%2C%20%5B55.7175357%2C%2037.4141378%5D%2C%20%5B55.269976%2C%2036.8233044%5D%2C%20%5B56.0034998%2C%2037.8577899%5D%2C%20%5B55.6908252%2C%2037.3035729%5D%2C%20%5B55.7951891%2C%2037.5938717%5D%2C%20%5B55.8211767%2C%2037.8264498%5D%2C%20%5B55.6825397%2C%2037.6629289%5D%2C%20%5B55.6530886%2C%2037.8224087%5D%2C%20%5B55.6787042%2C%2037.6447635%5D%2C%20%5B55.7473564%2C%2037.5451114%5D%2C%20%5B55.8073811%2C%2037.5294943%5D%2C%20%5B55.6029402%2C%2037.1683825%5D%2C%20%5B55.592027%2C%2037.3645643%5D%2C%20%5B55.6031986%2C%2037.1680229%5D%2C%20%5B55.6780956%2C%2037.5325222%5D%2C%20%5B55.5999501%2C%2037.0422059%5D%2C%20%5B55.7903254%2C%2037.5591928%5D%2C%20%5B55.4697788%2C%2037.296336%5D%2C%20%5B55.5064893%2C%2037.3425525%5D%2C%20%5B55.6778818%2C%2037.4088859%5D%2C%20%5B55.5962632%2C%2037.1144295%5D%2C%20%5B55.6109906%2C%2037.2957728%5D%2C%20%5B55.7108129%2C%2037.6106666%5D%2C%20%5B55.5967698%2C%2037.1141714%5D%2C%20%5B55.5987959%2C%2037.72531%5D%2C%20%5B55.6444619%2C%2036.8296619%5D%2C%20%5B55.7901444%2C%2037.3804167%5D%2C%20%5B55.7558312%2C%2037.6145884%5D%2C%20%5B55.6106378%2C%2037.1710397%5D%5D%2C%0A%20%20%20%20%20%20%20%20%20%20%20%20%20%20%20%20%7B%22blur%22%3A%2015%2C%20%22maxZoom%22%3A%2018%2C%20%22minOpacity%22%3A%200.5%2C%20%22radius%22%3A%2010%7D%0A%20%20%20%20%20%20%20%20%20%20%20%20%29.addTo%28map_583b63f52a614625b8cabf01bb5dbc23%29%3B%0A%20%20%20%20%20%20%20%20%0A%3C/script%3E onload=\"this.contentDocument.open();this.contentDocument.write(    decodeURIComponent(this.getAttribute('data-html')));this.contentDocument.close();\" allowfullscreen webkitallowfullscreen mozallowfullscreen></iframe></div></div>"
            ],
            "text/plain": [
              "<folium.folium.Map at 0x7faa946d77d0>"
            ]
          },
          "metadata": {
            "tags": []
          },
          "execution_count": 210
        }
      ]
    },
    {
      "cell_type": "markdown",
      "metadata": {
        "id": "inlA_nCmIZy4"
      },
      "source": [
        "### Fit model"
      ]
    },
    {
      "cell_type": "code",
      "metadata": {
        "id": "TZXq_LGvIZy4"
      },
      "source": [
        "X_train, X_valid, y_train, y_valid = train_test_split(train.drop('target', axis=1), train[['target']])\n",
        "model = LinearRegression().fit(X_train.drop('point_id', axis=1), y_train)"
      ],
      "execution_count": null,
      "outputs": []
    },
    {
      "cell_type": "code",
      "metadata": {
        "id": "ueCqRmu4IZy4",
        "outputId": "feb32738-a9d7-42c5-da8c-0df6866280d5"
      },
      "source": [
        "mean_absolute_error(y_valid, model.predict(X_valid.drop('point_id', axis=1)))"
      ],
      "execution_count": null,
      "outputs": [
        {
          "output_type": "execute_result",
          "data": {
            "text/plain": [
              "0.6989619688268327"
            ]
          },
          "metadata": {
            "tags": []
          },
          "execution_count": 175
        }
      ]
    },
    {
      "cell_type": "markdown",
      "metadata": {
        "id": "OEQQhCSFIZy5"
      },
      "source": [
        "### Make submission"
      ]
    },
    {
      "cell_type": "code",
      "metadata": {
        "id": "Ea_NaGr0IZy5"
      },
      "source": [
        "submission = pd.read_csv('data/sample_submission.csv')\n",
        "submission['target'] = model.predict(test.drop('point_id', axis=1))\n",
        "submission.to_csv('data/my_submission_01.csv', index=False)"
      ],
      "execution_count": null,
      "outputs": []
    }
  ]
}