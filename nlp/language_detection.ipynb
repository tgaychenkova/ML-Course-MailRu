{
  "nbformat": 4,
  "nbformat_minor": 0,
  "metadata": {
    "kernelspec": {
      "language": "python",
      "display_name": "Python 3",
      "name": "python3"
    },
    "language_info": {
      "name": "python",
      "version": "3.7.10",
      "mimetype": "text/x-python",
      "codemirror_mode": {
        "name": "ipython",
        "version": 3
      },
      "pygments_lexer": "ipython3",
      "nbconvert_exporter": "python",
      "file_extension": ".py"
    },
    "colab": {
      "name": "language-detection (2).ipynb",
      "provenance": [],
      "collapsed_sections": [
        "cz92jQUwr3Ij"
      ]
    }
  },
  "cells": [
    {
      "cell_type": "markdown",
      "metadata": {
        "toc": true,
        "id": "geusunvRr3IR"
      },
      "source": [
        "<h1>Table of Contents<span class=\"tocSkip\"></span></h1>\n",
        "<div class=\"toc\"><ul class=\"toc-item\"><li><span><a href=\"#Exploratory-Data-Analysis-and-Metric\" data-toc-modified-id=\"Exploratory-Data-Analysis-and-Metric-1\"><span class=\"toc-item-num\">1&nbsp;&nbsp;</span>Exploratory Data Analysis and Metric</a></span></li><li><span><a href=\"#Model\" data-toc-modified-id=\"Model-2\"><span class=\"toc-item-num\">2&nbsp;&nbsp;</span>Model</a></span></li><li><span><a href=\"#Submit\" data-toc-modified-id=\"Submit-3\"><span class=\"toc-item-num\">3&nbsp;&nbsp;</span>Submit</a></span></li><li><span><a href=\"#Homework\" data-toc-modified-id=\"Homework-4\"><span class=\"toc-item-num\">4&nbsp;&nbsp;</span>Homework</a></span></li></ul></div>"
      ]
    },
    {
      "cell_type": "code",
      "metadata": {
        "ExecuteTime": {
          "end_time": "2021-04-14T09:20:04.248094Z",
          "start_time": "2021-04-14T09:20:01.514286Z"
        },
        "trusted": true,
        "id": "9LFUryp_r3IS"
      },
      "source": [
        "import pandas as pd\n",
        "import numpy as np\n",
        "import matplotlib.pyplot as plt\n",
        "plt.style.use('ggplot')\n",
        "\n",
        "from sklearn.preprocessing  import LabelEncoder\n",
        "from sklearn.feature_extraction.text import CountVectorizer\n",
        "from sklearn.linear_model import SGDClassifier\n",
        "from sklearn.pipeline import Pipeline\n",
        "from sklearn.metrics import balanced_accuracy_score\n",
        "\n",
        "from sklearn.model_selection import train_test_split\n",
        "from sklearn.model_selection import GridSearchCV\n",
        "\n",
        "from IPython.display import FileLink"
      ],
      "execution_count": null,
      "outputs": []
    },
    {
      "cell_type": "code",
      "metadata": {
        "ExecuteTime": {
          "end_time": "2021-04-14T09:20:04.825956Z",
          "start_time": "2021-04-14T09:20:04.823335Z"
        },
        "trusted": true,
        "id": "0CMmKAnEr3IT"
      },
      "source": [
        "SEED = 42"
      ],
      "execution_count": null,
      "outputs": []
    },
    {
      "cell_type": "code",
      "metadata": {
        "ExecuteTime": {
          "end_time": "2021-04-14T09:20:05.350896Z",
          "start_time": "2021-04-14T09:20:05.347797Z"
        },
        "trusted": true,
        "id": "CAg9itJEr3IT"
      },
      "source": [
        "# код выполнялся из kaggle notebook, поэтому здесь прописан такой путь до файлов\n",
        "DATA_PATH = '../input/competition-data'"
      ],
      "execution_count": null,
      "outputs": []
    },
    {
      "cell_type": "markdown",
      "metadata": {
        "id": "vNvhTky4r3IT"
      },
      "source": [
        "**[Kaggle InClass: Language Detection](https://www.kaggle.com/t/bb11ace54b1a465e91b8c3f46a840ce0)**"
      ]
    },
    {
      "cell_type": "markdown",
      "metadata": {
        "ExecuteTime": {
          "end_time": "2020-10-30T12:22:00.913789Z",
          "start_time": "2020-10-30T12:22:00.909736Z"
        },
        "id": "OH2YGbFor3IU"
      },
      "source": [
        "# Exploratory Data Analysis and Metric"
      ]
    },
    {
      "cell_type": "code",
      "metadata": {
        "ExecuteTime": {
          "end_time": "2021-04-14T09:21:10.272384Z",
          "start_time": "2021-04-14T09:20:53.72357Z"
        },
        "trusted": true,
        "id": "JRfLz-nbr3IU"
      },
      "source": [
        "train_df = pd.read_csv(f'{DATA_PATH}/train.csv')\n",
        "test_df = pd.read_csv(f'{DATA_PATH}/test.csv')"
      ],
      "execution_count": null,
      "outputs": []
    },
    {
      "cell_type": "code",
      "metadata": {
        "ExecuteTime": {
          "end_time": "2021-04-14T09:21:16.634662Z",
          "start_time": "2021-04-14T09:21:16.627193Z"
        },
        "trusted": true,
        "id": "9xL8UwTKr3IV",
        "outputId": "08477254-f2fc-4a98-db78-d4ec373a377d"
      },
      "source": [
        "train_df.shape, test_df.shape"
      ],
      "execution_count": null,
      "outputs": [
        {
          "output_type": "execute_result",
          "data": {
            "text/plain": [
              "((3159633, 2), (2784634, 2))"
            ]
          },
          "metadata": {
            "tags": []
          },
          "execution_count": 5
        }
      ]
    },
    {
      "cell_type": "code",
      "metadata": {
        "ExecuteTime": {
          "end_time": "2021-04-14T09:21:25.5472Z",
          "start_time": "2021-04-14T09:21:25.511656Z"
        },
        "trusted": true,
        "id": "FESE9CAHr3IV",
        "outputId": "ca4323fd-682b-404f-db2b-456bf27bd89f"
      },
      "source": [
        "train_df.head(15)"
      ],
      "execution_count": null,
      "outputs": [
        {
          "output_type": "execute_result",
          "data": {
            "text/plain": [
              "                                             sentence language\n",
              "0   Pensez à la communication , le discours , les ...       fr\n",
              "1   Můžete si ji pronajmout , vzít na splátky , ko...       cs\n",
              "2   Každý starosta pochopil , že když mají tyto fo...       cs\n",
              "3   Det är ytterligare bevis , men ändå — Jag krit...       sv\n",
              "4                                 كان الأمر لا يصدق .       ar\n",
              "5             Na primjer , pjesnik ga opisuje ovako .       hr\n",
              "6   Semua rerumputan itu sekarang menutupi tanah s...       id\n",
              "7     Det är en enorm utmaning för oss att göra det .       sv\n",
              "8   Ono što ćete vidjeti - trebat ćete skočiti ovd...       hr\n",
              "9           ( Alqışlar ) Excel-dən istifadə etmişəm .       az\n",
              "10  После увольнения я решил собрать своих друзей ...       ru\n",
              "11           יכולתי בקלות למצוא את עצמי שם או ברחוב .       he\n",
              "12  この過去の遺産と決別することが これまで以上に急務です 互いを深く隔てる社会的不平等を終わら...       ja\n",
              "13  Ты знаешь , что это не гнев заставил моё сердц...       ru\n",
              "14                   Wie gehen wir so etwas also an ?       de"
            ],
            "text/html": [
              "<div>\n",
              "<style scoped>\n",
              "    .dataframe tbody tr th:only-of-type {\n",
              "        vertical-align: middle;\n",
              "    }\n",
              "\n",
              "    .dataframe tbody tr th {\n",
              "        vertical-align: top;\n",
              "    }\n",
              "\n",
              "    .dataframe thead th {\n",
              "        text-align: right;\n",
              "    }\n",
              "</style>\n",
              "<table border=\"1\" class=\"dataframe\">\n",
              "  <thead>\n",
              "    <tr style=\"text-align: right;\">\n",
              "      <th></th>\n",
              "      <th>sentence</th>\n",
              "      <th>language</th>\n",
              "    </tr>\n",
              "  </thead>\n",
              "  <tbody>\n",
              "    <tr>\n",
              "      <th>0</th>\n",
              "      <td>Pensez à la communication , le discours , les ...</td>\n",
              "      <td>fr</td>\n",
              "    </tr>\n",
              "    <tr>\n",
              "      <th>1</th>\n",
              "      <td>Můžete si ji pronajmout , vzít na splátky , ko...</td>\n",
              "      <td>cs</td>\n",
              "    </tr>\n",
              "    <tr>\n",
              "      <th>2</th>\n",
              "      <td>Každý starosta pochopil , že když mají tyto fo...</td>\n",
              "      <td>cs</td>\n",
              "    </tr>\n",
              "    <tr>\n",
              "      <th>3</th>\n",
              "      <td>Det är ytterligare bevis , men ändå — Jag krit...</td>\n",
              "      <td>sv</td>\n",
              "    </tr>\n",
              "    <tr>\n",
              "      <th>4</th>\n",
              "      <td>كان الأمر لا يصدق .</td>\n",
              "      <td>ar</td>\n",
              "    </tr>\n",
              "    <tr>\n",
              "      <th>5</th>\n",
              "      <td>Na primjer , pjesnik ga opisuje ovako .</td>\n",
              "      <td>hr</td>\n",
              "    </tr>\n",
              "    <tr>\n",
              "      <th>6</th>\n",
              "      <td>Semua rerumputan itu sekarang menutupi tanah s...</td>\n",
              "      <td>id</td>\n",
              "    </tr>\n",
              "    <tr>\n",
              "      <th>7</th>\n",
              "      <td>Det är en enorm utmaning för oss att göra det .</td>\n",
              "      <td>sv</td>\n",
              "    </tr>\n",
              "    <tr>\n",
              "      <th>8</th>\n",
              "      <td>Ono što ćete vidjeti - trebat ćete skočiti ovd...</td>\n",
              "      <td>hr</td>\n",
              "    </tr>\n",
              "    <tr>\n",
              "      <th>9</th>\n",
              "      <td>( Alqışlar ) Excel-dən istifadə etmişəm .</td>\n",
              "      <td>az</td>\n",
              "    </tr>\n",
              "    <tr>\n",
              "      <th>10</th>\n",
              "      <td>После увольнения я решил собрать своих друзей ...</td>\n",
              "      <td>ru</td>\n",
              "    </tr>\n",
              "    <tr>\n",
              "      <th>11</th>\n",
              "      <td>יכולתי בקלות למצוא את עצמי שם או ברחוב .</td>\n",
              "      <td>he</td>\n",
              "    </tr>\n",
              "    <tr>\n",
              "      <th>12</th>\n",
              "      <td>この過去の遺産と決別することが これまで以上に急務です 互いを深く隔てる社会的不平等を終わら...</td>\n",
              "      <td>ja</td>\n",
              "    </tr>\n",
              "    <tr>\n",
              "      <th>13</th>\n",
              "      <td>Ты знаешь , что это не гнев заставил моё сердц...</td>\n",
              "      <td>ru</td>\n",
              "    </tr>\n",
              "    <tr>\n",
              "      <th>14</th>\n",
              "      <td>Wie gehen wir so etwas also an ?</td>\n",
              "      <td>de</td>\n",
              "    </tr>\n",
              "  </tbody>\n",
              "</table>\n",
              "</div>"
            ]
          },
          "metadata": {
            "tags": []
          },
          "execution_count": 6
        }
      ]
    },
    {
      "cell_type": "code",
      "metadata": {
        "ExecuteTime": {
          "end_time": "2021-04-14T09:21:35.736651Z",
          "start_time": "2021-04-14T09:21:35.417248Z"
        },
        "trusted": true,
        "id": "9oX--9z7r3IW",
        "outputId": "be405083-a693-4a4a-cf59-8a3411b3adbc"
      },
      "source": [
        "lang_count = (\n",
        "    train_df.language.value_counts()\n",
        "    .to_frame()\n",
        "    .reset_index()\n",
        ")\n",
        "\n",
        "lang_count.head()"
      ],
      "execution_count": null,
      "outputs": [
        {
          "output_type": "execute_result",
          "data": {
            "text/plain": [
              "  index  language\n",
              "0    ru    181970\n",
              "1    en    157655\n",
              "2    fr    148585\n",
              "3    vi    113193\n",
              "4    ar    110032"
            ],
            "text/html": [
              "<div>\n",
              "<style scoped>\n",
              "    .dataframe tbody tr th:only-of-type {\n",
              "        vertical-align: middle;\n",
              "    }\n",
              "\n",
              "    .dataframe tbody tr th {\n",
              "        vertical-align: top;\n",
              "    }\n",
              "\n",
              "    .dataframe thead th {\n",
              "        text-align: right;\n",
              "    }\n",
              "</style>\n",
              "<table border=\"1\" class=\"dataframe\">\n",
              "  <thead>\n",
              "    <tr style=\"text-align: right;\">\n",
              "      <th></th>\n",
              "      <th>index</th>\n",
              "      <th>language</th>\n",
              "    </tr>\n",
              "  </thead>\n",
              "  <tbody>\n",
              "    <tr>\n",
              "      <th>0</th>\n",
              "      <td>ru</td>\n",
              "      <td>181970</td>\n",
              "    </tr>\n",
              "    <tr>\n",
              "      <th>1</th>\n",
              "      <td>en</td>\n",
              "      <td>157655</td>\n",
              "    </tr>\n",
              "    <tr>\n",
              "      <th>2</th>\n",
              "      <td>fr</td>\n",
              "      <td>148585</td>\n",
              "    </tr>\n",
              "    <tr>\n",
              "      <th>3</th>\n",
              "      <td>vi</td>\n",
              "      <td>113193</td>\n",
              "    </tr>\n",
              "    <tr>\n",
              "      <th>4</th>\n",
              "      <td>ar</td>\n",
              "      <td>110032</td>\n",
              "    </tr>\n",
              "  </tbody>\n",
              "</table>\n",
              "</div>"
            ]
          },
          "metadata": {
            "tags": []
          },
          "execution_count": 7
        }
      ]
    },
    {
      "cell_type": "code",
      "metadata": {
        "ExecuteTime": {
          "end_time": "2021-04-14T09:21:43.580282Z",
          "start_time": "2021-04-14T09:21:42.649761Z"
        },
        "trusted": true,
        "id": "_De5314Kr3IW",
        "outputId": "14ab7fe9-689d-489a-bbc6-89796d06892f"
      },
      "source": [
        "fig, ax = plt.subplots(figsize=(8,25))\n",
        "\n",
        "ax.barh(lang_count['index'], lang_count['language'])\n",
        "ax.invert_yaxis();"
      ],
      "execution_count": null,
      "outputs": [
        {
          "output_type": "display_data",
          "data": {
            "text/plain": [
              "<Figure size 576x1800 with 1 Axes>"
            ],
            "image/png": "[encoded data removed]"
          },
          "metadata": {
            "tags": []
          }
        }
      ]
    },
    {
      "cell_type": "code",
      "metadata": {
        "ExecuteTime": {
          "end_time": "2021-04-14T09:21:53.532174Z",
          "start_time": "2021-04-14T09:21:53.520559Z"
        },
        "trusted": true,
        "id": "1pZRRPHSr3IX",
        "outputId": "3bdd1a6a-2fdd-4806-c665-61f19f89f46c"
      },
      "source": [
        "lang_count[lang_count['index'].apply(lambda x: x in {\"en\", \"kk\"})]"
      ],
      "execution_count": null,
      "outputs": [
        {
          "output_type": "execute_result",
          "data": {
            "text/plain": [
              "   index  language\n",
              "1     en    157655\n",
              "58    kk      2046"
            ],
            "text/html": [
              "<div>\n",
              "<style scoped>\n",
              "    .dataframe tbody tr th:only-of-type {\n",
              "        vertical-align: middle;\n",
              "    }\n",
              "\n",
              "    .dataframe tbody tr th {\n",
              "        vertical-align: top;\n",
              "    }\n",
              "\n",
              "    .dataframe thead th {\n",
              "        text-align: right;\n",
              "    }\n",
              "</style>\n",
              "<table border=\"1\" class=\"dataframe\">\n",
              "  <thead>\n",
              "    <tr style=\"text-align: right;\">\n",
              "      <th></th>\n",
              "      <th>index</th>\n",
              "      <th>language</th>\n",
              "    </tr>\n",
              "  </thead>\n",
              "  <tbody>\n",
              "    <tr>\n",
              "      <th>1</th>\n",
              "      <td>en</td>\n",
              "      <td>157655</td>\n",
              "    </tr>\n",
              "    <tr>\n",
              "      <th>58</th>\n",
              "      <td>kk</td>\n",
              "      <td>2046</td>\n",
              "    </tr>\n",
              "  </tbody>\n",
              "</table>\n",
              "</div>"
            ]
          },
          "metadata": {
            "tags": []
          },
          "execution_count": 9
        }
      ]
    },
    {
      "cell_type": "markdown",
      "metadata": {
        "id": "rOu64UfKr3IX"
      },
      "source": [
        "Датасет сильно не сбалансирован по классам, а требуется хорошее качество для всех языков, поэтому метрика в данном соревновании — взвешенная доля правильных ответов:\n",
        "\n",
        "$$ \n",
        "\\text{WeightedAccuracy}\\left(y, \\hat{y}, w\\right) = \\frac{\\displaystyle{\\sum_{i=1}^{n}} w_i \\cdot \\left(y_i == \\hat{y}_i\\right)}{\\displaystyle\\sum_{i=1}^{n} w_i } \n",
        "$$\n",
        "\n",
        "Веса выбирались обратно пропорционально количеству примеров соответствующего языка:\n",
        "$$\n",
        "w\\left(\\text{\"en\"}\\right) \\sim \\frac{1}{157655}\n",
        "$$\n",
        "$$ \\dots $$\n",
        "$$\n",
        "w\\left(\\text{\"kk\"}\\right) \\sim \\frac{1}{2046}\n",
        "$$\n",
        "\n",
        "Поэтому для валидации можно использовать [sklearn.metrics.balanced_accuracy_score](https://scikit-learn.org/stable/modules/model_evaluation.html#balanced-accuracy-score)"
      ]
    },
    {
      "cell_type": "code",
      "metadata": {
        "trusted": true,
        "id": "19F-81GKr3IX",
        "outputId": "13300011-fcd0-4401-c6a7-463fbc3459e4"
      },
      "source": [
        "train_df.language.unique()"
      ],
      "execution_count": null,
      "outputs": [
        {
          "output_type": "execute_result",
          "data": {
            "text/plain": [
              "array(['fr', 'cs', 'sv', 'ar', 'hr', 'id', 'az', 'ru', 'he', 'ja', 'de',\n",
              "       'nl', 'zh-tw', 'ko', 'it', 'hu', 'en', 'fa', 'vi', 'bg', 'th',\n",
              "       'zh-cn', 'ku', 'tr', 'el', 'nb', 'es', 'pl', 'et', 'ro', 'sr',\n",
              "       'da', 'uk', 'pt-br', 'ka', 'ta', 'zh', 'sl', 'sk', 'lt', 'my',\n",
              "       'mn', 'fr-ca', 'mk', 'fi', 'sq', 'pt', 'eu', 'hy', 'hi', 'gl',\n",
              "       'bn', 'mr', 'bs', 'be', 'ms', 'eo', 'ur', 'kk'], dtype=object)"
            ]
          },
          "metadata": {
            "tags": []
          },
          "execution_count": 10
        }
      ]
    },
    {
      "cell_type": "code",
      "metadata": {
        "trusted": true,
        "id": "ckzNXkbSr3IY",
        "outputId": "ab5dbafe-9d68-4cfb-be02-afd286543a60"
      },
      "source": [
        "train_df.sentence.value_counts()"
      ],
      "execution_count": null,
      "outputs": [
        {
          "output_type": "execute_result",
          "data": {
            "text/plain": [
              "що це тому ми чи дуже які щоб дякую якщо було вона від мене ось                                                                                                                              75000\n",
              "гэта што калі мы не яны як але ён каб дзякуй больш пра на вы                                                                                                                                 50000\n",
              "это что мы не как на вы они но из то он так для аплодисменты                                                                                                                                 50000\n",
              "бұл мен біз бір үшін ол деп және емес бар керек бірақ олар қол осы                                                                                                                           50000\n",
              "що це ми не як на вони та але ви до про він оплески коли                                                                                                                                     50000\n",
              "                                                                                                                                                                                             ...  \n",
              "Je peux la décrire , ouah , dans ma tête , hein ? Ouah .                                                                                                                                         1\n",
              "Scopul e ca lumea să devină un loc mai bun .                                                                                                                                                     1\n",
              "ดังนั ้ น สิ ่ งที ่ เรากำลังทำอยู ่ ก ็ คือ การใชั กล ้ องสเปกโตรมีเตอร ์ นำทางด ้ วยเลเซอร ์ จาก CAO เพื ่ อทำแผนที ่ แสดงความหลากหลายทางชีวภาพ ขึ ้ นเป ็ นครั ้ งแรก ของป ่ าฝนอเมซอน        1\n",
              "詳しくは説明しませんが 米西海岸の 四角で囲った施設は 地域規模ノードと呼ばれています                                                                                                                                                      1\n",
              "Verrò licenziato ? &quot; &quot; Ho cominciato con il nostro segreto .                                                                                                                           1\n",
              "Name: sentence, Length: 2738555, dtype: int64"
            ]
          },
          "metadata": {
            "tags": []
          },
          "execution_count": 11
        }
      ]
    },
    {
      "cell_type": "code",
      "metadata": {
        "trusted": true,
        "id": "uaivHuQrr3IY",
        "outputId": "7ecfab1a-690e-433c-b0f6-d1eb787ecf47"
      },
      "source": [
        "train_df.duplicated().sum()"
      ],
      "execution_count": null,
      "outputs": [
        {
          "output_type": "execute_result",
          "data": {
            "text/plain": [
              "418005"
            ]
          },
          "metadata": {
            "tags": []
          },
          "execution_count": 12
        }
      ]
    },
    {
      "cell_type": "code",
      "metadata": {
        "trusted": true,
        "id": "2KvLr-Xzr3IZ",
        "outputId": "de5752ff-15ad-42ee-d419-7a9ca159c8ec"
      },
      "source": [
        "train_df.isna().sum()"
      ],
      "execution_count": null,
      "outputs": [
        {
          "output_type": "execute_result",
          "data": {
            "text/plain": [
              "sentence    0\n",
              "language    0\n",
              "dtype: int64"
            ]
          },
          "metadata": {
            "tags": []
          },
          "execution_count": 13
        }
      ]
    },
    {
      "cell_type": "code",
      "metadata": {
        "trusted": true,
        "id": "dWp4l-1dr3Ia",
        "outputId": "5fb19e5b-8e94-496f-f620-8e5ae5daf68f"
      },
      "source": [
        "train_df.query('sentence == \"гэта што калі мы не яны як але ён каб дзякуй больш пра на вы\"').language.value_counts()"
      ],
      "execution_count": null,
      "outputs": [
        {
          "output_type": "execute_result",
          "data": {
            "text/plain": [
              "ru    50000\n",
              "Name: language, dtype: int64"
            ]
          },
          "metadata": {
            "tags": []
          },
          "execution_count": 14
        }
      ]
    },
    {
      "cell_type": "code",
      "metadata": {
        "trusted": true,
        "id": "QNVp1Bldr3Ia",
        "outputId": "e185ab1b-f7bc-4e30-fc1c-4f1ba67e87c9"
      },
      "source": [
        "train_df.query('sentence == \"що це тому ми чи дуже які щоб дякую якщо було вона від мене ось\"').language.value_counts()"
      ],
      "execution_count": null,
      "outputs": [
        {
          "output_type": "execute_result",
          "data": {
            "text/plain": [
              "th    25000\n",
              "en    25000\n",
              "ru    25000\n",
              "Name: language, dtype: int64"
            ]
          },
          "metadata": {
            "tags": []
          },
          "execution_count": 15
        }
      ]
    },
    {
      "cell_type": "code",
      "metadata": {
        "trusted": true,
        "id": "ge2dbsNYr3Ib",
        "outputId": "1e8ce37f-3229-4d1c-8d99-cc1667c46950"
      },
      "source": [
        "train_df.query('sentence == \"это что мы не как на вы они но из то он так для аплодисменты\"').language.value_counts()"
      ],
      "execution_count": null,
      "outputs": [
        {
          "output_type": "execute_result",
          "data": {
            "text/plain": [
              "fr    50000\n",
              "Name: language, dtype: int64"
            ]
          },
          "metadata": {
            "tags": []
          },
          "execution_count": 16
        }
      ]
    },
    {
      "cell_type": "code",
      "metadata": {
        "trusted": true,
        "id": "OLSfUWX4r3Ib",
        "outputId": "7e75c341-84f8-40b5-c4e6-9cdc471489de"
      },
      "source": [
        "train_df.query('sentence == \"бұл мен біз бір үшін ол деп және емес бар керек бірақ олар қол осы\"').language.value_counts()"
      ],
      "execution_count": null,
      "outputs": [
        {
          "output_type": "execute_result",
          "data": {
            "text/plain": [
              "ku    50000\n",
              "Name: language, dtype: int64"
            ]
          },
          "metadata": {
            "tags": []
          },
          "execution_count": 17
        }
      ]
    },
    {
      "cell_type": "code",
      "metadata": {
        "trusted": true,
        "id": "qPxxeDsXr3Ib",
        "outputId": "3f937831-848f-4443-dacb-6d5b61750423"
      },
      "source": [
        "train_df.query('sentence == \"the and of it that you to apos we this is in they so are\"').language.value_counts()"
      ],
      "execution_count": null,
      "outputs": [
        {
          "output_type": "execute_result",
          "data": {
            "text/plain": [
              "ta    50000\n",
              "Name: language, dtype: int64"
            ]
          },
          "metadata": {
            "tags": []
          },
          "execution_count": 18
        }
      ]
    },
    {
      "cell_type": "code",
      "metadata": {
        "trusted": true,
        "id": "r-9pSyCgr3Ic",
        "outputId": "7071b5ae-f37d-48b9-ce7f-422520d35b47"
      },
      "source": [
        "train_df.query('sentence == \"що це ми не як на вони та але ви до про він оплески коли\"').language.value_counts()"
      ],
      "execution_count": null,
      "outputs": [
        {
          "output_type": "execute_result",
          "data": {
            "text/plain": [
              "et    50000\n",
              "Name: language, dtype: int64"
            ]
          },
          "metadata": {
            "tags": []
          },
          "execution_count": 19
        }
      ]
    },
    {
      "cell_type": "code",
      "metadata": {
        "trusted": true,
        "id": "U70GcWgvr3Ic",
        "outputId": "7cc28116-ce89-42b7-cf25-7369c3d5c076"
      },
      "source": [
        "train_df.query('sentence == \"笑聲 掌聲 謝謝 所以 現在 事實上 當然 因此 謝謝大家 對吧 但是 鼓掌 謝謝各位 他說 我說\"').language.value_counts()"
      ],
      "execution_count": null,
      "outputs": [
        {
          "output_type": "execute_result",
          "data": {
            "text/plain": [
              "vi    25000\n",
              "Name: language, dtype: int64"
            ]
          },
          "metadata": {
            "tags": []
          },
          "execution_count": 20
        }
      ]
    },
    {
      "cell_type": "code",
      "metadata": {
        "trusted": true,
        "id": "eKsZSfj3r3Ic",
        "outputId": "6f58e624-3f94-4c35-f373-c2405819e149"
      },
      "source": [
        "train_df.query('sentence == \"笑声 掌声 谢谢 现在 所以 事实上 当然 鼓掌 但是 因此 那么 非常感谢 谢谢大家 是的 好吧\"').language.value_counts()"
      ],
      "execution_count": null,
      "outputs": [
        {
          "output_type": "execute_result",
          "data": {
            "text/plain": [
              "th    25000\n",
              "Name: language, dtype: int64"
            ]
          },
          "metadata": {
            "tags": []
          },
          "execution_count": 21
        }
      ]
    },
    {
      "cell_type": "code",
      "metadata": {
        "trusted": true,
        "id": "lcat7QLVr3Ic"
      },
      "source": [
        "train_df.drop(train_df[train_df.sentence == \"гэта што калі мы не яны як але ён каб дзякуй больш пра на вы\"].index, \n",
        "              inplace=True)\n",
        "train_df.drop(train_df[train_df.sentence == \"що це тому ми чи дуже які щоб дякую якщо було вона від мене ось\"].index, \n",
        "              inplace=True)\n",
        "train_df.drop(train_df[train_df.sentence == \"the and of it that you to apos we this is in they so are\"].index, \n",
        "              inplace=True)\n",
        "train_df.drop(train_df[train_df.sentence == \"бұл мен біз бір үшін ол деп және емес бар керек бірақ олар қол осы\"].index, \n",
        "              inplace=True)\n",
        "train_df.drop(train_df[train_df.sentence == \"это что мы не как на вы они но из то он так для аплодисменты\"].index, \n",
        "              inplace=True)\n",
        "train_df.drop(train_df[train_df.sentence == \"що це ми не як на вони та але ви до про він оплески коли\"].index, \n",
        "              inplace=True)\n",
        "train_df.drop(train_df[train_df.sentence == \"笑聲 掌聲 謝謝 所以 現在 事實上 當然 因此 謝謝大家 對吧 但是 鼓掌 謝謝各位 他說 我說\"].index, \n",
        "              inplace=True)\n",
        "train_df.drop(train_df[train_df.sentence == \"笑声 掌声 谢谢 现在 所以 事实上 当然 鼓掌 但是 因此 那么 非常感谢 谢谢大家 是的 好吧\"].index, \n",
        "              inplace=True)"
      ],
      "execution_count": null,
      "outputs": []
    },
    {
      "cell_type": "code",
      "metadata": {
        "trusted": true,
        "id": "ZtdqT78Zr3Id",
        "outputId": "21611481-6569-4284-98ec-216ed2c49c06"
      },
      "source": [
        "train_df.sentence.value_counts()"
      ],
      "execution_count": null,
      "outputs": [
        {
          "output_type": "execute_result",
          "data": {
            "text/plain": [
              "( Aplausos )                                                                                                                       1279\n",
              "( Applaus )                                                                                                                        1067\n",
              "( Applause )                                                                                                                        835\n",
              "( تصفيق )                                                                                                                           643\n",
              "( 박수 )                                                                                                                              631\n",
              "                                                                                                                                   ... \n",
              "E esta questão é : como é que se faz um grande professor ?                                                                            1\n",
              "&#91; צליל יריית חץ &#93; &#91; מחיאות כפיים &#93; קשת יכולה לפעול כמנגנון פשוט , אבל כדי ליצור קשת טובה , נחוצה רגישות עצומה .       1\n",
              "ဒီလိုနေရာမျိုးမှာ တော ် တော ် ကို မှန ် ကန ် ပါတယ ်                                                                                   1\n",
              "Вернёмся к диапазону .                                                                                                                1\n",
              "Verrò licenziato ? &quot; &quot; Ho cominciato con il nostro segreto .                                                                1\n",
              "Name: sentence, Length: 2738547, dtype: int64"
            ]
          },
          "metadata": {
            "tags": []
          },
          "execution_count": 23
        }
      ]
    },
    {
      "cell_type": "code",
      "metadata": {
        "trusted": true,
        "id": "JTXKEHERr3Id",
        "outputId": "e6897315-c099-455c-95e7-b8b593a9b10c"
      },
      "source": [
        "train_df.duplicated().sum()"
      ],
      "execution_count": null,
      "outputs": [
        {
          "output_type": "execute_result",
          "data": {
            "text/plain": [
              "43015"
            ]
          },
          "metadata": {
            "tags": []
          },
          "execution_count": 24
        }
      ]
    },
    {
      "cell_type": "code",
      "metadata": {
        "trusted": true,
        "id": "EaV-Qcbcr3Ie",
        "outputId": "d4812193-8ccf-4335-bb27-2e1b54409b22"
      },
      "source": [
        "train_df.loc[train_df.duplicated() == True]"
      ],
      "execution_count": null,
      "outputs": [
        {
          "output_type": "execute_result",
          "data": {
            "text/plain": [
              "                   sentence language\n",
              "581                  （ 拍手 ）       ja\n",
              "1267              Gracias .       es\n",
              "2434              Gracias .       es\n",
              "2491                Merci .       fr\n",
              "2592       ( Tepuk tangan )       id\n",
              "...                     ...      ...\n",
              "3159128            为什么会这样 ？    zh-cn\n",
              "3159170              Tack .       sv\n",
              "3159305            תודה רבה       he\n",
              "3159317             Hvala .       sr\n",
              "3159459  Cảm ơn rất nhiều .       vi\n",
              "\n",
              "[43015 rows x 2 columns]"
            ],
            "text/html": [
              "<div>\n",
              "<style scoped>\n",
              "    .dataframe tbody tr th:only-of-type {\n",
              "        vertical-align: middle;\n",
              "    }\n",
              "\n",
              "    .dataframe tbody tr th {\n",
              "        vertical-align: top;\n",
              "    }\n",
              "\n",
              "    .dataframe thead th {\n",
              "        text-align: right;\n",
              "    }\n",
              "</style>\n",
              "<table border=\"1\" class=\"dataframe\">\n",
              "  <thead>\n",
              "    <tr style=\"text-align: right;\">\n",
              "      <th></th>\n",
              "      <th>sentence</th>\n",
              "      <th>language</th>\n",
              "    </tr>\n",
              "  </thead>\n",
              "  <tbody>\n",
              "    <tr>\n",
              "      <th>581</th>\n",
              "      <td>（ 拍手 ）</td>\n",
              "      <td>ja</td>\n",
              "    </tr>\n",
              "    <tr>\n",
              "      <th>1267</th>\n",
              "      <td>Gracias .</td>\n",
              "      <td>es</td>\n",
              "    </tr>\n",
              "    <tr>\n",
              "      <th>2434</th>\n",
              "      <td>Gracias .</td>\n",
              "      <td>es</td>\n",
              "    </tr>\n",
              "    <tr>\n",
              "      <th>2491</th>\n",
              "      <td>Merci .</td>\n",
              "      <td>fr</td>\n",
              "    </tr>\n",
              "    <tr>\n",
              "      <th>2592</th>\n",
              "      <td>( Tepuk tangan )</td>\n",
              "      <td>id</td>\n",
              "    </tr>\n",
              "    <tr>\n",
              "      <th>...</th>\n",
              "      <td>...</td>\n",
              "      <td>...</td>\n",
              "    </tr>\n",
              "    <tr>\n",
              "      <th>3159128</th>\n",
              "      <td>为什么会这样 ？</td>\n",
              "      <td>zh-cn</td>\n",
              "    </tr>\n",
              "    <tr>\n",
              "      <th>3159170</th>\n",
              "      <td>Tack .</td>\n",
              "      <td>sv</td>\n",
              "    </tr>\n",
              "    <tr>\n",
              "      <th>3159305</th>\n",
              "      <td>תודה רבה</td>\n",
              "      <td>he</td>\n",
              "    </tr>\n",
              "    <tr>\n",
              "      <th>3159317</th>\n",
              "      <td>Hvala .</td>\n",
              "      <td>sr</td>\n",
              "    </tr>\n",
              "    <tr>\n",
              "      <th>3159459</th>\n",
              "      <td>Cảm ơn rất nhiều .</td>\n",
              "      <td>vi</td>\n",
              "    </tr>\n",
              "  </tbody>\n",
              "</table>\n",
              "<p>43015 rows × 2 columns</p>\n",
              "</div>"
            ]
          },
          "metadata": {
            "tags": []
          },
          "execution_count": 25
        }
      ]
    },
    {
      "cell_type": "code",
      "metadata": {
        "trusted": true,
        "id": "f2kCUfdir3Ie"
      },
      "source": [
        "train_df.drop_duplicates(inplace=True)"
      ],
      "execution_count": null,
      "outputs": []
    },
    {
      "cell_type": "code",
      "metadata": {
        "trusted": true,
        "id": "ji0y1KHFr3If",
        "outputId": "2923cf52-690e-4f03-f1e0-b9ec4c4866bd"
      },
      "source": [
        "train_df.shape, test_df.shape"
      ],
      "execution_count": null,
      "outputs": [
        {
          "output_type": "execute_result",
          "data": {
            "text/plain": [
              "((2741618, 2), (2784634, 2))"
            ]
          },
          "metadata": {
            "tags": []
          },
          "execution_count": 27
        }
      ]
    },
    {
      "cell_type": "markdown",
      "metadata": {
        "id": "ohG-ZRh3r3If"
      },
      "source": [
        "# Model"
      ]
    },
    {
      "cell_type": "code",
      "metadata": {
        "trusted": true,
        "id": "iF7mhH8Fr3If"
      },
      "source": [
        "x = train_df.values[:, 0]\n",
        "label_encoder = LabelEncoder().fit(train_df.values[:, 1])\n",
        "y = label_encoder.transform(train_df.values[:, 1])\n",
        "\n",
        "X_train, X_test, y_train, y_test = train_test_split(x, \n",
        "                                                    y,\n",
        "                                                    test_size=0.2,\n",
        "                                                    random_state=SEED,\n",
        "                                                    shuffle=True)"
      ],
      "execution_count": null,
      "outputs": []
    },
    {
      "cell_type": "code",
      "metadata": {
        "trusted": true,
        "id": "8QLNo0l-r3Ig",
        "outputId": "cfd4d593-6404-4f1f-a20a-af18a52dca02"
      },
      "source": [
        "import string\n",
        "string.punctuation"
      ],
      "execution_count": null,
      "outputs": [
        {
          "output_type": "execute_result",
          "data": {
            "text/plain": [
              "'!\"#$%&\\'()*+,-./:;<=>?@[\\\\]^_`{|}~'"
            ]
          },
          "metadata": {
            "tags": []
          },
          "execution_count": 65
        }
      ]
    },
    {
      "cell_type": "code",
      "metadata": {
        "trusted": true,
        "id": "iOQb75O5r3Ig"
      },
      "source": [
        "def preprocessor(text):\n",
        "    symbols = [' ', '\\'', '`']\n",
        "    return ''.join([c for c in text if c.isalpha or c in symbols])"
      ],
      "execution_count": null,
      "outputs": []
    },
    {
      "cell_type": "code",
      "metadata": {
        "trusted": true,
        "id": "K5YAVzgpr3Ig"
      },
      "source": [
        "pipe = Pipeline([\n",
        "    ('vectorizer', CountVectorizer(preprocessor=preprocessor, ngram_range=(1, 2), analyzer='char_wb')),\n",
        "    ('model', SGDClassifier(random_state=SEED, loss='log', class_weight='balanced', n_jobs=-1))\n",
        "])"
      ],
      "execution_count": null,
      "outputs": []
    },
    {
      "cell_type": "code",
      "metadata": {
        "trusted": true,
        "id": "dY-1iYfWr3Ih",
        "outputId": "ffa12c4b-d8b5-477f-e769-99191269631a"
      },
      "source": [
        "pipe.fit(X_train, y_train)"
      ],
      "execution_count": null,
      "outputs": [
        {
          "output_type": "execute_result",
          "data": {
            "text/plain": [
              "Pipeline(steps=[('vectorizer',\n",
              "                 CountVectorizer(analyzer='char_wb', ngram_range=(1, 2),\n",
              "                                 preprocessor=<function preprocessor at 0x7f14709d59e0>)),\n",
              "                ('model',\n",
              "                 SGDClassifier(class_weight='balanced', loss='log', n_jobs=-1,\n",
              "                               random_state=42))])"
            ]
          },
          "metadata": {
            "tags": []
          },
          "execution_count": 68
        }
      ]
    },
    {
      "cell_type": "code",
      "metadata": {
        "trusted": true,
        "id": "SjHOA4y4r3Ih"
      },
      "source": [
        "test_predictions = pipe.predict(X_test)"
      ],
      "execution_count": null,
      "outputs": []
    },
    {
      "cell_type": "code",
      "metadata": {
        "trusted": true,
        "id": "CXQ-ruFpr3Ii",
        "outputId": "6a98f943-f186-4ca5-ddde-c784b178f127"
      },
      "source": [
        "balanced_accuracy_score(y_test, test_predictions)"
      ],
      "execution_count": null,
      "outputs": [
        {
          "output_type": "execute_result",
          "data": {
            "text/plain": [
              "0.9175677623476821"
            ]
          },
          "metadata": {
            "tags": []
          },
          "execution_count": 70
        }
      ]
    },
    {
      "cell_type": "markdown",
      "metadata": {
        "id": "zUDVG318r3Ii"
      },
      "source": [
        "# Submit"
      ]
    },
    {
      "cell_type": "code",
      "metadata": {
        "ExecuteTime": {
          "end_time": "2021-04-14T09:37:56.096959Z",
          "start_time": "2021-04-14T09:36:08.364057Z"
        },
        "trusted": true,
        "id": "5z-cf6Yer3Ii"
      },
      "source": [
        "submit_predictions = pipe.predict(test_df.sentence.values)"
      ],
      "execution_count": null,
      "outputs": []
    },
    {
      "cell_type": "code",
      "metadata": {
        "ExecuteTime": {
          "end_time": "2021-04-14T09:37:56.332183Z",
          "start_time": "2021-04-14T09:37:56.10704Z"
        },
        "trusted": true,
        "id": "EpZy7CPFr3Ij",
        "outputId": "a552ecbd-1b4f-4109-e7ef-e026bd05d04b"
      },
      "source": [
        "test_df['language'] = label_encoder.classes_[submit_predictions]\n",
        "\n",
        "test_df.head()"
      ],
      "execution_count": null,
      "outputs": [
        {
          "output_type": "execute_result",
          "data": {
            "text/plain": [
              "   index                                           sentence language\n",
              "0      0                                         תודה לכם .       he\n",
              "1      1  Precisamos de compaixão para começar , e auto-...       pt\n",
              "2      2                            這個增長相當大 ， 並且它將引發經濟的增長 。    zh-tw\n",
              "3      3                 시애틀에서 자란 제가 처음 가난을 보게 되던 때를 기억해요 .       ko\n",
              "4      4                                    これをロボットに組み込みました       ja"
            ],
            "text/html": [
              "<div>\n",
              "<style scoped>\n",
              "    .dataframe tbody tr th:only-of-type {\n",
              "        vertical-align: middle;\n",
              "    }\n",
              "\n",
              "    .dataframe tbody tr th {\n",
              "        vertical-align: top;\n",
              "    }\n",
              "\n",
              "    .dataframe thead th {\n",
              "        text-align: right;\n",
              "    }\n",
              "</style>\n",
              "<table border=\"1\" class=\"dataframe\">\n",
              "  <thead>\n",
              "    <tr style=\"text-align: right;\">\n",
              "      <th></th>\n",
              "      <th>index</th>\n",
              "      <th>sentence</th>\n",
              "      <th>language</th>\n",
              "    </tr>\n",
              "  </thead>\n",
              "  <tbody>\n",
              "    <tr>\n",
              "      <th>0</th>\n",
              "      <td>0</td>\n",
              "      <td>תודה לכם .</td>\n",
              "      <td>he</td>\n",
              "    </tr>\n",
              "    <tr>\n",
              "      <th>1</th>\n",
              "      <td>1</td>\n",
              "      <td>Precisamos de compaixão para começar , e auto-...</td>\n",
              "      <td>pt</td>\n",
              "    </tr>\n",
              "    <tr>\n",
              "      <th>2</th>\n",
              "      <td>2</td>\n",
              "      <td>這個增長相當大 ， 並且它將引發經濟的增長 。</td>\n",
              "      <td>zh-tw</td>\n",
              "    </tr>\n",
              "    <tr>\n",
              "      <th>3</th>\n",
              "      <td>3</td>\n",
              "      <td>시애틀에서 자란 제가 처음 가난을 보게 되던 때를 기억해요 .</td>\n",
              "      <td>ko</td>\n",
              "    </tr>\n",
              "    <tr>\n",
              "      <th>4</th>\n",
              "      <td>4</td>\n",
              "      <td>これをロボットに組み込みました</td>\n",
              "      <td>ja</td>\n",
              "    </tr>\n",
              "  </tbody>\n",
              "</table>\n",
              "</div>"
            ]
          },
          "metadata": {
            "tags": []
          },
          "execution_count": 72
        }
      ]
    },
    {
      "cell_type": "code",
      "metadata": {
        "trusted": true,
        "id": "kmWda-w1r3Ij"
      },
      "source": [
        "submission = pd.DataFrame(test_df[['index', 'language']])\n",
        "submission.columns = ['index', 'language']\n",
        "submission.to_csv('language_detection.csv', index=False)"
      ],
      "execution_count": null,
      "outputs": []
    },
    {
      "cell_type": "code",
      "metadata": {
        "trusted": true,
        "id": "jXn7ZUvgr3Ij",
        "outputId": "97e91afe-c34b-4408-f8e9-dfa36157bb49"
      },
      "source": [
        "from IPython.display import FileLink\n",
        "FileLink(r'language_detection.csv')"
      ],
      "execution_count": null,
      "outputs": [
        {
          "output_type": "execute_result",
          "data": {
            "text/plain": [
              "/kaggle/working/language_detection.csv"
            ],
            "text/html": [
              "<a href='language_detection.csv' target='_blank'>language_detection.csv</a><br>"
            ]
          },
          "metadata": {
            "tags": []
          },
          "execution_count": 74
        }
      ]
    },
    {
      "cell_type": "markdown",
      "metadata": {
        "id": "cz92jQUwr3Ij"
      },
      "source": [
        "# Homework\n",
        "\n",
        "- выбить хороший score на private leaderboard'е (8 баллов)\n",
        "- совет: поищите ошибки в train-части датасета"
      ]
    },
    {
      "cell_type": "code",
      "metadata": {
        "id": "xtaJjabWr3Ik"
      },
      "source": [
        ""
      ],
      "execution_count": null,
      "outputs": []
    }
  ]
}