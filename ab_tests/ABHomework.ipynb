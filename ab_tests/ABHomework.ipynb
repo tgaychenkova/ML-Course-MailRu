{
  "nbformat": 4,
  "nbformat_minor": 0,
  "metadata": {
    "kernelspec": {
      "display_name": "Python 3",
      "language": "python",
      "name": "python3"
    },
    "language_info": {
      "codemirror_mode": {
        "name": "ipython",
        "version": 3
      },
      "file_extension": ".py",
      "mimetype": "text/x-python",
      "name": "python",
      "nbconvert_exporter": "python",
      "pygments_lexer": "ipython3",
      "version": "3.7.4"
    },
    "colab": {
      "name": "ABHomework.ipynb",
      "provenance": [],
      "collapsed_sections": [
        "l5-wmAVPq3sr"
      ]
    },
    "accelerator": "TPU"
  },
  "cells": [
    {
      "cell_type": "markdown",
      "metadata": {
        "id": "RR5nCIOaq3qI"
      },
      "source": [
        "## AB Tests"
      ]
    },
    {
      "cell_type": "code",
      "metadata": {
        "colab": {
          "base_uri": "https://localhost:8080/",
          "height": 1000
        },
        "id": "qUNMGKCwq8OC",
        "outputId": "cfc9421e-0e09-4394-a0a1-13290a602468"
      },
      "source": [
        "pip install causalml"
      ],
      "execution_count": null,
      "outputs": [
        {
          "output_type": "stream",
          "text": [
            "Collecting causalml\n",
            "\u001b[?25l  Downloading https://files.pythonhosted.org/packages/44/ec/594b32198001b5babf79525958a4134dcbb44418b6296007aebe47024046/causalml-0.10.0.tar.gz (235kB)\n",
            "\u001b[K     |████████████████████████████████| 245kB 5.4MB/s \n",
            "\u001b[?25hRequirement already satisfied: setuptools>=41.0.0 in /usr/local/lib/python3.7/dist-packages (from causalml) (56.1.0)\n",
            "Requirement already satisfied: pip>=10.0 in /usr/local/lib/python3.7/dist-packages (from causalml) (19.3.1)\n",
            "Collecting numpy<1.19.0,>=0.16.0\n",
            "\u001b[?25l  Downloading https://files.pythonhosted.org/packages/d6/c6/58e517e8b1fb192725cfa23c01c2e60e4e6699314ee9684a1c5f5c9b27e1/numpy-1.18.5-cp37-cp37m-manylinux1_x86_64.whl (20.1MB)\n",
            "\u001b[K     |████████████████████████████████| 20.1MB 1.4MB/s \n",
            "\u001b[?25hRequirement already satisfied: scipy==1.4.1 in /usr/local/lib/python3.7/dist-packages (from causalml) (1.4.1)\n",
            "Requirement already satisfied: matplotlib in /usr/local/lib/python3.7/dist-packages (from causalml) (3.2.2)\n",
            "Requirement already satisfied: pandas>=0.24.1 in /usr/local/lib/python3.7/dist-packages (from causalml) (1.1.5)\n",
            "Requirement already satisfied: scikit-learn<0.24.0,>=0.22.0 in /usr/local/lib/python3.7/dist-packages (from causalml) (0.22.2.post1)\n",
            "Requirement already satisfied: statsmodels>=0.9.0 in /usr/local/lib/python3.7/dist-packages (from causalml) (0.10.2)\n",
            "Requirement already satisfied: seaborn in /usr/local/lib/python3.7/dist-packages (from causalml) (0.11.1)\n",
            "Requirement already satisfied: Cython>=0.28.0 in /usr/local/lib/python3.7/dist-packages (from causalml) (0.29.23)\n",
            "Requirement already satisfied: xgboost in /usr/local/lib/python3.7/dist-packages (from causalml) (0.90)\n",
            "Requirement already satisfied: pydotplus in /usr/local/lib/python3.7/dist-packages (from causalml) (2.0.2)\n",
            "Requirement already satisfied: tqdm in /usr/local/lib/python3.7/dist-packages (from causalml) (4.41.1)\n",
            "Collecting shap<0.38.1\n",
            "\u001b[?25l  Downloading https://files.pythonhosted.org/packages/85/a3/c0eab9dd6a894165e2cb87504ff5b2710ac5ede3447d9138620b7341b6a2/shap-0.37.0.tar.gz (326kB)\n",
            "\u001b[K     |████████████████████████████████| 327kB 27.3MB/s \n",
            "\u001b[?25hRequirement already satisfied: dill in /usr/local/lib/python3.7/dist-packages (from causalml) (0.3.3)\n",
            "Requirement already satisfied: lightgbm in /usr/local/lib/python3.7/dist-packages (from causalml) (2.2.3)\n",
            "Collecting pygam\n",
            "\u001b[?25l  Downloading https://files.pythonhosted.org/packages/13/be/775033ef08a8945bec6ad7973b161ca909f852442e0d7cfb8d1a214de1ac/pygam-0.8.0-py2.py3-none-any.whl (1.8MB)\n",
            "\u001b[K     |████████████████████████████████| 1.8MB 8.8MB/s \n",
            "\u001b[?25hRequirement already satisfied: packaging in /usr/local/lib/python3.7/dist-packages (from causalml) (20.9)\n",
            "Requirement already satisfied: keras in /usr/local/lib/python3.7/dist-packages (from causalml) (2.4.3)\n",
            "Requirement already satisfied: tensorflow>=1.15.2 in /usr/local/lib/python3.7/dist-packages (from causalml) (2.5.0)\n",
            "Requirement already satisfied: torch in /usr/local/lib/python3.7/dist-packages (from causalml) (1.8.1+cu101)\n",
            "Collecting pyro-ppl\n",
            "\u001b[?25l  Downloading https://files.pythonhosted.org/packages/aa/7a/fbab572fd385154a0c07b0fa138683aa52e14603bb83d37b198e5f9269b1/pyro_ppl-1.6.0-py3-none-any.whl (634kB)\n",
            "\u001b[K     |████████████████████████████████| 634kB 34.2MB/s \n",
            "\u001b[?25hRequirement already satisfied: python-dateutil>=2.1 in /usr/local/lib/python3.7/dist-packages (from matplotlib->causalml) (2.8.1)\n",
            "Requirement already satisfied: cycler>=0.10 in /usr/local/lib/python3.7/dist-packages (from matplotlib->causalml) (0.10.0)\n",
            "Requirement already satisfied: kiwisolver>=1.0.1 in /usr/local/lib/python3.7/dist-packages (from matplotlib->causalml) (1.3.1)\n",
            "Requirement already satisfied: pyparsing!=2.0.4,!=2.1.2,!=2.1.6,>=2.0.1 in /usr/local/lib/python3.7/dist-packages (from matplotlib->causalml) (2.4.7)\n",
            "Requirement already satisfied: pytz>=2017.2 in /usr/local/lib/python3.7/dist-packages (from pandas>=0.24.1->causalml) (2018.9)\n",
            "Requirement already satisfied: joblib>=0.11 in /usr/local/lib/python3.7/dist-packages (from scikit-learn<0.24.0,>=0.22.0->causalml) (1.0.1)\n",
            "Requirement already satisfied: patsy>=0.4.0 in /usr/local/lib/python3.7/dist-packages (from statsmodels>=0.9.0->causalml) (0.5.1)\n",
            "Collecting slicer==0.0.3\n",
            "  Downloading https://files.pythonhosted.org/packages/02/a6/c708c5a0f338e99cfbcb6288b88794525548e4fc1b8457feec2c552a81a4/slicer-0.0.3-py3-none-any.whl\n",
            "Requirement already satisfied: numba in /usr/local/lib/python3.7/dist-packages (from shap<0.38.1->causalml) (0.51.2)\n",
            "Requirement already satisfied: future in /usr/local/lib/python3.7/dist-packages (from pygam->causalml) (0.16.0)\n",
            "Requirement already satisfied: progressbar2 in /usr/local/lib/python3.7/dist-packages (from pygam->causalml) (3.38.0)\n",
            "Requirement already satisfied: pyyaml in /usr/local/lib/python3.7/dist-packages (from keras->causalml) (3.13)\n",
            "Requirement already satisfied: h5py in /usr/local/lib/python3.7/dist-packages (from keras->causalml) (3.1.0)\n",
            "Requirement already satisfied: absl-py~=0.10 in /usr/local/lib/python3.7/dist-packages (from tensorflow>=1.15.2->causalml) (0.12.0)\n",
            "Requirement already satisfied: google-pasta~=0.2 in /usr/local/lib/python3.7/dist-packages (from tensorflow>=1.15.2->causalml) (0.2.0)\n",
            "Requirement already satisfied: six~=1.15.0 in /usr/local/lib/python3.7/dist-packages (from tensorflow>=1.15.2->causalml) (1.15.0)\n",
            "Requirement already satisfied: wheel~=0.35 in /usr/local/lib/python3.7/dist-packages (from tensorflow>=1.15.2->causalml) (0.36.2)\n",
            "Requirement already satisfied: wrapt~=1.12.1 in /usr/local/lib/python3.7/dist-packages (from tensorflow>=1.15.2->causalml) (1.12.1)\n",
            "Requirement already satisfied: gast==0.4.0 in /usr/local/lib/python3.7/dist-packages (from tensorflow>=1.15.2->causalml) (0.4.0)\n",
            "Requirement already satisfied: flatbuffers~=1.12.0 in /usr/local/lib/python3.7/dist-packages (from tensorflow>=1.15.2->causalml) (1.12)\n",
            "Requirement already satisfied: opt-einsum~=3.3.0 in /usr/local/lib/python3.7/dist-packages (from tensorflow>=1.15.2->causalml) (3.3.0)\n",
            "Requirement already satisfied: tensorboard~=2.5 in /usr/local/lib/python3.7/dist-packages (from tensorflow>=1.15.2->causalml) (2.5.0)\n",
            "Requirement already satisfied: tensorflow-estimator<2.6.0,>=2.5.0rc0 in /usr/local/lib/python3.7/dist-packages (from tensorflow>=1.15.2->causalml) (2.5.0)\n",
            "Requirement already satisfied: keras-nightly~=2.5.0.dev in /usr/local/lib/python3.7/dist-packages (from tensorflow>=1.15.2->causalml) (2.5.0.dev2021032900)\n",
            "Requirement already satisfied: protobuf>=3.9.2 in /usr/local/lib/python3.7/dist-packages (from tensorflow>=1.15.2->causalml) (3.12.4)\n",
            "Requirement already satisfied: keras-preprocessing~=1.1.2 in /usr/local/lib/python3.7/dist-packages (from tensorflow>=1.15.2->causalml) (1.1.2)\n",
            "Requirement already satisfied: grpcio~=1.34.0 in /usr/local/lib/python3.7/dist-packages (from tensorflow>=1.15.2->causalml) (1.34.1)\n",
            "Requirement already satisfied: astunparse~=1.6.3 in /usr/local/lib/python3.7/dist-packages (from tensorflow>=1.15.2->causalml) (1.6.3)\n",
            "Requirement already satisfied: termcolor~=1.1.0 in /usr/local/lib/python3.7/dist-packages (from tensorflow>=1.15.2->causalml) (1.1.0)\n",
            "Requirement already satisfied: typing-extensions~=3.7.4 in /usr/local/lib/python3.7/dist-packages (from tensorflow>=1.15.2->causalml) (3.7.4.3)\n",
            "Collecting pyro-api>=0.1.1\n",
            "  Downloading https://files.pythonhosted.org/packages/fc/81/957ae78e6398460a7230b0eb9b8f1cb954c5e913e868e48d89324c68cec7/pyro_api-0.1.2-py3-none-any.whl\n",
            "Requirement already satisfied: llvmlite<0.35,>=0.34.0.dev0 in /usr/local/lib/python3.7/dist-packages (from numba->shap<0.38.1->causalml) (0.34.0)\n",
            "Requirement already satisfied: python-utils>=2.3.0 in /usr/local/lib/python3.7/dist-packages (from progressbar2->pygam->causalml) (2.5.6)\n",
            "Requirement already satisfied: cached-property; python_version < \"3.8\" in /usr/local/lib/python3.7/dist-packages (from h5py->keras->causalml) (1.5.2)\n",
            "Requirement already satisfied: google-auth<2,>=1.6.3 in /usr/local/lib/python3.7/dist-packages (from tensorboard~=2.5->tensorflow>=1.15.2->causalml) (1.30.0)\n",
            "Requirement already satisfied: markdown>=2.6.8 in /usr/local/lib/python3.7/dist-packages (from tensorboard~=2.5->tensorflow>=1.15.2->causalml) (3.3.4)\n",
            "Requirement already satisfied: werkzeug>=0.11.15 in /usr/local/lib/python3.7/dist-packages (from tensorboard~=2.5->tensorflow>=1.15.2->causalml) (1.0.1)\n",
            "Requirement already satisfied: requests<3,>=2.21.0 in /usr/local/lib/python3.7/dist-packages (from tensorboard~=2.5->tensorflow>=1.15.2->causalml) (2.23.0)\n",
            "Requirement already satisfied: google-auth-oauthlib<0.5,>=0.4.1 in /usr/local/lib/python3.7/dist-packages (from tensorboard~=2.5->tensorflow>=1.15.2->causalml) (0.4.4)\n",
            "Requirement already satisfied: tensorboard-plugin-wit>=1.6.0 in /usr/local/lib/python3.7/dist-packages (from tensorboard~=2.5->tensorflow>=1.15.2->causalml) (1.8.0)\n",
            "Requirement already satisfied: tensorboard-data-server<0.7.0,>=0.6.0 in /usr/local/lib/python3.7/dist-packages (from tensorboard~=2.5->tensorflow>=1.15.2->causalml) (0.6.1)\n",
            "Requirement already satisfied: pyasn1-modules>=0.2.1 in /usr/local/lib/python3.7/dist-packages (from google-auth<2,>=1.6.3->tensorboard~=2.5->tensorflow>=1.15.2->causalml) (0.2.8)\n",
            "Requirement already satisfied: cachetools<5.0,>=2.0.0 in /usr/local/lib/python3.7/dist-packages (from google-auth<2,>=1.6.3->tensorboard~=2.5->tensorflow>=1.15.2->causalml) (4.2.2)\n",
            "Requirement already satisfied: rsa<5,>=3.1.4; python_version >= \"3.6\" in /usr/local/lib/python3.7/dist-packages (from google-auth<2,>=1.6.3->tensorboard~=2.5->tensorflow>=1.15.2->causalml) (4.7.2)\n",
            "Requirement already satisfied: importlib-metadata; python_version < \"3.8\" in /usr/local/lib/python3.7/dist-packages (from markdown>=2.6.8->tensorboard~=2.5->tensorflow>=1.15.2->causalml) (4.0.1)\n",
            "Requirement already satisfied: certifi>=2017.4.17 in /usr/local/lib/python3.7/dist-packages (from requests<3,>=2.21.0->tensorboard~=2.5->tensorflow>=1.15.2->causalml) (2020.12.5)\n",
            "Requirement already satisfied: idna<3,>=2.5 in /usr/local/lib/python3.7/dist-packages (from requests<3,>=2.21.0->tensorboard~=2.5->tensorflow>=1.15.2->causalml) (2.10)\n",
            "Requirement already satisfied: urllib3!=1.25.0,!=1.25.1,<1.26,>=1.21.1 in /usr/local/lib/python3.7/dist-packages (from requests<3,>=2.21.0->tensorboard~=2.5->tensorflow>=1.15.2->causalml) (1.24.3)\n",
            "Requirement already satisfied: chardet<4,>=3.0.2 in /usr/local/lib/python3.7/dist-packages (from requests<3,>=2.21.0->tensorboard~=2.5->tensorflow>=1.15.2->causalml) (3.0.4)\n",
            "Requirement already satisfied: requests-oauthlib>=0.7.0 in /usr/local/lib/python3.7/dist-packages (from google-auth-oauthlib<0.5,>=0.4.1->tensorboard~=2.5->tensorflow>=1.15.2->causalml) (1.3.0)\n",
            "Requirement already satisfied: pyasn1<0.5.0,>=0.4.6 in /usr/local/lib/python3.7/dist-packages (from pyasn1-modules>=0.2.1->google-auth<2,>=1.6.3->tensorboard~=2.5->tensorflow>=1.15.2->causalml) (0.4.8)\n",
            "Requirement already satisfied: zipp>=0.5 in /usr/local/lib/python3.7/dist-packages (from importlib-metadata; python_version < \"3.8\"->markdown>=2.6.8->tensorboard~=2.5->tensorflow>=1.15.2->causalml) (3.4.1)\n",
            "Requirement already satisfied: oauthlib>=3.0.0 in /usr/local/lib/python3.7/dist-packages (from requests-oauthlib>=0.7.0->google-auth-oauthlib<0.5,>=0.4.1->tensorboard~=2.5->tensorflow>=1.15.2->causalml) (3.1.0)\n",
            "Building wheels for collected packages: causalml, shap\n",
            "  Building wheel for causalml (setup.py) ... \u001b[?25l\u001b[?25hdone\n",
            "  Created wheel for causalml: filename=causalml-0.10.0-cp37-cp37m-linux_x86_64.whl size=493712 sha256=e091f2e72085c9cd6f0f592d990f103803b9bd427f7f04392419dc1ebe91865f\n",
            "  Stored in directory: /root/.cache/pip/wheels/81/7f/44/c9d5ecf03f0d950f53302a5eab1c76bec07bcd5868753e22bf\n",
            "  Building wheel for shap (setup.py) ... \u001b[?25l\u001b[?25hdone\n",
            "  Created wheel for shap: filename=shap-0.37.0-cp37-cp37m-linux_x86_64.whl size=465047 sha256=40bcfda1534c7d2ca6976aad923fecfc747af1d08e41712b727decdbde1c5e6d\n",
            "  Stored in directory: /root/.cache/pip/wheels/df/ad/b0/aa7815ec68850d66551ef618095eccb962c8f6022f1d3dd989\n",
            "Successfully built causalml shap\n",
            "\u001b[31mERROR: tensorflow 2.5.0 has requirement numpy~=1.19.2, but you'll have numpy 1.18.5 which is incompatible.\u001b[0m\n",
            "\u001b[31mERROR: datascience 0.10.6 has requirement folium==0.2.1, but you'll have folium 0.8.3 which is incompatible.\u001b[0m\n",
            "\u001b[31mERROR: albumentations 0.1.12 has requirement imgaug<0.2.7,>=0.2.5, but you'll have imgaug 0.2.9 which is incompatible.\u001b[0m\n",
            "Installing collected packages: numpy, slicer, shap, pygam, pyro-api, pyro-ppl, causalml\n",
            "  Found existing installation: numpy 1.19.5\n",
            "    Uninstalling numpy-1.19.5:\n",
            "      Successfully uninstalled numpy-1.19.5\n",
            "Successfully installed causalml-0.10.0 numpy-1.18.5 pygam-0.8.0 pyro-api-0.1.2 pyro-ppl-1.6.0 shap-0.37.0 slicer-0.0.3\n"
          ],
          "name": "stdout"
        },
        {
          "output_type": "display_data",
          "data": {
            "application/vnd.colab-display-data+json": {
              "pip_warning": {
                "packages": [
                  "numpy"
                ]
              }
            }
          },
          "metadata": {
            "tags": []
          }
        }
      ]
    },
    {
      "cell_type": "code",
      "metadata": {
        "colab": {
          "base_uri": "https://localhost:8080/"
        },
        "id": "KvC4uGINq3qL",
        "outputId": "78a09165-6bcf-44c8-eed3-291c663ffd27"
      },
      "source": [
        "import numpy as np\n",
        "import pandas as pd\n",
        "import scipy.stats as sps\n",
        "import statistics\n",
        "import seaborn as sns\n",
        "import matplotlib.pyplot as plt\n",
        "%matplotlib inline\n",
        "\n",
        "from sklearn.linear_model import SGDClassifier\n",
        "from sklearn.model_selection import cross_val_score\n",
        "\n",
        "from statsmodels.stats.power import ttest_power\n",
        "\n",
        "import statsmodels.api as sm\n",
        "\n",
        "from lightgbm import LGBMRegressor\n",
        "from causalml.inference.meta import LRSRegressor\n",
        "from causalml.inference.meta import BaseSRegressor\n",
        "from causalml.inference.meta import BaseTRegressor\n",
        "from causalml.inference.meta import BaseXRegressor"
      ],
      "execution_count": null,
      "outputs": [
        {
          "output_type": "stream",
          "text": [
            "/usr/local/lib/python3.7/dist-packages/statsmodels/tools/_testing.py:19: FutureWarning: pandas.util.testing is deprecated. Use the functions in the public API at pandas.testing instead.\n",
            "  import pandas.util.testing as tm\n"
          ],
          "name": "stderr"
        }
      ]
    },
    {
      "cell_type": "code",
      "metadata": {
        "id": "oYMI1ev6q3qV"
      },
      "source": [
        "# PATH = './student_data'"
      ],
      "execution_count": null,
      "outputs": []
    },
    {
      "cell_type": "code",
      "metadata": {
        "colab": {
          "base_uri": "https://localhost:8080/",
          "height": 54
        },
        "id": "v6EavgZ2q3qd",
        "outputId": "7960de8d-c6cc-40b9-c383-db91a528ea86"
      },
      "source": [
        "\"\"\"\n",
        "df_1 = pd.read_csv(f'{PATH}/dataset_part1_students.csv', sep='\\t')\n",
        "df_2 = pd.read_csv(f'{PATH}/dataset_part2_students.csv', sep='\\t')\n",
        "df_3 = pd.read_csv(f'{PATH}/dataset_part3_students.csv', sep='\\t')\n",
        "\"\"\""
      ],
      "execution_count": null,
      "outputs": [
        {
          "output_type": "execute_result",
          "data": {
            "application/vnd.google.colaboratory.intrinsic+json": {
              "type": "string"
            },
            "text/plain": [
              "\"\\ndf_1 = pd.read_csv(f'{PATH}/dataset_part1_students.csv', sep='\\t')\\ndf_2 = pd.read_csv(f'{PATH}/dataset_part2_students.csv', sep='\\t')\\ndf_3 = pd.read_csv(f'{PATH}/dataset_part3_students.csv', sep='\\t')\\n\""
            ]
          },
          "metadata": {
            "tags": []
          },
          "execution_count": 4
        }
      ]
    },
    {
      "cell_type": "code",
      "metadata": {
        "id": "3PnjGQSDrBb-"
      },
      "source": [
        "df_1 = pd.read_csv('dataset_part1_students.csv', sep='\\t')\n",
        "df_2 = pd.read_csv('dataset_part2_students.csv', sep='\\t')\n",
        "df_3 = pd.read_csv('dataset_part3_students.csv', sep='\\t')"
      ],
      "execution_count": null,
      "outputs": []
    },
    {
      "cell_type": "markdown",
      "metadata": {
        "id": "1L1Zp8Rgq3qe"
      },
      "source": [
        "### 1. Оценка результатов AB теста"
      ]
    },
    {
      "cell_type": "markdown",
      "metadata": {
        "id": "Rfb-5yH1q3qf"
      },
      "source": [
        "В данном задании вам требуется оценить результаты AB теста. Даны результаты на контрольной и тестовой группе после проведения AB теста.\n",
        "Помимо показателей целевой переменной, вам даны также несколько фичей, которые являются характеристиками объектов. Даны целевые показатели (y) и принадлежность к целевой группе (W).\n",
        "\n",
        "</u>Задача:</u>\n",
        "1. Проверьте подходящую для данных гипотезу о равенстве средних в выборках\n",
        "2. Каков treatment effect нашего воздействия? (ATE) \n",
        "3. Примените известные вам методы оценки ATE с учетом особенностей данных.\n",
        "4. Проанализируйте, сравните результаты применения различных методов.\n",
        "5. В явном виде выпишите выводы.\n",
        "\n",
        "</i>Примечание: предположения о рандомизированном эксперименте нуждаются в проверке - независимость treatment от объектов не гарантирована. Все предположения выписывайте явно.</i> \n",
        "\n",
        "Для данной задачи используется dataset:  dataset_part1_students.csv"
      ]
    },
    {
      "cell_type": "code",
      "metadata": {
        "scrolled": true,
        "colab": {
          "base_uri": "https://localhost:8080/",
          "height": 204
        },
        "id": "IqyvT3QWq3qo",
        "outputId": "e3c12fa2-a48b-46f6-d18a-252157313374"
      },
      "source": [
        "df_1.head()"
      ],
      "execution_count": null,
      "outputs": [
        {
          "output_type": "execute_result",
          "data": {
            "text/html": [
              "<div>\n",
              "<style scoped>\n",
              "    .dataframe tbody tr th:only-of-type {\n",
              "        vertical-align: middle;\n",
              "    }\n",
              "\n",
              "    .dataframe tbody tr th {\n",
              "        vertical-align: top;\n",
              "    }\n",
              "\n",
              "    .dataframe thead th {\n",
              "        text-align: right;\n",
              "    }\n",
              "</style>\n",
              "<table border=\"1\" class=\"dataframe\">\n",
              "  <thead>\n",
              "    <tr style=\"text-align: right;\">\n",
              "      <th></th>\n",
              "      <th>y</th>\n",
              "      <th>W</th>\n",
              "      <th>X_1</th>\n",
              "      <th>X_2</th>\n",
              "      <th>X_3</th>\n",
              "      <th>X_4</th>\n",
              "      <th>X_5</th>\n",
              "      <th>X_6</th>\n",
              "      <th>X_7</th>\n",
              "      <th>X_8</th>\n",
              "      <th>X_9</th>\n",
              "      <th>X_10</th>\n",
              "    </tr>\n",
              "  </thead>\n",
              "  <tbody>\n",
              "    <tr>\n",
              "      <th>0</th>\n",
              "      <td>-1.459404</td>\n",
              "      <td>0.0</td>\n",
              "      <td>0.986277</td>\n",
              "      <td>0.873392</td>\n",
              "      <td>0.509746</td>\n",
              "      <td>0.271836</td>\n",
              "      <td>0.336919</td>\n",
              "      <td>0.216954</td>\n",
              "      <td>0.276477</td>\n",
              "      <td>0.343316</td>\n",
              "      <td>0.862159</td>\n",
              "      <td>0.156700</td>\n",
              "    </tr>\n",
              "    <tr>\n",
              "      <th>1</th>\n",
              "      <td>-1.694174</td>\n",
              "      <td>0.0</td>\n",
              "      <td>0.140887</td>\n",
              "      <td>0.757080</td>\n",
              "      <td>0.736325</td>\n",
              "      <td>0.355663</td>\n",
              "      <td>0.341093</td>\n",
              "      <td>0.666803</td>\n",
              "      <td>0.217101</td>\n",
              "      <td>0.561427</td>\n",
              "      <td>0.124179</td>\n",
              "      <td>0.319736</td>\n",
              "    </tr>\n",
              "    <tr>\n",
              "      <th>2</th>\n",
              "      <td>5.378374</td>\n",
              "      <td>0.0</td>\n",
              "      <td>0.953214</td>\n",
              "      <td>0.137357</td>\n",
              "      <td>0.569413</td>\n",
              "      <td>0.975665</td>\n",
              "      <td>0.503367</td>\n",
              "      <td>0.667664</td>\n",
              "      <td>0.034191</td>\n",
              "      <td>0.456119</td>\n",
              "      <td>0.155851</td>\n",
              "      <td>0.476049</td>\n",
              "    </tr>\n",
              "    <tr>\n",
              "      <th>3</th>\n",
              "      <td>2.188189</td>\n",
              "      <td>1.0</td>\n",
              "      <td>0.169702</td>\n",
              "      <td>0.896258</td>\n",
              "      <td>0.373394</td>\n",
              "      <td>0.379693</td>\n",
              "      <td>0.858317</td>\n",
              "      <td>0.646061</td>\n",
              "      <td>0.583462</td>\n",
              "      <td>0.668350</td>\n",
              "      <td>0.177793</td>\n",
              "      <td>0.849248</td>\n",
              "    </tr>\n",
              "    <tr>\n",
              "      <th>4</th>\n",
              "      <td>2.862696</td>\n",
              "      <td>1.0</td>\n",
              "      <td>0.442373</td>\n",
              "      <td>0.831468</td>\n",
              "      <td>0.763921</td>\n",
              "      <td>0.919691</td>\n",
              "      <td>0.070573</td>\n",
              "      <td>0.156165</td>\n",
              "      <td>0.636894</td>\n",
              "      <td>0.555696</td>\n",
              "      <td>0.191929</td>\n",
              "      <td>0.425656</td>\n",
              "    </tr>\n",
              "  </tbody>\n",
              "</table>\n",
              "</div>"
            ],
            "text/plain": [
              "          y    W       X_1       X_2  ...       X_7       X_8       X_9      X_10\n",
              "0 -1.459404  0.0  0.986277  0.873392  ...  0.276477  0.343316  0.862159  0.156700\n",
              "1 -1.694174  0.0  0.140887  0.757080  ...  0.217101  0.561427  0.124179  0.319736\n",
              "2  5.378374  0.0  0.953214  0.137357  ...  0.034191  0.456119  0.155851  0.476049\n",
              "3  2.188189  1.0  0.169702  0.896258  ...  0.583462  0.668350  0.177793  0.849248\n",
              "4  2.862696  1.0  0.442373  0.831468  ...  0.636894  0.555696  0.191929  0.425656\n",
              "\n",
              "[5 rows x 12 columns]"
            ]
          },
          "metadata": {
            "tags": []
          },
          "execution_count": 6
        }
      ]
    },
    {
      "cell_type": "code",
      "metadata": {
        "colab": {
          "base_uri": "https://localhost:8080/"
        },
        "id": "N_HipMmmq3qw",
        "outputId": "5d9556da-fefd-414b-d9ca-5af51a26a0c5"
      },
      "source": [
        "df_1.info()"
      ],
      "execution_count": null,
      "outputs": [
        {
          "output_type": "stream",
          "text": [
            "<class 'pandas.core.frame.DataFrame'>\n",
            "RangeIndex: 20000 entries, 0 to 19999\n",
            "Data columns (total 12 columns):\n",
            " #   Column  Non-Null Count  Dtype  \n",
            "---  ------  --------------  -----  \n",
            " 0   y       20000 non-null  float64\n",
            " 1   W       20000 non-null  float64\n",
            " 2   X_1     20000 non-null  float64\n",
            " 3   X_2     20000 non-null  float64\n",
            " 4   X_3     20000 non-null  float64\n",
            " 5   X_4     20000 non-null  float64\n",
            " 6   X_5     20000 non-null  float64\n",
            " 7   X_6     20000 non-null  float64\n",
            " 8   X_7     20000 non-null  float64\n",
            " 9   X_8     20000 non-null  float64\n",
            " 10  X_9     20000 non-null  float64\n",
            " 11  X_10    20000 non-null  float64\n",
            "dtypes: float64(12)\n",
            "memory usage: 1.8 MB\n"
          ],
          "name": "stdout"
        }
      ]
    },
    {
      "cell_type": "code",
      "metadata": {
        "colab": {
          "base_uri": "https://localhost:8080/",
          "height": 317
        },
        "id": "Ni5tP6twq3qy",
        "outputId": "f9e774f5-32e1-4c81-aee5-165e89c88944"
      },
      "source": [
        "df_1.describe()"
      ],
      "execution_count": null,
      "outputs": [
        {
          "output_type": "execute_result",
          "data": {
            "text/html": [
              "<div>\n",
              "<style scoped>\n",
              "    .dataframe tbody tr th:only-of-type {\n",
              "        vertical-align: middle;\n",
              "    }\n",
              "\n",
              "    .dataframe tbody tr th {\n",
              "        vertical-align: top;\n",
              "    }\n",
              "\n",
              "    .dataframe thead th {\n",
              "        text-align: right;\n",
              "    }\n",
              "</style>\n",
              "<table border=\"1\" class=\"dataframe\">\n",
              "  <thead>\n",
              "    <tr style=\"text-align: right;\">\n",
              "      <th></th>\n",
              "      <th>y</th>\n",
              "      <th>W</th>\n",
              "      <th>X_1</th>\n",
              "      <th>X_2</th>\n",
              "      <th>X_3</th>\n",
              "      <th>X_4</th>\n",
              "      <th>X_5</th>\n",
              "      <th>X_6</th>\n",
              "      <th>X_7</th>\n",
              "      <th>X_8</th>\n",
              "      <th>X_9</th>\n",
              "      <th>X_10</th>\n",
              "    </tr>\n",
              "  </thead>\n",
              "  <tbody>\n",
              "    <tr>\n",
              "      <th>count</th>\n",
              "      <td>20000.000000</td>\n",
              "      <td>20000.000000</td>\n",
              "      <td>20000.000000</td>\n",
              "      <td>20000.000000</td>\n",
              "      <td>20000.000000</td>\n",
              "      <td>20000.000000</td>\n",
              "      <td>20000.000000</td>\n",
              "      <td>20000.000000</td>\n",
              "      <td>20000.000000</td>\n",
              "      <td>20000.000000</td>\n",
              "      <td>20000.000000</td>\n",
              "      <td>20000.000000</td>\n",
              "    </tr>\n",
              "    <tr>\n",
              "      <th>mean</th>\n",
              "      <td>2.075323</td>\n",
              "      <td>0.522300</td>\n",
              "      <td>0.501970</td>\n",
              "      <td>0.496674</td>\n",
              "      <td>0.501623</td>\n",
              "      <td>0.501036</td>\n",
              "      <td>0.497661</td>\n",
              "      <td>0.501234</td>\n",
              "      <td>0.497832</td>\n",
              "      <td>0.496958</td>\n",
              "      <td>0.499980</td>\n",
              "      <td>0.498894</td>\n",
              "    </tr>\n",
              "    <tr>\n",
              "      <th>std</th>\n",
              "      <td>3.035037</td>\n",
              "      <td>0.499515</td>\n",
              "      <td>0.288250</td>\n",
              "      <td>0.289476</td>\n",
              "      <td>0.289892</td>\n",
              "      <td>0.288132</td>\n",
              "      <td>0.288567</td>\n",
              "      <td>0.288967</td>\n",
              "      <td>0.287840</td>\n",
              "      <td>0.288291</td>\n",
              "      <td>0.288345</td>\n",
              "      <td>0.287987</td>\n",
              "    </tr>\n",
              "    <tr>\n",
              "      <th>min</th>\n",
              "      <td>-9.047982</td>\n",
              "      <td>0.000000</td>\n",
              "      <td>0.000159</td>\n",
              "      <td>0.000013</td>\n",
              "      <td>0.000057</td>\n",
              "      <td>0.000028</td>\n",
              "      <td>0.000004</td>\n",
              "      <td>0.000073</td>\n",
              "      <td>0.000110</td>\n",
              "      <td>0.000057</td>\n",
              "      <td>0.000012</td>\n",
              "      <td>0.000013</td>\n",
              "    </tr>\n",
              "    <tr>\n",
              "      <th>25%</th>\n",
              "      <td>0.026237</td>\n",
              "      <td>0.000000</td>\n",
              "      <td>0.251363</td>\n",
              "      <td>0.244871</td>\n",
              "      <td>0.251427</td>\n",
              "      <td>0.250494</td>\n",
              "      <td>0.250537</td>\n",
              "      <td>0.250726</td>\n",
              "      <td>0.249500</td>\n",
              "      <td>0.247673</td>\n",
              "      <td>0.251035</td>\n",
              "      <td>0.250138</td>\n",
              "    </tr>\n",
              "    <tr>\n",
              "      <th>50%</th>\n",
              "      <td>2.075935</td>\n",
              "      <td>1.000000</td>\n",
              "      <td>0.503203</td>\n",
              "      <td>0.496624</td>\n",
              "      <td>0.504957</td>\n",
              "      <td>0.498941</td>\n",
              "      <td>0.498581</td>\n",
              "      <td>0.499502</td>\n",
              "      <td>0.499507</td>\n",
              "      <td>0.492757</td>\n",
              "      <td>0.499955</td>\n",
              "      <td>0.500853</td>\n",
              "    </tr>\n",
              "    <tr>\n",
              "      <th>75%</th>\n",
              "      <td>4.140186</td>\n",
              "      <td>1.000000</td>\n",
              "      <td>0.751609</td>\n",
              "      <td>0.745780</td>\n",
              "      <td>0.753342</td>\n",
              "      <td>0.752575</td>\n",
              "      <td>0.746653</td>\n",
              "      <td>0.752015</td>\n",
              "      <td>0.744436</td>\n",
              "      <td>0.746960</td>\n",
              "      <td>0.748775</td>\n",
              "      <td>0.745164</td>\n",
              "    </tr>\n",
              "    <tr>\n",
              "      <th>max</th>\n",
              "      <td>13.895502</td>\n",
              "      <td>1.000000</td>\n",
              "      <td>0.999966</td>\n",
              "      <td>0.999936</td>\n",
              "      <td>0.999960</td>\n",
              "      <td>0.999987</td>\n",
              "      <td>0.999948</td>\n",
              "      <td>0.999885</td>\n",
              "      <td>0.999970</td>\n",
              "      <td>0.999913</td>\n",
              "      <td>0.999906</td>\n",
              "      <td>0.999982</td>\n",
              "    </tr>\n",
              "  </tbody>\n",
              "</table>\n",
              "</div>"
            ],
            "text/plain": [
              "                  y             W  ...           X_9          X_10\n",
              "count  20000.000000  20000.000000  ...  20000.000000  20000.000000\n",
              "mean       2.075323      0.522300  ...      0.499980      0.498894\n",
              "std        3.035037      0.499515  ...      0.288345      0.287987\n",
              "min       -9.047982      0.000000  ...      0.000012      0.000013\n",
              "25%        0.026237      0.000000  ...      0.251035      0.250138\n",
              "50%        2.075935      1.000000  ...      0.499955      0.500853\n",
              "75%        4.140186      1.000000  ...      0.748775      0.745164\n",
              "max       13.895502      1.000000  ...      0.999906      0.999982\n",
              "\n",
              "[8 rows x 12 columns]"
            ]
          },
          "metadata": {
            "tags": []
          },
          "execution_count": 8
        }
      ]
    },
    {
      "cell_type": "markdown",
      "metadata": {
        "id": "FYEVrDJXq3qz"
      },
      "source": [
        "#### Проверка независимости treatment от других объектов\n",
        "\n",
        "Для этого построим классификатор. Если хороший классификатор не удается построить, значит, выборки хорошо разделены. "
      ]
    },
    {
      "cell_type": "code",
      "metadata": {
        "id": "nW7vfby8q3q0"
      },
      "source": [
        "y = df_1['W']\n",
        "X = df_1.drop(['y', 'W'], axis=1)"
      ],
      "execution_count": null,
      "outputs": []
    },
    {
      "cell_type": "code",
      "metadata": {
        "colab": {
          "base_uri": "https://localhost:8080/"
        },
        "id": "9wPtlvcGq3q3",
        "outputId": "bcd05e98-1051-4ae5-cdd7-62625a9dc440"
      },
      "source": [
        "clf = SGDClassifier()\n",
        "print(f'Accuracy: {np.mean(cross_val_score(clf, X, y, scoring=\"accuracy\"))}')\n",
        "print(f'ROC-AUC: {np.mean(cross_val_score(clf, X, y, scoring=\"roc_auc\"))}')\n",
        "print(f'F1-measure: {np.mean(cross_val_score(clf, X, y, scoring=\"f1\"))}')"
      ],
      "execution_count": null,
      "outputs": [
        {
          "output_type": "stream",
          "text": [
            "Accuracy: 0.7312\n",
            "ROC-AUC: 0.8012470655588514\n",
            "F1-measure: 0.7668911685304824\n"
          ],
          "name": "stdout"
        }
      ]
    },
    {
      "cell_type": "code",
      "metadata": {
        "colab": {
          "base_uri": "https://localhost:8080/",
          "height": 578
        },
        "id": "S_Ac-Zj2q3q4",
        "outputId": "d69ab113-1780-4fb9-d83f-289debae0e73"
      },
      "source": [
        "plt.figure(figsize=(10, 8))\n",
        "sns.heatmap(df_1.corr(), \n",
        "            annot=True, \n",
        "            linewidths=0.5, \n",
        "            fmt= \".2f\",\n",
        "            annot_kws={'fontsize': 12})\n",
        "plt.xticks(rotation=45)\n",
        "plt.yticks(rotation=45)\n",
        "plt.title('Матрица корреляции\\n');"
      ],
      "execution_count": null,
      "outputs": [
        {
          "output_type": "display_data",
          "data": {
            "image/png": "[encoded data removed]",
            "text/plain": [
              "<Figure size 720x576 with 2 Axes>"
            ]
          },
          "metadata": {
            "tags": []
          }
        }
      ]
    },
    {
      "cell_type": "markdown",
      "metadata": {
        "id": "eI86OBWSq3q5"
      },
      "source": [
        "Коррелированных признаков нет (есть только слабо и умеренно коррелированные)."
      ]
    },
    {
      "cell_type": "code",
      "metadata": {
        "colab": {
          "base_uri": "https://localhost:8080/"
        },
        "id": "uIjlFhqQq3q6",
        "outputId": "fd39b013-119e-4741-a048-9090c440bcdf"
      },
      "source": [
        "df_1.W.value_counts()"
      ],
      "execution_count": null,
      "outputs": [
        {
          "output_type": "execute_result",
          "data": {
            "text/plain": [
              "1.0    10446\n",
              "0.0     9554\n",
              "Name: W, dtype: int64"
            ]
          },
          "metadata": {
            "tags": []
          },
          "execution_count": 12
        }
      ]
    },
    {
      "cell_type": "markdown",
      "metadata": {
        "id": "KfGUXAY_q3q7"
      },
      "source": [
        "Классы не сбалансированы."
      ]
    },
    {
      "cell_type": "markdown",
      "metadata": {
        "id": "5hljdviuq3q8"
      },
      "source": [
        "**Вывод:** хороший классификатор удалось построить, а значит, эксперимент нельзя считать рандомизированным.\n",
        "\n",
        "Введем следующие предположения: условия **unconfoudedness** *(treatment не зависит от результата эксперимента при условии контроля за X)* и **overlap** *(нет таких характеристик объектов, для которых невозможен treatment)* выполнены."
      ]
    },
    {
      "cell_type": "markdown",
      "metadata": {
        "id": "6P6VLq5Hq3q9"
      },
      "source": [
        "#### Проверка распределения данных на нормальность"
      ]
    },
    {
      "cell_type": "code",
      "metadata": {
        "scrolled": false,
        "colab": {
          "base_uri": "https://localhost:8080/",
          "height": 653
        },
        "id": "-LBs5dqXq3q-",
        "outputId": "55ec600d-a8dc-4c63-8c3f-38ab0c4e09f5"
      },
      "source": [
        "df_1.hist(figsize=(10, 10));"
      ],
      "execution_count": null,
      "outputs": [
        {
          "output_type": "display_data",
          "data": {
            "image/png": "[encoded data removed]",
            "text/plain": [
              "<Figure size 720x720 with 12 Axes>"
            ]
          },
          "metadata": {
            "tags": []
          }
        }
      ]
    },
    {
      "cell_type": "code",
      "metadata": {
        "id": "MJmNtbPLq3q-"
      },
      "source": [
        "control = df_1[df_1.W == 0].y\n",
        "treatment = df_1[df_1.W == 1].y"
      ],
      "execution_count": null,
      "outputs": []
    },
    {
      "cell_type": "code",
      "metadata": {
        "colab": {
          "base_uri": "https://localhost:8080/"
        },
        "id": "xnHlwOJrq3q_",
        "outputId": "b0fc4fc9-a5b0-45b9-e1ec-63ed67b687b9"
      },
      "source": [
        "control.describe()"
      ],
      "execution_count": null,
      "outputs": [
        {
          "output_type": "execute_result",
          "data": {
            "text/plain": [
              "count    9554.000000\n",
              "mean        1.866349\n",
              "std         3.027736\n",
              "min        -9.047982\n",
              "25%        -0.190188\n",
              "50%         1.878149\n",
              "75%         3.933886\n",
              "max        13.895502\n",
              "Name: y, dtype: float64"
            ]
          },
          "metadata": {
            "tags": []
          },
          "execution_count": 15
        }
      ]
    },
    {
      "cell_type": "code",
      "metadata": {
        "colab": {
          "base_uri": "https://localhost:8080/"
        },
        "id": "6UAKMIu-q3rA",
        "outputId": "d712b134-e217-4966-eae4-540f573bbdf6"
      },
      "source": [
        "treatment.describe()"
      ],
      "execution_count": null,
      "outputs": [
        {
          "output_type": "execute_result",
          "data": {
            "text/plain": [
              "count    10446.000000\n",
              "mean         2.266452\n",
              "std          3.029246\n",
              "min         -8.822540\n",
              "25%          0.217490\n",
              "50%          2.254728\n",
              "75%          4.340158\n",
              "max         13.013761\n",
              "Name: y, dtype: float64"
            ]
          },
          "metadata": {
            "tags": []
          },
          "execution_count": 16
        }
      ]
    },
    {
      "cell_type": "markdown",
      "metadata": {
        "id": "tFK0qe5_q3rD"
      },
      "source": [
        "**Нулевая гипотеза $H_0$:**\n",
        "\n",
        "Распределение **y** в **control, treatment** нормальное.\n",
        "\n",
        "**Альтернативная гипотеза $H_1$:**\n",
        "\n",
        "Распределение **y** в **control, treatment** не является нормальным.\n",
        "\n",
        "Для проверки гипотезы воспользуемся **критерием Шапиро-Уилка.**\n",
        "\n",
        "Пороговое значение: $\\alpha = 0.05$."
      ]
    },
    {
      "cell_type": "code",
      "metadata": {
        "id": "MeeF-mR4q3rF"
      },
      "source": [
        "alpha = 0.05"
      ],
      "execution_count": null,
      "outputs": []
    },
    {
      "cell_type": "code",
      "metadata": {
        "colab": {
          "base_uri": "https://localhost:8080/",
          "height": 285
        },
        "id": "MMCeqk4Kq3rG",
        "outputId": "7e2e648b-cbc3-443d-fcc8-631387003276"
      },
      "source": [
        "plt.hist(control, bins=30, density=True, color='blue', alpha=0.7, label='control')\n",
        "plt.hist(treatment, bins=30, density=True, color='red', alpha=0.7, label='treatment')\n",
        "plt.legend()\n",
        "plt.show()"
      ],
      "execution_count": null,
      "outputs": [
        {
          "output_type": "display_data",
          "data": {
            "image/png": "[encoded data removed]",
            "text/plain": [
              "<Figure size 432x288 with 1 Axes>"
            ]
          },
          "metadata": {
            "tags": []
          }
        }
      ]
    },
    {
      "cell_type": "code",
      "metadata": {
        "colab": {
          "base_uri": "https://localhost:8080/"
        },
        "id": "acusGgBHq3rH",
        "outputId": "43d839c7-52e9-44b2-f412-2ae8e61e92c4"
      },
      "source": [
        "stat, pvalue = sps.shapiro(control)\n",
        "print(f'stat: {stat}, pvalue: {pvalue}')"
      ],
      "execution_count": null,
      "outputs": [
        {
          "output_type": "stream",
          "text": [
            "stat: 0.9998553991317749, pvalue: 0.837329626083374\n"
          ],
          "name": "stdout"
        },
        {
          "output_type": "stream",
          "text": [
            "p-value may not be accurate for N > 5000.\n"
          ],
          "name": "stderr"
        }
      ]
    },
    {
      "cell_type": "code",
      "metadata": {
        "colab": {
          "base_uri": "https://localhost:8080/"
        },
        "id": "USx9fxmJq3rH",
        "outputId": "810a1004-7e3f-4605-bf77-b57c51c18298"
      },
      "source": [
        "if (pvalue < alpha):\n",
        "    print('Отвергаем гипотезу H_0')\n",
        "else:\n",
        "    print('Принимаем гипотезу H_0')"
      ],
      "execution_count": null,
      "outputs": [
        {
          "output_type": "stream",
          "text": [
            "Принимаем гипотезу H_0\n"
          ],
          "name": "stdout"
        }
      ]
    },
    {
      "cell_type": "code",
      "metadata": {
        "colab": {
          "base_uri": "https://localhost:8080/"
        },
        "id": "5WTpsjDRq3rI",
        "outputId": "2cbafbde-41f3-4e4b-eccd-1b8356ff95a3"
      },
      "source": [
        "stat, pvalue = sps.shapiro(treatment)\n",
        "print(f'stat: {stat}, pvalue: {pvalue}')"
      ],
      "execution_count": null,
      "outputs": [
        {
          "output_type": "stream",
          "text": [
            "stat: 0.9998707175254822, pvalue: 0.8599085807800293\n"
          ],
          "name": "stdout"
        },
        {
          "output_type": "stream",
          "text": [
            "p-value may not be accurate for N > 5000.\n"
          ],
          "name": "stderr"
        }
      ]
    },
    {
      "cell_type": "code",
      "metadata": {
        "colab": {
          "base_uri": "https://localhost:8080/"
        },
        "id": "H7GxGW-Vq3rJ",
        "outputId": "f7a47a0e-02f0-4a52-cdc6-f4e52721a31e"
      },
      "source": [
        "if (pvalue < alpha):\n",
        "    print('Отвергаем гипотезу H_0')\n",
        "else:\n",
        "    print('Принимаем гипотезу H_0')"
      ],
      "execution_count": null,
      "outputs": [
        {
          "output_type": "stream",
          "text": [
            "Принимаем гипотезу H_0\n"
          ],
          "name": "stdout"
        }
      ]
    },
    {
      "cell_type": "markdown",
      "metadata": {
        "id": "oTz59juAq3rK"
      },
      "source": [
        "**Вывод:** **y** в **control, treatment** распределены нормально."
      ]
    },
    {
      "cell_type": "markdown",
      "metadata": {
        "id": "XwG7uuDIq3rL"
      },
      "source": [
        "#### Проверка гипотезы о равенстве средних в выборках"
      ]
    },
    {
      "cell_type": "code",
      "metadata": {
        "colab": {
          "base_uri": "https://localhost:8080/"
        },
        "id": "Pc_9yoUcq3rM",
        "outputId": "8ff4ea7f-b2dd-4d88-fac4-a8f83eec1427"
      },
      "source": [
        "print(f'Среднее значение y в control: {round(control.mean(), 2)}')\n",
        "print(f'Среднее значение y в treatment: {round(treatment.mean(), 2)}')"
      ],
      "execution_count": null,
      "outputs": [
        {
          "output_type": "stream",
          "text": [
            "Среднее значение y в control: 1.87\n",
            "Среднее значение y в treatment: 2.27\n"
          ],
          "name": "stdout"
        }
      ]
    },
    {
      "cell_type": "markdown",
      "metadata": {
        "id": "cNSoDQRHq3rM"
      },
      "source": [
        "**Нулевая гипотеза $H_0$:**\n",
        "\n",
        "Средние значения **y** в **control** и **treatment** равны между собой.\n",
        "\n",
        "**Альтернативная гипотеза $H_1$:**\n",
        "\n",
        "Средние значения **y** в **control** и **treatment** не равны между собой.\n",
        "\n",
        "Для проверки гипотезы воспользуемся **t-критерием Стьюдента**, так как здесь идет речь о сравнении средних в независимых выборках (нормально распределенных) при неизвестных дисперсиях.\n",
        "\n",
        "Пороговое значение: $\\alpha = 0.05$."
      ]
    },
    {
      "cell_type": "code",
      "metadata": {
        "id": "--m7k1Maq3rO"
      },
      "source": [
        "alpha = 0.05"
      ],
      "execution_count": null,
      "outputs": []
    },
    {
      "cell_type": "code",
      "metadata": {
        "colab": {
          "base_uri": "https://localhost:8080/"
        },
        "id": "gQBlhvbMq3rP",
        "outputId": "49142801-9b63-481b-96eb-af3f72f5c0d7"
      },
      "source": [
        "print(f'Дисперсия y в control: {round(control.var(), 2)}')\n",
        "print(f'Дисперсия y в treatment: {round(treatment.var(), 2)}')"
      ],
      "execution_count": null,
      "outputs": [
        {
          "output_type": "stream",
          "text": [
            "Дисперсия y в control: 9.17\n",
            "Дисперсия y в treatment: 9.18\n"
          ],
          "name": "stdout"
        }
      ]
    },
    {
      "cell_type": "markdown",
      "metadata": {
        "id": "FpXV2ilNq3rQ"
      },
      "source": [
        "Дисперсии двух выборок примерно равны, но все равно стоит провести 2 теста: один - **Welch's t-test** (дисперсии неизвестны, различные), другой - **two-sample t-test** (дисперсии неизвестны, равны)."
      ]
    },
    {
      "cell_type": "markdown",
      "metadata": {
        "id": "2UfrIr9Eq3rQ"
      },
      "source": [
        "**Two sample t-test**"
      ]
    },
    {
      "cell_type": "code",
      "metadata": {
        "colab": {
          "base_uri": "https://localhost:8080/"
        },
        "id": "JQkO9jM4q3rR",
        "outputId": "9b98db81-2a16-428a-891d-b8d69cccc35a"
      },
      "source": [
        "stat, pvalue = sps.ttest_ind(control, treatment, equal_var=True)\n",
        "print(f'stat: {stat}, pvalue: {pvalue}')"
      ],
      "execution_count": null,
      "outputs": [
        {
          "output_type": "stream",
          "text": [
            "stat: -9.332400850259313, pvalue: 1.1400916649505329e-20\n"
          ],
          "name": "stdout"
        }
      ]
    },
    {
      "cell_type": "code",
      "metadata": {
        "colab": {
          "base_uri": "https://localhost:8080/"
        },
        "id": "9y99oUr9q3rR",
        "outputId": "dfd92d1b-02a8-42a4-d7b6-f92fede8def1"
      },
      "source": [
        "if (pvalue < alpha):\n",
        "    print('Отвергаем гипотезу H_0')\n",
        "else:\n",
        "    print('Принимаем гипотезу H_0')"
      ],
      "execution_count": null,
      "outputs": [
        {
          "output_type": "stream",
          "text": [
            "Отвергаем гипотезу H_0\n"
          ],
          "name": "stdout"
        }
      ]
    },
    {
      "cell_type": "markdown",
      "metadata": {
        "id": "MBLKYVofq3rS"
      },
      "source": [
        "**Welch's t-test**"
      ]
    },
    {
      "cell_type": "code",
      "metadata": {
        "colab": {
          "base_uri": "https://localhost:8080/"
        },
        "id": "VW79GDFbq3rT",
        "outputId": "2ab8e19b-4a0b-40a3-f675-9a8cc698a41b"
      },
      "source": [
        "stat, pvalue = sps.ttest_ind(control, treatment, equal_var=False)\n",
        "print(f'stat: {stat}, pvalue: {pvalue}')"
      ],
      "execution_count": null,
      "outputs": [
        {
          "output_type": "stream",
          "text": [
            "stat: -9.332608430209014, pvalue: 1.1387356403808485e-20\n"
          ],
          "name": "stdout"
        }
      ]
    },
    {
      "cell_type": "code",
      "metadata": {
        "colab": {
          "base_uri": "https://localhost:8080/"
        },
        "id": "mU8u6aj-q3rU",
        "outputId": "5527dc8e-f928-4618-88ae-6e090ebe37b8"
      },
      "source": [
        "if (pvalue < alpha):\n",
        "    print('Отвергаем гипотезу H_0')\n",
        "else:\n",
        "    print('Принимаем гипотезу H_0')"
      ],
      "execution_count": null,
      "outputs": [
        {
          "output_type": "stream",
          "text": [
            "Отвергаем гипотезу H_0\n"
          ],
          "name": "stdout"
        }
      ]
    },
    {
      "cell_type": "markdown",
      "metadata": {
        "id": "-tiWx3k5q3rU"
      },
      "source": [
        "#### Оценка значимости критерия путем расчета мощности критерия"
      ]
    },
    {
      "cell_type": "code",
      "metadata": {
        "id": "omPra1qjq3rg"
      },
      "source": [
        "power = 0.8"
      ],
      "execution_count": null,
      "outputs": []
    },
    {
      "cell_type": "code",
      "metadata": {
        "id": "V4T8p-OFq3rh"
      },
      "source": [
        "def cohend(d1, d2):\n",
        "    n1, n2 = len(d1), len(d2)\n",
        "    s1, s2 = np.var(d1, ddof=1), np.var(d2, ddof=1)\n",
        "    s = np.sqrt(((n1 - 1) * s1 + (n2 - 1) * s2) / (n1 + n2 - 2))\n",
        "    u1, u2 = np.mean(d1), np.mean(d2)\n",
        "    return (u1 - u2) / s"
      ],
      "execution_count": null,
      "outputs": []
    },
    {
      "cell_type": "code",
      "metadata": {
        "id": "tw1gMs4Mq3rh"
      },
      "source": [
        "test_power = ttest_power(cohend(treatment, control), nobs=len(control), alpha=alpha)"
      ],
      "execution_count": null,
      "outputs": []
    },
    {
      "cell_type": "code",
      "metadata": {
        "colab": {
          "base_uri": "https://localhost:8080/"
        },
        "id": "A6H3VQIvq3ri",
        "outputId": "eff07334-5040-4347-a2ce-2119888c5e46"
      },
      "source": [
        "test_power"
      ],
      "execution_count": null,
      "outputs": [
        {
          "output_type": "execute_result",
          "data": {
            "text/plain": [
              "1.0"
            ]
          },
          "metadata": {
            "tags": []
          },
          "execution_count": 33
        }
      ]
    },
    {
      "cell_type": "code",
      "metadata": {
        "colab": {
          "base_uri": "https://localhost:8080/"
        },
        "id": "Zoil1Pq3q3ri",
        "outputId": "f6507365-0b2e-40d1-cc65-23ee1889eafd"
      },
      "source": [
        "if (test_power < power):\n",
        "    print('Критерий не состоятельный')\n",
        "else:\n",
        "    print('Критерий состоятельный')"
      ],
      "execution_count": null,
      "outputs": [
        {
          "output_type": "stream",
          "text": [
            "Критерий состоятельный\n"
          ],
          "name": "stdout"
        }
      ]
    },
    {
      "cell_type": "markdown",
      "metadata": {
        "id": "GeOJjHIRq3rj"
      },
      "source": [
        "**Вывод:** гипотезу о равенстве средних нельзя принять $\\Rightarrow$ средние значения целевой метрики **y** в группах **control** и **treatment** различные."
      ]
    },
    {
      "cell_type": "markdown",
      "metadata": {
        "id": "0boSlhm5q3rk"
      },
      "source": [
        "#### Оценка treatment effect нашего воздействия (ATE)"
      ]
    },
    {
      "cell_type": "markdown",
      "metadata": {
        "id": "zhuU20lwq3rl"
      },
      "source": [
        "Если бы эксперимент был рандомизированным, то тогда $\\tau_{ATE}$ был бы следующим:"
      ]
    },
    {
      "cell_type": "code",
      "metadata": {
        "colab": {
          "base_uri": "https://localhost:8080/"
        },
        "id": "16aSGKLyq3rm",
        "outputId": "5d71cc92-b357-4cfd-ac5d-3e5dc271ea1d"
      },
      "source": [
        "ate_naive = treatment.mean() - control.mean() \n",
        "print(f'ATE_naive: {ate_naive}')"
      ],
      "execution_count": null,
      "outputs": [
        {
          "output_type": "stream",
          "text": [
            "ATE_naive: 0.4001031055444413\n"
          ],
          "name": "stdout"
        }
      ]
    },
    {
      "cell_type": "markdown",
      "metadata": {
        "id": "LO_K-_sFq3rm"
      },
      "source": [
        "В случае нерандомизированного эксперимента, учитывая предположение об **unconfoundedness** и **overlap**, получим $\\tau_{ATE}$ таким:"
      ]
    },
    {
      "cell_type": "code",
      "metadata": {
        "id": "gRjxvsyRq3rn"
      },
      "source": [
        "y = df_1['y']\n",
        "X = df_1.drop(['y'], axis=1)\n",
        "X = sm.add_constant(X)"
      ],
      "execution_count": null,
      "outputs": []
    },
    {
      "cell_type": "code",
      "metadata": {
        "id": "dy4P0hv7q3rn"
      },
      "source": [
        "model = sm.OLS(y, X)\n",
        "res = model.fit()"
      ],
      "execution_count": null,
      "outputs": []
    },
    {
      "cell_type": "code",
      "metadata": {
        "colab": {
          "base_uri": "https://localhost:8080/"
        },
        "id": "M12_Wuciq3ro",
        "outputId": "df6be441-0bce-44aa-d5b1-3ca687131e44"
      },
      "source": [
        "print(f'ATE_regr: {res.params.W}')"
      ],
      "execution_count": null,
      "outputs": [
        {
          "output_type": "stream",
          "text": [
            "ATE_regr: 0.5133854882565607\n"
          ],
          "name": "stdout"
        }
      ]
    },
    {
      "cell_type": "markdown",
      "metadata": {
        "id": "3RdErmmKq3ro"
      },
      "source": [
        "Сравним полученные результаты: оценка $\\tau_{ATE}$, произведенная регрессионным методом, получилась более точной, так как наивный способ не подходит в силу того, что эксперимент нельзя считать рандомизированным."
      ]
    },
    {
      "cell_type": "markdown",
      "metadata": {
        "id": "4hMo2D8Tq3rp"
      },
      "source": [
        "**Выводы:**\n",
        "* данные хорошо разделены;\n",
        "* распределение данных можно считать нормальным;\n",
        "* введены предположения **unconfoudedness** и **overlap** ввиду того, что эксперимент не является рандомизированным;\n",
        "* после проверки гипотезы о равенстве средних в **control** и **treatment** выборках было выявлено, что средние значения целевой метрики **y** в группах **control** и **treatment** различные:\n",
        "    * среднее значение **y** в **control**: 1.87\n",
        "    * среднее значение **y** в **treatment**: 2.27\n",
        "* при оценке $\\tau_{ATE}$ были получены такие результаты при различных методах:\n",
        "    * $\\tau_{naive}$: 0.40\n",
        "    * $\\tau_{regr}$: 0.51\n",
        "* оценка $\\tau_{ATE}$, произведенная регрессионным методом, получилась более точной, так как наивный способ не подходит в силу того, что эксперимент нельзя считать рандомизированным;\n",
        "* выяснено, что после такого воздействия среднее значение целевой метрики **y** увеличится на 0.51"
      ]
    },
    {
      "cell_type": "markdown",
      "metadata": {
        "id": "7Baucr79NlM1"
      },
      "source": [
        "### 2. Оценка результатов AB теста с показателями до начала эксперимента"
      ]
    },
    {
      "cell_type": "markdown",
      "metadata": {
        "id": "mX8VYAT1q3rq"
      },
      "source": [
        "Необходимо как и ранее оценить результаты AB теста, а именно ATE. Вы располагаете результатами до и после проведения теста (y_0 и y_1), а также вам дан treatment assignment (W). \n",
        "\n",
        "Необходимо: \n",
        "1. Проверить все требуемые гипотезы\n",
        "2. Оценить ATE подходящим для этого случая методом (примените несколько методов)\n",
        "3. Сравнить и проанализировать результаты оценок\n",
        "4. Явно выписать выводы.\n",
        "\n",
        "Как и прежде, все предположения должны быть указаны. Визуализация результатов приветствуется.\n",
        "\n",
        "dataset_part2_students.csv"
      ]
    },
    {
      "cell_type": "code",
      "metadata": {
        "colab": {
          "base_uri": "https://localhost:8080/",
          "height": 204
        },
        "id": "_UfB5b6tq3rr",
        "outputId": "a96c61c1-f6c5-4e49-851c-e41b3b0cb013"
      },
      "source": [
        "df_2.head()"
      ],
      "execution_count": null,
      "outputs": [
        {
          "output_type": "execute_result",
          "data": {
            "text/html": [
              "<div>\n",
              "<style scoped>\n",
              "    .dataframe tbody tr th:only-of-type {\n",
              "        vertical-align: middle;\n",
              "    }\n",
              "\n",
              "    .dataframe tbody tr th {\n",
              "        vertical-align: top;\n",
              "    }\n",
              "\n",
              "    .dataframe thead th {\n",
              "        text-align: right;\n",
              "    }\n",
              "</style>\n",
              "<table border=\"1\" class=\"dataframe\">\n",
              "  <thead>\n",
              "    <tr style=\"text-align: right;\">\n",
              "      <th></th>\n",
              "      <th>y_1</th>\n",
              "      <th>y_0</th>\n",
              "      <th>W</th>\n",
              "      <th>X_1</th>\n",
              "      <th>X_2</th>\n",
              "      <th>X_3</th>\n",
              "      <th>X_4</th>\n",
              "      <th>X_5</th>\n",
              "      <th>X_6</th>\n",
              "      <th>X_7</th>\n",
              "      <th>X_8</th>\n",
              "      <th>X_9</th>\n",
              "      <th>X_10</th>\n",
              "    </tr>\n",
              "  </thead>\n",
              "  <tbody>\n",
              "    <tr>\n",
              "      <th>0</th>\n",
              "      <td>5.887156</td>\n",
              "      <td>2.785060</td>\n",
              "      <td>1.0</td>\n",
              "      <td>0.605978</td>\n",
              "      <td>0.733369</td>\n",
              "      <td>0.138947</td>\n",
              "      <td>0.312673</td>\n",
              "      <td>0.997243</td>\n",
              "      <td>0.128162</td>\n",
              "      <td>0.178993</td>\n",
              "      <td>0.752925</td>\n",
              "      <td>0.662161</td>\n",
              "      <td>0.784310</td>\n",
              "    </tr>\n",
              "    <tr>\n",
              "      <th>1</th>\n",
              "      <td>2.232601</td>\n",
              "      <td>5.533515</td>\n",
              "      <td>0.0</td>\n",
              "      <td>0.096894</td>\n",
              "      <td>0.058571</td>\n",
              "      <td>0.962396</td>\n",
              "      <td>0.616557</td>\n",
              "      <td>0.086630</td>\n",
              "      <td>0.561272</td>\n",
              "      <td>0.616525</td>\n",
              "      <td>0.963843</td>\n",
              "      <td>0.574304</td>\n",
              "      <td>0.371161</td>\n",
              "    </tr>\n",
              "    <tr>\n",
              "      <th>2</th>\n",
              "      <td>0.144419</td>\n",
              "      <td>0.095546</td>\n",
              "      <td>1.0</td>\n",
              "      <td>0.452145</td>\n",
              "      <td>0.201850</td>\n",
              "      <td>0.569305</td>\n",
              "      <td>0.195096</td>\n",
              "      <td>0.583704</td>\n",
              "      <td>0.476313</td>\n",
              "      <td>0.517814</td>\n",
              "      <td>0.823099</td>\n",
              "      <td>0.732225</td>\n",
              "      <td>0.069056</td>\n",
              "    </tr>\n",
              "    <tr>\n",
              "      <th>3</th>\n",
              "      <td>-2.446425</td>\n",
              "      <td>3.590472</td>\n",
              "      <td>1.0</td>\n",
              "      <td>0.672129</td>\n",
              "      <td>0.643485</td>\n",
              "      <td>0.828014</td>\n",
              "      <td>0.204469</td>\n",
              "      <td>0.617489</td>\n",
              "      <td>0.617701</td>\n",
              "      <td>0.301069</td>\n",
              "      <td>0.871741</td>\n",
              "      <td>0.589654</td>\n",
              "      <td>0.981770</td>\n",
              "    </tr>\n",
              "    <tr>\n",
              "      <th>4</th>\n",
              "      <td>2.163090</td>\n",
              "      <td>1.365405</td>\n",
              "      <td>0.0</td>\n",
              "      <td>0.442232</td>\n",
              "      <td>0.126318</td>\n",
              "      <td>0.508831</td>\n",
              "      <td>0.431786</td>\n",
              "      <td>0.915940</td>\n",
              "      <td>0.709016</td>\n",
              "      <td>0.890655</td>\n",
              "      <td>0.588886</td>\n",
              "      <td>0.636830</td>\n",
              "      <td>0.342209</td>\n",
              "    </tr>\n",
              "  </tbody>\n",
              "</table>\n",
              "</div>"
            ],
            "text/plain": [
              "        y_1       y_0    W       X_1  ...       X_7       X_8       X_9      X_10\n",
              "0  5.887156  2.785060  1.0  0.605978  ...  0.178993  0.752925  0.662161  0.784310\n",
              "1  2.232601  5.533515  0.0  0.096894  ...  0.616525  0.963843  0.574304  0.371161\n",
              "2  0.144419  0.095546  1.0  0.452145  ...  0.517814  0.823099  0.732225  0.069056\n",
              "3 -2.446425  3.590472  1.0  0.672129  ...  0.301069  0.871741  0.589654  0.981770\n",
              "4  2.163090  1.365405  0.0  0.442232  ...  0.890655  0.588886  0.636830  0.342209\n",
              "\n",
              "[5 rows x 13 columns]"
            ]
          },
          "metadata": {
            "tags": []
          },
          "execution_count": 39
        }
      ]
    },
    {
      "cell_type": "code",
      "metadata": {
        "scrolled": true,
        "colab": {
          "base_uri": "https://localhost:8080/"
        },
        "id": "KZwR5h-Lq3rt",
        "outputId": "5c090595-7e6e-47df-876f-d394cd468483"
      },
      "source": [
        "df_2.info()"
      ],
      "execution_count": null,
      "outputs": [
        {
          "output_type": "stream",
          "text": [
            "<class 'pandas.core.frame.DataFrame'>\n",
            "RangeIndex: 10000 entries, 0 to 9999\n",
            "Data columns (total 13 columns):\n",
            " #   Column  Non-Null Count  Dtype  \n",
            "---  ------  --------------  -----  \n",
            " 0   y_1     10000 non-null  float64\n",
            " 1   y_0     10000 non-null  float64\n",
            " 2   W       10000 non-null  float64\n",
            " 3   X_1     10000 non-null  float64\n",
            " 4   X_2     10000 non-null  float64\n",
            " 5   X_3     10000 non-null  float64\n",
            " 6   X_4     10000 non-null  float64\n",
            " 7   X_5     10000 non-null  float64\n",
            " 8   X_6     10000 non-null  float64\n",
            " 9   X_7     10000 non-null  float64\n",
            " 10  X_8     10000 non-null  float64\n",
            " 11  X_9     10000 non-null  float64\n",
            " 12  X_10    10000 non-null  float64\n",
            "dtypes: float64(13)\n",
            "memory usage: 1015.8 KB\n"
          ],
          "name": "stdout"
        }
      ]
    },
    {
      "cell_type": "code",
      "metadata": {
        "colab": {
          "base_uri": "https://localhost:8080/",
          "height": 317
        },
        "id": "qzimQXFKq3ru",
        "outputId": "92e8c68a-cde9-4eff-b600-c2b579a4206c"
      },
      "source": [
        "df_2.describe()"
      ],
      "execution_count": null,
      "outputs": [
        {
          "output_type": "execute_result",
          "data": {
            "text/html": [
              "<div>\n",
              "<style scoped>\n",
              "    .dataframe tbody tr th:only-of-type {\n",
              "        vertical-align: middle;\n",
              "    }\n",
              "\n",
              "    .dataframe tbody tr th {\n",
              "        vertical-align: top;\n",
              "    }\n",
              "\n",
              "    .dataframe thead th {\n",
              "        text-align: right;\n",
              "    }\n",
              "</style>\n",
              "<table border=\"1\" class=\"dataframe\">\n",
              "  <thead>\n",
              "    <tr style=\"text-align: right;\">\n",
              "      <th></th>\n",
              "      <th>y_1</th>\n",
              "      <th>y_0</th>\n",
              "      <th>W</th>\n",
              "      <th>X_1</th>\n",
              "      <th>X_2</th>\n",
              "      <th>X_3</th>\n",
              "      <th>X_4</th>\n",
              "      <th>X_5</th>\n",
              "      <th>X_6</th>\n",
              "      <th>X_7</th>\n",
              "      <th>X_8</th>\n",
              "      <th>X_9</th>\n",
              "      <th>X_10</th>\n",
              "    </tr>\n",
              "  </thead>\n",
              "  <tbody>\n",
              "    <tr>\n",
              "      <th>count</th>\n",
              "      <td>10000.000000</td>\n",
              "      <td>10000.000000</td>\n",
              "      <td>10000.000000</td>\n",
              "      <td>10000.000000</td>\n",
              "      <td>10000.000000</td>\n",
              "      <td>10000.000000</td>\n",
              "      <td>10000.000000</td>\n",
              "      <td>10000.000000</td>\n",
              "      <td>10000.000000</td>\n",
              "      <td>10000.000000</td>\n",
              "      <td>10000.000000</td>\n",
              "      <td>10000.000000</td>\n",
              "      <td>10000.000000</td>\n",
              "    </tr>\n",
              "    <tr>\n",
              "      <th>mean</th>\n",
              "      <td>2.104517</td>\n",
              "      <td>0.751393</td>\n",
              "      <td>0.524000</td>\n",
              "      <td>0.494608</td>\n",
              "      <td>0.503882</td>\n",
              "      <td>0.498649</td>\n",
              "      <td>0.500041</td>\n",
              "      <td>0.499651</td>\n",
              "      <td>0.496875</td>\n",
              "      <td>0.502681</td>\n",
              "      <td>0.500391</td>\n",
              "      <td>0.502482</td>\n",
              "      <td>0.498343</td>\n",
              "    </tr>\n",
              "    <tr>\n",
              "      <th>std</th>\n",
              "      <td>2.075276</td>\n",
              "      <td>2.292416</td>\n",
              "      <td>0.499449</td>\n",
              "      <td>0.287804</td>\n",
              "      <td>0.287356</td>\n",
              "      <td>0.290250</td>\n",
              "      <td>0.289479</td>\n",
              "      <td>0.289714</td>\n",
              "      <td>0.288792</td>\n",
              "      <td>0.289304</td>\n",
              "      <td>0.289625</td>\n",
              "      <td>0.286766</td>\n",
              "      <td>0.287541</td>\n",
              "    </tr>\n",
              "    <tr>\n",
              "      <th>min</th>\n",
              "      <td>-5.772625</td>\n",
              "      <td>-7.895281</td>\n",
              "      <td>0.000000</td>\n",
              "      <td>0.000103</td>\n",
              "      <td>0.000027</td>\n",
              "      <td>0.000052</td>\n",
              "      <td>0.000086</td>\n",
              "      <td>0.000049</td>\n",
              "      <td>0.000002</td>\n",
              "      <td>0.000092</td>\n",
              "      <td>0.000053</td>\n",
              "      <td>0.000286</td>\n",
              "      <td>0.000036</td>\n",
              "    </tr>\n",
              "    <tr>\n",
              "      <th>25%</th>\n",
              "      <td>0.720403</td>\n",
              "      <td>-0.778216</td>\n",
              "      <td>0.000000</td>\n",
              "      <td>0.245372</td>\n",
              "      <td>0.255875</td>\n",
              "      <td>0.248544</td>\n",
              "      <td>0.248120</td>\n",
              "      <td>0.245991</td>\n",
              "      <td>0.243503</td>\n",
              "      <td>0.252856</td>\n",
              "      <td>0.249906</td>\n",
              "      <td>0.256388</td>\n",
              "      <td>0.251672</td>\n",
              "    </tr>\n",
              "    <tr>\n",
              "      <th>50%</th>\n",
              "      <td>2.088402</td>\n",
              "      <td>0.745162</td>\n",
              "      <td>1.000000</td>\n",
              "      <td>0.490941</td>\n",
              "      <td>0.504934</td>\n",
              "      <td>0.492483</td>\n",
              "      <td>0.498955</td>\n",
              "      <td>0.496116</td>\n",
              "      <td>0.497895</td>\n",
              "      <td>0.501308</td>\n",
              "      <td>0.497964</td>\n",
              "      <td>0.504018</td>\n",
              "      <td>0.492807</td>\n",
              "    </tr>\n",
              "    <tr>\n",
              "      <th>75%</th>\n",
              "      <td>3.482478</td>\n",
              "      <td>2.343497</td>\n",
              "      <td>1.000000</td>\n",
              "      <td>0.743003</td>\n",
              "      <td>0.750596</td>\n",
              "      <td>0.751100</td>\n",
              "      <td>0.753792</td>\n",
              "      <td>0.753868</td>\n",
              "      <td>0.743828</td>\n",
              "      <td>0.752798</td>\n",
              "      <td>0.753477</td>\n",
              "      <td>0.749514</td>\n",
              "      <td>0.749355</td>\n",
              "    </tr>\n",
              "    <tr>\n",
              "      <th>max</th>\n",
              "      <td>10.488659</td>\n",
              "      <td>9.988961</td>\n",
              "      <td>1.000000</td>\n",
              "      <td>0.999685</td>\n",
              "      <td>0.999707</td>\n",
              "      <td>0.999982</td>\n",
              "      <td>0.999913</td>\n",
              "      <td>0.999935</td>\n",
              "      <td>0.999989</td>\n",
              "      <td>0.999964</td>\n",
              "      <td>0.999944</td>\n",
              "      <td>0.999981</td>\n",
              "      <td>0.999915</td>\n",
              "    </tr>\n",
              "  </tbody>\n",
              "</table>\n",
              "</div>"
            ],
            "text/plain": [
              "                y_1           y_0  ...           X_9          X_10\n",
              "count  10000.000000  10000.000000  ...  10000.000000  10000.000000\n",
              "mean       2.104517      0.751393  ...      0.502482      0.498343\n",
              "std        2.075276      2.292416  ...      0.286766      0.287541\n",
              "min       -5.772625     -7.895281  ...      0.000286      0.000036\n",
              "25%        0.720403     -0.778216  ...      0.256388      0.251672\n",
              "50%        2.088402      0.745162  ...      0.504018      0.492807\n",
              "75%        3.482478      2.343497  ...      0.749514      0.749355\n",
              "max       10.488659      9.988961  ...      0.999981      0.999915\n",
              "\n",
              "[8 rows x 13 columns]"
            ]
          },
          "metadata": {
            "tags": []
          },
          "execution_count": 41
        }
      ]
    },
    {
      "cell_type": "markdown",
      "metadata": {
        "id": "S8-0ITcXq3ru"
      },
      "source": [
        "#### Проверка независимости treatment от других объектов\n",
        "\n",
        "Для этого построим классификатор. Если хороший классификатор не удается построить, значит, выборки хорошо разделены. "
      ]
    },
    {
      "cell_type": "code",
      "metadata": {
        "id": "GoviyJF0q3rv"
      },
      "source": [
        "y = df_2['W']\n",
        "X = df_2.drop(['y_1', 'y_0', 'W'], axis=1)"
      ],
      "execution_count": null,
      "outputs": []
    },
    {
      "cell_type": "code",
      "metadata": {
        "colab": {
          "base_uri": "https://localhost:8080/"
        },
        "id": "cSp2jnbbq3rv",
        "outputId": "581a030d-4924-4996-84a2-767e9e0c42bc"
      },
      "source": [
        "clf = SGDClassifier()\n",
        "print(f'Accuracy: {np.mean(cross_val_score(clf, X, y, scoring=\"accuracy\"))}')\n",
        "print(f'ROC-AUC: {np.mean(cross_val_score(clf, X, y, scoring=\"roc_auc\"))}')\n",
        "print(f'F1-measure: {np.mean(cross_val_score(clf, X, y, scoring=\"f1\"))}')"
      ],
      "execution_count": null,
      "outputs": [
        {
          "output_type": "stream",
          "text": [
            "Accuracy: 0.7405000000000002\n",
            "ROC-AUC: 0.7982451568413624\n",
            "F1-measure: 0.762491966297085\n"
          ],
          "name": "stdout"
        }
      ]
    },
    {
      "cell_type": "code",
      "metadata": {
        "colab": {
          "base_uri": "https://localhost:8080/",
          "height": 578
        },
        "id": "iUlquvZzq3rw",
        "outputId": "154093ca-5249-47e5-9515-b6eee630f0ca"
      },
      "source": [
        "plt.figure(figsize=(10, 8))\n",
        "sns.heatmap(df_2.corr(), \n",
        "            annot=True, \n",
        "            linewidths=0.5, \n",
        "            fmt= \".2f\",\n",
        "            annot_kws={'fontsize': 12})\n",
        "plt.xticks(rotation=45)\n",
        "plt.yticks(rotation=45)\n",
        "plt.title('Матрица корреляции\\n');"
      ],
      "execution_count": null,
      "outputs": [
        {
          "output_type": "display_data",
          "data": {
            "image/png": "[encoded data removed]",
            "text/plain": [
              "<Figure size 720x576 with 2 Axes>"
            ]
          },
          "metadata": {
            "tags": []
          }
        }
      ]
    },
    {
      "cell_type": "markdown",
      "metadata": {
        "id": "sC6m1T0oq3rw"
      },
      "source": [
        "Коррелированных признаков нет (есть только слабо и умеренно коррелированные)."
      ]
    },
    {
      "cell_type": "code",
      "metadata": {
        "colab": {
          "base_uri": "https://localhost:8080/"
        },
        "id": "18kFkd8Nq3rx",
        "outputId": "72de1e89-15a8-4363-8713-34cdddf071be"
      },
      "source": [
        "df_2.W.value_counts()"
      ],
      "execution_count": null,
      "outputs": [
        {
          "output_type": "execute_result",
          "data": {
            "text/plain": [
              "1.0    5240\n",
              "0.0    4760\n",
              "Name: W, dtype: int64"
            ]
          },
          "metadata": {
            "tags": []
          },
          "execution_count": 45
        }
      ]
    },
    {
      "cell_type": "markdown",
      "metadata": {
        "id": "wgLIqfWeq3rx"
      },
      "source": [
        "Классы не сбалансированы."
      ]
    },
    {
      "cell_type": "markdown",
      "metadata": {
        "id": "W9UF6jelq3ry"
      },
      "source": [
        "**Вывод:** хороший классификатор удалось построить, а значит, эксперимент нельзя считать рандомизированным.\n",
        "\n",
        "Введем следующие предположения: условия **unconfoudedness** *(treatment не зависит от результата эксперимента при условии контроля за X)* и **overlap** *(нет таких характеристик объектов, для которых невозможен treatment)* выполнены."
      ]
    },
    {
      "cell_type": "markdown",
      "metadata": {
        "id": "S13424Bnq3ry"
      },
      "source": [
        "#### Проверка распределения данных на нормальность"
      ]
    },
    {
      "cell_type": "code",
      "metadata": {
        "scrolled": false,
        "colab": {
          "base_uri": "https://localhost:8080/",
          "height": 653
        },
        "id": "LPwwCOYdq3ry",
        "outputId": "f5c28de1-9d29-4232-990b-378865cd950a"
      },
      "source": [
        "df_2.hist(figsize=(10, 10));"
      ],
      "execution_count": null,
      "outputs": [
        {
          "output_type": "display_data",
          "data": {
            "image/png": "[encoded data removed]",
            "text/plain": [
              "<Figure size 720x720 with 16 Axes>"
            ]
          },
          "metadata": {
            "tags": []
          }
        }
      ]
    },
    {
      "cell_type": "code",
      "metadata": {
        "id": "VeeNqQO_q3rz"
      },
      "source": [
        "control_0 = df_2[df_2.W == 0].y_0\n",
        "treatment_0 = df_2[df_2.W == 1].y_0\n",
        "control_1 = df_2[df_2.W == 0].y_1\n",
        "treatment_1 = df_2[df_2.W == 1].y_1"
      ],
      "execution_count": null,
      "outputs": []
    },
    {
      "cell_type": "code",
      "metadata": {
        "colab": {
          "base_uri": "https://localhost:8080/"
        },
        "id": "hlUYAWihq3r0",
        "outputId": "16e0c9e9-460d-4317-a2e5-8c6847002e0c"
      },
      "source": [
        "control_0.describe()"
      ],
      "execution_count": null,
      "outputs": [
        {
          "output_type": "execute_result",
          "data": {
            "text/plain": [
              "count    4760.000000\n",
              "mean        0.816187\n",
              "std         2.229064\n",
              "min        -6.972191\n",
              "25%        -0.700460\n",
              "50%         0.821256\n",
              "75%         2.372783\n",
              "max         9.988961\n",
              "Name: y_0, dtype: float64"
            ]
          },
          "metadata": {
            "tags": []
          },
          "execution_count": 48
        }
      ]
    },
    {
      "cell_type": "code",
      "metadata": {
        "colab": {
          "base_uri": "https://localhost:8080/"
        },
        "id": "FykBX6xQq3r0",
        "outputId": "5a92f5c8-2ec9-4808-daee-2f0f9d8c3eb3"
      },
      "source": [
        "treatment_0.describe()"
      ],
      "execution_count": null,
      "outputs": [
        {
          "output_type": "execute_result",
          "data": {
            "text/plain": [
              "count    5240.000000\n",
              "mean        0.692534\n",
              "std         2.347146\n",
              "min        -7.895281\n",
              "25%        -0.866791\n",
              "50%         0.679592\n",
              "75%         2.298276\n",
              "max         9.748107\n",
              "Name: y_0, dtype: float64"
            ]
          },
          "metadata": {
            "tags": []
          },
          "execution_count": 49
        }
      ]
    },
    {
      "cell_type": "code",
      "metadata": {
        "colab": {
          "base_uri": "https://localhost:8080/"
        },
        "id": "-C8APEp3q3r1",
        "outputId": "07c636b0-2136-44e0-bf27-38f0b463b232"
      },
      "source": [
        "control_1.describe()"
      ],
      "execution_count": null,
      "outputs": [
        {
          "output_type": "execute_result",
          "data": {
            "text/plain": [
              "count    4760.000000\n",
              "mean        1.878542\n",
              "std         2.071818\n",
              "min        -4.979060\n",
              "25%         0.492818\n",
              "50%         1.912860\n",
              "75%         3.307287\n",
              "max        10.068061\n",
              "Name: y_1, dtype: float64"
            ]
          },
          "metadata": {
            "tags": []
          },
          "execution_count": 50
        }
      ]
    },
    {
      "cell_type": "code",
      "metadata": {
        "colab": {
          "base_uri": "https://localhost:8080/"
        },
        "id": "pCBoOGAnq3r2",
        "outputId": "96242b89-9db7-41a2-cddc-03148dfcd221"
      },
      "source": [
        "treatment_1.describe()"
      ],
      "execution_count": null,
      "outputs": [
        {
          "output_type": "execute_result",
          "data": {
            "text/plain": [
              "count    5240.000000\n",
              "mean        2.309793\n",
              "std         2.057201\n",
              "min        -5.772625\n",
              "25%         0.929238\n",
              "50%         2.286631\n",
              "75%         3.657720\n",
              "max        10.488659\n",
              "Name: y_1, dtype: float64"
            ]
          },
          "metadata": {
            "tags": []
          },
          "execution_count": 51
        }
      ]
    },
    {
      "cell_type": "markdown",
      "metadata": {
        "id": "Y0hM2KpSq3r2"
      },
      "source": [
        "**Нулевая гипотеза $H_0$:**\n",
        "\n",
        "Распределение **y_0, y_1** в **control, treatment** нормальное.\n",
        "\n",
        "**Альтернативная гипотеза $H_1$:**\n",
        "\n",
        "Распределение **y_0, y_1** в **control, treatment** не является нормальным.\n",
        "\n",
        "Для проверки гипотезы воспользуемся **критерием Шапиро-Уилка.**\n",
        "\n",
        "Пороговое значение: $\\alpha = 0.05$."
      ]
    },
    {
      "cell_type": "code",
      "metadata": {
        "id": "7QuKPl_tq3r3"
      },
      "source": [
        "alpha = 0.05"
      ],
      "execution_count": null,
      "outputs": []
    },
    {
      "cell_type": "code",
      "metadata": {
        "colab": {
          "base_uri": "https://localhost:8080/",
          "height": 287
        },
        "id": "SZLTk2tNq3r3",
        "outputId": "7fdda6db-2a57-4572-d387-7a0395a792a4"
      },
      "source": [
        "plt.hist(control_0, bins=30, density=True, color='blue', alpha=0.7, label='control_0')\n",
        "plt.hist(treatment_0, bins=30, density=True, color='red', alpha=0.7, label='treatment_0')\n",
        "plt.legend()\n",
        "plt.show()"
      ],
      "execution_count": null,
      "outputs": [
        {
          "output_type": "display_data",
          "data": {
            "image/png": "[encoded data removed]",
            "text/plain": [
              "<Figure size 432x288 with 1 Axes>"
            ]
          },
          "metadata": {
            "tags": []
          }
        }
      ]
    },
    {
      "cell_type": "code",
      "metadata": {
        "colab": {
          "base_uri": "https://localhost:8080/",
          "height": 283
        },
        "id": "xr2_mu8_q3r4",
        "outputId": "328fafb2-36bf-41a3-f5e9-b66f2225c24b"
      },
      "source": [
        "plt.hist(control_1, bins=30, density=True, color='blue', alpha=0.7, label='control_1')\n",
        "plt.hist(treatment_1, bins=30, density=True, color='red', alpha=0.7, label='treatment_1')\n",
        "plt.legend()\n",
        "plt.show()"
      ],
      "execution_count": null,
      "outputs": [
        {
          "output_type": "display_data",
          "data": {
            "image/png": "[encoded data removed]",
            "text/plain": [
              "<Figure size 432x288 with 1 Axes>"
            ]
          },
          "metadata": {
            "tags": []
          }
        }
      ]
    },
    {
      "cell_type": "code",
      "metadata": {
        "colab": {
          "base_uri": "https://localhost:8080/"
        },
        "id": "1ouY8qyOq3r5",
        "outputId": "15718a91-841c-4fb7-fb06-8d69b43bde44"
      },
      "source": [
        "stat, pvalue = sps.shapiro(control_0)\n",
        "print(f'stat: {stat}, pvalue: {pvalue}')"
      ],
      "execution_count": null,
      "outputs": [
        {
          "output_type": "stream",
          "text": [
            "stat: 0.9996148347854614, pvalue: 0.5011960864067078\n"
          ],
          "name": "stdout"
        }
      ]
    },
    {
      "cell_type": "code",
      "metadata": {
        "colab": {
          "base_uri": "https://localhost:8080/"
        },
        "id": "raBC_RKpq3r5",
        "outputId": "e72f6223-6a50-4eb9-a188-9f831c633aba"
      },
      "source": [
        "if (pvalue < alpha):\n",
        "    print('Отвергаем гипотезу H_0')\n",
        "else:\n",
        "    print('Принимаем гипотезу H_0')"
      ],
      "execution_count": null,
      "outputs": [
        {
          "output_type": "stream",
          "text": [
            "Принимаем гипотезу H_0\n"
          ],
          "name": "stdout"
        }
      ]
    },
    {
      "cell_type": "code",
      "metadata": {
        "colab": {
          "base_uri": "https://localhost:8080/"
        },
        "id": "DtaW7bt_q3r6",
        "outputId": "01cf6a18-2144-4d9e-eb57-e170562a0a1c"
      },
      "source": [
        "stat, pvalue = sps.shapiro(treatment_0)\n",
        "print(f'stat: {stat}, pvalue: {pvalue}')"
      ],
      "execution_count": null,
      "outputs": [
        {
          "output_type": "stream",
          "text": [
            "stat: 0.999710202217102, pvalue: 0.7005389332771301\n"
          ],
          "name": "stdout"
        },
        {
          "output_type": "stream",
          "text": [
            "p-value may not be accurate for N > 5000.\n"
          ],
          "name": "stderr"
        }
      ]
    },
    {
      "cell_type": "code",
      "metadata": {
        "colab": {
          "base_uri": "https://localhost:8080/"
        },
        "id": "4K2QVyLGq3r6",
        "outputId": "3ce54add-7295-45cb-859e-f621ad34b46a"
      },
      "source": [
        "if (pvalue < alpha):\n",
        "    print('Отвергаем гипотезу H_0')\n",
        "else:\n",
        "    print('Принимаем гипотезу H_0')"
      ],
      "execution_count": null,
      "outputs": [
        {
          "output_type": "stream",
          "text": [
            "Принимаем гипотезу H_0\n"
          ],
          "name": "stdout"
        }
      ]
    },
    {
      "cell_type": "code",
      "metadata": {
        "colab": {
          "base_uri": "https://localhost:8080/"
        },
        "id": "bfkgDbRLq3r7",
        "outputId": "40595012-c11b-4ca5-c140-81e24b5080a5"
      },
      "source": [
        "stat, pvalue = sps.shapiro(control_1)\n",
        "print(f'stat: {stat}, pvalue: {pvalue}')"
      ],
      "execution_count": null,
      "outputs": [
        {
          "output_type": "stream",
          "text": [
            "stat: 0.9994422197341919, pvalue: 0.16677731275558472\n"
          ],
          "name": "stdout"
        }
      ]
    },
    {
      "cell_type": "code",
      "metadata": {
        "colab": {
          "base_uri": "https://localhost:8080/"
        },
        "id": "c0Fj-xssq3r8",
        "outputId": "e60f7afa-bca1-4410-c6aa-b4b8c8266ec0"
      },
      "source": [
        "if (pvalue < alpha):\n",
        "    print('Отвергаем гипотезу H_0')\n",
        "else:\n",
        "    print('Принимаем гипотезу H_0')"
      ],
      "execution_count": null,
      "outputs": [
        {
          "output_type": "stream",
          "text": [
            "Принимаем гипотезу H_0\n"
          ],
          "name": "stdout"
        }
      ]
    },
    {
      "cell_type": "code",
      "metadata": {
        "colab": {
          "base_uri": "https://localhost:8080/"
        },
        "id": "Qc0mj1Jmq3r9",
        "outputId": "4151ed41-7505-47fd-c639-b5a9d0fabb1c"
      },
      "source": [
        "stat, pvalue = sps.shapiro(treatment_1)\n",
        "print(f'stat: {stat}, pvalue: {pvalue}')"
      ],
      "execution_count": null,
      "outputs": [
        {
          "output_type": "stream",
          "text": [
            "stat: 0.9994078874588013, pvalue: 0.088233083486557\n"
          ],
          "name": "stdout"
        },
        {
          "output_type": "stream",
          "text": [
            "p-value may not be accurate for N > 5000.\n"
          ],
          "name": "stderr"
        }
      ]
    },
    {
      "cell_type": "code",
      "metadata": {
        "colab": {
          "base_uri": "https://localhost:8080/"
        },
        "id": "X0bouQtgq3r-",
        "outputId": "563cf06a-b63b-45dd-bb06-4ba60c474936"
      },
      "source": [
        "if (pvalue < alpha):\n",
        "    print('Отвергаем гипотезу H_0')\n",
        "else:\n",
        "    print('Принимаем гипотезу H_0')"
      ],
      "execution_count": null,
      "outputs": [
        {
          "output_type": "stream",
          "text": [
            "Принимаем гипотезу H_0\n"
          ],
          "name": "stdout"
        }
      ]
    },
    {
      "cell_type": "markdown",
      "metadata": {
        "id": "67yUYGsUq3r_"
      },
      "source": [
        "**Вывод:** **y_0, y_1** в **control, treatment** распределены нормально."
      ]
    },
    {
      "cell_type": "markdown",
      "metadata": {
        "id": "pYIg4aeHq3r_"
      },
      "source": [
        "#### Проверка гипотезы о равенстве средних в выборках"
      ]
    },
    {
      "cell_type": "code",
      "metadata": {
        "colab": {
          "base_uri": "https://localhost:8080/"
        },
        "id": "uZM7fpcJq3sA",
        "outputId": "0578ec2a-4ed4-4bdc-d325-4d5bf5c501ec"
      },
      "source": [
        "print(f'Среднее значение y_0 в control: {round(control_0.mean(), 2)}')\n",
        "print(f'Среднее значение y_0 в treatment: {round(treatment_0.mean(), 2)}')\n",
        "print(f'Среднее значение y_1 в control: {round(control_1.mean(), 2)}')\n",
        "print(f'Среднее значение y_1 в treatment: {round(treatment_1.mean(), 2)}')"
      ],
      "execution_count": null,
      "outputs": [
        {
          "output_type": "stream",
          "text": [
            "Среднее значение y_0 в control: 0.82\n",
            "Среднее значение y_0 в treatment: 0.69\n",
            "Среднее значение y_1 в control: 1.88\n",
            "Среднее значение y_1 в treatment: 2.31\n"
          ],
          "name": "stdout"
        }
      ]
    },
    {
      "cell_type": "markdown",
      "metadata": {
        "id": "mX1gDNjVq3sB"
      },
      "source": [
        "**Нулевая гипотеза $H_0$:**\n",
        "\n",
        "1. Средние значения **y_0** в **control** и **treatment** равны между собой.\n",
        "\n",
        "2. Средние значения **y_1** в **control** и **treatment** равны между собой.\n",
        "\n",
        "**Альтернативная гипотеза $H_1$:**\n",
        "\n",
        "1. Средние значения **y_0** в **control** и **treatment** не равны между собой.\n",
        "\n",
        "2. Средние значения **y_1** в **control** и **treatment** не равны между собой.\n",
        "\n",
        "Для проверки гипотезы воспользуемся **t-критерием Стьюдента**, так как здесь идет речь о сравнении средних в независимых выборках (нормально распределенных) при неизвестных дисперсиях.\n",
        "\n",
        "Пороговое значение: $\\alpha = 0.05$."
      ]
    },
    {
      "cell_type": "code",
      "metadata": {
        "id": "bHrLPLq1q3sB"
      },
      "source": [
        "alpha = 0.05"
      ],
      "execution_count": null,
      "outputs": []
    },
    {
      "cell_type": "code",
      "metadata": {
        "colab": {
          "base_uri": "https://localhost:8080/"
        },
        "id": "in6wV4MZq3sC",
        "outputId": "1338cc7c-151d-4df8-80b2-d918687c9e1f"
      },
      "source": [
        "print(f'Дисперсия y_0 в control: {round(control_0.var(), 2)}')\n",
        "print(f'Дисперсия y_0 в treatment: {round(treatment_0.var(), 2)}')\n",
        "print(f'Дисперсия y_1 в control: {round(control_1.var(), 2)}')\n",
        "print(f'Дисперсия y_1 в treatment: {round(treatment_1.var(), 2)}')"
      ],
      "execution_count": null,
      "outputs": [
        {
          "output_type": "stream",
          "text": [
            "Дисперсия y_0 в control: 4.97\n",
            "Дисперсия y_0 в treatment: 5.51\n",
            "Дисперсия y_1 в control: 4.29\n",
            "Дисперсия y_1 в treatment: 4.23\n"
          ],
          "name": "stdout"
        }
      ]
    },
    {
      "cell_type": "markdown",
      "metadata": {
        "id": "vgvTua2sq3sC"
      },
      "source": [
        "Дисперсии выборок примерно равны, но все равно стоит провести 2 теста: один - **Welch's t-test** (дисперсии неизвестны, различные), другой - **two-sample t-test** (дисперсии неизвестны, равны)."
      ]
    },
    {
      "cell_type": "markdown",
      "metadata": {
        "id": "cmQOgEBnq3sD"
      },
      "source": [
        "**Two sample t-test**"
      ]
    },
    {
      "cell_type": "code",
      "metadata": {
        "scrolled": true,
        "colab": {
          "base_uri": "https://localhost:8080/"
        },
        "id": "iNyX-_RHq3sD",
        "outputId": "fc05b689-992d-4ce6-e565-62c81fd37d83"
      },
      "source": [
        "stat, pvalue = sps.ttest_ind(control_0, treatment_0, equal_var=True)\n",
        "print(f'stat: {stat}, pvalue: {pvalue}')"
      ],
      "execution_count": null,
      "outputs": [
        {
          "output_type": "stream",
          "text": [
            "stat: 2.6947405425339337, pvalue: 0.007056118548053932\n"
          ],
          "name": "stdout"
        }
      ]
    },
    {
      "cell_type": "code",
      "metadata": {
        "colab": {
          "base_uri": "https://localhost:8080/"
        },
        "id": "vzn5mSCmq3sF",
        "outputId": "61f81820-ec34-4971-c73e-a30a6490d502"
      },
      "source": [
        "if (pvalue < alpha):\n",
        "    print('Отвергаем гипотезу H_0')\n",
        "else:\n",
        "    print('Принимаем гипотезу H_0')"
      ],
      "execution_count": null,
      "outputs": [
        {
          "output_type": "stream",
          "text": [
            "Отвергаем гипотезу H_0\n"
          ],
          "name": "stdout"
        }
      ]
    },
    {
      "cell_type": "code",
      "metadata": {
        "scrolled": true,
        "colab": {
          "base_uri": "https://localhost:8080/"
        },
        "id": "7ZKv2tw9q3sG",
        "outputId": "00b7e018-56b0-4577-cebe-fdfe418e186b"
      },
      "source": [
        "stat, pvalue = sps.ttest_ind(control_1, treatment_1, equal_var=True)\n",
        "print(f'stat: {stat}, pvalue: {pvalue}')"
      ],
      "execution_count": null,
      "outputs": [
        {
          "output_type": "stream",
          "text": [
            "stat: -10.434076818229196, pvalue: 2.3383131389683154e-25\n"
          ],
          "name": "stdout"
        }
      ]
    },
    {
      "cell_type": "code",
      "metadata": {
        "colab": {
          "base_uri": "https://localhost:8080/"
        },
        "id": "ggseRmU_q3sG",
        "outputId": "6ee2d84c-f328-44e8-b78c-330ca259f9b0"
      },
      "source": [
        "if (pvalue < alpha):\n",
        "    print('Отвергаем гипотезу H_0')\n",
        "else:\n",
        "    print('Принимаем гипотезу H_0')"
      ],
      "execution_count": null,
      "outputs": [
        {
          "output_type": "stream",
          "text": [
            "Отвергаем гипотезу H_0\n"
          ],
          "name": "stdout"
        }
      ]
    },
    {
      "cell_type": "markdown",
      "metadata": {
        "id": "ebbHnokmq3sH"
      },
      "source": [
        "**Welch's t-test**"
      ]
    },
    {
      "cell_type": "code",
      "metadata": {
        "colab": {
          "base_uri": "https://localhost:8080/"
        },
        "id": "8QJD-eF2q3sH",
        "outputId": "57831675-6985-4d3e-b353-b0833e20a26e"
      },
      "source": [
        "stat, pvalue = sps.ttest_ind(control_0, treatment_0, equal_var=False)\n",
        "print(f'stat: {stat}, pvalue: {pvalue}')"
      ],
      "execution_count": null,
      "outputs": [
        {
          "output_type": "stream",
          "text": [
            "stat: 2.7014202424371874, pvalue: 0.0069160683710655525\n"
          ],
          "name": "stdout"
        }
      ]
    },
    {
      "cell_type": "code",
      "metadata": {
        "colab": {
          "base_uri": "https://localhost:8080/"
        },
        "id": "FPRMeamBq3sI",
        "outputId": "bb57c7e2-37ef-4b8d-e829-5e981acd892d"
      },
      "source": [
        "if (pvalue < alpha):\n",
        "    print('Отвергаем гипотезу H_0')\n",
        "else:\n",
        "    print('Принимаем гипотезу H_0')"
      ],
      "execution_count": null,
      "outputs": [
        {
          "output_type": "stream",
          "text": [
            "Отвергаем гипотезу H_0\n"
          ],
          "name": "stdout"
        }
      ]
    },
    {
      "cell_type": "code",
      "metadata": {
        "colab": {
          "base_uri": "https://localhost:8080/"
        },
        "id": "Mko-rShiq3sI",
        "outputId": "40dad99f-080a-4c5a-c59e-0c3a2576bbd1"
      },
      "source": [
        "stat, pvalue = sps.ttest_ind(control_1, treatment_1, equal_var=False)\n",
        "print(f'stat: {stat}, pvalue: {pvalue}')"
      ],
      "execution_count": null,
      "outputs": [
        {
          "output_type": "stream",
          "text": [
            "stat: -10.430531043827909, pvalue: 2.433950215267867e-25\n"
          ],
          "name": "stdout"
        }
      ]
    },
    {
      "cell_type": "code",
      "metadata": {
        "colab": {
          "base_uri": "https://localhost:8080/"
        },
        "id": "4aVAOpd7q3sJ",
        "outputId": "9d11125c-5fd2-4ed1-db85-a008134e7e5f"
      },
      "source": [
        "if (pvalue < alpha):\n",
        "    print('Отвергаем гипотезу H_0')\n",
        "else:\n",
        "    print('Принимаем гипотезу H_0')"
      ],
      "execution_count": null,
      "outputs": [
        {
          "output_type": "stream",
          "text": [
            "Отвергаем гипотезу H_0\n"
          ],
          "name": "stdout"
        }
      ]
    },
    {
      "cell_type": "markdown",
      "metadata": {
        "id": "ogqha80Eq3sJ"
      },
      "source": [
        "#### Оценка значимости критерия путем расчета мощности критерия"
      ]
    },
    {
      "cell_type": "code",
      "metadata": {
        "id": "59sNkvHUq3sK"
      },
      "source": [
        "power = 0.8"
      ],
      "execution_count": null,
      "outputs": []
    },
    {
      "cell_type": "code",
      "metadata": {
        "id": "JCAFVPiZq3sK"
      },
      "source": [
        "test_power_0 = ttest_power(cohend(treatment_0, control_0), nobs=len(control_0), alpha=alpha)"
      ],
      "execution_count": null,
      "outputs": []
    },
    {
      "cell_type": "code",
      "metadata": {
        "colab": {
          "base_uri": "https://localhost:8080/"
        },
        "id": "gCxLO0c7q3sL",
        "outputId": "f956795c-7b9b-416d-e964-c02138856605"
      },
      "source": [
        "test_power_0"
      ],
      "execution_count": null,
      "outputs": [
        {
          "output_type": "execute_result",
          "data": {
            "text/plain": [
              "0.9609591747486333"
            ]
          },
          "metadata": {
            "tags": []
          },
          "execution_count": 76
        }
      ]
    },
    {
      "cell_type": "code",
      "metadata": {
        "colab": {
          "base_uri": "https://localhost:8080/"
        },
        "id": "rFjeuuDDq3sL",
        "outputId": "04fe4967-aecf-497c-e145-df43c57ca735"
      },
      "source": [
        "if (test_power_0 < power):\n",
        "    print('Критерий не состоятельный')\n",
        "else:\n",
        "    print('Критерий состоятельный')"
      ],
      "execution_count": null,
      "outputs": [
        {
          "output_type": "stream",
          "text": [
            "Критерий состоятельный\n"
          ],
          "name": "stdout"
        }
      ]
    },
    {
      "cell_type": "code",
      "metadata": {
        "id": "eX4DeDUFq3sM"
      },
      "source": [
        "test_power_1 = ttest_power(cohend(treatment_1, control_1), nobs=len(control_1), alpha=alpha)"
      ],
      "execution_count": null,
      "outputs": []
    },
    {
      "cell_type": "code",
      "metadata": {
        "colab": {
          "base_uri": "https://localhost:8080/"
        },
        "id": "Mu_tJ8wlq3sN",
        "outputId": "88f44d3a-b3f1-4f1d-9538-f88d10957c04"
      },
      "source": [
        "test_power_1"
      ],
      "execution_count": null,
      "outputs": [
        {
          "output_type": "execute_result",
          "data": {
            "text/plain": [
              "1.0"
            ]
          },
          "metadata": {
            "tags": []
          },
          "execution_count": 79
        }
      ]
    },
    {
      "cell_type": "code",
      "metadata": {
        "colab": {
          "base_uri": "https://localhost:8080/"
        },
        "id": "LZu7PjCEq3sN",
        "outputId": "c4abc557-2d99-4e4e-dd60-d7dd02adf6d1"
      },
      "source": [
        "if (test_power_1 < power):\n",
        "    print('Критерий не состоятельный')\n",
        "else:\n",
        "    print('Критерий состоятельный')"
      ],
      "execution_count": null,
      "outputs": [
        {
          "output_type": "stream",
          "text": [
            "Критерий состоятельный\n"
          ],
          "name": "stdout"
        }
      ]
    },
    {
      "cell_type": "markdown",
      "metadata": {
        "id": "UtRHq7p7q3sO"
      },
      "source": [
        "**Вывод:** гипотезу о равенстве средних нельзя принять $\\Rightarrow$ средние значения целевой метрики **y_0** в группах **control** и **treatment** различные и средние значения целевой метрики **y_1** в группах **control** и **treatment** различные."
      ]
    },
    {
      "cell_type": "markdown",
      "metadata": {
        "id": "uditdCAYq3sO"
      },
      "source": [
        "**Нулевая гипотеза $H_0$:**\n",
        "\n",
        "1. Средние значения **y_0**, **y_1** в **control** равны между собой.\n",
        "\n",
        "2. Средние значения **y_0**, **y_1** в **treatment** равны между собой.\n",
        "\n",
        "**Альтернативная гипотеза $H_1$:**\n",
        "\n",
        "1. Средние значения **y_0**, **y_1** в **control** не равны между собой.\n",
        "\n",
        "2. Средние значения **y_0**, **y_1** в **treatment** не равны между собой.\n",
        "\n",
        "Для проверки гипотезы воспользуемся **t-критерием Стьюдента** для связанных выборок, так как здесь идет речь о сравнении средних в зависимых выборках (нормально распределенных) при неизвестной дисперсии.\n",
        "\n",
        "Пороговое значение: $\\alpha = 0.05$."
      ]
    },
    {
      "cell_type": "code",
      "metadata": {
        "id": "eA4fIu2_q3sP"
      },
      "source": [
        "alpha = 0.05"
      ],
      "execution_count": null,
      "outputs": []
    },
    {
      "cell_type": "code",
      "metadata": {
        "colab": {
          "base_uri": "https://localhost:8080/"
        },
        "id": "O5GQ-hkwq3sQ",
        "outputId": "21211c99-6d4b-4e8e-ded0-971a1796196c"
      },
      "source": [
        "print(f'Дисперсия y_0 в control: {round(control_0.var(), 2)}')\n",
        "print(f'Дисперсия y_0 в treatment: {round(treatment_0.var(), 2)}')\n",
        "print(f'Дисперсия y_1 в control: {round(control_1.var(), 2)}')\n",
        "print(f'Дисперсия y_1 в treatment: {round(treatment_1.var(), 2)}')"
      ],
      "execution_count": null,
      "outputs": [
        {
          "output_type": "stream",
          "text": [
            "Дисперсия y_0 в control: 4.97\n",
            "Дисперсия y_0 в treatment: 5.51\n",
            "Дисперсия y_1 в control: 4.29\n",
            "Дисперсия y_1 в treatment: 4.23\n"
          ],
          "name": "stdout"
        }
      ]
    },
    {
      "cell_type": "markdown",
      "metadata": {
        "id": "gt7388_Rq3sR"
      },
      "source": [
        "**Two sample rel t-test**"
      ]
    },
    {
      "cell_type": "code",
      "metadata": {
        "colab": {
          "base_uri": "https://localhost:8080/"
        },
        "id": "ZzWuV9rbq3sR",
        "outputId": "273f6358-58b2-4b86-94c6-11fd493dc76c"
      },
      "source": [
        "stat, pvalue = sps.ttest_rel(control_0, control_1)\n",
        "print(f'stat: {stat}, pvalue: {pvalue}')"
      ],
      "execution_count": null,
      "outputs": [
        {
          "output_type": "stream",
          "text": [
            "stat: -24.166958754890345, pvalue: 8.294420851409134e-122\n"
          ],
          "name": "stdout"
        }
      ]
    },
    {
      "cell_type": "code",
      "metadata": {
        "colab": {
          "base_uri": "https://localhost:8080/"
        },
        "id": "_ojLNZHdq3sS",
        "outputId": "8a52210e-cd6c-4da1-aa65-9d12088ccb1e"
      },
      "source": [
        "if (pvalue < alpha):\n",
        "    print('Отвергаем гипотезу H_0')\n",
        "else:\n",
        "    print('Принимаем гипотезу H_0')"
      ],
      "execution_count": null,
      "outputs": [
        {
          "output_type": "stream",
          "text": [
            "Отвергаем гипотезу H_0\n"
          ],
          "name": "stdout"
        }
      ]
    },
    {
      "cell_type": "code",
      "metadata": {
        "colab": {
          "base_uri": "https://localhost:8080/"
        },
        "id": "SE5s4LPyq3sT",
        "outputId": "1eb66356-3e5c-4f11-f511-d53306f1ff0b"
      },
      "source": [
        "stat, pvalue = sps.ttest_rel(treatment_0, treatment_1)\n",
        "print(f'stat: {stat}, pvalue: {pvalue}')"
      ],
      "execution_count": null,
      "outputs": [
        {
          "output_type": "stream",
          "text": [
            "stat: -38.44253146154512, pvalue: 4.8441785663390546e-285\n"
          ],
          "name": "stdout"
        }
      ]
    },
    {
      "cell_type": "code",
      "metadata": {
        "colab": {
          "base_uri": "https://localhost:8080/"
        },
        "id": "4L4JBAv6q3sU",
        "outputId": "6b88968e-b2cd-41ef-8de1-807a20a4ead8"
      },
      "source": [
        "if (pvalue < alpha):\n",
        "    print('Отвергаем гипотезу H_0')\n",
        "else:\n",
        "    print('Принимаем гипотезу H_0')"
      ],
      "execution_count": null,
      "outputs": [
        {
          "output_type": "stream",
          "text": [
            "Отвергаем гипотезу H_0\n"
          ],
          "name": "stdout"
        }
      ]
    },
    {
      "cell_type": "markdown",
      "metadata": {
        "id": "fKrfoW2kq3sV"
      },
      "source": [
        "**Вывод:** гипотезу о равенстве средних нельзя принять $\\Rightarrow$ средние значения целевых метрик **y_0, y_1** в группе **control** различные и средние значения целевых метрик **y_0, y_1** в группе **treatment** различные."
      ]
    },
    {
      "cell_type": "markdown",
      "metadata": {
        "id": "vXwUxkBxq3sW"
      },
      "source": [
        "#### Оценка treatment effect нашего воздействия (ATE)"
      ]
    },
    {
      "cell_type": "markdown",
      "metadata": {
        "id": "se79O2kDq3sW"
      },
      "source": [
        "**ANCOVA:**"
      ]
    },
    {
      "cell_type": "code",
      "metadata": {
        "id": "RPz0Ob2fq3sX"
      },
      "source": [
        "y = df_2['y_1']\n",
        "X = df_2[['y_0', 'W']]\n",
        "X = sm.add_constant(X)"
      ],
      "execution_count": null,
      "outputs": []
    },
    {
      "cell_type": "code",
      "metadata": {
        "id": "GjbK5jsOq3sX"
      },
      "source": [
        "model = sm.OLS(y, X)\n",
        "res = model.fit()"
      ],
      "execution_count": null,
      "outputs": []
    },
    {
      "cell_type": "code",
      "metadata": {
        "colab": {
          "base_uri": "https://localhost:8080/"
        },
        "id": "NPyoFp9xq3sY",
        "outputId": "fc93ea6a-eeb1-4a8a-e8f2-c3893376ee59"
      },
      "source": [
        "print(f'ATE_ancova: {res.params.W}')"
      ],
      "execution_count": null,
      "outputs": [
        {
          "output_type": "stream",
          "text": [
            "ATE_ancova: 0.43448638144566576\n"
          ],
          "name": "stdout"
        }
      ]
    },
    {
      "cell_type": "markdown",
      "metadata": {
        "id": "WNsM1S15q3sY"
      },
      "source": [
        "**Difference in differences (DiD)**:"
      ]
    },
    {
      "cell_type": "code",
      "metadata": {
        "id": "Mk714zksq3sZ"
      },
      "source": [
        "did_0 = df_2.loc[:, ['y_0', 'W']].rename(columns={'y_0':'y'})\n",
        "did_0['T'] = 0\n",
        "did_1 = df_2.loc[:, ['y_1', 'W']].rename(columns={'y_1':'y'})\n",
        "did_1['T'] = 1"
      ],
      "execution_count": null,
      "outputs": []
    },
    {
      "cell_type": "code",
      "metadata": {
        "id": "SIceL12eq3sZ"
      },
      "source": [
        "did = pd.concat((did_0, did_1))"
      ],
      "execution_count": null,
      "outputs": []
    },
    {
      "cell_type": "code",
      "metadata": {
        "id": "ck5GVh04q3sa"
      },
      "source": [
        "did['WT'] = did['W'] * did['T']"
      ],
      "execution_count": null,
      "outputs": []
    },
    {
      "cell_type": "code",
      "metadata": {
        "id": "Uu43tq5mq3sa"
      },
      "source": [
        "y = did['y']\n",
        "X = did.drop(['y'], axis=1)"
      ],
      "execution_count": null,
      "outputs": []
    },
    {
      "cell_type": "code",
      "metadata": {
        "id": "FoC-vMQTq3sb"
      },
      "source": [
        "model = sm.OLS(y, X)\n",
        "res = model.fit()"
      ],
      "execution_count": null,
      "outputs": []
    },
    {
      "cell_type": "code",
      "metadata": {
        "colab": {
          "base_uri": "https://localhost:8080/"
        },
        "id": "TIserauXq3sc",
        "outputId": "f8966d4a-105e-44ae-acc4-60e46d9ec6a7"
      },
      "source": [
        "print(f'ATE_did: {res.params.W}')"
      ],
      "execution_count": null,
      "outputs": [
        {
          "output_type": "stream",
          "text": [
            "ATE_did: 0.692533849085882\n"
          ],
          "name": "stdout"
        }
      ]
    },
    {
      "cell_type": "markdown",
      "metadata": {
        "id": "J5P8nPgLq3sd"
      },
      "source": [
        "Сравним полученные результаты: оценка $\\tau_{ATE}$, произведенная методом **DiD**, получилась более хорошей, чем **ANOVA**, так как в последнем не учитывается неравномерное разбиение на группы."
      ]
    },
    {
      "cell_type": "markdown",
      "metadata": {
        "id": "AZPnamYHq3sd"
      },
      "source": [
        "**Выводы:**\n",
        "* данные хорошо разделены;\n",
        "* распределение данных можно считать нормальным;\n",
        "* введены предположения **unconfoudedness** и **overlap** ввиду того, что эксперимент не является рандомизированным;\n",
        "* после проверки гипотезы о равенстве средних в **control** и **treatment** выборках было выявлено, что:\n",
        "    * средние значения целевой метрики **y_0** (перед экспериментом) в группах **control** и **treatment** различные \n",
        "    * средние значения целевой метрики **y_1** (после эксперимента) в группах **control** и **treatment** различные\n",
        "    * средние значения целевых метрик **y_0, y_1** в группе **control** различные \n",
        "    * средние значения целевых метрик **y_0, y_1** в группе **treatment** различные.\n",
        "* численные значения следующие:\n",
        "    * среднее значение **y_0** в **control:** 0.82\n",
        "    * среднее значение **y_0** в **treatment:** 0.69\n",
        "    * среднее значение **y_1** в **control:** 1.88\n",
        "    * среднее значение **y_1** в **treatment:** 2.31\n",
        "* при оценке $\\tau_{ATE}$ были получены такие результаты при различных методах:\n",
        "    * $\\tau_{ANCOVA}$: 0.43\n",
        "    * $\\tau_{DiD}$: 0.69\n",
        "* оценка $\\tau_{ATE}$, произведенная методом **DiD**, получилась более хорошей, чем **ANOVA**, так как в последнем не учитывается неравномерное разбиение на группы;\n",
        "* выяснено, что после такого воздействия среднее значение целевой метрики **y** увеличится на 0.69"
      ]
    },
    {
      "cell_type": "markdown",
      "metadata": {
        "id": "xb6ngJZ7q3se"
      },
      "source": [
        "### 3. Построение uplift модели по результатам AB теста."
      ]
    },
    {
      "cell_type": "markdown",
      "metadata": {
        "id": "WlHaaekmq3se"
      },
      "source": [
        "Вам даны результаты AB теста для модели конверсии клиента в продукте (conversion). Конверсия может принимать значения 1 или 0, что значит - клиент подключил услугу, либо не подключил соответственно.\n",
        "\n",
        "Задача:\n",
        "1. Оцените ATE по данным.\n",
        "2. Оцените CATE для каждого наблюдения.\n",
        "3. Проставьте рекомендации к воздействию на каждый объект.\n",
        "4. Какая ожидаемая конверсия при оптимальном воздействии?\n",
        "5. Все выводы, предпосылки и методы представляйте в явном виде в ноутбуке.\n",
        "\n",
        "Визуализация результатов также будет приветствоваться.\n",
        "\n",
        "dataset_part3_students.csv"
      ]
    },
    {
      "cell_type": "code",
      "metadata": {
        "colab": {
          "base_uri": "https://localhost:8080/",
          "height": 224
        },
        "id": "8krm0NxJq3sf",
        "outputId": "3c479ca2-b4e0-41ae-b5f3-8bd7634b2bda"
      },
      "source": [
        "df_3.head()"
      ],
      "execution_count": null,
      "outputs": [
        {
          "output_type": "execute_result",
          "data": {
            "text/html": [
              "<div>\n",
              "<style scoped>\n",
              "    .dataframe tbody tr th:only-of-type {\n",
              "        vertical-align: middle;\n",
              "    }\n",
              "\n",
              "    .dataframe tbody tr th {\n",
              "        vertical-align: top;\n",
              "    }\n",
              "\n",
              "    .dataframe thead th {\n",
              "        text-align: right;\n",
              "    }\n",
              "</style>\n",
              "<table border=\"1\" class=\"dataframe\">\n",
              "  <thead>\n",
              "    <tr style=\"text-align: right;\">\n",
              "      <th></th>\n",
              "      <th>treatment</th>\n",
              "      <th>X_1</th>\n",
              "      <th>X_2</th>\n",
              "      <th>X_3</th>\n",
              "      <th>X_4</th>\n",
              "      <th>X_5</th>\n",
              "      <th>X_6</th>\n",
              "      <th>X_7</th>\n",
              "      <th>X_8</th>\n",
              "      <th>X_9</th>\n",
              "      <th>X_10</th>\n",
              "      <th>X_11</th>\n",
              "      <th>X_12</th>\n",
              "      <th>X_13</th>\n",
              "      <th>X_14</th>\n",
              "      <th>X_15</th>\n",
              "      <th>X_16</th>\n",
              "      <th>X_17</th>\n",
              "      <th>X_18</th>\n",
              "      <th>X_19</th>\n",
              "      <th>X_20</th>\n",
              "      <th>X_21</th>\n",
              "      <th>X_22</th>\n",
              "      <th>conversion</th>\n",
              "    </tr>\n",
              "  </thead>\n",
              "  <tbody>\n",
              "    <tr>\n",
              "      <th>0</th>\n",
              "      <td>control</td>\n",
              "      <td>0.034351</td>\n",
              "      <td>0.550725</td>\n",
              "      <td>-1.348524</td>\n",
              "      <td>-0.029591</td>\n",
              "      <td>0.499535</td>\n",
              "      <td>-0.412464</td>\n",
              "      <td>0.933588</td>\n",
              "      <td>-0.522954</td>\n",
              "      <td>-0.029591</td>\n",
              "      <td>-0.807218</td>\n",
              "      <td>1.318646</td>\n",
              "      <td>-0.065262</td>\n",
              "      <td>-0.956947</td>\n",
              "      <td>-0.314573</td>\n",
              "      <td>-0.879456</td>\n",
              "      <td>0.640264</td>\n",
              "      <td>1.165722</td>\n",
              "      <td>0.570495</td>\n",
              "      <td>0.529443</td>\n",
              "      <td>0.227962</td>\n",
              "      <td>1.929914</td>\n",
              "      <td>0.798664</td>\n",
              "      <td>0</td>\n",
              "    </tr>\n",
              "    <tr>\n",
              "      <th>1</th>\n",
              "      <td>control</td>\n",
              "      <td>-1.059404</td>\n",
              "      <td>0.299404</td>\n",
              "      <td>0.220273</td>\n",
              "      <td>-1.569660</td>\n",
              "      <td>1.084204</td>\n",
              "      <td>-2.167118</td>\n",
              "      <td>1.216469</td>\n",
              "      <td>-0.744547</td>\n",
              "      <td>-1.569660</td>\n",
              "      <td>-0.460971</td>\n",
              "      <td>-1.396720</td>\n",
              "      <td>0.600044</td>\n",
              "      <td>1.000000</td>\n",
              "      <td>0.303664</td>\n",
              "      <td>1.080643</td>\n",
              "      <td>2.646483</td>\n",
              "      <td>-0.329690</td>\n",
              "      <td>1.725636</td>\n",
              "      <td>1.434649</td>\n",
              "      <td>-2.064893</td>\n",
              "      <td>0.188000</td>\n",
              "      <td>-1.134651</td>\n",
              "      <td>0</td>\n",
              "    </tr>\n",
              "    <tr>\n",
              "      <th>2</th>\n",
              "      <td>control</td>\n",
              "      <td>0.051934</td>\n",
              "      <td>2.338729</td>\n",
              "      <td>-0.341017</td>\n",
              "      <td>-1.099362</td>\n",
              "      <td>0.693090</td>\n",
              "      <td>-2.424267</td>\n",
              "      <td>1.572066</td>\n",
              "      <td>-0.212798</td>\n",
              "      <td>-1.099362</td>\n",
              "      <td>-1.430502</td>\n",
              "      <td>0.469694</td>\n",
              "      <td>1.251940</td>\n",
              "      <td>0.943003</td>\n",
              "      <td>-0.083721</td>\n",
              "      <td>-1.981712</td>\n",
              "      <td>0.224777</td>\n",
              "      <td>2.038004</td>\n",
              "      <td>2.516398</td>\n",
              "      <td>2.324280</td>\n",
              "      <td>-3.182196</td>\n",
              "      <td>-0.888490</td>\n",
              "      <td>-1.402561</td>\n",
              "      <td>0</td>\n",
              "    </tr>\n",
              "    <tr>\n",
              "      <th>3</th>\n",
              "      <td>treatment</td>\n",
              "      <td>0.667770</td>\n",
              "      <td>0.539316</td>\n",
              "      <td>0.468719</td>\n",
              "      <td>-0.840885</td>\n",
              "      <td>-0.708331</td>\n",
              "      <td>0.126634</td>\n",
              "      <td>1.275854</td>\n",
              "      <td>-0.954919</td>\n",
              "      <td>-0.840885</td>\n",
              "      <td>0.408691</td>\n",
              "      <td>-0.422736</td>\n",
              "      <td>-1.593407</td>\n",
              "      <td>0.247038</td>\n",
              "      <td>-0.752011</td>\n",
              "      <td>-0.347319</td>\n",
              "      <td>-1.659402</td>\n",
              "      <td>-0.871980</td>\n",
              "      <td>-0.893513</td>\n",
              "      <td>-0.658078</td>\n",
              "      <td>-2.704997</td>\n",
              "      <td>-0.390745</td>\n",
              "      <td>-1.578004</td>\n",
              "      <td>1</td>\n",
              "    </tr>\n",
              "    <tr>\n",
              "      <th>4</th>\n",
              "      <td>control</td>\n",
              "      <td>-1.416158</td>\n",
              "      <td>2.486628</td>\n",
              "      <td>0.496402</td>\n",
              "      <td>-1.174618</td>\n",
              "      <td>2.738267</td>\n",
              "      <td>-4.756755</td>\n",
              "      <td>-0.180918</td>\n",
              "      <td>-1.281432</td>\n",
              "      <td>-1.174618</td>\n",
              "      <td>-0.243256</td>\n",
              "      <td>0.598662</td>\n",
              "      <td>0.750706</td>\n",
              "      <td>0.554053</td>\n",
              "      <td>-1.198151</td>\n",
              "      <td>-0.232961</td>\n",
              "      <td>0.948875</td>\n",
              "      <td>1.210523</td>\n",
              "      <td>1.536723</td>\n",
              "      <td>1.548610</td>\n",
              "      <td>-0.926435</td>\n",
              "      <td>0.972459</td>\n",
              "      <td>-0.711251</td>\n",
              "      <td>0</td>\n",
              "    </tr>\n",
              "  </tbody>\n",
              "</table>\n",
              "</div>"
            ],
            "text/plain": [
              "   treatment       X_1       X_2  ...      X_21      X_22  conversion\n",
              "0    control  0.034351  0.550725  ...  1.929914  0.798664           0\n",
              "1    control -1.059404  0.299404  ...  0.188000 -1.134651           0\n",
              "2    control  0.051934  2.338729  ... -0.888490 -1.402561           0\n",
              "3  treatment  0.667770  0.539316  ... -0.390745 -1.578004           1\n",
              "4    control -1.416158  2.486628  ...  0.972459 -0.711251           0\n",
              "\n",
              "[5 rows x 24 columns]"
            ]
          },
          "metadata": {
            "tags": []
          },
          "execution_count": 96
        }
      ]
    },
    {
      "cell_type": "code",
      "metadata": {
        "scrolled": false,
        "colab": {
          "base_uri": "https://localhost:8080/"
        },
        "id": "oMX8VmSIq3sf",
        "outputId": "cfa9b989-928f-4007-bad7-c879e0c5429e"
      },
      "source": [
        "df_3.info()"
      ],
      "execution_count": null,
      "outputs": [
        {
          "output_type": "stream",
          "text": [
            "<class 'pandas.core.frame.DataFrame'>\n",
            "RangeIndex: 200000 entries, 0 to 199999\n",
            "Data columns (total 24 columns):\n",
            " #   Column      Non-Null Count   Dtype  \n",
            "---  ------      --------------   -----  \n",
            " 0   treatment   200000 non-null  object \n",
            " 1   X_1         200000 non-null  float64\n",
            " 2   X_2         200000 non-null  float64\n",
            " 3   X_3         200000 non-null  float64\n",
            " 4   X_4         200000 non-null  float64\n",
            " 5   X_5         200000 non-null  float64\n",
            " 6   X_6         200000 non-null  float64\n",
            " 7   X_7         200000 non-null  float64\n",
            " 8   X_8         200000 non-null  float64\n",
            " 9   X_9         200000 non-null  float64\n",
            " 10  X_10        200000 non-null  float64\n",
            " 11  X_11        200000 non-null  float64\n",
            " 12  X_12        200000 non-null  float64\n",
            " 13  X_13        200000 non-null  float64\n",
            " 14  X_14        200000 non-null  float64\n",
            " 15  X_15        200000 non-null  float64\n",
            " 16  X_16        200000 non-null  float64\n",
            " 17  X_17        200000 non-null  float64\n",
            " 18  X_18        200000 non-null  float64\n",
            " 19  X_19        200000 non-null  float64\n",
            " 20  X_20        200000 non-null  float64\n",
            " 21  X_21        200000 non-null  float64\n",
            " 22  X_22        200000 non-null  float64\n",
            " 23  conversion  200000 non-null  int64  \n",
            "dtypes: float64(22), int64(1), object(1)\n",
            "memory usage: 36.6+ MB\n"
          ],
          "name": "stdout"
        }
      ]
    },
    {
      "cell_type": "code",
      "metadata": {
        "colab": {
          "base_uri": "https://localhost:8080/",
          "height": 317
        },
        "id": "H9bhyWreq3sg",
        "outputId": "dae97517-6032-4b03-95a4-63ede2b6cf98"
      },
      "source": [
        "df_3.describe()"
      ],
      "execution_count": null,
      "outputs": [
        {
          "output_type": "execute_result",
          "data": {
            "text/html": [
              "<div>\n",
              "<style scoped>\n",
              "    .dataframe tbody tr th:only-of-type {\n",
              "        vertical-align: middle;\n",
              "    }\n",
              "\n",
              "    .dataframe tbody tr th {\n",
              "        vertical-align: top;\n",
              "    }\n",
              "\n",
              "    .dataframe thead th {\n",
              "        text-align: right;\n",
              "    }\n",
              "</style>\n",
              "<table border=\"1\" class=\"dataframe\">\n",
              "  <thead>\n",
              "    <tr style=\"text-align: right;\">\n",
              "      <th></th>\n",
              "      <th>X_1</th>\n",
              "      <th>X_2</th>\n",
              "      <th>X_3</th>\n",
              "      <th>X_4</th>\n",
              "      <th>X_5</th>\n",
              "      <th>X_6</th>\n",
              "      <th>X_7</th>\n",
              "      <th>X_8</th>\n",
              "      <th>X_9</th>\n",
              "      <th>X_10</th>\n",
              "      <th>X_11</th>\n",
              "      <th>X_12</th>\n",
              "      <th>X_13</th>\n",
              "      <th>X_14</th>\n",
              "      <th>X_15</th>\n",
              "      <th>X_16</th>\n",
              "      <th>X_17</th>\n",
              "      <th>X_18</th>\n",
              "      <th>X_19</th>\n",
              "      <th>X_20</th>\n",
              "      <th>X_21</th>\n",
              "      <th>X_22</th>\n",
              "      <th>conversion</th>\n",
              "    </tr>\n",
              "  </thead>\n",
              "  <tbody>\n",
              "    <tr>\n",
              "      <th>count</th>\n",
              "      <td>200000.000000</td>\n",
              "      <td>200000.000000</td>\n",
              "      <td>200000.000000</td>\n",
              "      <td>200000.000000</td>\n",
              "      <td>200000.000000</td>\n",
              "      <td>200000.000000</td>\n",
              "      <td>200000.000000</td>\n",
              "      <td>200000.000000</td>\n",
              "      <td>200000.000000</td>\n",
              "      <td>200000.000000</td>\n",
              "      <td>200000.000000</td>\n",
              "      <td>200000.000000</td>\n",
              "      <td>200000.000000</td>\n",
              "      <td>200000.000000</td>\n",
              "      <td>200000.000000</td>\n",
              "      <td>200000.000000</td>\n",
              "      <td>200000.000000</td>\n",
              "      <td>200000.000000</td>\n",
              "      <td>200000.000000</td>\n",
              "      <td>200000.000000</td>\n",
              "      <td>200000.000000</td>\n",
              "      <td>200000.000000</td>\n",
              "      <td>200000.000000</td>\n",
              "    </tr>\n",
              "    <tr>\n",
              "      <th>mean</th>\n",
              "      <td>-0.366881</td>\n",
              "      <td>1.000991</td>\n",
              "      <td>0.001935</td>\n",
              "      <td>-0.756540</td>\n",
              "      <td>1.000084</td>\n",
              "      <td>-1.667107</td>\n",
              "      <td>1.000705</td>\n",
              "      <td>-0.000710</td>\n",
              "      <td>-0.756540</td>\n",
              "      <td>0.005147</td>\n",
              "      <td>-0.001179</td>\n",
              "      <td>0.001210</td>\n",
              "      <td>0.000445</td>\n",
              "      <td>0.000694</td>\n",
              "      <td>-0.001166</td>\n",
              "      <td>0.730801</td>\n",
              "      <td>0.724893</td>\n",
              "      <td>0.729323</td>\n",
              "      <td>0.713093</td>\n",
              "      <td>-0.454716</td>\n",
              "      <td>0.454133</td>\n",
              "      <td>-0.226181</td>\n",
              "      <td>0.152935</td>\n",
              "    </tr>\n",
              "    <tr>\n",
              "      <th>std</th>\n",
              "      <td>0.747049</td>\n",
              "      <td>1.260868</td>\n",
              "      <td>1.004051</td>\n",
              "      <td>1.374899</td>\n",
              "      <td>1.244811</td>\n",
              "      <td>2.063263</td>\n",
              "      <td>1.040636</td>\n",
              "      <td>0.999507</td>\n",
              "      <td>1.374899</td>\n",
              "      <td>1.001864</td>\n",
              "      <td>1.001020</td>\n",
              "      <td>1.002052</td>\n",
              "      <td>1.000733</td>\n",
              "      <td>0.997000</td>\n",
              "      <td>0.999781</td>\n",
              "      <td>1.295677</td>\n",
              "      <td>1.156846</td>\n",
              "      <td>1.376184</td>\n",
              "      <td>1.125988</td>\n",
              "      <td>1.454906</td>\n",
              "      <td>1.343870</td>\n",
              "      <td>0.882719</td>\n",
              "      <td>0.359926</td>\n",
              "    </tr>\n",
              "    <tr>\n",
              "      <th>min</th>\n",
              "      <td>-4.260103</td>\n",
              "      <td>-4.369495</td>\n",
              "      <td>-4.670829</td>\n",
              "      <td>-5.754862</td>\n",
              "      <td>-5.983915</td>\n",
              "      <td>-10.220168</td>\n",
              "      <td>-4.166615</td>\n",
              "      <td>-4.227920</td>\n",
              "      <td>-5.754862</td>\n",
              "      <td>-4.777980</td>\n",
              "      <td>-4.546409</td>\n",
              "      <td>-4.445577</td>\n",
              "      <td>-4.550388</td>\n",
              "      <td>-4.528661</td>\n",
              "      <td>-4.401616</td>\n",
              "      <td>-5.578769</td>\n",
              "      <td>-5.638730</td>\n",
              "      <td>-4.638177</td>\n",
              "      <td>-3.808153</td>\n",
              "      <td>-6.811223</td>\n",
              "      <td>-4.291047</td>\n",
              "      <td>-4.069459</td>\n",
              "      <td>0.000000</td>\n",
              "    </tr>\n",
              "    <tr>\n",
              "      <th>25%</th>\n",
              "      <td>-0.862987</td>\n",
              "      <td>0.149688</td>\n",
              "      <td>-0.672525</td>\n",
              "      <td>-1.661703</td>\n",
              "      <td>0.167853</td>\n",
              "      <td>-3.060503</td>\n",
              "      <td>0.315748</td>\n",
              "      <td>-0.675240</td>\n",
              "      <td>-1.661703</td>\n",
              "      <td>-0.672295</td>\n",
              "      <td>-0.675308</td>\n",
              "      <td>-0.676829</td>\n",
              "      <td>-0.672417</td>\n",
              "      <td>-0.669325</td>\n",
              "      <td>-0.678250</td>\n",
              "      <td>-0.098053</td>\n",
              "      <td>0.104129</td>\n",
              "      <td>-0.228769</td>\n",
              "      <td>-0.067630</td>\n",
              "      <td>-1.525196</td>\n",
              "      <td>-0.547735</td>\n",
              "      <td>-0.837005</td>\n",
              "      <td>0.000000</td>\n",
              "    </tr>\n",
              "    <tr>\n",
              "      <th>50%</th>\n",
              "      <td>-0.373147</td>\n",
              "      <td>0.999645</td>\n",
              "      <td>0.005157</td>\n",
              "      <td>-0.864479</td>\n",
              "      <td>1.001572</td>\n",
              "      <td>-1.686846</td>\n",
              "      <td>0.999920</td>\n",
              "      <td>-0.001920</td>\n",
              "      <td>-0.864479</td>\n",
              "      <td>0.007714</td>\n",
              "      <td>0.000699</td>\n",
              "      <td>0.001778</td>\n",
              "      <td>0.001085</td>\n",
              "      <td>-0.002532</td>\n",
              "      <td>-0.000079</td>\n",
              "      <td>0.800327</td>\n",
              "      <td>0.839588</td>\n",
              "      <td>0.764489</td>\n",
              "      <td>0.740424</td>\n",
              "      <td>-0.372879</td>\n",
              "      <td>0.506115</td>\n",
              "      <td>-0.193615</td>\n",
              "      <td>0.000000</td>\n",
              "    </tr>\n",
              "    <tr>\n",
              "      <th>75%</th>\n",
              "      <td>0.120436</td>\n",
              "      <td>1.851332</td>\n",
              "      <td>0.680293</td>\n",
              "      <td>-0.012428</td>\n",
              "      <td>1.832482</td>\n",
              "      <td>-0.296865</td>\n",
              "      <td>1.682196</td>\n",
              "      <td>0.671658</td>\n",
              "      <td>-0.012428</td>\n",
              "      <td>0.678861</td>\n",
              "      <td>0.675092</td>\n",
              "      <td>0.677818</td>\n",
              "      <td>0.676277</td>\n",
              "      <td>0.671813</td>\n",
              "      <td>0.670672</td>\n",
              "      <td>1.620866</td>\n",
              "      <td>1.500485</td>\n",
              "      <td>1.686777</td>\n",
              "      <td>1.495407</td>\n",
              "      <td>0.747596</td>\n",
              "      <td>1.431963</td>\n",
              "      <td>0.411282</td>\n",
              "      <td>0.000000</td>\n",
              "    </tr>\n",
              "    <tr>\n",
              "      <th>max</th>\n",
              "      <td>4.121888</td>\n",
              "      <td>6.726024</td>\n",
              "      <td>4.976332</td>\n",
              "      <td>9.593777</td>\n",
              "      <td>6.820825</td>\n",
              "      <td>9.094394</td>\n",
              "      <td>7.081333</td>\n",
              "      <td>5.439752</td>\n",
              "      <td>9.593777</td>\n",
              "      <td>4.325225</td>\n",
              "      <td>4.957473</td>\n",
              "      <td>4.247420</td>\n",
              "      <td>4.873599</td>\n",
              "      <td>4.482854</td>\n",
              "      <td>5.125249</td>\n",
              "      <td>5.660769</td>\n",
              "      <td>4.982925</td>\n",
              "      <td>6.418469</td>\n",
              "      <td>5.431105</td>\n",
              "      <td>5.147421</td>\n",
              "      <td>6.085848</td>\n",
              "      <td>3.196679</td>\n",
              "      <td>1.000000</td>\n",
              "    </tr>\n",
              "  </tbody>\n",
              "</table>\n",
              "</div>"
            ],
            "text/plain": [
              "                 X_1            X_2  ...           X_22     conversion\n",
              "count  200000.000000  200000.000000  ...  200000.000000  200000.000000\n",
              "mean       -0.366881       1.000991  ...      -0.226181       0.152935\n",
              "std         0.747049       1.260868  ...       0.882719       0.359926\n",
              "min        -4.260103      -4.369495  ...      -4.069459       0.000000\n",
              "25%        -0.862987       0.149688  ...      -0.837005       0.000000\n",
              "50%        -0.373147       0.999645  ...      -0.193615       0.000000\n",
              "75%         0.120436       1.851332  ...       0.411282       0.000000\n",
              "max         4.121888       6.726024  ...       3.196679       1.000000\n",
              "\n",
              "[8 rows x 23 columns]"
            ]
          },
          "metadata": {
            "tags": []
          },
          "execution_count": 98
        }
      ]
    },
    {
      "cell_type": "markdown",
      "metadata": {
        "id": "xWBfmjmoq3sg"
      },
      "source": [
        "#### Проверка независимости treatment от других объектов\n",
        "\n",
        "Для этого построим классификатор. Если хороший классификатор не удается построить, значит, выборки хорошо разделены. "
      ]
    },
    {
      "cell_type": "code",
      "metadata": {
        "id": "ejExgdjbq3sh"
      },
      "source": [
        "y = df_3['treatment']\n",
        "X = df_3.drop(['treatment', 'conversion'], axis=1)"
      ],
      "execution_count": null,
      "outputs": []
    },
    {
      "cell_type": "code",
      "metadata": {
        "colab": {
          "base_uri": "https://localhost:8080/"
        },
        "id": "Jcv4ol8hq3sh",
        "outputId": "4250d872-a492-45b2-d6e3-e1cf41f18cb3"
      },
      "source": [
        "clf = SGDClassifier()\n",
        "print(f'Accuracy: {np.mean(cross_val_score(clf, X, y, scoring=\"accuracy\"))}')\n",
        "print(f'ROC-AUC: {np.mean(cross_val_score(clf, X, y, scoring=\"roc_auc\"))}')"
      ],
      "execution_count": null,
      "outputs": [
        {
          "output_type": "stream",
          "text": [
            "Accuracy: 0.49879999999999997\n",
            "ROC-AUC: 0.49948269000000006\n"
          ],
          "name": "stdout"
        }
      ]
    },
    {
      "cell_type": "code",
      "metadata": {
        "colab": {
          "base_uri": "https://localhost:8080/",
          "height": 841
        },
        "id": "87vW6v_lq3si",
        "outputId": "38399c09-1476-45ad-858c-8263f13943a9"
      },
      "source": [
        "plt.figure(figsize=(15, 12))\n",
        "sns.heatmap(df_3.corr(), \n",
        "            annot=True, \n",
        "            linewidths=0.5, \n",
        "            fmt= \".2f\",\n",
        "            annot_kws={'fontsize': 12})\n",
        "plt.xticks(rotation=45)\n",
        "plt.yticks(rotation=45)\n",
        "plt.title('Матрица корреляции\\n');"
      ],
      "execution_count": null,
      "outputs": [
        {
          "output_type": "display_data",
          "data": {
            "image/png": "[encoded data removed]",
            "text/plain": [
              "<Figure size 1080x864 with 2 Axes>"
            ]
          },
          "metadata": {
            "tags": []
          }
        }
      ]
    },
    {
      "cell_type": "markdown",
      "metadata": {
        "id": "bHDvvx-5q3si"
      },
      "source": [
        "Коррелированные (высокая степень) признаки присутствуют."
      ]
    },
    {
      "cell_type": "code",
      "metadata": {
        "scrolled": true,
        "colab": {
          "base_uri": "https://localhost:8080/"
        },
        "id": "IYoX__Uhq3sj",
        "outputId": "2ef35430-316a-4299-ea82-0ff44368a553"
      },
      "source": [
        "df_3.treatment.value_counts()"
      ],
      "execution_count": null,
      "outputs": [
        {
          "output_type": "execute_result",
          "data": {
            "text/plain": [
              "control      100000\n",
              "treatment    100000\n",
              "Name: treatment, dtype: int64"
            ]
          },
          "metadata": {
            "tags": []
          },
          "execution_count": 102
        }
      ]
    },
    {
      "cell_type": "markdown",
      "metadata": {
        "id": "dLhFYTOWq3sk"
      },
      "source": [
        "Классы сбалансированы."
      ]
    },
    {
      "cell_type": "markdown",
      "metadata": {
        "id": "K4yXM1YQq3sk"
      },
      "source": [
        "**Вывод:** хороший классификатор не удалось построить, а значит, эксперимент можно считать рандомизированным."
      ]
    },
    {
      "cell_type": "markdown",
      "metadata": {
        "id": "UXUxgQANq3sl"
      },
      "source": [
        "#### Оценка ATE по данным"
      ]
    },
    {
      "cell_type": "code",
      "metadata": {
        "id": "qRnWmWTdq3sn"
      },
      "source": [
        "control = df_3[df_3.treatment == 'control'].conversion\n",
        "treatment = df_3[df_3.treatment == 'treatment'].conversion"
      ],
      "execution_count": null,
      "outputs": []
    },
    {
      "cell_type": "markdown",
      "metadata": {
        "id": "fchzIJR-q3sn"
      },
      "source": [
        "Так как эксперимент можно считать рандомизированным, то можно рассчитать $\\tau_{ATE}$ так:"
      ]
    },
    {
      "cell_type": "code",
      "metadata": {
        "colab": {
          "base_uri": "https://localhost:8080/"
        },
        "id": "LpS-roidq3so",
        "outputId": "9af505ed-b73e-4689-c0ed-ed2eb65140c4"
      },
      "source": [
        "ate_naive = treatment.mean() - control.mean() \n",
        "print(f'ATE_naive: {ate_naive}')"
      ],
      "execution_count": null,
      "outputs": [
        {
          "output_type": "stream",
          "text": [
            "ATE_naive: 0.05907\n"
          ],
          "name": "stdout"
        }
      ]
    },
    {
      "cell_type": "markdown",
      "metadata": {
        "id": "Fw9H6ECyq3so"
      },
      "source": [
        "Также можно рассчитать и методом регрессии:"
      ]
    },
    {
      "cell_type": "code",
      "metadata": {
        "id": "IGUQkGo_q3sp"
      },
      "source": [
        "y = df_3.conversion\n",
        "X = df_3.drop(['treatment', 'conversion'], axis=1)\n",
        "treatment = df_3.treatment"
      ],
      "execution_count": null,
      "outputs": []
    },
    {
      "cell_type": "code",
      "metadata": {
        "id": "pPHV_vmQq3sp"
      },
      "source": [
        "lrsr = LRSRegressor(control_name='control')"
      ],
      "execution_count": null,
      "outputs": []
    },
    {
      "cell_type": "code",
      "metadata": {
        "id": "8sJrexJfq3sq"
      },
      "source": [
        "ate, lb, ub = lrsr.estimate_ate(X, treatment, y)"
      ],
      "execution_count": null,
      "outputs": []
    },
    {
      "cell_type": "code",
      "metadata": {
        "colab": {
          "base_uri": "https://localhost:8080/"
        },
        "id": "u1ntuyseq3sq",
        "outputId": "dbcf74ea-58fc-4d26-f69d-59fa2e57b1e5"
      },
      "source": [
        "print(f'ATE_regr: {ate[0]},\\nconfidence interval: [{round(lb[0], 3)}, {round(ub[0], 3)}]')"
      ],
      "execution_count": null,
      "outputs": [
        {
          "output_type": "stream",
          "text": [
            "ATE_regr: 0.06024252397448881,\n",
            "confidence interval: [0.058, 0.063]\n"
          ],
          "name": "stdout"
        }
      ]
    },
    {
      "cell_type": "markdown",
      "metadata": {
        "id": "l5-wmAVPq3sr"
      },
      "source": [
        "#### Оценка CATE для каждого наблюдения"
      ]
    },
    {
      "cell_type": "markdown",
      "metadata": {
        "id": "6Tqull-Lq3sr"
      },
      "source": [
        "#### S-Learner"
      ]
    },
    {
      "cell_type": "code",
      "metadata": {
        "id": "N1sA9uSiq3sr"
      },
      "source": [
        "slearner = BaseSRegressor(learner=LGBMRegressor(), control_name='control')\n",
        "slearner_tau = slearner.fit_predict(X=X, treatment=treatment, y=y)"
      ],
      "execution_count": null,
      "outputs": []
    },
    {
      "cell_type": "code",
      "metadata": {
        "colab": {
          "base_uri": "https://localhost:8080/"
        },
        "id": "TxHNhLCbq3ss",
        "outputId": "c44702fb-bb64-4cfe-a6d5-d8ca40bbcc94"
      },
      "source": [
        "slearner_tau"
      ],
      "execution_count": null,
      "outputs": [
        {
          "output_type": "execute_result",
          "data": {
            "text/plain": [
              "array([[ 0.00823286],\n",
              "       [-0.01387564],\n",
              "       [ 0.00572399],\n",
              "       ...,\n",
              "       [-0.03531382],\n",
              "       [-0.02345746],\n",
              "       [-0.01263931]])"
            ]
          },
          "metadata": {
            "tags": []
          },
          "execution_count": 110
        }
      ]
    },
    {
      "cell_type": "markdown",
      "metadata": {
        "id": "RVTcgNkfq3st"
      },
      "source": [
        "#### T-Learner"
      ]
    },
    {
      "cell_type": "code",
      "metadata": {
        "id": "J0ZdKasfq3su"
      },
      "source": [
        "tlearner = BaseTRegressor(learner=LGBMRegressor(), control_name='control')\n",
        "tlearner_tau = tlearner.fit_predict(X=X, treatment=treatment, y=y)"
      ],
      "execution_count": null,
      "outputs": []
    },
    {
      "cell_type": "code",
      "metadata": {
        "colab": {
          "base_uri": "https://localhost:8080/"
        },
        "id": "shliGljwq3su",
        "outputId": "aff6cb08-6302-4f7e-82ca-efd59fbcf558"
      },
      "source": [
        "tlearner_tau"
      ],
      "execution_count": null,
      "outputs": [
        {
          "output_type": "execute_result",
          "data": {
            "text/plain": [
              "array([[ 0.03342534],\n",
              "       [ 0.01486357],\n",
              "       [ 0.00589053],\n",
              "       ...,\n",
              "       [-0.02443826],\n",
              "       [-0.02763914],\n",
              "       [-0.02968764]])"
            ]
          },
          "metadata": {
            "tags": []
          },
          "execution_count": 112
        }
      ]
    },
    {
      "cell_type": "markdown",
      "metadata": {
        "id": "4AZtEsXgq3sv"
      },
      "source": [
        "#### X-Learner"
      ]
    },
    {
      "cell_type": "code",
      "metadata": {
        "colab": {
          "base_uri": "https://localhost:8080/"
        },
        "id": "n8eCYX1Bq3sv",
        "outputId": "e267e713-844f-466e-fa4d-0b8431cd6515"
      },
      "source": [
        "xlearner = BaseXRegressor(learner=LGBMRegressor(), control_name='control')\n",
        "xlearner_tau = xlearner.fit_predict(X=X, treatment=treatment, y=y)"
      ],
      "execution_count": null,
      "outputs": [
        {
          "output_type": "stream",
          "text": [
            "The max_iter was reached which means the coef_ did not converge\n",
            "The max_iter was reached which means the coef_ did not converge\n",
            "The max_iter was reached which means the coef_ did not converge\n",
            "The max_iter was reached which means the coef_ did not converge\n",
            "The max_iter was reached which means the coef_ did not converge\n",
            "The max_iter was reached which means the coef_ did not converge\n",
            "The max_iter was reached which means the coef_ did not converge\n"
          ],
          "name": "stderr"
        }
      ]
    },
    {
      "cell_type": "code",
      "metadata": {
        "colab": {
          "base_uri": "https://localhost:8080/"
        },
        "id": "QtMz9bdQq3sw",
        "outputId": "90a8a701-632c-4d4a-f57f-d9642a5b7865"
      },
      "source": [
        "xlearner_tau"
      ],
      "execution_count": null,
      "outputs": [
        {
          "output_type": "execute_result",
          "data": {
            "text/plain": [
              "array([[ 0.02042093],\n",
              "       [ 0.01452562],\n",
              "       [ 0.01555976],\n",
              "       ...,\n",
              "       [-0.01488617],\n",
              "       [-0.01508615],\n",
              "       [-0.01577335]])"
            ]
          },
          "metadata": {
            "tags": []
          },
          "execution_count": 114
        }
      ]
    },
    {
      "cell_type": "markdown",
      "metadata": {
        "id": "2uCF8WKRq3sx"
      },
      "source": [
        "#### Рекомендации к воздействию на каждый объект"
      ]
    },
    {
      "cell_type": "markdown",
      "metadata": {
        "id": "nKXL5BJyq3sx"
      },
      "source": [
        "Выделим группы **persuadables** при **S-, L-, X-Learner**, на объекты которых и будем совершать воздействие. Пусть их **CATE** $\\ge 0.2$."
      ]
    },
    {
      "cell_type": "code",
      "metadata": {
        "id": "hkGBlzaNq3sy"
      },
      "source": [
        "cate_s, cate_t, cate_x = pd.Series(slearner_tau[:, 0]),\\\n",
        "                         pd.Series(tlearner_tau[:, 0]),\\\n",
        "                         pd.Series(xlearner_tau[:, 0])"
      ],
      "execution_count": null,
      "outputs": []
    },
    {
      "cell_type": "code",
      "metadata": {
        "id": "aWDGIbsnq3sy"
      },
      "source": [
        "recs_s = cate_s.copy()\n",
        "recs_s[recs_s >= 0.2] = 1\n",
        "recs_s[recs_s != 1] = 0"
      ],
      "execution_count": null,
      "outputs": []
    },
    {
      "cell_type": "code",
      "metadata": {
        "id": "RWpJ74rLq3sy"
      },
      "source": [
        "recs_t = cate_t.copy()\n",
        "recs_t[recs_t >= 0.2] = 1\n",
        "recs_t[recs_t != 1] = 0"
      ],
      "execution_count": null,
      "outputs": []
    },
    {
      "cell_type": "code",
      "metadata": {
        "id": "FXOy07kpq3sz"
      },
      "source": [
        "recs_x = cate_x.copy()\n",
        "recs_x[recs_x >= 0.2] = 1\n",
        "recs_x[recs_x != 1] = 0"
      ],
      "execution_count": null,
      "outputs": []
    },
    {
      "cell_type": "code",
      "metadata": {
        "id": "IJxA_cdbq3sz"
      },
      "source": [
        "uplift = pd.DataFrame({'cate_s': cate_s,\n",
        "                       'recs_s': recs_s,\n",
        "                       'cate_t': cate_t,\n",
        "                       'recs_t': recs_t,\n",
        "                       'cate_x': cate_x,\n",
        "                       'recs_x': recs_x})"
      ],
      "execution_count": null,
      "outputs": []
    },
    {
      "cell_type": "code",
      "metadata": {
        "scrolled": true,
        "colab": {
          "base_uri": "https://localhost:8080/"
        },
        "id": "1vc0BHK_q3s0",
        "outputId": "ca78f681-d6b1-4df5-f333-259716cfc689"
      },
      "source": [
        "uplift.recs_s.value_counts()"
      ],
      "execution_count": null,
      "outputs": [
        {
          "output_type": "execute_result",
          "data": {
            "text/plain": [
              "0.0    180681\n",
              "1.0     19319\n",
              "Name: recs_s, dtype: int64"
            ]
          },
          "metadata": {
            "tags": []
          },
          "execution_count": 120
        }
      ]
    },
    {
      "cell_type": "code",
      "metadata": {
        "colab": {
          "base_uri": "https://localhost:8080/"
        },
        "id": "P89OvoAEq3s1",
        "outputId": "39401ceb-1876-4643-c824-9fcfeed6223a"
      },
      "source": [
        "uplift.recs_t.value_counts()"
      ],
      "execution_count": null,
      "outputs": [
        {
          "output_type": "execute_result",
          "data": {
            "text/plain": [
              "0.0    180107\n",
              "1.0     19893\n",
              "Name: recs_t, dtype: int64"
            ]
          },
          "metadata": {
            "tags": []
          },
          "execution_count": 121
        }
      ]
    },
    {
      "cell_type": "code",
      "metadata": {
        "colab": {
          "base_uri": "https://localhost:8080/"
        },
        "id": "_4EWep7sq3s2",
        "outputId": "9108b84c-6915-4787-ee38-906be135f80f"
      },
      "source": [
        "uplift.recs_x.value_counts()"
      ],
      "execution_count": null,
      "outputs": [
        {
          "output_type": "execute_result",
          "data": {
            "text/plain": [
              "0.0    180617\n",
              "1.0     19383\n",
              "Name: recs_x, dtype: int64"
            ]
          },
          "metadata": {
            "tags": []
          },
          "execution_count": 122
        }
      ]
    },
    {
      "cell_type": "code",
      "metadata": {
        "colab": {
          "base_uri": "https://localhost:8080/"
        },
        "id": "cTm-UtaUq3s2",
        "outputId": "e9588a5e-5d75-4318-fb89-80ea4a0544c8"
      },
      "source": [
        "print(f'Число persuadables при S-Learner: {uplift[uplift.recs_s == 1].recs_s.count()}')\n",
        "print(f'Число persuadables при T-Learner: {uplift[uplift.recs_t == 1].recs_t.count()}')\n",
        "print(f'Число persuadables при X-Learner: {uplift[uplift.recs_x == 1].recs_x.count()}')"
      ],
      "execution_count": null,
      "outputs": [
        {
          "output_type": "stream",
          "text": [
            "Число persuadables при S-Learner: 19319\n",
            "Число persuadables при T-Learner: 19893\n",
            "Число persuadables при X-Learner: 19383\n"
          ],
          "name": "stdout"
        }
      ]
    },
    {
      "cell_type": "markdown",
      "metadata": {
        "id": "Sbb5_TPdq3s3"
      },
      "source": [
        "#### Ожидаемая конверсия при оптимальном воздействии"
      ]
    },
    {
      "cell_type": "code",
      "metadata": {
        "id": "HaFobd5yq3s3"
      },
      "source": [
        "conversion = df_3[df_3['conversion'] == 1].shape[0] / df_3.shape[0] "
      ],
      "execution_count": null,
      "outputs": []
    },
    {
      "cell_type": "code",
      "metadata": {
        "colab": {
          "base_uri": "https://localhost:8080/"
        },
        "id": "hLub9hHuq3s4",
        "outputId": "1e920dc5-f7c2-4eac-c9c5-58cb42c68903"
      },
      "source": [
        "print(f'Конверсия до воздействия: {conversion}')"
      ],
      "execution_count": null,
      "outputs": [
        {
          "output_type": "stream",
          "text": [
            "Конверсия до воздействия: 0.152935\n"
          ],
          "name": "stdout"
        }
      ]
    },
    {
      "cell_type": "code",
      "metadata": {
        "id": "YDUE3Zytq3s5"
      },
      "source": [
        "exp_conversion_s = uplift[(uplift['recs_s'] == 1) & (df_3['conversion'] == 1)].shape[0] /\\\n",
        "    uplift[uplift['recs_s'] == 1].shape[0]\n",
        "exp_conversion_t = uplift[(uplift['recs_t'] == 1) & (df_3['conversion'] == 1)].shape[0] /\\\n",
        "    uplift[uplift['recs_t'] == 1].shape[0]\n",
        "exp_conversion_x = uplift[(uplift['recs_x'] == 1) & (df_3['conversion'] == 1)].shape[0] /\\\n",
        "    uplift[uplift['recs_x'] == 1].shape[0] "
      ],
      "execution_count": null,
      "outputs": []
    },
    {
      "cell_type": "code",
      "metadata": {
        "colab": {
          "base_uri": "https://localhost:8080/"
        },
        "id": "mGjRKzXBq3s5",
        "outputId": "a87dda5e-5b57-464c-c81a-50f20ad74d71"
      },
      "source": [
        "print(f'Конверсия при S-Learner: {exp_conversion_s}')\n",
        "print(f'Конверсия при T-Learner: {exp_conversion_t}')\n",
        "print(f'Конверсия при X-Learner: {exp_conversion_x}')"
      ],
      "execution_count": null,
      "outputs": [
        {
          "output_type": "stream",
          "text": [
            "Конверсия при S-Learner: 0.5232154873440654\n",
            "Конверсия при T-Learner: 0.5055044488010858\n",
            "Конверсия при X-Learner: 0.5266470618583294\n"
          ],
          "name": "stdout"
        }
      ]
    },
    {
      "cell_type": "markdown",
      "metadata": {
        "id": "Lt2YMfb4q3s8"
      },
      "source": [
        "Сравним ожидаемую конверсию при оптимальном воздействии и конверсию до начала воздействия:\n",
        "* $conversion_{before}$: 0.15\n",
        "* $conversion_{after}S$: 0.52\n",
        "* $conversion_{after}T$: 0.51\n",
        "* $conversion_{after}X$: 0.53\n",
        "\n",
        "Таким образом, конверсия выше при **uplift-моделировании**."
      ]
    },
    {
      "cell_type": "markdown",
      "metadata": {
        "id": "HLfycCkQq3s8"
      },
      "source": [
        "**Выводы:**\n",
        "* классы сбалансированы;\n",
        "* эксперимент является рандомизированным;\n",
        "* при оценке $\\tau_{ATE}$ были получены такие результаты при различных методах:\n",
        "    * $\\tau_{naive}$: 0.059\n",
        "    * $\\tau_{regr}$: 0.060\n",
        "* для каждого наблюдения с помощью **S-, T-, X-Learner** было найдено значение **CATE**;\n",
        "* по **CATE** были определены группы **persuadables** (их **CATE** $\\ge 0.2$), на которых нужно оказывать воздействие;\n",
        "* ожидаемая конверсия выше в случае **X-Learner**:\n",
        "    * $conversion_{after}S$: 0.52\n",
        "    * $conversion_{after}T$: 0.51\n",
        "    * $conversion_{after}X$: 0.53\n",
        "* конверсия выше при **uplift-моделировании** в случае **X-Learner**, чем конверсия до начала воздействия на 0.38."
      ]
    },
    {
      "cell_type": "code",
      "metadata": {
        "id": "V6mgUp4Vq3s9"
      },
      "source": [
        ""
      ],
      "execution_count": null,
      "outputs": []
    }
  ]
}